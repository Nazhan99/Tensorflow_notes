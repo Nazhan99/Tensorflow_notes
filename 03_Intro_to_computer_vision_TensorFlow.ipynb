{
  "nbformat": 4,
  "nbformat_minor": 0,
  "metadata": {
    "colab": {
      "name": "03. Intro to computer vision TensorFlow.ipynb",
      "provenance": [],
      "collapsed_sections": [],
      "authorship_tag": "ABX9TyNilkZE2tbR0QAq1t6hnkX4",
      "include_colab_link": true
    },
    "kernelspec": {
      "name": "python3",
      "display_name": "Python 3"
    },
    "language_info": {
      "name": "python"
    },
    "accelerator": "GPU"
  },
  "cells": [
    {
      "cell_type": "markdown",
      "metadata": {
        "id": "view-in-github",
        "colab_type": "text"
      },
      "source": [
        "<a href=\"https://colab.research.google.com/github/Nazhan99/Tensorflow_notes/blob/main/03_Intro_to_computer_vision_TensorFlow.ipynb\" target=\"_parent\"><img src=\"https://colab.research.google.com/assets/colab-badge.svg\" alt=\"Open In Colab\"/></a>"
      ]
    },
    {
      "cell_type": "markdown",
      "source": [
        "#Introduction to Convolution Neural Networks and Computer Vision with Tensor Flow"
      ],
      "metadata": {
        "id": "9PawehqiABdF"
      }
    },
    {
      "cell_type": "markdown",
      "source": [
        "## Get the data\n",
        "\n",
        "the images are from the Food101 dataset from kaggle (https://www.kaggle.com/dansbecker/food-101)\n",
        "\n",
        "the dataset has been modified using image data modification notebook (https://github.com/mrdbourke/tensorflow-deep-learning/blob/main/extras/image_data_modification.ipynb)\n",
        "\n"
      ],
      "metadata": {
        "id": "wpysDv11AUCl"
      }
    },
    {
      "cell_type": "code",
      "source": [
        "import zipfile\n",
        "\n",
        "!wget https://storage.googleapis.com/ztm_tf_course/food_vision/pizza_steak.zip\n",
        "\n",
        "#unzip the downloaded file\n",
        "zip_ref = zipfile.ZipFile(\"pizza_steak.zip\")\n",
        "zip_ref.extractall()\n",
        "zip_ref.close()"
      ],
      "metadata": {
        "colab": {
          "base_uri": "https://localhost:8080/"
        },
        "id": "6FlakvguAT4e",
        "outputId": "6811e64f-3ecb-4f5d-9481-b9ce1a8df942"
      },
      "execution_count": 1,
      "outputs": [
        {
          "output_type": "stream",
          "name": "stdout",
          "text": [
            "--2022-02-13 03:29:51--  https://storage.googleapis.com/ztm_tf_course/food_vision/pizza_steak.zip\n",
            "Resolving storage.googleapis.com (storage.googleapis.com)... 108.177.120.128, 142.251.6.128, 142.251.120.128, ...\n",
            "Connecting to storage.googleapis.com (storage.googleapis.com)|108.177.120.128|:443... connected.\n",
            "HTTP request sent, awaiting response... 200 OK\n",
            "Length: 109540975 (104M) [application/zip]\n",
            "Saving to: ‘pizza_steak.zip’\n",
            "\n",
            "pizza_steak.zip     100%[===================>] 104.47M   155MB/s    in 0.7s    \n",
            "\n",
            "2022-02-13 03:29:52 (155 MB/s) - ‘pizza_steak.zip’ saved [109540975/109540975]\n",
            "\n"
          ]
        }
      ]
    },
    {
      "cell_type": "markdown",
      "source": [
        "## Inspect the data (become one with it)\n",
        "\n",
        "visualizing many samples of the data"
      ],
      "metadata": {
        "id": "QPtrdYJzBNCg"
      }
    },
    {
      "cell_type": "code",
      "source": [
        "!ls pizza_steak"
      ],
      "metadata": {
        "colab": {
          "base_uri": "https://localhost:8080/"
        },
        "id": "FFnu-peHnwqL",
        "outputId": "87a89f97-7dec-4ec4-b767-62125647f692"
      },
      "execution_count": 2,
      "outputs": [
        {
          "output_type": "stream",
          "name": "stdout",
          "text": [
            "test  train\n"
          ]
        }
      ]
    },
    {
      "cell_type": "code",
      "source": [
        "!ls pizza_steak/train/"
      ],
      "metadata": {
        "colab": {
          "base_uri": "https://localhost:8080/"
        },
        "id": "8XTdZ4-Qnyhe",
        "outputId": "2836d062-c897-41ba-e36b-3d698407875d"
      },
      "execution_count": 3,
      "outputs": [
        {
          "output_type": "stream",
          "name": "stdout",
          "text": [
            "pizza  steak\n"
          ]
        }
      ]
    },
    {
      "cell_type": "code",
      "source": [
        "!ls pizza_steak/train/steak"
      ],
      "metadata": {
        "colab": {
          "base_uri": "https://localhost:8080/"
        },
        "id": "7IrEZAIan8DT",
        "outputId": "eebb9d85-14cc-42bb-a1be-e8318edaea2a"
      },
      "execution_count": 4,
      "outputs": [
        {
          "output_type": "stream",
          "name": "stdout",
          "text": [
            "1000205.jpg  1647351.jpg  2238681.jpg  2824680.jpg  3375959.jpg  417368.jpg\n",
            "100135.jpg   1650002.jpg  2238802.jpg  2825100.jpg  3381560.jpg  4176.jpg\n",
            "101312.jpg   165639.jpg   2254705.jpg  2826987.jpg  3382936.jpg  42125.jpg\n",
            "1021458.jpg  1658186.jpg  225990.jpg   2832499.jpg  3386119.jpg  421476.jpg\n",
            "1032846.jpg  1658443.jpg  2260231.jpg  2832960.jpg  3388717.jpg  421561.jpg\n",
            "10380.jpg    165964.jpg   2268692.jpg  285045.jpg   3389138.jpg  438871.jpg\n",
            "1049459.jpg  167069.jpg   2271133.jpg  285147.jpg   3393547.jpg  43924.jpg\n",
            "1053665.jpg  1675632.jpg  227576.jpg   2855315.jpg  3393688.jpg  440188.jpg\n",
            "1068516.jpg  1678108.jpg  2283057.jpg  2856066.jpg  3396589.jpg  442757.jpg\n",
            "1068975.jpg  168006.jpg   2286639.jpg  2859933.jpg  339891.jpg\t 443210.jpg\n",
            "1081258.jpg  1682496.jpg  2287136.jpg  286219.jpg   3417789.jpg  444064.jpg\n",
            "1090122.jpg  1684438.jpg  2291292.jpg  2862562.jpg  3425047.jpg  444709.jpg\n",
            "1093966.jpg  168775.jpg   229323.jpg   2865730.jpg  3434983.jpg  447557.jpg\n",
            "1098844.jpg  1697339.jpg  2300534.jpg  2878151.jpg  3435358.jpg  461187.jpg\n",
            "1100074.jpg  1710569.jpg  2300845.jpg  2880035.jpg  3438319.jpg  461689.jpg\n",
            "1105280.jpg  1714605.jpg  231296.jpg   2881783.jpg  3444407.jpg  465494.jpg\n",
            "1117936.jpg  1724387.jpg  2315295.jpg  2884233.jpg  345734.jpg\t 468384.jpg\n",
            "1126126.jpg  1724717.jpg  2323132.jpg  2890573.jpg  3460673.jpg  477486.jpg\n",
            "114601.jpg   172936.jpg   2324994.jpg  2893832.jpg  3465327.jpg  482022.jpg\n",
            "1147047.jpg  1736543.jpg  2327701.jpg  2893892.jpg  3466159.jpg  482465.jpg\n",
            "1147883.jpg  1736968.jpg  2331076.jpg  2907177.jpg  3469024.jpg  483788.jpg\n",
            "1155665.jpg  1746626.jpg  233964.jpg   290850.jpg   3470083.jpg  493029.jpg\n",
            "1163977.jpg  1752330.jpg  2344227.jpg  2909031.jpg  3476564.jpg  503589.jpg\n",
            "1190233.jpg  1761285.jpg  234626.jpg   2910418.jpg  3478318.jpg  510757.jpg\n",
            "1208405.jpg  176508.jpg   234704.jpg   2912290.jpg  3488748.jpg  513129.jpg\n",
            "1209120.jpg  1772039.jpg  2357281.jpg  2916448.jpg  3492328.jpg  513842.jpg\n",
            "1212161.jpg  1777107.jpg  2361812.jpg  2916967.jpg  3518960.jpg  523535.jpg\n",
            "1213988.jpg  1787505.jpg  2365287.jpg  2927833.jpg  3522209.jpg  525041.jpg\n",
            "1219039.jpg  179293.jpg   2374582.jpg  2928643.jpg  3524429.jpg  534560.jpg\n",
            "1225762.jpg  1816235.jpg  239025.jpg   2929179.jpg  3528458.jpg  534633.jpg\n",
            "1230968.jpg  1822407.jpg  2390628.jpg  2936477.jpg  3531805.jpg  536535.jpg\n",
            "1236155.jpg  1823263.jpg  2392910.jpg  2938012.jpg  3536023.jpg  541410.jpg\n",
            "1241193.jpg  1826066.jpg  2394465.jpg  2938151.jpg  3538682.jpg  543691.jpg\n",
            "1248337.jpg  1828502.jpg  2395127.jpg  2939678.jpg  3540750.jpg  560503.jpg\n",
            "1257104.jpg  1828969.jpg  2396291.jpg  2940544.jpg  354329.jpg\t 561972.jpg\n",
            "126345.jpg   1829045.jpg  2400975.jpg  2940621.jpg  3547166.jpg  56240.jpg\n",
            "1264050.jpg  1829088.jpg  2403776.jpg  2949079.jpg  3553911.jpg  56409.jpg\n",
            "1264154.jpg  1836332.jpg  2403907.jpg  295491.jpg   3556871.jpg  564530.jpg\n",
            "1264858.jpg  1839025.jpg  240435.jpg   296268.jpg   355715.jpg\t 568972.jpg\n",
            "127029.jpg   1839481.jpg  2404695.jpg  2964732.jpg  356234.jpg\t 576725.jpg\n",
            "1289900.jpg  183995.jpg   2404884.jpg  2965021.jpg  3571963.jpg  588739.jpg\n",
            "1290362.jpg  184110.jpg   2407770.jpg  2966859.jpg  3576078.jpg  590142.jpg\n",
            "1295457.jpg  184226.jpg   2412263.jpg  2977966.jpg  3577618.jpg  60633.jpg\n",
            "1312841.jpg  1846706.jpg  2425062.jpg  2979061.jpg  3577732.jpg  60655.jpg\n",
            "1313316.jpg  1849364.jpg  2425389.jpg  2983260.jpg  3578934.jpg  606820.jpg\n",
            "1324791.jpg  1849463.jpg  2435316.jpg  2984311.jpg  358042.jpg\t 612551.jpg\n",
            "1327567.jpg  1849542.jpg  2437268.jpg  2988960.jpg  358045.jpg\t 614975.jpg\n",
            "1327667.jpg  1853564.jpg  2437843.jpg  2989882.jpg  3591821.jpg  616809.jpg\n",
            "1333055.jpg  1869467.jpg  2440131.jpg  2995169.jpg  359330.jpg\t 628628.jpg\n",
            "1334054.jpg  1870942.jpg  2443168.jpg  2996324.jpg  3601483.jpg  632427.jpg\n",
            "1335556.jpg  187303.jpg   2446660.jpg  3000131.jpg  3606642.jpg  636594.jpg\n",
            "1337814.jpg  187521.jpg   2455944.jpg  3002350.jpg  3609394.jpg  637374.jpg\n",
            "1340977.jpg  1888450.jpg  2458401.jpg  3007772.jpg  361067.jpg\t 640539.jpg\n",
            "1343209.jpg  1889336.jpg  2487306.jpg  3008192.jpg  3613455.jpg  644777.jpg\n",
            "134369.jpg   1907039.jpg  248841.jpg   3009617.jpg  3621464.jpg  644867.jpg\n",
            "1344105.jpg  1925230.jpg  2489716.jpg  3011642.jpg  3621562.jpg  658189.jpg\n",
            "134598.jpg   1927984.jpg  2490489.jpg  3020591.jpg  3621565.jpg  660900.jpg\n",
            "1346387.jpg  1930577.jpg  2495884.jpg  3030578.jpg  3623556.jpg  663014.jpg\n",
            "1348047.jpg  1937872.jpg  2495903.jpg  3047807.jpg  3640915.jpg  664545.jpg\n",
            "1351372.jpg  1941807.jpg  2499364.jpg  3059843.jpg  3643951.jpg  667075.jpg\n",
            "1362989.jpg  1942333.jpg  2500292.jpg  3074367.jpg  3653129.jpg  669180.jpg\n",
            "1367035.jpg  1945132.jpg  2509017.jpg  3082120.jpg  3656752.jpg  669960.jpg\n",
            "1371177.jpg  1961025.jpg  250978.jpg   3094354.jpg  3663518.jpg  6709.jpg\n",
            "1375640.jpg  1966300.jpg  2514432.jpg  3095301.jpg  3663800.jpg  674001.jpg\n",
            "1382427.jpg  1966967.jpg  2526838.jpg  3099645.jpg  3664376.jpg  676189.jpg\n",
            "1392718.jpg  1969596.jpg  252858.jpg   3100476.jpg  3670607.jpg  681609.jpg\n",
            "1395906.jpg  1971757.jpg  2532239.jpg  3110387.jpg  3671021.jpg  6926.jpg\n",
            "1400760.jpg  1976160.jpg  2534567.jpg  3113772.jpg  3671877.jpg  703556.jpg\n",
            "1403005.jpg  1984271.jpg  2535431.jpg  3116018.jpg  368073.jpg\t 703909.jpg\n",
            "1404770.jpg  1987213.jpg  2535456.jpg  3128952.jpg  368162.jpg\t 704316.jpg\n",
            "140832.jpg   1987639.jpg  2538000.jpg  3130412.jpg  368170.jpg\t 714298.jpg\n",
            "141056.jpg   1995118.jpg  2543081.jpg  3136.jpg     3693649.jpg  720060.jpg\n",
            "141135.jpg   1995252.jpg  2544643.jpg  313851.jpg   3700079.jpg  726083.jpg\n",
            "1413972.jpg  199754.jpg   2547797.jpg  3140083.jpg  3704103.jpg  728020.jpg\n",
            "1421393.jpg  2002400.jpg  2548974.jpg  3140147.jpg  3707493.jpg  732986.jpg\n",
            "1428947.jpg  2011264.jpg  2549316.jpg  3142045.jpg  3716881.jpg  734445.jpg\n",
            "1433912.jpg  2012996.jpg  2561199.jpg  3142618.jpg  3724677.jpg  735441.jpg\n",
            "143490.jpg   2013535.jpg  2563233.jpg  3142674.jpg  3727036.jpg  740090.jpg\n",
            "1445352.jpg  2017387.jpg  256592.jpg   3143192.jpg  3727491.jpg  745189.jpg\n",
            "1446401.jpg  2018173.jpg  2568848.jpg  314359.jpg   3736065.jpg  752203.jpg\n",
            "1453991.jpg  2020613.jpg  2573392.jpg  3157832.jpg  37384.jpg\t 75537.jpg\n",
            "1456841.jpg  2032669.jpg  2592401.jpg  3159818.jpg  3743286.jpg  756655.jpg\n",
            "146833.jpg   203450.jpg   2599817.jpg  3162376.jpg  3745515.jpg  762210.jpg\n",
            "1476404.jpg  2034628.jpg  2603058.jpg  3168620.jpg  3750472.jpg  763690.jpg\n",
            "1485083.jpg  2036920.jpg  2606444.jpg  3171085.jpg  3752362.jpg  767442.jpg\n",
            "1487113.jpg  2038418.jpg  2614189.jpg  317206.jpg   3766099.jpg  786409.jpg\n",
            "148916.jpg   2042975.jpg  2614649.jpg  3173444.jpg  3770370.jpg  80215.jpg\n",
            "149087.jpg   2045647.jpg  2615718.jpg  3180182.jpg  377190.jpg\t 802348.jpg\n",
            "1493169.jpg  2050584.jpg  2619625.jpg  31881.jpg    3777020.jpg  804684.jpg\n",
            "149682.jpg   2052542.jpg  2622140.jpg  3191589.jpg  3777482.jpg  812163.jpg\n",
            "1508094.jpg  2056627.jpg  262321.jpg   3204977.jpg  3781152.jpg  813486.jpg\n",
            "1512226.jpg  2062248.jpg  2625330.jpg  320658.jpg   3787809.jpg  819027.jpg\n",
            "1512347.jpg  2081995.jpg  2628106.jpg  3209173.jpg  3788729.jpg  822550.jpg\n",
            "1524526.jpg  2087958.jpg  2629750.jpg  3223400.jpg  3790962.jpg  823766.jpg\n",
            "1530833.jpg  2088030.jpg  2643906.jpg  3223601.jpg  3792514.jpg  827764.jpg\n",
            "1539499.jpg  2088195.jpg  2644457.jpg  3241894.jpg  379737.jpg\t 830007.jpg\n",
            "1541672.jpg  2090493.jpg  2648423.jpg  3245533.jpg  3807440.jpg  838344.jpg\n",
            "1548239.jpg  2090504.jpg  2651300.jpg  3245622.jpg  381162.jpg\t 853327.jpg\n",
            "1550997.jpg  2125877.jpg  2653594.jpg  3247009.jpg  3812039.jpg  854150.jpg\n",
            "1552530.jpg  2129685.jpg  2661577.jpg  3253588.jpg  3829392.jpg  864997.jpg\n",
            "15580.jpg    2133717.jpg  2668916.jpg  3260624.jpg  3830872.jpg  885571.jpg\n",
            "1559052.jpg  2136662.jpg  268444.jpg   326587.jpg   38442.jpg\t 907107.jpg\n",
            "1563266.jpg  213765.jpg   2691461.jpg  32693.jpg    3855584.jpg  908261.jpg\n",
            "1567554.jpg  2138335.jpg  2706403.jpg  3271253.jpg  3857508.jpg  910672.jpg\n",
            "1575322.jpg  2140776.jpg  270687.jpg   3274423.jpg  386335.jpg\t 911803.jpg\n",
            "1588879.jpg  214320.jpg   2707522.jpg  3280453.jpg  3867460.jpg  91432.jpg\n",
            "1594719.jpg  2146963.jpg  2711806.jpg  3298495.jpg  3868959.jpg  914570.jpg\n",
            "1595869.jpg  215222.jpg   2716993.jpg  330182.jpg   3869679.jpg  922752.jpg\n",
            "1598345.jpg  2154126.jpg  2724554.jpg  3306627.jpg  388776.jpg\t 923772.jpg\n",
            "1598885.jpg  2154779.jpg  2738227.jpg  3315727.jpg  3890465.jpg  926414.jpg\n",
            "1600179.jpg  2159975.jpg  2748917.jpg  331860.jpg   3894222.jpg  931356.jpg\n",
            "1600794.jpg  2163079.jpg  2760475.jpg  332232.jpg   3895825.jpg  937133.jpg\n",
            "160552.jpg   217250.jpg   2761427.jpg  3322909.jpg  389739.jpg\t 945791.jpg\n",
            "1606596.jpg  2172600.jpg  2765887.jpg  332557.jpg   3916407.jpg  947877.jpg\n",
            "1615395.jpg  2173084.jpg  2768451.jpg  3326734.jpg  393349.jpg\t 952407.jpg\n",
            "1618011.jpg  217996.jpg   2771149.jpg  3330642.jpg  393494.jpg\t 952437.jpg\n",
            "1619357.jpg  2193684.jpg  2779040.jpg  3333128.jpg  398288.jpg\t 955466.jpg\n",
            "1621763.jpg  220341.jpg   2788312.jpg  3333735.jpg  40094.jpg\t 9555.jpg\n",
            "1623325.jpg  22080.jpg\t  2788759.jpg  3334973.jpg  401094.jpg\t 961341.jpg\n",
            "1624450.jpg  2216146.jpg  2796102.jpg  3335013.jpg  401144.jpg\t 97656.jpg\n",
            "1624747.jpg  2222018.jpg  280284.jpg   3335267.jpg  401651.jpg\t 979110.jpg\n",
            "1628861.jpg  2223787.jpg  2807888.jpg  3346787.jpg  405173.jpg\t 980247.jpg\n",
            "1632774.jpg  2230959.jpg  2815172.jpg  3364420.jpg  405794.jpg\t 982988.jpg\n",
            "1636831.jpg  2232310.jpg  2818805.jpg  336637.jpg   40762.jpg\t 987732.jpg\n",
            "1645470.jpg  2233395.jpg  2823872.jpg  3372616.jpg  413325.jpg\t 996684.jpg\n"
          ]
        }
      ]
    },
    {
      "cell_type": "code",
      "source": [
        "import os\n",
        "\n",
        "#walk through pizza_steak directory and list number of files\n",
        "for dirpath, dirnames, filenames in os.walk(\"pizza_steak\"):\n",
        "  print(f\"There are {len(dirnames)} directories and {len(filenames)} images in '{dirpath}'.\")"
      ],
      "metadata": {
        "colab": {
          "base_uri": "https://localhost:8080/"
        },
        "id": "pnAQGIhBoC47",
        "outputId": "e055a8eb-33a2-4981-a23f-95cb639b5b9c"
      },
      "execution_count": 5,
      "outputs": [
        {
          "output_type": "stream",
          "name": "stdout",
          "text": [
            "There are 2 directories and 0 images in 'pizza_steak'.\n",
            "There are 2 directories and 0 images in 'pizza_steak/test'.\n",
            "There are 0 directories and 250 images in 'pizza_steak/test/pizza'.\n",
            "There are 0 directories and 250 images in 'pizza_steak/test/steak'.\n",
            "There are 2 directories and 0 images in 'pizza_steak/train'.\n",
            "There are 0 directories and 750 images in 'pizza_steak/train/pizza'.\n",
            "There are 0 directories and 750 images in 'pizza_steak/train/steak'.\n"
          ]
        }
      ]
    },
    {
      "cell_type": "code",
      "source": [
        "!ls -la pizza_steak"
      ],
      "metadata": {
        "colab": {
          "base_uri": "https://localhost:8080/"
        },
        "id": "p9955uR6oia1",
        "outputId": "d95d8afa-42e7-4d56-cf1f-3d8804a3d349"
      },
      "execution_count": 6,
      "outputs": [
        {
          "output_type": "stream",
          "name": "stdout",
          "text": [
            "total 16\n",
            "drwxr-xr-x 4 root root 4096 Feb 13 03:29 .\n",
            "drwxr-xr-x 1 root root 4096 Feb 13 03:29 ..\n",
            "drwxr-xr-x 4 root root 4096 Feb 13 03:29 test\n",
            "drwxr-xr-x 4 root root 4096 Feb 13 03:29 train\n"
          ]
        }
      ]
    },
    {
      "cell_type": "code",
      "source": [
        "#Another way to find out how many images are in a file\n",
        "num_steak_images_train = len(os.listdir(\"pizza_steak/train/steak\"))\n",
        "\n",
        "num_steak_images_train"
      ],
      "metadata": {
        "colab": {
          "base_uri": "https://localhost:8080/"
        },
        "id": "FKYBFeVVoygJ",
        "outputId": "57b4e41f-9402-4510-8550-cb4cb60bca53"
      },
      "execution_count": 7,
      "outputs": [
        {
          "output_type": "execute_result",
          "data": {
            "text/plain": [
              "750"
            ]
          },
          "metadata": {},
          "execution_count": 7
        }
      ]
    },
    {
      "cell_type": "markdown",
      "source": [
        "To visualize our images, lets get the class names programmatically"
      ],
      "metadata": {
        "id": "oxe7CeZPpcMy"
      }
    },
    {
      "cell_type": "code",
      "source": [
        "# get the classnames programmatically\n",
        "import pathlib\n",
        "import numpy as np\n",
        "data_dir= pathlib.Path(\"pizza_steak/train\")\n",
        "class_names = np.array(sorted([item.name for item in data_dir.glob('*')])) #created a list of class_names from subdirectory \n",
        "class_names=class_names\n",
        "print(class_names)"
      ],
      "metadata": {
        "colab": {
          "base_uri": "https://localhost:8080/"
        },
        "id": "LEYFe31IplVy",
        "outputId": "4b36f809-310a-4449-cf26-bae7612eea3c"
      },
      "execution_count": 8,
      "outputs": [
        {
          "output_type": "stream",
          "name": "stdout",
          "text": [
            "['pizza' 'steak']\n"
          ]
        }
      ]
    },
    {
      "cell_type": "code",
      "source": [
        "#let's visualize our images\n",
        "import matplotlib.pyplot as plt\n",
        "import matplotlib.image as mpimg\n",
        "import random\n",
        "\n",
        "def view_random_image(target_dir, target_class):\n",
        "  #setup the target directory \n",
        "  target_folder = target_dir + target_class\n",
        "\n",
        "  #get a random image path\n",
        "  random_image = random.sample(os.listdir(target_folder), 1)\n",
        "  print(random_image)\n",
        "\n",
        "  #read in the image and plot it using matplotlib\n",
        "  img = mpimg.imread(target_folder + \"/\" + random_image[0])\n",
        "  plt.imshow(img)\n",
        "  plt.title(target_class)\n",
        "  plt.axis(\"off\")\n",
        "\n",
        "  print(f\"Image shape: {img.shape}\") #show the shape of the image\n",
        "\n",
        "  return img"
      ],
      "metadata": {
        "id": "Na7qEDk2qHze"
      },
      "execution_count": 29,
      "outputs": []
    },
    {
      "cell_type": "code",
      "source": [
        "# view a random image from the training dataset\n",
        "img =view_random_image(target_dir=\"pizza_steak/train/\",\n",
        "                       target_class=\"pizza\")"
      ],
      "metadata": {
        "colab": {
          "base_uri": "https://localhost:8080/",
          "height": 299
        },
        "id": "daZhHYFprjTW",
        "outputId": "b3b16353-a98e-40ed-a093-6a29f8b17403"
      },
      "execution_count": 10,
      "outputs": [
        {
          "output_type": "stream",
          "name": "stdout",
          "text": [
            "['274945.jpg']\n",
            "Image shape: (512, 382, 3)\n"
          ]
        },
        {
          "output_type": "display_data",
          "data": {
            "image/png": "[encoded data removed]",
            "text/plain": [
              "<Figure size 432x288 with 1 Axes>"
            ]
          },
          "metadata": {
            "needs_background": "light"
          }
        }
      ]
    },
    {
      "cell_type": "code",
      "source": [
        "import tensorflow as tf\n",
        "tf.constant(img)"
      ],
      "metadata": {
        "colab": {
          "base_uri": "https://localhost:8080/"
        },
        "id": "9iXnd-Q1rx13",
        "outputId": "20a13108-d567-4d9a-b10e-57e15165ea17"
      },
      "execution_count": 11,
      "outputs": [
        {
          "output_type": "execute_result",
          "data": {
            "text/plain": [
              "<tf.Tensor: shape=(512, 382, 3), dtype=uint8, numpy=\n",
              "array([[[  9,   4,   1],\n",
              "        [ 12,   7,   4],\n",
              "        [ 13,   8,   5],\n",
              "        ...,\n",
              "        [ 60,  22,   0],\n",
              "        [ 57,  16,   0],\n",
              "        [ 55,  12,   0]],\n",
              "\n",
              "       [[  9,   4,   1],\n",
              "        [ 11,   6,   3],\n",
              "        [ 12,   7,   4],\n",
              "        ...,\n",
              "        [ 60,  22,   0],\n",
              "        [ 56,  18,   0],\n",
              "        [ 55,  13,   0]],\n",
              "\n",
              "       [[  9,   4,   1],\n",
              "        [ 11,   6,   3],\n",
              "        [ 11,   6,   3],\n",
              "        ...,\n",
              "        [ 58,  22,   0],\n",
              "        [ 56,  20,   0],\n",
              "        [ 55,  16,   0]],\n",
              "\n",
              "       ...,\n",
              "\n",
              "       [[  8,   7,   2],\n",
              "        [  7,   6,   1],\n",
              "        [  9,   6,   1],\n",
              "        ...,\n",
              "        [104,  25,   8],\n",
              "        [ 97,  18,   1],\n",
              "        [ 98,  17,   0]],\n",
              "\n",
              "       [[  7,   6,   1],\n",
              "        [  6,   5,   0],\n",
              "        [  8,   5,   0],\n",
              "        ...,\n",
              "        [104,  25,   8],\n",
              "        [ 98,  19,   2],\n",
              "        [ 98,  17,   0]],\n",
              "\n",
              "       [[  6,   5,   0],\n",
              "        [  6,   5,   0],\n",
              "        [  6,   5,   0],\n",
              "        ...,\n",
              "        [105,  26,   9],\n",
              "        [ 98,  19,   2],\n",
              "        [ 97,  16,   0]]], dtype=uint8)>"
            ]
          },
          "metadata": {},
          "execution_count": 11
        }
      ]
    },
    {
      "cell_type": "code",
      "source": [
        "# view the image shape\n",
        "img.shape # return width, height, colour channels"
      ],
      "metadata": {
        "id": "ix7KtxSGs6M2",
        "colab": {
          "base_uri": "https://localhost:8080/"
        },
        "outputId": "7fe765c0-1fa3-4a15-991c-20f195b03ecd"
      },
      "execution_count": 12,
      "outputs": [
        {
          "output_type": "execute_result",
          "data": {
            "text/plain": [
              "(512, 382, 3)"
            ]
          },
          "metadata": {},
          "execution_count": 12
        }
      ]
    },
    {
      "cell_type": "code",
      "source": [
        "#get all the pixel values between 0 and 1\n",
        "img/255."
      ],
      "metadata": {
        "colab": {
          "base_uri": "https://localhost:8080/"
        },
        "id": "Mamw498uxcyV",
        "outputId": "499bc9b3-b82c-4411-b8b1-280495a006e1"
      },
      "execution_count": 13,
      "outputs": [
        {
          "output_type": "execute_result",
          "data": {
            "text/plain": [
              "array([[[0.03529412, 0.01568627, 0.00392157],\n",
              "        [0.04705882, 0.02745098, 0.01568627],\n",
              "        [0.05098039, 0.03137255, 0.01960784],\n",
              "        ...,\n",
              "        [0.23529412, 0.08627451, 0.        ],\n",
              "        [0.22352941, 0.0627451 , 0.        ],\n",
              "        [0.21568627, 0.04705882, 0.        ]],\n",
              "\n",
              "       [[0.03529412, 0.01568627, 0.00392157],\n",
              "        [0.04313725, 0.02352941, 0.01176471],\n",
              "        [0.04705882, 0.02745098, 0.01568627],\n",
              "        ...,\n",
              "        [0.23529412, 0.08627451, 0.        ],\n",
              "        [0.21960784, 0.07058824, 0.        ],\n",
              "        [0.21568627, 0.05098039, 0.        ]],\n",
              "\n",
              "       [[0.03529412, 0.01568627, 0.00392157],\n",
              "        [0.04313725, 0.02352941, 0.01176471],\n",
              "        [0.04313725, 0.02352941, 0.01176471],\n",
              "        ...,\n",
              "        [0.22745098, 0.08627451, 0.        ],\n",
              "        [0.21960784, 0.07843137, 0.        ],\n",
              "        [0.21568627, 0.0627451 , 0.        ]],\n",
              "\n",
              "       ...,\n",
              "\n",
              "       [[0.03137255, 0.02745098, 0.00784314],\n",
              "        [0.02745098, 0.02352941, 0.00392157],\n",
              "        [0.03529412, 0.02352941, 0.00392157],\n",
              "        ...,\n",
              "        [0.40784314, 0.09803922, 0.03137255],\n",
              "        [0.38039216, 0.07058824, 0.00392157],\n",
              "        [0.38431373, 0.06666667, 0.        ]],\n",
              "\n",
              "       [[0.02745098, 0.02352941, 0.00392157],\n",
              "        [0.02352941, 0.01960784, 0.        ],\n",
              "        [0.03137255, 0.01960784, 0.        ],\n",
              "        ...,\n",
              "        [0.40784314, 0.09803922, 0.03137255],\n",
              "        [0.38431373, 0.0745098 , 0.00784314],\n",
              "        [0.38431373, 0.06666667, 0.        ]],\n",
              "\n",
              "       [[0.02352941, 0.01960784, 0.        ],\n",
              "        [0.02352941, 0.01960784, 0.        ],\n",
              "        [0.02352941, 0.01960784, 0.        ],\n",
              "        ...,\n",
              "        [0.41176471, 0.10196078, 0.03529412],\n",
              "        [0.38431373, 0.0745098 , 0.00784314],\n",
              "        [0.38039216, 0.0627451 , 0.        ]]])"
            ]
          },
          "metadata": {},
          "execution_count": 13
        }
      ]
    },
    {
      "cell_type": "markdown",
      "source": [
        "## An end to end example\n",
        "\n",
        "let's build a convolutional neural network to find pattern in our images, more specifically we need a way to:\n",
        "\n",
        "* Load our images\n",
        "* Preprocess our images\n",
        "* Build a CNN to find patterns in our images\n",
        "* Compile our CNN\n",
        "* Fit the CNN to our training data\n",
        "\n",
        "p/s: make sure to use runtime type GPU"
      ],
      "metadata": {
        "id": "8xYGswKxx8ee"
      }
    },
    {
      "cell_type": "code",
      "source": [
        "import tensorflow as tf\n",
        "from tensorflow.keras.preprocessing.image import ImageDataGenerator\n",
        "\n",
        "\n",
        "#set random seed\n",
        "tf.random.set_seed(42)\n",
        "\n",
        "#preprocess data (get all of the pixel values between 0 and 1, also called scalling/normalization)\n",
        "train_datagen = ImageDataGenerator(rescale=1./255)\n",
        "valid_datagen = ImageDataGenerator(rescale=1./255)\n",
        "\n",
        "#setup paths to our data directories\n",
        "train_dir=\"/content/pizza_steak/train\"\n",
        "test_dir = \"pizza_steak/test\"\n",
        "\n",
        "#import data from directories and turn it into batches\n",
        "train_data= train_datagen.flow_from_directory(directory=train_dir,\n",
        "                                              batch_size=32,\n",
        "                                              target_size=(224,224),\n",
        "                                              class_mode=\"binary\",\n",
        "                                              seed=42)\n",
        "\n",
        "valid_data = valid_datagen.flow_from_directory(directory=test_dir,\n",
        "                                               batch_size=32,\n",
        "                                               target_size=(224,224),\n",
        "                                               class_mode=\"binary\",\n",
        "                                               seed=42)\n",
        "\n",
        "#build CNN model (same as the Tiny VGG on the CNN explainer website)\n",
        "model_1 = tf.keras.models.Sequential([\n",
        "                                      tf.keras.layers.Conv2D(filters=10,\n",
        "                                                             kernel_size=3,\n",
        "                                                             activation=\"relu\",\n",
        "                                                             input_shape=(224,224,3)),\n",
        "                                      tf.keras.layers.Conv2D(10,3, activation=\"relu\"),\n",
        "                                      tf.keras.layers.MaxPool2D(pool_size=2,\n",
        "                                                                padding=\"valid\"),\n",
        "                                      tf.keras.layers.Conv2D(10,3, activation=\"relu\"),\n",
        "                                      tf.keras.layers.Conv2D(10,3,activation=\"relu\"),\n",
        "                                      tf.keras.layers.MaxPool2D(2),\n",
        "                                      tf.keras.layers.Flatten(),\n",
        "                                      tf.keras.layers.Dense(1, activation=\"sigmoid\")\n",
        "])\n",
        "\n",
        "#Compile the CNN\n",
        "model_1.compile(loss=\"binary_crossentropy\",\n",
        "                optimizer=tf.keras.optimizers.Adam(),\n",
        "                metrics=[\"accuracy\"])\n",
        "\n",
        "#fit the model\n",
        "model_1.fit(train_data,\n",
        "            epochs=5,\n",
        "            steps_per_epoch=len(train_data),\n",
        "            validation_data=valid_data,\n",
        "            validation_steps= len(valid_data))"
      ],
      "metadata": {
        "colab": {
          "base_uri": "https://localhost:8080/"
        },
        "id": "4V5A0lUUy88u",
        "outputId": "bcbe5b37-c7fc-4b6c-8d92-edadb9724de2"
      },
      "execution_count": 14,
      "outputs": [
        {
          "output_type": "stream",
          "name": "stdout",
          "text": [
            "Found 1500 images belonging to 2 classes.\n",
            "Found 500 images belonging to 2 classes.\n",
            "Epoch 1/5\n",
            "47/47 [==============================] - 23s 255ms/step - loss: 0.5778 - accuracy: 0.6880 - val_loss: 0.4248 - val_accuracy: 0.8160\n",
            "Epoch 2/5\n",
            "47/47 [==============================] - 11s 232ms/step - loss: 0.4390 - accuracy: 0.8027 - val_loss: 0.3610 - val_accuracy: 0.8480\n",
            "Epoch 3/5\n",
            "47/47 [==============================] - 12s 246ms/step - loss: 0.3939 - accuracy: 0.8213 - val_loss: 0.3485 - val_accuracy: 0.8540\n",
            "Epoch 4/5\n",
            "47/47 [==============================] - 12s 246ms/step - loss: 0.3694 - accuracy: 0.8420 - val_loss: 0.3036 - val_accuracy: 0.8700\n",
            "Epoch 5/5\n",
            "47/47 [==============================] - 11s 242ms/step - loss: 0.3333 - accuracy: 0.8580 - val_loss: 0.3040 - val_accuracy: 0.8800\n"
          ]
        },
        {
          "output_type": "execute_result",
          "data": {
            "text/plain": [
              "<keras.callbacks.History at 0x7ff1200ec590>"
            ]
          },
          "metadata": {},
          "execution_count": 14
        }
      ]
    },
    {
      "cell_type": "code",
      "source": [
        "model_1.summary()"
      ],
      "metadata": {
        "id": "Y82JFZfGzKCr",
        "colab": {
          "base_uri": "https://localhost:8080/"
        },
        "outputId": "6cb95ae6-0162-4ce8-9b5c-9106fcf05281"
      },
      "execution_count": 15,
      "outputs": [
        {
          "output_type": "stream",
          "name": "stdout",
          "text": [
            "Model: \"sequential\"\n",
            "_________________________________________________________________\n",
            " Layer (type)                Output Shape              Param #   \n",
            "=================================================================\n",
            " conv2d (Conv2D)             (None, 222, 222, 10)      280       \n",
            "                                                                 \n",
            " conv2d_1 (Conv2D)           (None, 220, 220, 10)      910       \n",
            "                                                                 \n",
            " max_pooling2d (MaxPooling2D  (None, 110, 110, 10)     0         \n",
            " )                                                               \n",
            "                                                                 \n",
            " conv2d_2 (Conv2D)           (None, 108, 108, 10)      910       \n",
            "                                                                 \n",
            " conv2d_3 (Conv2D)           (None, 106, 106, 10)      910       \n",
            "                                                                 \n",
            " max_pooling2d_1 (MaxPooling  (None, 53, 53, 10)       0         \n",
            " 2D)                                                             \n",
            "                                                                 \n",
            " flatten (Flatten)           (None, 28090)             0         \n",
            "                                                                 \n",
            " dense (Dense)               (None, 1)                 28091     \n",
            "                                                                 \n",
            "=================================================================\n",
            "Total params: 31,101\n",
            "Trainable params: 31,101\n",
            "Non-trainable params: 0\n",
            "_________________________________________________________________\n"
          ]
        }
      ]
    },
    {
      "cell_type": "markdown",
      "source": [
        "## Using the same model as before"
      ],
      "metadata": {
        "id": "m_WoA5bD3ix1"
      }
    },
    {
      "cell_type": "code",
      "source": [
        "tf.random.set_seed(42)\n",
        "\n",
        "#create a model to replicate\n",
        "model_2=tf.keras.Sequential([\n",
        "                             tf.keras.layers.Flatten(input_shape=(224,224,3)),\n",
        "                             tf.keras.layers.Dense(4, activation=\"relu\"),\n",
        "                             tf.keras.layers.Dense(4, activation=\"relu\"),\n",
        "                             tf.keras.layers.Dense(1, activation=\"sigmoid\")\n",
        "])\n",
        "\n",
        "#compile model\n",
        "model_2.compile(loss= \"binary_crossentropy\",\n",
        "                optimizer=tf.keras.optimizers.Adam(),\n",
        "                metrics=[\"accuracy\"])\n",
        "\n",
        "#fit the model\n",
        "history_2= model_2.fit(train_data,\n",
        "            epochs=5,\n",
        "            validation_data=valid_data,\n",
        "            validation_steps=len(valid_data))"
      ],
      "metadata": {
        "colab": {
          "base_uri": "https://localhost:8080/"
        },
        "id": "JlWZ-8wq67Q1",
        "outputId": "9001fea8-9575-4766-89e1-2390fc259b73"
      },
      "execution_count": 16,
      "outputs": [
        {
          "output_type": "stream",
          "name": "stdout",
          "text": [
            "Epoch 1/5\n",
            "47/47 [==============================] - 10s 211ms/step - loss: 1.5601 - accuracy: 0.5013 - val_loss: 0.6932 - val_accuracy: 0.5000\n",
            "Epoch 2/5\n",
            "47/47 [==============================] - 9s 203ms/step - loss: 0.6932 - accuracy: 0.5000 - val_loss: 0.6932 - val_accuracy: 0.5000\n",
            "Epoch 3/5\n",
            "47/47 [==============================] - 10s 204ms/step - loss: 0.6932 - accuracy: 0.5000 - val_loss: 0.6932 - val_accuracy: 0.5000\n",
            "Epoch 4/5\n",
            "47/47 [==============================] - 9s 201ms/step - loss: 0.6932 - accuracy: 0.5000 - val_loss: 0.6932 - val_accuracy: 0.5000\n",
            "Epoch 5/5\n",
            "47/47 [==============================] - 9s 201ms/step - loss: 0.6932 - accuracy: 0.5000 - val_loss: 0.6932 - val_accuracy: 0.5000\n"
          ]
        }
      ]
    },
    {
      "cell_type": "code",
      "source": [
        "model_2.summary()"
      ],
      "metadata": {
        "id": "o6CI-SMS7wZq",
        "colab": {
          "base_uri": "https://localhost:8080/"
        },
        "outputId": "750e9b9a-b69c-405f-8c68-5991ed0d248d"
      },
      "execution_count": 17,
      "outputs": [
        {
          "output_type": "stream",
          "name": "stdout",
          "text": [
            "Model: \"sequential_1\"\n",
            "_________________________________________________________________\n",
            " Layer (type)                Output Shape              Param #   \n",
            "=================================================================\n",
            " flatten_1 (Flatten)         (None, 150528)            0         \n",
            "                                                                 \n",
            " dense_1 (Dense)             (None, 4)                 602116    \n",
            "                                                                 \n",
            " dense_2 (Dense)             (None, 4)                 20        \n",
            "                                                                 \n",
            " dense_3 (Dense)             (None, 1)                 5         \n",
            "                                                                 \n",
            "=================================================================\n",
            "Total params: 602,141\n",
            "Trainable params: 602,141\n",
            "Non-trainable params: 0\n",
            "_________________________________________________________________\n"
          ]
        }
      ]
    },
    {
      "cell_type": "markdown",
      "source": [
        "Despite having 20x more parameters than model_1, model_2 performs terribly"
      ],
      "metadata": {
        "id": "i9wXv2xeLz6A"
      }
    },
    {
      "cell_type": "code",
      "source": [
        "tf.random.set_seed(42)\n",
        "\n",
        "model_3=tf.keras.Sequential([\n",
        "                             tf.keras.layers.Flatten(input_shape=(224,224,3)),\n",
        "                             tf.keras.layers.Dense(100, activation=\"relu\"),\n",
        "                             tf.keras.layers.Dense(100, activation=\"relu\"),\n",
        "                             tf.keras.layers.Dense(100, activation=\"relu\"),\n",
        "                             tf.keras.layers.Dense(1, activation=\"sigmoid\")\n",
        "])\n",
        "\n",
        "model_3.compile(loss=\"binary_crossentropy\",\n",
        "                optimizer=tf.keras.optimizers.Adam(),\n",
        "                metrics=[\"accuracy\"])\n",
        "\n",
        "history_3=model_3.fit(train_data,\n",
        "                  epochs=5,\n",
        "                  validation_data=valid_data,\n",
        "                  validation_steps=len(valid_data))"
      ],
      "metadata": {
        "colab": {
          "base_uri": "https://localhost:8080/"
        },
        "id": "Hd95SNqNMOTB",
        "outputId": "430d7d08-d6bb-46b7-ac1a-84156dfd0a99"
      },
      "execution_count": 25,
      "outputs": [
        {
          "output_type": "stream",
          "name": "stdout",
          "text": [
            "Epoch 1/5\n",
            "47/47 [==============================] - 11s 212ms/step - loss: 3.1345 - accuracy: 0.6287 - val_loss: 0.5090 - val_accuracy: 0.7740\n",
            "Epoch 2/5\n",
            "47/47 [==============================] - 9s 202ms/step - loss: 0.9742 - accuracy: 0.6773 - val_loss: 0.6743 - val_accuracy: 0.7300\n",
            "Epoch 3/5\n",
            "47/47 [==============================] - 9s 202ms/step - loss: 0.7157 - accuracy: 0.7233 - val_loss: 0.6533 - val_accuracy: 0.7140\n",
            "Epoch 4/5\n",
            "47/47 [==============================] - 10s 204ms/step - loss: 0.4720 - accuracy: 0.7840 - val_loss: 0.4509 - val_accuracy: 0.8000\n",
            "Epoch 5/5\n",
            "47/47 [==============================] - 9s 202ms/step - loss: 0.4661 - accuracy: 0.8027 - val_loss: 0.5278 - val_accuracy: 0.7540\n"
          ]
        }
      ]
    },
    {
      "cell_type": "code",
      "source": [
        "model_3.summary()"
      ],
      "metadata": {
        "colab": {
          "base_uri": "https://localhost:8080/"
        },
        "id": "sJdMR4WKM8xN",
        "outputId": "99993c9c-650e-4d7e-a449-2e33a25d2870"
      },
      "execution_count": 26,
      "outputs": [
        {
          "output_type": "stream",
          "name": "stdout",
          "text": [
            "Model: \"sequential_5\"\n",
            "_________________________________________________________________\n",
            " Layer (type)                Output Shape              Param #   \n",
            "=================================================================\n",
            " flatten_7 (Flatten)         (None, 150528)            0         \n",
            "                                                                 \n",
            " dense_16 (Dense)            (None, 100)               15052900  \n",
            "                                                                 \n",
            " dense_17 (Dense)            (None, 100)               10100     \n",
            "                                                                 \n",
            " dense_18 (Dense)            (None, 100)               10100     \n",
            "                                                                 \n",
            " dense_19 (Dense)            (None, 1)                 101       \n",
            "                                                                 \n",
            "=================================================================\n",
            "Total params: 15,073,201\n",
            "Trainable params: 15,073,201\n",
            "Non-trainable params: 0\n",
            "_________________________________________________________________\n"
          ]
        }
      ]
    },
    {
      "cell_type": "markdown",
      "source": [
        "## Binary classification \n",
        "\n",
        "1. Become one with data (visualize)\n",
        "\n",
        "2. Preprocess the data(prepared it fdor the model, main step is scaling/normalize and turn it into batches)\n",
        "\n",
        "3. create the model\n",
        "\n",
        "4. fit the model\n",
        "\n",
        "5. evaluate the model\n",
        "\n",
        "6. adjust the different parameters and improve the model\n",
        "\n",
        "7. repeat until satisfied (experiment)"
      ],
      "metadata": {
        "id": "oZUkJHEpN6sM"
      }
    },
    {
      "cell_type": "markdown",
      "source": [
        "### 1. Become one with the data"
      ],
      "metadata": {
        "id": "Uqm4iXgiQdey"
      }
    },
    {
      "cell_type": "code",
      "source": [
        "#visualize the data\n",
        "plt.figure()\n",
        "plt.subplot(1,2,1)\n",
        "steak_img=view_random_image(\"pizza_steak/train/\", \"steak\")\n",
        "plt.subplot(1,2,2)\n",
        "pizza_img=view_random_image(\"pizza_steak/train/\", \"pizza\")"
      ],
      "metadata": {
        "colab": {
          "base_uri": "https://localhost:8080/",
          "height": 268
        },
        "id": "WnPTue3YQgtj",
        "outputId": "2bdac1d0-a365-4636-9d11-20a18c539af4"
      },
      "execution_count": 30,
      "outputs": [
        {
          "output_type": "stream",
          "name": "stdout",
          "text": [
            "['1889336.jpg']\n",
            "Image shape: (512, 511, 3)\n",
            "['970073.jpg']\n",
            "Image shape: (512, 512, 3)\n"
          ]
        },
        {
          "output_type": "display_data",
          "data": {
            "image/png": "[encoded data removed]",
            "text/plain": [
              "<Figure size 432x288 with 2 Axes>"
            ]
          },
          "metadata": {
            "needs_background": "light"
          }
        }
      ]
    },
    {
      "cell_type": "markdown",
      "source": [
        "### 2. Preprocess the data (prepare it for a model)"
      ],
      "metadata": {
        "id": "SJaPdwT6Q3v-"
      }
    },
    {
      "cell_type": "code",
      "source": [
        "#define directory dataset paths\n",
        "train_dir = \"pizza_steak/train/\"\n",
        "test_dir= \"pizza_steak/test/\""
      ],
      "metadata": {
        "id": "DIADZB0vR40w"
      },
      "execution_count": 36,
      "outputs": []
    },
    {
      "cell_type": "markdown",
      "source": [
        "next step is to turn our data into **batches**.\n",
        "\n",
        "a batch is a small subset of data. rather than look at all -10,000 images at one time, a model might only look at 32 at a time.\n",
        "\n",
        "It does this for a couple of reasons:\n",
        "1. 10,000 images (or more) might not fit into the memory of your processor (GPU)\n",
        "2. Trying to learn the pattern in 10,000 images in one hit could result in the model not being able to learn very well.\n",
        "\n",
        "why 32?\n",
        "because 32 is good for your health"
      ],
      "metadata": {
        "id": "3TDQMqpRSETW"
      }
    },
    {
      "cell_type": "code",
      "source": [
        "!nvidia-smi"
      ],
      "metadata": {
        "colab": {
          "base_uri": "https://localhost:8080/"
        },
        "id": "lSxV9DChSpv-",
        "outputId": "cca30501-a156-4f18-c22f-394a4165f909"
      },
      "execution_count": 32,
      "outputs": [
        {
          "output_type": "stream",
          "name": "stdout",
          "text": [
            "Sun Feb 13 04:15:13 2022       \n",
            "+-----------------------------------------------------------------------------+\n",
            "| NVIDIA-SMI 460.32.03    Driver Version: 460.32.03    CUDA Version: 11.2     |\n",
            "|-------------------------------+----------------------+----------------------+\n",
            "| GPU  Name        Persistence-M| Bus-Id        Disp.A | Volatile Uncorr. ECC |\n",
            "| Fan  Temp  Perf  Pwr:Usage/Cap|         Memory-Usage | GPU-Util  Compute M. |\n",
            "|                               |                      |               MIG M. |\n",
            "|===============================+======================+======================|\n",
            "|   0  Tesla K80           Off  | 00000000:00:04.0 Off |                    0 |\n",
            "| N/A   42C    P0    58W / 149W |   1304MiB / 11441MiB |      0%      Default |\n",
            "|                               |                      |                  N/A |\n",
            "+-------------------------------+----------------------+----------------------+\n",
            "                                                                               \n",
            "+-----------------------------------------------------------------------------+\n",
            "| Processes:                                                                  |\n",
            "|  GPU   GI   CI        PID   Type   Process name                  GPU Memory |\n",
            "|        ID   ID                                                   Usage      |\n",
            "|=============================================================================|\n",
            "+-----------------------------------------------------------------------------+\n"
          ]
        }
      ]
    },
    {
      "cell_type": "code",
      "source": [
        "# create train and test data generators and rescale the data\n",
        "from tensorflow.keras.preprocessing.image import ImageDataGenerator\n",
        "train_datagen = ImageDataGenerator(rescale=1/255.)\n",
        "test_datagen= ImageDataGenerator(rescale=1/255.)"
      ],
      "metadata": {
        "id": "yWeTpqZkSrTF"
      },
      "execution_count": 34,
      "outputs": []
    },
    {
      "cell_type": "code",
      "source": [
        "#Load on our image data from directories and turn them into batches\n",
        "train_data = train_datagen.flow_from_directory(directory=train_dir,\n",
        "                                               target_size=(224,224),\n",
        "                                               class_mode=\"binary\",\n",
        "                                               batch_size=32)\n",
        "\n",
        "test_data= test_datagen.flow_from_directory(test_dir,\n",
        "                                            target_size=(224,224),\n",
        "                                            class_mode=\"binary\",\n",
        "                                            batch_size=32)"
      ],
      "metadata": {
        "colab": {
          "base_uri": "https://localhost:8080/"
        },
        "id": "UdbIj3ICTuVD",
        "outputId": "356a56c5-1067-447d-e815-91222cbdca6f"
      },
      "execution_count": 40,
      "outputs": [
        {
          "output_type": "stream",
          "name": "stdout",
          "text": [
            "Found 1500 images belonging to 2 classes.\n",
            "Found 500 images belonging to 2 classes.\n"
          ]
        }
      ]
    },
    {
      "cell_type": "code",
      "source": [
        "# get a sample of a train data batch\n",
        "images, labels = train_data.next() # get the \"next\"batch of images/labels in tratn_data\n",
        "len(images), len(labels)"
      ],
      "metadata": {
        "colab": {
          "base_uri": "https://localhost:8080/"
        },
        "id": "iNnR4c3JUxGD",
        "outputId": "56f9c0d3-9218-47f7-8486-15f198eb2616"
      },
      "execution_count": 42,
      "outputs": [
        {
          "output_type": "execute_result",
          "data": {
            "text/plain": [
              "(32, 32)"
            ]
          },
          "metadata": {},
          "execution_count": 42
        }
      ]
    },
    {
      "cell_type": "code",
      "source": [
        "#how many batches are there?\n",
        "len(train_data)"
      ],
      "metadata": {
        "colab": {
          "base_uri": "https://localhost:8080/"
        },
        "id": "BPUM2UFCbyi2",
        "outputId": "52ba8bde-e2b5-4bb0-a1b5-616d9ade2b89"
      },
      "execution_count": 44,
      "outputs": [
        {
          "output_type": "execute_result",
          "data": {
            "text/plain": [
              "47"
            ]
          },
          "metadata": {},
          "execution_count": 44
        }
      ]
    },
    {
      "cell_type": "code",
      "source": [
        "1500/32"
      ],
      "metadata": {
        "colab": {
          "base_uri": "https://localhost:8080/"
        },
        "id": "guIauWDLb57q",
        "outputId": "a6c530c2-75f5-41a4-b36c-15e8997755d4"
      },
      "execution_count": 45,
      "outputs": [
        {
          "output_type": "execute_result",
          "data": {
            "text/plain": [
              "46.875"
            ]
          },
          "metadata": {},
          "execution_count": 45
        }
      ]
    },
    {
      "cell_type": "code",
      "source": [
        "#get the first 2 images\n",
        "images[:2], images[0].shape"
      ],
      "metadata": {
        "colab": {
          "base_uri": "https://localhost:8080/"
        },
        "id": "yf9k5WLgb837",
        "outputId": "33826d98-0364-420e-9d56-d507e94b24e0"
      },
      "execution_count": 46,
      "outputs": [
        {
          "output_type": "execute_result",
          "data": {
            "text/plain": [
              "(array([[[[0.01568628, 0.01568628, 0.02352941],\n",
              "          [0.01568628, 0.01568628, 0.02352941],\n",
              "          [0.01960784, 0.01960784, 0.02745098],\n",
              "          ...,\n",
              "          [0.01568628, 0.01568628, 0.02352941],\n",
              "          [0.01568628, 0.01568628, 0.02352941],\n",
              "          [0.01960784, 0.01960784, 0.02745098]],\n",
              " \n",
              "         [[0.01568628, 0.01568628, 0.02352941],\n",
              "          [0.01568628, 0.01568628, 0.02352941],\n",
              "          [0.01960784, 0.01960784, 0.02745098],\n",
              "          ...,\n",
              "          [0.01568628, 0.01568628, 0.02352941],\n",
              "          [0.01568628, 0.01568628, 0.02352941],\n",
              "          [0.01960784, 0.01960784, 0.02745098]],\n",
              " \n",
              "         [[0.01568628, 0.01568628, 0.02352941],\n",
              "          [0.01568628, 0.01568628, 0.02352941],\n",
              "          [0.01960784, 0.01960784, 0.02745098],\n",
              "          ...,\n",
              "          [0.01568628, 0.01568628, 0.02352941],\n",
              "          [0.01568628, 0.01568628, 0.02352941],\n",
              "          [0.01960784, 0.01960784, 0.02745098]],\n",
              " \n",
              "         ...,\n",
              " \n",
              "         [[0.6392157 , 0.6       , 0.6039216 ],\n",
              "          [0.627451  , 0.5882353 , 0.5921569 ],\n",
              "          [0.6       , 0.56078434, 0.5647059 ],\n",
              "          ...,\n",
              "          [0.9176471 , 0.8941177 , 0.8941177 ],\n",
              "          [0.9215687 , 0.8980393 , 0.8980393 ],\n",
              "          [0.9176471 , 0.8941177 , 0.8941177 ]],\n",
              " \n",
              "         [[0.6862745 , 0.64705884, 0.6509804 ],\n",
              "          [0.6627451 , 0.62352943, 0.627451  ],\n",
              "          [0.6509804 , 0.6117647 , 0.6156863 ],\n",
              "          ...,\n",
              "          [0.9176471 , 0.8941177 , 0.8941177 ],\n",
              "          [0.91372555, 0.89019614, 0.89019614],\n",
              "          [0.909804  , 0.8862746 , 0.8862746 ]],\n",
              " \n",
              "         [[0.7960785 , 0.75294125, 0.7686275 ],\n",
              "          [0.7294118 , 0.6862745 , 0.7019608 ],\n",
              "          [0.6901961 , 0.64705884, 0.6627451 ],\n",
              "          ...,\n",
              "          [0.91372555, 0.89019614, 0.89019614],\n",
              "          [0.9058824 , 0.882353  , 0.882353  ],\n",
              "          [0.9058824 , 0.882353  , 0.882353  ]]],\n",
              " \n",
              " \n",
              "        [[[0.        , 0.        , 0.        ],\n",
              "          [0.        , 0.        , 0.        ],\n",
              "          [0.        , 0.        , 0.        ],\n",
              "          ...,\n",
              "          [0.        , 0.        , 0.        ],\n",
              "          [0.        , 0.        , 0.        ],\n",
              "          [0.        , 0.        , 0.        ]],\n",
              " \n",
              "         [[0.        , 0.        , 0.        ],\n",
              "          [0.        , 0.        , 0.        ],\n",
              "          [0.        , 0.        , 0.        ],\n",
              "          ...,\n",
              "          [0.        , 0.        , 0.        ],\n",
              "          [0.        , 0.        , 0.        ],\n",
              "          [0.        , 0.        , 0.        ]],\n",
              " \n",
              "         [[0.        , 0.        , 0.        ],\n",
              "          [0.        , 0.        , 0.        ],\n",
              "          [0.        , 0.        , 0.        ],\n",
              "          ...,\n",
              "          [0.        , 0.        , 0.        ],\n",
              "          [0.        , 0.        , 0.        ],\n",
              "          [0.        , 0.        , 0.        ]],\n",
              " \n",
              "         ...,\n",
              " \n",
              "         [[0.15294118, 0.10196079, 0.16862746],\n",
              "          [0.18431373, 0.14117648, 0.20392159],\n",
              "          [0.16078432, 0.13725491, 0.19215688],\n",
              "          ...,\n",
              "          [0.04313726, 0.04313726, 0.08235294],\n",
              "          [0.03529412, 0.03529412, 0.07450981],\n",
              "          [0.03137255, 0.03137255, 0.07058824]],\n",
              " \n",
              "         [[0.14509805, 0.09411766, 0.16470589],\n",
              "          [0.17254902, 0.10588236, 0.1764706 ],\n",
              "          [0.16470589, 0.09803922, 0.16862746],\n",
              "          ...,\n",
              "          [0.03921569, 0.03921569, 0.07843138],\n",
              "          [0.03137255, 0.03137255, 0.07058824],\n",
              "          [0.03137255, 0.03137255, 0.07058824]],\n",
              " \n",
              "         [[0.15686275, 0.10588236, 0.1764706 ],\n",
              "          [0.14117648, 0.06666667, 0.14509805],\n",
              "          [0.18823531, 0.10588236, 0.18039216],\n",
              "          ...,\n",
              "          [0.03529412, 0.03529412, 0.07450981],\n",
              "          [0.03137255, 0.03137255, 0.07058824],\n",
              "          [0.03137255, 0.03137255, 0.07058824]]]], dtype=float32),\n",
              " (224, 224, 3))"
            ]
          },
          "metadata": {},
          "execution_count": 46
        }
      ]
    },
    {
      "cell_type": "code",
      "source": [
        "images[7].shape"
      ],
      "metadata": {
        "colab": {
          "base_uri": "https://localhost:8080/"
        },
        "id": "o9o8uu-scG9T",
        "outputId": "fd3a003a-41f9-4bdf-ffc2-3010f76b400e"
      },
      "execution_count": 48,
      "outputs": [
        {
          "output_type": "execute_result",
          "data": {
            "text/plain": [
              "(224, 224, 3)"
            ]
          },
          "metadata": {},
          "execution_count": 48
        }
      ]
    },
    {
      "cell_type": "code",
      "source": [
        "#view the first batch of labels\n",
        "labels"
      ],
      "metadata": {
        "colab": {
          "base_uri": "https://localhost:8080/"
        },
        "id": "F_B5LjarcYsc",
        "outputId": "0c60c0af-4c63-483c-eb65-49a59861adb8"
      },
      "execution_count": 49,
      "outputs": [
        {
          "output_type": "execute_result",
          "data": {
            "text/plain": [
              "array([1., 1., 0., 1., 0., 1., 1., 1., 1., 0., 0., 1., 1., 0., 0., 0., 1.,\n",
              "       1., 1., 0., 0., 1., 1., 0., 1., 1., 1., 0., 1., 1., 1., 1.],\n",
              "      dtype=float32)"
            ]
          },
          "metadata": {},
          "execution_count": 49
        }
      ]
    },
    {
      "cell_type": "markdown",
      "source": [
        "### 3. Create a CNN model (star with a baseline)\n",
        "\n",
        "A baseline is  a relatively simple model or existing result that u setup when beginning a machine learning experiment and then as you keep experimenting, you try to beat the baseline.\n",
        "\n",
        "> **Note** In deep learning, there is almost an infinite amount of architectures u could create. so one of the best way to get started is to start woth something simple and see if it works on ur data and then introduce complexity as required (e.g look at which current model is performing best in the field for ur problem)."
      ],
      "metadata": {
        "id": "SYqbZ2Mzcqzz"
      }
    },
    {
      "cell_type": "markdown",
      "source": [
        ""
      ],
      "metadata": {
        "id": "oCe6YXETe5nO"
      }
    },
    {
      "cell_type": "code",
      "source": [
        "#make the creating of our model a little easier\n",
        "from tensorflow.keras.optimizers import Adam\n",
        "from tensorflow.keras.layers import Dense, Flatten, Conv2D, MaxPool2D, Activation\n",
        "from tensorflow.keras import Sequential"
      ],
      "metadata": {
        "id": "ye1h-68cdceE"
      },
      "execution_count": 51,
      "outputs": []
    },
    {
      "cell_type": "code",
      "source": [
        "#create the model (this will be our baseline, a layer convolutional neural network)\n",
        "model_4 = Sequential([\n",
        "                      Conv2D(filters=10, #numeb rof sliding windows, higher is for complex model\n",
        "                             kernel_size=3, # the size of the sliding window\n",
        "                             strides=1, #the size of the step the sliding window takes across an input\n",
        "                             padding=\"valid\", #if same, output shape is same as input shape, if valid, output is compress\n",
        "                             activation=\"relu\",\n",
        "                             input_shape=(224,224,3)), #input layer (specify input shape)\n",
        "                      Conv2D(10,3, activation=\"relu\"),\n",
        "                      Conv2D(10,3, activation=\"relu\"),\n",
        "                      Flatten(),\n",
        "                      Dense(1, activation=\"sigmoid\") #output layer (working with binary classification so only 1 output neuron)\n",
        "])"
      ],
      "metadata": {
        "id": "cqr4eJN-d3Wi"
      },
      "execution_count": 53,
      "outputs": []
    },
    {
      "cell_type": "code",
      "source": [
        ""
      ],
      "metadata": {
        "id": "haLH-u4bepQV"
      },
      "execution_count": null,
      "outputs": []
    }
  ]
}