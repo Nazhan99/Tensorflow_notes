{
  "nbformat": 4,
  "nbformat_minor": 0,
  "metadata": {
    "colab": {
      "name": "10_time_series_forecasting_tensorflow.ipynb",
      "provenance": [],
      "authorship_tag": "ABX9TyOpCBbnhWzoMNdstnVDEEct",
      "include_colab_link": true
    },
    "kernelspec": {
      "name": "python3",
      "display_name": "Python 3"
    },
    "language_info": {
      "name": "python"
    }
  },
  "cells": [
    {
      "cell_type": "markdown",
      "metadata": {
        "id": "view-in-github",
        "colab_type": "text"
      },
      "source": [
        "<a href=\"https://colab.research.google.com/github/Nazhan99/Tensorflow_notes/blob/main/10_time_series_forecasting_tensorflow.ipynb\" target=\"_parent\"><img src=\"https://colab.research.google.com/assets/colab-badge.svg\" alt=\"Open In Colab\"/></a>"
      ]
    },
    {
      "cell_type": "markdown",
      "source": [
        "# Time series forecasting fundamentals with tensorflow + milestone project 3: BitPredict\n",
        "\n",
        "let's write some tensorflow code to predict the price of Bitcoin based on the historical price of Bitcoin"
      ],
      "metadata": {
        "id": "7jHMii3WNEvR"
      }
    },
    {
      "cell_type": "code",
      "source": [
        "## Get data\n",
        "!wget https://raw.githubusercontent.com/mrdbourke/tensorflow-deep-learning/main/extras/BTC_USD_2013-10-01_2021-05-18-CoinDesk.csv"
      ],
      "metadata": {
        "id": "sYzZ1491adA4"
      },
      "execution_count": null,
      "outputs": []
    }
  ]
}