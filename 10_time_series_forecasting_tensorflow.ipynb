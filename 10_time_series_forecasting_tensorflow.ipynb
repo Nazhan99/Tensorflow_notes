{
  "nbformat": 4,
  "nbformat_minor": 0,
  "metadata": {
    "colab": {
      "name": "10_time_series_forecasting_tensorflow.ipynb",
      "provenance": [],
      "collapsed_sections": [],
      "authorship_tag": "ABX9TyMCiN0Sw2GX5SKW7JxbYQuD",
      "include_colab_link": true
    },
    "kernelspec": {
      "name": "python3",
      "display_name": "Python 3"
    },
    "language_info": {
      "name": "python"
    },
    "accelerator": "GPU"
  },
  "cells": [
    {
      "cell_type": "markdown",
      "metadata": {
        "id": "view-in-github",
        "colab_type": "text"
      },
      "source": [
        "<a href=\"https://colab.research.google.com/github/Nazhan99/Tensorflow_notes/blob/main/10_time_series_forecasting_tensorflow.ipynb\" target=\"_parent\"><img src=\"https://colab.research.google.com/assets/colab-badge.svg\" alt=\"Open In Colab\"/></a>"
      ]
    },
    {
      "cell_type": "markdown",
      "source": [
        "# Time series forecasting fundamentals with tensorflow + milestone project 3: BitPredict\n",
        "\n",
        "let's write some tensorflow code to predict the price of Bitcoin based on the historical price of Bitcoin"
      ],
      "metadata": {
        "id": "7jHMii3WNEvR"
      }
    },
    {
      "cell_type": "markdown",
      "source": [
        "## Get data\n",
        "bitcoin data can be download at https://www.coindesk.com/price/bitcoin/"
      ],
      "metadata": {
        "id": "kY2UMJzDbw1-"
      }
    },
    {
      "cell_type": "code",
      "source": [
        "!wget https://raw.githubusercontent.com/mrdbourke/tensorflow-deep-learning/main/extras/BTC_USD_2013-10-01_2021-05-18-CoinDesk.csv"
      ],
      "metadata": {
        "colab": {
          "base_uri": "https://localhost:8080/"
        },
        "id": "sYzZ1491adA4",
        "outputId": "8e6ca510-da25-4a65-8b50-414fa5182452"
      },
      "execution_count": 1,
      "outputs": [
        {
          "output_type": "stream",
          "name": "stdout",
          "text": [
            "--2022-04-14 07:01:52--  https://raw.githubusercontent.com/mrdbourke/tensorflow-deep-learning/main/extras/BTC_USD_2013-10-01_2021-05-18-CoinDesk.csv\n",
            "Resolving raw.githubusercontent.com (raw.githubusercontent.com)... 185.199.108.133, 185.199.109.133, 185.199.110.133, ...\n",
            "Connecting to raw.githubusercontent.com (raw.githubusercontent.com)|185.199.108.133|:443... connected.\n",
            "HTTP request sent, awaiting response... 200 OK\n",
            "Length: 178509 (174K) [text/plain]\n",
            "Saving to: ‘BTC_USD_2013-10-01_2021-05-18-CoinDesk.csv’\n",
            "\n",
            "\r          BTC_USD_2   0%[                    ]       0  --.-KB/s               \rBTC_USD_2013-10-01_ 100%[===================>] 174.33K  --.-KB/s    in 0.02s   \n",
            "\n",
            "2022-04-14 07:01:52 (7.66 MB/s) - ‘BTC_USD_2013-10-01_2021-05-18-CoinDesk.csv’ saved [178509/178509]\n",
            "\n"
          ]
        }
      ]
    },
    {
      "cell_type": "markdown",
      "source": [
        "## Importing time series with pandas"
      ],
      "metadata": {
        "id": "YtsRCekHbtgh"
      }
    },
    {
      "cell_type": "code",
      "source": [
        "#import pandas\n",
        "import pandas as pd\n",
        "\n",
        "#let's read in our bitcoin ata and parse the dates\n",
        "df = pd.read_csv(\"/content/BTC_USD_2013-10-01_2021-05-18-CoinDesk.csv\",\n",
        "                 parse_dates=[\"Date\"],\n",
        "                 index_col=[\"Date\"]) #parse the date column and tell pandas the column1 is a datetime\n",
        "df.head()"
      ],
      "metadata": {
        "colab": {
          "base_uri": "https://localhost:8080/",
          "height": 385
        },
        "id": "pmQnsf4OcAkZ",
        "outputId": "9a133a37-2cdd-4b1f-80a1-2c5ec4b4e1c0"
      },
      "execution_count": 2,
      "outputs": [
        {
          "output_type": "execute_result",
          "data": {
            "text/plain": [
              "           Currency  Closing Price (USD)  24h Open (USD)  24h High (USD)  \\\n",
              "Date                                                                       \n",
              "2013-10-01      BTC            123.65499       124.30466       124.75166   \n",
              "2013-10-02      BTC            125.45500       123.65499       125.75850   \n",
              "2013-10-03      BTC            108.58483       125.45500       125.66566   \n",
              "2013-10-04      BTC            118.67466       108.58483       118.67500   \n",
              "2013-10-05      BTC            121.33866       118.67466       121.93633   \n",
              "\n",
              "            24h Low (USD)  \n",
              "Date                       \n",
              "2013-10-01      122.56349  \n",
              "2013-10-02      123.63383  \n",
              "2013-10-03       83.32833  \n",
              "2013-10-04      107.05816  \n",
              "2013-10-05      118.00566  "
            ],
            "text/html": [
              "\n",
              "  <div id=\"df-3fc1b008-b63c-4bf4-98a9-6993d57f124f\">\n",
              "    <div class=\"colab-df-container\">\n",
              "      <div>\n",
              "<style scoped>\n",
              "    .dataframe tbody tr th:only-of-type {\n",
              "        vertical-align: middle;\n",
              "    }\n",
              "\n",
              "    .dataframe tbody tr th {\n",
              "        vertical-align: top;\n",
              "    }\n",
              "\n",
              "    .dataframe thead th {\n",
              "        text-align: right;\n",
              "    }\n",
              "</style>\n",
              "<table border=\"1\" class=\"dataframe\">\n",
              "  <thead>\n",
              "    <tr style=\"text-align: right;\">\n",
              "      <th></th>\n",
              "      <th>Currency</th>\n",
              "      <th>Closing Price (USD)</th>\n",
              "      <th>24h Open (USD)</th>\n",
              "      <th>24h High (USD)</th>\n",
              "      <th>24h Low (USD)</th>\n",
              "    </tr>\n",
              "    <tr>\n",
              "      <th>Date</th>\n",
              "      <th></th>\n",
              "      <th></th>\n",
              "      <th></th>\n",
              "      <th></th>\n",
              "      <th></th>\n",
              "    </tr>\n",
              "  </thead>\n",
              "  <tbody>\n",
              "    <tr>\n",
              "      <th>2013-10-01</th>\n",
              "      <td>BTC</td>\n",
              "      <td>123.65499</td>\n",
              "      <td>124.30466</td>\n",
              "      <td>124.75166</td>\n",
              "      <td>122.56349</td>\n",
              "    </tr>\n",
              "    <tr>\n",
              "      <th>2013-10-02</th>\n",
              "      <td>BTC</td>\n",
              "      <td>125.45500</td>\n",
              "      <td>123.65499</td>\n",
              "      <td>125.75850</td>\n",
              "      <td>123.63383</td>\n",
              "    </tr>\n",
              "    <tr>\n",
              "      <th>2013-10-03</th>\n",
              "      <td>BTC</td>\n",
              "      <td>108.58483</td>\n",
              "      <td>125.45500</td>\n",
              "      <td>125.66566</td>\n",
              "      <td>83.32833</td>\n",
              "    </tr>\n",
              "    <tr>\n",
              "      <th>2013-10-04</th>\n",
              "      <td>BTC</td>\n",
              "      <td>118.67466</td>\n",
              "      <td>108.58483</td>\n",
              "      <td>118.67500</td>\n",
              "      <td>107.05816</td>\n",
              "    </tr>\n",
              "    <tr>\n",
              "      <th>2013-10-05</th>\n",
              "      <td>BTC</td>\n",
              "      <td>121.33866</td>\n",
              "      <td>118.67466</td>\n",
              "      <td>121.93633</td>\n",
              "      <td>118.00566</td>\n",
              "    </tr>\n",
              "  </tbody>\n",
              "</table>\n",
              "</div>\n",
              "      <button class=\"colab-df-convert\" onclick=\"convertToInteractive('df-3fc1b008-b63c-4bf4-98a9-6993d57f124f')\"\n",
              "              title=\"Convert this dataframe to an interactive table.\"\n",
              "              style=\"display:none;\">\n",
              "        \n",
              "  <svg xmlns=\"http://www.w3.org/2000/svg\" height=\"24px\"viewBox=\"0 0 24 24\"\n",
              "       width=\"24px\">\n",
              "    <path d=\"M0 0h24v24H0V0z\" fill=\"none\"/>\n",
              "    <path d=\"M18.56 5.44l.94 2.06.94-2.06 2.06-.94-2.06-.94-.94-2.06-.94 2.06-2.06.94zm-11 1L8.5 8.5l.94-2.06 2.06-.94-2.06-.94L8.5 2.5l-.94 2.06-2.06.94zm10 10l.94 2.06.94-2.06 2.06-.94-2.06-.94-.94-2.06-.94 2.06-2.06.94z\"/><path d=\"M17.41 7.96l-1.37-1.37c-.4-.4-.92-.59-1.43-.59-.52 0-1.04.2-1.43.59L10.3 9.45l-7.72 7.72c-.78.78-.78 2.05 0 2.83L4 21.41c.39.39.9.59 1.41.59.51 0 1.02-.2 1.41-.59l7.78-7.78 2.81-2.81c.8-.78.8-2.07 0-2.86zM5.41 20L4 18.59l7.72-7.72 1.47 1.35L5.41 20z\"/>\n",
              "  </svg>\n",
              "      </button>\n",
              "      \n",
              "  <style>\n",
              "    .colab-df-container {\n",
              "      display:flex;\n",
              "      flex-wrap:wrap;\n",
              "      gap: 12px;\n",
              "    }\n",
              "\n",
              "    .colab-df-convert {\n",
              "      background-color: #E8F0FE;\n",
              "      border: none;\n",
              "      border-radius: 50%;\n",
              "      cursor: pointer;\n",
              "      display: none;\n",
              "      fill: #1967D2;\n",
              "      height: 32px;\n",
              "      padding: 0 0 0 0;\n",
              "      width: 32px;\n",
              "    }\n",
              "\n",
              "    .colab-df-convert:hover {\n",
              "      background-color: #E2EBFA;\n",
              "      box-shadow: 0px 1px 2px rgba(60, 64, 67, 0.3), 0px 1px 3px 1px rgba(60, 64, 67, 0.15);\n",
              "      fill: #174EA6;\n",
              "    }\n",
              "\n",
              "    [theme=dark] .colab-df-convert {\n",
              "      background-color: #3B4455;\n",
              "      fill: #D2E3FC;\n",
              "    }\n",
              "\n",
              "    [theme=dark] .colab-df-convert:hover {\n",
              "      background-color: #434B5C;\n",
              "      box-shadow: 0px 1px 3px 1px rgba(0, 0, 0, 0.15);\n",
              "      filter: drop-shadow(0px 1px 2px rgba(0, 0, 0, 0.3));\n",
              "      fill: #FFFFFF;\n",
              "    }\n",
              "  </style>\n",
              "\n",
              "      <script>\n",
              "        const buttonEl =\n",
              "          document.querySelector('#df-3fc1b008-b63c-4bf4-98a9-6993d57f124f button.colab-df-convert');\n",
              "        buttonEl.style.display =\n",
              "          google.colab.kernel.accessAllowed ? 'block' : 'none';\n",
              "\n",
              "        async function convertToInteractive(key) {\n",
              "          const element = document.querySelector('#df-3fc1b008-b63c-4bf4-98a9-6993d57f124f');\n",
              "          const dataTable =\n",
              "            await google.colab.kernel.invokeFunction('convertToInteractive',\n",
              "                                                     [key], {});\n",
              "          if (!dataTable) return;\n",
              "\n",
              "          const docLinkHtml = 'Like what you see? Visit the ' +\n",
              "            '<a target=\"_blank\" href=https://colab.research.google.com/notebooks/data_table.ipynb>data table notebook</a>'\n",
              "            + ' to learn more about interactive tables.';\n",
              "          element.innerHTML = '';\n",
              "          dataTable['output_type'] = 'display_data';\n",
              "          await google.colab.output.renderOutput(dataTable, element);\n",
              "          const docLink = document.createElement('div');\n",
              "          docLink.innerHTML = docLinkHtml;\n",
              "          element.appendChild(docLink);\n",
              "        }\n",
              "      </script>\n",
              "    </div>\n",
              "  </div>\n",
              "  "
            ]
          },
          "metadata": {},
          "execution_count": 2
        }
      ]
    },
    {
      "cell_type": "code",
      "source": [
        "df.info()"
      ],
      "metadata": {
        "colab": {
          "base_uri": "https://localhost:8080/"
        },
        "id": "fdNN65EpczFl",
        "outputId": "be6f5348-e393-4e90-ab85-8f8dadfd1161"
      },
      "execution_count": 3,
      "outputs": [
        {
          "output_type": "stream",
          "name": "stdout",
          "text": [
            "<class 'pandas.core.frame.DataFrame'>\n",
            "DatetimeIndex: 2787 entries, 2013-10-01 to 2021-05-18\n",
            "Data columns (total 5 columns):\n",
            " #   Column               Non-Null Count  Dtype  \n",
            "---  ------               --------------  -----  \n",
            " 0   Currency             2787 non-null   object \n",
            " 1   Closing Price (USD)  2787 non-null   float64\n",
            " 2   24h Open (USD)       2787 non-null   float64\n",
            " 3   24h High (USD)       2787 non-null   float64\n",
            " 4   24h Low (USD)        2787 non-null   float64\n",
            "dtypes: float64(4), object(1)\n",
            "memory usage: 130.6+ KB\n"
          ]
        }
      ]
    },
    {
      "cell_type": "code",
      "source": [
        "# how many samples do we have?\n",
        "len(df)"
      ],
      "metadata": {
        "colab": {
          "base_uri": "https://localhost:8080/"
        },
        "id": "cia9cI4kc1nW",
        "outputId": "13679be3-d6ac-4428-c349-805c63d9de40"
      },
      "execution_count": 4,
      "outputs": [
        {
          "output_type": "execute_result",
          "data": {
            "text/plain": [
              "2787"
            ]
          },
          "metadata": {},
          "execution_count": 4
        }
      ]
    },
    {
      "cell_type": "markdown",
      "source": [
        "we have collected the historical price of Bitcoin for the past of 8 years but there us 2787 samples.\n",
        "\n",
        "Typically deep learning models usually like lots and lots of samples where lots and lots can thousands to tens of thousand to millions.\n",
        "\n",
        "A smaller number of samples is something you will often run into with time series data problems.\n",
        "\n",
        "**Note:** the seasonality of a time series dataset is referred as the number of samples per year. So for our Bitcoin data, it has a seasonality of daily or value of 365 because we collect one sample per day meaning we will get 365 samples per year."
      ],
      "metadata": {
        "id": "P-moIXJOdUcH"
      }
    },
    {
      "cell_type": "code",
      "source": [
        "df.head()"
      ],
      "metadata": {
        "id": "yLwaA8--dMlv",
        "colab": {
          "base_uri": "https://localhost:8080/",
          "height": 385
        },
        "outputId": "80c2a325-f2db-4140-aa68-01070d01b4ad"
      },
      "execution_count": 5,
      "outputs": [
        {
          "output_type": "execute_result",
          "data": {
            "text/plain": [
              "           Currency  Closing Price (USD)  24h Open (USD)  24h High (USD)  \\\n",
              "Date                                                                       \n",
              "2013-10-01      BTC            123.65499       124.30466       124.75166   \n",
              "2013-10-02      BTC            125.45500       123.65499       125.75850   \n",
              "2013-10-03      BTC            108.58483       125.45500       125.66566   \n",
              "2013-10-04      BTC            118.67466       108.58483       118.67500   \n",
              "2013-10-05      BTC            121.33866       118.67466       121.93633   \n",
              "\n",
              "            24h Low (USD)  \n",
              "Date                       \n",
              "2013-10-01      122.56349  \n",
              "2013-10-02      123.63383  \n",
              "2013-10-03       83.32833  \n",
              "2013-10-04      107.05816  \n",
              "2013-10-05      118.00566  "
            ],
            "text/html": [
              "\n",
              "  <div id=\"df-a4d86562-b803-40a4-ab34-feed6a05b842\">\n",
              "    <div class=\"colab-df-container\">\n",
              "      <div>\n",
              "<style scoped>\n",
              "    .dataframe tbody tr th:only-of-type {\n",
              "        vertical-align: middle;\n",
              "    }\n",
              "\n",
              "    .dataframe tbody tr th {\n",
              "        vertical-align: top;\n",
              "    }\n",
              "\n",
              "    .dataframe thead th {\n",
              "        text-align: right;\n",
              "    }\n",
              "</style>\n",
              "<table border=\"1\" class=\"dataframe\">\n",
              "  <thead>\n",
              "    <tr style=\"text-align: right;\">\n",
              "      <th></th>\n",
              "      <th>Currency</th>\n",
              "      <th>Closing Price (USD)</th>\n",
              "      <th>24h Open (USD)</th>\n",
              "      <th>24h High (USD)</th>\n",
              "      <th>24h Low (USD)</th>\n",
              "    </tr>\n",
              "    <tr>\n",
              "      <th>Date</th>\n",
              "      <th></th>\n",
              "      <th></th>\n",
              "      <th></th>\n",
              "      <th></th>\n",
              "      <th></th>\n",
              "    </tr>\n",
              "  </thead>\n",
              "  <tbody>\n",
              "    <tr>\n",
              "      <th>2013-10-01</th>\n",
              "      <td>BTC</td>\n",
              "      <td>123.65499</td>\n",
              "      <td>124.30466</td>\n",
              "      <td>124.75166</td>\n",
              "      <td>122.56349</td>\n",
              "    </tr>\n",
              "    <tr>\n",
              "      <th>2013-10-02</th>\n",
              "      <td>BTC</td>\n",
              "      <td>125.45500</td>\n",
              "      <td>123.65499</td>\n",
              "      <td>125.75850</td>\n",
              "      <td>123.63383</td>\n",
              "    </tr>\n",
              "    <tr>\n",
              "      <th>2013-10-03</th>\n",
              "      <td>BTC</td>\n",
              "      <td>108.58483</td>\n",
              "      <td>125.45500</td>\n",
              "      <td>125.66566</td>\n",
              "      <td>83.32833</td>\n",
              "    </tr>\n",
              "    <tr>\n",
              "      <th>2013-10-04</th>\n",
              "      <td>BTC</td>\n",
              "      <td>118.67466</td>\n",
              "      <td>108.58483</td>\n",
              "      <td>118.67500</td>\n",
              "      <td>107.05816</td>\n",
              "    </tr>\n",
              "    <tr>\n",
              "      <th>2013-10-05</th>\n",
              "      <td>BTC</td>\n",
              "      <td>121.33866</td>\n",
              "      <td>118.67466</td>\n",
              "      <td>121.93633</td>\n",
              "      <td>118.00566</td>\n",
              "    </tr>\n",
              "  </tbody>\n",
              "</table>\n",
              "</div>\n",
              "      <button class=\"colab-df-convert\" onclick=\"convertToInteractive('df-a4d86562-b803-40a4-ab34-feed6a05b842')\"\n",
              "              title=\"Convert this dataframe to an interactive table.\"\n",
              "              style=\"display:none;\">\n",
              "        \n",
              "  <svg xmlns=\"http://www.w3.org/2000/svg\" height=\"24px\"viewBox=\"0 0 24 24\"\n",
              "       width=\"24px\">\n",
              "    <path d=\"M0 0h24v24H0V0z\" fill=\"none\"/>\n",
              "    <path d=\"M18.56 5.44l.94 2.06.94-2.06 2.06-.94-2.06-.94-.94-2.06-.94 2.06-2.06.94zm-11 1L8.5 8.5l.94-2.06 2.06-.94-2.06-.94L8.5 2.5l-.94 2.06-2.06.94zm10 10l.94 2.06.94-2.06 2.06-.94-2.06-.94-.94-2.06-.94 2.06-2.06.94z\"/><path d=\"M17.41 7.96l-1.37-1.37c-.4-.4-.92-.59-1.43-.59-.52 0-1.04.2-1.43.59L10.3 9.45l-7.72 7.72c-.78.78-.78 2.05 0 2.83L4 21.41c.39.39.9.59 1.41.59.51 0 1.02-.2 1.41-.59l7.78-7.78 2.81-2.81c.8-.78.8-2.07 0-2.86zM5.41 20L4 18.59l7.72-7.72 1.47 1.35L5.41 20z\"/>\n",
              "  </svg>\n",
              "      </button>\n",
              "      \n",
              "  <style>\n",
              "    .colab-df-container {\n",
              "      display:flex;\n",
              "      flex-wrap:wrap;\n",
              "      gap: 12px;\n",
              "    }\n",
              "\n",
              "    .colab-df-convert {\n",
              "      background-color: #E8F0FE;\n",
              "      border: none;\n",
              "      border-radius: 50%;\n",
              "      cursor: pointer;\n",
              "      display: none;\n",
              "      fill: #1967D2;\n",
              "      height: 32px;\n",
              "      padding: 0 0 0 0;\n",
              "      width: 32px;\n",
              "    }\n",
              "\n",
              "    .colab-df-convert:hover {\n",
              "      background-color: #E2EBFA;\n",
              "      box-shadow: 0px 1px 2px rgba(60, 64, 67, 0.3), 0px 1px 3px 1px rgba(60, 64, 67, 0.15);\n",
              "      fill: #174EA6;\n",
              "    }\n",
              "\n",
              "    [theme=dark] .colab-df-convert {\n",
              "      background-color: #3B4455;\n",
              "      fill: #D2E3FC;\n",
              "    }\n",
              "\n",
              "    [theme=dark] .colab-df-convert:hover {\n",
              "      background-color: #434B5C;\n",
              "      box-shadow: 0px 1px 3px 1px rgba(0, 0, 0, 0.15);\n",
              "      filter: drop-shadow(0px 1px 2px rgba(0, 0, 0, 0.3));\n",
              "      fill: #FFFFFF;\n",
              "    }\n",
              "  </style>\n",
              "\n",
              "      <script>\n",
              "        const buttonEl =\n",
              "          document.querySelector('#df-a4d86562-b803-40a4-ab34-feed6a05b842 button.colab-df-convert');\n",
              "        buttonEl.style.display =\n",
              "          google.colab.kernel.accessAllowed ? 'block' : 'none';\n",
              "\n",
              "        async function convertToInteractive(key) {\n",
              "          const element = document.querySelector('#df-a4d86562-b803-40a4-ab34-feed6a05b842');\n",
              "          const dataTable =\n",
              "            await google.colab.kernel.invokeFunction('convertToInteractive',\n",
              "                                                     [key], {});\n",
              "          if (!dataTable) return;\n",
              "\n",
              "          const docLinkHtml = 'Like what you see? Visit the ' +\n",
              "            '<a target=\"_blank\" href=https://colab.research.google.com/notebooks/data_table.ipynb>data table notebook</a>'\n",
              "            + ' to learn more about interactive tables.';\n",
              "          element.innerHTML = '';\n",
              "          dataTable['output_type'] = 'display_data';\n",
              "          await google.colab.output.renderOutput(dataTable, element);\n",
              "          const docLink = document.createElement('div');\n",
              "          docLink.innerHTML = docLinkHtml;\n",
              "          element.appendChild(docLink);\n",
              "        }\n",
              "      </script>\n",
              "    </div>\n",
              "  </div>\n",
              "  "
            ]
          },
          "metadata": {},
          "execution_count": 5
        }
      ]
    },
    {
      "cell_type": "code",
      "source": [
        "#only want closing price for each day\n",
        "bitcoin_prices = pd.DataFrame(df[\"Closing Price (USD)\"]).rename(columns={\"Closing Price (USD)\":\"Price\"})\n",
        "bitcoin_prices.head()"
      ],
      "metadata": {
        "colab": {
          "base_uri": "https://localhost:8080/",
          "height": 237
        },
        "id": "McEMrBvfGiX9",
        "outputId": "662aa7ee-5dff-47bb-82d7-2cde82721118"
      },
      "execution_count": 6,
      "outputs": [
        {
          "output_type": "execute_result",
          "data": {
            "text/plain": [
              "                Price\n",
              "Date                 \n",
              "2013-10-01  123.65499\n",
              "2013-10-02  125.45500\n",
              "2013-10-03  108.58483\n",
              "2013-10-04  118.67466\n",
              "2013-10-05  121.33866"
            ],
            "text/html": [
              "\n",
              "  <div id=\"df-5930af17-1f50-49c7-859d-ee46c373e99a\">\n",
              "    <div class=\"colab-df-container\">\n",
              "      <div>\n",
              "<style scoped>\n",
              "    .dataframe tbody tr th:only-of-type {\n",
              "        vertical-align: middle;\n",
              "    }\n",
              "\n",
              "    .dataframe tbody tr th {\n",
              "        vertical-align: top;\n",
              "    }\n",
              "\n",
              "    .dataframe thead th {\n",
              "        text-align: right;\n",
              "    }\n",
              "</style>\n",
              "<table border=\"1\" class=\"dataframe\">\n",
              "  <thead>\n",
              "    <tr style=\"text-align: right;\">\n",
              "      <th></th>\n",
              "      <th>Price</th>\n",
              "    </tr>\n",
              "    <tr>\n",
              "      <th>Date</th>\n",
              "      <th></th>\n",
              "    </tr>\n",
              "  </thead>\n",
              "  <tbody>\n",
              "    <tr>\n",
              "      <th>2013-10-01</th>\n",
              "      <td>123.65499</td>\n",
              "    </tr>\n",
              "    <tr>\n",
              "      <th>2013-10-02</th>\n",
              "      <td>125.45500</td>\n",
              "    </tr>\n",
              "    <tr>\n",
              "      <th>2013-10-03</th>\n",
              "      <td>108.58483</td>\n",
              "    </tr>\n",
              "    <tr>\n",
              "      <th>2013-10-04</th>\n",
              "      <td>118.67466</td>\n",
              "    </tr>\n",
              "    <tr>\n",
              "      <th>2013-10-05</th>\n",
              "      <td>121.33866</td>\n",
              "    </tr>\n",
              "  </tbody>\n",
              "</table>\n",
              "</div>\n",
              "      <button class=\"colab-df-convert\" onclick=\"convertToInteractive('df-5930af17-1f50-49c7-859d-ee46c373e99a')\"\n",
              "              title=\"Convert this dataframe to an interactive table.\"\n",
              "              style=\"display:none;\">\n",
              "        \n",
              "  <svg xmlns=\"http://www.w3.org/2000/svg\" height=\"24px\"viewBox=\"0 0 24 24\"\n",
              "       width=\"24px\">\n",
              "    <path d=\"M0 0h24v24H0V0z\" fill=\"none\"/>\n",
              "    <path d=\"M18.56 5.44l.94 2.06.94-2.06 2.06-.94-2.06-.94-.94-2.06-.94 2.06-2.06.94zm-11 1L8.5 8.5l.94-2.06 2.06-.94-2.06-.94L8.5 2.5l-.94 2.06-2.06.94zm10 10l.94 2.06.94-2.06 2.06-.94-2.06-.94-.94-2.06-.94 2.06-2.06.94z\"/><path d=\"M17.41 7.96l-1.37-1.37c-.4-.4-.92-.59-1.43-.59-.52 0-1.04.2-1.43.59L10.3 9.45l-7.72 7.72c-.78.78-.78 2.05 0 2.83L4 21.41c.39.39.9.59 1.41.59.51 0 1.02-.2 1.41-.59l7.78-7.78 2.81-2.81c.8-.78.8-2.07 0-2.86zM5.41 20L4 18.59l7.72-7.72 1.47 1.35L5.41 20z\"/>\n",
              "  </svg>\n",
              "      </button>\n",
              "      \n",
              "  <style>\n",
              "    .colab-df-container {\n",
              "      display:flex;\n",
              "      flex-wrap:wrap;\n",
              "      gap: 12px;\n",
              "    }\n",
              "\n",
              "    .colab-df-convert {\n",
              "      background-color: #E8F0FE;\n",
              "      border: none;\n",
              "      border-radius: 50%;\n",
              "      cursor: pointer;\n",
              "      display: none;\n",
              "      fill: #1967D2;\n",
              "      height: 32px;\n",
              "      padding: 0 0 0 0;\n",
              "      width: 32px;\n",
              "    }\n",
              "\n",
              "    .colab-df-convert:hover {\n",
              "      background-color: #E2EBFA;\n",
              "      box-shadow: 0px 1px 2px rgba(60, 64, 67, 0.3), 0px 1px 3px 1px rgba(60, 64, 67, 0.15);\n",
              "      fill: #174EA6;\n",
              "    }\n",
              "\n",
              "    [theme=dark] .colab-df-convert {\n",
              "      background-color: #3B4455;\n",
              "      fill: #D2E3FC;\n",
              "    }\n",
              "\n",
              "    [theme=dark] .colab-df-convert:hover {\n",
              "      background-color: #434B5C;\n",
              "      box-shadow: 0px 1px 3px 1px rgba(0, 0, 0, 0.15);\n",
              "      filter: drop-shadow(0px 1px 2px rgba(0, 0, 0, 0.3));\n",
              "      fill: #FFFFFF;\n",
              "    }\n",
              "  </style>\n",
              "\n",
              "      <script>\n",
              "        const buttonEl =\n",
              "          document.querySelector('#df-5930af17-1f50-49c7-859d-ee46c373e99a button.colab-df-convert');\n",
              "        buttonEl.style.display =\n",
              "          google.colab.kernel.accessAllowed ? 'block' : 'none';\n",
              "\n",
              "        async function convertToInteractive(key) {\n",
              "          const element = document.querySelector('#df-5930af17-1f50-49c7-859d-ee46c373e99a');\n",
              "          const dataTable =\n",
              "            await google.colab.kernel.invokeFunction('convertToInteractive',\n",
              "                                                     [key], {});\n",
              "          if (!dataTable) return;\n",
              "\n",
              "          const docLinkHtml = 'Like what you see? Visit the ' +\n",
              "            '<a target=\"_blank\" href=https://colab.research.google.com/notebooks/data_table.ipynb>data table notebook</a>'\n",
              "            + ' to learn more about interactive tables.';\n",
              "          element.innerHTML = '';\n",
              "          dataTable['output_type'] = 'display_data';\n",
              "          await google.colab.output.renderOutput(dataTable, element);\n",
              "          const docLink = document.createElement('div');\n",
              "          docLink.innerHTML = docLinkHtml;\n",
              "          element.appendChild(docLink);\n",
              "        }\n",
              "      </script>\n",
              "    </div>\n",
              "  </div>\n",
              "  "
            ]
          },
          "metadata": {},
          "execution_count": 6
        }
      ]
    },
    {
      "cell_type": "code",
      "source": [
        "import matplotlib.pyplot as plt\n",
        "bitcoin_prices.plot(figsize=(10,7))\n",
        "plt.ylabel(\"BTC Price\")\n",
        "plt.title(\"Price of Bitcoin from 1 Oct 2013 to 18 May 2021\", fontsize=16)\n",
        "plt.legend(fontsize=14);"
      ],
      "metadata": {
        "colab": {
          "base_uri": "https://localhost:8080/",
          "height": 460
        },
        "id": "DvUDYfV3G7e3",
        "outputId": "b98b592d-50b6-4d5e-83a1-54819baa07b4"
      },
      "execution_count": 7,
      "outputs": [
        {
          "output_type": "display_data",
          "data": {
            "text/plain": [
              "<Figure size 720x504 with 1 Axes>"
            ],
            "image/png": "[encoded data removed]"
          },
          "metadata": {
            "needs_background": "light"
          }
        }
      ]
    },
    {
      "cell_type": "markdown",
      "source": [
        "## Importing time series data with Python's CSV module"
      ],
      "metadata": {
        "id": "lk-ekFz6HcmZ"
      }
    },
    {
      "cell_type": "code",
      "source": [
        "#Importing and formatting historical Bitcoin data with python\n",
        "import csv\n",
        "from datetime import datetime\n",
        "\n",
        "timesteps = []\n",
        "btc_price = []\n",
        "with open(\"/content/BTC_USD_2013-10-01_2021-05-18-CoinDesk.csv\", \"r\") as f:\n",
        "  csv_reader = csv.reader(f,delimiter=\",\")\n",
        "  next(csv_reader) #skip first line (this gets rid of the column titles)\n",
        "  for line in csv_reader:\n",
        "    timesteps.append(datetime.strptime(line[1], \"%Y-%m-%d\")) #get the dates as dates (not string)\n",
        "    btc_price.append(float(line[2])) #get the closing price as float\n",
        "\n",
        "#view first 10 of each\n",
        "timesteps[:10], btc_price[:10]"
      ],
      "metadata": {
        "colab": {
          "base_uri": "https://localhost:8080/"
        },
        "id": "omPI-u1GH31y",
        "outputId": "8f07ef2e-7490-47ea-99af-4d9ebc6c27a5"
      },
      "execution_count": 8,
      "outputs": [
        {
          "output_type": "execute_result",
          "data": {
            "text/plain": [
              "([datetime.datetime(2013, 10, 1, 0, 0),\n",
              "  datetime.datetime(2013, 10, 2, 0, 0),\n",
              "  datetime.datetime(2013, 10, 3, 0, 0),\n",
              "  datetime.datetime(2013, 10, 4, 0, 0),\n",
              "  datetime.datetime(2013, 10, 5, 0, 0),\n",
              "  datetime.datetime(2013, 10, 6, 0, 0),\n",
              "  datetime.datetime(2013, 10, 7, 0, 0),\n",
              "  datetime.datetime(2013, 10, 8, 0, 0),\n",
              "  datetime.datetime(2013, 10, 9, 0, 0),\n",
              "  datetime.datetime(2013, 10, 10, 0, 0)],\n",
              " [123.65499,\n",
              "  125.455,\n",
              "  108.58483,\n",
              "  118.67466,\n",
              "  121.33866,\n",
              "  120.65533,\n",
              "  121.795,\n",
              "  123.033,\n",
              "  124.049,\n",
              "  125.96116])"
            ]
          },
          "metadata": {},
          "execution_count": 8
        }
      ]
    },
    {
      "cell_type": "code",
      "source": [
        "#plot from CSV\n",
        "import matplotlib.pyplot as plt\n",
        "import numpy as np\n",
        "plt.figure(figsize=(10,7))\n",
        "plt.plot(timesteps, btc_price)\n",
        "plt.ylabel(\"BTC price\")\n",
        "plt.xlabel(\"Date\")\n",
        "plt.title(\"Price of Bitcoin from 1 Oct 2013 to 18 May 2021\", fontsize = 16);"
      ],
      "metadata": {
        "colab": {
          "base_uri": "https://localhost:8080/",
          "height": 460
        },
        "id": "yfcokQhLJZpl",
        "outputId": "1f718d49-d609-4701-f3a3-4641314d4ec3"
      },
      "execution_count": 9,
      "outputs": [
        {
          "output_type": "display_data",
          "data": {
            "text/plain": [
              "<Figure size 720x504 with 1 Axes>"
            ],
            "image/png": "[encoded data removed]"
          },
          "metadata": {
            "needs_background": "light"
          }
        }
      ]
    },
    {
      "cell_type": "markdown",
      "source": [
        "## Format data part 1: Create train and test sets of our time series data"
      ],
      "metadata": {
        "id": "-60ROgHEKVWc"
      }
    },
    {
      "cell_type": "markdown",
      "source": [
        "### Creating train and test sets with time series data (wrong way)"
      ],
      "metadata": {
        "id": "bYb6F35aKsp5"
      }
    },
    {
      "cell_type": "code",
      "source": [
        "#get bitcoing date array\n",
        "timesteps = bitcoin_prices.index.to_numpy()\n",
        "prices = bitcoin_prices[\"Price\"].to_numpy()\n",
        "\n",
        "timesteps[:10], prices[:10]"
      ],
      "metadata": {
        "colab": {
          "base_uri": "https://localhost:8080/"
        },
        "id": "lkg74R3-K5R1",
        "outputId": "a2da9f88-aeb9-4e9a-a9c8-d2a10c732f61"
      },
      "execution_count": 10,
      "outputs": [
        {
          "output_type": "execute_result",
          "data": {
            "text/plain": [
              "(array(['2013-10-01T00:00:00.000000000', '2013-10-02T00:00:00.000000000',\n",
              "        '2013-10-03T00:00:00.000000000', '2013-10-04T00:00:00.000000000',\n",
              "        '2013-10-05T00:00:00.000000000', '2013-10-06T00:00:00.000000000',\n",
              "        '2013-10-07T00:00:00.000000000', '2013-10-08T00:00:00.000000000',\n",
              "        '2013-10-09T00:00:00.000000000', '2013-10-10T00:00:00.000000000'],\n",
              "       dtype='datetime64[ns]'),\n",
              " array([123.65499, 125.455  , 108.58483, 118.67466, 121.33866, 120.65533,\n",
              "        121.795  , 123.033  , 124.049  , 125.96116]))"
            ]
          },
          "metadata": {},
          "execution_count": 10
        }
      ]
    },
    {
      "cell_type": "code",
      "source": [
        "#wrong way to make train/test sets for time series data\n",
        "from sklearn.model_selection import train_test_split\n",
        "\n",
        "X_train, X_test, y_train, y_test = train_test_split(timesteps, #dates\n",
        "                                                   prices, #BTC prices\n",
        "                                                   test_size=0.2,\n",
        "                                                   random_state=42)\n",
        "\n",
        "X_train.shape, X_test.shape, y_train.shape, y_test.shape"
      ],
      "metadata": {
        "colab": {
          "base_uri": "https://localhost:8080/"
        },
        "id": "EALuk0ccLHHL",
        "outputId": "2c0e39b4-7d05-488e-b32e-6c9bcbeae84b"
      },
      "execution_count": 11,
      "outputs": [
        {
          "output_type": "execute_result",
          "data": {
            "text/plain": [
              "((2229,), (558,), (2229,), (558,))"
            ]
          },
          "metadata": {},
          "execution_count": 11
        }
      ]
    },
    {
      "cell_type": "code",
      "source": [
        "#Let's plot wrong train and test splits\n",
        "plt.figure(figsize=(10,7))\n",
        "plt.scatter(X_train, y_train, s=5, label=\"Train data\")\n",
        "plt.scatter(X_test, y_test, s=5, label=\"Test data\")\n",
        "plt.legend(fontsize=14)\n",
        "plt.ylabel(\"BTC price\")\n",
        "plt.xlabel(\"Date\")\n",
        "plt.show();"
      ],
      "metadata": {
        "colab": {
          "base_uri": "https://localhost:8080/",
          "height": 442
        },
        "id": "yk0n4UVwLsTU",
        "outputId": "6bc80d3c-3fd2-4ccf-aa7e-0071bbb053ba"
      },
      "execution_count": 12,
      "outputs": [
        {
          "output_type": "display_data",
          "data": {
            "text/plain": [
              "<Figure size 720x504 with 1 Axes>"
            ],
            "image/png": "[encoded data removed]"
          },
          "metadata": {
            "needs_background": "light"
          }
        }
      ]
    },
    {
      "cell_type": "markdown",
      "source": [
        "### Create train & test sets for time series (right way)"
      ],
      "metadata": {
        "id": "fRX01n_kMTPF"
      }
    },
    {
      "cell_type": "code",
      "source": [
        "# create train and test splits the right way for time series data \n",
        "split_size = int(0.8 * len(prices)) # 80% train, 20% test\n",
        "\n",
        "#create train data splits (Everythings before the split)\n",
        "X_train, y_train = timesteps[:split_size], prices[:split_size]\n",
        "\n",
        "#create test data splits (everythings beyond the split)\n",
        "X_test, y_test = timesteps[split_size:], prices[split_size:]\n",
        "\n",
        "len(X_train), len(y_train), len(X_test), len(y_test)"
      ],
      "metadata": {
        "colab": {
          "base_uri": "https://localhost:8080/"
        },
        "id": "Qxkq3UQaNRGK",
        "outputId": "1acc06ea-f85b-4148-97ac-e1c4e789a4be"
      },
      "execution_count": 13,
      "outputs": [
        {
          "output_type": "execute_result",
          "data": {
            "text/plain": [
              "(2229, 2229, 558, 558)"
            ]
          },
          "metadata": {},
          "execution_count": 13
        }
      ]
    },
    {
      "cell_type": "code",
      "source": [
        "plt.figure(figsize=(10,7))\n",
        "plt.scatter(X_train, y_train, s=5, label=\"Train data\")\n",
        "plt.scatter(X_test, y_test, s=5, label=\"Test data\")\n",
        "plt.legend(fontsize=14)\n",
        "plt.ylabel(\"BTC price\")\n",
        "plt.xlabel(\"Date\")\n",
        "plt.show();"
      ],
      "metadata": {
        "colab": {
          "base_uri": "https://localhost:8080/",
          "height": 442
        },
        "id": "CpZwaIkgOAlL",
        "outputId": "e65e9ae4-6de5-463a-9a24-72c51208e093"
      },
      "execution_count": 14,
      "outputs": [
        {
          "output_type": "display_data",
          "data": {
            "text/plain": [
              "<Figure size 720x504 with 1 Axes>"
            ],
            "image/png": "[encoded data removed]"
          },
          "metadata": {
            "needs_background": "light"
          }
        }
      ]
    },
    {
      "cell_type": "markdown",
      "source": [
        "### Create a plotting function\n",
        "\n",
        "typing plotting code is tedious, let's functionize it"
      ],
      "metadata": {
        "id": "I3lDZANJOG4F"
      }
    },
    {
      "cell_type": "code",
      "source": [
        "#create a function to plot time series data\n",
        "def plot_time_series(timesteps, values, format=\".\", start=0, end=None, label=None):\n",
        "  \"\"\"\n",
        "  Plots timesteps (a series of points in time) against values\n",
        "\n",
        "  Parameters\n",
        "  -------------\n",
        "  timesteps : array of timestep values\n",
        "  values : array of values across time\n",
        "  format : style of plot, default \".\"\n",
        "  start : where to start the plot (setting a value will index from start of timesteps)\n",
        "  end : where to end the plot (similar to start but for the end)\n",
        "  label : label to show on plot about values\n",
        "  \"\"\"\n",
        "  #plot the series\n",
        "  plt.plot(timesteps[start:end], values[start:end], format, label=label)\n",
        "  plt.xlabel(\"Time\")\n",
        "  plt.ylabel(\"BTC Price\")\n",
        "  if label:\n",
        "    plt.legend(fontsize=14) #make label bigger\n",
        "  plt.grid(True)\n",
        "\n",
        "\n"
      ],
      "metadata": {
        "id": "yreoLq3COy-6"
      },
      "execution_count": 15,
      "outputs": []
    },
    {
      "cell_type": "code",
      "source": [
        "#test our plotting function\n",
        "plot_time_series(timesteps=X_train, values=y_train, label=\"Train data\")\n",
        "plot_time_series(timesteps=X_test, values=y_test, label=\"Test data\")"
      ],
      "metadata": {
        "colab": {
          "base_uri": "https://localhost:8080/",
          "height": 278
        },
        "id": "dE05-CIwQMbz",
        "outputId": "b0fc7b08-6289-4ec5-e65d-194285717a24"
      },
      "execution_count": 16,
      "outputs": [
        {
          "output_type": "display_data",
          "data": {
            "text/plain": [
              "<Figure size 432x288 with 1 Axes>"
            ],
            "image/png": "[encoded data removed]"
          },
          "metadata": {
            "needs_background": "light"
          }
        }
      ]
    },
    {
      "cell_type": "markdown",
      "source": [
        "## Modelling Experiments\n",
        "\n",
        "we got somme Bitcoin historical data to model it, let's run a series of modelling experiments and see which model performs best.\n",
        "\n",
        "Terms to be familiar with:\n",
        "* **Horizon** = number of timesteps into the future we are going to predict\n",
        "* **Window size** = number of timesteps we are going to use to predict **horizon**\n",
        "\n",
        "Modelling experiments we are running:\n",
        "* 0 naive model (baseline) NA NA NA\n",
        "* 1 Dense mode, horizon =1, window =7\n",
        "* 2 Same as 1, horizon = 1, window =  30 \n",
        "* 3 Same as 1, horizon = 7, window = 30\n",
        "* 4 Conv1D 1 7 NA\n",
        "* 5 LSTM 1 7 NA\n",
        "* 6 Same as 1 (but with multivariate data) 1 7 Block reward test_size* 7 N-BEATs Algorithm 1 7 NA\n",
        "* 8 Ensemble (multiple models optimized on different loss functions) 1 7 NA\n",
        "* 9 Future prediction model (model to predict future values)\n",
        "* 10 Same as 1 (but with turkey data introduced) 1 7 NA"
      ],
      "metadata": {
        "id": "0AH9mu2jQeF-"
      }
    },
    {
      "cell_type": "markdown",
      "source": [
        "## Model 0: Naive forecast (baseline)\n",
        "\n",
        "The formula looks like this:\n",
        "\n",
        "$$\\hat{y}_{t} = y_{t-1}$$\n",
        "\n",
        "In english:\n",
        "\n",
        "> The prediction at timestep t (y-hat) is equal to the value at timestep t-1 (previous timestep)-this is for horizon"
      ],
      "metadata": {
        "id": "oI4UVhfztab2"
      }
    },
    {
      "cell_type": "code",
      "source": [
        "# create a naive forecast\n",
        "naive_forecast = y_test[:-1]\n",
        "\n",
        "naive_forecast[:10], naive_forecast[-10:]"
      ],
      "metadata": {
        "colab": {
          "base_uri": "https://localhost:8080/"
        },
        "id": "t1LqXwLevAZ4",
        "outputId": "e7e15c91-8ed0-4a92-985b-acf171c41078"
      },
      "execution_count": 17,
      "outputs": [
        {
          "output_type": "execute_result",
          "data": {
            "text/plain": [
              "(array([9226.48582088, 8794.35864452, 8798.04205463, 9081.18687849,\n",
              "        8711.53433917, 8760.89271814, 8749.52059102, 8656.97092235,\n",
              "        8500.64355816, 8469.2608989 ]),\n",
              " array([57107.12067189, 58788.20967893, 58102.19142623, 55715.54665129,\n",
              "        56573.5554719 , 52147.82118698, 49764.1320816 , 50032.69313676,\n",
              "        47885.62525472, 45604.61575361]))"
            ]
          },
          "metadata": {},
          "execution_count": 17
        }
      ]
    },
    {
      "cell_type": "code",
      "source": [
        "y_test[-10:]"
      ],
      "metadata": {
        "colab": {
          "base_uri": "https://localhost:8080/"
        },
        "id": "NVbtMrrJvLsR",
        "outputId": "9db475bb-db27-4d35-8a76-05f6923d4dc9"
      },
      "execution_count": 18,
      "outputs": [
        {
          "output_type": "execute_result",
          "data": {
            "text/plain": [
              "array([58788.20967893, 58102.19142623, 55715.54665129, 56573.5554719 ,\n",
              "       52147.82118698, 49764.1320816 , 50032.69313676, 47885.62525472,\n",
              "       45604.61575361, 43144.47129086])"
            ]
          },
          "metadata": {},
          "execution_count": 18
        }
      ]
    },
    {
      "cell_type": "code",
      "source": [
        "#plot naive forecast\n",
        "plt.figure(figsize=(10,7))\n",
        "#plot_time_series(timesteps=X_train, values=y_train, label=\"Train data\")\n",
        "plot_time_series(timesteps=X_test, values=y_test, start=300, label=\"Test data\")\n",
        "plot_time_series(timesteps=X_test[1:], values=naive_forecast,format=\"-\", start=300, label=\"Naive forecast\")"
      ],
      "metadata": {
        "colab": {
          "base_uri": "https://localhost:8080/",
          "height": 442
        },
        "id": "LN3RqMFTvOe8",
        "outputId": "59336961-e3d6-4c1a-f6be-0c73aa953117"
      },
      "execution_count": 19,
      "outputs": [
        {
          "output_type": "display_data",
          "data": {
            "text/plain": [
              "<Figure size 720x504 with 1 Axes>"
            ],
            "image/png": "[encoded data removed]"
          },
          "metadata": {
            "needs_background": "light"
          }
        }
      ]
    },
    {
      "cell_type": "markdown",
      "source": [
        "## Evaluating a time series model\n",
        "\n",
        "Let's look into some evaluating metrics for time series forecasting.\n",
        "\n",
        "What are we doing?\n",
        "\n",
        "We are predicting a number, so that means we have a form of a regression problem.\n",
        "\n",
        "Because we are working on a regression problem, we will need some regression-like metrics.\n",
        "\n",
        "A few common regression metrics (which can also be used for time series forecast):\n",
        "* MAE - mean absolute error\n",
        "* MSE - mean squared error\n",
        "\n",
        "For all of above metrics, the lower is the better. for example, an MAE of 0 is better than an MAE of 100.\n",
        "\n",
        "The main thing we are evalauting here is: how do our model's forecast (y_pred) compare against the actual values (y_true or groun_truth values)?\n",
        "\n",
        "refence: https://otexts.com/fpp2/"
      ],
      "metadata": {
        "id": "rJ0XoYJPv7AH"
      }
    },
    {
      "cell_type": "code",
      "source": [
        "import tensorflow as tf"
      ],
      "metadata": {
        "id": "kx_y-TpUyxOo"
      },
      "execution_count": 20,
      "outputs": []
    },
    {
      "cell_type": "code",
      "source": [
        "#MASE implementation\n",
        "def mean_absolute_scaled_error(y_true, y_pred):\n",
        "  \"\"\"\n",
        "  Implement MASE (assuming no seasonality of data).\n",
        "  \"\"\"\n",
        "  mae=tf.reduce_mean(tf.abs(y_true-y_pred))\n",
        "\n",
        "  #find MAE of naive forecast (no seasonality)\n",
        "  mae_naive_no_season = tf.reduce_mean(tf.abs(y_true[1:]-y_pred[:-1])) #our seasonality is 1 day (hence the shift of 1)\n",
        "  \n",
        "  return mae/mae_naive_no_season"
      ],
      "metadata": {
        "id": "_fslIN9vAcQY"
      },
      "execution_count": 21,
      "outputs": []
    },
    {
      "cell_type": "code",
      "source": [
        "mean_absolute_scaled_error(y_true=y_test[1:], y_pred=naive_forecast).numpy()"
      ],
      "metadata": {
        "colab": {
          "base_uri": "https://localhost:8080/"
        },
        "id": "vV76qCB4B-nN",
        "outputId": "ba2572cc-58b2-49fc-e81d-c7f199276126"
      },
      "execution_count": 22,
      "outputs": [
        {
          "output_type": "execute_result",
          "data": {
            "text/plain": [
              "0.6921240375097498"
            ]
          },
          "metadata": {},
          "execution_count": 22
        }
      ]
    },
    {
      "cell_type": "code",
      "source": [
        "#create a function to take in model prediction and truth value and return evaluation metrics\n",
        "def evaluate_preds(y_true, y_pred):\n",
        "  #make sure float32 datatype (for metric calculations)\n",
        "  y_true= tf.cast(y_true, dtype= tf.float32)\n",
        "  y_pred = tf.cast(y_pred, dtype=tf.float32)\n",
        "\n",
        "  #calculate various evaluation metrics\n",
        "  mae= tf.keras.metrics.mean_absolute_error(y_true, y_pred)\n",
        "  mse = tf.keras.metrics.mean_squared_error(y_true, y_pred)\n",
        "  rmse = tf.sqrt(mse)\n",
        "  mape= tf.keras.metrics.mean_absolute_percentage_error(y_true, y_pred)\n",
        "  mase = mean_absolute_scaled_error(y_true, y_pred)\n",
        "\n",
        "  return {\"mae\": mae.numpy(),\n",
        "          \"mse\": mse.numpy(),\n",
        "          \"rmse\": rmse.numpy(),\n",
        "          \"mape\": mape.numpy(),\n",
        "          \"mase\": mase.numpy()}"
      ],
      "metadata": {
        "id": "VV7rWZugCVZd"
      },
      "execution_count": 23,
      "outputs": []
    },
    {
      "cell_type": "code",
      "source": [
        "naive_results = evaluate_preds(y_true = y_test[1:],\n",
        "                               y_pred = naive_forecast)\n",
        "naive_results"
      ],
      "metadata": {
        "colab": {
          "base_uri": "https://localhost:8080/"
        },
        "id": "iT4xM234EXwN",
        "outputId": "3529df0c-1f76-4722-c2b3-b5174e0ec1f8"
      },
      "execution_count": 24,
      "outputs": [
        {
          "output_type": "execute_result",
          "data": {
            "text/plain": [
              "{'mae': 567.9802,\n",
              " 'mape': 2.516525,\n",
              " 'mase': 0.69212395,\n",
              " 'mse': 1147547.0,\n",
              " 'rmse': 1071.2362}"
            ]
          },
          "metadata": {},
          "execution_count": 24
        }
      ]
    },
    {
      "cell_type": "code",
      "source": [
        "naive_forecast[-10:]"
      ],
      "metadata": {
        "colab": {
          "base_uri": "https://localhost:8080/"
        },
        "id": "h_aMndCkEoMA",
        "outputId": "07e322b4-1f29-4ba8-bcc0-41ca4d18fa8d"
      },
      "execution_count": 25,
      "outputs": [
        {
          "output_type": "execute_result",
          "data": {
            "text/plain": [
              "array([57107.12067189, 58788.20967893, 58102.19142623, 55715.54665129,\n",
              "       56573.5554719 , 52147.82118698, 49764.1320816 , 50032.69313676,\n",
              "       47885.62525472, 45604.61575361])"
            ]
          },
          "metadata": {},
          "execution_count": 25
        }
      ]
    },
    {
      "cell_type": "code",
      "source": [
        "tf.reduce_mean(y_test)"
      ],
      "metadata": {
        "colab": {
          "base_uri": "https://localhost:8080/"
        },
        "id": "W6L2RweqE71M",
        "outputId": "d700a8b8-1ee2-44be-ab02-2e3cac5d190f"
      },
      "execution_count": 26,
      "outputs": [
        {
          "output_type": "execute_result",
          "data": {
            "text/plain": [
              "<tf.Tensor: shape=(), dtype=float64, numpy=20056.632963737222>"
            ]
          },
          "metadata": {},
          "execution_count": 26
        }
      ]
    },
    {
      "cell_type": "code",
      "source": [
        "tf.reduce_min(y_test), tf.reduce_max(y_test)"
      ],
      "metadata": {
        "colab": {
          "base_uri": "https://localhost:8080/"
        },
        "id": "2LyTpBkVFBrT",
        "outputId": "7ea3b7e6-bfcc-4851-c788-1087689331c0"
      },
      "execution_count": 27,
      "outputs": [
        {
          "output_type": "execute_result",
          "data": {
            "text/plain": [
              "(<tf.Tensor: shape=(), dtype=float64, numpy=4944.7023359837>,\n",
              " <tf.Tensor: shape=(), dtype=float64, numpy=63346.7890351052>)"
            ]
          },
          "metadata": {},
          "execution_count": 27
        }
      ]
    },
    {
      "cell_type": "markdown",
      "source": [
        "## Other models you can use for baselines and for actual forecast\n",
        "\n",
        "there are plenty other style of time series forecasting models you may want to experiment with:\n",
        "https://dev.mrdbourke.com/tensorflow-deep-learning/10_time_series_forecasting_in_tensorflow/#other-kinds-of-time-series-forecasting-models-which-can-be-used-for-baselines-and-actual-forecasts"
      ],
      "metadata": {
        "id": "m2LhIIhOFH5L"
      }
    },
    {
      "cell_type": "markdown",
      "source": [
        "## Format Data Part 2: Windowing our dataset\n",
        "\n",
        "we window our time series dataset to turn our data into a supervised learning problem.\n",
        "\n",
        "```\n",
        "Windowing for one week\n",
        "[0, 1, 2, 3, 4, 5, 6] -> [7]\n",
        "[1, 2, 3, 4, 5, 6, 7] -> [8]\n",
        "[2, 3, 4, 5, 6, 7, 8] -> [9]\n",
        "```"
      ],
      "metadata": {
        "id": "WpfHXjDHJk2K"
      }
    },
    {
      "cell_type": "code",
      "source": [
        "y_train"
      ],
      "metadata": {
        "colab": {
          "base_uri": "https://localhost:8080/"
        },
        "id": "QTBeZdLiLcie",
        "outputId": "8df2f6c9-fe78-4ceb-894a-da5ee574bdce"
      },
      "execution_count": 28,
      "outputs": [
        {
          "output_type": "execute_result",
          "data": {
            "text/plain": [
              "array([ 123.65499   ,  125.455     ,  108.58483   , ..., 9369.62808116,\n",
              "       9326.59962378, 9335.75240233])"
            ]
          },
          "metadata": {},
          "execution_count": 28
        }
      ]
    },
    {
      "cell_type": "code",
      "source": [
        "# what we want to do with our Bitcoin data\n",
        "print(f\"We want to use: {btc_price[:7]} to predict this: {btc_price[7]}\")"
      ],
      "metadata": {
        "colab": {
          "base_uri": "https://localhost:8080/"
        },
        "id": "20s4cWrzLiFl",
        "outputId": "47ce5535-c12e-4d8f-bfcc-2700f8143a36"
      },
      "execution_count": 29,
      "outputs": [
        {
          "output_type": "stream",
          "name": "stdout",
          "text": [
            "We want to use: [123.65499, 125.455, 108.58483, 118.67466, 121.33866, 120.65533, 121.795] to predict this: 123.033\n"
          ]
        }
      ]
    },
    {
      "cell_type": "code",
      "source": [
        "# let's setup global variables for window and horizon size\n",
        "HORIZON = 1 #predict next 1 day\n",
        "WINDOW_SIZE= 7 # use the past week of bitcoin data to make the prediction"
      ],
      "metadata": {
        "id": "YzWc5gW_MBFu"
      },
      "execution_count": 30,
      "outputs": []
    },
    {
      "cell_type": "code",
      "source": [
        "#create function to label windowed data\n",
        "def get_labelled_windows(x, horizon=HORIZON):\n",
        "  \"\"\"\n",
        "  creates labels for windowed dataset.\n",
        "\n",
        "  E.g if horizon=1\n",
        "  Input: [0, 1, 2, 3, 4, 5, 6, 7] -> Output: ([0, 1, 2, 3, 4, 5, 6, 7], [7])\n",
        "  \"\"\"\n",
        "  return x[:, :-horizon], x[:, -horizon:]"
      ],
      "metadata": {
        "id": "BphxliaHMNyg"
      },
      "execution_count": 31,
      "outputs": []
    },
    {
      "cell_type": "code",
      "source": [
        "# Test out the window labelling function\n",
        "test_window, test_label = get_labelled_windows(tf.expand_dims(tf.range(8)+1, axis=0), horizon=HORIZON)\n",
        "print(f\"Window: {tf.squeeze(test_window).numpy()} -> Label: {tf.squeeze(test_label).numpy()}\")"
      ],
      "metadata": {
        "colab": {
          "base_uri": "https://localhost:8080/"
        },
        "id": "ZflMTqrQNWtp",
        "outputId": "d5ad22b6-2c45-4850-e9c7-113c1d4247ca"
      },
      "execution_count": 32,
      "outputs": [
        {
          "output_type": "stream",
          "name": "stdout",
          "text": [
            "Window: [1 2 3 4 5 6 7] -> Label: 8\n"
          ]
        }
      ]
    },
    {
      "cell_type": "markdown",
      "source": [
        "we have got a way to label our windowed data.\n",
        "\n",
        "However, this only works on a small scale.\n",
        "\n",
        " we need a way to o the above across our entire time series\n",
        "\n",
        " we could do this with python for loops, however, for large time series, that would be quite slow.\n",
        "\n",
        " to speed things up, we will leverage NumPy's array indexing.\n",
        "\n",
        " https://numpy.org/doc/stable/reference/arrays.indexing.html\n",
        "\n",
        " Our function will:\n",
        " 1. Create a window step of specific window size (e.gg. [0, 1, 2, 3, 4, 5, 6])\n",
        " 2. Use NumPy indexing to create a 2D array of multiple window steps, for example:\n",
        "\n",
        "```\n",
        "[[0, 1, 2, 3, 4, 5, 6],\n",
        "[1, 2, 3, 4, 5, 6, 7],\n",
        "[2, 3, 4, 5, 6, 7, 8]]\n",
        "```\n",
        "\n",
        "3. Uses the 2D array of multiple window steps (from 2) to indx on a target series (e.g the historical price of Bitcoin)\n",
        "4. Uses our get_labelled_windows() function we created above to turn the window steps into windows with specific horizon.\n",
        "\n",
        "reference: https://towardsdatascience.com/fast-and-robust-sliding-window-vectorization-with-numpy-3ad950ed62f5?gi=abd58221e921"
      ],
      "metadata": {
        "id": "s1phOCPVN04_"
      }
    },
    {
      "cell_type": "code",
      "source": [
        "import numpy as np"
      ],
      "metadata": {
        "id": "ywJq_5tD5SwE"
      },
      "execution_count": 33,
      "outputs": []
    },
    {
      "cell_type": "code",
      "source": [
        "# Create function to view NumPy arrays as windows \n",
        "def make_windows(x, window_size=7, horizon=1):\n",
        "  \"\"\"\n",
        "  Turns a 1D array into a 2D array of sequential windows of window_size.\n",
        "  \"\"\"\n",
        "  # 1. Create a window of specific window_size (add the horizon on the end for later labelling)\n",
        "  window_step = np.expand_dims(np.arange(window_size+horizon), axis=0)\n",
        "  # print(f\"Window step:\\n {window_step}\")\n",
        "\n",
        "  # 2. Create a 2D array of multiple window steps (minus 1 to account for 0 indexing)\n",
        "  window_indexes = window_step + np.expand_dims(np.arange(len(x)-(window_size+horizon-1)), axis=0).T # create 2D array of windows of size window_size\n",
        "  # print(f\"Window indexes:\\n {window_indexes[:3], window_indexes[-3:], window_indexes.shape}\")\n",
        "\n",
        "  # 3. Index on the target array (time series) with 2D array of multiple window steps\n",
        "  windowed_array = x[window_indexes]\n",
        "\n",
        "  # 4. Get the labelled windows\n",
        "  windows, labels = get_labelled_windows(windowed_array, horizon=horizon)\n",
        "\n",
        "  return windows, labels"
      ],
      "metadata": {
        "id": "ut2AtWDc3CUp"
      },
      "execution_count": 34,
      "outputs": []
    },
    {
      "cell_type": "code",
      "source": [
        "full_windows, full_labels = make_windows(prices, window_size=WINDOW_SIZE, horizon=HORIZON)\n",
        "len(full_windows), len(full_labels)"
      ],
      "metadata": {
        "colab": {
          "base_uri": "https://localhost:8080/"
        },
        "id": "PgmKyZou530q",
        "outputId": "7b036ef8-69bf-422c-9ab6-9337b51a6168"
      },
      "execution_count": 35,
      "outputs": [
        {
          "output_type": "execute_result",
          "data": {
            "text/plain": [
              "(2780, 2780)"
            ]
          },
          "metadata": {},
          "execution_count": 35
        }
      ]
    },
    {
      "cell_type": "code",
      "source": [
        "# View the first 3 windows/labels\n",
        "for i in range(3):\n",
        "  print(f\"Window: {full_windows[i]} -> Label: {full_labels[i]}\")\n"
      ],
      "metadata": {
        "colab": {
          "base_uri": "https://localhost:8080/"
        },
        "id": "jBedogNd6RR0",
        "outputId": "68100227-3264-48cb-bc72-710fd55d9bf2"
      },
      "execution_count": 36,
      "outputs": [
        {
          "output_type": "stream",
          "name": "stdout",
          "text": [
            "Window: [123.65499 125.455   108.58483 118.67466 121.33866 120.65533 121.795  ] -> Label: [123.033]\n",
            "Window: [125.455   108.58483 118.67466 121.33866 120.65533 121.795   123.033  ] -> Label: [124.049]\n",
            "Window: [108.58483 118.67466 121.33866 120.65533 121.795   123.033   124.049  ] -> Label: [125.96116]\n"
          ]
        }
      ]
    },
    {
      "cell_type": "code",
      "source": [
        "# View the last 3 windows/labels\n",
        "for i in range(3):\n",
        "  print(f\"Window: {full_windows[i-3]} -> Label: {full_labels[i-3]}\")"
      ],
      "metadata": {
        "colab": {
          "base_uri": "https://localhost:8080/"
        },
        "id": "h58VGFfM73pW",
        "outputId": "e4ae7a64-3ac2-4b62-c887-4f33b91d2ab6"
      },
      "execution_count": 37,
      "outputs": [
        {
          "output_type": "stream",
          "name": "stdout",
          "text": [
            "Window: [58788.20967893 58102.19142623 55715.54665129 56573.5554719\n",
            " 52147.82118698 49764.1320816  50032.69313676] -> Label: [47885.62525472]\n",
            "Window: [58102.19142623 55715.54665129 56573.5554719  52147.82118698\n",
            " 49764.1320816  50032.69313676 47885.62525472] -> Label: [45604.61575361]\n",
            "Window: [55715.54665129 56573.5554719  52147.82118698 49764.1320816\n",
            " 50032.69313676 47885.62525472 45604.61575361] -> Label: [43144.47129086]\n"
          ]
        }
      ]
    },
    {
      "cell_type": "markdown",
      "source": [
        "There is a function  which does similar to the above in tf.keras.utils an extension could be to try and replicate what we have done using the premade function:\n",
        "https://tensorflow.google.cn/api_docs/python/tf/keras/utils/timeseries_dataset_from_array"
      ],
      "metadata": {
        "id": "Y59KIEQA8S6S"
      }
    },
    {
      "cell_type": "markdown",
      "source": [
        "## Turning windows into training and test sets"
      ],
      "metadata": {
        "id": "6wrER36A9FWi"
      }
    },
    {
      "cell_type": "code",
      "source": [
        "# Make the train/test splits\n",
        "def make_train_test_splits(windows, labels, test_split=0.2):\n",
        "  \"\"\"\n",
        "  Splits matching pairs of windows and labels into train and test splits.\n",
        "  \"\"\"\n",
        "  split_size = int(len(windows) * (1-test_split)) # this will default to 80% train/20% test\n",
        "  train_windows = windows[:split_size]\n",
        "  train_labels = labels[:split_size]\n",
        "  test_windows = windows[split_size:]\n",
        "  test_labels = labels[split_size:]\n",
        "  return train_windows, test_windows, train_labels, test_labels"
      ],
      "metadata": {
        "id": "R5qNRUMBMqiK"
      },
      "execution_count": 38,
      "outputs": []
    },
    {
      "cell_type": "code",
      "source": [
        "# create train and test windows\n",
        "train_windows, test_windows, train_labels, test_labels = make_train_test_splits(full_windows, full_labels)\n",
        "len(train_windows), len(test_windows), len(train_labels), len(test_labels)"
      ],
      "metadata": {
        "colab": {
          "base_uri": "https://localhost:8080/"
        },
        "id": "rjvz_dIINrg2",
        "outputId": "6b0330ee-68f2-4491-ff77-e331370f7b16"
      },
      "execution_count": 39,
      "outputs": [
        {
          "output_type": "execute_result",
          "data": {
            "text/plain": [
              "(2224, 556, 2224, 556)"
            ]
          },
          "metadata": {},
          "execution_count": 39
        }
      ]
    },
    {
      "cell_type": "code",
      "source": [
        "#check to see if train label are the same (before and after window split)\n",
        "np.array_equal(np.squeeze(train_labels[:-HORIZON-1]), y_train[WINDOW_SIZE:])"
      ],
      "metadata": {
        "colab": {
          "base_uri": "https://localhost:8080/"
        },
        "id": "PwJdqrUTN_8U",
        "outputId": "25df956f-a843-4ec1-c749-bd3c342ede23"
      },
      "execution_count": 40,
      "outputs": [
        {
          "output_type": "execute_result",
          "data": {
            "text/plain": [
              "True"
            ]
          },
          "metadata": {},
          "execution_count": 40
        }
      ]
    },
    {
      "cell_type": "markdown",
      "source": [
        "## Make a modelling checkpoint\n",
        "Because our model's performance will fluctuate from experiment to experiment, we are going to write a model checkpoint so we can compare apples to apples.\n",
        "\n",
        "More specifically, we want to compare each of our model's best performances against the other model's best performances.\n",
        "\n",
        "For example if our model performs the best on epoch 55 (buit we are trainign for 100 epochs), we want to load and evalaute the model saved on epoch 55.\n",
        "\n",
        "we can create  a modelling checkpoint using the following: \n",
        "https://www.tensorflow.org/api_docs/python/tf/keras/callbacks/ModelCheckpoint"
      ],
      "metadata": {
        "id": "rGu-u_DOOj52"
      }
    },
    {
      "cell_type": "code",
      "source": [
        "import os\n",
        "\n",
        "# create a function to implement a ModelCheckpoint callback with a specific filename\n",
        "def create_model_checkpoint(model_name, save_path=\"model_experiments\"):\n",
        "  return tf.keras.callbacks.ModelCheckpoint(filepath=os.path.join(save_path, model_name),\n",
        "                                            verbose=0, #only output a limited amount of text\n",
        "                                            save_best_only=True)"
      ],
      "metadata": {
        "id": "7Yoc5TpRPzmx"
      },
      "execution_count": 41,
      "outputs": []
    },
    {
      "cell_type": "markdown",
      "source": [
        "## Model 1: Dense model (window = 7, horizon = 1)\n",
        "\n",
        "Our first deep model is going to be a simple dense model:\n",
        "* A single dense layer with 128 hidden units and ReLU\n",
        "* An output layer with linear activation (no activation)\n",
        "* Adam optimization and MAE loss function\n",
        "* Batch size of 128 (previously we have used 32)\n",
        "* 100 epochs \n",
        "\n",
        "Why these values?\n",
        "\n",
        "I picked them out of experimentation.\n",
        "\n",
        "* *Hyperparameters* = values a machine learning practitioner can adjust themselves\n",
        "* *Parameters* = values a model learns on its own"
      ],
      "metadata": {
        "id": "BR_Gm-9LQmQw"
      }
    },
    {
      "cell_type": "code",
      "source": [
        "import tensorflow as tf\n",
        "from tensorflow.keras import layers\n",
        "\n",
        "#set random seed\n",
        "tf.random.set_seed(42)\n",
        "\n",
        "# 1. Cconstruct model\n",
        "model_1 = tf.keras.Sequential([\n",
        "                               layers.Dense(128,activation=\"relu\"),\n",
        "                               layers.Dense(HORIZON, activation=\"linear\") #linear activation = no activation\n",
        "], name=\"model_1_dense\")\n",
        "\n",
        "# 2.compile\n",
        "model_1.compile(loss=\"mae\",\n",
        "                optimizer=tf.keras.optimizers.Adam(),\n",
        "                metrics=[\"mae\", \"mse\"])\n",
        "\n",
        "# 3. Fit the model\n",
        "model_1.fit(x=train_windows,\n",
        "            y=train_labels,\n",
        "            epochs=100,\n",
        "            verbose=1,\n",
        "            batch_size=128,\n",
        "            validation_data=(test_windows, test_labels),\n",
        "            callbacks=[create_model_checkpoint(model_name=model_1.name)])"
      ],
      "metadata": {
        "colab": {
          "base_uri": "https://localhost:8080/"
        },
        "id": "AMchkUZm3ms5",
        "outputId": "43b2dedb-e8ab-4015-b34a-f198babb4ca0"
      },
      "execution_count": 42,
      "outputs": [
        {
          "output_type": "stream",
          "name": "stdout",
          "text": [
            "Epoch 1/100\n",
            "18/18 [==============================] - ETA: 0s - loss: 780.3455 - mae: 780.3455 - mse: 2312725.7500  INFO:tensorflow:Assets written to: model_experiments/model_1_dense/assets\n",
            "18/18 [==============================] - 7s 133ms/step - loss: 780.3455 - mae: 780.3455 - mse: 2312725.7500 - val_loss: 2279.6526 - val_mae: 2279.6526 - val_mse: 12772728.0000\n",
            "Epoch 2/100\n",
            "13/18 [====================>.........] - ETA: 0s - loss: 264.2558 - mae: 264.2558 - mse: 325003.7812INFO:tensorflow:Assets written to: model_experiments/model_1_dense/assets\n",
            "18/18 [==============================] - 1s 70ms/step - loss: 247.6756 - mae: 247.6756 - mse: 285481.1875 - val_loss: 1005.9991 - val_mae: 1005.9991 - val_mse: 3441833.5000\n",
            "Epoch 3/100\n",
            " 9/18 [==============>...............] - ETA: 0s - loss: 193.1235 - mae: 193.1235 - mse: 180946.3281INFO:tensorflow:Assets written to: model_experiments/model_1_dense/assets\n",
            "18/18 [==============================] - 1s 63ms/step - loss: 188.4116 - mae: 188.4116 - mse: 171891.5625 - val_loss: 923.2862 - val_mae: 923.2862 - val_mse: 2868220.5000\n",
            "Epoch 4/100\n",
            "18/18 [==============================] - ETA: 0s - loss: 169.4340 - mae: 169.4340 - mse: 151700.5625INFO:tensorflow:Assets written to: model_experiments/model_1_dense/assets\n",
            "18/18 [==============================] - 1s 84ms/step - loss: 169.4340 - mae: 169.4340 - mse: 151700.5625 - val_loss: 900.5872 - val_mae: 900.5872 - val_mse: 2683715.2500\n",
            "Epoch 5/100\n",
            "13/18 [====================>.........] - ETA: 0s - loss: 170.8947 - mae: 170.8947 - mse: 155509.5312INFO:tensorflow:Assets written to: model_experiments/model_1_dense/assets\n",
            "18/18 [==============================] - 1s 78ms/step - loss: 165.0895 - mae: 165.0895 - mse: 145490.7969 - val_loss: 895.2238 - val_mae: 895.2238 - val_mse: 2564574.0000\n",
            "Epoch 6/100\n",
            "15/18 [========================>.....] - ETA: 0s - loss: 157.1806 - mae: 157.1806 - mse: 125587.4766INFO:tensorflow:Assets written to: model_experiments/model_1_dense/assets\n",
            "18/18 [==============================] - 2s 89ms/step - loss: 158.5210 - mae: 158.5210 - mse: 133817.7344 - val_loss: 855.1982 - val_mae: 855.1982 - val_mse: 2481872.7500\n",
            "Epoch 7/100\n",
            "11/18 [=================>............] - ETA: 0s - loss: 159.9304 - mae: 159.9304 - mse: 140074.1094INFO:tensorflow:Assets written to: model_experiments/model_1_dense/assets\n",
            "18/18 [==============================] - 2s 91ms/step - loss: 151.3566 - mae: 151.3566 - mse: 123446.9609 - val_loss: 840.9168 - val_mae: 840.9168 - val_mse: 2276452.2500\n",
            "Epoch 8/100\n",
            "13/18 [====================>.........] - ETA: 0s - loss: 146.8116 - mae: 146.8116 - mse: 122193.1406INFO:tensorflow:Assets written to: model_experiments/model_1_dense/assets\n",
            "18/18 [==============================] - 2s 100ms/step - loss: 145.2560 - mae: 145.2560 - mse: 117694.4922 - val_loss: 803.5956 - val_mae: 803.5956 - val_mse: 2140573.5000\n",
            "Epoch 9/100\n",
            "16/18 [=========================>....] - ETA: 0s - loss: 147.4530 - mae: 147.4530 - mse: 120309.6797INFO:tensorflow:Assets written to: model_experiments/model_1_dense/assets\n",
            "18/18 [==============================] - 1s 67ms/step - loss: 144.3546 - mae: 144.3546 - mse: 115269.3047 - val_loss: 799.5455 - val_mae: 799.5455 - val_mse: 2049207.7500\n",
            "Epoch 10/100\n",
            "11/18 [=================>............] - ETA: 0s - loss: 137.0522 - mae: 137.0522 - mse: 98716.6953 INFO:tensorflow:Assets written to: model_experiments/model_1_dense/assets\n",
            "18/18 [==============================] - 1s 74ms/step - loss: 141.2943 - mae: 141.2943 - mse: 112394.6016 - val_loss: 763.5010 - val_mae: 763.5010 - val_mse: 1933140.7500\n",
            "Epoch 11/100\n",
            "18/18 [==============================] - 0s 12ms/step - loss: 135.6595 - mae: 135.6595 - mse: 104118.2656 - val_loss: 771.3357 - val_mae: 771.3357 - val_mse: 1885850.0000\n",
            "Epoch 12/100\n",
            "18/18 [==============================] - 0s 10ms/step - loss: 134.1700 - mae: 134.1700 - mse: 101780.8750 - val_loss: 782.8079 - val_mae: 782.8079 - val_mse: 1881727.7500\n",
            "Epoch 13/100\n",
            "18/18 [==============================] - 0s 14ms/step - loss: 134.6015 - mae: 134.6015 - mse: 102345.2266 - val_loss: 784.4449 - val_mae: 784.4449 - val_mse: 1860996.7500\n",
            "Epoch 14/100\n",
            "16/18 [=========================>....] - ETA: 0s - loss: 127.6813 - mae: 127.6813 - mse: 93240.2656INFO:tensorflow:Assets written to: model_experiments/model_1_dense/assets\n",
            "18/18 [==============================] - 1s 80ms/step - loss: 130.6127 - mae: 130.6127 - mse: 96225.1406 - val_loss: 751.3234 - val_mae: 751.3234 - val_mse: 1749609.3750\n",
            "Epoch 15/100\n",
            "18/18 [==============================] - ETA: 0s - loss: 128.8347 - mae: 128.8347 - mse: 94307.0078INFO:tensorflow:Assets written to: model_experiments/model_1_dense/assets\n",
            "18/18 [==============================] - 1s 86ms/step - loss: 128.8347 - mae: 128.8347 - mse: 94307.0078 - val_loss: 696.5757 - val_mae: 696.5757 - val_mse: 1606352.6250\n",
            "Epoch 16/100\n",
            "18/18 [==============================] - 0s 11ms/step - loss: 124.7739 - mae: 124.7739 - mse: 90394.9297 - val_loss: 702.4698 - val_mae: 702.4698 - val_mse: 1592416.0000\n",
            "Epoch 17/100\n",
            "18/18 [==============================] - 0s 11ms/step - loss: 123.4474 - mae: 123.4474 - mse: 89247.6797 - val_loss: 704.9241 - val_mae: 704.9241 - val_mse: 1580783.5000\n",
            "Epoch 18/100\n",
            " 9/18 [==============>...............] - ETA: 0s - loss: 129.7126 - mae: 129.7126 - mse: 92649.0391INFO:tensorflow:Assets written to: model_experiments/model_1_dense/assets\n",
            "18/18 [==============================] - 1s 70ms/step - loss: 122.2105 - mae: 122.2105 - mse: 87607.6016 - val_loss: 667.9725 - val_mae: 667.9725 - val_mse: 1498882.0000\n",
            "Epoch 19/100\n",
            "18/18 [==============================] - 0s 12ms/step - loss: 121.7263 - mae: 121.7263 - mse: 86632.2656 - val_loss: 718.8797 - val_mae: 718.8797 - val_mse: 1589299.6250\n",
            "Epoch 20/100\n",
            "14/18 [======================>.......] - ETA: 0s - loss: 121.4032 - mae: 121.4032 - mse: 86429.3828INFO:tensorflow:Assets written to: model_experiments/model_1_dense/assets\n",
            "18/18 [==============================] - 1s 77ms/step - loss: 119.2420 - mae: 119.2420 - mse: 84334.3438 - val_loss: 657.0667 - val_mae: 657.0667 - val_mse: 1447500.8750\n",
            "Epoch 21/100\n",
            "14/18 [======================>.......] - ETA: 0s - loss: 121.2041 - mae: 121.2041 - mse: 81427.0078INFO:tensorflow:Assets written to: model_experiments/model_1_dense/assets\n",
            "18/18 [==============================] - 1s 47ms/step - loss: 121.2275 - mae: 121.2275 - mse: 85743.3672 - val_loss: 637.0330 - val_mae: 637.0330 - val_mse: 1401773.5000\n",
            "Epoch 22/100\n",
            "18/18 [==============================] - 0s 7ms/step - loss: 119.9544 - mae: 119.9544 - mse: 84050.1250 - val_loss: 671.2490 - val_mae: 671.2490 - val_mse: 1447896.6250\n",
            "Epoch 23/100\n",
            "14/18 [======================>.......] - ETA: 0s - loss: 121.4262 - mae: 121.4262 - mse: 76919.6484INFO:tensorflow:Assets written to: model_experiments/model_1_dense/assets\n",
            "18/18 [==============================] - 1s 36ms/step - loss: 121.9248 - mae: 121.9248 - mse: 83746.1328 - val_loss: 633.3593 - val_mae: 633.3593 - val_mse: 1367377.8750\n",
            "Epoch 24/100\n",
            "15/18 [========================>.....] - ETA: 0s - loss: 118.0268 - mae: 118.0268 - mse: 85274.8281INFO:tensorflow:Assets written to: model_experiments/model_1_dense/assets\n",
            "18/18 [==============================] - 1s 38ms/step - loss: 116.3666 - mae: 116.3666 - mse: 81446.6641 - val_loss: 624.4852 - val_mae: 624.4852 - val_mse: 1348960.3750\n",
            "Epoch 25/100\n",
            "15/18 [========================>.....] - ETA: 0s - loss: 118.9141 - mae: 118.9141 - mse: 84461.9766INFO:tensorflow:Assets written to: model_experiments/model_1_dense/assets\n",
            "18/18 [==============================] - 1s 36ms/step - loss: 114.6816 - mae: 114.6816 - mse: 78912.8438 - val_loss: 619.7571 - val_mae: 619.7571 - val_mse: 1351089.8750\n",
            "Epoch 26/100\n",
            "15/18 [========================>.....] - ETA: 0s - loss: 120.0186 - mae: 120.0186 - mse: 79148.7266INFO:tensorflow:Assets written to: model_experiments/model_1_dense/assets\n",
            "18/18 [==============================] - 1s 37ms/step - loss: 116.4455 - mae: 116.4455 - mse: 79365.5625 - val_loss: 615.6364 - val_mae: 615.6364 - val_mse: 1321514.3750\n",
            "Epoch 27/100\n",
            "18/18 [==============================] - 0s 6ms/step - loss: 116.5868 - mae: 116.5868 - mse: 78672.9141 - val_loss: 615.9631 - val_mae: 615.9631 - val_mse: 1313077.8750\n",
            "Epoch 28/100\n",
            "15/18 [========================>.....] - ETA: 0s - loss: 111.8986 - mae: 111.8986 - mse: 77884.6797INFO:tensorflow:Assets written to: model_experiments/model_1_dense/assets\n",
            "18/18 [==============================] - 1s 36ms/step - loss: 113.4691 - mae: 113.4691 - mse: 77440.0703 - val_loss: 608.0920 - val_mae: 608.0920 - val_mse: 1309775.3750\n",
            "Epoch 29/100\n",
            "18/18 [==============================] - 0s 6ms/step - loss: 113.7598 - mae: 113.7598 - mse: 78506.9531 - val_loss: 621.9306 - val_mae: 621.9306 - val_mse: 1313325.7500\n",
            "Epoch 30/100\n",
            "15/18 [========================>.....] - ETA: 0s - loss: 118.0215 - mae: 118.0215 - mse: 80909.7188INFO:tensorflow:Assets written to: model_experiments/model_1_dense/assets\n",
            "18/18 [==============================] - 1s 36ms/step - loss: 116.8613 - mae: 116.8613 - mse: 79236.4766 - val_loss: 604.4056 - val_mae: 604.4056 - val_mse: 1283407.7500\n",
            "Epoch 31/100\n",
            "18/18 [==============================] - 0s 6ms/step - loss: 111.9375 - mae: 111.9375 - mse: 74849.0625 - val_loss: 609.3882 - val_mae: 609.3882 - val_mse: 1284506.2500\n",
            "Epoch 32/100\n",
            "13/18 [====================>.........] - ETA: 0s - loss: 115.3064 - mae: 115.3064 - mse: 82313.5859INFO:tensorflow:Assets written to: model_experiments/model_1_dense/assets\n",
            "18/18 [==============================] - 1s 36ms/step - loss: 112.4175 - mae: 112.4175 - mse: 77178.5938 - val_loss: 603.0588 - val_mae: 603.0588 - val_mse: 1273059.2500\n",
            "Epoch 33/100\n",
            "18/18 [==============================] - 0s 6ms/step - loss: 112.6697 - mae: 112.6697 - mse: 75787.9766 - val_loss: 645.6975 - val_mae: 645.6975 - val_mse: 1353256.2500\n",
            "Epoch 34/100\n",
            "18/18 [==============================] - 0s 6ms/step - loss: 111.9867 - mae: 111.9867 - mse: 77245.7031 - val_loss: 604.7632 - val_mae: 604.7632 - val_mse: 1289359.7500\n",
            "Epoch 35/100\n",
            "14/18 [======================>.......] - ETA: 0s - loss: 114.2415 - mae: 114.2415 - mse: 80983.5469INFO:tensorflow:Assets written to: model_experiments/model_1_dense/assets\n",
            "18/18 [==============================] - 1s 48ms/step - loss: 110.9451 - mae: 110.9451 - mse: 75301.8047 - val_loss: 593.4648 - val_mae: 593.4648 - val_mse: 1250491.7500\n",
            "Epoch 36/100\n",
            "18/18 [==============================] - 0s 6ms/step - loss: 114.4816 - mae: 114.4816 - mse: 76138.5391 - val_loss: 608.0073 - val_mae: 608.0073 - val_mse: 1269271.2500\n",
            "Epoch 37/100\n",
            "18/18 [==============================] - 0s 7ms/step - loss: 110.2017 - mae: 110.2017 - mse: 74635.3047 - val_loss: 597.2309 - val_mae: 597.2309 - val_mse: 1248474.3750\n",
            "Epoch 38/100\n",
            "18/18 [==============================] - 0s 6ms/step - loss: 112.2372 - mae: 112.2372 - mse: 75821.7344 - val_loss: 637.9797 - val_mae: 637.9797 - val_mse: 1366130.2500\n",
            "Epoch 39/100\n",
            "13/18 [====================>.........] - ETA: 0s - loss: 116.4420 - mae: 116.4420 - mse: 78080.5078 INFO:tensorflow:Assets written to: model_experiments/model_1_dense/assets\n",
            "18/18 [==============================] - 1s 36ms/step - loss: 115.1289 - mae: 115.1289 - mse: 76339.6562 - val_loss: 587.4679 - val_mae: 587.4679 - val_mse: 1233512.2500\n",
            "Epoch 40/100\n",
            "18/18 [==============================] - 0s 6ms/step - loss: 110.0854 - mae: 110.0854 - mse: 73528.4844 - val_loss: 592.7117 - val_mae: 592.7117 - val_mse: 1251474.1250\n",
            "Epoch 41/100\n",
            "18/18 [==============================] - 0s 6ms/step - loss: 110.6343 - mae: 110.6343 - mse: 73528.7969 - val_loss: 593.8997 - val_mae: 593.8997 - val_mse: 1253678.2500\n",
            "Epoch 42/100\n",
            "18/18 [==============================] - 0s 6ms/step - loss: 113.5762 - mae: 113.5762 - mse: 77076.7031 - val_loss: 636.3674 - val_mae: 636.3674 - val_mse: 1317283.3750\n",
            "Epoch 43/100\n",
            "18/18 [==============================] - 0s 6ms/step - loss: 116.2286 - mae: 116.2286 - mse: 74712.2188 - val_loss: 662.9264 - val_mae: 662.9264 - val_mse: 1419202.3750\n",
            "Epoch 44/100\n",
            "18/18 [==============================] - 0s 6ms/step - loss: 120.0192 - mae: 120.0192 - mse: 80971.8906 - val_loss: 635.6360 - val_mae: 635.6360 - val_mse: 1345999.3750\n",
            "Epoch 45/100\n",
            "18/18 [==============================] - 0s 6ms/step - loss: 110.9675 - mae: 110.9675 - mse: 74941.2891 - val_loss: 601.9926 - val_mae: 601.9926 - val_mse: 1244816.7500\n",
            "Epoch 46/100\n",
            "18/18 [==============================] - 0s 6ms/step - loss: 111.6012 - mae: 111.6012 - mse: 74565.5859 - val_loss: 593.3531 - val_mae: 593.3531 - val_mse: 1248764.3750\n",
            "Epoch 47/100\n",
            "18/18 [==============================] - 0s 6ms/step - loss: 109.6161 - mae: 109.6161 - mse: 74190.7109 - val_loss: 637.0014 - val_mae: 637.0014 - val_mse: 1314970.3750\n",
            "Epoch 48/100\n",
            "18/18 [==============================] - 0s 6ms/step - loss: 109.1368 - mae: 109.1368 - mse: 72792.5547 - val_loss: 598.4199 - val_mae: 598.4199 - val_mse: 1234610.1250\n",
            "Epoch 49/100\n",
            "13/18 [====================>.........] - ETA: 0s - loss: 116.3140 - mae: 116.3140 - mse: 83727.0156 INFO:tensorflow:Assets written to: model_experiments/model_1_dense/assets\n",
            "18/18 [==============================] - 1s 36ms/step - loss: 112.4355 - mae: 112.4355 - mse: 73980.3281 - val_loss: 579.7040 - val_mae: 579.7040 - val_mse: 1208301.3750\n",
            "Epoch 50/100\n",
            "18/18 [==============================] - 0s 7ms/step - loss: 110.2108 - mae: 110.2108 - mse: 72939.6953 - val_loss: 639.2326 - val_mae: 639.2326 - val_mse: 1347994.2500\n",
            "Epoch 51/100\n",
            "18/18 [==============================] - 0s 6ms/step - loss: 111.0958 - mae: 111.0958 - mse: 73281.8906 - val_loss: 597.3575 - val_mae: 597.3575 - val_mse: 1229791.8750\n",
            "Epoch 52/100\n",
            "18/18 [==============================] - 0s 7ms/step - loss: 110.7351 - mae: 110.7351 - mse: 74529.6328 - val_loss: 580.7227 - val_mae: 580.7227 - val_mse: 1215477.3750\n",
            "Epoch 53/100\n",
            "18/18 [==============================] - 0s 6ms/step - loss: 111.1785 - mae: 111.1785 - mse: 74149.4688 - val_loss: 648.3588 - val_mae: 648.3588 - val_mse: 1336951.8750\n",
            "Epoch 54/100\n",
            "18/18 [==============================] - 0s 6ms/step - loss: 114.0832 - mae: 114.0832 - mse: 74815.0781 - val_loss: 593.2007 - val_mae: 593.2007 - val_mse: 1220661.3750\n",
            "Epoch 55/100\n",
            "15/18 [========================>.....] - ETA: 0s - loss: 114.3634 - mae: 114.3634 - mse: 78397.8203 INFO:tensorflow:Assets written to: model_experiments/model_1_dense/assets\n",
            "18/18 [==============================] - 1s 37ms/step - loss: 110.4910 - mae: 110.4910 - mse: 74711.2266 - val_loss: 579.5065 - val_mae: 579.5065 - val_mse: 1211579.7500\n",
            "Epoch 56/100\n",
            "18/18 [==============================] - 0s 6ms/step - loss: 108.0489 - mae: 108.0489 - mse: 71844.1484 - val_loss: 807.3851 - val_mae: 807.3851 - val_mse: 1859291.8750\n",
            "Epoch 57/100\n",
            "18/18 [==============================] - 0s 6ms/step - loss: 125.0614 - mae: 125.0614 - mse: 84025.2578 - val_loss: 674.1654 - val_mae: 674.1654 - val_mse: 1437686.2500\n",
            "Epoch 58/100\n",
            "18/18 [==============================] - 0s 6ms/step - loss: 115.4340 - mae: 115.4340 - mse: 73710.7188 - val_loss: 582.2698 - val_mae: 582.2698 - val_mse: 1202679.8750\n",
            "Epoch 59/100\n",
            "18/18 [==============================] - 0s 6ms/step - loss: 110.0881 - mae: 110.0881 - mse: 72845.1016 - val_loss: 606.7637 - val_mae: 606.7637 - val_mse: 1267543.0000\n",
            "Epoch 60/100\n",
            "18/18 [==============================] - 0s 6ms/step - loss: 108.7156 - mae: 108.7156 - mse: 72675.7500 - val_loss: 602.3102 - val_mae: 602.3102 - val_mse: 1234690.2500\n",
            "Epoch 61/100\n",
            "16/18 [=========================>....] - ETA: 0s - loss: 109.3896 - mae: 109.3896 - mse: 73581.5938INFO:tensorflow:Assets written to: model_experiments/model_1_dense/assets\n",
            "18/18 [==============================] - 1s 35ms/step - loss: 108.1525 - mae: 108.1525 - mse: 72252.0781 - val_loss: 573.9990 - val_mae: 573.9990 - val_mse: 1189583.1250\n",
            "Epoch 62/100\n",
            "18/18 [==============================] - 0s 6ms/step - loss: 107.3727 - mae: 107.3727 - mse: 70822.7891 - val_loss: 581.7012 - val_mae: 581.7012 - val_mse: 1214006.5000\n",
            "Epoch 63/100\n",
            "18/18 [==============================] - 0s 6ms/step - loss: 110.7667 - mae: 110.7667 - mse: 73178.4297 - val_loss: 637.5252 - val_mae: 637.5252 - val_mse: 1311204.0000\n",
            "Epoch 64/100\n",
            "18/18 [==============================] - 0s 8ms/step - loss: 110.1539 - mae: 110.1539 - mse: 72588.2031 - val_loss: 586.6601 - val_mae: 586.6601 - val_mse: 1207116.8750\n",
            "Epoch 65/100\n",
            "16/18 [=========================>....] - ETA: 0s - loss: 107.7272 - mae: 107.7272 - mse: 71353.7109 INFO:tensorflow:Assets written to: model_experiments/model_1_dense/assets\n",
            "18/18 [==============================] - 1s 36ms/step - loss: 108.2325 - mae: 108.2325 - mse: 71962.0469 - val_loss: 573.5620 - val_mae: 573.5620 - val_mse: 1188986.7500\n",
            "Epoch 66/100\n",
            "15/18 [========================>.....] - ETA: 0s - loss: 109.0876 - mae: 109.0876 - mse: 71513.0156INFO:tensorflow:Assets written to: model_experiments/model_1_dense/assets\n",
            "18/18 [==============================] - 1s 36ms/step - loss: 108.6825 - mae: 108.6825 - mse: 71026.3359 - val_loss: 572.2206 - val_mae: 572.2206 - val_mse: 1187818.0000\n",
            "Epoch 67/100\n",
            "18/18 [==============================] - 0s 6ms/step - loss: 106.6371 - mae: 106.6371 - mse: 70166.2500 - val_loss: 646.6349 - val_mae: 646.6349 - val_mse: 1356390.5000\n",
            "Epoch 68/100\n",
            "18/18 [==============================] - 0s 6ms/step - loss: 114.1603 - mae: 114.1603 - mse: 71297.2969 - val_loss: 681.8561 - val_mae: 681.8561 - val_mse: 1455427.1250\n",
            "Epoch 69/100\n",
            "18/18 [==============================] - 0s 6ms/step - loss: 124.5514 - mae: 124.5514 - mse: 81238.9297 - val_loss: 655.9885 - val_mae: 655.9885 - val_mse: 1383322.8750\n",
            "Epoch 70/100\n",
            "18/18 [==============================] - 0s 6ms/step - loss: 125.0235 - mae: 125.0235 - mse: 83058.2109 - val_loss: 601.0032 - val_mae: 601.0032 - val_mse: 1256962.2500\n",
            "Epoch 71/100\n",
            "18/18 [==============================] - 0s 6ms/step - loss: 110.3652 - mae: 110.3652 - mse: 71691.4844 - val_loss: 595.3962 - val_mae: 595.3962 - val_mse: 1222772.2500\n",
            "Epoch 72/100\n",
            "18/18 [==============================] - 0s 6ms/step - loss: 107.9285 - mae: 107.9285 - mse: 71745.5156 - val_loss: 573.7085 - val_mae: 573.7085 - val_mse: 1192818.0000\n",
            "Epoch 73/100\n",
            "18/18 [==============================] - 0s 7ms/step - loss: 109.5085 - mae: 109.5085 - mse: 71691.1016 - val_loss: 580.4180 - val_mae: 580.4180 - val_mse: 1211316.7500\n",
            "Epoch 74/100\n",
            "18/18 [==============================] - 0s 6ms/step - loss: 108.7380 - mae: 108.7380 - mse: 72051.0469 - val_loss: 576.1211 - val_mae: 576.1211 - val_mse: 1199669.5000\n",
            "Epoch 75/100\n",
            "18/18 [==============================] - 0s 6ms/step - loss: 107.9404 - mae: 107.9404 - mse: 71043.1328 - val_loss: 591.1477 - val_mae: 591.1477 - val_mse: 1211108.6250\n",
            "Epoch 76/100\n",
            "18/18 [==============================] - 0s 6ms/step - loss: 109.4232 - mae: 109.4232 - mse: 72295.0234 - val_loss: 597.8605 - val_mae: 597.8605 - val_mse: 1243935.2500\n",
            "Epoch 77/100\n",
            "15/18 [========================>.....] - ETA: 0s - loss: 109.7662 - mae: 109.7662 - mse: 74881.4531INFO:tensorflow:Assets written to: model_experiments/model_1_dense/assets\n",
            "18/18 [==============================] - 1s 36ms/step - loss: 107.5879 - mae: 107.5879 - mse: 70333.8203 - val_loss: 571.9299 - val_mae: 571.9299 - val_mse: 1186829.7500\n",
            "Epoch 78/100\n",
            "18/18 [==============================] - 0s 6ms/step - loss: 108.1598 - mae: 108.1598 - mse: 70200.0625 - val_loss: 575.2383 - val_mae: 575.2383 - val_mse: 1195317.1250\n",
            "Epoch 79/100\n",
            "18/18 [==============================] - 0s 6ms/step - loss: 107.9175 - mae: 107.9175 - mse: 72451.5781 - val_loss: 617.3071 - val_mae: 617.3071 - val_mse: 1285509.7500\n",
            "Epoch 80/100\n",
            "18/18 [==============================] - 0s 6ms/step - loss: 108.9510 - mae: 108.9510 - mse: 72158.7500 - val_loss: 583.4847 - val_mae: 583.4847 - val_mse: 1194358.2500\n",
            "Epoch 81/100\n",
            "16/18 [=========================>....] - ETA: 0s - loss: 105.9904 - mae: 105.9904 - mse: 68985.4297INFO:tensorflow:Assets written to: model_experiments/model_1_dense/assets\n",
            "18/18 [==============================] - 1s 36ms/step - loss: 106.0505 - mae: 106.0505 - mse: 69690.8828 - val_loss: 570.0802 - val_mae: 570.0802 - val_mse: 1177238.0000\n",
            "Epoch 82/100\n",
            "18/18 [==============================] - 0s 6ms/step - loss: 115.6827 - mae: 115.6827 - mse: 76903.4531 - val_loss: 575.7382 - val_mae: 575.7382 - val_mse: 1194661.5000\n",
            "Epoch 83/100\n",
            "18/18 [==============================] - 0s 6ms/step - loss: 110.9379 - mae: 110.9379 - mse: 72968.2891 - val_loss: 659.6570 - val_mae: 659.6570 - val_mse: 1388827.8750\n",
            "Epoch 84/100\n",
            "18/18 [==============================] - 0s 6ms/step - loss: 111.4836 - mae: 111.4836 - mse: 73017.8984 - val_loss: 570.1959 - val_mae: 570.1959 - val_mse: 1177492.1250\n",
            "Epoch 85/100\n",
            "18/18 [==============================] - 0s 6ms/step - loss: 107.5948 - mae: 107.5948 - mse: 70728.1797 - val_loss: 601.5945 - val_mae: 601.5945 - val_mse: 1228452.5000\n",
            "Epoch 86/100\n",
            "18/18 [==============================] - 0s 6ms/step - loss: 108.9426 - mae: 108.9426 - mse: 70066.7500 - val_loss: 592.8107 - val_mae: 592.8107 - val_mse: 1209681.6250\n",
            "Epoch 87/100\n",
            "18/18 [==============================] - 0s 6ms/step - loss: 105.7717 - mae: 105.7717 - mse: 68382.3438 - val_loss: 603.6169 - val_mae: 603.6169 - val_mse: 1252408.8750\n",
            "Epoch 88/100\n",
            "15/18 [========================>.....] - ETA: 0s - loss: 111.7593 - mae: 111.7593 - mse: 77330.2578 INFO:tensorflow:Assets written to: model_experiments/model_1_dense/assets\n",
            "18/18 [==============================] - 1s 37ms/step - loss: 107.9217 - mae: 107.9217 - mse: 71668.0156 - val_loss: 569.0500 - val_mae: 569.0500 - val_mse: 1174588.2500\n",
            "Epoch 89/100\n",
            "13/18 [====================>.........] - ETA: 0s - loss: 99.2556 - mae: 99.2556 - mse: 64090.8945  INFO:tensorflow:Assets written to: model_experiments/model_1_dense/assets\n",
            "18/18 [==============================] - 1s 37ms/step - loss: 106.0344 - mae: 106.0344 - mse: 68979.1328 - val_loss: 568.9512 - val_mae: 568.9512 - val_mse: 1171744.1250\n",
            "Epoch 90/100\n",
            "18/18 [==============================] - 0s 7ms/step - loss: 105.4977 - mae: 105.4977 - mse: 67516.5000 - val_loss: 581.7681 - val_mae: 581.7681 - val_mse: 1190161.7500\n",
            "Epoch 91/100\n",
            "18/18 [==============================] - 0s 7ms/step - loss: 108.8468 - mae: 108.8468 - mse: 71112.3203 - val_loss: 573.6023 - val_mae: 573.6023 - val_mse: 1185215.3750\n",
            "Epoch 92/100\n",
            "18/18 [==============================] - 0s 6ms/step - loss: 110.8884 - mae: 110.8884 - mse: 73287.8203 - val_loss: 576.8247 - val_mae: 576.8247 - val_mse: 1181629.3750\n",
            "Epoch 93/100\n",
            "18/18 [==============================] - 0s 7ms/step - loss: 113.8781 - mae: 113.8781 - mse: 75236.4062 - val_loss: 608.3018 - val_mae: 608.3018 - val_mse: 1264205.6250\n",
            "Epoch 94/100\n",
            "18/18 [==============================] - 0s 7ms/step - loss: 110.5763 - mae: 110.5763 - mse: 72590.8672 - val_loss: 601.6047 - val_mae: 601.6047 - val_mse: 1229106.1250\n",
            "Epoch 95/100\n",
            "18/18 [==============================] - 0s 6ms/step - loss: 106.5906 - mae: 106.5906 - mse: 68612.3125 - val_loss: 570.3652 - val_mae: 570.3652 - val_mse: 1175759.6250\n",
            "Epoch 96/100\n",
            "18/18 [==============================] - 0s 6ms/step - loss: 116.9515 - mae: 116.9515 - mse: 75082.1172 - val_loss: 615.2581 - val_mae: 615.2581 - val_mse: 1277123.7500\n",
            "Epoch 97/100\n",
            "18/18 [==============================] - 0s 7ms/step - loss: 108.0739 - mae: 108.0739 - mse: 71321.4141 - val_loss: 580.3073 - val_mae: 580.3073 - val_mse: 1202621.8750\n",
            "Epoch 98/100\n",
            "18/18 [==============================] - 0s 7ms/step - loss: 108.7102 - mae: 108.7102 - mse: 70248.0781 - val_loss: 586.6512 - val_mae: 586.6512 - val_mse: 1200831.3750\n",
            "Epoch 99/100\n",
            "18/18 [==============================] - 0s 7ms/step - loss: 109.0488 - mae: 109.0488 - mse: 70913.1484 - val_loss: 570.0629 - val_mae: 570.0629 - val_mse: 1177064.5000\n",
            "Epoch 100/100\n",
            "18/18 [==============================] - 0s 6ms/step - loss: 106.1845 - mae: 106.1845 - mse: 68681.7031 - val_loss: 585.9763 - val_mae: 585.9763 - val_mse: 1197803.1250\n"
          ]
        },
        {
          "output_type": "execute_result",
          "data": {
            "text/plain": [
              "<keras.callbacks.History at 0x7fed102fc450>"
            ]
          },
          "metadata": {},
          "execution_count": 42
        }
      ]
    },
    {
      "cell_type": "code",
      "source": [
        "naive_results"
      ],
      "metadata": {
        "colab": {
          "base_uri": "https://localhost:8080/"
        },
        "id": "aYW9Z-en6PgC",
        "outputId": "3ac9cde8-0db2-4295-aecd-ea9c49efe657"
      },
      "execution_count": 43,
      "outputs": [
        {
          "output_type": "execute_result",
          "data": {
            "text/plain": [
              "{'mae': 567.9802,\n",
              " 'mape': 2.516525,\n",
              " 'mase': 0.69212395,\n",
              " 'mse': 1147547.0,\n",
              " 'rmse': 1071.2362}"
            ]
          },
          "metadata": {},
          "execution_count": 43
        }
      ]
    },
    {
      "cell_type": "code",
      "source": [
        "#Evaluate model on test data\n",
        "model_1.evaluate(test_windows, test_labels)"
      ],
      "metadata": {
        "colab": {
          "base_uri": "https://localhost:8080/"
        },
        "id": "CPcNoDF078bH",
        "outputId": "ec88d1cc-3d5d-42e0-dd0e-b6f6eb8cb0b7"
      },
      "execution_count": 44,
      "outputs": [
        {
          "output_type": "stream",
          "name": "stdout",
          "text": [
            "18/18 [==============================] - 0s 3ms/step - loss: 585.9762 - mae: 585.9762 - mse: 1197803.1250\n"
          ]
        },
        {
          "output_type": "execute_result",
          "data": {
            "text/plain": [
              "[585.9761962890625, 585.9761962890625, 1197803.125]"
            ]
          },
          "metadata": {},
          "execution_count": 44
        }
      ]
    },
    {
      "cell_type": "code",
      "source": [
        "#Load in saved best performing model_1 and evaluate it on test data\n",
        "model_1 = tf.keras.models.load_model(\"model_experiments/model_1_dense/\")\n",
        "model_1.evaluate(test_windows, test_labels)"
      ],
      "metadata": {
        "colab": {
          "base_uri": "https://localhost:8080/"
        },
        "id": "5fkTxfh58U27",
        "outputId": "860a1c2c-adbf-47f0-be9e-d94f7271d417"
      },
      "execution_count": 45,
      "outputs": [
        {
          "output_type": "stream",
          "name": "stdout",
          "text": [
            "18/18 [==============================] - 0s 3ms/step - loss: 568.9512 - mae: 568.9512 - mse: 1171744.0000\n"
          ]
        },
        {
          "output_type": "execute_result",
          "data": {
            "text/plain": [
              "[568.951171875, 568.951171875, 1171744.0]"
            ]
          },
          "metadata": {},
          "execution_count": 45
        }
      ]
    },
    {
      "cell_type": "markdown",
      "source": [
        "## Making forecast with a model (on the test dataset)\n",
        "\n",
        "To make \"forecast\" on  the test dataset (note: these won't be actual forecasts, they are only pseudo forecasts because actual forecasts are into the future), let's write a function to:\n",
        "\n",
        "1. Take in a train mooedl\n",
        "2. Takes in some input data (same kind of data the model was trained on)\n",
        "3. Passes the input data to the model's predict() method\n",
        "4. Return the predictions"
      ],
      "metadata": {
        "id": "-zjfznu4877Y"
      }
    },
    {
      "cell_type": "code",
      "source": [
        "def make_preds(model, input_data):\n",
        "  \"\"\"\n",
        "  Uses model to make prediction input_data.\n",
        "  \"\"\"\n",
        "  forecast=model.predict(input_data)\n",
        "  return tf.squeeze(forecast) #return 1D array of predictions"
      ],
      "metadata": {
        "id": "qRCO85Ek-DyC"
      },
      "execution_count": 46,
      "outputs": []
    },
    {
      "cell_type": "code",
      "source": [
        "# Make prediction using model_1 on the test dataset and view results\n",
        "model_1_preds = make_preds(model_1, test_windows)\n",
        "len(model_1_preds), model_1_preds[:10]"
      ],
      "metadata": {
        "colab": {
          "base_uri": "https://localhost:8080/"
        },
        "id": "_871WLbu-VmR",
        "outputId": "59a1b521-7832-417e-d2cc-ff67b86b7a72"
      },
      "execution_count": 47,
      "outputs": [
        {
          "output_type": "execute_result",
          "data": {
            "text/plain": [
              "(556, <tf.Tensor: shape=(10,), dtype=float32, numpy=\n",
              " array([8861.711, 8769.886, 9015.71 , 8795.517, 8723.809, 8730.11 ,\n",
              "        8691.95 , 8502.054, 8460.961, 8516.547], dtype=float32)>)"
            ]
          },
          "metadata": {},
          "execution_count": 47
        }
      ]
    },
    {
      "cell_type": "code",
      "source": [
        "#Evaluate preds\n",
        "model_1_results = evaluate_preds(y_true=tf.squeeze(test_labels),\n",
        "                                 y_pred=model_1_preds)\n",
        "\n",
        "model_1_results"
      ],
      "metadata": {
        "colab": {
          "base_uri": "https://localhost:8080/"
        },
        "id": "11p4vUpb-wPj",
        "outputId": "78b73b34-225c-4c83-b572-5ddcb6b700f0"
      },
      "execution_count": 48,
      "outputs": [
        {
          "output_type": "execute_result",
          "data": {
            "text/plain": [
              "{'mae': 568.95123,\n",
              " 'mape': 2.5448983,\n",
              " 'mase': 0.688677,\n",
              " 'mse': 1171744.0,\n",
              " 'rmse': 1082.4713}"
            ]
          },
          "metadata": {},
          "execution_count": 48
        }
      ]
    },
    {
      "cell_type": "code",
      "source": [
        "naive_results"
      ],
      "metadata": {
        "colab": {
          "base_uri": "https://localhost:8080/"
        },
        "id": "5Snr2RPs-_SA",
        "outputId": "291f3229-56ca-4f7d-8a6f-1c6d98966d80"
      },
      "execution_count": 49,
      "outputs": [
        {
          "output_type": "execute_result",
          "data": {
            "text/plain": [
              "{'mae': 567.9802,\n",
              " 'mape': 2.516525,\n",
              " 'mase': 0.69212395,\n",
              " 'mse': 1147547.0,\n",
              " 'rmse': 1071.2362}"
            ]
          },
          "metadata": {},
          "execution_count": 49
        }
      ]
    },
    {
      "cell_type": "code",
      "source": [
        "offset = 300\n",
        "plt.figure(figsize=(10, 7))\n",
        "# Account for the test_window offset and index into test_labels to ensure correct plotting\n",
        "plot_time_series(timesteps=X_test[-len(test_windows):], values=test_labels[:, 0], start=offset, label=\"Test_data\")\n",
        "plot_time_series(timesteps=X_test[-len(test_windows):], values=model_1_preds, start=offset, format=\"-\", label=\"model_1_preds\")"
      ],
      "metadata": {
        "colab": {
          "base_uri": "https://localhost:8080/",
          "height": 442
        },
        "id": "l7Na9CAJAErO",
        "outputId": "b260f5c9-b3cc-4adb-8b1c-428980ebed16"
      },
      "execution_count": 50,
      "outputs": [
        {
          "output_type": "display_data",
          "data": {
            "text/plain": [
              "<Figure size 720x504 with 1 Axes>"
            ],
            "image/png": "[encoded data removed]"
          },
          "metadata": {
            "needs_background": "light"
          }
        }
      ]
    },
    {
      "cell_type": "markdown",
      "source": [
        "##Model 2: Dense (window =30, horizon = 1)"
      ],
      "metadata": {
        "id": "74eWLRJhAaic"
      }
    },
    {
      "cell_type": "code",
      "source": [
        "HORIZON = 1 #predict one step at a time (one day of Bitcoin prices)\n",
        "WINDOW_SIZE = 30 #use 30 timesteps in past"
      ],
      "metadata": {
        "id": "rRGlP0dkCAnn"
      },
      "execution_count": 51,
      "outputs": []
    },
    {
      "cell_type": "code",
      "source": [
        "# make window data with appropriate horizon adn window sizes\n",
        "full_windows, full_labels = make_windows(prices, window_size=WINDOW_SIZE, horizon=HORIZON)\n",
        "len(full_windows), len(full_labels)"
      ],
      "metadata": {
        "colab": {
          "base_uri": "https://localhost:8080/"
        },
        "id": "6U7ZIB9nCLn4",
        "outputId": "54741461-009c-4deb-d0b7-7e36c23210cc"
      },
      "execution_count": 52,
      "outputs": [
        {
          "output_type": "execute_result",
          "data": {
            "text/plain": [
              "(2757, 2757)"
            ]
          },
          "metadata": {},
          "execution_count": 52
        }
      ]
    },
    {
      "cell_type": "code",
      "source": [
        "# make train  and testing window\n",
        "train_windows, test_windows, train_labels, test_labels = make_train_test_splits(windows=full_windows,\n",
        "                                                                                labels=full_labels,\n",
        "                                                                                test_split=0.2)\n",
        "len(train_windows), len(test_windows), len(train_labels), len(test_labels)"
      ],
      "metadata": {
        "colab": {
          "base_uri": "https://localhost:8080/"
        },
        "id": "jK5xTD9UC1EM",
        "outputId": "ac6e55ee-7edb-4031-ed9f-bd159f952ae7"
      },
      "execution_count": 53,
      "outputs": [
        {
          "output_type": "execute_result",
          "data": {
            "text/plain": [
              "(2205, 552, 2205, 552)"
            ]
          },
          "metadata": {},
          "execution_count": 53
        }
      ]
    },
    {
      "cell_type": "code",
      "source": [
        "tf.random.set_seed(42)\n",
        "\n",
        "# create model 2\n",
        "model_2 = tf.keras.Sequential([\n",
        "                               layers.Dense(128, activation=\"relu\"),\n",
        "                               layers.Dense(HORIZON)\n",
        "], name=\"model_2_dense\")\n",
        "\n",
        "#compile\n",
        "model_2.compile(loss=\"mae\",\n",
        "                optimizer=tf.keras.optimizers.Adam())\n",
        "\n",
        "#fit \n",
        "model_2.fit(train_windows,\n",
        "            train_labels,\n",
        "            epochs=100,\n",
        "            batch_size=128,\n",
        "            verbose=0,\n",
        "            validation_data=(test_windows, test_labels),\n",
        "            callbacks=[create_model_checkpoint(model_name=model_2.name)])"
      ],
      "metadata": {
        "colab": {
          "base_uri": "https://localhost:8080/"
        },
        "id": "_nSkRGBCDp4l",
        "outputId": "2a74601f-658b-4e80-ae7b-07ea15592ea4"
      },
      "execution_count": 54,
      "outputs": [
        {
          "output_type": "stream",
          "name": "stdout",
          "text": [
            "INFO:tensorflow:Assets written to: model_experiments/model_2_dense/assets\n",
            "INFO:tensorflow:Assets written to: model_experiments/model_2_dense/assets\n",
            "INFO:tensorflow:Assets written to: model_experiments/model_2_dense/assets\n",
            "INFO:tensorflow:Assets written to: model_experiments/model_2_dense/assets\n",
            "INFO:tensorflow:Assets written to: model_experiments/model_2_dense/assets\n",
            "INFO:tensorflow:Assets written to: model_experiments/model_2_dense/assets\n",
            "INFO:tensorflow:Assets written to: model_experiments/model_2_dense/assets\n",
            "INFO:tensorflow:Assets written to: model_experiments/model_2_dense/assets\n",
            "INFO:tensorflow:Assets written to: model_experiments/model_2_dense/assets\n",
            "INFO:tensorflow:Assets written to: model_experiments/model_2_dense/assets\n",
            "INFO:tensorflow:Assets written to: model_experiments/model_2_dense/assets\n",
            "INFO:tensorflow:Assets written to: model_experiments/model_2_dense/assets\n",
            "INFO:tensorflow:Assets written to: model_experiments/model_2_dense/assets\n",
            "INFO:tensorflow:Assets written to: model_experiments/model_2_dense/assets\n",
            "INFO:tensorflow:Assets written to: model_experiments/model_2_dense/assets\n",
            "INFO:tensorflow:Assets written to: model_experiments/model_2_dense/assets\n",
            "INFO:tensorflow:Assets written to: model_experiments/model_2_dense/assets\n",
            "INFO:tensorflow:Assets written to: model_experiments/model_2_dense/assets\n",
            "INFO:tensorflow:Assets written to: model_experiments/model_2_dense/assets\n",
            "INFO:tensorflow:Assets written to: model_experiments/model_2_dense/assets\n",
            "INFO:tensorflow:Assets written to: model_experiments/model_2_dense/assets\n",
            "INFO:tensorflow:Assets written to: model_experiments/model_2_dense/assets\n",
            "INFO:tensorflow:Assets written to: model_experiments/model_2_dense/assets\n",
            "INFO:tensorflow:Assets written to: model_experiments/model_2_dense/assets\n",
            "INFO:tensorflow:Assets written to: model_experiments/model_2_dense/assets\n",
            "INFO:tensorflow:Assets written to: model_experiments/model_2_dense/assets\n",
            "INFO:tensorflow:Assets written to: model_experiments/model_2_dense/assets\n"
          ]
        },
        {
          "output_type": "execute_result",
          "data": {
            "text/plain": [
              "<keras.callbacks.History at 0x7fec9e78c3d0>"
            ]
          },
          "metadata": {},
          "execution_count": 54
        }
      ]
    },
    {
      "cell_type": "code",
      "source": [
        "#Evaluate model 2 on test data\n",
        "model_2.evaluate(test_windows,test_labels)"
      ],
      "metadata": {
        "colab": {
          "base_uri": "https://localhost:8080/"
        },
        "id": "9ww1k5yxFIJV",
        "outputId": "72a10466-2935-40f1-b700-370bdd6a3219"
      },
      "execution_count": 55,
      "outputs": [
        {
          "output_type": "stream",
          "name": "stdout",
          "text": [
            "18/18 [==============================] - 0s 2ms/step - loss: 608.9615\n"
          ]
        },
        {
          "output_type": "execute_result",
          "data": {
            "text/plain": [
              "608.9614868164062"
            ]
          },
          "metadata": {},
          "execution_count": 55
        }
      ]
    },
    {
      "cell_type": "code",
      "source": [
        "#Load in the best performing model\n",
        "model_2=tf.keras.models.load_model(\"model_experiments/model_2_dense/\")\n",
        "model_2.evaluate(test_windows, test_labels)"
      ],
      "metadata": {
        "colab": {
          "base_uri": "https://localhost:8080/"
        },
        "id": "YIrnp2V1FcKB",
        "outputId": "bc3caf21-8be5-44c9-a229-2e0d9f3ae857"
      },
      "execution_count": 56,
      "outputs": [
        {
          "output_type": "stream",
          "name": "stdout",
          "text": [
            "18/18 [==============================] - 0s 3ms/step - loss: 608.9615\n"
          ]
        },
        {
          "output_type": "execute_result",
          "data": {
            "text/plain": [
              "608.9614868164062"
            ]
          },
          "metadata": {},
          "execution_count": 56
        }
      ]
    },
    {
      "cell_type": "code",
      "source": [
        "#get forecast predictions\n",
        "model_2_preds = make_preds(model_2,\n",
        "                           input_data=test_windows)"
      ],
      "metadata": {
        "id": "OIFa32sBFwOd"
      },
      "execution_count": 57,
      "outputs": []
    },
    {
      "cell_type": "code",
      "source": [
        "model_2_preds.shape"
      ],
      "metadata": {
        "colab": {
          "base_uri": "https://localhost:8080/"
        },
        "id": "tdzOXy1UF-BM",
        "outputId": "5c975003-1494-4ba1-ac43-d9ede191f7db"
      },
      "execution_count": 58,
      "outputs": [
        {
          "output_type": "execute_result",
          "data": {
            "text/plain": [
              "TensorShape([552])"
            ]
          },
          "metadata": {},
          "execution_count": 58
        }
      ]
    },
    {
      "cell_type": "code",
      "source": [
        "#Evaluate results for model 2 predictions\n",
        "model_2_results = evaluate_preds(y_true=tf.squeeze(test_labels),\n",
        "                                 y_pred= model_2_preds)\n",
        "model_2_results"
      ],
      "metadata": {
        "colab": {
          "base_uri": "https://localhost:8080/"
        },
        "id": "ig2Zx5_jGAAf",
        "outputId": "d9988e9a-9ad6-468d-8d02-5e930fa59acc"
      },
      "execution_count": 59,
      "outputs": [
        {
          "output_type": "execute_result",
          "data": {
            "text/plain": [
              "{'mae': 608.9615,\n",
              " 'mape': 2.7693388,\n",
              " 'mase': 0.71157324,\n",
              " 'mse': 1281438.9,\n",
              " 'rmse': 1132.0066}"
            ]
          },
          "metadata": {},
          "execution_count": 59
        }
      ]
    },
    {
      "cell_type": "code",
      "source": [
        "naive_results"
      ],
      "metadata": {
        "colab": {
          "base_uri": "https://localhost:8080/"
        },
        "id": "MFp-1OVXGSS9",
        "outputId": "5e1ee0a8-30b5-4754-8cd6-ce229afec1c0"
      },
      "execution_count": 60,
      "outputs": [
        {
          "output_type": "execute_result",
          "data": {
            "text/plain": [
              "{'mae': 567.9802,\n",
              " 'mape': 2.516525,\n",
              " 'mase': 0.69212395,\n",
              " 'mse': 1147547.0,\n",
              " 'rmse': 1071.2362}"
            ]
          },
          "metadata": {},
          "execution_count": 60
        }
      ]
    },
    {
      "cell_type": "code",
      "source": [
        "offset=300\n",
        "plt.figure(figsize=(10,7))\n",
        "\n",
        "#Account for test_window offset when plotting\n",
        "plot_time_series(timesteps=X_test[-len(test_windows):], values=test_labels[:, 0], start=offset, label=\"Test_data\")\n",
        "plot_time_series(timesteps=X_test[-len(test_windows):], values=model_2_preds, start=offset, label=\"Model_2_preds\")"
      ],
      "metadata": {
        "colab": {
          "base_uri": "https://localhost:8080/",
          "height": 442
        },
        "id": "M61_HJ6dGVz-",
        "outputId": "8b1fc960-bed4-43bf-cece-39e635fc6e68"
      },
      "execution_count": 61,
      "outputs": [
        {
          "output_type": "display_data",
          "data": {
            "text/plain": [
              "<Figure size 720x504 with 1 Axes>"
            ],
            "image/png": "[encoded data removed]"
          },
          "metadata": {
            "needs_background": "light"
          }
        }
      ]
    },
    {
      "cell_type": "markdown",
      "source": [
        "## Model 3: Dense (window = 30, horizon = 7)"
      ],
      "metadata": {
        "id": "_qHxNG2vHEvK"
      }
    },
    {
      "cell_type": "code",
      "source": [
        "HORIZON = 7\n",
        "WINDOW_SIZE = 30\n",
        "\n",
        "full_windows, full_labels = make_windows(prices, window_size = WINDOW_SIZE, horizon=HORIZON)\n",
        "len(full_windows), len(full_labels)"
      ],
      "metadata": {
        "colab": {
          "base_uri": "https://localhost:8080/"
        },
        "id": "XuYdjSY7USO5",
        "outputId": "a48aee31-61fc-4c19-8d49-f5effb7a2817"
      },
      "execution_count": 62,
      "outputs": [
        {
          "output_type": "execute_result",
          "data": {
            "text/plain": [
              "(2751, 2751)"
            ]
          },
          "metadata": {},
          "execution_count": 62
        }
      ]
    },
    {
      "cell_type": "code",
      "source": [
        "train_windows, test_windows, train_labels, test_labels = make_train_test_splits(windows=full_windows,\n",
        "                                                                                labels=full_labels)\n",
        "\n",
        "len(train_windows), len(test_windows), len(train_labels), len(test_labels)"
      ],
      "metadata": {
        "colab": {
          "base_uri": "https://localhost:8080/"
        },
        "id": "6Bnsp3ZAUkYe",
        "outputId": "fe0b9f0c-7767-49df-9765-8f79c56345be"
      },
      "execution_count": 63,
      "outputs": [
        {
          "output_type": "execute_result",
          "data": {
            "text/plain": [
              "(2200, 551, 2200, 551)"
            ]
          },
          "metadata": {},
          "execution_count": 63
        }
      ]
    },
    {
      "cell_type": "code",
      "source": [
        "tf.random.set_seed(42)\n",
        "\n",
        "#create model (same as model 1 with different data input and output sizes)\n",
        "model_3=tf.keras.Sequential([\n",
        "                             layers.Dense(128, activation=\"relu\"),\n",
        "                             layers.Dense(HORIZON)\n",
        "], name=\"model_3_dense\")\n",
        "\n",
        "# compile\n",
        "model_3.compile(loss=\"MAE\",\n",
        "                optimizer=tf.keras.optimizers.Adam())\n",
        "\n",
        "#fit\n",
        "model_3.fit(train_windows,\n",
        "            train_labels,\n",
        "            batch_size=128,\n",
        "            epochs=100,\n",
        "            validation_data=(test_windows, test_labels),\n",
        "            callbacks=[create_model_checkpoint(model_name=model_3.name)])"
      ],
      "metadata": {
        "colab": {
          "base_uri": "https://localhost:8080/"
        },
        "id": "BlSOLNCAU7ha",
        "outputId": "6a13ff15-3a53-4e24-dd4f-1d152f36dc79"
      },
      "execution_count": 64,
      "outputs": [
        {
          "output_type": "stream",
          "name": "stdout",
          "text": [
            "Epoch 1/100\n",
            "18/18 [==============================] - ETA: 0s - loss: 1476.6752INFO:tensorflow:Assets written to: model_experiments/model_3_dense/assets\n",
            "18/18 [==============================] - 1s 41ms/step - loss: 1476.6752 - val_loss: 3088.5618\n",
            "Epoch 2/100\n",
            " 1/18 [>.............................] - ETA: 0s - loss: 533.6876INFO:tensorflow:Assets written to: model_experiments/model_3_dense/assets\n",
            "18/18 [==============================] - 1s 34ms/step - loss: 552.8943 - val_loss: 2462.4548\n",
            "Epoch 3/100\n",
            "17/18 [===========================>..] - ETA: 0s - loss: 436.9124INFO:tensorflow:Assets written to: model_experiments/model_3_dense/assets\n",
            "18/18 [==============================] - 1s 34ms/step - loss: 435.1979 - val_loss: 2283.1482\n",
            "Epoch 4/100\n",
            "18/18 [==============================] - ETA: 0s - loss: 391.9787INFO:tensorflow:Assets written to: model_experiments/model_3_dense/assets\n",
            "18/18 [==============================] - 1s 34ms/step - loss: 391.9787 - val_loss: 1975.1218\n",
            "Epoch 5/100\n",
            "18/18 [==============================] - 0s 6ms/step - loss: 357.9485 - val_loss: 2000.1554\n",
            "Epoch 6/100\n",
            "18/18 [==============================] - ETA: 0s - loss: 332.6705INFO:tensorflow:Assets written to: model_experiments/model_3_dense/assets\n",
            "18/18 [==============================] - 1s 34ms/step - loss: 332.6705 - val_loss: 1723.4183\n",
            "Epoch 7/100\n",
            "18/18 [==============================] - ETA: 0s - loss: 309.9903INFO:tensorflow:Assets written to: model_experiments/model_3_dense/assets\n",
            "18/18 [==============================] - 1s 48ms/step - loss: 309.9903 - val_loss: 1591.9685\n",
            "Epoch 8/100\n",
            "17/18 [===========================>..] - ETA: 0s - loss: 301.3486INFO:tensorflow:Assets written to: model_experiments/model_3_dense/assets\n",
            "18/18 [==============================] - 1s 35ms/step - loss: 302.4122 - val_loss: 1579.8518\n",
            "Epoch 9/100\n",
            "18/18 [==============================] - 0s 5ms/step - loss: 293.9170 - val_loss: 1602.9115\n",
            "Epoch 10/100\n",
            " 1/18 [>.............................] - ETA: 0s - loss: 243.8343INFO:tensorflow:Assets written to: model_experiments/model_3_dense/assets\n",
            "18/18 [==============================] - 1s 34ms/step - loss: 291.5431 - val_loss: 1504.9115\n",
            "Epoch 11/100\n",
            "14/18 [======================>.......] - ETA: 0s - loss: 277.7983INFO:tensorflow:Assets written to: model_experiments/model_3_dense/assets\n",
            "18/18 [==============================] - 1s 34ms/step - loss: 282.3861 - val_loss: 1474.9521\n",
            "Epoch 12/100\n",
            "18/18 [==============================] - 0s 6ms/step - loss: 276.0491 - val_loss: 1539.4846\n",
            "Epoch 13/100\n",
            "18/18 [==============================] - ETA: 0s - loss: 272.3232INFO:tensorflow:Assets written to: model_experiments/model_3_dense/assets\n",
            "18/18 [==============================] - 1s 36ms/step - loss: 272.3232 - val_loss: 1459.5270\n",
            "Epoch 14/100\n",
            "17/18 [===========================>..] - ETA: 0s - loss: 270.6303INFO:tensorflow:Assets written to: model_experiments/model_3_dense/assets\n",
            "18/18 [==============================] - 1s 36ms/step - loss: 270.6817 - val_loss: 1417.0792\n",
            "Epoch 15/100\n",
            "18/18 [==============================] - 0s 5ms/step - loss: 263.8875 - val_loss: 1541.0619\n",
            "Epoch 16/100\n",
            "18/18 [==============================] - 0s 5ms/step - loss: 265.9065 - val_loss: 1441.2793\n",
            "Epoch 17/100\n",
            "18/18 [==============================] - 0s 5ms/step - loss: 262.9132 - val_loss: 1505.8212\n",
            "Epoch 18/100\n",
            "18/18 [==============================] - 0s 5ms/step - loss: 260.1363 - val_loss: 1446.3213\n",
            "Epoch 19/100\n",
            "18/18 [==============================] - 0s 5ms/step - loss: 258.2223 - val_loss: 1522.3826\n",
            "Epoch 20/100\n",
            "18/18 [==============================] - 0s 5ms/step - loss: 263.9978 - val_loss: 1425.1411\n",
            "Epoch 21/100\n",
            "18/18 [==============================] - 0s 5ms/step - loss: 255.4174 - val_loss: 1460.1964\n",
            "Epoch 22/100\n",
            "18/18 [==============================] - 0s 6ms/step - loss: 255.3434 - val_loss: 1419.4120\n",
            "Epoch 23/100\n",
            "16/18 [=========================>....] - ETA: 0s - loss: 258.8943INFO:tensorflow:Assets written to: model_experiments/model_3_dense/assets\n",
            "18/18 [==============================] - 1s 34ms/step - loss: 258.0463 - val_loss: 1384.9283\n",
            "Epoch 24/100\n",
            "15/18 [========================>.....] - ETA: 0s - loss: 270.6394INFO:tensorflow:Assets written to: model_experiments/model_3_dense/assets\n",
            "18/18 [==============================] - 1s 35ms/step - loss: 269.2109 - val_loss: 1377.6123\n",
            "Epoch 25/100\n",
            "18/18 [==============================] - 0s 6ms/step - loss: 253.5239 - val_loss: 1452.3348\n",
            "Epoch 26/100\n",
            "18/18 [==============================] - 0s 7ms/step - loss: 252.1648 - val_loss: 1388.5122\n",
            "Epoch 27/100\n",
            "18/18 [==============================] - 0s 5ms/step - loss: 251.8276 - val_loss: 1451.5780\n",
            "Epoch 28/100\n",
            "18/18 [==============================] - 0s 5ms/step - loss: 247.8791 - val_loss: 1391.4442\n",
            "Epoch 29/100\n",
            "18/18 [==============================] - 0s 5ms/step - loss: 246.0225 - val_loss: 1382.1855\n",
            "Epoch 30/100\n",
            "18/18 [==============================] - ETA: 0s - loss: 248.2237INFO:tensorflow:Assets written to: model_experiments/model_3_dense/assets\n",
            "18/18 [==============================] - 1s 35ms/step - loss: 248.2237 - val_loss: 1336.2773\n",
            "Epoch 31/100\n",
            "13/18 [====================>.........] - ETA: 0s - loss: 232.0354INFO:tensorflow:Assets written to: model_experiments/model_3_dense/assets\n",
            "18/18 [==============================] - 1s 35ms/step - loss: 242.1411 - val_loss: 1334.8571\n",
            "Epoch 32/100\n",
            "18/18 [==============================] - ETA: 0s - loss: 245.8559INFO:tensorflow:Assets written to: model_experiments/model_3_dense/assets\n",
            "18/18 [==============================] - 1s 34ms/step - loss: 245.8559 - val_loss: 1329.1195\n",
            "Epoch 33/100\n",
            "18/18 [==============================] - 0s 5ms/step - loss: 246.9277 - val_loss: 1372.8103\n",
            "Epoch 34/100\n",
            "18/18 [==============================] - 0s 5ms/step - loss: 244.2539 - val_loss: 1373.9777\n",
            "Epoch 35/100\n",
            "18/18 [==============================] - 0s 5ms/step - loss: 244.3824 - val_loss: 1349.5085\n",
            "Epoch 36/100\n",
            "18/18 [==============================] - 0s 5ms/step - loss: 241.3231 - val_loss: 1427.5966\n",
            "Epoch 37/100\n",
            "18/18 [==============================] - 0s 6ms/step - loss: 257.3803 - val_loss: 1363.9794\n",
            "Epoch 38/100\n",
            "18/18 [==============================] - 0s 6ms/step - loss: 240.1044 - val_loss: 1376.8528\n",
            "Epoch 39/100\n",
            "18/18 [==============================] - 0s 6ms/step - loss: 245.4610 - val_loss: 1412.0398\n",
            "Epoch 40/100\n",
            "18/18 [==============================] - 0s 5ms/step - loss: 239.6820 - val_loss: 1426.0732\n",
            "Epoch 41/100\n",
            "18/18 [==============================] - 0s 6ms/step - loss: 239.1188 - val_loss: 1442.6656\n",
            "Epoch 42/100\n",
            "18/18 [==============================] - 0s 6ms/step - loss: 246.8636 - val_loss: 1347.2452\n",
            "Epoch 43/100\n",
            "18/18 [==============================] - 0s 5ms/step - loss: 239.3242 - val_loss: 1365.7214\n",
            "Epoch 44/100\n",
            "17/18 [===========================>..] - ETA: 0s - loss: 249.5782INFO:tensorflow:Assets written to: model_experiments/model_3_dense/assets\n",
            "18/18 [==============================] - 1s 34ms/step - loss: 250.1504 - val_loss: 1293.0474\n",
            "Epoch 45/100\n",
            "18/18 [==============================] - 0s 5ms/step - loss: 243.7763 - val_loss: 1505.8331\n",
            "Epoch 46/100\n",
            "18/18 [==============================] - 0s 6ms/step - loss: 241.1997 - val_loss: 1299.8015\n",
            "Epoch 47/100\n",
            "18/18 [==============================] - 0s 5ms/step - loss: 236.0368 - val_loss: 1339.0393\n",
            "Epoch 48/100\n",
            "18/18 [==============================] - 0s 5ms/step - loss: 235.2749 - val_loss: 1329.4688\n",
            "Epoch 49/100\n",
            "18/18 [==============================] - 0s 5ms/step - loss: 238.4083 - val_loss: 1326.4941\n",
            "Epoch 50/100\n",
            "18/18 [==============================] - 0s 5ms/step - loss: 236.0985 - val_loss: 1318.6082\n",
            "Epoch 51/100\n",
            "18/18 [==============================] - 0s 5ms/step - loss: 247.4355 - val_loss: 1389.7017\n",
            "Epoch 52/100\n",
            "18/18 [==============================] - 0s 5ms/step - loss: 233.8826 - val_loss: 1293.4276\n",
            "Epoch 53/100\n",
            "18/18 [==============================] - ETA: 0s - loss: 232.7012INFO:tensorflow:Assets written to: model_experiments/model_3_dense/assets\n",
            "18/18 [==============================] - 1s 34ms/step - loss: 232.7012 - val_loss: 1284.7606\n",
            "Epoch 54/100\n",
            "18/18 [==============================] - ETA: 0s - loss: 235.9017INFO:tensorflow:Assets written to: model_experiments/model_3_dense/assets\n",
            "18/18 [==============================] - 1s 35ms/step - loss: 235.9017 - val_loss: 1284.3805\n",
            "Epoch 55/100\n",
            "18/18 [==============================] - 0s 6ms/step - loss: 232.9452 - val_loss: 1312.6145\n",
            "Epoch 56/100\n",
            "18/18 [==============================] - 0s 6ms/step - loss: 231.0590 - val_loss: 1355.7412\n",
            "Epoch 57/100\n",
            "18/18 [==============================] - 0s 6ms/step - loss: 235.9913 - val_loss: 1363.5928\n",
            "Epoch 58/100\n",
            "18/18 [==============================] - 0s 5ms/step - loss: 231.6387 - val_loss: 1306.6422\n",
            "Epoch 59/100\n",
            "18/18 [==============================] - 0s 5ms/step - loss: 230.8834 - val_loss: 1288.3002\n",
            "Epoch 60/100\n",
            "17/18 [===========================>..] - ETA: 0s - loss: 230.6600INFO:tensorflow:Assets written to: model_experiments/model_3_dense/assets\n",
            "18/18 [==============================] - 1s 34ms/step - loss: 230.1366 - val_loss: 1259.6018\n",
            "Epoch 61/100\n",
            "18/18 [==============================] - 0s 7ms/step - loss: 230.5381 - val_loss: 1406.2994\n",
            "Epoch 62/100\n",
            "18/18 [==============================] - 0s 5ms/step - loss: 231.8386 - val_loss: 1291.0714\n",
            "Epoch 63/100\n",
            "18/18 [==============================] - 0s 5ms/step - loss: 233.6788 - val_loss: 1368.6283\n",
            "Epoch 64/100\n",
            "17/18 [===========================>..] - ETA: 0s - loss: 232.8231INFO:tensorflow:Assets written to: model_experiments/model_3_dense/assets\n",
            "18/18 [==============================] - 1s 34ms/step - loss: 232.2232 - val_loss: 1251.2312\n",
            "Epoch 65/100\n",
            "18/18 [==============================] - 0s 5ms/step - loss: 232.8093 - val_loss: 1346.9835\n",
            "Epoch 66/100\n",
            "18/18 [==============================] - 0s 6ms/step - loss: 231.5086 - val_loss: 1429.1592\n",
            "Epoch 67/100\n",
            "18/18 [==============================] - 0s 5ms/step - loss: 234.4316 - val_loss: 1291.2919\n",
            "Epoch 68/100\n",
            "18/18 [==============================] - 0s 5ms/step - loss: 228.4419 - val_loss: 1320.3303\n",
            "Epoch 69/100\n",
            "18/18 [==============================] - 0s 5ms/step - loss: 227.7240 - val_loss: 1519.1731\n",
            "Epoch 70/100\n",
            "18/18 [==============================] - 0s 5ms/step - loss: 233.6939 - val_loss: 1278.3643\n",
            "Epoch 71/100\n",
            "18/18 [==============================] - 0s 5ms/step - loss: 227.1845 - val_loss: 1261.8007\n",
            "Epoch 72/100\n",
            "18/18 [==============================] - 0s 5ms/step - loss: 229.9134 - val_loss: 1251.5464\n",
            "Epoch 73/100\n",
            "18/18 [==============================] - 0s 6ms/step - loss: 227.0498 - val_loss: 1270.7106\n",
            "Epoch 74/100\n",
            "18/18 [==============================] - 0s 5ms/step - loss: 230.8763 - val_loss: 1387.2863\n",
            "Epoch 75/100\n",
            "18/18 [==============================] - 0s 6ms/step - loss: 228.8457 - val_loss: 1356.4391\n",
            "Epoch 76/100\n",
            "18/18 [==============================] - 0s 7ms/step - loss: 228.9847 - val_loss: 1287.2344\n",
            "Epoch 77/100\n",
            "17/18 [===========================>..] - ETA: 0s - loss: 225.1430INFO:tensorflow:Assets written to: model_experiments/model_3_dense/assets\n",
            "18/18 [==============================] - 1s 48ms/step - loss: 225.3240 - val_loss: 1237.5063\n",
            "Epoch 78/100\n",
            "18/18 [==============================] - 0s 5ms/step - loss: 229.2195 - val_loss: 1248.6914\n",
            "Epoch 79/100\n",
            "18/18 [==============================] - 0s 5ms/step - loss: 227.7465 - val_loss: 1286.5441\n",
            "Epoch 80/100\n",
            "18/18 [==============================] - 0s 5ms/step - loss: 225.9967 - val_loss: 1329.9923\n",
            "Epoch 81/100\n",
            "18/18 [==============================] - 0s 5ms/step - loss: 228.1217 - val_loss: 1262.6132\n",
            "Epoch 82/100\n",
            "18/18 [==============================] - 0s 5ms/step - loss: 225.3166 - val_loss: 1273.8385\n",
            "Epoch 83/100\n",
            "18/18 [==============================] - 0s 6ms/step - loss: 225.2265 - val_loss: 1279.3625\n",
            "Epoch 84/100\n",
            "18/18 [==============================] - 0s 6ms/step - loss: 224.9335 - val_loss: 1249.8485\n",
            "Epoch 85/100\n",
            "18/18 [==============================] - 0s 6ms/step - loss: 226.8255 - val_loss: 1248.8398\n",
            "Epoch 86/100\n",
            "18/18 [==============================] - 0s 5ms/step - loss: 224.7192 - val_loss: 1295.6713\n",
            "Epoch 87/100\n",
            "18/18 [==============================] - 0s 6ms/step - loss: 227.7314 - val_loss: 1312.5580\n",
            "Epoch 88/100\n",
            "18/18 [==============================] - 0s 7ms/step - loss: 226.0089 - val_loss: 1531.1243\n",
            "Epoch 89/100\n",
            "18/18 [==============================] - 0s 5ms/step - loss: 232.9868 - val_loss: 1280.1464\n",
            "Epoch 90/100\n",
            "18/18 [==============================] - 0s 5ms/step - loss: 231.8500 - val_loss: 1357.8201\n",
            "Epoch 91/100\n",
            "18/18 [==============================] - 0s 6ms/step - loss: 227.3205 - val_loss: 1253.0872\n",
            "Epoch 92/100\n",
            "18/18 [==============================] - 0s 5ms/step - loss: 225.8863 - val_loss: 1258.7296\n",
            "Epoch 93/100\n",
            "18/18 [==============================] - 0s 6ms/step - loss: 232.1322 - val_loss: 1319.8274\n",
            "Epoch 94/100\n",
            "18/18 [==============================] - 0s 6ms/step - loss: 226.2046 - val_loss: 1304.3440\n",
            "Epoch 95/100\n",
            "18/18 [==============================] - 0s 5ms/step - loss: 228.3865 - val_loss: 1276.3594\n",
            "Epoch 96/100\n",
            "18/18 [==============================] - 0s 5ms/step - loss: 230.3855 - val_loss: 1371.3053\n",
            "Epoch 97/100\n",
            "18/18 [==============================] - 0s 5ms/step - loss: 225.3062 - val_loss: 1248.2430\n",
            "Epoch 98/100\n",
            "18/18 [==============================] - 0s 6ms/step - loss: 225.6180 - val_loss: 1411.9194\n",
            "Epoch 99/100\n",
            "18/18 [==============================] - 0s 5ms/step - loss: 229.6835 - val_loss: 1246.1525\n",
            "Epoch 100/100\n",
            "18/18 [==============================] - 0s 6ms/step - loss: 223.0126 - val_loss: 1321.5200\n"
          ]
        },
        {
          "output_type": "execute_result",
          "data": {
            "text/plain": [
              "<keras.callbacks.History at 0x7fec9e9da090>"
            ]
          },
          "metadata": {},
          "execution_count": 64
        }
      ]
    },
    {
      "cell_type": "code",
      "source": [
        "#Evaluate the model on test data\n",
        "model_3.evaluate(test_windows,test_labels)"
      ],
      "metadata": {
        "colab": {
          "base_uri": "https://localhost:8080/"
        },
        "id": "13FYThHlV1o3",
        "outputId": "4e6b4125-e5a9-4ed6-aef4-72b933ecc870"
      },
      "execution_count": 65,
      "outputs": [
        {
          "output_type": "stream",
          "name": "stdout",
          "text": [
            "18/18 [==============================] - 0s 5ms/step - loss: 1321.5201\n"
          ]
        },
        {
          "output_type": "execute_result",
          "data": {
            "text/plain": [
              "1321.5201416015625"
            ]
          },
          "metadata": {},
          "execution_count": 65
        }
      ]
    },
    {
      "cell_type": "code",
      "source": [
        "#loadd best version of model_3 and evaluate\n",
        "model_3 = tf.keras.models.load_model(\"model_experiments/model_3_dense/\")\n",
        "model_3.evaluate(test_windows, test_labels)"
      ],
      "metadata": {
        "colab": {
          "base_uri": "https://localhost:8080/"
        },
        "id": "vTdstqmnVyAQ",
        "outputId": "1ac71329-fa3b-44a1-e1ac-485ae0fe2d8d"
      },
      "execution_count": 66,
      "outputs": [
        {
          "output_type": "stream",
          "name": "stdout",
          "text": [
            "18/18 [==============================] - 0s 5ms/step - loss: 1237.5063\n"
          ]
        },
        {
          "output_type": "execute_result",
          "data": {
            "text/plain": [
              "1237.50634765625"
            ]
          },
          "metadata": {},
          "execution_count": 66
        }
      ]
    },
    {
      "cell_type": "code",
      "source": [
        "# make prediction with model 3\n",
        "model_3_preds=make_preds(model_3, \n",
        "                        input_data=test_windows)\n",
        "\n",
        "model_3_preds[:5]"
      ],
      "metadata": {
        "colab": {
          "base_uri": "https://localhost:8080/"
        },
        "id": "C3kfE_KvWR4R",
        "outputId": "2ef4ca2f-63d5-478c-819b-7dc7bc5fd55c"
      },
      "execution_count": 67,
      "outputs": [
        {
          "output_type": "execute_result",
          "data": {
            "text/plain": [
              "<tf.Tensor: shape=(5, 7), dtype=float32, numpy=\n",
              "array([[9004.693 , 9048.1   , 9425.088 , 9258.259 , 9495.798 , 9558.451 ,\n",
              "        9357.354 ],\n",
              "       [8735.507 , 8840.304 , 9247.793 , 8885.6   , 9097.188 , 9174.328 ,\n",
              "        9156.819 ],\n",
              "       [8672.508 , 8782.388 , 9123.855 , 8770.371 , 9007.13  , 9003.87  ,\n",
              "        9042.723 ],\n",
              "       [8874.398 , 8784.737 , 9043.901 , 8943.051 , 9033.479 , 9176.488 ,\n",
              "        9039.676 ],\n",
              "       [8825.891 , 8777.4375, 8926.779 , 8870.178 , 9213.232 , 9268.156 ,\n",
              "        8942.485 ]], dtype=float32)>"
            ]
          },
          "metadata": {},
          "execution_count": 67
        }
      ]
    },
    {
      "cell_type": "code",
      "source": [
        "model_2_preds[:5]"
      ],
      "metadata": {
        "colab": {
          "base_uri": "https://localhost:8080/"
        },
        "id": "INaC0g7BWwK1",
        "outputId": "24d62376-eaac-40d0-8776-f6563c7e116b"
      },
      "execution_count": 68,
      "outputs": [
        {
          "output_type": "execute_result",
          "data": {
            "text/plain": [
              "<tf.Tensor: shape=(5,), dtype=float32, numpy=array([8946.987, 8967.846, 8820.251, 8615.828, 8485.796], dtype=float32)>"
            ]
          },
          "metadata": {},
          "execution_count": 68
        }
      ]
    },
    {
      "cell_type": "code",
      "source": [
        "model_3_preds.shape, model_2_preds.shape"
      ],
      "metadata": {
        "colab": {
          "base_uri": "https://localhost:8080/"
        },
        "id": "_rC828tfXgXC",
        "outputId": "5156bdfa-a6b7-4ca2-92b7-5b4801233cad"
      },
      "execution_count": 69,
      "outputs": [
        {
          "output_type": "execute_result",
          "data": {
            "text/plain": [
              "(TensorShape([551, 7]), TensorShape([552]))"
            ]
          },
          "metadata": {},
          "execution_count": 69
        }
      ]
    },
    {
      "cell_type": "code",
      "source": [
        "#evaluate model_3 results\n",
        "model_3_results = evaluate_preds(y_true=tf.squeeze(test_labels),\n",
        "                                 y_pred=model_3_preds)"
      ],
      "metadata": {
        "id": "ax5U3Gi7W3pX"
      },
      "execution_count": 70,
      "outputs": []
    },
    {
      "cell_type": "markdown",
      "source": [
        "##Make our evaluation function work for larger horizons"
      ],
      "metadata": {
        "id": "Ol07edDJXayU"
      }
    },
    {
      "cell_type": "code",
      "source": [
        "#create a function to take in model prediction and truth value and return evaluation metrics\n",
        "def evaluate_preds(y_true, y_pred):\n",
        "  #make sure float32 datatype (for metric calculations)\n",
        "  y_true= tf.cast(y_true, dtype= tf.float32)\n",
        "  y_pred = tf.cast(y_pred, dtype=tf.float32)\n",
        "\n",
        "  #calculate various evaluation metrics\n",
        "  mae= tf.keras.metrics.mean_absolute_error(y_true, y_pred)\n",
        "  mse = tf.keras.metrics.mean_squared_error(y_true, y_pred)\n",
        "  rmse = tf.sqrt(mse)\n",
        "  mape= tf.keras.metrics.mean_absolute_percentage_error(y_true, y_pred)\n",
        "  mase = mean_absolute_scaled_error(y_true, y_pred)\n",
        "\n",
        "  #Account for different sized metrics (for longer horizons, we want to reduce metrics to a single value)\n",
        "  if mae.ndim > 0:\n",
        "    mae=tf.reduce_mean(mae)\n",
        "    mse=tf.reduce_mean(mse)\n",
        "    rmse=tf.reduce_mean(rmse)\n",
        "    mape=tf.reduce_mean(mape)\n",
        "    mase=tf.reduce_mean(mase)\n",
        "\n",
        "\n",
        "  return {\"mae\": mae.numpy(),\n",
        "          \"mse\": mse.numpy(),\n",
        "          \"rmse\": rmse.numpy(),\n",
        "          \"mape\": mape.numpy(),\n",
        "          \"mase\": mase.numpy()}"
      ],
      "metadata": {
        "id": "0yuM_nhhYMVY"
      },
      "execution_count": 71,
      "outputs": []
    },
    {
      "cell_type": "code",
      "source": [
        "#get model_3 results aggregated to single value\n",
        "model_3_results = evaluate_preds(y_true=tf.squeeze(test_labels),\n",
        "                                 y_pred=model_3_preds)\n",
        "model_3_results"
      ],
      "metadata": {
        "colab": {
          "base_uri": "https://localhost:8080/"
        },
        "id": "9Tww9riPZjfH",
        "outputId": "fd6adf4e-80d2-4b1e-c952-4932de45e17a"
      },
      "execution_count": 72,
      "outputs": [
        {
          "output_type": "execute_result",
          "data": {
            "text/plain": [
              "{'mae': 1237.5063,\n",
              " 'mape': 5.5588784,\n",
              " 'mase': 0.8800401,\n",
              " 'mse': 5405198.5,\n",
              " 'rmse': 1425.7479}"
            ]
          },
          "metadata": {},
          "execution_count": 72
        }
      ]
    },
    {
      "cell_type": "code",
      "source": [
        "offset=300\n",
        "plt.figure(figsize=(10,7))\n",
        "plot_time_series(timesteps=X_test[-len(test_windows):],values=test_labels[:,0], start=offset, label=\"Test data\")\n",
        "plot_time_series(timesteps=X_test[-len(test_windows):], values=tf.reduce_mean(model_3_preds,axis=1), start=offset, format=\"-\", label=\"model_3_preds\")"
      ],
      "metadata": {
        "colab": {
          "base_uri": "https://localhost:8080/",
          "height": 442
        },
        "id": "75UxQwn6Zy4l",
        "outputId": "a8c85a49-ed6f-4215-c7ae-636234b23e09"
      },
      "execution_count": 73,
      "outputs": [
        {
          "output_type": "display_data",
          "data": {
            "text/plain": [
              "<Figure size 720x504 with 1 Axes>"
            ],
            "image/png": "[encoded data removed]"
          },
          "metadata": {
            "needs_background": "light"
          }
        }
      ]
    },
    {
      "cell_type": "markdown",
      "source": [
        "## which of our model is performing the best so far?\n",
        "\n",
        "so we have trained a few models, let's compare them "
      ],
      "metadata": {
        "id": "z1CosVgSbTe-"
      }
    },
    {
      "cell_type": "code",
      "source": [
        "pd.DataFrame({\"naive\": naive_results[\"mae\"],\n",
        "              \"horizon_1_window_7\": model_1_results[\"mae\"],\n",
        "              \"horizon_1_window_30\":model_2_results[\"mae\"],\n",
        "              \"horizon_7_window_30\":model_3_results[\"mae\"]}, index=[\"mae\"]).plot(figsize=(10,7), kind=\"bar\");"
      ],
      "metadata": {
        "colab": {
          "base_uri": "https://localhost:8080/",
          "height": 440
        },
        "id": "xblWRdW7rur5",
        "outputId": "f9c3a1a0-d042-4d44-bf11-b0d6e00a29e5"
      },
      "execution_count": 74,
      "outputs": [
        {
          "output_type": "display_data",
          "data": {
            "text/plain": [
              "<Figure size 720x504 with 1 Axes>"
            ],
            "image/png": "[encoded data removed]"
          },
          "metadata": {
            "needs_background": "light"
          }
        }
      ]
    },
    {
      "cell_type": "markdown",
      "source": [
        "## Model 4: Conv1D"
      ],
      "metadata": {
        "id": "RThUezITsSGD"
      }
    },
    {
      "cell_type": "code",
      "source": [
        "HORIZON = 1 #predict next day of Bitcoin prices\n",
        "WINDOW_SIZE= 7 #use previous  week worth data"
      ],
      "metadata": {
        "id": "OKdIxo48uweO"
      },
      "execution_count": 75,
      "outputs": []
    },
    {
      "cell_type": "code",
      "source": [
        "#create windowed data\n",
        "full_windows, full_labels = make_windows(prices, window_size=WINDOW_SIZE, horizon=HORIZON)"
      ],
      "metadata": {
        "id": "2Lrmg5wiu46E"
      },
      "execution_count": 76,
      "outputs": []
    },
    {
      "cell_type": "code",
      "source": [
        "#create train/test sets\n",
        "train_windows, test_windows, train_labels, test_labels = make_train_test_splits(full_windows, full_labels)"
      ],
      "metadata": {
        "id": "TT-TLRcovFXO"
      },
      "execution_count": 77,
      "outputs": []
    },
    {
      "cell_type": "code",
      "source": [
        "len(train_windows), len(test_windows), len(train_labels), len(test_labels) "
      ],
      "metadata": {
        "colab": {
          "base_uri": "https://localhost:8080/"
        },
        "id": "TW9Cv4tLvSXQ",
        "outputId": "80f0aa96-c280-4ea3-cb17-ced225d46c0c"
      },
      "execution_count": 78,
      "outputs": [
        {
          "output_type": "execute_result",
          "data": {
            "text/plain": [
              "(2224, 556, 2224, 556)"
            ]
          },
          "metadata": {},
          "execution_count": 78
        }
      ]
    },
    {
      "cell_type": "markdown",
      "source": [
        "To use the Conv1D layer, we need an input shape of: `(batch_size, timesteps, input_dims)`...\n",
        "However, our data isn't in that shape yet.."
      ],
      "metadata": {
        "id": "D_9lf3k8vcdB"
      }
    },
    {
      "cell_type": "code",
      "source": [
        "#check data input shape\n",
        "train_windows[0].shape #returns (WINDOW_SIZE, )"
      ],
      "metadata": {
        "colab": {
          "base_uri": "https://localhost:8080/"
        },
        "id": "COl1_E6kvygd",
        "outputId": "a953bcbc-cb79-4678-dde1-9b51d0419015"
      },
      "execution_count": 79,
      "outputs": [
        {
          "output_type": "execute_result",
          "data": {
            "text/plain": [
              "(7,)"
            ]
          },
          "metadata": {},
          "execution_count": 79
        }
      ]
    },
    {
      "cell_type": "code",
      "source": [
        "# Before we pass our data to Conv1D layer, we have to reshape it in order to make sure it works\n",
        "x = tf.constant(train_windows[0])\n",
        "x"
      ],
      "metadata": {
        "colab": {
          "base_uri": "https://localhost:8080/"
        },
        "id": "X6k8-Y1ov6rl",
        "outputId": "c2a82ff5-e92e-4862-b188-1355fad1e65f"
      },
      "execution_count": 80,
      "outputs": [
        {
          "output_type": "execute_result",
          "data": {
            "text/plain": [
              "<tf.Tensor: shape=(7,), dtype=float64, numpy=\n",
              "array([123.65499, 125.455  , 108.58483, 118.67466, 121.33866, 120.65533,\n",
              "       121.795  ])>"
            ]
          },
          "metadata": {},
          "execution_count": 80
        }
      ]
    },
    {
      "cell_type": "code",
      "source": [
        "expand_dims_layer = layers.Lambda(lambda x: tf.expand_dims(x, axis=1)) #add an extra dimension for \"input_dims\"|"
      ],
      "metadata": {
        "id": "cX8dooCcwTP-"
      },
      "execution_count": 81,
      "outputs": []
    },
    {
      "cell_type": "code",
      "source": [
        "#test out our lambda layer\n",
        "print(f\"Original shape: {x.shape}\") #(WINDOW_SIZE)\n",
        "print(f\"Expanded shape: {expand_dims_layer(x).shape}\")#output = ...?\n",
        "print(f\"Origiinal value with expanded shape: \\n {expand_dims_layer(x)}\")"
      ],
      "metadata": {
        "colab": {
          "base_uri": "https://localhost:8080/"
        },
        "id": "hhkwOxDHwqHS",
        "outputId": "1fe022b5-804b-4717-b3b4-81c65407d79b"
      },
      "execution_count": 82,
      "outputs": [
        {
          "output_type": "stream",
          "name": "stdout",
          "text": [
            "Original shape: (7,)\n",
            "Expanded shape: (7, 1)\n",
            "Origiinal value with expanded shape: \n",
            " [[123.65499]\n",
            " [125.455  ]\n",
            " [108.58483]\n",
            " [118.67466]\n",
            " [121.33866]\n",
            " [120.65533]\n",
            " [121.795  ]]\n"
          ]
        }
      ]
    },
    {
      "cell_type": "code",
      "source": [
        "tf.random.set_seed(42)\n",
        "\n",
        "#create Conv1D model\n",
        "model_4=tf.keras.Sequential([\n",
        "                             layers.Lambda(lambda x: tf.expand_dims(x, axis=1)),\n",
        "                             layers.Conv1D(filters=128, kernel_size=5, strides=1, padding=\"causal\", activation=\"relu\"),\n",
        "                             layers.Dense(HORIZON)\n",
        "], name=\"model_4_conv1D\")\n",
        "\n",
        "#ccompile\n",
        "model_4.compile(loss=\"mae\",\n",
        "                optimizer=tf.keras.optimizers.Adam())\n",
        "\n",
        "# fit\n",
        "model_4.fit(train_windows,\n",
        "            train_labels,\n",
        "            batch_size=128,\n",
        "            epochs=100,\n",
        "            verbose=1,\n",
        "            validation_data=(test_windows, test_labels),\n",
        "            callbacks=[create_model_checkpoint(model_name=model_4.name)])"
      ],
      "metadata": {
        "colab": {
          "base_uri": "https://localhost:8080/"
        },
        "id": "NKR9HIMExDyP",
        "outputId": "d14c279f-19d7-4948-c072-eb71b6a03508"
      },
      "execution_count": 83,
      "outputs": [
        {
          "output_type": "stream",
          "name": "stdout",
          "text": [
            "Epoch 1/100\n",
            "18/18 [==============================] - ETA: 0s - loss: 1207.3817INFO:tensorflow:Assets written to: model_experiments/model_4_conv1D/assets\n",
            "18/18 [==============================] - 9s 65ms/step - loss: 1207.3817 - val_loss: 2320.6218\n",
            "Epoch 2/100\n",
            "14/18 [======================>.......] - ETA: 0s - loss: 333.8723INFO:tensorflow:Assets written to: model_experiments/model_4_conv1D/assets\n",
            "18/18 [==============================] - 1s 50ms/step - loss: 316.2172 - val_loss: 1467.2800\n",
            "Epoch 3/100\n",
            "13/18 [====================>.........] - ETA: 0s - loss: 199.1873INFO:tensorflow:Assets written to: model_experiments/model_4_conv1D/assets\n",
            "18/18 [==============================] - 1s 50ms/step - loss: 192.6853 - val_loss: 1164.7075\n",
            "Epoch 4/100\n",
            "14/18 [======================>.......] - ETA: 0s - loss: 183.0545INFO:tensorflow:Assets written to: model_experiments/model_4_conv1D/assets\n",
            "18/18 [==============================] - 1s 48ms/step - loss: 177.3535 - val_loss: 981.6695\n",
            "Epoch 5/100\n",
            "14/18 [======================>.......] - ETA: 0s - loss: 177.1351INFO:tensorflow:Assets written to: model_experiments/model_4_conv1D/assets\n",
            "18/18 [==============================] - 1s 51ms/step - loss: 172.3466 - val_loss: 960.8708\n",
            "Epoch 6/100\n",
            "14/18 [======================>.......] - ETA: 0s - loss: 169.5623INFO:tensorflow:Assets written to: model_experiments/model_4_conv1D/assets\n",
            "18/18 [==============================] - 1s 50ms/step - loss: 171.9754 - val_loss: 950.2025\n",
            "Epoch 7/100\n",
            "13/18 [====================>.........] - ETA: 0s - loss: 175.5107INFO:tensorflow:Assets written to: model_experiments/model_4_conv1D/assets\n",
            "18/18 [==============================] - 1s 63ms/step - loss: 167.1943 - val_loss: 943.2872\n",
            "Epoch 8/100\n",
            "14/18 [======================>.......] - ETA: 0s - loss: 162.2332INFO:tensorflow:Assets written to: model_experiments/model_4_conv1D/assets\n",
            "18/18 [==============================] - 1s 49ms/step - loss: 163.5991 - val_loss: 905.5262\n",
            "Epoch 9/100\n",
            "18/18 [==============================] - 0s 6ms/step - loss: 162.5455 - val_loss: 929.7608\n",
            "Epoch 10/100\n",
            "15/18 [========================>.....] - ETA: 0s - loss: 154.6092INFO:tensorflow:Assets written to: model_experiments/model_4_conv1D/assets\n",
            "18/18 [==============================] - 1s 55ms/step - loss: 158.5780 - val_loss: 871.9780\n",
            "Epoch 11/100\n",
            "12/18 [===================>..........] - ETA: 0s - loss: 162.3290INFO:tensorflow:Assets written to: model_experiments/model_4_conv1D/assets\n",
            "18/18 [==============================] - 2s 100ms/step - loss: 154.0058 - val_loss: 852.7119\n",
            "Epoch 12/100\n",
            "18/18 [==============================] - 0s 10ms/step - loss: 151.2620 - val_loss: 944.1971\n",
            "Epoch 13/100\n",
            "18/18 [==============================] - 0s 13ms/step - loss: 150.2688 - val_loss: 881.1827\n",
            "Epoch 14/100\n",
            "15/18 [========================>.....] - ETA: 0s - loss: 143.3240INFO:tensorflow:Assets written to: model_experiments/model_4_conv1D/assets\n",
            "18/18 [==============================] - 2s 115ms/step - loss: 145.4593 - val_loss: 849.1819\n",
            "Epoch 15/100\n",
            "13/18 [====================>.........] - ETA: 0s - loss: 141.4974INFO:tensorflow:Assets written to: model_experiments/model_4_conv1D/assets\n",
            "18/18 [==============================] - 2s 107ms/step - loss: 143.3640 - val_loss: 844.4008\n",
            "Epoch 16/100\n",
            "15/18 [========================>.....] - ETA: 0s - loss: 139.3140INFO:tensorflow:Assets written to: model_experiments/model_4_conv1D/assets\n",
            "18/18 [==============================] - 2s 122ms/step - loss: 139.8764 - val_loss: 806.7261\n",
            "Epoch 17/100\n",
            "18/18 [==============================] - 0s 13ms/step - loss: 138.1677 - val_loss: 812.6342\n",
            "Epoch 18/100\n",
            "14/18 [======================>.......] - ETA: 0s - loss: 144.0606INFO:tensorflow:Assets written to: model_experiments/model_4_conv1D/assets\n",
            "18/18 [==============================] - 2s 122ms/step - loss: 137.9497 - val_loss: 775.2101\n",
            "Epoch 19/100\n",
            "14/18 [======================>.......] - ETA: 0s - loss: 133.4583INFO:tensorflow:Assets written to: model_experiments/model_4_conv1D/assets\n",
            "18/18 [==============================] - 2s 130ms/step - loss: 131.1450 - val_loss: 755.4260\n",
            "Epoch 20/100\n",
            "18/18 [==============================] - ETA: 0s - loss: 132.4057INFO:tensorflow:Assets written to: model_experiments/model_4_conv1D/assets\n",
            "18/18 [==============================] - 2s 100ms/step - loss: 132.4057 - val_loss: 712.2014\n",
            "Epoch 21/100\n",
            "16/18 [=========================>....] - ETA: 0s - loss: 130.2775INFO:tensorflow:Assets written to: model_experiments/model_4_conv1D/assets\n",
            "18/18 [==============================] - 2s 123ms/step - loss: 131.0829 - val_loss: 707.4121\n",
            "Epoch 22/100\n",
            "12/18 [===================>..........] - ETA: 0s - loss: 138.2570INFO:tensorflow:Assets written to: model_experiments/model_4_conv1D/assets\n",
            "18/18 [==============================] - 3s 157ms/step - loss: 126.9511 - val_loss: 692.9739\n",
            "Epoch 23/100\n",
            "14/18 [======================>.......] - ETA: 0s - loss: 123.5648INFO:tensorflow:Assets written to: model_experiments/model_4_conv1D/assets\n",
            "18/18 [==============================] - 2s 124ms/step - loss: 125.1489 - val_loss: 682.4753\n",
            "Epoch 24/100\n",
            "16/18 [=========================>....] - ETA: 0s - loss: 124.9765INFO:tensorflow:Assets written to: model_experiments/model_4_conv1D/assets\n",
            "18/18 [==============================] - 2s 129ms/step - loss: 124.3786 - val_loss: 670.8320\n",
            "Epoch 25/100\n",
            "18/18 [==============================] - ETA: 0s - loss: 121.6896INFO:tensorflow:Assets written to: model_experiments/model_4_conv1D/assets\n",
            "18/18 [==============================] - 2s 122ms/step - loss: 121.6896 - val_loss: 662.6083\n",
            "Epoch 26/100\n",
            "17/18 [===========================>..] - ETA: 0s - loss: 121.2305INFO:tensorflow:Assets written to: model_experiments/model_4_conv1D/assets\n",
            "18/18 [==============================] - 1s 82ms/step - loss: 121.5705 - val_loss: 654.6089\n",
            "Epoch 27/100\n",
            "18/18 [==============================] - ETA: 0s - loss: 122.6445INFO:tensorflow:Assets written to: model_experiments/model_4_conv1D/assets\n",
            "18/18 [==============================] - 2s 95ms/step - loss: 122.6445 - val_loss: 650.9058\n",
            "Epoch 28/100\n",
            "18/18 [==============================] - ETA: 0s - loss: 117.9562INFO:tensorflow:Assets written to: model_experiments/model_4_conv1D/assets\n",
            "18/18 [==============================] - 2s 100ms/step - loss: 117.9562 - val_loss: 645.4809\n",
            "Epoch 29/100\n",
            "17/18 [===========================>..] - ETA: 0s - loss: 114.9311INFO:tensorflow:Assets written to: model_experiments/model_4_conv1D/assets\n",
            "18/18 [==============================] - 2s 97ms/step - loss: 117.1769 - val_loss: 639.9748\n",
            "Epoch 30/100\n",
            "16/18 [=========================>....] - ETA: 0s - loss: 119.4724INFO:tensorflow:Assets written to: model_experiments/model_4_conv1D/assets\n",
            "18/18 [==============================] - 2s 96ms/step - loss: 121.0468 - val_loss: 630.7950\n",
            "Epoch 31/100\n",
            "18/18 [==============================] - 0s 13ms/step - loss: 114.9061 - val_loss: 652.6465\n",
            "Epoch 32/100\n",
            "14/18 [======================>.......] - ETA: 0s - loss: 119.1011INFO:tensorflow:Assets written to: model_experiments/model_4_conv1D/assets\n",
            "18/18 [==============================] - 2s 95ms/step - loss: 116.4312 - val_loss: 623.4980\n",
            "Epoch 33/100\n",
            "18/18 [==============================] - 0s 7ms/step - loss: 115.7971 - val_loss: 664.3210\n",
            "Epoch 34/100\n",
            "13/18 [====================>.........] - ETA: 0s - loss: 121.0527INFO:tensorflow:Assets written to: model_experiments/model_4_conv1D/assets\n",
            "18/18 [==============================] - 1s 67ms/step - loss: 117.2043 - val_loss: 613.7655\n",
            "Epoch 35/100\n",
            "18/18 [==============================] - 0s 8ms/step - loss: 113.4074 - val_loss: 619.6226\n",
            "Epoch 36/100\n",
            "14/18 [======================>.......] - ETA: 0s - loss: 116.0714INFO:tensorflow:Assets written to: model_experiments/model_4_conv1D/assets\n",
            "18/18 [==============================] - 1s 52ms/step - loss: 116.8330 - val_loss: 605.7616\n",
            "Epoch 37/100\n",
            "12/18 [===================>..........] - ETA: 0s - loss: 113.0536INFO:tensorflow:Assets written to: model_experiments/model_4_conv1D/assets\n",
            "18/18 [==============================] - 1s 51ms/step - loss: 114.7925 - val_loss: 603.6093\n",
            "Epoch 38/100\n",
            "14/18 [======================>.......] - ETA: 0s - loss: 116.2020INFO:tensorflow:Assets written to: model_experiments/model_4_conv1D/assets\n",
            "18/18 [==============================] - 1s 49ms/step - loss: 113.0861 - val_loss: 602.5892\n",
            "Epoch 39/100\n",
            "14/18 [======================>.......] - ETA: 0s - loss: 114.8435INFO:tensorflow:Assets written to: model_experiments/model_4_conv1D/assets\n",
            "18/18 [==============================] - 1s 49ms/step - loss: 111.9831 - val_loss: 602.2946\n",
            "Epoch 40/100\n",
            "14/18 [======================>.......] - ETA: 0s - loss: 112.7160INFO:tensorflow:Assets written to: model_experiments/model_4_conv1D/assets\n",
            "18/18 [==============================] - 1s 51ms/step - loss: 111.2691 - val_loss: 600.5513\n",
            "Epoch 41/100\n",
            "18/18 [==============================] - 0s 6ms/step - loss: 112.0726 - val_loss: 623.0615\n",
            "Epoch 42/100\n",
            "18/18 [==============================] - 0s 7ms/step - loss: 116.7095 - val_loss: 645.0155\n",
            "Epoch 43/100\n",
            "18/18 [==============================] - 0s 6ms/step - loss: 118.9676 - val_loss: 659.5667\n",
            "Epoch 44/100\n",
            "18/18 [==============================] - 0s 6ms/step - loss: 125.4497 - val_loss: 678.8229\n",
            "Epoch 45/100\n",
            "18/18 [==============================] - 0s 6ms/step - loss: 115.4361 - val_loss: 611.8369\n",
            "Epoch 46/100\n",
            "14/18 [======================>.......] - ETA: 0s - loss: 117.1332INFO:tensorflow:Assets written to: model_experiments/model_4_conv1D/assets\n",
            "18/18 [==============================] - 1s 50ms/step - loss: 114.1717 - val_loss: 589.6738\n",
            "Epoch 47/100\n",
            "18/18 [==============================] - 0s 7ms/step - loss: 113.7248 - val_loss: 720.2479\n",
            "Epoch 48/100\n",
            "18/18 [==============================] - 0s 7ms/step - loss: 112.0136 - val_loss: 597.4332\n",
            "Epoch 49/100\n",
            "18/18 [==============================] - 0s 6ms/step - loss: 110.5680 - val_loss: 665.2026\n",
            "Epoch 50/100\n",
            "18/18 [==============================] - 0s 9ms/step - loss: 119.7653 - val_loss: 635.1694\n",
            "Epoch 51/100\n",
            "14/18 [======================>.......] - ETA: 0s - loss: 112.0258INFO:tensorflow:Assets written to: model_experiments/model_4_conv1D/assets\n",
            "18/18 [==============================] - 1s 49ms/step - loss: 110.7740 - val_loss: 586.0245\n",
            "Epoch 52/100\n",
            "18/18 [==============================] - 0s 9ms/step - loss: 111.2179 - val_loss: 595.2484\n",
            "Epoch 53/100\n",
            "18/18 [==============================] - 0s 7ms/step - loss: 113.6466 - val_loss: 670.5777\n",
            "Epoch 54/100\n",
            "18/18 [==============================] - 0s 7ms/step - loss: 126.7883 - val_loss: 648.2966\n",
            "Epoch 55/100\n",
            "18/18 [==============================] - 0s 6ms/step - loss: 110.6968 - val_loss: 593.8557\n",
            "Epoch 56/100\n",
            "18/18 [==============================] - 0s 7ms/step - loss: 109.8592 - val_loss: 766.5011\n",
            "Epoch 57/100\n",
            "18/18 [==============================] - 0s 6ms/step - loss: 124.8183 - val_loss: 712.2679\n",
            "Epoch 58/100\n",
            "18/18 [==============================] - 0s 7ms/step - loss: 120.3515 - val_loss: 698.5152\n",
            "Epoch 59/100\n",
            "18/18 [==============================] - 0s 6ms/step - loss: 110.8185 - val_loss: 592.1151\n",
            "Epoch 60/100\n",
            "18/18 [==============================] - 0s 8ms/step - loss: 110.2038 - val_loss: 616.9355\n",
            "Epoch 61/100\n",
            "18/18 [==============================] - 0s 7ms/step - loss: 111.0310 - val_loss: 588.4845\n",
            "Epoch 62/100\n",
            "14/18 [======================>.......] - ETA: 0s - loss: 108.4850INFO:tensorflow:Assets written to: model_experiments/model_4_conv1D/assets\n",
            "18/18 [==============================] - 1s 50ms/step - loss: 108.1684 - val_loss: 577.6281\n",
            "Epoch 63/100\n",
            "18/18 [==============================] - 0s 6ms/step - loss: 108.7932 - val_loss: 610.1493\n",
            "Epoch 64/100\n",
            "18/18 [==============================] - 0s 6ms/step - loss: 110.4675 - val_loss: 652.9423\n",
            "Epoch 65/100\n",
            "18/18 [==============================] - 0s 6ms/step - loss: 110.7312 - val_loss: 583.0667\n",
            "Epoch 66/100\n",
            "18/18 [==============================] - 0s 6ms/step - loss: 108.3487 - val_loss: 587.8361\n",
            "Epoch 67/100\n",
            "18/18 [==============================] - 0s 7ms/step - loss: 108.0646 - val_loss: 648.5152\n",
            "Epoch 68/100\n",
            "18/18 [==============================] - 0s 6ms/step - loss: 113.6957 - val_loss: 675.1600\n",
            "Epoch 69/100\n",
            "18/18 [==============================] - 0s 6ms/step - loss: 124.3081 - val_loss: 632.9847\n",
            "Epoch 70/100\n",
            "18/18 [==============================] - 0s 7ms/step - loss: 124.3231 - val_loss: 588.5082\n",
            "Epoch 71/100\n",
            "18/18 [==============================] - 0s 7ms/step - loss: 111.2923 - val_loss: 618.2576\n",
            "Epoch 72/100\n",
            "18/18 [==============================] - 0s 7ms/step - loss: 110.1688 - val_loss: 581.8315\n",
            "Epoch 73/100\n",
            "18/18 [==============================] - 0s 6ms/step - loss: 108.6783 - val_loss: 582.9406\n",
            "Epoch 74/100\n",
            "18/18 [==============================] - 0s 6ms/step - loss: 108.4709 - val_loss: 578.2970\n",
            "Epoch 75/100\n",
            "18/18 [==============================] - 0s 6ms/step - loss: 110.1821 - val_loss: 663.3143\n",
            "Epoch 76/100\n",
            "18/18 [==============================] - 0s 6ms/step - loss: 112.4488 - val_loss: 582.5886\n",
            "Epoch 77/100\n",
            "18/18 [==============================] - 0s 6ms/step - loss: 110.0107 - val_loss: 579.8845\n",
            "Epoch 78/100\n",
            "18/18 [==============================] - 0s 6ms/step - loss: 107.3413 - val_loss: 582.0063\n",
            "Epoch 79/100\n",
            "18/18 [==============================] - 0s 6ms/step - loss: 109.0300 - val_loss: 591.4009\n",
            "Epoch 80/100\n",
            "18/18 [==============================] - 0s 6ms/step - loss: 106.9309 - val_loss: 585.3928\n",
            "Epoch 81/100\n",
            "14/18 [======================>.......] - ETA: 0s - loss: 105.6287INFO:tensorflow:Assets written to: model_experiments/model_4_conv1D/assets\n",
            "18/18 [==============================] - 1s 48ms/step - loss: 106.6292 - val_loss: 575.4401\n",
            "Epoch 82/100\n",
            "13/18 [====================>.........] - ETA: 0s - loss: 116.4060INFO:tensorflow:Assets written to: model_experiments/model_4_conv1D/assets\n",
            "18/18 [==============================] - 1s 64ms/step - loss: 114.2934 - val_loss: 571.6199\n",
            "Epoch 83/100\n",
            "18/18 [==============================] - 0s 7ms/step - loss: 111.1759 - val_loss: 666.0594\n",
            "Epoch 84/100\n",
            "18/18 [==============================] - 0s 7ms/step - loss: 112.2543 - val_loss: 580.0316\n",
            "Epoch 85/100\n",
            "18/18 [==============================] - 0s 7ms/step - loss: 107.7741 - val_loss: 599.6221\n",
            "Epoch 86/100\n",
            "18/18 [==============================] - 0s 6ms/step - loss: 108.7533 - val_loss: 599.0879\n",
            "Epoch 87/100\n",
            "18/18 [==============================] - 0s 7ms/step - loss: 106.9682 - val_loss: 596.5339\n",
            "Epoch 88/100\n",
            "18/18 [==============================] - 0s 7ms/step - loss: 107.9607 - val_loss: 598.1055\n",
            "Epoch 89/100\n",
            "14/18 [======================>.......] - ETA: 0s - loss: 101.7908INFO:tensorflow:Assets written to: model_experiments/model_4_conv1D/assets\n",
            "18/18 [==============================] - 1s 50ms/step - loss: 107.3045 - val_loss: 570.8284\n",
            "Epoch 90/100\n",
            "18/18 [==============================] - 0s 7ms/step - loss: 108.0094 - val_loss: 642.3937\n",
            "Epoch 91/100\n",
            "18/18 [==============================] - 0s 6ms/step - loss: 113.7574 - val_loss: 625.3719\n",
            "Epoch 92/100\n",
            "18/18 [==============================] - 0s 7ms/step - loss: 108.0016 - val_loss: 627.3057\n",
            "Epoch 93/100\n",
            "18/18 [==============================] - 0s 7ms/step - loss: 118.0999 - val_loss: 637.1278\n",
            "Epoch 94/100\n",
            "18/18 [==============================] - 0s 6ms/step - loss: 111.3195 - val_loss: 579.6983\n",
            "Epoch 95/100\n",
            "18/18 [==============================] - 0s 7ms/step - loss: 106.8561 - val_loss: 572.8484\n",
            "Epoch 96/100\n",
            "18/18 [==============================] - 0s 7ms/step - loss: 115.0599 - val_loss: 602.3212\n",
            "Epoch 97/100\n",
            "18/18 [==============================] - 0s 6ms/step - loss: 109.4901 - val_loss: 616.3585\n",
            "Epoch 98/100\n",
            "18/18 [==============================] - 0s 6ms/step - loss: 111.2816 - val_loss: 586.7990\n",
            "Epoch 99/100\n",
            "18/18 [==============================] - 0s 6ms/step - loss: 111.2903 - val_loss: 581.4893\n",
            "Epoch 100/100\n",
            "18/18 [==============================] - 0s 7ms/step - loss: 107.0190 - val_loss: 610.1540\n"
          ]
        },
        {
          "output_type": "execute_result",
          "data": {
            "text/plain": [
              "<keras.callbacks.History at 0x7fec9b9c4a50>"
            ]
          },
          "metadata": {},
          "execution_count": 83
        }
      ]
    },
    {
      "cell_type": "code",
      "source": [
        "model_4.summary()"
      ],
      "metadata": {
        "colab": {
          "base_uri": "https://localhost:8080/"
        },
        "id": "VVy5sFSLzH1r",
        "outputId": "e0f4304a-0061-4b1e-caa1-0a84d62315ae"
      },
      "execution_count": 84,
      "outputs": [
        {
          "output_type": "stream",
          "name": "stdout",
          "text": [
            "Model: \"model_4_conv1D\"\n",
            "_________________________________________________________________\n",
            " Layer (type)                Output Shape              Param #   \n",
            "=================================================================\n",
            " lambda_1 (Lambda)           (None, 1, 7)              0         \n",
            "                                                                 \n",
            " conv1d (Conv1D)             (None, 1, 128)            4608      \n",
            "                                                                 \n",
            " dense_6 (Dense)             (None, 1, 1)              129       \n",
            "                                                                 \n",
            "=================================================================\n",
            "Total params: 4,737\n",
            "Trainable params: 4,737\n",
            "Non-trainable params: 0\n",
            "_________________________________________________________________\n"
          ]
        }
      ]
    },
    {
      "cell_type": "code",
      "source": [
        "#evaluate model\n",
        "model_4.evaluate(test_windows,test_labels)"
      ],
      "metadata": {
        "colab": {
          "base_uri": "https://localhost:8080/"
        },
        "id": "VvEbZMxLzdTz",
        "outputId": "c427077f-7106-4ba5-b285-919594189afa"
      },
      "execution_count": 85,
      "outputs": [
        {
          "output_type": "stream",
          "name": "stdout",
          "text": [
            "18/18 [==============================] - 0s 4ms/step - loss: 610.1540\n"
          ]
        },
        {
          "output_type": "execute_result",
          "data": {
            "text/plain": [
              "610.1539916992188"
            ]
          },
          "metadata": {},
          "execution_count": 85
        }
      ]
    },
    {
      "cell_type": "code",
      "source": [
        "#load back in best performing Conv1D model\n",
        "model_4 = tf.keras.models.load_model(\"model_experiments/model_4_conv1D/\")\n",
        "model_4.evaluate(test_windows, test_labels)"
      ],
      "metadata": {
        "colab": {
          "base_uri": "https://localhost:8080/"
        },
        "id": "N-eLj0dUz_Ni",
        "outputId": "122a2222-fe64-4346-c244-23f27557269d"
      },
      "execution_count": 86,
      "outputs": [
        {
          "output_type": "stream",
          "name": "stdout",
          "text": [
            "18/18 [==============================] - 0s 3ms/step - loss: 570.8284\n"
          ]
        },
        {
          "output_type": "execute_result",
          "data": {
            "text/plain": [
              "570.828369140625"
            ]
          },
          "metadata": {},
          "execution_count": 86
        }
      ]
    },
    {
      "cell_type": "code",
      "source": [
        "# make predictions\n",
        "model_4_preds = make_preds(model_4, test_windows)\n",
        "model_4_preds[:5]"
      ],
      "metadata": {
        "colab": {
          "base_uri": "https://localhost:8080/"
        },
        "id": "U0rDFybl0Nuu",
        "outputId": "2945a11a-cbfa-49bf-e81f-e0813a16a4b5"
      },
      "execution_count": 87,
      "outputs": [
        {
          "output_type": "execute_result",
          "data": {
            "text/plain": [
              "<tf.Tensor: shape=(5,), dtype=float32, numpy=array([8851.463, 8754.47 , 8983.927, 8759.671, 8703.627], dtype=float32)>"
            ]
          },
          "metadata": {},
          "execution_count": 87
        }
      ]
    },
    {
      "cell_type": "code",
      "source": [
        "# evaluate predictions\n",
        "model_4_results = evaluate_preds(y_true= tf.squeeze(test_labels),\n",
        "                                 y_pred= model_4_preds)\n",
        "model_4_results"
      ],
      "metadata": {
        "colab": {
          "base_uri": "https://localhost:8080/"
        },
        "id": "0pw2fX510WwZ",
        "outputId": "033ca19b-f794-415c-d4c6-accb130b4a6d"
      },
      "execution_count": 88,
      "outputs": [
        {
          "output_type": "execute_result",
          "data": {
            "text/plain": [
              "{'mae': 570.82837,\n",
              " 'mape': 2.5593357,\n",
              " 'mase': 0.68361753,\n",
              " 'mse': 1176671.4,\n",
              " 'rmse': 1084.7449}"
            ]
          },
          "metadata": {},
          "execution_count": 88
        }
      ]
    },
    {
      "cell_type": "markdown",
      "source": [
        "## Model 5: RNN (LSTM)"
      ],
      "metadata": {
        "id": "x_BcJQfh0nDf"
      }
    },
    {
      "cell_type": "code",
      "source": [
        "tf.random.set_seed(42)\n",
        "\n",
        "#let's build an LSTM model with the functional API\n",
        "inputs = layers.Input(shape=(WINDOW_SIZE))\n",
        "x = layers.Lambda(lambda x: tf.expand_dims(x, axis=1))(inputs)\n",
        "#x = layers.LSTM(128, return_sequences=True)(x)\n",
        "x = layers.LSTM(128, activation=\"relu\")(x)\n",
        "#x = layers.Dense(32, activation=\"relu\")(x)\n",
        "output = layers.Dense(HORIZON)(x)\n",
        "model_5= tf.keras.Model(inputs=inputs, outputs=output, name=\"model_5_LSTM\")\n",
        "\n",
        "#compile\n",
        "model_5.compile(loss=\"mae\",\n",
        "                optimizer=tf.keras.optimizers.Adam())\n",
        "\n",
        "#fit\n",
        "model_5.fit(train_windows,\n",
        "            train_labels,\n",
        "            epochs=100,\n",
        "            verbose=1,\n",
        "            batch_size=128,\n",
        "            validation_data=(test_windows, test_labels),\n",
        "            callbacks=[create_model_checkpoint(model_name=model_5.name)])"
      ],
      "metadata": {
        "colab": {
          "base_uri": "https://localhost:8080/"
        },
        "id": "vvHxZEUx46G2",
        "outputId": "9ba12943-5fc9-44ab-988c-96ddeab9ae5e"
      },
      "execution_count": 90,
      "outputs": [
        {
          "output_type": "stream",
          "name": "stdout",
          "text": [
            "WARNING:tensorflow:Layer lstm_2 will not use cuDNN kernels since it doesn't meet the criteria. It will use a generic GPU kernel as fallback when running on GPU.\n"
          ]
        },
        {
          "output_type": "stream",
          "name": "stderr",
          "text": [
            "WARNING:tensorflow:Layer lstm_2 will not use cuDNN kernels since it doesn't meet the criteria. It will use a generic GPU kernel as fallback when running on GPU.\n"
          ]
        },
        {
          "output_type": "stream",
          "name": "stdout",
          "text": [
            "Epoch 1/100\n",
            "18/18 [==============================] - ETA: 0s - loss: 2323.6082INFO:tensorflow:Assets written to: model_experiments/model_5_LSTM/assets\n"
          ]
        },
        {
          "output_type": "stream",
          "name": "stderr",
          "text": [
            "INFO:tensorflow:Assets written to: model_experiments/model_5_LSTM/assets\n",
            "WARNING:absl:<keras.layers.recurrent.LSTMCell object at 0x7fec9bae3dd0> has the same name 'LSTMCell' as a built-in Keras object. Consider renaming <class 'keras.layers.recurrent.LSTMCell'> to avoid naming conflicts when loading with `tf.keras.models.load_model`. If renaming is not possible, pass the object in the `custom_objects` parameter of the load function.\n"
          ]
        },
        {
          "output_type": "stream",
          "name": "stdout",
          "text": [
            "\b\b\b\b\b\b\b\b\b\b\b\b\b\b\b\b\b\b\b\b\b\b\b\b\b\b\b\b\b\b\b\b\b\b\b\b\b\b\b\b\b\b\b\b\b\b\b\b\b\b\b\b\b\b\b\b\b\b\b\b\b\b\b\b\b\b\r18/18 [==============================] - 8s 312ms/step - loss: 2323.6082 - val_loss: 9222.6523\n",
            "Epoch 2/100\n",
            "18/18 [==============================] - ETA: 0s - loss: 695.4739INFO:tensorflow:Assets written to: model_experiments/model_5_LSTM/assets\n"
          ]
        },
        {
          "output_type": "stream",
          "name": "stderr",
          "text": [
            "INFO:tensorflow:Assets written to: model_experiments/model_5_LSTM/assets\n",
            "WARNING:absl:<keras.layers.recurrent.LSTMCell object at 0x7fec9bae3dd0> has the same name 'LSTMCell' as a built-in Keras object. Consider renaming <class 'keras.layers.recurrent.LSTMCell'> to avoid naming conflicts when loading with `tf.keras.models.load_model`. If renaming is not possible, pass the object in the `custom_objects` parameter of the load function.\n"
          ]
        },
        {
          "output_type": "stream",
          "name": "stdout",
          "text": [
            "\b\b\b\b\b\b\b\b\b\b\b\b\b\b\b\b\b\b\b\b\b\b\b\b\b\b\b\b\b\b\b\b\b\b\b\b\b\b\b\b\b\b\b\b\b\b\b\b\b\b\b\b\b\b\b\b\b\b\b\b\b\b\b\b\b\r18/18 [==============================] - 5s 279ms/step - loss: 695.4739 - val_loss: 1486.0555\n",
            "Epoch 3/100\n",
            "14/18 [======================>.......] - ETA: 0s - loss: 251.0760INFO:tensorflow:Assets written to: model_experiments/model_5_LSTM/assets\n"
          ]
        },
        {
          "output_type": "stream",
          "name": "stderr",
          "text": [
            "INFO:tensorflow:Assets written to: model_experiments/model_5_LSTM/assets\n",
            "WARNING:absl:<keras.layers.recurrent.LSTMCell object at 0x7fec9bae3dd0> has the same name 'LSTMCell' as a built-in Keras object. Consider renaming <class 'keras.layers.recurrent.LSTMCell'> to avoid naming conflicts when loading with `tf.keras.models.load_model`. If renaming is not possible, pass the object in the `custom_objects` parameter of the load function.\n"
          ]
        },
        {
          "output_type": "stream",
          "name": "stdout",
          "text": [
            "\b\b\b\b\b\b\b\b\b\b\b\b\b\b\b\b\b\b\b\b\b\b\b\b\b\b\b\b\b\b\b\b\b\b\b\b\b\b\b\b\b\b\b\b\b\b\b\b\b\b\b\b\b\b\b\b\b\b\b\b\b\b\b\b\b\r18/18 [==============================] - 5s 306ms/step - loss: 237.3967 - val_loss: 1298.9084\n",
            "Epoch 4/100\n",
            "15/18 [========================>.....] - ETA: 0s - loss: 182.5865INFO:tensorflow:Assets written to: model_experiments/model_5_LSTM/assets\n"
          ]
        },
        {
          "output_type": "stream",
          "name": "stderr",
          "text": [
            "INFO:tensorflow:Assets written to: model_experiments/model_5_LSTM/assets\n",
            "WARNING:absl:<keras.layers.recurrent.LSTMCell object at 0x7fec9bae3dd0> has the same name 'LSTMCell' as a built-in Keras object. Consider renaming <class 'keras.layers.recurrent.LSTMCell'> to avoid naming conflicts when loading with `tf.keras.models.load_model`. If renaming is not possible, pass the object in the `custom_objects` parameter of the load function.\n"
          ]
        },
        {
          "output_type": "stream",
          "name": "stdout",
          "text": [
            "\b\b\b\b\b\b\b\b\b\b\b\b\b\b\b\b\b\b\b\b\b\b\b\b\b\b\b\b\b\b\b\b\b\b\b\b\b\b\b\b\b\b\b\b\b\b\b\b\b\b\b\b\b\b\b\b\b\b\b\b\b\b\b\b\b\r18/18 [==============================] - 5s 268ms/step - loss: 181.9180 - val_loss: 966.6430\n",
            "Epoch 5/100\n",
            "18/18 [==============================] - 0s 16ms/step - loss: 173.4022 - val_loss: 970.9295\n",
            "Epoch 6/100\n",
            "17/18 [===========================>..] - ETA: 0s - loss: 171.7026INFO:tensorflow:Assets written to: model_experiments/model_5_LSTM/assets\n"
          ]
        },
        {
          "output_type": "stream",
          "name": "stderr",
          "text": [
            "INFO:tensorflow:Assets written to: model_experiments/model_5_LSTM/assets\n",
            "WARNING:absl:<keras.layers.recurrent.LSTMCell object at 0x7fec9bae3dd0> has the same name 'LSTMCell' as a built-in Keras object. Consider renaming <class 'keras.layers.recurrent.LSTMCell'> to avoid naming conflicts when loading with `tf.keras.models.load_model`. If renaming is not possible, pass the object in the `custom_objects` parameter of the load function.\n"
          ]
        },
        {
          "output_type": "stream",
          "name": "stdout",
          "text": [
            "\b\b\b\b\b\b\b\b\b\b\b\b\b\b\b\b\b\b\b\b\b\b\b\b\b\b\b\b\b\b\b\b\b\b\b\b\b\b\b\b\b\b\b\b\b\b\b\b\b\b\b\b\b\b\b\b\b\b\b\b\b\b\b\b\b\r18/18 [==============================] - 5s 272ms/step - loss: 173.5414 - val_loss: 941.4746\n",
            "Epoch 7/100\n",
            "18/18 [==============================] - ETA: 0s - loss: 170.3566INFO:tensorflow:Assets written to: model_experiments/model_5_LSTM/assets\n"
          ]
        },
        {
          "output_type": "stream",
          "name": "stderr",
          "text": [
            "INFO:tensorflow:Assets written to: model_experiments/model_5_LSTM/assets\n",
            "WARNING:absl:<keras.layers.recurrent.LSTMCell object at 0x7fec9bae3dd0> has the same name 'LSTMCell' as a built-in Keras object. Consider renaming <class 'keras.layers.recurrent.LSTMCell'> to avoid naming conflicts when loading with `tf.keras.models.load_model`. If renaming is not possible, pass the object in the `custom_objects` parameter of the load function.\n"
          ]
        },
        {
          "output_type": "stream",
          "name": "stdout",
          "text": [
            "\b\b\b\b\b\b\b\b\b\b\b\b\b\b\b\b\b\b\b\b\b\b\b\b\b\b\b\b\b\b\b\b\b\b\b\b\b\b\b\b\b\b\b\b\b\b\b\b\b\b\b\b\b\b\b\b\b\b\b\b\b\b\b\b\b\r18/18 [==============================] - 5s 277ms/step - loss: 170.3566 - val_loss: 898.5215\n",
            "Epoch 8/100\n",
            "18/18 [==============================] - 0s 21ms/step - loss: 157.6712 - val_loss: 914.8641\n",
            "Epoch 9/100\n",
            "18/18 [==============================] - 0s 20ms/step - loss: 166.5143 - val_loss: 1079.0775\n",
            "Epoch 10/100\n",
            "17/18 [===========================>..] - ETA: 0s - loss: 161.4855INFO:tensorflow:Assets written to: model_experiments/model_5_LSTM/assets\n"
          ]
        },
        {
          "output_type": "stream",
          "name": "stderr",
          "text": [
            "INFO:tensorflow:Assets written to: model_experiments/model_5_LSTM/assets\n",
            "WARNING:absl:<keras.layers.recurrent.LSTMCell object at 0x7fec9bae3dd0> has the same name 'LSTMCell' as a built-in Keras object. Consider renaming <class 'keras.layers.recurrent.LSTMCell'> to avoid naming conflicts when loading with `tf.keras.models.load_model`. If renaming is not possible, pass the object in the `custom_objects` parameter of the load function.\n"
          ]
        },
        {
          "output_type": "stream",
          "name": "stdout",
          "text": [
            "\b\b\b\b\b\b\b\b\b\b\b\b\b\b\b\b\b\b\b\b\b\b\b\b\b\b\b\b\b\b\b\b\b\b\b\b\b\b\b\b\b\b\b\b\b\b\b\b\b\b\b\b\b\b\b\b\b\b\b\b\b\b\b\b\b\r18/18 [==============================] - 6s 356ms/step - loss: 162.3369 - val_loss: 877.1689\n",
            "Epoch 11/100\n",
            "18/18 [==============================] - 0s 18ms/step - loss: 163.0841 - val_loss: 924.1126\n",
            "Epoch 12/100\n",
            "18/18 [==============================] - 0s 17ms/step - loss: 168.5598 - val_loss: 941.6025\n",
            "Epoch 13/100\n",
            "18/18 [==============================] - 0s 24ms/step - loss: 166.4727 - val_loss: 934.8435\n",
            "Epoch 14/100\n",
            "18/18 [==============================] - 0s 23ms/step - loss: 163.9537 - val_loss: 920.2159\n",
            "Epoch 15/100\n",
            "17/18 [===========================>..] - ETA: 0s - loss: 153.0585INFO:tensorflow:Assets written to: model_experiments/model_5_LSTM/assets\n"
          ]
        },
        {
          "output_type": "stream",
          "name": "stderr",
          "text": [
            "INFO:tensorflow:Assets written to: model_experiments/model_5_LSTM/assets\n",
            "WARNING:absl:<keras.layers.recurrent.LSTMCell object at 0x7fec9bae3dd0> has the same name 'LSTMCell' as a built-in Keras object. Consider renaming <class 'keras.layers.recurrent.LSTMCell'> to avoid naming conflicts when loading with `tf.keras.models.load_model`. If renaming is not possible, pass the object in the `custom_objects` parameter of the load function.\n"
          ]
        },
        {
          "output_type": "stream",
          "name": "stdout",
          "text": [
            "\b\b\b\b\b\b\b\b\b\b\b\b\b\b\b\b\b\b\b\b\b\b\b\b\b\b\b\b\b\b\b\b\b\b\b\b\b\b\b\b\b\b\b\b\b\b\b\b\b\b\b\b\b\b\b\b\b\b\b\b\b\b\b\b\b\r18/18 [==============================] - 5s 283ms/step - loss: 152.9470 - val_loss: 856.2653\n",
            "Epoch 16/100\n",
            "18/18 [==============================] - 0s 23ms/step - loss: 147.4420 - val_loss: 898.9912\n",
            "Epoch 17/100\n",
            "18/18 [==============================] - 0s 16ms/step - loss: 151.0533 - val_loss: 943.1415\n",
            "Epoch 18/100\n",
            "18/18 [==============================] - 0s 19ms/step - loss: 157.8232 - val_loss: 924.0045\n",
            "Epoch 19/100\n",
            "18/18 [==============================] - 0s 18ms/step - loss: 155.9198 - val_loss: 911.4751\n",
            "Epoch 20/100\n",
            "18/18 [==============================] - 0s 21ms/step - loss: 155.6456 - val_loss: 862.6679\n",
            "Epoch 21/100\n",
            "18/18 [==============================] - 0s 22ms/step - loss: 153.1514 - val_loss: 862.5831\n",
            "Epoch 22/100\n",
            "18/18 [==============================] - 0s 21ms/step - loss: 151.4883 - val_loss: 863.8171\n",
            "Epoch 23/100\n",
            "18/18 [==============================] - 0s 18ms/step - loss: 150.7770 - val_loss: 886.8352\n",
            "Epoch 24/100\n",
            "18/18 [==============================] - 0s 21ms/step - loss: 148.6539 - val_loss: 861.3268\n",
            "Epoch 25/100\n",
            "18/18 [==============================] - ETA: 0s - loss: 146.8467INFO:tensorflow:Assets written to: model_experiments/model_5_LSTM/assets\n"
          ]
        },
        {
          "output_type": "stream",
          "name": "stderr",
          "text": [
            "INFO:tensorflow:Assets written to: model_experiments/model_5_LSTM/assets\n",
            "WARNING:absl:<keras.layers.recurrent.LSTMCell object at 0x7fec9bae3dd0> has the same name 'LSTMCell' as a built-in Keras object. Consider renaming <class 'keras.layers.recurrent.LSTMCell'> to avoid naming conflicts when loading with `tf.keras.models.load_model`. If renaming is not possible, pass the object in the `custom_objects` parameter of the load function.\n"
          ]
        },
        {
          "output_type": "stream",
          "name": "stdout",
          "text": [
            "\b\b\b\b\b\b\b\b\b\b\b\b\b\b\b\b\b\b\b\b\b\b\b\b\b\b\b\b\b\b\b\b\b\b\b\b\b\b\b\b\b\b\b\b\b\b\b\b\b\b\b\b\b\b\b\b\b\b\b\b\b\b\b\b\b\r18/18 [==============================] - 5s 283ms/step - loss: 146.8467 - val_loss: 845.2780\n",
            "Epoch 26/100\n",
            "17/18 [===========================>..] - ETA: 0s - loss: 145.5996INFO:tensorflow:Assets written to: model_experiments/model_5_LSTM/assets\n"
          ]
        },
        {
          "output_type": "stream",
          "name": "stderr",
          "text": [
            "INFO:tensorflow:Assets written to: model_experiments/model_5_LSTM/assets\n",
            "WARNING:absl:<keras.layers.recurrent.LSTMCell object at 0x7fec9bae3dd0> has the same name 'LSTMCell' as a built-in Keras object. Consider renaming <class 'keras.layers.recurrent.LSTMCell'> to avoid naming conflicts when loading with `tf.keras.models.load_model`. If renaming is not possible, pass the object in the `custom_objects` parameter of the load function.\n"
          ]
        },
        {
          "output_type": "stream",
          "name": "stdout",
          "text": [
            "\b\b\b\b\b\b\b\b\b\b\b\b\b\b\b\b\b\b\b\b\b\b\b\b\b\b\b\b\b\b\b\b\b\b\b\b\b\b\b\b\b\b\b\b\b\b\b\b\b\b\b\b\b\b\b\b\b\b\b\b\b\b\b\b\b\r18/18 [==============================] - 5s 283ms/step - loss: 145.9843 - val_loss: 818.6807\n",
            "Epoch 27/100\n",
            "18/18 [==============================] - ETA: 0s - loss: 144.4289INFO:tensorflow:Assets written to: model_experiments/model_5_LSTM/assets\n"
          ]
        },
        {
          "output_type": "stream",
          "name": "stderr",
          "text": [
            "INFO:tensorflow:Assets written to: model_experiments/model_5_LSTM/assets\n",
            "WARNING:absl:<keras.layers.recurrent.LSTMCell object at 0x7fec9bae3dd0> has the same name 'LSTMCell' as a built-in Keras object. Consider renaming <class 'keras.layers.recurrent.LSTMCell'> to avoid naming conflicts when loading with `tf.keras.models.load_model`. If renaming is not possible, pass the object in the `custom_objects` parameter of the load function.\n"
          ]
        },
        {
          "output_type": "stream",
          "name": "stdout",
          "text": [
            "\b\b\b\b\b\b\b\b\b\b\b\b\b\b\b\b\b\b\b\b\b\b\b\b\b\b\b\b\b\b\b\b\b\b\b\b\b\b\b\b\b\b\b\b\b\b\b\b\b\b\b\b\b\b\b\b\b\b\b\b\b\b\b\b\b\r18/18 [==============================] - 5s 317ms/step - loss: 144.4289 - val_loss: 804.3278\n",
            "Epoch 28/100\n",
            "15/18 [========================>.....] - ETA: 0s - loss: 139.9896INFO:tensorflow:Assets written to: model_experiments/model_5_LSTM/assets\n"
          ]
        },
        {
          "output_type": "stream",
          "name": "stderr",
          "text": [
            "INFO:tensorflow:Assets written to: model_experiments/model_5_LSTM/assets\n",
            "WARNING:absl:<keras.layers.recurrent.LSTMCell object at 0x7fec9bae3dd0> has the same name 'LSTMCell' as a built-in Keras object. Consider renaming <class 'keras.layers.recurrent.LSTMCell'> to avoid naming conflicts when loading with `tf.keras.models.load_model`. If renaming is not possible, pass the object in the `custom_objects` parameter of the load function.\n"
          ]
        },
        {
          "output_type": "stream",
          "name": "stdout",
          "text": [
            "\b\b\b\b\b\b\b\b\b\b\b\b\b\b\b\b\b\b\b\b\b\b\b\b\b\b\b\b\b\b\b\b\b\b\b\b\b\b\b\b\b\b\b\b\b\b\b\b\b\b\b\b\b\b\b\b\b\b\b\b\b\b\b\b\b\r18/18 [==============================] - 5s 283ms/step - loss: 142.4610 - val_loss: 789.0858\n",
            "Epoch 29/100\n",
            "18/18 [==============================] - 0s 20ms/step - loss: 141.8738 - val_loss: 806.6756\n",
            "Epoch 30/100\n",
            "18/18 [==============================] - 0s 18ms/step - loss: 142.0521 - val_loss: 794.8835\n",
            "Epoch 31/100\n",
            "18/18 [==============================] - ETA: 0s - loss: 138.4690INFO:tensorflow:Assets written to: model_experiments/model_5_LSTM/assets\n"
          ]
        },
        {
          "output_type": "stream",
          "name": "stderr",
          "text": [
            "INFO:tensorflow:Assets written to: model_experiments/model_5_LSTM/assets\n",
            "WARNING:absl:<keras.layers.recurrent.LSTMCell object at 0x7fec9bae3dd0> has the same name 'LSTMCell' as a built-in Keras object. Consider renaming <class 'keras.layers.recurrent.LSTMCell'> to avoid naming conflicts when loading with `tf.keras.models.load_model`. If renaming is not possible, pass the object in the `custom_objects` parameter of the load function.\n"
          ]
        },
        {
          "output_type": "stream",
          "name": "stdout",
          "text": [
            "\b\b\b\b\b\b\b\b\b\b\b\b\b\b\b\b\b\b\b\b\b\b\b\b\b\b\b\b\b\b\b\b\b\b\b\b\b\b\b\b\b\b\b\b\b\b\b\b\b\b\b\b\b\b\b\b\b\b\b\b\b\b\b\b\b\r18/18 [==============================] - 5s 283ms/step - loss: 138.4690 - val_loss: 773.2811\n",
            "Epoch 32/100\n",
            "16/18 [=========================>....] - ETA: 0s - loss: 134.6712INFO:tensorflow:Assets written to: model_experiments/model_5_LSTM/assets\n"
          ]
        },
        {
          "output_type": "stream",
          "name": "stderr",
          "text": [
            "INFO:tensorflow:Assets written to: model_experiments/model_5_LSTM/assets\n",
            "WARNING:absl:<keras.layers.recurrent.LSTMCell object at 0x7fec9bae3dd0> has the same name 'LSTMCell' as a built-in Keras object. Consider renaming <class 'keras.layers.recurrent.LSTMCell'> to avoid naming conflicts when loading with `tf.keras.models.load_model`. If renaming is not possible, pass the object in the `custom_objects` parameter of the load function.\n"
          ]
        },
        {
          "output_type": "stream",
          "name": "stdout",
          "text": [
            "\b\b\b\b\b\b\b\b\b\b\b\b\b\b\b\b\b\b\b\b\b\b\b\b\b\b\b\b\b\b\b\b\b\b\b\b\b\b\b\b\b\b\b\b\b\b\b\b\b\b\b\b\b\b\b\b\b\b\b\b\b\b\b\b\b\r18/18 [==============================] - 5s 291ms/step - loss: 137.1986 - val_loss: 772.2625\n",
            "Epoch 33/100\n",
            "18/18 [==============================] - 0s 22ms/step - loss: 135.9342 - val_loss: 786.4801\n",
            "Epoch 34/100\n",
            "18/18 [==============================] - ETA: 0s - loss: 136.1931INFO:tensorflow:Assets written to: model_experiments/model_5_LSTM/assets\n"
          ]
        },
        {
          "output_type": "stream",
          "name": "stderr",
          "text": [
            "INFO:tensorflow:Assets written to: model_experiments/model_5_LSTM/assets\n",
            "WARNING:absl:<keras.layers.recurrent.LSTMCell object at 0x7fec9bae3dd0> has the same name 'LSTMCell' as a built-in Keras object. Consider renaming <class 'keras.layers.recurrent.LSTMCell'> to avoid naming conflicts when loading with `tf.keras.models.load_model`. If renaming is not possible, pass the object in the `custom_objects` parameter of the load function.\n"
          ]
        },
        {
          "output_type": "stream",
          "name": "stdout",
          "text": [
            "\b\b\b\b\b\b\b\b\b\b\b\b\b\b\b\b\b\b\b\b\b\b\b\b\b\b\b\b\b\b\b\b\b\b\b\b\b\b\b\b\b\b\b\b\b\b\b\b\b\b\b\b\b\b\b\b\b\b\b\b\b\b\b\b\b\r18/18 [==============================] - 5s 281ms/step - loss: 136.1931 - val_loss: 744.4506\n",
            "Epoch 35/100\n",
            "18/18 [==============================] - 0s 20ms/step - loss: 133.4514 - val_loss: 756.2968\n",
            "Epoch 36/100\n",
            "16/18 [=========================>....] - ETA: 0s - loss: 133.3179INFO:tensorflow:Assets written to: model_experiments/model_5_LSTM/assets\n"
          ]
        },
        {
          "output_type": "stream",
          "name": "stderr",
          "text": [
            "INFO:tensorflow:Assets written to: model_experiments/model_5_LSTM/assets\n",
            "WARNING:absl:<keras.layers.recurrent.LSTMCell object at 0x7fec9bae3dd0> has the same name 'LSTMCell' as a built-in Keras object. Consider renaming <class 'keras.layers.recurrent.LSTMCell'> to avoid naming conflicts when loading with `tf.keras.models.load_model`. If renaming is not possible, pass the object in the `custom_objects` parameter of the load function.\n"
          ]
        },
        {
          "output_type": "stream",
          "name": "stdout",
          "text": [
            "\b\b\b\b\b\b\b\b\b\b\b\b\b\b\b\b\b\b\b\b\b\b\b\b\b\b\b\b\b\b\b\b\b\b\b\b\b\b\b\b\b\b\b\b\b\b\b\b\b\b\b\b\b\b\b\b\b\b\b\b\b\b\b\b\b\r18/18 [==============================] - 5s 321ms/step - loss: 134.0992 - val_loss: 735.1729\n",
            "Epoch 37/100\n",
            "18/18 [==============================] - 0s 21ms/step - loss: 130.6932 - val_loss: 745.9096\n",
            "Epoch 38/100\n",
            "18/18 [==============================] - ETA: 0s - loss: 129.2891INFO:tensorflow:Assets written to: model_experiments/model_5_LSTM/assets\n"
          ]
        },
        {
          "output_type": "stream",
          "name": "stderr",
          "text": [
            "INFO:tensorflow:Assets written to: model_experiments/model_5_LSTM/assets\n",
            "WARNING:absl:<keras.layers.recurrent.LSTMCell object at 0x7fec9bae3dd0> has the same name 'LSTMCell' as a built-in Keras object. Consider renaming <class 'keras.layers.recurrent.LSTMCell'> to avoid naming conflicts when loading with `tf.keras.models.load_model`. If renaming is not possible, pass the object in the `custom_objects` parameter of the load function.\n"
          ]
        },
        {
          "output_type": "stream",
          "name": "stdout",
          "text": [
            "\b\b\b\b\b\b\b\b\b\b\b\b\b\b\b\b\b\b\b\b\b\b\b\b\b\b\b\b\b\b\b\b\b\b\b\b\b\b\b\b\b\b\b\b\b\b\b\b\b\b\b\b\b\b\b\b\b\b\b\b\b\b\b\b\b\r18/18 [==============================] - 5s 274ms/step - loss: 129.2891 - val_loss: 717.2498\n",
            "Epoch 39/100\n",
            "18/18 [==============================] - 0s 22ms/step - loss: 129.6088 - val_loss: 719.0669\n",
            "Epoch 40/100\n",
            "18/18 [==============================] - 0s 17ms/step - loss: 129.6111 - val_loss: 732.0630\n",
            "Epoch 41/100\n",
            "14/18 [======================>.......] - ETA: 0s - loss: 130.6454INFO:tensorflow:Assets written to: model_experiments/model_5_LSTM/assets\n"
          ]
        },
        {
          "output_type": "stream",
          "name": "stderr",
          "text": [
            "INFO:tensorflow:Assets written to: model_experiments/model_5_LSTM/assets\n",
            "WARNING:absl:<keras.layers.recurrent.LSTMCell object at 0x7fec9bae3dd0> has the same name 'LSTMCell' as a built-in Keras object. Consider renaming <class 'keras.layers.recurrent.LSTMCell'> to avoid naming conflicts when loading with `tf.keras.models.load_model`. If renaming is not possible, pass the object in the `custom_objects` parameter of the load function.\n"
          ]
        },
        {
          "output_type": "stream",
          "name": "stdout",
          "text": [
            "\b\b\b\b\b\b\b\b\b\b\b\b\b\b\b\b\b\b\b\b\b\b\b\b\b\b\b\b\b\b\b\b\b\b\b\b\b\b\b\b\b\b\b\b\b\b\b\b\b\b\b\b\b\b\b\b\b\b\b\b\b\b\b\b\b\r18/18 [==============================] - 5s 278ms/step - loss: 127.1393 - val_loss: 702.9354\n",
            "Epoch 42/100\n",
            "17/18 [===========================>..] - ETA: 0s - loss: 126.6756INFO:tensorflow:Assets written to: model_experiments/model_5_LSTM/assets\n"
          ]
        },
        {
          "output_type": "stream",
          "name": "stderr",
          "text": [
            "INFO:tensorflow:Assets written to: model_experiments/model_5_LSTM/assets\n",
            "WARNING:absl:<keras.layers.recurrent.LSTMCell object at 0x7fec9bae3dd0> has the same name 'LSTMCell' as a built-in Keras object. Consider renaming <class 'keras.layers.recurrent.LSTMCell'> to avoid naming conflicts when loading with `tf.keras.models.load_model`. If renaming is not possible, pass the object in the `custom_objects` parameter of the load function.\n"
          ]
        },
        {
          "output_type": "stream",
          "name": "stdout",
          "text": [
            "\b\b\b\b\b\b\b\b\b\b\b\b\b\b\b\b\b\b\b\b\b\b\b\b\b\b\b\b\b\b\b\b\b\b\b\b\b\b\b\b\b\b\b\b\b\b\b\b\b\b\b\b\b\b\b\b\b\b\b\b\b\b\b\b\b\r18/18 [==============================] - 5s 284ms/step - loss: 125.6113 - val_loss: 700.8699\n",
            "Epoch 43/100\n",
            "18/18 [==============================] - 0s 21ms/step - loss: 125.9959 - val_loss: 704.3680\n",
            "Epoch 44/100\n",
            "18/18 [==============================] - 0s 18ms/step - loss: 125.2330 - val_loss: 719.1411\n",
            "Epoch 45/100\n",
            "16/18 [=========================>....] - ETA: 0s - loss: 127.1023INFO:tensorflow:Assets written to: model_experiments/model_5_LSTM/assets\n"
          ]
        },
        {
          "output_type": "stream",
          "name": "stderr",
          "text": [
            "INFO:tensorflow:Assets written to: model_experiments/model_5_LSTM/assets\n",
            "WARNING:absl:<keras.layers.recurrent.LSTMCell object at 0x7fec9bae3dd0> has the same name 'LSTMCell' as a built-in Keras object. Consider renaming <class 'keras.layers.recurrent.LSTMCell'> to avoid naming conflicts when loading with `tf.keras.models.load_model`. If renaming is not possible, pass the object in the `custom_objects` parameter of the load function.\n"
          ]
        },
        {
          "output_type": "stream",
          "name": "stdout",
          "text": [
            "\b\b\b\b\b\b\b\b\b\b\b\b\b\b\b\b\b\b\b\b\b\b\b\b\b\b\b\b\b\b\b\b\b\b\b\b\b\b\b\b\b\b\b\b\b\b\b\b\b\b\b\b\b\b\b\b\b\b\b\b\b\b\b\b\b\r18/18 [==============================] - 5s 319ms/step - loss: 129.0878 - val_loss: 687.3796\n",
            "Epoch 46/100\n",
            "18/18 [==============================] - 0s 17ms/step - loss: 124.9461 - val_loss: 706.3905\n",
            "Epoch 47/100\n",
            "17/18 [===========================>..] - ETA: 0s - loss: 126.2026INFO:tensorflow:Assets written to: model_experiments/model_5_LSTM/assets\n"
          ]
        },
        {
          "output_type": "stream",
          "name": "stderr",
          "text": [
            "INFO:tensorflow:Assets written to: model_experiments/model_5_LSTM/assets\n",
            "WARNING:absl:<keras.layers.recurrent.LSTMCell object at 0x7fec9bae3dd0> has the same name 'LSTMCell' as a built-in Keras object. Consider renaming <class 'keras.layers.recurrent.LSTMCell'> to avoid naming conflicts when loading with `tf.keras.models.load_model`. If renaming is not possible, pass the object in the `custom_objects` parameter of the load function.\n"
          ]
        },
        {
          "output_type": "stream",
          "name": "stdout",
          "text": [
            "\b\b\b\b\b\b\b\b\b\b\b\b\b\b\b\b\b\b\b\b\b\b\b\b\b\b\b\b\b\b\b\b\b\b\b\b\b\b\b\b\b\b\b\b\b\b\b\b\b\b\b\b\b\b\b\b\b\b\b\b\b\b\b\b\b\r18/18 [==============================] - 6s 330ms/step - loss: 126.0465 - val_loss: 678.0845\n",
            "Epoch 48/100\n",
            "18/18 [==============================] - ETA: 0s - loss: 123.9412INFO:tensorflow:Assets written to: model_experiments/model_5_LSTM/assets\n"
          ]
        },
        {
          "output_type": "stream",
          "name": "stderr",
          "text": [
            "INFO:tensorflow:Assets written to: model_experiments/model_5_LSTM/assets\n",
            "WARNING:absl:<keras.layers.recurrent.LSTMCell object at 0x7fec9bae3dd0> has the same name 'LSTMCell' as a built-in Keras object. Consider renaming <class 'keras.layers.recurrent.LSTMCell'> to avoid naming conflicts when loading with `tf.keras.models.load_model`. If renaming is not possible, pass the object in the `custom_objects` parameter of the load function.\n"
          ]
        },
        {
          "output_type": "stream",
          "name": "stdout",
          "text": [
            "\b\b\b\b\b\b\b\b\b\b\b\b\b\b\b\b\b\b\b\b\b\b\b\b\b\b\b\b\b\b\b\b\b\b\b\b\b\b\b\b\b\b\b\b\b\b\b\b\b\b\b\b\b\b\b\b\b\b\b\b\b\b\b\b\b\r18/18 [==============================] - 6s 333ms/step - loss: 123.9412 - val_loss: 677.1480\n",
            "Epoch 49/100\n",
            "18/18 [==============================] - 0s 21ms/step - loss: 123.1814 - val_loss: 700.9755\n",
            "Epoch 50/100\n",
            "18/18 [==============================] - 0s 18ms/step - loss: 125.1446 - val_loss: 725.7572\n",
            "Epoch 51/100\n",
            "18/18 [==============================] - 0s 24ms/step - loss: 125.5208 - val_loss: 780.1040\n",
            "Epoch 52/100\n",
            "16/18 [=========================>....] - ETA: 0s - loss: 126.0943INFO:tensorflow:Assets written to: model_experiments/model_5_LSTM/assets\n"
          ]
        },
        {
          "output_type": "stream",
          "name": "stderr",
          "text": [
            "INFO:tensorflow:Assets written to: model_experiments/model_5_LSTM/assets\n",
            "WARNING:absl:<keras.layers.recurrent.LSTMCell object at 0x7fec9bae3dd0> has the same name 'LSTMCell' as a built-in Keras object. Consider renaming <class 'keras.layers.recurrent.LSTMCell'> to avoid naming conflicts when loading with `tf.keras.models.load_model`. If renaming is not possible, pass the object in the `custom_objects` parameter of the load function.\n"
          ]
        },
        {
          "output_type": "stream",
          "name": "stdout",
          "text": [
            "\b\b\b\b\b\b\b\b\b\b\b\b\b\b\b\b\b\b\b\b\b\b\b\b\b\b\b\b\b\b\b\b\b\b\b\b\b\b\b\b\b\b\b\b\b\b\b\b\b\b\b\b\b\b\b\b\b\b\b\b\b\b\b\b\b\r18/18 [==============================] - 5s 280ms/step - loss: 123.5061 - val_loss: 663.2543\n",
            "Epoch 53/100\n",
            "18/18 [==============================] - 0s 16ms/step - loss: 120.0524 - val_loss: 665.6277\n",
            "Epoch 54/100\n",
            "16/18 [=========================>....] - ETA: 0s - loss: 121.3535INFO:tensorflow:Assets written to: model_experiments/model_5_LSTM/assets\n"
          ]
        },
        {
          "output_type": "stream",
          "name": "stderr",
          "text": [
            "INFO:tensorflow:Assets written to: model_experiments/model_5_LSTM/assets\n",
            "WARNING:absl:<keras.layers.recurrent.LSTMCell object at 0x7fec9bae3dd0> has the same name 'LSTMCell' as a built-in Keras object. Consider renaming <class 'keras.layers.recurrent.LSTMCell'> to avoid naming conflicts when loading with `tf.keras.models.load_model`. If renaming is not possible, pass the object in the `custom_objects` parameter of the load function.\n"
          ]
        },
        {
          "output_type": "stream",
          "name": "stdout",
          "text": [
            "\b\b\b\b\b\b\b\b\b\b\b\b\b\b\b\b\b\b\b\b\b\b\b\b\b\b\b\b\b\b\b\b\b\b\b\b\b\b\b\b\b\b\b\b\b\b\b\b\b\b\b\b\b\b\b\b\b\b\b\b\b\b\b\b\b\r18/18 [==============================] - 5s 284ms/step - loss: 120.4394 - val_loss: 658.1812\n",
            "Epoch 55/100\n",
            "17/18 [===========================>..] - ETA: 0s - loss: 120.0742INFO:tensorflow:Assets written to: model_experiments/model_5_LSTM/assets\n"
          ]
        },
        {
          "output_type": "stream",
          "name": "stderr",
          "text": [
            "INFO:tensorflow:Assets written to: model_experiments/model_5_LSTM/assets\n",
            "WARNING:absl:<keras.layers.recurrent.LSTMCell object at 0x7fec9bae3dd0> has the same name 'LSTMCell' as a built-in Keras object. Consider renaming <class 'keras.layers.recurrent.LSTMCell'> to avoid naming conflicts when loading with `tf.keras.models.load_model`. If renaming is not possible, pass the object in the `custom_objects` parameter of the load function.\n"
          ]
        },
        {
          "output_type": "stream",
          "name": "stdout",
          "text": [
            "\b\b\b\b\b\b\b\b\b\b\b\b\b\b\b\b\b\b\b\b\b\b\b\b\b\b\b\b\b\b\b\b\b\b\b\b\b\b\b\b\b\b\b\b\b\b\b\b\b\b\b\b\b\b\b\b\b\b\b\b\b\b\b\b\b\r18/18 [==============================] - 6s 326ms/step - loss: 118.6817 - val_loss: 650.8017\n",
            "Epoch 56/100\n",
            "15/18 [========================>.....] - ETA: 0s - loss: 119.2687INFO:tensorflow:Assets written to: model_experiments/model_5_LSTM/assets\n"
          ]
        },
        {
          "output_type": "stream",
          "name": "stderr",
          "text": [
            "INFO:tensorflow:Assets written to: model_experiments/model_5_LSTM/assets\n",
            "WARNING:absl:<keras.layers.recurrent.LSTMCell object at 0x7fec9bae3dd0> has the same name 'LSTMCell' as a built-in Keras object. Consider renaming <class 'keras.layers.recurrent.LSTMCell'> to avoid naming conflicts when loading with `tf.keras.models.load_model`. If renaming is not possible, pass the object in the `custom_objects` parameter of the load function.\n"
          ]
        },
        {
          "output_type": "stream",
          "name": "stdout",
          "text": [
            "\b\b\b\b\b\b\b\b\b\b\b\b\b\b\b\b\b\b\b\b\b\b\b\b\b\b\b\b\b\b\b\b\b\b\b\b\b\b\b\b\b\b\b\b\b\b\b\b\b\b\b\b\b\b\b\b\b\b\b\b\b\b\b\b\b\r18/18 [==============================] - 5s 291ms/step - loss: 120.2385 - val_loss: 646.9162\n",
            "Epoch 57/100\n",
            "18/18 [==============================] - 0s 18ms/step - loss: 123.6108 - val_loss: 676.0363\n",
            "Epoch 58/100\n",
            "17/18 [===========================>..] - ETA: 0s - loss: 117.9344INFO:tensorflow:Assets written to: model_experiments/model_5_LSTM/assets\n"
          ]
        },
        {
          "output_type": "stream",
          "name": "stderr",
          "text": [
            "INFO:tensorflow:Assets written to: model_experiments/model_5_LSTM/assets\n",
            "WARNING:absl:<keras.layers.recurrent.LSTMCell object at 0x7fec9bae3dd0> has the same name 'LSTMCell' as a built-in Keras object. Consider renaming <class 'keras.layers.recurrent.LSTMCell'> to avoid naming conflicts when loading with `tf.keras.models.load_model`. If renaming is not possible, pass the object in the `custom_objects` parameter of the load function.\n"
          ]
        },
        {
          "output_type": "stream",
          "name": "stdout",
          "text": [
            "\b\b\b\b\b\b\b\b\b\b\b\b\b\b\b\b\b\b\b\b\b\b\b\b\b\b\b\b\b\b\b\b\b\b\b\b\b\b\b\b\b\b\b\b\b\b\b\b\b\b\b\b\b\b\b\b\b\b\b\b\b\b\b\b\b\r18/18 [==============================] - 5s 290ms/step - loss: 118.2166 - val_loss: 642.8526\n",
            "Epoch 59/100\n",
            "18/18 [==============================] - 0s 17ms/step - loss: 117.8050 - val_loss: 644.1140\n",
            "Epoch 60/100\n",
            "18/18 [==============================] - ETA: 0s - loss: 118.0277INFO:tensorflow:Assets written to: model_experiments/model_5_LSTM/assets\n"
          ]
        },
        {
          "output_type": "stream",
          "name": "stderr",
          "text": [
            "INFO:tensorflow:Assets written to: model_experiments/model_5_LSTM/assets\n",
            "WARNING:absl:<keras.layers.recurrent.LSTMCell object at 0x7fec9bae3dd0> has the same name 'LSTMCell' as a built-in Keras object. Consider renaming <class 'keras.layers.recurrent.LSTMCell'> to avoid naming conflicts when loading with `tf.keras.models.load_model`. If renaming is not possible, pass the object in the `custom_objects` parameter of the load function.\n"
          ]
        },
        {
          "output_type": "stream",
          "name": "stdout",
          "text": [
            "\b\b\b\b\b\b\b\b\b\b\b\b\b\b\b\b\b\b\b\b\b\b\b\b\b\b\b\b\b\b\b\b\b\b\b\b\b\b\b\b\b\b\b\b\b\b\b\b\b\b\b\b\b\b\b\b\b\b\b\b\b\b\b\b\b\r18/18 [==============================] - 5s 322ms/step - loss: 118.0277 - val_loss: 640.6298\n",
            "Epoch 61/100\n",
            "18/18 [==============================] - 0s 22ms/step - loss: 117.6757 - val_loss: 674.2546\n",
            "Epoch 62/100\n",
            "18/18 [==============================] - 0s 19ms/step - loss: 120.8419 - val_loss: 736.8734\n",
            "Epoch 63/100\n",
            "18/18 [==============================] - 0s 19ms/step - loss: 122.4814 - val_loss: 641.0597\n",
            "Epoch 64/100\n",
            "18/18 [==============================] - 0s 23ms/step - loss: 115.6879 - val_loss: 665.2364\n",
            "Epoch 65/100\n",
            "16/18 [=========================>....] - ETA: 0s - loss: 117.4745INFO:tensorflow:Assets written to: model_experiments/model_5_LSTM/assets\n"
          ]
        },
        {
          "output_type": "stream",
          "name": "stderr",
          "text": [
            "INFO:tensorflow:Assets written to: model_experiments/model_5_LSTM/assets\n",
            "WARNING:absl:<keras.layers.recurrent.LSTMCell object at 0x7fec9bae3dd0> has the same name 'LSTMCell' as a built-in Keras object. Consider renaming <class 'keras.layers.recurrent.LSTMCell'> to avoid naming conflicts when loading with `tf.keras.models.load_model`. If renaming is not possible, pass the object in the `custom_objects` parameter of the load function.\n"
          ]
        },
        {
          "output_type": "stream",
          "name": "stdout",
          "text": [
            "\b\b\b\b\b\b\b\b\b\b\b\b\b\b\b\b\b\b\b\b\b\b\b\b\b\b\b\b\b\b\b\b\b\b\b\b\b\b\b\b\b\b\b\b\b\b\b\b\b\b\b\b\b\b\b\b\b\b\b\b\b\b\b\b\b\r18/18 [==============================] - 5s 282ms/step - loss: 117.8764 - val_loss: 629.4848\n",
            "Epoch 66/100\n",
            "17/18 [===========================>..] - ETA: 0s - loss: 116.1205INFO:tensorflow:Assets written to: model_experiments/model_5_LSTM/assets\n"
          ]
        },
        {
          "output_type": "stream",
          "name": "stderr",
          "text": [
            "INFO:tensorflow:Assets written to: model_experiments/model_5_LSTM/assets\n",
            "WARNING:absl:<keras.layers.recurrent.LSTMCell object at 0x7fec9bae3dd0> has the same name 'LSTMCell' as a built-in Keras object. Consider renaming <class 'keras.layers.recurrent.LSTMCell'> to avoid naming conflicts when loading with `tf.keras.models.load_model`. If renaming is not possible, pass the object in the `custom_objects` parameter of the load function.\n"
          ]
        },
        {
          "output_type": "stream",
          "name": "stdout",
          "text": [
            "\b\b\b\b\b\b\b\b\b\b\b\b\b\b\b\b\b\b\b\b\b\b\b\b\b\b\b\b\b\b\b\b\b\b\b\b\b\b\b\b\b\b\b\b\b\b\b\b\b\b\b\b\b\b\b\b\b\b\b\b\b\b\b\b\b\r18/18 [==============================] - 6s 329ms/step - loss: 115.7342 - val_loss: 627.8654\n",
            "Epoch 67/100\n",
            "17/18 [===========================>..] - ETA: 0s - loss: 114.7873INFO:tensorflow:Assets written to: model_experiments/model_5_LSTM/assets\n"
          ]
        },
        {
          "output_type": "stream",
          "name": "stderr",
          "text": [
            "INFO:tensorflow:Assets written to: model_experiments/model_5_LSTM/assets\n",
            "WARNING:absl:<keras.layers.recurrent.LSTMCell object at 0x7fec9bae3dd0> has the same name 'LSTMCell' as a built-in Keras object. Consider renaming <class 'keras.layers.recurrent.LSTMCell'> to avoid naming conflicts when loading with `tf.keras.models.load_model`. If renaming is not possible, pass the object in the `custom_objects` parameter of the load function.\n"
          ]
        },
        {
          "output_type": "stream",
          "name": "stdout",
          "text": [
            "\b\b\b\b\b\b\b\b\b\b\b\b\b\b\b\b\b\b\b\b\b\b\b\b\b\b\b\b\b\b\b\b\b\b\b\b\b\b\b\b\b\b\b\b\b\b\b\b\b\b\b\b\b\b\b\b\b\b\b\b\b\b\b\b\b\r18/18 [==============================] - 5s 291ms/step - loss: 116.0720 - val_loss: 624.9843\n",
            "Epoch 68/100\n",
            "18/18 [==============================] - 0s 19ms/step - loss: 115.8544 - val_loss: 626.7468\n",
            "Epoch 69/100\n",
            "17/18 [===========================>..] - ETA: 0s - loss: 118.6523INFO:tensorflow:Assets written to: model_experiments/model_5_LSTM/assets\n"
          ]
        },
        {
          "output_type": "stream",
          "name": "stderr",
          "text": [
            "INFO:tensorflow:Assets written to: model_experiments/model_5_LSTM/assets\n",
            "WARNING:absl:<keras.layers.recurrent.LSTMCell object at 0x7fec9bae3dd0> has the same name 'LSTMCell' as a built-in Keras object. Consider renaming <class 'keras.layers.recurrent.LSTMCell'> to avoid naming conflicts when loading with `tf.keras.models.load_model`. If renaming is not possible, pass the object in the `custom_objects` parameter of the load function.\n"
          ]
        },
        {
          "output_type": "stream",
          "name": "stdout",
          "text": [
            "\b\b\b\b\b\b\b\b\b\b\b\b\b\b\b\b\b\b\b\b\b\b\b\b\b\b\b\b\b\b\b\b\b\b\b\b\b\b\b\b\b\b\b\b\b\b\b\b\b\b\b\b\b\b\b\b\b\b\b\b\b\b\b\b\b\r18/18 [==============================] - 5s 291ms/step - loss: 119.5743 - val_loss: 623.6360\n",
            "Epoch 70/100\n",
            "18/18 [==============================] - ETA: 0s - loss: 115.2881INFO:tensorflow:Assets written to: model_experiments/model_5_LSTM/assets\n"
          ]
        },
        {
          "output_type": "stream",
          "name": "stderr",
          "text": [
            "INFO:tensorflow:Assets written to: model_experiments/model_5_LSTM/assets\n",
            "WARNING:absl:<keras.layers.recurrent.LSTMCell object at 0x7fec9bae3dd0> has the same name 'LSTMCell' as a built-in Keras object. Consider renaming <class 'keras.layers.recurrent.LSTMCell'> to avoid naming conflicts when loading with `tf.keras.models.load_model`. If renaming is not possible, pass the object in the `custom_objects` parameter of the load function.\n"
          ]
        },
        {
          "output_type": "stream",
          "name": "stdout",
          "text": [
            "\b\b\b\b\b\b\b\b\b\b\b\b\b\b\b\b\b\b\b\b\b\b\b\b\b\b\b\b\b\b\b\b\b\b\b\b\b\b\b\b\b\b\b\b\b\b\b\b\b\b\b\b\b\b\b\b\b\b\b\b\b\b\b\b\b\r18/18 [==============================] - 6s 326ms/step - loss: 115.2881 - val_loss: 623.5431\n",
            "Epoch 71/100\n",
            "18/18 [==============================] - 0s 22ms/step - loss: 114.6981 - val_loss: 640.9242\n",
            "Epoch 72/100\n",
            "17/18 [===========================>..] - ETA: 0s - loss: 115.9628INFO:tensorflow:Assets written to: model_experiments/model_5_LSTM/assets\n"
          ]
        },
        {
          "output_type": "stream",
          "name": "stderr",
          "text": [
            "INFO:tensorflow:Assets written to: model_experiments/model_5_LSTM/assets\n",
            "WARNING:absl:<keras.layers.recurrent.LSTMCell object at 0x7fec9bae3dd0> has the same name 'LSTMCell' as a built-in Keras object. Consider renaming <class 'keras.layers.recurrent.LSTMCell'> to avoid naming conflicts when loading with `tf.keras.models.load_model`. If renaming is not possible, pass the object in the `custom_objects` parameter of the load function.\n"
          ]
        },
        {
          "output_type": "stream",
          "name": "stdout",
          "text": [
            "\b\b\b\b\b\b\b\b\b\b\b\b\b\b\b\b\b\b\b\b\b\b\b\b\b\b\b\b\b\b\b\b\b\b\b\b\b\b\b\b\b\b\b\b\b\b\b\b\b\b\b\b\b\b\b\b\b\b\b\b\b\b\b\b\b\r18/18 [==============================] - 6s 326ms/step - loss: 117.3488 - val_loss: 621.0178\n",
            "Epoch 73/100\n",
            "18/18 [==============================] - 0s 16ms/step - loss: 114.7942 - val_loss: 629.5701\n",
            "Epoch 74/100\n",
            "18/18 [==============================] - 0s 20ms/step - loss: 115.1500 - val_loss: 626.9415\n",
            "Epoch 75/100\n",
            "18/18 [==============================] - 0s 17ms/step - loss: 115.9312 - val_loss: 662.2502\n",
            "Epoch 76/100\n",
            "18/18 [==============================] - ETA: 0s - loss: 115.1412INFO:tensorflow:Assets written to: model_experiments/model_5_LSTM/assets\n"
          ]
        },
        {
          "output_type": "stream",
          "name": "stderr",
          "text": [
            "INFO:tensorflow:Assets written to: model_experiments/model_5_LSTM/assets\n",
            "WARNING:absl:<keras.layers.recurrent.LSTMCell object at 0x7fec9bae3dd0> has the same name 'LSTMCell' as a built-in Keras object. Consider renaming <class 'keras.layers.recurrent.LSTMCell'> to avoid naming conflicts when loading with `tf.keras.models.load_model`. If renaming is not possible, pass the object in the `custom_objects` parameter of the load function.\n"
          ]
        },
        {
          "output_type": "stream",
          "name": "stdout",
          "text": [
            "\b\b\b\b\b\b\b\b\b\b\b\b\b\b\b\b\b\b\b\b\b\b\b\b\b\b\b\b\b\b\b\b\b\b\b\b\b\b\b\b\b\b\b\b\b\b\b\b\b\b\b\b\b\b\b\b\b\b\b\b\b\b\b\b\b\r18/18 [==============================] - 5s 281ms/step - loss: 115.1412 - val_loss: 620.8359\n",
            "Epoch 77/100\n",
            "18/18 [==============================] - 0s 21ms/step - loss: 117.6456 - val_loss: 668.2390\n",
            "Epoch 78/100\n",
            "18/18 [==============================] - 0s 18ms/step - loss: 117.0707 - val_loss: 628.1731\n",
            "Epoch 79/100\n",
            "16/18 [=========================>....] - ETA: 0s - loss: 115.5304INFO:tensorflow:Assets written to: model_experiments/model_5_LSTM/assets\n"
          ]
        },
        {
          "output_type": "stream",
          "name": "stderr",
          "text": [
            "INFO:tensorflow:Assets written to: model_experiments/model_5_LSTM/assets\n",
            "WARNING:absl:<keras.layers.recurrent.LSTMCell object at 0x7fec9bae3dd0> has the same name 'LSTMCell' as a built-in Keras object. Consider renaming <class 'keras.layers.recurrent.LSTMCell'> to avoid naming conflicts when loading with `tf.keras.models.load_model`. If renaming is not possible, pass the object in the `custom_objects` parameter of the load function.\n"
          ]
        },
        {
          "output_type": "stream",
          "name": "stdout",
          "text": [
            "\b\b\b\b\b\b\b\b\b\b\b\b\b\b\b\b\b\b\b\b\b\b\b\b\b\b\b\b\b\b\b\b\b\b\b\b\b\b\b\b\b\b\b\b\b\b\b\b\b\b\b\b\b\b\b\b\b\b\b\b\b\b\b\b\b\r18/18 [==============================] - 5s 288ms/step - loss: 113.6489 - val_loss: 610.1957\n",
            "Epoch 80/100\n",
            "18/18 [==============================] - 0s 14ms/step - loss: 113.0044 - val_loss: 624.5187\n",
            "Epoch 81/100\n",
            "18/18 [==============================] - 0s 16ms/step - loss: 113.2803 - val_loss: 632.4530\n",
            "Epoch 82/100\n",
            "16/18 [=========================>....] - ETA: 0s - loss: 115.0020INFO:tensorflow:Assets written to: model_experiments/model_5_LSTM/assets\n"
          ]
        },
        {
          "output_type": "stream",
          "name": "stderr",
          "text": [
            "INFO:tensorflow:Assets written to: model_experiments/model_5_LSTM/assets\n",
            "WARNING:absl:<keras.layers.recurrent.LSTMCell object at 0x7fec9bae3dd0> has the same name 'LSTMCell' as a built-in Keras object. Consider renaming <class 'keras.layers.recurrent.LSTMCell'> to avoid naming conflicts when loading with `tf.keras.models.load_model`. If renaming is not possible, pass the object in the `custom_objects` parameter of the load function.\n"
          ]
        },
        {
          "output_type": "stream",
          "name": "stdout",
          "text": [
            "\b\b\b\b\b\b\b\b\b\b\b\b\b\b\b\b\b\b\b\b\b\b\b\b\b\b\b\b\b\b\b\b\b\b\b\b\b\b\b\b\b\b\b\b\b\b\b\b\b\b\b\b\b\b\b\b\b\b\b\b\b\b\b\b\b\r18/18 [==============================] - 5s 279ms/step - loss: 115.9831 - val_loss: 607.7241\n",
            "Epoch 83/100\n",
            "18/18 [==============================] - 0s 20ms/step - loss: 113.7448 - val_loss: 622.1393\n",
            "Epoch 84/100\n",
            "18/18 [==============================] - 0s 16ms/step - loss: 114.0071 - val_loss: 619.6950\n",
            "Epoch 85/100\n",
            "18/18 [==============================] - 0s 20ms/step - loss: 114.1199 - val_loss: 640.6756\n",
            "Epoch 86/100\n",
            "18/18 [==============================] - 0s 20ms/step - loss: 115.0656 - val_loss: 613.5978\n",
            "Epoch 87/100\n",
            "18/18 [==============================] - 0s 17ms/step - loss: 112.2010 - val_loss: 607.8956\n",
            "Epoch 88/100\n",
            "17/18 [===========================>..] - ETA: 0s - loss: 112.2229INFO:tensorflow:Assets written to: model_experiments/model_5_LSTM/assets\n"
          ]
        },
        {
          "output_type": "stream",
          "name": "stderr",
          "text": [
            "INFO:tensorflow:Assets written to: model_experiments/model_5_LSTM/assets\n",
            "WARNING:absl:<keras.layers.recurrent.LSTMCell object at 0x7fec9bae3dd0> has the same name 'LSTMCell' as a built-in Keras object. Consider renaming <class 'keras.layers.recurrent.LSTMCell'> to avoid naming conflicts when loading with `tf.keras.models.load_model`. If renaming is not possible, pass the object in the `custom_objects` parameter of the load function.\n"
          ]
        },
        {
          "output_type": "stream",
          "name": "stdout",
          "text": [
            "\b\b\b\b\b\b\b\b\b\b\b\b\b\b\b\b\b\b\b\b\b\b\b\b\b\b\b\b\b\b\b\b\b\b\b\b\b\b\b\b\b\b\b\b\b\b\b\b\b\b\b\b\b\b\b\b\b\b\b\b\b\b\b\b\b\r18/18 [==============================] - 6s 373ms/step - loss: 112.1981 - val_loss: 601.7839\n",
            "Epoch 89/100\n",
            "18/18 [==============================] - 0s 19ms/step - loss: 112.8817 - val_loss: 647.1225\n",
            "Epoch 90/100\n",
            "18/18 [==============================] - 0s 20ms/step - loss: 118.4780 - val_loss: 660.7481\n",
            "Epoch 91/100\n",
            "18/18 [==============================] - 0s 21ms/step - loss: 118.6482 - val_loss: 685.7650\n",
            "Epoch 92/100\n",
            "18/18 [==============================] - 0s 24ms/step - loss: 114.3789 - val_loss: 622.2435\n",
            "Epoch 93/100\n",
            "16/18 [=========================>....] - ETA: 0s - loss: 114.0878INFO:tensorflow:Assets written to: model_experiments/model_5_LSTM/assets\n"
          ]
        },
        {
          "output_type": "stream",
          "name": "stderr",
          "text": [
            "INFO:tensorflow:Assets written to: model_experiments/model_5_LSTM/assets\n",
            "WARNING:absl:<keras.layers.recurrent.LSTMCell object at 0x7fec9bae3dd0> has the same name 'LSTMCell' as a built-in Keras object. Consider renaming <class 'keras.layers.recurrent.LSTMCell'> to avoid naming conflicts when loading with `tf.keras.models.load_model`. If renaming is not possible, pass the object in the `custom_objects` parameter of the load function.\n"
          ]
        },
        {
          "output_type": "stream",
          "name": "stdout",
          "text": [
            "\b\b\b\b\b\b\b\b\b\b\b\b\b\b\b\b\b\b\b\b\b\b\b\b\b\b\b\b\b\b\b\b\b\b\b\b\b\b\b\b\b\b\b\b\b\b\b\b\b\b\b\b\b\b\b\b\b\b\b\b\b\b\b\b\b\r18/18 [==============================] - 5s 282ms/step - loss: 113.3837 - val_loss: 599.4068\n",
            "Epoch 94/100\n",
            "18/18 [==============================] - 0s 13ms/step - loss: 111.0267 - val_loss: 600.6318\n",
            "Epoch 95/100\n",
            "18/18 [==============================] - ETA: 0s - loss: 111.1373INFO:tensorflow:Assets written to: model_experiments/model_5_LSTM/assets\n"
          ]
        },
        {
          "output_type": "stream",
          "name": "stderr",
          "text": [
            "INFO:tensorflow:Assets written to: model_experiments/model_5_LSTM/assets\n",
            "WARNING:absl:<keras.layers.recurrent.LSTMCell object at 0x7fec9bae3dd0> has the same name 'LSTMCell' as a built-in Keras object. Consider renaming <class 'keras.layers.recurrent.LSTMCell'> to avoid naming conflicts when loading with `tf.keras.models.load_model`. If renaming is not possible, pass the object in the `custom_objects` parameter of the load function.\n"
          ]
        },
        {
          "output_type": "stream",
          "name": "stdout",
          "text": [
            "\b\b\b\b\b\b\b\b\b\b\b\b\b\b\b\b\b\b\b\b\b\b\b\b\b\b\b\b\b\b\b\b\b\b\b\b\b\b\b\b\b\b\b\b\b\b\b\b\b\b\b\b\b\b\b\b\b\b\b\b\b\b\b\b\b\r18/18 [==============================] - 5s 291ms/step - loss: 111.1373 - val_loss: 597.5020\n",
            "Epoch 96/100\n",
            "18/18 [==============================] - 0s 20ms/step - loss: 111.1646 - val_loss: 603.2917\n",
            "Epoch 97/100\n",
            "18/18 [==============================] - 0s 19ms/step - loss: 111.7010 - val_loss: 618.8985\n",
            "Epoch 98/100\n",
            "18/18 [==============================] - 0s 23ms/step - loss: 111.8481 - val_loss: 598.4055\n",
            "Epoch 99/100\n",
            "18/18 [==============================] - ETA: 0s - loss: 110.7292INFO:tensorflow:Assets written to: model_experiments/model_5_LSTM/assets\n"
          ]
        },
        {
          "output_type": "stream",
          "name": "stderr",
          "text": [
            "INFO:tensorflow:Assets written to: model_experiments/model_5_LSTM/assets\n",
            "WARNING:absl:<keras.layers.recurrent.LSTMCell object at 0x7fec9bae3dd0> has the same name 'LSTMCell' as a built-in Keras object. Consider renaming <class 'keras.layers.recurrent.LSTMCell'> to avoid naming conflicts when loading with `tf.keras.models.load_model`. If renaming is not possible, pass the object in the `custom_objects` parameter of the load function.\n"
          ]
        },
        {
          "output_type": "stream",
          "name": "stdout",
          "text": [
            "\b\b\b\b\b\b\b\b\b\b\b\b\b\b\b\b\b\b\b\b\b\b\b\b\b\b\b\b\b\b\b\b\b\b\b\b\b\b\b\b\b\b\b\b\b\b\b\b\b\b\b\b\b\b\b\b\b\b\b\b\b\b\b\b\b\r18/18 [==============================] - 5s 286ms/step - loss: 110.7292 - val_loss: 596.6447\n",
            "Epoch 100/100\n",
            "18/18 [==============================] - 0s 21ms/step - loss: 112.5656 - val_loss: 597.1186\n"
          ]
        },
        {
          "output_type": "execute_result",
          "data": {
            "text/plain": [
              "<keras.callbacks.History at 0x7fec9bf0d850>"
            ]
          },
          "metadata": {},
          "execution_count": 90
        }
      ]
    },
    {
      "cell_type": "code",
      "source": [
        "#load in best version of model 5 and evaluate on the test data\n",
        "model_5= tf.keras.models.load_model(\"model_experiments/model_5_LSTM/\")\n",
        "model_5.evaluate(test_windows, test_labels)"
      ],
      "metadata": {
        "colab": {
          "base_uri": "https://localhost:8080/"
        },
        "id": "hlR5G1P36hkc",
        "outputId": "cd476cf1-f264-4ae4-b3bc-c068362bcac5"
      },
      "execution_count": 91,
      "outputs": [
        {
          "output_type": "stream",
          "name": "stdout",
          "text": [
            "WARNING:tensorflow:Layer lstm_2 will not use cuDNN kernels since it doesn't meet the criteria. It will use a generic GPU kernel as fallback when running on GPU.\n"
          ]
        },
        {
          "output_type": "stream",
          "name": "stderr",
          "text": [
            "WARNING:tensorflow:Layer lstm_2 will not use cuDNN kernels since it doesn't meet the criteria. It will use a generic GPU kernel as fallback when running on GPU.\n"
          ]
        },
        {
          "output_type": "stream",
          "name": "stdout",
          "text": [
            "18/18 [==============================] - 1s 5ms/step - loss: 596.6447\n"
          ]
        },
        {
          "output_type": "execute_result",
          "data": {
            "text/plain": [
              "596.6446533203125"
            ]
          },
          "metadata": {},
          "execution_count": 91
        }
      ]
    },
    {
      "cell_type": "code",
      "source": [
        "#make prediction with our LSTM model\n",
        "model_5_preds = make_preds(model_5, test_windows)\n",
        "model_5_preds[:5]"
      ],
      "metadata": {
        "colab": {
          "base_uri": "https://localhost:8080/"
        },
        "id": "ymtyTXaq76w4",
        "outputId": "c8966a31-f6f8-467e-b3ab-746daa6f4501"
      },
      "execution_count": 92,
      "outputs": [
        {
          "output_type": "execute_result",
          "data": {
            "text/plain": [
              "<tf.Tensor: shape=(5,), dtype=float32, numpy=array([8991.225, 8823.2  , 9009.359, 8847.859, 8742.254], dtype=float32)>"
            ]
          },
          "metadata": {},
          "execution_count": 92
        }
      ]
    },
    {
      "cell_type": "code",
      "source": [
        "#evaluate model 5 preds\n",
        "model_5_results = evaluate_preds(y_true = tf.squeeze(test_labels),\n",
        "                                 y_pred= model_5_preds)\n",
        "model_5_results"
      ],
      "metadata": {
        "colab": {
          "base_uri": "https://localhost:8080/"
        },
        "id": "p9GwbFRS8Ehp",
        "outputId": "90f2b639-4632-4f58-94f0-0f4249e3bfb8"
      },
      "execution_count": 94,
      "outputs": [
        {
          "output_type": "execute_result",
          "data": {
            "text/plain": [
              "{'mae': 596.64465,\n",
              " 'mape': 2.6838453,\n",
              " 'mase': 0.70465666,\n",
              " 'mse': 1273486.9,\n",
              " 'rmse': 1128.4888}"
            ]
          },
          "metadata": {},
          "execution_count": 94
        }
      ]
    },
    {
      "cell_type": "code",
      "source": [
        "model_1_results"
      ],
      "metadata": {
        "colab": {
          "base_uri": "https://localhost:8080/"
        },
        "id": "N4WaL71p8SWG",
        "outputId": "ba94b002-2ee7-4696-eb9a-8492648e4687"
      },
      "execution_count": 95,
      "outputs": [
        {
          "output_type": "execute_result",
          "data": {
            "text/plain": [
              "{'mae': 568.95123,\n",
              " 'mape': 2.5448983,\n",
              " 'mase': 0.688677,\n",
              " 'mse': 1171744.0,\n",
              " 'rmse': 1082.4713}"
            ]
          },
          "metadata": {},
          "execution_count": 95
        }
      ]
    },
    {
      "cell_type": "markdown",
      "source": [
        "## Make multivariate time series dataset\n",
        "\n",
        "Before we add a feature to our time series, what is a feature we can use?\n",
        "\n",
        "One feature we could add is whether or not there is a twitter on that day...\n",
        "* day 1-0\n",
        "* day 2-1\n",
        "* day 3-0\n",
        "\n",
        "what is a better feature to use?\n",
        "\n",
        "how about the bitcoin halving event?\n"
      ],
      "metadata": {
        "id": "6DfvqmvV8Zy7"
      }
    },
    {
      "cell_type": "code",
      "source": [
        "# let's make a multivariate time series\n",
        "bitcoin_prices.head()"
      ],
      "metadata": {
        "colab": {
          "base_uri": "https://localhost:8080/",
          "height": 237
        },
        "id": "kQc0RUHK9VhJ",
        "outputId": "17f7cbc4-3fbc-4b36-b4eb-eba42613dce0"
      },
      "execution_count": 96,
      "outputs": [
        {
          "output_type": "execute_result",
          "data": {
            "text/plain": [
              "                Price\n",
              "Date                 \n",
              "2013-10-01  123.65499\n",
              "2013-10-02  125.45500\n",
              "2013-10-03  108.58483\n",
              "2013-10-04  118.67466\n",
              "2013-10-05  121.33866"
            ],
            "text/html": [
              "\n",
              "  <div id=\"df-153c1838-57d1-41ba-8e6a-ac13b8670d8c\">\n",
              "    <div class=\"colab-df-container\">\n",
              "      <div>\n",
              "<style scoped>\n",
              "    .dataframe tbody tr th:only-of-type {\n",
              "        vertical-align: middle;\n",
              "    }\n",
              "\n",
              "    .dataframe tbody tr th {\n",
              "        vertical-align: top;\n",
              "    }\n",
              "\n",
              "    .dataframe thead th {\n",
              "        text-align: right;\n",
              "    }\n",
              "</style>\n",
              "<table border=\"1\" class=\"dataframe\">\n",
              "  <thead>\n",
              "    <tr style=\"text-align: right;\">\n",
              "      <th></th>\n",
              "      <th>Price</th>\n",
              "    </tr>\n",
              "    <tr>\n",
              "      <th>Date</th>\n",
              "      <th></th>\n",
              "    </tr>\n",
              "  </thead>\n",
              "  <tbody>\n",
              "    <tr>\n",
              "      <th>2013-10-01</th>\n",
              "      <td>123.65499</td>\n",
              "    </tr>\n",
              "    <tr>\n",
              "      <th>2013-10-02</th>\n",
              "      <td>125.45500</td>\n",
              "    </tr>\n",
              "    <tr>\n",
              "      <th>2013-10-03</th>\n",
              "      <td>108.58483</td>\n",
              "    </tr>\n",
              "    <tr>\n",
              "      <th>2013-10-04</th>\n",
              "      <td>118.67466</td>\n",
              "    </tr>\n",
              "    <tr>\n",
              "      <th>2013-10-05</th>\n",
              "      <td>121.33866</td>\n",
              "    </tr>\n",
              "  </tbody>\n",
              "</table>\n",
              "</div>\n",
              "      <button class=\"colab-df-convert\" onclick=\"convertToInteractive('df-153c1838-57d1-41ba-8e6a-ac13b8670d8c')\"\n",
              "              title=\"Convert this dataframe to an interactive table.\"\n",
              "              style=\"display:none;\">\n",
              "        \n",
              "  <svg xmlns=\"http://www.w3.org/2000/svg\" height=\"24px\"viewBox=\"0 0 24 24\"\n",
              "       width=\"24px\">\n",
              "    <path d=\"M0 0h24v24H0V0z\" fill=\"none\"/>\n",
              "    <path d=\"M18.56 5.44l.94 2.06.94-2.06 2.06-.94-2.06-.94-.94-2.06-.94 2.06-2.06.94zm-11 1L8.5 8.5l.94-2.06 2.06-.94-2.06-.94L8.5 2.5l-.94 2.06-2.06.94zm10 10l.94 2.06.94-2.06 2.06-.94-2.06-.94-.94-2.06-.94 2.06-2.06.94z\"/><path d=\"M17.41 7.96l-1.37-1.37c-.4-.4-.92-.59-1.43-.59-.52 0-1.04.2-1.43.59L10.3 9.45l-7.72 7.72c-.78.78-.78 2.05 0 2.83L4 21.41c.39.39.9.59 1.41.59.51 0 1.02-.2 1.41-.59l7.78-7.78 2.81-2.81c.8-.78.8-2.07 0-2.86zM5.41 20L4 18.59l7.72-7.72 1.47 1.35L5.41 20z\"/>\n",
              "  </svg>\n",
              "      </button>\n",
              "      \n",
              "  <style>\n",
              "    .colab-df-container {\n",
              "      display:flex;\n",
              "      flex-wrap:wrap;\n",
              "      gap: 12px;\n",
              "    }\n",
              "\n",
              "    .colab-df-convert {\n",
              "      background-color: #E8F0FE;\n",
              "      border: none;\n",
              "      border-radius: 50%;\n",
              "      cursor: pointer;\n",
              "      display: none;\n",
              "      fill: #1967D2;\n",
              "      height: 32px;\n",
              "      padding: 0 0 0 0;\n",
              "      width: 32px;\n",
              "    }\n",
              "\n",
              "    .colab-df-convert:hover {\n",
              "      background-color: #E2EBFA;\n",
              "      box-shadow: 0px 1px 2px rgba(60, 64, 67, 0.3), 0px 1px 3px 1px rgba(60, 64, 67, 0.15);\n",
              "      fill: #174EA6;\n",
              "    }\n",
              "\n",
              "    [theme=dark] .colab-df-convert {\n",
              "      background-color: #3B4455;\n",
              "      fill: #D2E3FC;\n",
              "    }\n",
              "\n",
              "    [theme=dark] .colab-df-convert:hover {\n",
              "      background-color: #434B5C;\n",
              "      box-shadow: 0px 1px 3px 1px rgba(0, 0, 0, 0.15);\n",
              "      filter: drop-shadow(0px 1px 2px rgba(0, 0, 0, 0.3));\n",
              "      fill: #FFFFFF;\n",
              "    }\n",
              "  </style>\n",
              "\n",
              "      <script>\n",
              "        const buttonEl =\n",
              "          document.querySelector('#df-153c1838-57d1-41ba-8e6a-ac13b8670d8c button.colab-df-convert');\n",
              "        buttonEl.style.display =\n",
              "          google.colab.kernel.accessAllowed ? 'block' : 'none';\n",
              "\n",
              "        async function convertToInteractive(key) {\n",
              "          const element = document.querySelector('#df-153c1838-57d1-41ba-8e6a-ac13b8670d8c');\n",
              "          const dataTable =\n",
              "            await google.colab.kernel.invokeFunction('convertToInteractive',\n",
              "                                                     [key], {});\n",
              "          if (!dataTable) return;\n",
              "\n",
              "          const docLinkHtml = 'Like what you see? Visit the ' +\n",
              "            '<a target=\"_blank\" href=https://colab.research.google.com/notebooks/data_table.ipynb>data table notebook</a>'\n",
              "            + ' to learn more about interactive tables.';\n",
              "          element.innerHTML = '';\n",
              "          dataTable['output_type'] = 'display_data';\n",
              "          await google.colab.output.renderOutput(dataTable, element);\n",
              "          const docLink = document.createElement('div');\n",
              "          docLink.innerHTML = docLinkHtml;\n",
              "          element.appendChild(docLink);\n",
              "        }\n",
              "      </script>\n",
              "    </div>\n",
              "  </div>\n",
              "  "
            ]
          },
          "metadata": {},
          "execution_count": 96
        }
      ]
    },
    {
      "cell_type": "code",
      "source": [
        "#let's add bitcoin halving event to our data\n",
        "block_reward_1 = 50 # 3 January 2009 - this block reward isn't in our dataset( our data start from 01 october 2010)\n",
        "block_reward_2 = 25 # 8 November 2012\n",
        "block_reward_3 = 12.5 # 9 July 2016\n",
        "block_reward_4 = 6.25 # 18 May 2020\n",
        "\n",
        "#block reward dates\n",
        "block_reward_2_datetime = np.datetime64(\"2012-11-28\")\n",
        "block_reward_3_datetime = np.datetime64(\"2016-07-09\")\n",
        "block_reward_4_datetime = np.datetime64(\"2020-05-18\")"
      ],
      "metadata": {
        "id": "FlG33LdI-vLI"
      },
      "execution_count": null,
      "outputs": []
    }
  ]
}