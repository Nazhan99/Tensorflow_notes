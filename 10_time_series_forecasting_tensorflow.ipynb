{
  "nbformat": 4,
  "nbformat_minor": 0,
  "metadata": {
    "colab": {
      "name": "10_time_series_forecasting_tensorflow.ipynb",
      "provenance": [],
      "collapsed_sections": [],
      "authorship_tag": "ABX9TyNEM/eRnLvwy7wOB9huybHp",
      "include_colab_link": true
    },
    "kernelspec": {
      "name": "python3",
      "display_name": "Python 3"
    },
    "language_info": {
      "name": "python"
    },
    "accelerator": "GPU"
  },
  "cells": [
    {
      "cell_type": "markdown",
      "metadata": {
        "id": "view-in-github",
        "colab_type": "text"
      },
      "source": [
        "<a href=\"https://colab.research.google.com/github/Nazhan99/Tensorflow_notes/blob/main/10_time_series_forecasting_tensorflow.ipynb\" target=\"_parent\"><img src=\"https://colab.research.google.com/assets/colab-badge.svg\" alt=\"Open In Colab\"/></a>"
      ]
    },
    {
      "cell_type": "markdown",
      "source": [
        "# Time series forecasting fundamentals with tensorflow + milestone project 3: BitPredict\n",
        "\n",
        "let's write some tensorflow code to predict the price of Bitcoin based on the historical price of Bitcoin"
      ],
      "metadata": {
        "id": "7jHMii3WNEvR"
      }
    },
    {
      "cell_type": "markdown",
      "source": [
        "## Get data\n",
        "bitcoin data can be download at https://www.coindesk.com/price/bitcoin/"
      ],
      "metadata": {
        "id": "kY2UMJzDbw1-"
      }
    },
    {
      "cell_type": "code",
      "source": [
        "!wget https://raw.githubusercontent.com/mrdbourke/tensorflow-deep-learning/main/extras/BTC_USD_2013-10-01_2021-05-18-CoinDesk.csv"
      ],
      "metadata": {
        "colab": {
          "base_uri": "https://localhost:8080/"
        },
        "id": "sYzZ1491adA4",
        "outputId": "a35fdf64-f648-40ca-8b83-52f9a3a10a0a"
      },
      "execution_count": 1,
      "outputs": [
        {
          "output_type": "stream",
          "name": "stdout",
          "text": [
            "--2022-04-09 06:25:27--  https://raw.githubusercontent.com/mrdbourke/tensorflow-deep-learning/main/extras/BTC_USD_2013-10-01_2021-05-18-CoinDesk.csv\n",
            "Resolving raw.githubusercontent.com (raw.githubusercontent.com)... 185.199.108.133, 185.199.111.133, 185.199.110.133, ...\n",
            "Connecting to raw.githubusercontent.com (raw.githubusercontent.com)|185.199.108.133|:443... connected.\n",
            "HTTP request sent, awaiting response... 200 OK\n",
            "Length: 178509 (174K) [text/plain]\n",
            "Saving to: ‘BTC_USD_2013-10-01_2021-05-18-CoinDesk.csv’\n",
            "\n",
            "\r          BTC_USD_2   0%[                    ]       0  --.-KB/s               \rBTC_USD_2013-10-01_ 100%[===================>] 174.33K  --.-KB/s    in 0.02s   \n",
            "\n",
            "2022-04-09 06:25:27 (7.66 MB/s) - ‘BTC_USD_2013-10-01_2021-05-18-CoinDesk.csv’ saved [178509/178509]\n",
            "\n"
          ]
        }
      ]
    },
    {
      "cell_type": "markdown",
      "source": [
        "## Importing time series with pandas"
      ],
      "metadata": {
        "id": "YtsRCekHbtgh"
      }
    },
    {
      "cell_type": "code",
      "source": [
        "#import pandas\n",
        "import pandas as pd\n",
        "\n",
        "#let's read in our bitcoin ata and parse the dates\n",
        "df = pd.read_csv(\"/content/BTC_USD_2013-10-01_2021-05-18-CoinDesk.csv\",\n",
        "                 parse_dates=[\"Date\"],\n",
        "                 index_col=[\"Date\"]) #parse the date column and tell pandas the column1 is a datetime\n",
        "df.head()"
      ],
      "metadata": {
        "colab": {
          "base_uri": "https://localhost:8080/",
          "height": 385
        },
        "id": "pmQnsf4OcAkZ",
        "outputId": "ee3cd2f6-23fa-45c2-f084-657b1fc101b2"
      },
      "execution_count": 2,
      "outputs": [
        {
          "output_type": "execute_result",
          "data": {
            "text/plain": [
              "           Currency  Closing Price (USD)  24h Open (USD)  24h High (USD)  \\\n",
              "Date                                                                       \n",
              "2013-10-01      BTC            123.65499       124.30466       124.75166   \n",
              "2013-10-02      BTC            125.45500       123.65499       125.75850   \n",
              "2013-10-03      BTC            108.58483       125.45500       125.66566   \n",
              "2013-10-04      BTC            118.67466       108.58483       118.67500   \n",
              "2013-10-05      BTC            121.33866       118.67466       121.93633   \n",
              "\n",
              "            24h Low (USD)  \n",
              "Date                       \n",
              "2013-10-01      122.56349  \n",
              "2013-10-02      123.63383  \n",
              "2013-10-03       83.32833  \n",
              "2013-10-04      107.05816  \n",
              "2013-10-05      118.00566  "
            ],
            "text/html": [
              "\n",
              "  <div id=\"df-0f5150b8-927c-4cfc-9efe-eb827fc6be89\">\n",
              "    <div class=\"colab-df-container\">\n",
              "      <div>\n",
              "<style scoped>\n",
              "    .dataframe tbody tr th:only-of-type {\n",
              "        vertical-align: middle;\n",
              "    }\n",
              "\n",
              "    .dataframe tbody tr th {\n",
              "        vertical-align: top;\n",
              "    }\n",
              "\n",
              "    .dataframe thead th {\n",
              "        text-align: right;\n",
              "    }\n",
              "</style>\n",
              "<table border=\"1\" class=\"dataframe\">\n",
              "  <thead>\n",
              "    <tr style=\"text-align: right;\">\n",
              "      <th></th>\n",
              "      <th>Currency</th>\n",
              "      <th>Closing Price (USD)</th>\n",
              "      <th>24h Open (USD)</th>\n",
              "      <th>24h High (USD)</th>\n",
              "      <th>24h Low (USD)</th>\n",
              "    </tr>\n",
              "    <tr>\n",
              "      <th>Date</th>\n",
              "      <th></th>\n",
              "      <th></th>\n",
              "      <th></th>\n",
              "      <th></th>\n",
              "      <th></th>\n",
              "    </tr>\n",
              "  </thead>\n",
              "  <tbody>\n",
              "    <tr>\n",
              "      <th>2013-10-01</th>\n",
              "      <td>BTC</td>\n",
              "      <td>123.65499</td>\n",
              "      <td>124.30466</td>\n",
              "      <td>124.75166</td>\n",
              "      <td>122.56349</td>\n",
              "    </tr>\n",
              "    <tr>\n",
              "      <th>2013-10-02</th>\n",
              "      <td>BTC</td>\n",
              "      <td>125.45500</td>\n",
              "      <td>123.65499</td>\n",
              "      <td>125.75850</td>\n",
              "      <td>123.63383</td>\n",
              "    </tr>\n",
              "    <tr>\n",
              "      <th>2013-10-03</th>\n",
              "      <td>BTC</td>\n",
              "      <td>108.58483</td>\n",
              "      <td>125.45500</td>\n",
              "      <td>125.66566</td>\n",
              "      <td>83.32833</td>\n",
              "    </tr>\n",
              "    <tr>\n",
              "      <th>2013-10-04</th>\n",
              "      <td>BTC</td>\n",
              "      <td>118.67466</td>\n",
              "      <td>108.58483</td>\n",
              "      <td>118.67500</td>\n",
              "      <td>107.05816</td>\n",
              "    </tr>\n",
              "    <tr>\n",
              "      <th>2013-10-05</th>\n",
              "      <td>BTC</td>\n",
              "      <td>121.33866</td>\n",
              "      <td>118.67466</td>\n",
              "      <td>121.93633</td>\n",
              "      <td>118.00566</td>\n",
              "    </tr>\n",
              "  </tbody>\n",
              "</table>\n",
              "</div>\n",
              "      <button class=\"colab-df-convert\" onclick=\"convertToInteractive('df-0f5150b8-927c-4cfc-9efe-eb827fc6be89')\"\n",
              "              title=\"Convert this dataframe to an interactive table.\"\n",
              "              style=\"display:none;\">\n",
              "        \n",
              "  <svg xmlns=\"http://www.w3.org/2000/svg\" height=\"24px\"viewBox=\"0 0 24 24\"\n",
              "       width=\"24px\">\n",
              "    <path d=\"M0 0h24v24H0V0z\" fill=\"none\"/>\n",
              "    <path d=\"M18.56 5.44l.94 2.06.94-2.06 2.06-.94-2.06-.94-.94-2.06-.94 2.06-2.06.94zm-11 1L8.5 8.5l.94-2.06 2.06-.94-2.06-.94L8.5 2.5l-.94 2.06-2.06.94zm10 10l.94 2.06.94-2.06 2.06-.94-2.06-.94-.94-2.06-.94 2.06-2.06.94z\"/><path d=\"M17.41 7.96l-1.37-1.37c-.4-.4-.92-.59-1.43-.59-.52 0-1.04.2-1.43.59L10.3 9.45l-7.72 7.72c-.78.78-.78 2.05 0 2.83L4 21.41c.39.39.9.59 1.41.59.51 0 1.02-.2 1.41-.59l7.78-7.78 2.81-2.81c.8-.78.8-2.07 0-2.86zM5.41 20L4 18.59l7.72-7.72 1.47 1.35L5.41 20z\"/>\n",
              "  </svg>\n",
              "      </button>\n",
              "      \n",
              "  <style>\n",
              "    .colab-df-container {\n",
              "      display:flex;\n",
              "      flex-wrap:wrap;\n",
              "      gap: 12px;\n",
              "    }\n",
              "\n",
              "    .colab-df-convert {\n",
              "      background-color: #E8F0FE;\n",
              "      border: none;\n",
              "      border-radius: 50%;\n",
              "      cursor: pointer;\n",
              "      display: none;\n",
              "      fill: #1967D2;\n",
              "      height: 32px;\n",
              "      padding: 0 0 0 0;\n",
              "      width: 32px;\n",
              "    }\n",
              "\n",
              "    .colab-df-convert:hover {\n",
              "      background-color: #E2EBFA;\n",
              "      box-shadow: 0px 1px 2px rgba(60, 64, 67, 0.3), 0px 1px 3px 1px rgba(60, 64, 67, 0.15);\n",
              "      fill: #174EA6;\n",
              "    }\n",
              "\n",
              "    [theme=dark] .colab-df-convert {\n",
              "      background-color: #3B4455;\n",
              "      fill: #D2E3FC;\n",
              "    }\n",
              "\n",
              "    [theme=dark] .colab-df-convert:hover {\n",
              "      background-color: #434B5C;\n",
              "      box-shadow: 0px 1px 3px 1px rgba(0, 0, 0, 0.15);\n",
              "      filter: drop-shadow(0px 1px 2px rgba(0, 0, 0, 0.3));\n",
              "      fill: #FFFFFF;\n",
              "    }\n",
              "  </style>\n",
              "\n",
              "      <script>\n",
              "        const buttonEl =\n",
              "          document.querySelector('#df-0f5150b8-927c-4cfc-9efe-eb827fc6be89 button.colab-df-convert');\n",
              "        buttonEl.style.display =\n",
              "          google.colab.kernel.accessAllowed ? 'block' : 'none';\n",
              "\n",
              "        async function convertToInteractive(key) {\n",
              "          const element = document.querySelector('#df-0f5150b8-927c-4cfc-9efe-eb827fc6be89');\n",
              "          const dataTable =\n",
              "            await google.colab.kernel.invokeFunction('convertToInteractive',\n",
              "                                                     [key], {});\n",
              "          if (!dataTable) return;\n",
              "\n",
              "          const docLinkHtml = 'Like what you see? Visit the ' +\n",
              "            '<a target=\"_blank\" href=https://colab.research.google.com/notebooks/data_table.ipynb>data table notebook</a>'\n",
              "            + ' to learn more about interactive tables.';\n",
              "          element.innerHTML = '';\n",
              "          dataTable['output_type'] = 'display_data';\n",
              "          await google.colab.output.renderOutput(dataTable, element);\n",
              "          const docLink = document.createElement('div');\n",
              "          docLink.innerHTML = docLinkHtml;\n",
              "          element.appendChild(docLink);\n",
              "        }\n",
              "      </script>\n",
              "    </div>\n",
              "  </div>\n",
              "  "
            ]
          },
          "metadata": {},
          "execution_count": 2
        }
      ]
    },
    {
      "cell_type": "code",
      "source": [
        "df.info()"
      ],
      "metadata": {
        "colab": {
          "base_uri": "https://localhost:8080/"
        },
        "id": "fdNN65EpczFl",
        "outputId": "0fad7940-821a-4a89-c4c4-d08582d7214d"
      },
      "execution_count": 3,
      "outputs": [
        {
          "output_type": "stream",
          "name": "stdout",
          "text": [
            "<class 'pandas.core.frame.DataFrame'>\n",
            "DatetimeIndex: 2787 entries, 2013-10-01 to 2021-05-18\n",
            "Data columns (total 5 columns):\n",
            " #   Column               Non-Null Count  Dtype  \n",
            "---  ------               --------------  -----  \n",
            " 0   Currency             2787 non-null   object \n",
            " 1   Closing Price (USD)  2787 non-null   float64\n",
            " 2   24h Open (USD)       2787 non-null   float64\n",
            " 3   24h High (USD)       2787 non-null   float64\n",
            " 4   24h Low (USD)        2787 non-null   float64\n",
            "dtypes: float64(4), object(1)\n",
            "memory usage: 130.6+ KB\n"
          ]
        }
      ]
    },
    {
      "cell_type": "code",
      "source": [
        "# how many samples do we have?\n",
        "len(df)"
      ],
      "metadata": {
        "colab": {
          "base_uri": "https://localhost:8080/"
        },
        "id": "cia9cI4kc1nW",
        "outputId": "bc548e93-da24-4239-f744-6c5da78dd02d"
      },
      "execution_count": 4,
      "outputs": [
        {
          "output_type": "execute_result",
          "data": {
            "text/plain": [
              "2787"
            ]
          },
          "metadata": {},
          "execution_count": 4
        }
      ]
    },
    {
      "cell_type": "markdown",
      "source": [
        "we have collected the historical price of Bitcoin for the past of 8 years but there us 2787 samples.\n",
        "\n",
        "Typically deep learning models usually like lots and lots of samples where lots and lots can thousands to tens of thousand to millions.\n",
        "\n",
        "A smaller number of samples is something you will often run into with time series data problems.\n",
        "\n",
        "**Note:** the seasonality of a time series dataset is referred as the number of samples per year. So for our Bitcoin data, it has a seasonality of daily or value of 365 because we collect one sample per day meaning we will get 365 samples per year."
      ],
      "metadata": {
        "id": "P-moIXJOdUcH"
      }
    },
    {
      "cell_type": "code",
      "source": [
        "df.head()"
      ],
      "metadata": {
        "id": "yLwaA8--dMlv",
        "colab": {
          "base_uri": "https://localhost:8080/",
          "height": 385
        },
        "outputId": "017203df-cffa-4cd7-b4e8-3b4610cbec64"
      },
      "execution_count": 5,
      "outputs": [
        {
          "output_type": "execute_result",
          "data": {
            "text/plain": [
              "           Currency  Closing Price (USD)  24h Open (USD)  24h High (USD)  \\\n",
              "Date                                                                       \n",
              "2013-10-01      BTC            123.65499       124.30466       124.75166   \n",
              "2013-10-02      BTC            125.45500       123.65499       125.75850   \n",
              "2013-10-03      BTC            108.58483       125.45500       125.66566   \n",
              "2013-10-04      BTC            118.67466       108.58483       118.67500   \n",
              "2013-10-05      BTC            121.33866       118.67466       121.93633   \n",
              "\n",
              "            24h Low (USD)  \n",
              "Date                       \n",
              "2013-10-01      122.56349  \n",
              "2013-10-02      123.63383  \n",
              "2013-10-03       83.32833  \n",
              "2013-10-04      107.05816  \n",
              "2013-10-05      118.00566  "
            ],
            "text/html": [
              "\n",
              "  <div id=\"df-e8e529cc-5f72-4ff4-9090-add8593dd989\">\n",
              "    <div class=\"colab-df-container\">\n",
              "      <div>\n",
              "<style scoped>\n",
              "    .dataframe tbody tr th:only-of-type {\n",
              "        vertical-align: middle;\n",
              "    }\n",
              "\n",
              "    .dataframe tbody tr th {\n",
              "        vertical-align: top;\n",
              "    }\n",
              "\n",
              "    .dataframe thead th {\n",
              "        text-align: right;\n",
              "    }\n",
              "</style>\n",
              "<table border=\"1\" class=\"dataframe\">\n",
              "  <thead>\n",
              "    <tr style=\"text-align: right;\">\n",
              "      <th></th>\n",
              "      <th>Currency</th>\n",
              "      <th>Closing Price (USD)</th>\n",
              "      <th>24h Open (USD)</th>\n",
              "      <th>24h High (USD)</th>\n",
              "      <th>24h Low (USD)</th>\n",
              "    </tr>\n",
              "    <tr>\n",
              "      <th>Date</th>\n",
              "      <th></th>\n",
              "      <th></th>\n",
              "      <th></th>\n",
              "      <th></th>\n",
              "      <th></th>\n",
              "    </tr>\n",
              "  </thead>\n",
              "  <tbody>\n",
              "    <tr>\n",
              "      <th>2013-10-01</th>\n",
              "      <td>BTC</td>\n",
              "      <td>123.65499</td>\n",
              "      <td>124.30466</td>\n",
              "      <td>124.75166</td>\n",
              "      <td>122.56349</td>\n",
              "    </tr>\n",
              "    <tr>\n",
              "      <th>2013-10-02</th>\n",
              "      <td>BTC</td>\n",
              "      <td>125.45500</td>\n",
              "      <td>123.65499</td>\n",
              "      <td>125.75850</td>\n",
              "      <td>123.63383</td>\n",
              "    </tr>\n",
              "    <tr>\n",
              "      <th>2013-10-03</th>\n",
              "      <td>BTC</td>\n",
              "      <td>108.58483</td>\n",
              "      <td>125.45500</td>\n",
              "      <td>125.66566</td>\n",
              "      <td>83.32833</td>\n",
              "    </tr>\n",
              "    <tr>\n",
              "      <th>2013-10-04</th>\n",
              "      <td>BTC</td>\n",
              "      <td>118.67466</td>\n",
              "      <td>108.58483</td>\n",
              "      <td>118.67500</td>\n",
              "      <td>107.05816</td>\n",
              "    </tr>\n",
              "    <tr>\n",
              "      <th>2013-10-05</th>\n",
              "      <td>BTC</td>\n",
              "      <td>121.33866</td>\n",
              "      <td>118.67466</td>\n",
              "      <td>121.93633</td>\n",
              "      <td>118.00566</td>\n",
              "    </tr>\n",
              "  </tbody>\n",
              "</table>\n",
              "</div>\n",
              "      <button class=\"colab-df-convert\" onclick=\"convertToInteractive('df-e8e529cc-5f72-4ff4-9090-add8593dd989')\"\n",
              "              title=\"Convert this dataframe to an interactive table.\"\n",
              "              style=\"display:none;\">\n",
              "        \n",
              "  <svg xmlns=\"http://www.w3.org/2000/svg\" height=\"24px\"viewBox=\"0 0 24 24\"\n",
              "       width=\"24px\">\n",
              "    <path d=\"M0 0h24v24H0V0z\" fill=\"none\"/>\n",
              "    <path d=\"M18.56 5.44l.94 2.06.94-2.06 2.06-.94-2.06-.94-.94-2.06-.94 2.06-2.06.94zm-11 1L8.5 8.5l.94-2.06 2.06-.94-2.06-.94L8.5 2.5l-.94 2.06-2.06.94zm10 10l.94 2.06.94-2.06 2.06-.94-2.06-.94-.94-2.06-.94 2.06-2.06.94z\"/><path d=\"M17.41 7.96l-1.37-1.37c-.4-.4-.92-.59-1.43-.59-.52 0-1.04.2-1.43.59L10.3 9.45l-7.72 7.72c-.78.78-.78 2.05 0 2.83L4 21.41c.39.39.9.59 1.41.59.51 0 1.02-.2 1.41-.59l7.78-7.78 2.81-2.81c.8-.78.8-2.07 0-2.86zM5.41 20L4 18.59l7.72-7.72 1.47 1.35L5.41 20z\"/>\n",
              "  </svg>\n",
              "      </button>\n",
              "      \n",
              "  <style>\n",
              "    .colab-df-container {\n",
              "      display:flex;\n",
              "      flex-wrap:wrap;\n",
              "      gap: 12px;\n",
              "    }\n",
              "\n",
              "    .colab-df-convert {\n",
              "      background-color: #E8F0FE;\n",
              "      border: none;\n",
              "      border-radius: 50%;\n",
              "      cursor: pointer;\n",
              "      display: none;\n",
              "      fill: #1967D2;\n",
              "      height: 32px;\n",
              "      padding: 0 0 0 0;\n",
              "      width: 32px;\n",
              "    }\n",
              "\n",
              "    .colab-df-convert:hover {\n",
              "      background-color: #E2EBFA;\n",
              "      box-shadow: 0px 1px 2px rgba(60, 64, 67, 0.3), 0px 1px 3px 1px rgba(60, 64, 67, 0.15);\n",
              "      fill: #174EA6;\n",
              "    }\n",
              "\n",
              "    [theme=dark] .colab-df-convert {\n",
              "      background-color: #3B4455;\n",
              "      fill: #D2E3FC;\n",
              "    }\n",
              "\n",
              "    [theme=dark] .colab-df-convert:hover {\n",
              "      background-color: #434B5C;\n",
              "      box-shadow: 0px 1px 3px 1px rgba(0, 0, 0, 0.15);\n",
              "      filter: drop-shadow(0px 1px 2px rgba(0, 0, 0, 0.3));\n",
              "      fill: #FFFFFF;\n",
              "    }\n",
              "  </style>\n",
              "\n",
              "      <script>\n",
              "        const buttonEl =\n",
              "          document.querySelector('#df-e8e529cc-5f72-4ff4-9090-add8593dd989 button.colab-df-convert');\n",
              "        buttonEl.style.display =\n",
              "          google.colab.kernel.accessAllowed ? 'block' : 'none';\n",
              "\n",
              "        async function convertToInteractive(key) {\n",
              "          const element = document.querySelector('#df-e8e529cc-5f72-4ff4-9090-add8593dd989');\n",
              "          const dataTable =\n",
              "            await google.colab.kernel.invokeFunction('convertToInteractive',\n",
              "                                                     [key], {});\n",
              "          if (!dataTable) return;\n",
              "\n",
              "          const docLinkHtml = 'Like what you see? Visit the ' +\n",
              "            '<a target=\"_blank\" href=https://colab.research.google.com/notebooks/data_table.ipynb>data table notebook</a>'\n",
              "            + ' to learn more about interactive tables.';\n",
              "          element.innerHTML = '';\n",
              "          dataTable['output_type'] = 'display_data';\n",
              "          await google.colab.output.renderOutput(dataTable, element);\n",
              "          const docLink = document.createElement('div');\n",
              "          docLink.innerHTML = docLinkHtml;\n",
              "          element.appendChild(docLink);\n",
              "        }\n",
              "      </script>\n",
              "    </div>\n",
              "  </div>\n",
              "  "
            ]
          },
          "metadata": {},
          "execution_count": 5
        }
      ]
    },
    {
      "cell_type": "code",
      "source": [
        "#only want closing price for each day\n",
        "bitcoin_prices = pd.DataFrame(df[\"Closing Price (USD)\"]).rename(columns={\"Closing Price (USD)\":\"Price\"})\n",
        "bitcoin_prices.head()"
      ],
      "metadata": {
        "colab": {
          "base_uri": "https://localhost:8080/",
          "height": 237
        },
        "id": "McEMrBvfGiX9",
        "outputId": "1402e837-a200-41b2-c644-c2f9709dca33"
      },
      "execution_count": 6,
      "outputs": [
        {
          "output_type": "execute_result",
          "data": {
            "text/plain": [
              "                Price\n",
              "Date                 \n",
              "2013-10-01  123.65499\n",
              "2013-10-02  125.45500\n",
              "2013-10-03  108.58483\n",
              "2013-10-04  118.67466\n",
              "2013-10-05  121.33866"
            ],
            "text/html": [
              "\n",
              "  <div id=\"df-3db2d4d4-94f8-42f5-ae4c-f92423a743c5\">\n",
              "    <div class=\"colab-df-container\">\n",
              "      <div>\n",
              "<style scoped>\n",
              "    .dataframe tbody tr th:only-of-type {\n",
              "        vertical-align: middle;\n",
              "    }\n",
              "\n",
              "    .dataframe tbody tr th {\n",
              "        vertical-align: top;\n",
              "    }\n",
              "\n",
              "    .dataframe thead th {\n",
              "        text-align: right;\n",
              "    }\n",
              "</style>\n",
              "<table border=\"1\" class=\"dataframe\">\n",
              "  <thead>\n",
              "    <tr style=\"text-align: right;\">\n",
              "      <th></th>\n",
              "      <th>Price</th>\n",
              "    </tr>\n",
              "    <tr>\n",
              "      <th>Date</th>\n",
              "      <th></th>\n",
              "    </tr>\n",
              "  </thead>\n",
              "  <tbody>\n",
              "    <tr>\n",
              "      <th>2013-10-01</th>\n",
              "      <td>123.65499</td>\n",
              "    </tr>\n",
              "    <tr>\n",
              "      <th>2013-10-02</th>\n",
              "      <td>125.45500</td>\n",
              "    </tr>\n",
              "    <tr>\n",
              "      <th>2013-10-03</th>\n",
              "      <td>108.58483</td>\n",
              "    </tr>\n",
              "    <tr>\n",
              "      <th>2013-10-04</th>\n",
              "      <td>118.67466</td>\n",
              "    </tr>\n",
              "    <tr>\n",
              "      <th>2013-10-05</th>\n",
              "      <td>121.33866</td>\n",
              "    </tr>\n",
              "  </tbody>\n",
              "</table>\n",
              "</div>\n",
              "      <button class=\"colab-df-convert\" onclick=\"convertToInteractive('df-3db2d4d4-94f8-42f5-ae4c-f92423a743c5')\"\n",
              "              title=\"Convert this dataframe to an interactive table.\"\n",
              "              style=\"display:none;\">\n",
              "        \n",
              "  <svg xmlns=\"http://www.w3.org/2000/svg\" height=\"24px\"viewBox=\"0 0 24 24\"\n",
              "       width=\"24px\">\n",
              "    <path d=\"M0 0h24v24H0V0z\" fill=\"none\"/>\n",
              "    <path d=\"M18.56 5.44l.94 2.06.94-2.06 2.06-.94-2.06-.94-.94-2.06-.94 2.06-2.06.94zm-11 1L8.5 8.5l.94-2.06 2.06-.94-2.06-.94L8.5 2.5l-.94 2.06-2.06.94zm10 10l.94 2.06.94-2.06 2.06-.94-2.06-.94-.94-2.06-.94 2.06-2.06.94z\"/><path d=\"M17.41 7.96l-1.37-1.37c-.4-.4-.92-.59-1.43-.59-.52 0-1.04.2-1.43.59L10.3 9.45l-7.72 7.72c-.78.78-.78 2.05 0 2.83L4 21.41c.39.39.9.59 1.41.59.51 0 1.02-.2 1.41-.59l7.78-7.78 2.81-2.81c.8-.78.8-2.07 0-2.86zM5.41 20L4 18.59l7.72-7.72 1.47 1.35L5.41 20z\"/>\n",
              "  </svg>\n",
              "      </button>\n",
              "      \n",
              "  <style>\n",
              "    .colab-df-container {\n",
              "      display:flex;\n",
              "      flex-wrap:wrap;\n",
              "      gap: 12px;\n",
              "    }\n",
              "\n",
              "    .colab-df-convert {\n",
              "      background-color: #E8F0FE;\n",
              "      border: none;\n",
              "      border-radius: 50%;\n",
              "      cursor: pointer;\n",
              "      display: none;\n",
              "      fill: #1967D2;\n",
              "      height: 32px;\n",
              "      padding: 0 0 0 0;\n",
              "      width: 32px;\n",
              "    }\n",
              "\n",
              "    .colab-df-convert:hover {\n",
              "      background-color: #E2EBFA;\n",
              "      box-shadow: 0px 1px 2px rgba(60, 64, 67, 0.3), 0px 1px 3px 1px rgba(60, 64, 67, 0.15);\n",
              "      fill: #174EA6;\n",
              "    }\n",
              "\n",
              "    [theme=dark] .colab-df-convert {\n",
              "      background-color: #3B4455;\n",
              "      fill: #D2E3FC;\n",
              "    }\n",
              "\n",
              "    [theme=dark] .colab-df-convert:hover {\n",
              "      background-color: #434B5C;\n",
              "      box-shadow: 0px 1px 3px 1px rgba(0, 0, 0, 0.15);\n",
              "      filter: drop-shadow(0px 1px 2px rgba(0, 0, 0, 0.3));\n",
              "      fill: #FFFFFF;\n",
              "    }\n",
              "  </style>\n",
              "\n",
              "      <script>\n",
              "        const buttonEl =\n",
              "          document.querySelector('#df-3db2d4d4-94f8-42f5-ae4c-f92423a743c5 button.colab-df-convert');\n",
              "        buttonEl.style.display =\n",
              "          google.colab.kernel.accessAllowed ? 'block' : 'none';\n",
              "\n",
              "        async function convertToInteractive(key) {\n",
              "          const element = document.querySelector('#df-3db2d4d4-94f8-42f5-ae4c-f92423a743c5');\n",
              "          const dataTable =\n",
              "            await google.colab.kernel.invokeFunction('convertToInteractive',\n",
              "                                                     [key], {});\n",
              "          if (!dataTable) return;\n",
              "\n",
              "          const docLinkHtml = 'Like what you see? Visit the ' +\n",
              "            '<a target=\"_blank\" href=https://colab.research.google.com/notebooks/data_table.ipynb>data table notebook</a>'\n",
              "            + ' to learn more about interactive tables.';\n",
              "          element.innerHTML = '';\n",
              "          dataTable['output_type'] = 'display_data';\n",
              "          await google.colab.output.renderOutput(dataTable, element);\n",
              "          const docLink = document.createElement('div');\n",
              "          docLink.innerHTML = docLinkHtml;\n",
              "          element.appendChild(docLink);\n",
              "        }\n",
              "      </script>\n",
              "    </div>\n",
              "  </div>\n",
              "  "
            ]
          },
          "metadata": {},
          "execution_count": 6
        }
      ]
    },
    {
      "cell_type": "code",
      "source": [
        "import matplotlib.pyplot as plt\n",
        "bitcoin_prices.plot(figsize=(10,7))\n",
        "plt.ylabel(\"BTC Price\")\n",
        "plt.title(\"Price of Bitcoin from 1 Oct 2013 to 18 May 2021\", fontsize=16)\n",
        "plt.legend(fontsize=14);"
      ],
      "metadata": {
        "colab": {
          "base_uri": "https://localhost:8080/",
          "height": 460
        },
        "id": "DvUDYfV3G7e3",
        "outputId": "74c117c2-e2d4-4f5f-8758-eb10b5cc9ad8"
      },
      "execution_count": 7,
      "outputs": [
        {
          "output_type": "display_data",
          "data": {
            "text/plain": [
              "<Figure size 720x504 with 1 Axes>"
            ],
            "image/png": "[encoded data removed]"
          },
          "metadata": {
            "needs_background": "light"
          }
        }
      ]
    },
    {
      "cell_type": "markdown",
      "source": [
        "## Importing time series data with Python's CSV module"
      ],
      "metadata": {
        "id": "lk-ekFz6HcmZ"
      }
    },
    {
      "cell_type": "code",
      "source": [
        "#Importing and formatting historical Bitcoin data with python\n",
        "import csv\n",
        "from datetime import datetime\n",
        "\n",
        "timesteps = []\n",
        "btc_price = []\n",
        "with open(\"/content/BTC_USD_2013-10-01_2021-05-18-CoinDesk.csv\", \"r\") as f:\n",
        "  csv_reader = csv.reader(f,delimiter=\",\")\n",
        "  next(csv_reader) #skip first line (this gets rid of the column titles)\n",
        "  for line in csv_reader:\n",
        "    timesteps.append(datetime.strptime(line[1], \"%Y-%m-%d\")) #get the dates as dates (not string)\n",
        "    btc_price.append(float(line[2])) #get the closing price as float\n",
        "\n",
        "#view first 10 of each\n",
        "timesteps[:10], btc_price[:10]"
      ],
      "metadata": {
        "colab": {
          "base_uri": "https://localhost:8080/"
        },
        "id": "omPI-u1GH31y",
        "outputId": "43c7a8ed-07bd-4859-bcc2-b2426ef74e9f"
      },
      "execution_count": 8,
      "outputs": [
        {
          "output_type": "execute_result",
          "data": {
            "text/plain": [
              "([datetime.datetime(2013, 10, 1, 0, 0),\n",
              "  datetime.datetime(2013, 10, 2, 0, 0),\n",
              "  datetime.datetime(2013, 10, 3, 0, 0),\n",
              "  datetime.datetime(2013, 10, 4, 0, 0),\n",
              "  datetime.datetime(2013, 10, 5, 0, 0),\n",
              "  datetime.datetime(2013, 10, 6, 0, 0),\n",
              "  datetime.datetime(2013, 10, 7, 0, 0),\n",
              "  datetime.datetime(2013, 10, 8, 0, 0),\n",
              "  datetime.datetime(2013, 10, 9, 0, 0),\n",
              "  datetime.datetime(2013, 10, 10, 0, 0)],\n",
              " [123.65499,\n",
              "  125.455,\n",
              "  108.58483,\n",
              "  118.67466,\n",
              "  121.33866,\n",
              "  120.65533,\n",
              "  121.795,\n",
              "  123.033,\n",
              "  124.049,\n",
              "  125.96116])"
            ]
          },
          "metadata": {},
          "execution_count": 8
        }
      ]
    },
    {
      "cell_type": "code",
      "source": [
        "#plot from CSV\n",
        "import matplotlib.pyplot as plt\n",
        "import numpy as np\n",
        "plt.figure(figsize=(10,7))\n",
        "plt.plot(timesteps, btc_price)\n",
        "plt.ylabel(\"BTC price\")\n",
        "plt.xlabel(\"Date\")\n",
        "plt.title(\"Price of Bitcoin from 1 Oct 2013 to 18 May 2021\", fontsize = 16);"
      ],
      "metadata": {
        "colab": {
          "base_uri": "https://localhost:8080/",
          "height": 460
        },
        "id": "yfcokQhLJZpl",
        "outputId": "22c8b443-f44e-493a-c40d-77380293bbfc"
      },
      "execution_count": 9,
      "outputs": [
        {
          "output_type": "display_data",
          "data": {
            "text/plain": [
              "<Figure size 720x504 with 1 Axes>"
            ],
            "image/png": "[encoded data removed]"
          },
          "metadata": {
            "needs_background": "light"
          }
        }
      ]
    },
    {
      "cell_type": "markdown",
      "source": [
        "## Format data part 1: Create train and test sets of our time series data"
      ],
      "metadata": {
        "id": "-60ROgHEKVWc"
      }
    },
    {
      "cell_type": "markdown",
      "source": [
        "### Creating train and test sets with time series data (wrong way)"
      ],
      "metadata": {
        "id": "bYb6F35aKsp5"
      }
    },
    {
      "cell_type": "code",
      "source": [
        "#get bitcoing date array\n",
        "timesteps = bitcoin_prices.index.to_numpy()\n",
        "prices = bitcoin_prices[\"Price\"].to_numpy()\n",
        "\n",
        "timesteps[:10], prices[:10]"
      ],
      "metadata": {
        "colab": {
          "base_uri": "https://localhost:8080/"
        },
        "id": "lkg74R3-K5R1",
        "outputId": "aff143f8-9a4b-4e51-ef55-630d452bc50f"
      },
      "execution_count": 10,
      "outputs": [
        {
          "output_type": "execute_result",
          "data": {
            "text/plain": [
              "(array(['2013-10-01T00:00:00.000000000', '2013-10-02T00:00:00.000000000',\n",
              "        '2013-10-03T00:00:00.000000000', '2013-10-04T00:00:00.000000000',\n",
              "        '2013-10-05T00:00:00.000000000', '2013-10-06T00:00:00.000000000',\n",
              "        '2013-10-07T00:00:00.000000000', '2013-10-08T00:00:00.000000000',\n",
              "        '2013-10-09T00:00:00.000000000', '2013-10-10T00:00:00.000000000'],\n",
              "       dtype='datetime64[ns]'),\n",
              " array([123.65499, 125.455  , 108.58483, 118.67466, 121.33866, 120.65533,\n",
              "        121.795  , 123.033  , 124.049  , 125.96116]))"
            ]
          },
          "metadata": {},
          "execution_count": 10
        }
      ]
    },
    {
      "cell_type": "code",
      "source": [
        "#wrong way to make train/test sets for time series data\n",
        "from sklearn.model_selection import train_test_split\n",
        "\n",
        "X_train, X_test, y_train, y_test = train_test_split(timesteps, #dates\n",
        "                                                   prices, #BTC prices\n",
        "                                                   test_size=0.2,\n",
        "                                                   random_state=42)\n",
        "\n",
        "X_train.shape, X_test.shape, y_train.shape, y_test.shape"
      ],
      "metadata": {
        "colab": {
          "base_uri": "https://localhost:8080/"
        },
        "id": "EALuk0ccLHHL",
        "outputId": "6f82851a-433d-4edd-ca44-f812f7544b37"
      },
      "execution_count": 11,
      "outputs": [
        {
          "output_type": "execute_result",
          "data": {
            "text/plain": [
              "((2229,), (558,), (2229,), (558,))"
            ]
          },
          "metadata": {},
          "execution_count": 11
        }
      ]
    },
    {
      "cell_type": "code",
      "source": [
        "#Let's plot wrong train and test splits\n",
        "plt.figure(figsize=(10,7))\n",
        "plt.scatter(X_train, y_train, s=5, label=\"Train data\")\n",
        "plt.scatter(X_test, y_test, s=5, label=\"Test data\")\n",
        "plt.legend(fontsize=14)\n",
        "plt.ylabel(\"BTC price\")\n",
        "plt.xlabel(\"Date\")\n",
        "plt.show();"
      ],
      "metadata": {
        "colab": {
          "base_uri": "https://localhost:8080/",
          "height": 442
        },
        "id": "yk0n4UVwLsTU",
        "outputId": "bd3ffe09-9d1c-4db0-e1f5-c3d077666be7"
      },
      "execution_count": 12,
      "outputs": [
        {
          "output_type": "display_data",
          "data": {
            "text/plain": [
              "<Figure size 720x504 with 1 Axes>"
            ],
            "image/png": "[encoded data removed]"
          },
          "metadata": {
            "needs_background": "light"
          }
        }
      ]
    },
    {
      "cell_type": "markdown",
      "source": [
        "### Create train & test sets for time series (right way)"
      ],
      "metadata": {
        "id": "fRX01n_kMTPF"
      }
    },
    {
      "cell_type": "code",
      "source": [
        "# create train and test splits the right way for time series data \n",
        "split_size = int(0.8 * len(prices)) # 80% train, 20% test\n",
        "\n",
        "#create train data splits (Everythings before the split)\n",
        "X_train, y_train = timesteps[:split_size], prices[:split_size]\n",
        "\n",
        "#create test data splits (everythings beyond the split)\n",
        "X_test, y_test = timesteps[split_size:], prices[split_size:]\n",
        "\n",
        "len(X_train), len(y_train), len(X_test), len(y_test)"
      ],
      "metadata": {
        "colab": {
          "base_uri": "https://localhost:8080/"
        },
        "id": "Qxkq3UQaNRGK",
        "outputId": "973275ce-f649-4ff2-e9e5-78d1f4b96506"
      },
      "execution_count": 13,
      "outputs": [
        {
          "output_type": "execute_result",
          "data": {
            "text/plain": [
              "(2229, 2229, 558, 558)"
            ]
          },
          "metadata": {},
          "execution_count": 13
        }
      ]
    },
    {
      "cell_type": "code",
      "source": [
        "plt.figure(figsize=(10,7))\n",
        "plt.scatter(X_train, y_train, s=5, label=\"Train data\")\n",
        "plt.scatter(X_test, y_test, s=5, label=\"Test data\")\n",
        "plt.legend(fontsize=14)\n",
        "plt.ylabel(\"BTC price\")\n",
        "plt.xlabel(\"Date\")\n",
        "plt.show();"
      ],
      "metadata": {
        "colab": {
          "base_uri": "https://localhost:8080/",
          "height": 442
        },
        "id": "CpZwaIkgOAlL",
        "outputId": "5e6127f0-88b6-4af7-a071-99c879c08d59"
      },
      "execution_count": 14,
      "outputs": [
        {
          "output_type": "display_data",
          "data": {
            "text/plain": [
              "<Figure size 720x504 with 1 Axes>"
            ],
            "image/png": "[encoded data removed]"
          },
          "metadata": {
            "needs_background": "light"
          }
        }
      ]
    },
    {
      "cell_type": "markdown",
      "source": [
        "### Create a plotting function\n",
        "\n",
        "typing plotting code is tedious, let's functionize it"
      ],
      "metadata": {
        "id": "I3lDZANJOG4F"
      }
    },
    {
      "cell_type": "code",
      "source": [
        "#create a function to plot time series data\n",
        "def plot_time_series(timesteps, values, format=\".\", start=0, end=None, label=None):\n",
        "  \"\"\"\n",
        "  Plots timesteps (a series of points in time) against values\n",
        "\n",
        "  Parameters\n",
        "  -------------\n",
        "  timesteps : array of timestep values\n",
        "  values : array of values across time\n",
        "  format : style of plot, default \".\"\n",
        "  start : where to start the plot (setting a value will index from start of timesteps)\n",
        "  end : where to end the plot (similar to start but for the end)\n",
        "  label : label to show on plot about values\n",
        "  \"\"\"\n",
        "  #plot the series\n",
        "  plt.plot(timesteps[start:end], values[start:end], format, label=label)\n",
        "  plt.xlabel(\"Time\")\n",
        "  plt.ylabel(\"BTC Price\")\n",
        "  if label:\n",
        "    plt.legend(fontsize=14) #make label bigger\n",
        "  plt.grid(True)\n",
        "\n",
        "\n"
      ],
      "metadata": {
        "id": "yreoLq3COy-6"
      },
      "execution_count": 15,
      "outputs": []
    },
    {
      "cell_type": "code",
      "source": [
        "#test our plotting function\n",
        "plot_time_series(timesteps=X_train, values=y_train, label=\"Train data\")\n",
        "plot_time_series(timesteps=X_test, values=y_test, label=\"Test data\")"
      ],
      "metadata": {
        "colab": {
          "base_uri": "https://localhost:8080/",
          "height": 278
        },
        "id": "dE05-CIwQMbz",
        "outputId": "98cc6df3-e9b2-43ed-e8b6-b81ea3826613"
      },
      "execution_count": 16,
      "outputs": [
        {
          "output_type": "display_data",
          "data": {
            "text/plain": [
              "<Figure size 432x288 with 1 Axes>"
            ],
            "image/png": "[encoded data removed]"
          },
          "metadata": {
            "needs_background": "light"
          }
        }
      ]
    },
    {
      "cell_type": "markdown",
      "source": [
        "## Modelling Experiments\n",
        "\n",
        "we got somme Bitcoin historical data to model it, let's run a series of modelling experiments and see which model performs best.\n",
        "\n",
        "Terms to be familiar with:\n",
        "* **Horizon** = number of timesteps into the future we are going to predict\n",
        "* **Window size** = number of timesteps we are going to use to predict **horizon**\n",
        "\n",
        "Modelling experiments we are running:\n",
        "* 0 naive model (baseline) NA NA NA\n",
        "* 1 Dense mode, horizon =1, window =7\n",
        "* 2 Same as 1, horizon = 1, window =  30 \n",
        "* 3 Same as 1, horizon = 7, window = 30\n",
        "* 4 Conv1D 1 7 NA\n",
        "* 5 LSTM 1 7 NA\n",
        "* 6 Same as 1 (but with multivariate data) 1 7 Block reward test_size* 7 N-BEATs Algorithm 1 7 NA\n",
        "* 8 Ensemble (multiple models optimized on different loss functions) 1 7 NA\n",
        "* 9 Future prediction model (model to predict future values)\n",
        "* 10 Same as 1 (but with turkey data introduced) 1 7 NA"
      ],
      "metadata": {
        "id": "0AH9mu2jQeF-"
      }
    },
    {
      "cell_type": "markdown",
      "source": [
        "## Model 0: Naive forecast (baseline)\n",
        "\n",
        "The formula looks like this:\n",
        "\n",
        "$$\\hat{y}_{t} = y_{t-1}$$\n",
        "\n",
        "In english:\n",
        "\n",
        "> The prediction at timestep t (y-hat) is equal to the value at timestep t-1 (previous timestep)-this is for horizon"
      ],
      "metadata": {
        "id": "oI4UVhfztab2"
      }
    },
    {
      "cell_type": "code",
      "source": [
        "# create a naive forecast\n",
        "naive_forecast = y_test[:-1]\n",
        "\n",
        "naive_forecast[:10], naive_forecast[-10:]"
      ],
      "metadata": {
        "colab": {
          "base_uri": "https://localhost:8080/"
        },
        "id": "t1LqXwLevAZ4",
        "outputId": "ab17e53a-6892-4a92-adcf-daec3b3c13ca"
      },
      "execution_count": 17,
      "outputs": [
        {
          "output_type": "execute_result",
          "data": {
            "text/plain": [
              "(array([9226.48582088, 8794.35864452, 8798.04205463, 9081.18687849,\n",
              "        8711.53433917, 8760.89271814, 8749.52059102, 8656.97092235,\n",
              "        8500.64355816, 8469.2608989 ]),\n",
              " array([57107.12067189, 58788.20967893, 58102.19142623, 55715.54665129,\n",
              "        56573.5554719 , 52147.82118698, 49764.1320816 , 50032.69313676,\n",
              "        47885.62525472, 45604.61575361]))"
            ]
          },
          "metadata": {},
          "execution_count": 17
        }
      ]
    },
    {
      "cell_type": "code",
      "source": [
        "y_test[-10:]"
      ],
      "metadata": {
        "colab": {
          "base_uri": "https://localhost:8080/"
        },
        "id": "NVbtMrrJvLsR",
        "outputId": "ddd3b726-619d-45a5-c9f1-baaedc212248"
      },
      "execution_count": 18,
      "outputs": [
        {
          "output_type": "execute_result",
          "data": {
            "text/plain": [
              "array([58788.20967893, 58102.19142623, 55715.54665129, 56573.5554719 ,\n",
              "       52147.82118698, 49764.1320816 , 50032.69313676, 47885.62525472,\n",
              "       45604.61575361, 43144.47129086])"
            ]
          },
          "metadata": {},
          "execution_count": 18
        }
      ]
    },
    {
      "cell_type": "code",
      "source": [
        "#plot naive forecast\n",
        "plt.figure(figsize=(10,7))\n",
        "#plot_time_series(timesteps=X_train, values=y_train, label=\"Train data\")\n",
        "plot_time_series(timesteps=X_test, values=y_test, start=300, label=\"Test data\")\n",
        "plot_time_series(timesteps=X_test[1:], values=naive_forecast,format=\"-\", start=300, label=\"Naive forecast\")"
      ],
      "metadata": {
        "colab": {
          "base_uri": "https://localhost:8080/",
          "height": 442
        },
        "id": "LN3RqMFTvOe8",
        "outputId": "830eff3c-d511-4480-d137-02eeb186b733"
      },
      "execution_count": 19,
      "outputs": [
        {
          "output_type": "display_data",
          "data": {
            "text/plain": [
              "<Figure size 720x504 with 1 Axes>"
            ],
            "image/png": "[encoded data removed]"
          },
          "metadata": {
            "needs_background": "light"
          }
        }
      ]
    },
    {
      "cell_type": "markdown",
      "source": [
        "## Evaluating a time series model\n",
        "\n",
        "Let's look into some evaluating metrics for time series forecasting.\n",
        "\n",
        "What are we doing?\n",
        "\n",
        "We are predicting a number, so that means we have a form of a regression problem.\n",
        "\n",
        "Because we are working on a regression problem, we will need some regression-like metrics.\n",
        "\n",
        "A few common regression metrics (which can also be used for time series forecast):\n",
        "* MAE - mean absolute error\n",
        "* MSE - mean squared error\n",
        "\n",
        "For all of above metrics, the lower is the better. for example, an MAE of 0 is better than an MAE of 100.\n",
        "\n",
        "The main thing we are evalauting here is: how do our model's forecast (y_pred) compare against the actual values (y_true or groun_truth values)?\n",
        "\n",
        "refence: https://otexts.com/fpp2/"
      ],
      "metadata": {
        "id": "rJ0XoYJPv7AH"
      }
    },
    {
      "cell_type": "code",
      "source": [
        "import tensorflow as tf"
      ],
      "metadata": {
        "id": "kx_y-TpUyxOo"
      },
      "execution_count": 20,
      "outputs": []
    },
    {
      "cell_type": "code",
      "source": [
        "#MASE implementation\n",
        "def mean_absolute_scaled_error(y_true, y_pred):\n",
        "  \"\"\"\n",
        "  Implement MASE (assuming no seasonality of data).\n",
        "  \"\"\"\n",
        "  mae=tf.reduce_mean(tf.abs(y_true-y_pred))\n",
        "\n",
        "  #find MAE of naive forecast (no seasonality)\n",
        "  mae_naive_no_season = tf.reduce_mean(tf.abs(y_true[1:]-y_pred[:-1])) #our seasonality is 1 day (hence the shift of 1)\n",
        "  \n",
        "  return mae/mae_naive_no_season"
      ],
      "metadata": {
        "id": "_fslIN9vAcQY"
      },
      "execution_count": 23,
      "outputs": []
    },
    {
      "cell_type": "code",
      "source": [
        "mean_absolute_scaled_error(y_true=y_test[1:], y_pred=naive_forecast).numpy()"
      ],
      "metadata": {
        "colab": {
          "base_uri": "https://localhost:8080/"
        },
        "id": "vV76qCB4B-nN",
        "outputId": "cbf65ade-9ed1-4996-9bbb-e8caf69c6b26"
      },
      "execution_count": 24,
      "outputs": [
        {
          "output_type": "execute_result",
          "data": {
            "text/plain": [
              "0.6921240375097498"
            ]
          },
          "metadata": {},
          "execution_count": 24
        }
      ]
    },
    {
      "cell_type": "code",
      "source": [
        ""
      ],
      "metadata": {
        "id": "VV7rWZugCVZd"
      },
      "execution_count": null,
      "outputs": []
    }
  ]
}