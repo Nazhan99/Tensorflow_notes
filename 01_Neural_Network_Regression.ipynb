{
  "nbformat": 4,
  "nbformat_minor": 0,
  "metadata": {
    "colab": {
      "name": "01_Neural_Network_Regression.ipynb",
      "provenance": [],
      "collapsed_sections": [],
      "authorship_tag": "ABX9TyP/n5ed7Ry0wkBwne1GaYny",
      "include_colab_link": true
    },
    "kernelspec": {
      "name": "python3",
      "display_name": "Python 3"
    },
    "language_info": {
      "name": "python"
    }
  },
  "cells": [
    {
      "cell_type": "markdown",
      "metadata": {
        "id": "view-in-github",
        "colab_type": "text"
      },
      "source": [
        "<a href=\"https://colab.research.google.com/github/Nazhan99/Tensorflow_notes/blob/main/01_Neural_Network_Regression.ipynb\" target=\"_parent\"><img src=\"https://colab.research.google.com/assets/colab-badge.svg\" alt=\"Open In Colab\"/></a>"
      ]
    },
    {
      "cell_type": "markdown",
      "source": [
        "#Introduction to regression with neural network in tensorflow\n",
        "\n"
      ],
      "metadata": {
        "id": "fEmVG5ybXpGG"
      }
    },
    {
      "cell_type": "code",
      "source": [
        "#import tensorflow\n",
        "import tensorflow as tf\n",
        "print(tf.__version__)"
      ],
      "metadata": {
        "colab": {
          "base_uri": "https://localhost:8080/"
        },
        "id": "qvrU_a1vXy2p",
        "outputId": "23d9c2e3-d7a3-40c7-a07b-3f0da81df14e"
      },
      "execution_count": 1,
      "outputs": [
        {
          "output_type": "stream",
          "name": "stdout",
          "text": [
            "2.7.0\n"
          ]
        }
      ]
    },
    {
      "cell_type": "code",
      "source": [
        "##Create data to view and fit"
      ],
      "metadata": {
        "id": "1j0pVpu-X_L0"
      },
      "execution_count": 2,
      "outputs": []
    },
    {
      "cell_type": "code",
      "source": [
        "import numpy as np\n",
        "import matplotlib.pyplot as plt\n",
        "\n",
        "#create features\n",
        "X= np.array([-7.0, -4.0, -1.0, 2.0, 5.0, 8.0, 11.0, 14.0])\n",
        "y= np.array([3.0, 6.0, 9.0, 12.0, 15.0, 18.0, 21.0, 24.0])\n",
        "\n",
        "#visualize it\n",
        "plt.scatter(X,y)"
      ],
      "metadata": {
        "colab": {
          "base_uri": "https://localhost:8080/",
          "height": 286
        },
        "id": "7ESM2Dx4YHy8",
        "outputId": "25b7eac0-759e-4e44-aa10-2c82a5d60243"
      },
      "execution_count": 3,
      "outputs": [
        {
          "output_type": "execute_result",
          "data": {
            "text/plain": [
              "<matplotlib.collections.PathCollection at 0x7fb5236062d0>"
            ]
          },
          "metadata": {},
          "execution_count": 3
        },
        {
          "output_type": "display_data",
          "data": {
            "image/png": "[encoded data removed]",
            "text/plain": [
              "<Figure size 432x288 with 1 Axes>"
            ]
          },
          "metadata": {
            "needs_background": "light"
          }
        }
      ]
    },
    {
      "cell_type": "code",
      "source": [
        "y== X+10"
      ],
      "metadata": {
        "colab": {
          "base_uri": "https://localhost:8080/"
        },
        "id": "ttXw_fE9Yxs4",
        "outputId": "45638836-ef86-43d4-ea06-3102d73b4574"
      },
      "execution_count": 4,
      "outputs": [
        {
          "output_type": "execute_result",
          "data": {
            "text/plain": [
              "array([ True,  True,  True,  True,  True,  True,  True,  True])"
            ]
          },
          "metadata": {},
          "execution_count": 4
        }
      ]
    },
    {
      "cell_type": "markdown",
      "source": [
        "###input and output shapes"
      ],
      "metadata": {
        "id": "wm6DwJozZLFc"
      }
    },
    {
      "cell_type": "code",
      "source": [
        "#create a demo  tensor for our housing price prediction problem\n",
        "house_info= tf.constant([\"bedroom\", 'bathroom', 'garage'])\n",
        "house_price= tf.constant([939700])\n",
        "house_info, house_price\n"
      ],
      "metadata": {
        "colab": {
          "base_uri": "https://localhost:8080/"
        },
        "id": "OJYreaEoY5ac",
        "outputId": "2aa9ea06-296d-4af1-fcac-1905e265f7c3"
      },
      "execution_count": 5,
      "outputs": [
        {
          "output_type": "execute_result",
          "data": {
            "text/plain": [
              "(<tf.Tensor: shape=(3,), dtype=string, numpy=array([b'bedroom', b'bathroom', b'garage'], dtype=object)>,\n",
              " <tf.Tensor: shape=(1,), dtype=int32, numpy=array([939700], dtype=int32)>)"
            ]
          },
          "metadata": {},
          "execution_count": 5
        }
      ]
    },
    {
      "cell_type": "code",
      "source": [
        "input_shape=X.shape\n",
        "output_shape=y.shape\n",
        "input_shape, output_shape"
      ],
      "metadata": {
        "colab": {
          "base_uri": "https://localhost:8080/"
        },
        "id": "-Uzs3KsJZVjx",
        "outputId": "ad81bd6d-56d6-4748-8265-2ea747aed62d"
      },
      "execution_count": 6,
      "outputs": [
        {
          "output_type": "execute_result",
          "data": {
            "text/plain": [
              "((8,), (8,))"
            ]
          },
          "metadata": {},
          "execution_count": 6
        }
      ]
    },
    {
      "cell_type": "code",
      "source": [
        "X[0].ndim"
      ],
      "metadata": {
        "colab": {
          "base_uri": "https://localhost:8080/"
        },
        "id": "5AY5Xy-MZ0V4",
        "outputId": "2f75c545-697e-4930-f00f-1e2f5fb34400"
      },
      "execution_count": 7,
      "outputs": [
        {
          "output_type": "execute_result",
          "data": {
            "text/plain": [
              "0"
            ]
          },
          "metadata": {},
          "execution_count": 7
        }
      ]
    },
    {
      "cell_type": "code",
      "source": [
        "X[0], y[0]"
      ],
      "metadata": {
        "colab": {
          "base_uri": "https://localhost:8080/"
        },
        "id": "KtvKM1L0aEb2",
        "outputId": "ef37a4d0-7543-47a0-823f-6b6f007f137d"
      },
      "execution_count": 8,
      "outputs": [
        {
          "output_type": "execute_result",
          "data": {
            "text/plain": [
              "(-7.0, 3.0)"
            ]
          },
          "metadata": {},
          "execution_count": 8
        }
      ]
    },
    {
      "cell_type": "code",
      "source": [
        "#turn numpy array to tensor\n",
        "X=tf.constant(X)\n",
        "y=tf.constant(y)\n",
        "X, y"
      ],
      "metadata": {
        "colab": {
          "base_uri": "https://localhost:8080/"
        },
        "id": "PfaoLz7naHRl",
        "outputId": "40b41136-abd7-49bd-95c8-a7a4c550556e"
      },
      "execution_count": 9,
      "outputs": [
        {
          "output_type": "execute_result",
          "data": {
            "text/plain": [
              "(<tf.Tensor: shape=(8,), dtype=float64, numpy=array([-7., -4., -1.,  2.,  5.,  8., 11., 14.])>,\n",
              " <tf.Tensor: shape=(8,), dtype=float64, numpy=array([ 3.,  6.,  9., 12., 15., 18., 21., 24.])>)"
            ]
          },
          "metadata": {},
          "execution_count": 9
        }
      ]
    },
    {
      "cell_type": "code",
      "source": [
        "input_shape= X[0].shape\n",
        "output_shape= y[0].shape\n",
        "input_shape, output_shape"
      ],
      "metadata": {
        "colab": {
          "base_uri": "https://localhost:8080/"
        },
        "id": "8A-3cRcAa5PE",
        "outputId": "1ec70faa-3bf4-47b3-8e9c-81e47b19cd9d"
      },
      "execution_count": 10,
      "outputs": [
        {
          "output_type": "execute_result",
          "data": {
            "text/plain": [
              "(TensorShape([]), TensorShape([]))"
            ]
          },
          "metadata": {},
          "execution_count": 10
        }
      ]
    },
    {
      "cell_type": "markdown",
      "source": [
        "###Steps in modelling with tensorflow\n",
        "\n",
        "1. Create a model (define input and output)\n",
        "2. compiling model (loss function and optimize)\n",
        "3.  fitting the model (predict the output)"
      ],
      "metadata": {
        "id": "RfFM8IL8bEhS"
      }
    },
    {
      "cell_type": "code",
      "source": [
        "#set random seed\n",
        "tf.random.set_seed(42)\n",
        "\n",
        "#1.create a model using the sequential API\n",
        "model=tf.keras.Sequential([\n",
        "  tf.keras.layers.Dense(1)\n",
        "])\n",
        "\n",
        "#2. compile the model\n",
        "model.compile(loss=tf.keras.losses.mae,\n",
        "              optimizer=tf.keras.optimizers.SGD(), #Stocastic gradient descent\n",
        "              metrics=[\"mae\"])\n",
        "\n",
        "#3. fit the model\n",
        "model.fit(tf.expand_dims(X, axis=-1),y, epochs=5)"
      ],
      "metadata": {
        "colab": {
          "base_uri": "https://localhost:8080/"
        },
        "id": "Caej5IsDbiph",
        "outputId": "8419925e-cc1e-4ce8-bcc8-ab4c9d38aa46"
      },
      "execution_count": 11,
      "outputs": [
        {
          "output_type": "stream",
          "name": "stdout",
          "text": [
            "Epoch 1/5\n",
            "1/1 [==============================] - 1s 509ms/step - loss: 11.5048 - mae: 11.5048\n",
            "Epoch 2/5\n",
            "1/1 [==============================] - 0s 5ms/step - loss: 11.3723 - mae: 11.3723\n",
            "Epoch 3/5\n",
            "1/1 [==============================] - 0s 7ms/step - loss: 11.2398 - mae: 11.2398\n",
            "Epoch 4/5\n",
            "1/1 [==============================] - 0s 6ms/step - loss: 11.1073 - mae: 11.1073\n",
            "Epoch 5/5\n",
            "1/1 [==============================] - 0s 4ms/step - loss: 10.9748 - mae: 10.9748\n"
          ]
        },
        {
          "output_type": "execute_result",
          "data": {
            "text/plain": [
              "<keras.callbacks.History at 0x7fb51efe4e90>"
            ]
          },
          "metadata": {},
          "execution_count": 11
        }
      ]
    },
    {
      "cell_type": "code",
      "source": [
        "#try and make a predictioons using our model\n",
        "y_pred=model.predict([17.0])\n",
        "y_pred"
      ],
      "metadata": {
        "colab": {
          "base_uri": "https://localhost:8080/"
        },
        "id": "fHVU4-Kcd-dm",
        "outputId": "54ad5fac-559b-49f3-f8dc-cad92a04017b"
      },
      "execution_count": 12,
      "outputs": [
        {
          "output_type": "execute_result",
          "data": {
            "text/plain": [
              "array([[12.716021]], dtype=float32)"
            ]
          },
          "metadata": {},
          "execution_count": 12
        }
      ]
    },
    {
      "cell_type": "markdown",
      "source": [
        "###improving the model\n"
      ],
      "metadata": {
        "id": "lV5BJcwvfS_h"
      }
    },
    {
      "cell_type": "code",
      "source": [
        "#lets rebuild our model\n",
        "\n",
        "#1.create the model\n",
        "model= tf.keras.Sequential([\n",
        "                            tf.keras.layers.Dense(1)\n",
        "])\n",
        "\n",
        "#2. compiling the model\n",
        "model.compile(loss=tf.keras.losses.mae,\n",
        "              optimizer=tf.keras.optimizers.SGD(),\n",
        "              metrics=[\"mae\"])\n",
        "\n",
        "#3. fit the model\n",
        "model.fit(tf.expand_dims(X, axis=-1), y, epochs=100)"
      ],
      "metadata": {
        "colab": {
          "base_uri": "https://localhost:8080/"
        },
        "id": "4jqq6BUCgY-Y",
        "outputId": "8120b66d-5880-483b-9da8-9fc8a82ae592"
      },
      "execution_count": 13,
      "outputs": [
        {
          "output_type": "stream",
          "name": "stdout",
          "text": [
            "Epoch 1/100\n",
            "1/1 [==============================] - 0s 290ms/step - loss: 11.2219 - mae: 11.2219\n",
            "Epoch 2/100\n",
            "1/1 [==============================] - 0s 4ms/step - loss: 11.0894 - mae: 11.0894\n",
            "Epoch 3/100\n",
            "1/1 [==============================] - 0s 12ms/step - loss: 10.9569 - mae: 10.9569\n",
            "Epoch 4/100\n",
            "1/1 [==============================] - 0s 5ms/step - loss: 10.8244 - mae: 10.8244\n",
            "Epoch 5/100\n",
            "1/1 [==============================] - 0s 8ms/step - loss: 10.6919 - mae: 10.6919\n",
            "Epoch 6/100\n",
            "1/1 [==============================] - 0s 7ms/step - loss: 10.5594 - mae: 10.5594\n",
            "Epoch 7/100\n",
            "1/1 [==============================] - 0s 6ms/step - loss: 10.4269 - mae: 10.4269\n",
            "Epoch 8/100\n",
            "1/1 [==============================] - 0s 11ms/step - loss: 10.2944 - mae: 10.2944\n",
            "Epoch 9/100\n",
            "1/1 [==============================] - 0s 7ms/step - loss: 10.1619 - mae: 10.1619\n",
            "Epoch 10/100\n",
            "1/1 [==============================] - 0s 8ms/step - loss: 10.0294 - mae: 10.0294\n",
            "Epoch 11/100\n",
            "1/1 [==============================] - 0s 5ms/step - loss: 9.8969 - mae: 9.8969\n",
            "Epoch 12/100\n",
            "1/1 [==============================] - 0s 5ms/step - loss: 9.7644 - mae: 9.7644\n",
            "Epoch 13/100\n",
            "1/1 [==============================] - 0s 9ms/step - loss: 9.6319 - mae: 9.6319\n",
            "Epoch 14/100\n",
            "1/1 [==============================] - 0s 8ms/step - loss: 9.4994 - mae: 9.4994\n",
            "Epoch 15/100\n",
            "1/1 [==============================] - 0s 7ms/step - loss: 9.3669 - mae: 9.3669\n",
            "Epoch 16/100\n",
            "1/1 [==============================] - 0s 7ms/step - loss: 9.2344 - mae: 9.2344\n",
            "Epoch 17/100\n",
            "1/1 [==============================] - 0s 6ms/step - loss: 9.1019 - mae: 9.1019\n",
            "Epoch 18/100\n",
            "1/1 [==============================] - 0s 7ms/step - loss: 8.9694 - mae: 8.9694\n",
            "Epoch 19/100\n",
            "1/1 [==============================] - 0s 7ms/step - loss: 8.8369 - mae: 8.8369\n",
            "Epoch 20/100\n",
            "1/1 [==============================] - 0s 10ms/step - loss: 8.7044 - mae: 8.7044\n",
            "Epoch 21/100\n",
            "1/1 [==============================] - 0s 7ms/step - loss: 8.5719 - mae: 8.5719\n",
            "Epoch 22/100\n",
            "1/1 [==============================] - 0s 7ms/step - loss: 8.4394 - mae: 8.4394\n",
            "Epoch 23/100\n",
            "1/1 [==============================] - 0s 5ms/step - loss: 8.3069 - mae: 8.3069\n",
            "Epoch 24/100\n",
            "1/1 [==============================] - 0s 6ms/step - loss: 8.1744 - mae: 8.1744\n",
            "Epoch 25/100\n",
            "1/1 [==============================] - 0s 5ms/step - loss: 8.0419 - mae: 8.0419\n",
            "Epoch 26/100\n",
            "1/1 [==============================] - 0s 10ms/step - loss: 7.9094 - mae: 7.9094\n",
            "Epoch 27/100\n",
            "1/1 [==============================] - 0s 5ms/step - loss: 7.7769 - mae: 7.7769\n",
            "Epoch 28/100\n",
            "1/1 [==============================] - 0s 4ms/step - loss: 7.6444 - mae: 7.6444\n",
            "Epoch 29/100\n",
            "1/1 [==============================] - 0s 4ms/step - loss: 7.5119 - mae: 7.5119\n",
            "Epoch 30/100\n",
            "1/1 [==============================] - 0s 7ms/step - loss: 7.3794 - mae: 7.3794\n",
            "Epoch 31/100\n",
            "1/1 [==============================] - 0s 6ms/step - loss: 7.2750 - mae: 7.2750\n",
            "Epoch 32/100\n",
            "1/1 [==============================] - 0s 5ms/step - loss: 7.2694 - mae: 7.2694\n",
            "Epoch 33/100\n",
            "1/1 [==============================] - 0s 8ms/step - loss: 7.2638 - mae: 7.2638\n",
            "Epoch 34/100\n",
            "1/1 [==============================] - 0s 4ms/step - loss: 7.2581 - mae: 7.2581\n",
            "Epoch 35/100\n",
            "1/1 [==============================] - 0s 5ms/step - loss: 7.2525 - mae: 7.2525\n",
            "Epoch 36/100\n",
            "1/1 [==============================] - 0s 9ms/step - loss: 7.2469 - mae: 7.2469\n",
            "Epoch 37/100\n",
            "1/1 [==============================] - 0s 5ms/step - loss: 7.2412 - mae: 7.2412\n",
            "Epoch 38/100\n",
            "1/1 [==============================] - 0s 5ms/step - loss: 7.2356 - mae: 7.2356\n",
            "Epoch 39/100\n",
            "1/1 [==============================] - 0s 8ms/step - loss: 7.2300 - mae: 7.2300\n",
            "Epoch 40/100\n",
            "1/1 [==============================] - 0s 7ms/step - loss: 7.2244 - mae: 7.2244\n",
            "Epoch 41/100\n",
            "1/1 [==============================] - 0s 4ms/step - loss: 7.2188 - mae: 7.2188\n",
            "Epoch 42/100\n",
            "1/1 [==============================] - 0s 7ms/step - loss: 7.2131 - mae: 7.2131\n",
            "Epoch 43/100\n",
            "1/1 [==============================] - 0s 4ms/step - loss: 7.2075 - mae: 7.2075\n",
            "Epoch 44/100\n",
            "1/1 [==============================] - 0s 12ms/step - loss: 7.2019 - mae: 7.2019\n",
            "Epoch 45/100\n",
            "1/1 [==============================] - 0s 11ms/step - loss: 7.1962 - mae: 7.1962\n",
            "Epoch 46/100\n",
            "1/1 [==============================] - 0s 7ms/step - loss: 7.1906 - mae: 7.1906\n",
            "Epoch 47/100\n",
            "1/1 [==============================] - 0s 8ms/step - loss: 7.1850 - mae: 7.1850\n",
            "Epoch 48/100\n",
            "1/1 [==============================] - 0s 8ms/step - loss: 7.1794 - mae: 7.1794\n",
            "Epoch 49/100\n",
            "1/1 [==============================] - 0s 9ms/step - loss: 7.1737 - mae: 7.1737\n",
            "Epoch 50/100\n",
            "1/1 [==============================] - 0s 8ms/step - loss: 7.1681 - mae: 7.1681\n",
            "Epoch 51/100\n",
            "1/1 [==============================] - 0s 8ms/step - loss: 7.1625 - mae: 7.1625\n",
            "Epoch 52/100\n",
            "1/1 [==============================] - 0s 8ms/step - loss: 7.1569 - mae: 7.1569\n",
            "Epoch 53/100\n",
            "1/1 [==============================] - 0s 8ms/step - loss: 7.1512 - mae: 7.1512\n",
            "Epoch 54/100\n",
            "1/1 [==============================] - 0s 7ms/step - loss: 7.1456 - mae: 7.1456\n",
            "Epoch 55/100\n",
            "1/1 [==============================] - 0s 12ms/step - loss: 7.1400 - mae: 7.1400\n",
            "Epoch 56/100\n",
            "1/1 [==============================] - 0s 8ms/step - loss: 7.1344 - mae: 7.1344\n",
            "Epoch 57/100\n",
            "1/1 [==============================] - 0s 10ms/step - loss: 7.1287 - mae: 7.1287\n",
            "Epoch 58/100\n",
            "1/1 [==============================] - 0s 9ms/step - loss: 7.1231 - mae: 7.1231\n",
            "Epoch 59/100\n",
            "1/1 [==============================] - 0s 5ms/step - loss: 7.1175 - mae: 7.1175\n",
            "Epoch 60/100\n",
            "1/1 [==============================] - 0s 12ms/step - loss: 7.1119 - mae: 7.1119\n",
            "Epoch 61/100\n",
            "1/1 [==============================] - 0s 11ms/step - loss: 7.1062 - mae: 7.1062\n",
            "Epoch 62/100\n",
            "1/1 [==============================] - 0s 10ms/step - loss: 7.1006 - mae: 7.1006\n",
            "Epoch 63/100\n",
            "1/1 [==============================] - 0s 12ms/step - loss: 7.0950 - mae: 7.0950\n",
            "Epoch 64/100\n",
            "1/1 [==============================] - 0s 13ms/step - loss: 7.0894 - mae: 7.0894\n",
            "Epoch 65/100\n",
            "1/1 [==============================] - 0s 16ms/step - loss: 7.0838 - mae: 7.0838\n",
            "Epoch 66/100\n",
            "1/1 [==============================] - 0s 16ms/step - loss: 7.0781 - mae: 7.0781\n",
            "Epoch 67/100\n",
            "1/1 [==============================] - 0s 5ms/step - loss: 7.0725 - mae: 7.0725\n",
            "Epoch 68/100\n",
            "1/1 [==============================] - 0s 6ms/step - loss: 7.0669 - mae: 7.0669\n",
            "Epoch 69/100\n",
            "1/1 [==============================] - 0s 8ms/step - loss: 7.0613 - mae: 7.0613\n",
            "Epoch 70/100\n",
            "1/1 [==============================] - 0s 8ms/step - loss: 7.0556 - mae: 7.0556\n",
            "Epoch 71/100\n",
            "1/1 [==============================] - 0s 13ms/step - loss: 7.0500 - mae: 7.0500\n",
            "Epoch 72/100\n",
            "1/1 [==============================] - 0s 7ms/step - loss: 7.0444 - mae: 7.0444\n",
            "Epoch 73/100\n",
            "1/1 [==============================] - 0s 5ms/step - loss: 7.0388 - mae: 7.0388\n",
            "Epoch 74/100\n",
            "1/1 [==============================] - 0s 5ms/step - loss: 7.0331 - mae: 7.0331\n",
            "Epoch 75/100\n",
            "1/1 [==============================] - 0s 7ms/step - loss: 7.0275 - mae: 7.0275\n",
            "Epoch 76/100\n",
            "1/1 [==============================] - 0s 4ms/step - loss: 7.0219 - mae: 7.0219\n",
            "Epoch 77/100\n",
            "1/1 [==============================] - 0s 4ms/step - loss: 7.0163 - mae: 7.0163\n",
            "Epoch 78/100\n",
            "1/1 [==============================] - 0s 4ms/step - loss: 7.0106 - mae: 7.0106\n",
            "Epoch 79/100\n",
            "1/1 [==============================] - 0s 9ms/step - loss: 7.0050 - mae: 7.0050\n",
            "Epoch 80/100\n",
            "1/1 [==============================] - 0s 8ms/step - loss: 6.9994 - mae: 6.9994\n",
            "Epoch 81/100\n",
            "1/1 [==============================] - 0s 8ms/step - loss: 6.9938 - mae: 6.9938\n",
            "Epoch 82/100\n",
            "1/1 [==============================] - 0s 8ms/step - loss: 6.9881 - mae: 6.9881\n",
            "Epoch 83/100\n",
            "1/1 [==============================] - 0s 7ms/step - loss: 6.9825 - mae: 6.9825\n",
            "Epoch 84/100\n",
            "1/1 [==============================] - 0s 9ms/step - loss: 6.9769 - mae: 6.9769\n",
            "Epoch 85/100\n",
            "1/1 [==============================] - 0s 9ms/step - loss: 6.9713 - mae: 6.9713\n",
            "Epoch 86/100\n",
            "1/1 [==============================] - 0s 9ms/step - loss: 6.9656 - mae: 6.9656\n",
            "Epoch 87/100\n",
            "1/1 [==============================] - 0s 7ms/step - loss: 6.9600 - mae: 6.9600\n",
            "Epoch 88/100\n",
            "1/1 [==============================] - 0s 10ms/step - loss: 6.9544 - mae: 6.9544\n",
            "Epoch 89/100\n",
            "1/1 [==============================] - 0s 8ms/step - loss: 6.9488 - mae: 6.9488\n",
            "Epoch 90/100\n",
            "1/1 [==============================] - 0s 7ms/step - loss: 6.9431 - mae: 6.9431\n",
            "Epoch 91/100\n",
            "1/1 [==============================] - 0s 6ms/step - loss: 6.9375 - mae: 6.9375\n",
            "Epoch 92/100\n",
            "1/1 [==============================] - 0s 10ms/step - loss: 6.9319 - mae: 6.9319\n",
            "Epoch 93/100\n",
            "1/1 [==============================] - 0s 18ms/step - loss: 6.9263 - mae: 6.9263\n",
            "Epoch 94/100\n",
            "1/1 [==============================] - 0s 12ms/step - loss: 6.9206 - mae: 6.9206\n",
            "Epoch 95/100\n",
            "1/1 [==============================] - 0s 8ms/step - loss: 6.9150 - mae: 6.9150\n",
            "Epoch 96/100\n",
            "1/1 [==============================] - 0s 12ms/step - loss: 6.9094 - mae: 6.9094\n",
            "Epoch 97/100\n",
            "1/1 [==============================] - 0s 14ms/step - loss: 6.9038 - mae: 6.9038\n",
            "Epoch 98/100\n",
            "1/1 [==============================] - 0s 10ms/step - loss: 6.8981 - mae: 6.8981\n",
            "Epoch 99/100\n",
            "1/1 [==============================] - 0s 20ms/step - loss: 6.8925 - mae: 6.8925\n",
            "Epoch 100/100\n",
            "1/1 [==============================] - 0s 14ms/step - loss: 6.8869 - mae: 6.8869\n"
          ]
        },
        {
          "output_type": "execute_result",
          "data": {
            "text/plain": [
              "<keras.callbacks.History at 0x7fb51ef2d990>"
            ]
          },
          "metadata": {},
          "execution_count": 13
        }
      ]
    },
    {
      "cell_type": "code",
      "source": [
        "#try and make a predictioons using our model\n",
        "y_pred=model.predict([17.0])\n",
        "y_pred"
      ],
      "metadata": {
        "colab": {
          "base_uri": "https://localhost:8080/"
        },
        "id": "8LfDfRyWibEI",
        "outputId": "0f12c8e4-526e-47f5-ee7c-2f7991470008"
      },
      "execution_count": 14,
      "outputs": [
        {
          "output_type": "execute_result",
          "data": {
            "text/plain": [
              "array([[29.739855]], dtype=float32)"
            ]
          },
          "metadata": {},
          "execution_count": 14
        }
      ]
    },
    {
      "cell_type": "code",
      "source": [
        "#create the model (with extra hidden layer)\n",
        "model= tf.keras.Sequential([\n",
        "  tf.keras.layers.Dense(50, activation=None),\n",
        "  tf.keras.layers.Dense(1)\n",
        "])\n",
        "\n",
        "#2. compiling the model\n",
        "model.compile(loss=\"mae\",\n",
        "              optimizer=tf.keras.optimizers.Adam(lr=0.01),\n",
        "              metrics=[\"mae\"])\n",
        "\n",
        "#3. fit the model\n",
        "model.fit(tf.expand_dims(X, axis=-1), y, epochs=100)"
      ],
      "metadata": {
        "id": "uxLu8IUnivBC",
        "colab": {
          "base_uri": "https://localhost:8080/"
        },
        "outputId": "34cbc9f9-f445-461f-a35f-7173e2964b0a"
      },
      "execution_count": 15,
      "outputs": [
        {
          "output_type": "stream",
          "name": "stderr",
          "text": [
            "/usr/local/lib/python3.7/dist-packages/keras/optimizer_v2/adam.py:105: UserWarning: The `lr` argument is deprecated, use `learning_rate` instead.\n",
            "  super(Adam, self).__init__(name, **kwargs)\n"
          ]
        },
        {
          "output_type": "stream",
          "name": "stdout",
          "text": [
            "Epoch 1/100\n",
            "1/1 [==============================] - 1s 699ms/step - loss: 11.7682 - mae: 11.7682\n",
            "Epoch 2/100\n",
            "1/1 [==============================] - 0s 6ms/step - loss: 11.0963 - mae: 11.0963\n",
            "Epoch 3/100\n",
            "1/1 [==============================] - 0s 6ms/step - loss: 10.4150 - mae: 10.4150\n",
            "Epoch 4/100\n",
            "1/1 [==============================] - 0s 28ms/step - loss: 9.7212 - mae: 9.7212\n",
            "Epoch 5/100\n",
            "1/1 [==============================] - 0s 32ms/step - loss: 9.0104 - mae: 9.0104\n",
            "Epoch 6/100\n",
            "1/1 [==============================] - 0s 17ms/step - loss: 8.2778 - mae: 8.2778\n",
            "Epoch 7/100\n",
            "1/1 [==============================] - 0s 14ms/step - loss: 7.5198 - mae: 7.5198\n",
            "Epoch 8/100\n",
            "1/1 [==============================] - 0s 8ms/step - loss: 6.9648 - mae: 6.9648\n",
            "Epoch 9/100\n",
            "1/1 [==============================] - 0s 7ms/step - loss: 7.0672 - mae: 7.0672\n",
            "Epoch 10/100\n",
            "1/1 [==============================] - 0s 19ms/step - loss: 7.3315 - mae: 7.3315\n",
            "Epoch 11/100\n",
            "1/1 [==============================] - 0s 14ms/step - loss: 7.4673 - mae: 7.4673\n",
            "Epoch 12/100\n",
            "1/1 [==============================] - 0s 19ms/step - loss: 7.5285 - mae: 7.5285\n",
            "Epoch 13/100\n",
            "1/1 [==============================] - 0s 9ms/step - loss: 7.4011 - mae: 7.4011\n",
            "Epoch 14/100\n",
            "1/1 [==============================] - 0s 14ms/step - loss: 7.1923 - mae: 7.1923\n",
            "Epoch 15/100\n",
            "1/1 [==============================] - 0s 22ms/step - loss: 6.9575 - mae: 6.9575\n",
            "Epoch 16/100\n",
            "1/1 [==============================] - 0s 8ms/step - loss: 6.6953 - mae: 6.6953\n",
            "Epoch 17/100\n",
            "1/1 [==============================] - 0s 6ms/step - loss: 6.4127 - mae: 6.4127\n",
            "Epoch 18/100\n",
            "1/1 [==============================] - 0s 6ms/step - loss: 6.3048 - mae: 6.3048\n",
            "Epoch 19/100\n",
            "1/1 [==============================] - 0s 9ms/step - loss: 6.2575 - mae: 6.2575\n",
            "Epoch 20/100\n",
            "1/1 [==============================] - 0s 9ms/step - loss: 6.3982 - mae: 6.3982\n",
            "Epoch 21/100\n",
            "1/1 [==============================] - 0s 15ms/step - loss: 6.4551 - mae: 6.4551\n",
            "Epoch 22/100\n",
            "1/1 [==============================] - 0s 17ms/step - loss: 6.4000 - mae: 6.4000\n",
            "Epoch 23/100\n",
            "1/1 [==============================] - 0s 9ms/step - loss: 6.2482 - mae: 6.2482\n",
            "Epoch 24/100\n",
            "1/1 [==============================] - 0s 7ms/step - loss: 6.0105 - mae: 6.0105\n",
            "Epoch 25/100\n",
            "1/1 [==============================] - 0s 8ms/step - loss: 5.7876 - mae: 5.7876\n",
            "Epoch 26/100\n",
            "1/1 [==============================] - 0s 8ms/step - loss: 5.6809 - mae: 5.6809\n",
            "Epoch 27/100\n",
            "1/1 [==============================] - 0s 13ms/step - loss: 5.5715 - mae: 5.5715\n",
            "Epoch 28/100\n",
            "1/1 [==============================] - 0s 11ms/step - loss: 5.6122 - mae: 5.6122\n",
            "Epoch 29/100\n",
            "1/1 [==============================] - 0s 38ms/step - loss: 5.6074 - mae: 5.6074\n",
            "Epoch 30/100\n",
            "1/1 [==============================] - 0s 20ms/step - loss: 5.5541 - mae: 5.5541\n",
            "Epoch 31/100\n",
            "1/1 [==============================] - 0s 10ms/step - loss: 5.4568 - mae: 5.4568\n",
            "Epoch 32/100\n",
            "1/1 [==============================] - 0s 12ms/step - loss: 5.3199 - mae: 5.3199\n",
            "Epoch 33/100\n",
            "1/1 [==============================] - 0s 13ms/step - loss: 5.1477 - mae: 5.1477\n",
            "Epoch 34/100\n",
            "1/1 [==============================] - 0s 18ms/step - loss: 4.9442 - mae: 4.9442\n",
            "Epoch 35/100\n",
            "1/1 [==============================] - 0s 51ms/step - loss: 4.8239 - mae: 4.8239\n",
            "Epoch 36/100\n",
            "1/1 [==============================] - 0s 27ms/step - loss: 4.7389 - mae: 4.7389\n",
            "Epoch 37/100\n",
            "1/1 [==============================] - 0s 15ms/step - loss: 4.6657 - mae: 4.6657\n",
            "Epoch 38/100\n",
            "1/1 [==============================] - 0s 12ms/step - loss: 4.5846 - mae: 4.5846\n",
            "Epoch 39/100\n",
            "1/1 [==============================] - 0s 12ms/step - loss: 4.4027 - mae: 4.4027\n",
            "Epoch 40/100\n",
            "1/1 [==============================] - 0s 10ms/step - loss: 4.2653 - mae: 4.2653\n",
            "Epoch 41/100\n",
            "1/1 [==============================] - 0s 13ms/step - loss: 4.1212 - mae: 4.1212\n",
            "Epoch 42/100\n",
            "1/1 [==============================] - 0s 9ms/step - loss: 3.9702 - mae: 3.9702\n",
            "Epoch 43/100\n",
            "1/1 [==============================] - 0s 6ms/step - loss: 3.8272 - mae: 3.8272\n",
            "Epoch 44/100\n",
            "1/1 [==============================] - 0s 10ms/step - loss: 3.7041 - mae: 3.7041\n",
            "Epoch 45/100\n",
            "1/1 [==============================] - 0s 5ms/step - loss: 3.5320 - mae: 3.5320\n",
            "Epoch 46/100\n",
            "1/1 [==============================] - 0s 7ms/step - loss: 3.3664 - mae: 3.3664\n",
            "Epoch 47/100\n",
            "1/1 [==============================] - 0s 17ms/step - loss: 3.2116 - mae: 3.2116\n",
            "Epoch 48/100\n",
            "1/1 [==============================] - 0s 7ms/step - loss: 3.0463 - mae: 3.0463\n",
            "Epoch 49/100\n",
            "1/1 [==============================] - 0s 12ms/step - loss: 2.8705 - mae: 2.8705\n",
            "Epoch 50/100\n",
            "1/1 [==============================] - 0s 18ms/step - loss: 2.6840 - mae: 2.6840\n",
            "Epoch 51/100\n",
            "1/1 [==============================] - 0s 20ms/step - loss: 2.4868 - mae: 2.4868\n",
            "Epoch 52/100\n",
            "1/1 [==============================] - 0s 11ms/step - loss: 2.2787 - mae: 2.2787\n",
            "Epoch 53/100\n",
            "1/1 [==============================] - 0s 20ms/step - loss: 2.0596 - mae: 2.0596\n",
            "Epoch 54/100\n",
            "1/1 [==============================] - 0s 13ms/step - loss: 1.8293 - mae: 1.8293\n",
            "Epoch 55/100\n",
            "1/1 [==============================] - 0s 17ms/step - loss: 1.5876 - mae: 1.5876\n",
            "Epoch 56/100\n",
            "1/1 [==============================] - 0s 25ms/step - loss: 1.3530 - mae: 1.3530\n",
            "Epoch 57/100\n",
            "1/1 [==============================] - 0s 8ms/step - loss: 1.0849 - mae: 1.0849\n",
            "Epoch 58/100\n",
            "1/1 [==============================] - 0s 5ms/step - loss: 0.8224 - mae: 0.8224\n",
            "Epoch 59/100\n",
            "1/1 [==============================] - 0s 7ms/step - loss: 0.5467 - mae: 0.5467\n",
            "Epoch 60/100\n",
            "1/1 [==============================] - 0s 8ms/step - loss: 0.2758 - mae: 0.2758\n",
            "Epoch 61/100\n",
            "1/1 [==============================] - 0s 5ms/step - loss: 0.1354 - mae: 0.1354\n",
            "Epoch 62/100\n",
            "1/1 [==============================] - 0s 9ms/step - loss: 0.4494 - mae: 0.4494\n",
            "Epoch 63/100\n",
            "1/1 [==============================] - 0s 10ms/step - loss: 0.6498 - mae: 0.6498\n",
            "Epoch 64/100\n",
            "1/1 [==============================] - 0s 6ms/step - loss: 0.6216 - mae: 0.6216\n",
            "Epoch 65/100\n",
            "1/1 [==============================] - 0s 7ms/step - loss: 0.8036 - mae: 0.8036\n",
            "Epoch 66/100\n",
            "1/1 [==============================] - 0s 8ms/step - loss: 0.7995 - mae: 0.7995\n",
            "Epoch 67/100\n",
            "1/1 [==============================] - 0s 9ms/step - loss: 0.7409 - mae: 0.7409\n",
            "Epoch 68/100\n",
            "1/1 [==============================] - 0s 12ms/step - loss: 0.7806 - mae: 0.7806\n",
            "Epoch 69/100\n",
            "1/1 [==============================] - 0s 25ms/step - loss: 0.6305 - mae: 0.6305\n",
            "Epoch 70/100\n",
            "1/1 [==============================] - 0s 7ms/step - loss: 0.5556 - mae: 0.5556\n",
            "Epoch 71/100\n",
            "1/1 [==============================] - 0s 18ms/step - loss: 0.4306 - mae: 0.4306\n",
            "Epoch 72/100\n",
            "1/1 [==============================] - 0s 21ms/step - loss: 0.2786 - mae: 0.2786\n",
            "Epoch 73/100\n",
            "1/1 [==============================] - 0s 18ms/step - loss: 0.1378 - mae: 0.1378\n",
            "Epoch 74/100\n",
            "1/1 [==============================] - 0s 15ms/step - loss: 0.1193 - mae: 0.1193\n",
            "Epoch 75/100\n",
            "1/1 [==============================] - 0s 8ms/step - loss: 0.2777 - mae: 0.2777\n",
            "Epoch 76/100\n",
            "1/1 [==============================] - 0s 17ms/step - loss: 0.3245 - mae: 0.3245\n",
            "Epoch 77/100\n",
            "1/1 [==============================] - 0s 24ms/step - loss: 0.4157 - mae: 0.4157\n",
            "Epoch 78/100\n",
            "1/1 [==============================] - 0s 14ms/step - loss: 0.4319 - mae: 0.4319\n",
            "Epoch 79/100\n",
            "1/1 [==============================] - 0s 14ms/step - loss: 0.3391 - mae: 0.3391\n",
            "Epoch 80/100\n",
            "1/1 [==============================] - 0s 17ms/step - loss: 0.2968 - mae: 0.2968\n",
            "Epoch 81/100\n",
            "1/1 [==============================] - 0s 15ms/step - loss: 0.2355 - mae: 0.2355\n",
            "Epoch 82/100\n",
            "1/1 [==============================] - 0s 19ms/step - loss: 0.1633 - mae: 0.1633\n",
            "Epoch 83/100\n",
            "1/1 [==============================] - 0s 15ms/step - loss: 0.1339 - mae: 0.1339\n",
            "Epoch 84/100\n",
            "1/1 [==============================] - 0s 21ms/step - loss: 0.1262 - mae: 0.1262\n",
            "Epoch 85/100\n",
            "1/1 [==============================] - 0s 16ms/step - loss: 0.1702 - mae: 0.1702\n",
            "Epoch 86/100\n",
            "1/1 [==============================] - 0s 10ms/step - loss: 0.2124 - mae: 0.2124\n",
            "Epoch 87/100\n",
            "1/1 [==============================] - 0s 15ms/step - loss: 0.2288 - mae: 0.2288\n",
            "Epoch 88/100\n",
            "1/1 [==============================] - 0s 16ms/step - loss: 0.1901 - mae: 0.1901\n",
            "Epoch 89/100\n",
            "1/1 [==============================] - 0s 19ms/step - loss: 0.1354 - mae: 0.1354\n",
            "Epoch 90/100\n",
            "1/1 [==============================] - 0s 9ms/step - loss: 0.1218 - mae: 0.1218\n",
            "Epoch 91/100\n",
            "1/1 [==============================] - 0s 12ms/step - loss: 0.0382 - mae: 0.0382\n",
            "Epoch 92/100\n",
            "1/1 [==============================] - 0s 14ms/step - loss: 0.2197 - mae: 0.2197\n",
            "Epoch 93/100\n",
            "1/1 [==============================] - 0s 14ms/step - loss: 0.2189 - mae: 0.2189\n",
            "Epoch 94/100\n",
            "1/1 [==============================] - 0s 14ms/step - loss: 0.1427 - mae: 0.1427\n",
            "Epoch 95/100\n",
            "1/1 [==============================] - 0s 13ms/step - loss: 0.1168 - mae: 0.1168\n",
            "Epoch 96/100\n",
            "1/1 [==============================] - 0s 33ms/step - loss: 0.2069 - mae: 0.2069\n",
            "Epoch 97/100\n",
            "1/1 [==============================] - 0s 12ms/step - loss: 0.1524 - mae: 0.1524\n",
            "Epoch 98/100\n",
            "1/1 [==============================] - 0s 14ms/step - loss: 0.2133 - mae: 0.2133\n",
            "Epoch 99/100\n",
            "1/1 [==============================] - 0s 11ms/step - loss: 0.2329 - mae: 0.2329\n",
            "Epoch 100/100\n",
            "1/1 [==============================] - 0s 13ms/step - loss: 0.0780 - mae: 0.0780\n"
          ]
        },
        {
          "output_type": "execute_result",
          "data": {
            "text/plain": [
              "<keras.callbacks.History at 0x7fb51ee44510>"
            ]
          },
          "metadata": {},
          "execution_count": 15
        }
      ]
    },
    {
      "cell_type": "code",
      "source": [
        "model.predict([17.0])"
      ],
      "metadata": {
        "colab": {
          "base_uri": "https://localhost:8080/"
        },
        "id": "cKfLYwhx2zsE",
        "outputId": "69c28916-b065-49e0-f1bb-b44cfed74ad4"
      },
      "execution_count": 16,
      "outputs": [
        {
          "output_type": "execute_result",
          "data": {
            "text/plain": [
              "array([[26.58353]], dtype=float32)"
            ]
          },
          "metadata": {},
          "execution_count": 16
        }
      ]
    },
    {
      "cell_type": "markdown",
      "source": [
        "###Evaluating the model"
      ],
      "metadata": {
        "id": "XmuLVE152-7p"
      }
    },
    {
      "cell_type": "code",
      "source": [
        "#make a bigger dataset\n",
        "X=tf.range(-100,100,4)\n",
        "X"
      ],
      "metadata": {
        "colab": {
          "base_uri": "https://localhost:8080/"
        },
        "id": "LYtM4vYF41O0",
        "outputId": "ea8699f6-7640-4a08-d229-35022e61de4a"
      },
      "execution_count": 17,
      "outputs": [
        {
          "output_type": "execute_result",
          "data": {
            "text/plain": [
              "<tf.Tensor: shape=(50,), dtype=int32, numpy=\n",
              "array([-100,  -96,  -92,  -88,  -84,  -80,  -76,  -72,  -68,  -64,  -60,\n",
              "        -56,  -52,  -48,  -44,  -40,  -36,  -32,  -28,  -24,  -20,  -16,\n",
              "        -12,   -8,   -4,    0,    4,    8,   12,   16,   20,   24,   28,\n",
              "         32,   36,   40,   44,   48,   52,   56,   60,   64,   68,   72,\n",
              "         76,   80,   84,   88,   92,   96], dtype=int32)>"
            ]
          },
          "metadata": {},
          "execution_count": 17
        }
      ]
    },
    {
      "cell_type": "code",
      "source": [
        "#make label for dataset\n",
        "y=X+10\n",
        "y"
      ],
      "metadata": {
        "colab": {
          "base_uri": "https://localhost:8080/"
        },
        "id": "5_e2L2ve5881",
        "outputId": "32c95c96-1c5f-475a-b70c-040c68cd3515"
      },
      "execution_count": 18,
      "outputs": [
        {
          "output_type": "execute_result",
          "data": {
            "text/plain": [
              "<tf.Tensor: shape=(50,), dtype=int32, numpy=\n",
              "array([-90, -86, -82, -78, -74, -70, -66, -62, -58, -54, -50, -46, -42,\n",
              "       -38, -34, -30, -26, -22, -18, -14, -10,  -6,  -2,   2,   6,  10,\n",
              "        14,  18,  22,  26,  30,  34,  38,  42,  46,  50,  54,  58,  62,\n",
              "        66,  70,  74,  78,  82,  86,  90,  94,  98, 102, 106], dtype=int32)>"
            ]
          },
          "metadata": {},
          "execution_count": 18
        }
      ]
    },
    {
      "cell_type": "code",
      "source": [
        "#visualize the data\n",
        "import matplotlib.pyplot as plt\n",
        "\n",
        "plt.scatter(X,y)"
      ],
      "metadata": {
        "colab": {
          "base_uri": "https://localhost:8080/",
          "height": 282
        },
        "id": "lSZMR4nz6CjT",
        "outputId": "85edda40-260a-45d5-dec5-06998173656f"
      },
      "execution_count": 19,
      "outputs": [
        {
          "output_type": "execute_result",
          "data": {
            "text/plain": [
              "<matplotlib.collections.PathCollection at 0x7fb51d793210>"
            ]
          },
          "metadata": {},
          "execution_count": 19
        },
        {
          "output_type": "display_data",
          "data": {
            "image/png": "[encoded data removed]",
            "text/plain": [
              "<Figure size 432x288 with 1 Axes>"
            ]
          },
          "metadata": {
            "needs_background": "light"
          }
        }
      ]
    },
    {
      "cell_type": "markdown",
      "source": [
        "### the 3 sets...\n",
        "* Training set\n",
        "* Validation set\n",
        "* Test set"
      ],
      "metadata": {
        "id": "yBzQDx6z6N8i"
      }
    },
    {
      "cell_type": "code",
      "source": [
        "#check the length the set \n",
        "len(X)"
      ],
      "metadata": {
        "colab": {
          "base_uri": "https://localhost:8080/"
        },
        "id": "vSePg2346fM7",
        "outputId": "e48ca5db-4b52-4310-d6c2-852f6267e42c"
      },
      "execution_count": 20,
      "outputs": [
        {
          "output_type": "execute_result",
          "data": {
            "text/plain": [
              "50"
            ]
          },
          "metadata": {},
          "execution_count": 20
        }
      ]
    },
    {
      "cell_type": "code",
      "source": [
        "#Split the data into train set\n",
        "X_Train =X[:40] #first 40  of the data train set\n",
        "y_Train=y[:40]\n",
        "\n",
        "X_Test= X[40:] #last 40 of the data test set  \n",
        "y_Test=y[40:]\n",
        "\n",
        "len(X_Train), len(X_Test), len(y_Train), len(y_Test)"
      ],
      "metadata": {
        "colab": {
          "base_uri": "https://localhost:8080/"
        },
        "id": "CCUZDejz7cmG",
        "outputId": "5375f5dc-9eb4-4ffe-bc0d-2996c0507245"
      },
      "execution_count": 21,
      "outputs": [
        {
          "output_type": "execute_result",
          "data": {
            "text/plain": [
              "(40, 10, 40, 10)"
            ]
          },
          "metadata": {},
          "execution_count": 21
        }
      ]
    },
    {
      "cell_type": "markdown",
      "source": [
        "###Visualizing the data"
      ],
      "metadata": {
        "id": "uiSACcaB8K0B"
      }
    },
    {
      "cell_type": "code",
      "source": [
        "plt.figure(figsize=(10,7))\n",
        "\n",
        "#plot the training data in blue\n",
        "plt.scatter(X_Train, y_Train, c=\"b\", label=\" Training data\")\n",
        "\n",
        "plt.scatter(X_Test,y_Test, c=\"g\", label=\"Test data\")\n",
        "plt.legend()"
      ],
      "metadata": {
        "colab": {
          "base_uri": "https://localhost:8080/",
          "height": 445
        },
        "id": "bTb8YjP78YQZ",
        "outputId": "f6601b12-35af-4aed-b071-e9e731e46b60"
      },
      "execution_count": 22,
      "outputs": [
        {
          "output_type": "execute_result",
          "data": {
            "text/plain": [
              "<matplotlib.legend.Legend at 0x7fb51bda7e90>"
            ]
          },
          "metadata": {},
          "execution_count": 22
        },
        {
          "output_type": "display_data",
          "data": {
            "image/png": "[encoded data removed]",
            "text/plain": [
              "<Figure size 720x504 with 1 Axes>"
            ]
          },
          "metadata": {
            "needs_background": "light"
          }
        }
      ]
    },
    {
      "cell_type": "code",
      "source": [
        "#build neural network model\n",
        "\n",
        "#1. create a model\n",
        "model=tf.keras.Sequential([\n",
        "                           tf.keras.layers.Dense(1)\n",
        "])\n",
        "\n",
        "#2. compile the model\n",
        "model.compile(loss=tf.keras.losses.mae,\n",
        "             optimizer=tf.keras.optimizers.SGD(),\n",
        "             metrics=[\"mae\"])\n",
        "\n",
        "#3. fit the model\n",
        "#model.fit(tf.expand_dims(X, axis=-1),y, epochs=100)"
      ],
      "metadata": {
        "id": "ayevHcHl8vki"
      },
      "execution_count": 23,
      "outputs": []
    },
    {
      "cell_type": "code",
      "source": [
        "model.summary()"
      ],
      "metadata": {
        "colab": {
          "base_uri": "https://localhost:8080/",
          "height": 321
        },
        "id": "eS-KUkp6ob5q",
        "outputId": "f9d9cc3f-e450-4951-99df-d0d7e672cf5f"
      },
      "execution_count": 24,
      "outputs": [
        {
          "output_type": "error",
          "ename": "ValueError",
          "evalue": "ignored",
          "traceback": [
            "\u001b[0;31m---------------------------------------------------------------------------\u001b[0m",
            "\u001b[0;31mValueError\u001b[0m                                Traceback (most recent call last)",
            "\u001b[0;32m<ipython-input-24-5f15418b3570>\u001b[0m in \u001b[0;36m<module>\u001b[0;34m()\u001b[0m\n\u001b[0;32m----> 1\u001b[0;31m \u001b[0mmodel\u001b[0m\u001b[0;34m.\u001b[0m\u001b[0msummary\u001b[0m\u001b[0;34m(\u001b[0m\u001b[0;34m)\u001b[0m\u001b[0;34m\u001b[0m\u001b[0;34m\u001b[0m\u001b[0m\n\u001b[0m",
            "\u001b[0;32m/usr/local/lib/python3.7/dist-packages/keras/engine/training.py\u001b[0m in \u001b[0;36msummary\u001b[0;34m(self, line_length, positions, print_fn, expand_nested)\u001b[0m\n\u001b[1;32m   2578\u001b[0m     \u001b[0;32mif\u001b[0m \u001b[0;32mnot\u001b[0m \u001b[0mself\u001b[0m\u001b[0;34m.\u001b[0m\u001b[0mbuilt\u001b[0m\u001b[0;34m:\u001b[0m\u001b[0;34m\u001b[0m\u001b[0;34m\u001b[0m\u001b[0m\n\u001b[1;32m   2579\u001b[0m       raise ValueError(\n\u001b[0;32m-> 2580\u001b[0;31m           \u001b[0;34m'This model has not yet been built. '\u001b[0m\u001b[0;34m\u001b[0m\u001b[0;34m\u001b[0m\u001b[0m\n\u001b[0m\u001b[1;32m   2581\u001b[0m           \u001b[0;34m'Build the model first by calling `build()` or by calling '\u001b[0m\u001b[0;34m\u001b[0m\u001b[0;34m\u001b[0m\u001b[0m\n\u001b[1;32m   2582\u001b[0m           'the model on a batch of data.')\n",
            "\u001b[0;31mValueError\u001b[0m: This model has not yet been built. Build the model first by calling `build()` or by calling the model on a batch of data."
          ]
        }
      ]
    },
    {
      "cell_type": "code",
      "source": [
        "#create a model which automatically build by defining the input_shape argument\n",
        "tf.random.set_seed(42)\n",
        "\n",
        "model=tf.keras.Sequential([\n",
        "                           tf.keras.layers.Dense(10, input_shape=[1]),\n",
        "                           tf.keras.layers.Dense(1, name=\"output_layer\")\n",
        "], name=\"model_1\")\n",
        "\n",
        "model.compile(loss=tf.keras.losses.mae,\n",
        "              optimizer=tf.keras.optimizers.SGD(),\n",
        "              metrics=[\"mae\"])"
      ],
      "metadata": {
        "id": "_nsYxcfyogkk"
      },
      "execution_count": 36,
      "outputs": []
    },
    {
      "cell_type": "code",
      "source": [
        "model.summary()"
      ],
      "metadata": {
        "colab": {
          "base_uri": "https://localhost:8080/"
        },
        "id": "DJ-dlZOGo38i",
        "outputId": "2d01fd3c-0756-44e7-d26c-82cb1ac185b2"
      },
      "execution_count": 37,
      "outputs": [
        {
          "output_type": "stream",
          "name": "stdout",
          "text": [
            "Model: \"model_1\"\n",
            "_________________________________________________________________\n",
            " Layer (type)                Output Shape              Param #   \n",
            "=================================================================\n",
            " dense_8 (Dense)             (None, 10)                20        \n",
            "                                                                 \n",
            " output_layer (Dense)        (None, 1)                 11        \n",
            "                                                                 \n",
            "=================================================================\n",
            "Total params: 31\n",
            "Trainable params: 31\n",
            "Non-trainable params: 0\n",
            "_________________________________________________________________\n"
          ]
        }
      ]
    },
    {
      "cell_type": "markdown",
      "source": [
        "* Total params- total numebr of parameters in the model\n",
        "*Trainable parameters- these are the parameters/pattern the model can update as it trains.\n",
        "* Non-Trainable params- parameters that aren't updated during training."
      ],
      "metadata": {
        "id": "AMFm2WOMpZ-u"
      }
    },
    {
      "cell_type": "code",
      "source": [
        "model.fit(tf.expand_dims(X, axis=-1), y, epochs=100, verbose=1)"
      ],
      "metadata": {
        "colab": {
          "base_uri": "https://localhost:8080/"
        },
        "id": "U1apsslcpR43",
        "outputId": "9db2f4b7-47b6-4f87-d1fd-75be19895349"
      },
      "execution_count": 38,
      "outputs": [
        {
          "output_type": "stream",
          "name": "stdout",
          "text": [
            "Epoch 1/100\n",
            "2/2 [==============================] - 0s 6ms/step - loss: 40.2867 - mae: 40.2867\n",
            "Epoch 2/100\n",
            "2/2 [==============================] - 0s 6ms/step - loss: 25.9297 - mae: 25.9297\n",
            "Epoch 3/100\n",
            "2/2 [==============================] - 0s 4ms/step - loss: 44.1696 - mae: 44.1696\n",
            "Epoch 4/100\n",
            "2/2 [==============================] - 0s 5ms/step - loss: 11.2212 - mae: 11.2212\n",
            "Epoch 5/100\n",
            "2/2 [==============================] - 0s 9ms/step - loss: 23.0317 - mae: 23.0317\n",
            "Epoch 6/100\n",
            "2/2 [==============================] - 0s 9ms/step - loss: 24.2563 - mae: 24.2563\n",
            "Epoch 7/100\n",
            "2/2 [==============================] - 0s 8ms/step - loss: 11.2416 - mae: 11.2416\n",
            "Epoch 8/100\n",
            "2/2 [==============================] - 0s 7ms/step - loss: 34.1576 - mae: 34.1576\n",
            "Epoch 9/100\n",
            "2/2 [==============================] - 0s 6ms/step - loss: 12.5246 - mae: 12.5246\n",
            "Epoch 10/100\n",
            "2/2 [==============================] - 0s 5ms/step - loss: 10.1823 - mae: 10.1823\n",
            "Epoch 11/100\n",
            "2/2 [==============================] - 0s 4ms/step - loss: 23.0436 - mae: 23.0436\n",
            "Epoch 12/100\n",
            "2/2 [==============================] - 0s 4ms/step - loss: 16.3819 - mae: 16.3819\n",
            "Epoch 13/100\n",
            "2/2 [==============================] - 0s 4ms/step - loss: 22.6688 - mae: 22.6688\n",
            "Epoch 14/100\n",
            "2/2 [==============================] - 0s 4ms/step - loss: 22.1103 - mae: 22.1103\n",
            "Epoch 15/100\n",
            "2/2 [==============================] - 0s 5ms/step - loss: 19.8442 - mae: 19.8442\n",
            "Epoch 16/100\n",
            "2/2 [==============================] - 0s 5ms/step - loss: 23.1707 - mae: 23.1707\n",
            "Epoch 17/100\n",
            "2/2 [==============================] - 0s 7ms/step - loss: 11.5075 - mae: 11.5075\n",
            "Epoch 18/100\n",
            "2/2 [==============================] - 0s 6ms/step - loss: 29.7742 - mae: 29.7742\n",
            "Epoch 19/100\n",
            "2/2 [==============================] - 0s 6ms/step - loss: 18.4085 - mae: 18.4085\n",
            "Epoch 20/100\n",
            "2/2 [==============================] - 0s 6ms/step - loss: 18.7610 - mae: 18.7610\n",
            "Epoch 21/100\n",
            "2/2 [==============================] - 0s 5ms/step - loss: 19.4369 - mae: 19.4369\n",
            "Epoch 22/100\n",
            "2/2 [==============================] - 0s 5ms/step - loss: 20.5783 - mae: 20.5783\n",
            "Epoch 23/100\n",
            "2/2 [==============================] - 0s 5ms/step - loss: 19.8132 - mae: 19.8132\n",
            "Epoch 24/100\n",
            "2/2 [==============================] - 0s 5ms/step - loss: 18.7247 - mae: 18.7247\n",
            "Epoch 25/100\n",
            "2/2 [==============================] - 0s 5ms/step - loss: 21.7989 - mae: 21.7989\n",
            "Epoch 26/100\n",
            "2/2 [==============================] - 0s 7ms/step - loss: 10.6899 - mae: 10.6899\n",
            "Epoch 27/100\n",
            "2/2 [==============================] - 0s 5ms/step - loss: 30.8423 - mae: 30.8423\n",
            "Epoch 28/100\n",
            "2/2 [==============================] - 0s 5ms/step - loss: 16.5686 - mae: 16.5686\n",
            "Epoch 29/100\n",
            "2/2 [==============================] - 0s 6ms/step - loss: 33.0226 - mae: 33.0226\n",
            "Epoch 30/100\n",
            "2/2 [==============================] - 0s 5ms/step - loss: 19.5703 - mae: 19.5703\n",
            "Epoch 31/100\n",
            "2/2 [==============================] - 0s 4ms/step - loss: 12.5353 - mae: 12.5353\n",
            "Epoch 32/100\n",
            "2/2 [==============================] - 0s 6ms/step - loss: 20.7130 - mae: 20.7130\n",
            "Epoch 33/100\n",
            "2/2 [==============================] - 0s 7ms/step - loss: 20.6412 - mae: 20.6412\n",
            "Epoch 34/100\n",
            "2/2 [==============================] - 0s 8ms/step - loss: 21.2043 - mae: 21.2043\n",
            "Epoch 35/100\n",
            "2/2 [==============================] - 0s 5ms/step - loss: 21.3012 - mae: 21.3012\n",
            "Epoch 36/100\n",
            "2/2 [==============================] - 0s 9ms/step - loss: 18.8072 - mae: 18.8072\n",
            "Epoch 37/100\n",
            "2/2 [==============================] - 0s 5ms/step - loss: 27.4462 - mae: 27.4462\n",
            "Epoch 38/100\n",
            "2/2 [==============================] - 0s 5ms/step - loss: 29.1100 - mae: 29.1100\n",
            "Epoch 39/100\n",
            "2/2 [==============================] - 0s 5ms/step - loss: 20.5542 - mae: 20.5542\n",
            "Epoch 40/100\n",
            "2/2 [==============================] - 0s 6ms/step - loss: 20.6334 - mae: 20.6334\n",
            "Epoch 41/100\n",
            "2/2 [==============================] - 0s 5ms/step - loss: 24.9726 - mae: 24.9726\n",
            "Epoch 42/100\n",
            "2/2 [==============================] - 0s 11ms/step - loss: 20.5609 - mae: 20.5609\n",
            "Epoch 43/100\n",
            "2/2 [==============================] - 0s 6ms/step - loss: 23.1231 - mae: 23.1231\n",
            "Epoch 44/100\n",
            "2/2 [==============================] - 0s 5ms/step - loss: 9.8053 - mae: 9.8053\n",
            "Epoch 45/100\n",
            "2/2 [==============================] - 0s 8ms/step - loss: 22.5487 - mae: 22.5487\n",
            "Epoch 46/100\n",
            "2/2 [==============================] - 0s 5ms/step - loss: 9.2110 - mae: 9.2110\n",
            "Epoch 47/100\n",
            "2/2 [==============================] - 0s 10ms/step - loss: 20.3679 - mae: 20.3679\n",
            "Epoch 48/100\n",
            "2/2 [==============================] - 0s 8ms/step - loss: 8.4309 - mae: 8.4309\n",
            "Epoch 49/100\n",
            "2/2 [==============================] - 0s 7ms/step - loss: 12.6659 - mae: 12.6659\n",
            "Epoch 50/100\n",
            "2/2 [==============================] - 0s 6ms/step - loss: 32.1829 - mae: 32.1829\n",
            "Epoch 51/100\n",
            "2/2 [==============================] - 0s 7ms/step - loss: 16.5208 - mae: 16.5208\n",
            "Epoch 52/100\n",
            "2/2 [==============================] - 0s 10ms/step - loss: 33.7598 - mae: 33.7598\n",
            "Epoch 53/100\n",
            "2/2 [==============================] - 0s 6ms/step - loss: 9.7791 - mae: 9.7791\n",
            "Epoch 54/100\n",
            "2/2 [==============================] - 0s 5ms/step - loss: 11.4445 - mae: 11.4445\n",
            "Epoch 55/100\n",
            "2/2 [==============================] - 0s 5ms/step - loss: 24.6060 - mae: 24.6060\n",
            "Epoch 56/100\n",
            "2/2 [==============================] - 0s 11ms/step - loss: 9.1433 - mae: 9.1433\n",
            "Epoch 57/100\n",
            "2/2 [==============================] - 0s 6ms/step - loss: 11.6297 - mae: 11.6297\n",
            "Epoch 58/100\n",
            "2/2 [==============================] - 0s 6ms/step - loss: 27.3491 - mae: 27.3491\n",
            "Epoch 59/100\n",
            "2/2 [==============================] - 0s 7ms/step - loss: 25.1758 - mae: 25.1758\n",
            "Epoch 60/100\n",
            "2/2 [==============================] - 0s 6ms/step - loss: 11.4501 - mae: 11.4501\n",
            "Epoch 61/100\n",
            "2/2 [==============================] - 0s 4ms/step - loss: 31.5022 - mae: 31.5022\n",
            "Epoch 62/100\n",
            "2/2 [==============================] - 0s 4ms/step - loss: 21.6164 - mae: 21.6164\n",
            "Epoch 63/100\n",
            "2/2 [==============================] - 0s 5ms/step - loss: 9.4131 - mae: 9.4131\n",
            "Epoch 64/100\n",
            "2/2 [==============================] - 0s 4ms/step - loss: 27.2951 - mae: 27.2951\n",
            "Epoch 65/100\n",
            "2/2 [==============================] - 0s 4ms/step - loss: 8.9828 - mae: 8.9828\n",
            "Epoch 66/100\n",
            "2/2 [==============================] - 0s 4ms/step - loss: 9.2362 - mae: 9.2362\n",
            "Epoch 67/100\n",
            "2/2 [==============================] - 0s 6ms/step - loss: 25.8946 - mae: 25.8946\n",
            "Epoch 68/100\n",
            "2/2 [==============================] - 0s 4ms/step - loss: 16.4833 - mae: 16.4833\n",
            "Epoch 69/100\n",
            "2/2 [==============================] - 0s 7ms/step - loss: 25.0206 - mae: 25.0206\n",
            "Epoch 70/100\n",
            "2/2 [==============================] - 0s 4ms/step - loss: 26.0848 - mae: 26.0848\n",
            "Epoch 71/100\n",
            "2/2 [==============================] - 0s 5ms/step - loss: 19.4423 - mae: 19.4423\n",
            "Epoch 72/100\n",
            "2/2 [==============================] - 0s 18ms/step - loss: 25.3501 - mae: 25.3501\n",
            "Epoch 73/100\n",
            "2/2 [==============================] - 0s 8ms/step - loss: 35.7193 - mae: 35.7193\n",
            "Epoch 74/100\n",
            "2/2 [==============================] - 0s 6ms/step - loss: 16.4184 - mae: 16.4184\n",
            "Epoch 75/100\n",
            "2/2 [==============================] - 0s 6ms/step - loss: 30.0560 - mae: 30.0560\n",
            "Epoch 76/100\n",
            "2/2 [==============================] - 0s 6ms/step - loss: 24.7032 - mae: 24.7032\n",
            "Epoch 77/100\n",
            "2/2 [==============================] - 0s 6ms/step - loss: 17.8535 - mae: 17.8535\n",
            "Epoch 78/100\n",
            "2/2 [==============================] - 0s 5ms/step - loss: 23.0873 - mae: 23.0873\n",
            "Epoch 79/100\n",
            "2/2 [==============================] - 0s 5ms/step - loss: 10.0832 - mae: 10.0832\n",
            "Epoch 80/100\n",
            "2/2 [==============================] - 0s 9ms/step - loss: 22.9531 - mae: 22.9531\n",
            "Epoch 81/100\n",
            "2/2 [==============================] - 0s 5ms/step - loss: 26.6186 - mae: 26.6186\n",
            "Epoch 82/100\n",
            "2/2 [==============================] - 0s 5ms/step - loss: 8.7183 - mae: 8.7183\n",
            "Epoch 83/100\n",
            "2/2 [==============================] - 0s 5ms/step - loss: 17.7156 - mae: 17.7156\n",
            "Epoch 84/100\n",
            "2/2 [==============================] - 0s 6ms/step - loss: 21.7822 - mae: 21.7822\n",
            "Epoch 85/100\n",
            "2/2 [==============================] - 0s 8ms/step - loss: 8.5676 - mae: 8.5676\n",
            "Epoch 86/100\n",
            "2/2 [==============================] - 0s 6ms/step - loss: 10.1261 - mae: 10.1261\n",
            "Epoch 87/100\n",
            "2/2 [==============================] - 0s 11ms/step - loss: 33.4657 - mae: 33.4657\n",
            "Epoch 88/100\n",
            "2/2 [==============================] - 0s 4ms/step - loss: 20.4582 - mae: 20.4582\n",
            "Epoch 89/100\n",
            "2/2 [==============================] - 0s 3ms/step - loss: 21.4295 - mae: 21.4295\n",
            "Epoch 90/100\n",
            "2/2 [==============================] - 0s 9ms/step - loss: 40.8004 - mae: 40.8004\n",
            "Epoch 91/100\n",
            "2/2 [==============================] - 0s 6ms/step - loss: 16.7932 - mae: 16.7932\n",
            "Epoch 92/100\n",
            "2/2 [==============================] - 0s 6ms/step - loss: 19.9796 - mae: 19.9796\n",
            "Epoch 93/100\n",
            "2/2 [==============================] - 0s 8ms/step - loss: 20.7641 - mae: 20.7641\n",
            "Epoch 94/100\n",
            "2/2 [==============================] - 0s 8ms/step - loss: 26.1390 - mae: 26.1390\n",
            "Epoch 95/100\n",
            "2/2 [==============================] - 0s 5ms/step - loss: 29.1444 - mae: 29.1444\n",
            "Epoch 96/100\n",
            "2/2 [==============================] - 0s 9ms/step - loss: 20.5376 - mae: 20.5376\n",
            "Epoch 97/100\n",
            "2/2 [==============================] - 0s 7ms/step - loss: 21.5291 - mae: 21.5291\n",
            "Epoch 98/100\n",
            "2/2 [==============================] - 0s 7ms/step - loss: 12.7845 - mae: 12.7845\n",
            "Epoch 99/100\n",
            "2/2 [==============================] - 0s 6ms/step - loss: 16.1075 - mae: 16.1075\n",
            "Epoch 100/100\n",
            "2/2 [==============================] - 0s 6ms/step - loss: 20.3503 - mae: 20.3503\n"
          ]
        },
        {
          "output_type": "execute_result",
          "data": {
            "text/plain": [
              "<keras.callbacks.History at 0x7fb51dd8d050>"
            ]
          },
          "metadata": {},
          "execution_count": 38
        }
      ]
    },
    {
      "cell_type": "code",
      "source": [
        "#get summary of the model\n",
        "model.summary()"
      ],
      "metadata": {
        "id": "mENxSJJmrV-e",
        "colab": {
          "base_uri": "https://localhost:8080/"
        },
        "outputId": "1da9c3b5-cbf6-4761-f5b6-566749934d96"
      },
      "execution_count": 39,
      "outputs": [
        {
          "output_type": "stream",
          "name": "stdout",
          "text": [
            "Model: \"model_1\"\n",
            "_________________________________________________________________\n",
            " Layer (type)                Output Shape              Param #   \n",
            "=================================================================\n",
            " dense_8 (Dense)             (None, 10)                20        \n",
            "                                                                 \n",
            " output_layer (Dense)        (None, 1)                 11        \n",
            "                                                                 \n",
            "=================================================================\n",
            "Total params: 31\n",
            "Trainable params: 31\n",
            "Non-trainable params: 0\n",
            "_________________________________________________________________\n"
          ]
        }
      ]
    },
    {
      "cell_type": "code",
      "source": [
        "from tensorflow.keras.utils import plot_model\n",
        "\n",
        "plot_model(model=model, show_shapes=True)"
      ],
      "metadata": {
        "colab": {
          "base_uri": "https://localhost:8080/",
          "height": 312
        },
        "id": "7EqSkO2wt-eq",
        "outputId": "3507c038-f941-413b-90aa-764fafbc8749"
      },
      "execution_count": 40,
      "outputs": [
        {
          "output_type": "execute_result",
          "data": {
            "image/png": "[encoded data removed]",
            "text/plain": [
              "<IPython.core.display.Image object>"
            ]
          },
          "metadata": {},
          "execution_count": 40
        }
      ]
    },
    {
      "cell_type": "markdown",
      "source": [
        "###Visualize the model's prediction"
      ],
      "metadata": {
        "id": "tdRuP_wAuZEV"
      }
    },
    {
      "cell_type": "code",
      "source": [
        ""
      ],
      "metadata": {
        "id": "SjRXtu_pvbFt"
      },
      "execution_count": null,
      "outputs": []
    }
  ]
}