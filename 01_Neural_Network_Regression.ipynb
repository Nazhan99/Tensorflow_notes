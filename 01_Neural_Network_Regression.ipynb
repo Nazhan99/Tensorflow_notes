{
  "nbformat": 4,
  "nbformat_minor": 0,
  "metadata": {
    "colab": {
      "name": "01_Neural_Network_Regression.ipynb",
      "provenance": [],
      "collapsed_sections": [],
      "authorship_tag": "ABX9TyPd9u8340npaNjB4VGUZLe9",
      "include_colab_link": true
    },
    "kernelspec": {
      "name": "python3",
      "display_name": "Python 3"
    },
    "language_info": {
      "name": "python"
    }
  },
  "cells": [
    {
      "cell_type": "markdown",
      "metadata": {
        "id": "view-in-github",
        "colab_type": "text"
      },
      "source": [
        "<a href=\"https://colab.research.google.com/github/Nazhan99/Tensorflow_notes/blob/main/01_Neural_Network_Regression.ipynb\" target=\"_parent\"><img src=\"https://colab.research.google.com/assets/colab-badge.svg\" alt=\"Open In Colab\"/></a>"
      ]
    },
    {
      "cell_type": "markdown",
      "source": [
        "#Introduction to regression with neural network in tensorflow\n",
        "\n"
      ],
      "metadata": {
        "id": "fEmVG5ybXpGG"
      }
    },
    {
      "cell_type": "code",
      "source": [
        "#import tensorflow\n",
        "import tensorflow as tf\n",
        "print(tf.__version__)"
      ],
      "metadata": {
        "colab": {
          "base_uri": "https://localhost:8080/"
        },
        "id": "qvrU_a1vXy2p",
        "outputId": "18315829-ca03-4128-956a-7eed412f695f"
      },
      "execution_count": 1,
      "outputs": [
        {
          "output_type": "stream",
          "name": "stdout",
          "text": [
            "2.7.0\n"
          ]
        }
      ]
    },
    {
      "cell_type": "code",
      "source": [
        "##Create data to view and fit"
      ],
      "metadata": {
        "id": "1j0pVpu-X_L0"
      },
      "execution_count": 2,
      "outputs": []
    },
    {
      "cell_type": "code",
      "source": [
        "import numpy as np\n",
        "import matplotlib.pyplot as plt\n",
        "\n",
        "#create features\n",
        "X= np.array([-7.0, -4.0, -1.0, 2.0, 5.0, 8.0, 11.0, 14.0])\n",
        "y= np.array([3.0, 6.0, 9.0, 12.0, 15.0, 18.0, 21.0, 24.0])\n",
        "\n",
        "#visualize it\n",
        "plt.scatter(X,y)"
      ],
      "metadata": {
        "colab": {
          "base_uri": "https://localhost:8080/",
          "height": 286
        },
        "id": "7ESM2Dx4YHy8",
        "outputId": "dfec922a-08e7-4f1d-cc3f-a35db0771701"
      },
      "execution_count": 3,
      "outputs": [
        {
          "output_type": "execute_result",
          "data": {
            "text/plain": [
              "<matplotlib.collections.PathCollection at 0x7fa41aa0ced0>"
            ]
          },
          "metadata": {},
          "execution_count": 3
        },
        {
          "output_type": "display_data",
          "data": {
            "image/png": "[encoded data removed]",
            "text/plain": [
              "<Figure size 432x288 with 1 Axes>"
            ]
          },
          "metadata": {
            "needs_background": "light"
          }
        }
      ]
    },
    {
      "cell_type": "code",
      "source": [
        "y== X+10"
      ],
      "metadata": {
        "colab": {
          "base_uri": "https://localhost:8080/"
        },
        "id": "ttXw_fE9Yxs4",
        "outputId": "749117ac-8d3c-4004-ca62-f8a79c2c61f1"
      },
      "execution_count": 4,
      "outputs": [
        {
          "output_type": "execute_result",
          "data": {
            "text/plain": [
              "array([ True,  True,  True,  True,  True,  True,  True,  True])"
            ]
          },
          "metadata": {},
          "execution_count": 4
        }
      ]
    },
    {
      "cell_type": "markdown",
      "source": [
        "###input and output shapes"
      ],
      "metadata": {
        "id": "wm6DwJozZLFc"
      }
    },
    {
      "cell_type": "code",
      "source": [
        "#create a demo  tensor for our housing price prediction problem\n",
        "house_info= tf.constant([\"bedroom\", 'bathroom', 'garage'])\n",
        "house_price= tf.constant([939700])\n",
        "house_info, house_price\n"
      ],
      "metadata": {
        "colab": {
          "base_uri": "https://localhost:8080/"
        },
        "id": "OJYreaEoY5ac",
        "outputId": "fa7b2b15-b623-4e99-ba9f-19dba4db0d73"
      },
      "execution_count": 5,
      "outputs": [
        {
          "output_type": "execute_result",
          "data": {
            "text/plain": [
              "(<tf.Tensor: shape=(3,), dtype=string, numpy=array([b'bedroom', b'bathroom', b'garage'], dtype=object)>,\n",
              " <tf.Tensor: shape=(1,), dtype=int32, numpy=array([939700], dtype=int32)>)"
            ]
          },
          "metadata": {},
          "execution_count": 5
        }
      ]
    },
    {
      "cell_type": "code",
      "source": [
        "input_shape=X.shape\n",
        "output_shape=y.shape\n",
        "input_shape, output_shape"
      ],
      "metadata": {
        "colab": {
          "base_uri": "https://localhost:8080/"
        },
        "id": "-Uzs3KsJZVjx",
        "outputId": "e06d86c8-ee5f-4304-de6c-9ccd3b2a99be"
      },
      "execution_count": 6,
      "outputs": [
        {
          "output_type": "execute_result",
          "data": {
            "text/plain": [
              "((8,), (8,))"
            ]
          },
          "metadata": {},
          "execution_count": 6
        }
      ]
    },
    {
      "cell_type": "code",
      "source": [
        "X[0].ndim"
      ],
      "metadata": {
        "colab": {
          "base_uri": "https://localhost:8080/"
        },
        "id": "5AY5Xy-MZ0V4",
        "outputId": "4730029b-b6d6-4174-d2d7-ae0630834d2d"
      },
      "execution_count": 7,
      "outputs": [
        {
          "output_type": "execute_result",
          "data": {
            "text/plain": [
              "0"
            ]
          },
          "metadata": {},
          "execution_count": 7
        }
      ]
    },
    {
      "cell_type": "code",
      "source": [
        "X[0], y[0]"
      ],
      "metadata": {
        "colab": {
          "base_uri": "https://localhost:8080/"
        },
        "id": "KtvKM1L0aEb2",
        "outputId": "7f338880-9466-46e3-9e4c-c6772e23ce0a"
      },
      "execution_count": 8,
      "outputs": [
        {
          "output_type": "execute_result",
          "data": {
            "text/plain": [
              "(-7.0, 3.0)"
            ]
          },
          "metadata": {},
          "execution_count": 8
        }
      ]
    },
    {
      "cell_type": "code",
      "source": [
        "#turn numpy array to tensor\n",
        "X=tf.constant(X)\n",
        "y=tf.constant(y)\n",
        "X, y"
      ],
      "metadata": {
        "colab": {
          "base_uri": "https://localhost:8080/"
        },
        "id": "PfaoLz7naHRl",
        "outputId": "1ae6a439-895d-40c2-b35e-46201041f8fe"
      },
      "execution_count": 9,
      "outputs": [
        {
          "output_type": "execute_result",
          "data": {
            "text/plain": [
              "(<tf.Tensor: shape=(8,), dtype=float64, numpy=array([-7., -4., -1.,  2.,  5.,  8., 11., 14.])>,\n",
              " <tf.Tensor: shape=(8,), dtype=float64, numpy=array([ 3.,  6.,  9., 12., 15., 18., 21., 24.])>)"
            ]
          },
          "metadata": {},
          "execution_count": 9
        }
      ]
    },
    {
      "cell_type": "code",
      "source": [
        "input_shape= X[0].shape\n",
        "output_shape= y[0].shape\n",
        "input_shape, output_shape"
      ],
      "metadata": {
        "colab": {
          "base_uri": "https://localhost:8080/"
        },
        "id": "8A-3cRcAa5PE",
        "outputId": "f28fdf4c-d822-4413-d592-a8be4e1dd339"
      },
      "execution_count": 10,
      "outputs": [
        {
          "output_type": "execute_result",
          "data": {
            "text/plain": [
              "(TensorShape([]), TensorShape([]))"
            ]
          },
          "metadata": {},
          "execution_count": 10
        }
      ]
    },
    {
      "cell_type": "markdown",
      "source": [
        "###Steps in modelling with tensorflow\n",
        "\n",
        "1. Create a model (define input and output)\n",
        "2. compiling model (loss function and optimize)\n",
        "3.  fitting the model (predict the output)"
      ],
      "metadata": {
        "id": "RfFM8IL8bEhS"
      }
    },
    {
      "cell_type": "code",
      "source": [
        "#set random seed\n",
        "tf.random.set_seed(42)\n",
        "\n",
        "#1.create a model using the sequential API\n",
        "model=tf.keras.Sequential([\n",
        "  tf.keras.layers.Dense(1)\n",
        "])\n",
        "\n",
        "#2. compile the model\n",
        "model.compile(loss=tf.keras.losses.mae,\n",
        "              optimizer=tf.keras.optimizers.SGD(), #Stocastic gradient descent\n",
        "              metrics=[\"mae\"])\n",
        "\n",
        "#3. fit the model\n",
        "model.fit(tf.expand_dims(X, axis=-1),y, epochs=5)"
      ],
      "metadata": {
        "colab": {
          "base_uri": "https://localhost:8080/"
        },
        "id": "Caej5IsDbiph",
        "outputId": "8a8a0a93-cf55-4b88-c8e2-0bae8647ccce"
      },
      "execution_count": 11,
      "outputs": [
        {
          "output_type": "stream",
          "name": "stdout",
          "text": [
            "Epoch 1/5\n",
            "1/1 [==============================] - 1s 510ms/step - loss: 11.5048 - mae: 11.5048\n",
            "Epoch 2/5\n",
            "1/1 [==============================] - 0s 7ms/step - loss: 11.3723 - mae: 11.3723\n",
            "Epoch 3/5\n",
            "1/1 [==============================] - 0s 9ms/step - loss: 11.2398 - mae: 11.2398\n",
            "Epoch 4/5\n",
            "1/1 [==============================] - 0s 9ms/step - loss: 11.1073 - mae: 11.1073\n",
            "Epoch 5/5\n",
            "1/1 [==============================] - 0s 11ms/step - loss: 10.9748 - mae: 10.9748\n"
          ]
        },
        {
          "output_type": "execute_result",
          "data": {
            "text/plain": [
              "<keras.callbacks.History at 0x7fa4163ee8d0>"
            ]
          },
          "metadata": {},
          "execution_count": 11
        }
      ]
    },
    {
      "cell_type": "code",
      "source": [
        "#try and make a predictioons using our model\n",
        "y_pred=model.predict([17.0])\n",
        "y_pred"
      ],
      "metadata": {
        "colab": {
          "base_uri": "https://localhost:8080/"
        },
        "id": "fHVU4-Kcd-dm",
        "outputId": "da2cd60c-f8ad-4b7f-850b-3c2348f9e1af"
      },
      "execution_count": 12,
      "outputs": [
        {
          "output_type": "execute_result",
          "data": {
            "text/plain": [
              "array([[12.716021]], dtype=float32)"
            ]
          },
          "metadata": {},
          "execution_count": 12
        }
      ]
    },
    {
      "cell_type": "markdown",
      "source": [
        "###improving the model\n"
      ],
      "metadata": {
        "id": "lV5BJcwvfS_h"
      }
    },
    {
      "cell_type": "code",
      "source": [
        "#lets rebuild our model\n",
        "\n",
        "#1.create the model\n",
        "model= tf.keras.Sequential([\n",
        "                            tf.keras.layers.Dense(1)\n",
        "])\n",
        "\n",
        "#2. compiling the model\n",
        "model.compile(loss=tf.keras.losses.mae,\n",
        "              optimizer=tf.keras.optimizers.SGD(),\n",
        "              metrics=[\"mae\"])\n",
        "\n",
        "#3. fit the model\n",
        "model.fit(tf.expand_dims(X, axis=-1), y, epochs=100)"
      ],
      "metadata": {
        "colab": {
          "base_uri": "https://localhost:8080/"
        },
        "id": "4jqq6BUCgY-Y",
        "outputId": "c08684d2-f3c9-4cf9-9c18-7d923cec263b"
      },
      "execution_count": 13,
      "outputs": [
        {
          "output_type": "stream",
          "name": "stdout",
          "text": [
            "Epoch 1/100\n",
            "1/1 [==============================] - 1s 593ms/step - loss: 11.2219 - mae: 11.2219\n",
            "Epoch 2/100\n",
            "1/1 [==============================] - 0s 8ms/step - loss: 11.0894 - mae: 11.0894\n",
            "Epoch 3/100\n",
            "1/1 [==============================] - 0s 9ms/step - loss: 10.9569 - mae: 10.9569\n",
            "Epoch 4/100\n",
            "1/1 [==============================] - 0s 11ms/step - loss: 10.8244 - mae: 10.8244\n",
            "Epoch 5/100\n",
            "1/1 [==============================] - 0s 8ms/step - loss: 10.6919 - mae: 10.6919\n",
            "Epoch 6/100\n",
            "1/1 [==============================] - 0s 18ms/step - loss: 10.5594 - mae: 10.5594\n",
            "Epoch 7/100\n",
            "1/1 [==============================] - 0s 16ms/step - loss: 10.4269 - mae: 10.4269\n",
            "Epoch 8/100\n",
            "1/1 [==============================] - 0s 6ms/step - loss: 10.2944 - mae: 10.2944\n",
            "Epoch 9/100\n",
            "1/1 [==============================] - 0s 14ms/step - loss: 10.1619 - mae: 10.1619\n",
            "Epoch 10/100\n",
            "1/1 [==============================] - 0s 5ms/step - loss: 10.0294 - mae: 10.0294\n",
            "Epoch 11/100\n",
            "1/1 [==============================] - 0s 9ms/step - loss: 9.8969 - mae: 9.8969\n",
            "Epoch 12/100\n",
            "1/1 [==============================] - 0s 11ms/step - loss: 9.7644 - mae: 9.7644\n",
            "Epoch 13/100\n",
            "1/1 [==============================] - 0s 5ms/step - loss: 9.6319 - mae: 9.6319\n",
            "Epoch 14/100\n",
            "1/1 [==============================] - 0s 5ms/step - loss: 9.4994 - mae: 9.4994\n",
            "Epoch 15/100\n",
            "1/1 [==============================] - 0s 9ms/step - loss: 9.3669 - mae: 9.3669\n",
            "Epoch 16/100\n",
            "1/1 [==============================] - 0s 6ms/step - loss: 9.2344 - mae: 9.2344\n",
            "Epoch 17/100\n",
            "1/1 [==============================] - 0s 7ms/step - loss: 9.1019 - mae: 9.1019\n",
            "Epoch 18/100\n",
            "1/1 [==============================] - 0s 6ms/step - loss: 8.9694 - mae: 8.9694\n",
            "Epoch 19/100\n",
            "1/1 [==============================] - 0s 9ms/step - loss: 8.8369 - mae: 8.8369\n",
            "Epoch 20/100\n",
            "1/1 [==============================] - 0s 5ms/step - loss: 8.7044 - mae: 8.7044\n",
            "Epoch 21/100\n",
            "1/1 [==============================] - 0s 5ms/step - loss: 8.5719 - mae: 8.5719\n",
            "Epoch 22/100\n",
            "1/1 [==============================] - 0s 5ms/step - loss: 8.4394 - mae: 8.4394\n",
            "Epoch 23/100\n",
            "1/1 [==============================] - 0s 5ms/step - loss: 8.3069 - mae: 8.3069\n",
            "Epoch 24/100\n",
            "1/1 [==============================] - 0s 12ms/step - loss: 8.1744 - mae: 8.1744\n",
            "Epoch 25/100\n",
            "1/1 [==============================] - 0s 6ms/step - loss: 8.0419 - mae: 8.0419\n",
            "Epoch 26/100\n",
            "1/1 [==============================] - 0s 8ms/step - loss: 7.9094 - mae: 7.9094\n",
            "Epoch 27/100\n",
            "1/1 [==============================] - 0s 5ms/step - loss: 7.7769 - mae: 7.7769\n",
            "Epoch 28/100\n",
            "1/1 [==============================] - 0s 23ms/step - loss: 7.6444 - mae: 7.6444\n",
            "Epoch 29/100\n",
            "1/1 [==============================] - 0s 45ms/step - loss: 7.5119 - mae: 7.5119\n",
            "Epoch 30/100\n",
            "1/1 [==============================] - 0s 7ms/step - loss: 7.3794 - mae: 7.3794\n",
            "Epoch 31/100\n",
            "1/1 [==============================] - 0s 7ms/step - loss: 7.2750 - mae: 7.2750\n",
            "Epoch 32/100\n",
            "1/1 [==============================] - 0s 7ms/step - loss: 7.2694 - mae: 7.2694\n",
            "Epoch 33/100\n",
            "1/1 [==============================] - 0s 7ms/step - loss: 7.2638 - mae: 7.2638\n",
            "Epoch 34/100\n",
            "1/1 [==============================] - 0s 36ms/step - loss: 7.2581 - mae: 7.2581\n",
            "Epoch 35/100\n",
            "1/1 [==============================] - 0s 15ms/step - loss: 7.2525 - mae: 7.2525\n",
            "Epoch 36/100\n",
            "1/1 [==============================] - 0s 12ms/step - loss: 7.2469 - mae: 7.2469\n",
            "Epoch 37/100\n",
            "1/1 [==============================] - 0s 5ms/step - loss: 7.2412 - mae: 7.2412\n",
            "Epoch 38/100\n",
            "1/1 [==============================] - 0s 11ms/step - loss: 7.2356 - mae: 7.2356\n",
            "Epoch 39/100\n",
            "1/1 [==============================] - 0s 8ms/step - loss: 7.2300 - mae: 7.2300\n",
            "Epoch 40/100\n",
            "1/1 [==============================] - 0s 9ms/step - loss: 7.2244 - mae: 7.2244\n",
            "Epoch 41/100\n",
            "1/1 [==============================] - 0s 8ms/step - loss: 7.2188 - mae: 7.2188\n",
            "Epoch 42/100\n",
            "1/1 [==============================] - 0s 18ms/step - loss: 7.2131 - mae: 7.2131\n",
            "Epoch 43/100\n",
            "1/1 [==============================] - 0s 5ms/step - loss: 7.2075 - mae: 7.2075\n",
            "Epoch 44/100\n",
            "1/1 [==============================] - 0s 18ms/step - loss: 7.2019 - mae: 7.2019\n",
            "Epoch 45/100\n",
            "1/1 [==============================] - 0s 12ms/step - loss: 7.1962 - mae: 7.1962\n",
            "Epoch 46/100\n",
            "1/1 [==============================] - 0s 9ms/step - loss: 7.1906 - mae: 7.1906\n",
            "Epoch 47/100\n",
            "1/1 [==============================] - 0s 9ms/step - loss: 7.1850 - mae: 7.1850\n",
            "Epoch 48/100\n",
            "1/1 [==============================] - 0s 7ms/step - loss: 7.1794 - mae: 7.1794\n",
            "Epoch 49/100\n",
            "1/1 [==============================] - 0s 20ms/step - loss: 7.1737 - mae: 7.1737\n",
            "Epoch 50/100\n",
            "1/1 [==============================] - 0s 12ms/step - loss: 7.1681 - mae: 7.1681\n",
            "Epoch 51/100\n",
            "1/1 [==============================] - 0s 13ms/step - loss: 7.1625 - mae: 7.1625\n",
            "Epoch 52/100\n",
            "1/1 [==============================] - 0s 8ms/step - loss: 7.1569 - mae: 7.1569\n",
            "Epoch 53/100\n",
            "1/1 [==============================] - 0s 11ms/step - loss: 7.1512 - mae: 7.1512\n",
            "Epoch 54/100\n",
            "1/1 [==============================] - 0s 15ms/step - loss: 7.1456 - mae: 7.1456\n",
            "Epoch 55/100\n",
            "1/1 [==============================] - 0s 8ms/step - loss: 7.1400 - mae: 7.1400\n",
            "Epoch 56/100\n",
            "1/1 [==============================] - 0s 10ms/step - loss: 7.1344 - mae: 7.1344\n",
            "Epoch 57/100\n",
            "1/1 [==============================] - 0s 13ms/step - loss: 7.1287 - mae: 7.1287\n",
            "Epoch 58/100\n",
            "1/1 [==============================] - 0s 11ms/step - loss: 7.1231 - mae: 7.1231\n",
            "Epoch 59/100\n",
            "1/1 [==============================] - 0s 15ms/step - loss: 7.1175 - mae: 7.1175\n",
            "Epoch 60/100\n",
            "1/1 [==============================] - 0s 12ms/step - loss: 7.1119 - mae: 7.1119\n",
            "Epoch 61/100\n",
            "1/1 [==============================] - 0s 11ms/step - loss: 7.1062 - mae: 7.1062\n",
            "Epoch 62/100\n",
            "1/1 [==============================] - 0s 9ms/step - loss: 7.1006 - mae: 7.1006\n",
            "Epoch 63/100\n",
            "1/1 [==============================] - 0s 10ms/step - loss: 7.0950 - mae: 7.0950\n",
            "Epoch 64/100\n",
            "1/1 [==============================] - 0s 13ms/step - loss: 7.0894 - mae: 7.0894\n",
            "Epoch 65/100\n",
            "1/1 [==============================] - 0s 9ms/step - loss: 7.0838 - mae: 7.0838\n",
            "Epoch 66/100\n",
            "1/1 [==============================] - 0s 9ms/step - loss: 7.0781 - mae: 7.0781\n",
            "Epoch 67/100\n",
            "1/1 [==============================] - 0s 11ms/step - loss: 7.0725 - mae: 7.0725\n",
            "Epoch 68/100\n",
            "1/1 [==============================] - 0s 12ms/step - loss: 7.0669 - mae: 7.0669\n",
            "Epoch 69/100\n",
            "1/1 [==============================] - 0s 13ms/step - loss: 7.0613 - mae: 7.0613\n",
            "Epoch 70/100\n",
            "1/1 [==============================] - 0s 6ms/step - loss: 7.0556 - mae: 7.0556\n",
            "Epoch 71/100\n",
            "1/1 [==============================] - 0s 16ms/step - loss: 7.0500 - mae: 7.0500\n",
            "Epoch 72/100\n",
            "1/1 [==============================] - 0s 16ms/step - loss: 7.0444 - mae: 7.0444\n",
            "Epoch 73/100\n",
            "1/1 [==============================] - 0s 11ms/step - loss: 7.0388 - mae: 7.0388\n",
            "Epoch 74/100\n",
            "1/1 [==============================] - 0s 9ms/step - loss: 7.0331 - mae: 7.0331\n",
            "Epoch 75/100\n",
            "1/1 [==============================] - 0s 11ms/step - loss: 7.0275 - mae: 7.0275\n",
            "Epoch 76/100\n",
            "1/1 [==============================] - 0s 5ms/step - loss: 7.0219 - mae: 7.0219\n",
            "Epoch 77/100\n",
            "1/1 [==============================] - 0s 7ms/step - loss: 7.0163 - mae: 7.0163\n",
            "Epoch 78/100\n",
            "1/1 [==============================] - 0s 31ms/step - loss: 7.0106 - mae: 7.0106\n",
            "Epoch 79/100\n",
            "1/1 [==============================] - 0s 9ms/step - loss: 7.0050 - mae: 7.0050\n",
            "Epoch 80/100\n",
            "1/1 [==============================] - 0s 8ms/step - loss: 6.9994 - mae: 6.9994\n",
            "Epoch 81/100\n",
            "1/1 [==============================] - 0s 11ms/step - loss: 6.9938 - mae: 6.9938\n",
            "Epoch 82/100\n",
            "1/1 [==============================] - 0s 18ms/step - loss: 6.9881 - mae: 6.9881\n",
            "Epoch 83/100\n",
            "1/1 [==============================] - 0s 12ms/step - loss: 6.9825 - mae: 6.9825\n",
            "Epoch 84/100\n",
            "1/1 [==============================] - 0s 16ms/step - loss: 6.9769 - mae: 6.9769\n",
            "Epoch 85/100\n",
            "1/1 [==============================] - 0s 10ms/step - loss: 6.9713 - mae: 6.9713\n",
            "Epoch 86/100\n",
            "1/1 [==============================] - 0s 14ms/step - loss: 6.9656 - mae: 6.9656\n",
            "Epoch 87/100\n",
            "1/1 [==============================] - 0s 11ms/step - loss: 6.9600 - mae: 6.9600\n",
            "Epoch 88/100\n",
            "1/1 [==============================] - 0s 22ms/step - loss: 6.9544 - mae: 6.9544\n",
            "Epoch 89/100\n",
            "1/1 [==============================] - 0s 15ms/step - loss: 6.9488 - mae: 6.9488\n",
            "Epoch 90/100\n",
            "1/1 [==============================] - 0s 18ms/step - loss: 6.9431 - mae: 6.9431\n",
            "Epoch 91/100\n",
            "1/1 [==============================] - 0s 11ms/step - loss: 6.9375 - mae: 6.9375\n",
            "Epoch 92/100\n",
            "1/1 [==============================] - 0s 16ms/step - loss: 6.9319 - mae: 6.9319\n",
            "Epoch 93/100\n",
            "1/1 [==============================] - 0s 11ms/step - loss: 6.9263 - mae: 6.9263\n",
            "Epoch 94/100\n",
            "1/1 [==============================] - 0s 20ms/step - loss: 6.9206 - mae: 6.9206\n",
            "Epoch 95/100\n",
            "1/1 [==============================] - 0s 7ms/step - loss: 6.9150 - mae: 6.9150\n",
            "Epoch 96/100\n",
            "1/1 [==============================] - 0s 25ms/step - loss: 6.9094 - mae: 6.9094\n",
            "Epoch 97/100\n",
            "1/1 [==============================] - 0s 19ms/step - loss: 6.9038 - mae: 6.9038\n",
            "Epoch 98/100\n",
            "1/1 [==============================] - 0s 18ms/step - loss: 6.8981 - mae: 6.8981\n",
            "Epoch 99/100\n",
            "1/1 [==============================] - 0s 12ms/step - loss: 6.8925 - mae: 6.8925\n",
            "Epoch 100/100\n",
            "1/1 [==============================] - 0s 22ms/step - loss: 6.8869 - mae: 6.8869\n"
          ]
        },
        {
          "output_type": "execute_result",
          "data": {
            "text/plain": [
              "<keras.callbacks.History at 0x7fa416384890>"
            ]
          },
          "metadata": {},
          "execution_count": 13
        }
      ]
    },
    {
      "cell_type": "code",
      "source": [
        "#try and make a predictioons using our model\n",
        "y_pred=model.predict([17.0])\n",
        "y_pred"
      ],
      "metadata": {
        "colab": {
          "base_uri": "https://localhost:8080/"
        },
        "id": "8LfDfRyWibEI",
        "outputId": "364c664f-ffb6-4188-d88e-66115b016e65"
      },
      "execution_count": 14,
      "outputs": [
        {
          "output_type": "execute_result",
          "data": {
            "text/plain": [
              "array([[29.739855]], dtype=float32)"
            ]
          },
          "metadata": {},
          "execution_count": 14
        }
      ]
    },
    {
      "cell_type": "code",
      "source": [
        "#create the model (with extra hidden layer)\n",
        "model= tf.keras.Sequential([\n",
        "  tf.keras.layers.Dense(50, activation=None),\n",
        "  tf.keras.layers.Dense(1)\n",
        "])\n",
        "\n",
        "#2. compiling the model\n",
        "model.compile(loss=\"mae\",\n",
        "              optimizer=tf.keras.optimizers.Adam(lr=0.01),\n",
        "              metrics=[\"mae\"])\n",
        "\n",
        "#3. fit the model\n",
        "model.fit(tf.expand_dims(X, axis=-1), y, epochs=100)"
      ],
      "metadata": {
        "id": "uxLu8IUnivBC",
        "colab": {
          "base_uri": "https://localhost:8080/"
        },
        "outputId": "36299ab1-e3e7-4966-94b5-dfc436c79ff0"
      },
      "execution_count": 38,
      "outputs": [
        {
          "output_type": "stream",
          "name": "stderr",
          "text": [
            "/usr/local/lib/python3.7/dist-packages/keras/optimizer_v2/adam.py:105: UserWarning: The `lr` argument is deprecated, use `learning_rate` instead.\n",
            "  super(Adam, self).__init__(name, **kwargs)\n"
          ]
        },
        {
          "output_type": "stream",
          "name": "stdout",
          "text": [
            "Epoch 1/100\n",
            "2/2 [==============================] - 0s 4ms/step - loss: 23.5724 - mae: 23.5724\n",
            "Epoch 2/100\n",
            "2/2 [==============================] - 0s 4ms/step - loss: 11.6190 - mae: 11.6190\n",
            "Epoch 3/100\n",
            "2/2 [==============================] - 0s 8ms/step - loss: 10.3445 - mae: 10.3445\n",
            "Epoch 4/100\n",
            "2/2 [==============================] - 0s 4ms/step - loss: 12.6074 - mae: 12.6074\n",
            "Epoch 5/100\n",
            "2/2 [==============================] - 0s 7ms/step - loss: 9.7492 - mae: 9.7492\n",
            "Epoch 6/100\n",
            "2/2 [==============================] - 0s 7ms/step - loss: 9.3016 - mae: 9.3016\n",
            "Epoch 7/100\n",
            "2/2 [==============================] - 0s 5ms/step - loss: 9.2128 - mae: 9.2128\n",
            "Epoch 8/100\n",
            "2/2 [==============================] - 0s 6ms/step - loss: 10.2128 - mae: 10.2128\n",
            "Epoch 9/100\n",
            "2/2 [==============================] - 0s 6ms/step - loss: 9.1672 - mae: 9.1672\n",
            "Epoch 10/100\n",
            "2/2 [==============================] - 0s 5ms/step - loss: 8.2988 - mae: 8.2988\n",
            "Epoch 11/100\n",
            "2/2 [==============================] - 0s 7ms/step - loss: 8.2574 - mae: 8.2574\n",
            "Epoch 12/100\n",
            "2/2 [==============================] - 0s 11ms/step - loss: 8.3261 - mae: 8.3261\n",
            "Epoch 13/100\n",
            "2/2 [==============================] - 0s 7ms/step - loss: 8.3060 - mae: 8.3060\n",
            "Epoch 14/100\n",
            "2/2 [==============================] - 0s 10ms/step - loss: 7.6943 - mae: 7.6943\n",
            "Epoch 15/100\n",
            "2/2 [==============================] - 0s 7ms/step - loss: 7.4498 - mae: 7.4498\n",
            "Epoch 16/100\n",
            "2/2 [==============================] - 0s 14ms/step - loss: 7.4188 - mae: 7.4188\n",
            "Epoch 17/100\n",
            "2/2 [==============================] - 0s 8ms/step - loss: 7.2393 - mae: 7.2393\n",
            "Epoch 18/100\n",
            "2/2 [==============================] - 0s 7ms/step - loss: 7.0581 - mae: 7.0581\n",
            "Epoch 19/100\n",
            "2/2 [==============================] - 0s 10ms/step - loss: 6.7261 - mae: 6.7261\n",
            "Epoch 20/100\n",
            "2/2 [==============================] - 0s 13ms/step - loss: 6.5856 - mae: 6.5856\n",
            "Epoch 21/100\n",
            "2/2 [==============================] - 0s 9ms/step - loss: 6.3266 - mae: 6.3266\n",
            "Epoch 22/100\n",
            "2/2 [==============================] - 0s 12ms/step - loss: 5.9433 - mae: 5.9433\n",
            "Epoch 23/100\n",
            "2/2 [==============================] - 0s 5ms/step - loss: 5.7068 - mae: 5.7068\n",
            "Epoch 24/100\n",
            "2/2 [==============================] - 0s 10ms/step - loss: 5.3827 - mae: 5.3827\n",
            "Epoch 25/100\n",
            "2/2 [==============================] - 0s 5ms/step - loss: 5.1195 - mae: 5.1195\n",
            "Epoch 26/100\n",
            "2/2 [==============================] - 0s 5ms/step - loss: 4.8046 - mae: 4.8046\n",
            "Epoch 27/100\n",
            "2/2 [==============================] - 0s 8ms/step - loss: 4.4621 - mae: 4.4621\n",
            "Epoch 28/100\n",
            "2/2 [==============================] - 0s 7ms/step - loss: 4.1022 - mae: 4.1022\n",
            "Epoch 29/100\n",
            "2/2 [==============================] - 0s 6ms/step - loss: 3.7127 - mae: 3.7127\n",
            "Epoch 30/100\n",
            "2/2 [==============================] - 0s 8ms/step - loss: 3.3659 - mae: 3.3659\n",
            "Epoch 31/100\n",
            "2/2 [==============================] - 0s 7ms/step - loss: 3.2960 - mae: 3.2960\n",
            "Epoch 32/100\n",
            "2/2 [==============================] - 0s 6ms/step - loss: 2.6655 - mae: 2.6655\n",
            "Epoch 33/100\n",
            "2/2 [==============================] - 0s 10ms/step - loss: 2.0209 - mae: 2.0209\n",
            "Epoch 34/100\n",
            "2/2 [==============================] - 0s 5ms/step - loss: 1.8229 - mae: 1.8229\n",
            "Epoch 35/100\n",
            "2/2 [==============================] - 0s 5ms/step - loss: 1.2288 - mae: 1.2288\n",
            "Epoch 36/100\n",
            "2/2 [==============================] - 0s 5ms/step - loss: 2.0949 - mae: 2.0949\n",
            "Epoch 37/100\n",
            "2/2 [==============================] - 0s 5ms/step - loss: 2.1202 - mae: 2.1202\n",
            "Epoch 38/100\n",
            "2/2 [==============================] - 0s 5ms/step - loss: 1.4602 - mae: 1.4602\n",
            "Epoch 39/100\n",
            "2/2 [==============================] - 0s 5ms/step - loss: 4.7247 - mae: 4.7247\n",
            "Epoch 40/100\n",
            "2/2 [==============================] - 0s 5ms/step - loss: 2.1026 - mae: 2.1026\n",
            "Epoch 41/100\n",
            "2/2 [==============================] - 0s 4ms/step - loss: 4.2328 - mae: 4.2328\n",
            "Epoch 42/100\n",
            "2/2 [==============================] - 0s 5ms/step - loss: 1.8739 - mae: 1.8739\n",
            "Epoch 43/100\n",
            "2/2 [==============================] - 0s 10ms/step - loss: 4.5988 - mae: 4.5988\n",
            "Epoch 44/100\n",
            "2/2 [==============================] - 0s 7ms/step - loss: 2.0278 - mae: 2.0278\n",
            "Epoch 45/100\n",
            "2/2 [==============================] - 0s 6ms/step - loss: 2.6708 - mae: 2.6708\n",
            "Epoch 46/100\n",
            "2/2 [==============================] - 0s 8ms/step - loss: 1.1577 - mae: 1.1577\n",
            "Epoch 47/100\n",
            "2/2 [==============================] - 0s 7ms/step - loss: 2.2710 - mae: 2.2710\n",
            "Epoch 48/100\n",
            "2/2 [==============================] - 0s 6ms/step - loss: 1.4411 - mae: 1.4411\n",
            "Epoch 49/100\n",
            "2/2 [==============================] - 0s 7ms/step - loss: 1.0755 - mae: 1.0755\n",
            "Epoch 50/100\n",
            "2/2 [==============================] - 0s 5ms/step - loss: 1.0085 - mae: 1.0085\n",
            "Epoch 51/100\n",
            "2/2 [==============================] - 0s 6ms/step - loss: 2.8576 - mae: 2.8576\n",
            "Epoch 52/100\n",
            "2/2 [==============================] - 0s 8ms/step - loss: 1.7678 - mae: 1.7678\n",
            "Epoch 53/100\n",
            "2/2 [==============================] - 0s 5ms/step - loss: 3.4452 - mae: 3.4452\n",
            "Epoch 54/100\n",
            "2/2 [==============================] - 0s 6ms/step - loss: 3.5658 - mae: 3.5658\n",
            "Epoch 55/100\n",
            "2/2 [==============================] - 0s 4ms/step - loss: 1.2647 - mae: 1.2647\n",
            "Epoch 56/100\n",
            "2/2 [==============================] - 0s 6ms/step - loss: 3.3312 - mae: 3.3312\n",
            "Epoch 57/100\n",
            "2/2 [==============================] - 0s 11ms/step - loss: 1.3149 - mae: 1.3149\n",
            "Epoch 58/100\n",
            "2/2 [==============================] - 0s 11ms/step - loss: 3.1223 - mae: 3.1223\n",
            "Epoch 59/100\n",
            "2/2 [==============================] - 0s 13ms/step - loss: 1.4083 - mae: 1.4083\n",
            "Epoch 60/100\n",
            "2/2 [==============================] - 0s 7ms/step - loss: 1.5123 - mae: 1.5123\n",
            "Epoch 61/100\n",
            "2/2 [==============================] - 0s 5ms/step - loss: 0.5533 - mae: 0.5533\n",
            "Epoch 62/100\n",
            "2/2 [==============================] - 0s 10ms/step - loss: 0.2813 - mae: 0.2813\n",
            "Epoch 63/100\n",
            "2/2 [==============================] - 0s 5ms/step - loss: 0.3043 - mae: 0.3043\n",
            "Epoch 64/100\n",
            "2/2 [==============================] - 0s 9ms/step - loss: 0.3862 - mae: 0.3862\n",
            "Epoch 65/100\n",
            "2/2 [==============================] - 0s 7ms/step - loss: 0.4476 - mae: 0.4476\n",
            "Epoch 66/100\n",
            "2/2 [==============================] - 0s 6ms/step - loss: 0.5776 - mae: 0.5776\n",
            "Epoch 67/100\n",
            "2/2 [==============================] - 0s 8ms/step - loss: 0.9230 - mae: 0.9230\n",
            "Epoch 68/100\n",
            "2/2 [==============================] - 0s 9ms/step - loss: 1.1073 - mae: 1.1073\n",
            "Epoch 69/100\n",
            "2/2 [==============================] - 0s 7ms/step - loss: 0.2915 - mae: 0.2915\n",
            "Epoch 70/100\n",
            "2/2 [==============================] - 0s 6ms/step - loss: 0.7300 - mae: 0.7300\n",
            "Epoch 71/100\n",
            "2/2 [==============================] - 0s 5ms/step - loss: 0.6670 - mae: 0.6670\n",
            "Epoch 72/100\n",
            "2/2 [==============================] - 0s 7ms/step - loss: 0.6582 - mae: 0.6582\n",
            "Epoch 73/100\n",
            "2/2 [==============================] - 0s 6ms/step - loss: 0.5187 - mae: 0.5187\n",
            "Epoch 74/100\n",
            "2/2 [==============================] - 0s 6ms/step - loss: 0.5893 - mae: 0.5893\n",
            "Epoch 75/100\n",
            "2/2 [==============================] - 0s 6ms/step - loss: 0.9110 - mae: 0.9110\n",
            "Epoch 76/100\n",
            "2/2 [==============================] - 0s 8ms/step - loss: 0.3990 - mae: 0.3990\n",
            "Epoch 77/100\n",
            "2/2 [==============================] - 0s 9ms/step - loss: 0.6774 - mae: 0.6774\n",
            "Epoch 78/100\n",
            "2/2 [==============================] - 0s 10ms/step - loss: 0.6780 - mae: 0.6780\n",
            "Epoch 79/100\n",
            "2/2 [==============================] - 0s 6ms/step - loss: 0.4528 - mae: 0.4528\n",
            "Epoch 80/100\n",
            "2/2 [==============================] - 0s 6ms/step - loss: 0.6293 - mae: 0.6293\n",
            "Epoch 81/100\n",
            "2/2 [==============================] - 0s 5ms/step - loss: 0.6116 - mae: 0.6116\n",
            "Epoch 82/100\n",
            "2/2 [==============================] - 0s 4ms/step - loss: 0.3924 - mae: 0.3924\n",
            "Epoch 83/100\n",
            "2/2 [==============================] - 0s 6ms/step - loss: 0.7778 - mae: 0.7778\n",
            "Epoch 84/100\n",
            "2/2 [==============================] - 0s 4ms/step - loss: 2.0788 - mae: 2.0788\n",
            "Epoch 85/100\n",
            "2/2 [==============================] - 0s 4ms/step - loss: 1.4372 - mae: 1.4372\n",
            "Epoch 86/100\n",
            "2/2 [==============================] - 0s 5ms/step - loss: 2.3776 - mae: 2.3776\n",
            "Epoch 87/100\n",
            "2/2 [==============================] - 0s 8ms/step - loss: 2.7303 - mae: 2.7303\n",
            "Epoch 88/100\n",
            "2/2 [==============================] - 0s 7ms/step - loss: 0.7166 - mae: 0.7166\n",
            "Epoch 89/100\n",
            "2/2 [==============================] - 0s 7ms/step - loss: 2.0061 - mae: 2.0061\n",
            "Epoch 90/100\n",
            "2/2 [==============================] - 0s 7ms/step - loss: 0.5478 - mae: 0.5478\n",
            "Epoch 91/100\n",
            "2/2 [==============================] - 0s 5ms/step - loss: 1.9684 - mae: 1.9684\n",
            "Epoch 92/100\n",
            "2/2 [==============================] - 0s 5ms/step - loss: 0.5877 - mae: 0.5877\n",
            "Epoch 93/100\n",
            "2/2 [==============================] - 0s 5ms/step - loss: 1.4601 - mae: 1.4601\n",
            "Epoch 94/100\n",
            "2/2 [==============================] - 0s 6ms/step - loss: 1.0341 - mae: 1.0341\n",
            "Epoch 95/100\n",
            "2/2 [==============================] - 0s 4ms/step - loss: 0.8106 - mae: 0.8106\n",
            "Epoch 96/100\n",
            "2/2 [==============================] - 0s 5ms/step - loss: 0.9232 - mae: 0.9232\n",
            "Epoch 97/100\n",
            "2/2 [==============================] - 0s 4ms/step - loss: 1.2685 - mae: 1.2685\n",
            "Epoch 98/100\n",
            "2/2 [==============================] - 0s 8ms/step - loss: 0.8410 - mae: 0.8410\n",
            "Epoch 99/100\n",
            "2/2 [==============================] - 0s 7ms/step - loss: 0.9838 - mae: 0.9838\n",
            "Epoch 100/100\n",
            "2/2 [==============================] - 0s 5ms/step - loss: 1.0764 - mae: 1.0764\n"
          ]
        },
        {
          "output_type": "execute_result",
          "data": {
            "text/plain": [
              "<keras.callbacks.History at 0x7fa49320c5d0>"
            ]
          },
          "metadata": {},
          "execution_count": 38
        }
      ]
    },
    {
      "cell_type": "code",
      "source": [
        "model.predict([17.0])"
      ],
      "metadata": {
        "colab": {
          "base_uri": "https://localhost:8080/"
        },
        "id": "cKfLYwhx2zsE",
        "outputId": "8131a836-4c5c-4dd8-8e82-984c0ebdf9e1"
      },
      "execution_count": 16,
      "outputs": [
        {
          "output_type": "execute_result",
          "data": {
            "text/plain": [
              "array([[26.58353]], dtype=float32)"
            ]
          },
          "metadata": {},
          "execution_count": 16
        }
      ]
    },
    {
      "cell_type": "markdown",
      "source": [
        "###Evaluating the model"
      ],
      "metadata": {
        "id": "XmuLVE152-7p"
      }
    },
    {
      "cell_type": "code",
      "source": [
        "#make a bigger dataset\n",
        "X=tf.range(-100,100,4)\n",
        "X"
      ],
      "metadata": {
        "colab": {
          "base_uri": "https://localhost:8080/"
        },
        "id": "LYtM4vYF41O0",
        "outputId": "f63bf108-f38e-4de3-9a33-5dff8d35f395"
      },
      "execution_count": 17,
      "outputs": [
        {
          "output_type": "execute_result",
          "data": {
            "text/plain": [
              "<tf.Tensor: shape=(50,), dtype=int32, numpy=\n",
              "array([-100,  -96,  -92,  -88,  -84,  -80,  -76,  -72,  -68,  -64,  -60,\n",
              "        -56,  -52,  -48,  -44,  -40,  -36,  -32,  -28,  -24,  -20,  -16,\n",
              "        -12,   -8,   -4,    0,    4,    8,   12,   16,   20,   24,   28,\n",
              "         32,   36,   40,   44,   48,   52,   56,   60,   64,   68,   72,\n",
              "         76,   80,   84,   88,   92,   96], dtype=int32)>"
            ]
          },
          "metadata": {},
          "execution_count": 17
        }
      ]
    },
    {
      "cell_type": "code",
      "source": [
        "#make label for dataset\n",
        "y=X+10\n",
        "y"
      ],
      "metadata": {
        "colab": {
          "base_uri": "https://localhost:8080/"
        },
        "id": "5_e2L2ve5881",
        "outputId": "6ec74b2f-e0ca-4482-a2a9-24798145e831"
      },
      "execution_count": 18,
      "outputs": [
        {
          "output_type": "execute_result",
          "data": {
            "text/plain": [
              "<tf.Tensor: shape=(50,), dtype=int32, numpy=\n",
              "array([-90, -86, -82, -78, -74, -70, -66, -62, -58, -54, -50, -46, -42,\n",
              "       -38, -34, -30, -26, -22, -18, -14, -10,  -6,  -2,   2,   6,  10,\n",
              "        14,  18,  22,  26,  30,  34,  38,  42,  46,  50,  54,  58,  62,\n",
              "        66,  70,  74,  78,  82,  86,  90,  94,  98, 102, 106], dtype=int32)>"
            ]
          },
          "metadata": {},
          "execution_count": 18
        }
      ]
    },
    {
      "cell_type": "code",
      "source": [
        "#visualize the data\n",
        "import matplotlib.pyplot as plt\n",
        "\n",
        "plt.scatter(X,y)"
      ],
      "metadata": {
        "colab": {
          "base_uri": "https://localhost:8080/",
          "height": 282
        },
        "id": "lSZMR4nz6CjT",
        "outputId": "7c54dd41-8975-4304-9b0b-9d92cb0868ca"
      },
      "execution_count": 19,
      "outputs": [
        {
          "output_type": "execute_result",
          "data": {
            "text/plain": [
              "<matplotlib.collections.PathCollection at 0x7fa41543fa50>"
            ]
          },
          "metadata": {},
          "execution_count": 19
        },
        {
          "output_type": "display_data",
          "data": {
            "image/png": "[encoded data removed]",
            "text/plain": [
              "<Figure size 432x288 with 1 Axes>"
            ]
          },
          "metadata": {
            "needs_background": "light"
          }
        }
      ]
    },
    {
      "cell_type": "markdown",
      "source": [
        "### the 3 sets...\n",
        "* Training set\n",
        "* Validation set\n",
        "* Test set"
      ],
      "metadata": {
        "id": "yBzQDx6z6N8i"
      }
    },
    {
      "cell_type": "code",
      "source": [
        "#check the length the set \n",
        "len(X)"
      ],
      "metadata": {
        "colab": {
          "base_uri": "https://localhost:8080/"
        },
        "id": "vSePg2346fM7",
        "outputId": "512a6468-8dc7-4762-def3-d270723ec78a"
      },
      "execution_count": 20,
      "outputs": [
        {
          "output_type": "execute_result",
          "data": {
            "text/plain": [
              "50"
            ]
          },
          "metadata": {},
          "execution_count": 20
        }
      ]
    },
    {
      "cell_type": "code",
      "source": [
        "#Split the data into train set\n",
        "X_Train =X[:40] #first 40  of the data train set\n",
        "y_Train=y[:40]\n",
        "\n",
        "X_Test= X[40:] #last 40 of the data test set  \n",
        "y_Test=y[40:]\n",
        "\n",
        "len(X_Train), len(X_Test), len(y_Train), len(y_Test)"
      ],
      "metadata": {
        "colab": {
          "base_uri": "https://localhost:8080/"
        },
        "id": "CCUZDejz7cmG",
        "outputId": "044dc86e-739c-4c3c-924f-f552aa1f8735"
      },
      "execution_count": 21,
      "outputs": [
        {
          "output_type": "execute_result",
          "data": {
            "text/plain": [
              "(40, 10, 40, 10)"
            ]
          },
          "metadata": {},
          "execution_count": 21
        }
      ]
    },
    {
      "cell_type": "markdown",
      "source": [
        "###Visualizing the data"
      ],
      "metadata": {
        "id": "uiSACcaB8K0B"
      }
    },
    {
      "cell_type": "code",
      "source": [
        "plt.figure(figsize=(10,7))\n",
        "\n",
        "#plot the training data in blue\n",
        "plt.scatter(X_Train, y_Train, c=\"b\", label=\" Training data\")\n",
        "\n",
        "plt.scatter(X_Test,y_Test, c=\"g\", label=\"Test data\")\n",
        "plt.legend()"
      ],
      "metadata": {
        "colab": {
          "base_uri": "https://localhost:8080/",
          "height": 445
        },
        "id": "bTb8YjP78YQZ",
        "outputId": "ad2938f5-0a5f-40c0-c554-e4e56e34804c"
      },
      "execution_count": 22,
      "outputs": [
        {
          "output_type": "execute_result",
          "data": {
            "text/plain": [
              "<matplotlib.legend.Legend at 0x7fa4153fb650>"
            ]
          },
          "metadata": {},
          "execution_count": 22
        },
        {
          "output_type": "display_data",
          "data": {
            "image/png": "[encoded data removed]",
            "text/plain": [
              "<Figure size 720x504 with 1 Axes>"
            ]
          },
          "metadata": {
            "needs_background": "light"
          }
        }
      ]
    },
    {
      "cell_type": "code",
      "source": [
        "#build neural network model\n",
        "\n",
        "#1. create a model\n",
        "model=tf.keras.Sequential([\n",
        "                           tf.keras.layers.Dense(1)\n",
        "])\n",
        "\n",
        "#2. compile the model\n",
        "model.compile(loss=tf.keras.losses.mae,\n",
        "             optimizer=tf.keras.optimizers.SGD(),\n",
        "             metrics=[\"mae\"])\n",
        "\n",
        "#3. fit the model\n",
        "#model.fit(tf.expand_dims(X, axis=-1),y, epochs=100)"
      ],
      "metadata": {
        "id": "ayevHcHl8vki"
      },
      "execution_count": 23,
      "outputs": []
    },
    {
      "cell_type": "code",
      "source": [
        "model.summary()"
      ],
      "metadata": {
        "colab": {
          "base_uri": "https://localhost:8080/",
          "height": 321
        },
        "id": "eS-KUkp6ob5q",
        "outputId": "1d7c63f1-b48c-474e-8dc9-47f2231aee44"
      },
      "execution_count": 24,
      "outputs": [
        {
          "output_type": "error",
          "ename": "ValueError",
          "evalue": "ignored",
          "traceback": [
            "\u001b[0;31m---------------------------------------------------------------------------\u001b[0m",
            "\u001b[0;31mValueError\u001b[0m                                Traceback (most recent call last)",
            "\u001b[0;32m<ipython-input-24-5f15418b3570>\u001b[0m in \u001b[0;36m<module>\u001b[0;34m()\u001b[0m\n\u001b[0;32m----> 1\u001b[0;31m \u001b[0mmodel\u001b[0m\u001b[0;34m.\u001b[0m\u001b[0msummary\u001b[0m\u001b[0;34m(\u001b[0m\u001b[0;34m)\u001b[0m\u001b[0;34m\u001b[0m\u001b[0;34m\u001b[0m\u001b[0m\n\u001b[0m",
            "\u001b[0;32m/usr/local/lib/python3.7/dist-packages/keras/engine/training.py\u001b[0m in \u001b[0;36msummary\u001b[0;34m(self, line_length, positions, print_fn, expand_nested)\u001b[0m\n\u001b[1;32m   2578\u001b[0m     \u001b[0;32mif\u001b[0m \u001b[0;32mnot\u001b[0m \u001b[0mself\u001b[0m\u001b[0;34m.\u001b[0m\u001b[0mbuilt\u001b[0m\u001b[0;34m:\u001b[0m\u001b[0;34m\u001b[0m\u001b[0;34m\u001b[0m\u001b[0m\n\u001b[1;32m   2579\u001b[0m       raise ValueError(\n\u001b[0;32m-> 2580\u001b[0;31m           \u001b[0;34m'This model has not yet been built. '\u001b[0m\u001b[0;34m\u001b[0m\u001b[0;34m\u001b[0m\u001b[0m\n\u001b[0m\u001b[1;32m   2581\u001b[0m           \u001b[0;34m'Build the model first by calling `build()` or by calling '\u001b[0m\u001b[0;34m\u001b[0m\u001b[0;34m\u001b[0m\u001b[0m\n\u001b[1;32m   2582\u001b[0m           'the model on a batch of data.')\n",
            "\u001b[0;31mValueError\u001b[0m: This model has not yet been built. Build the model first by calling `build()` or by calling the model on a batch of data."
          ]
        }
      ]
    },
    {
      "cell_type": "code",
      "source": [
        "#create a model which automatically build by defining the input_shape argument\n",
        "tf.random.set_seed(42)\n",
        "\n",
        "model=tf.keras.Sequential([\n",
        "                           tf.keras.layers.Dense(10, input_shape=[1]),\n",
        "                           tf.keras.layers.Dense(1, name=\"output_layer\")\n",
        "], name=\"model_1\")\n",
        "\n",
        "model.compile(loss=tf.keras.losses.mae,\n",
        "              optimizer=tf.keras.optimizers.SGD(),\n",
        "              metrics=[\"mae\"])"
      ],
      "metadata": {
        "id": "_nsYxcfyogkk"
      },
      "execution_count": 25,
      "outputs": []
    },
    {
      "cell_type": "code",
      "source": [
        "model.summary()"
      ],
      "metadata": {
        "colab": {
          "base_uri": "https://localhost:8080/"
        },
        "id": "DJ-dlZOGo38i",
        "outputId": "8d33bd6e-4c29-4eb4-9686-664c17df6a58"
      },
      "execution_count": 26,
      "outputs": [
        {
          "output_type": "stream",
          "name": "stdout",
          "text": [
            "Model: \"model_1\"\n",
            "_________________________________________________________________\n",
            " Layer (type)                Output Shape              Param #   \n",
            "=================================================================\n",
            " dense_5 (Dense)             (None, 10)                20        \n",
            "                                                                 \n",
            " output_layer (Dense)        (None, 1)                 11        \n",
            "                                                                 \n",
            "=================================================================\n",
            "Total params: 31\n",
            "Trainable params: 31\n",
            "Non-trainable params: 0\n",
            "_________________________________________________________________\n"
          ]
        }
      ]
    },
    {
      "cell_type": "markdown",
      "source": [
        "* Total params- total numebr of parameters in the model\n",
        "*Trainable parameters- these are the parameters/pattern the model can update as it trains.\n",
        "* Non-Trainable params- parameters that aren't updated during training."
      ],
      "metadata": {
        "id": "AMFm2WOMpZ-u"
      }
    },
    {
      "cell_type": "code",
      "source": [
        "model.fit(tf.expand_dims(X, axis=-1), y, epochs=100, verbose=1)"
      ],
      "metadata": {
        "colab": {
          "base_uri": "https://localhost:8080/"
        },
        "id": "U1apsslcpR43",
        "outputId": "e8a92284-05a7-49c6-f7fa-d7aed0177c27"
      },
      "execution_count": 27,
      "outputs": [
        {
          "output_type": "stream",
          "name": "stdout",
          "text": [
            "Epoch 1/100\n",
            "2/2 [==============================] - 1s 5ms/step - loss: 40.2867 - mae: 40.2867\n",
            "Epoch 2/100\n",
            "2/2 [==============================] - 0s 12ms/step - loss: 25.9297 - mae: 25.9297\n",
            "Epoch 3/100\n",
            "2/2 [==============================] - 0s 12ms/step - loss: 44.1696 - mae: 44.1696\n",
            "Epoch 4/100\n",
            "2/2 [==============================] - 0s 5ms/step - loss: 11.2212 - mae: 11.2212\n",
            "Epoch 5/100\n",
            "2/2 [==============================] - 0s 16ms/step - loss: 23.0317 - mae: 23.0317\n",
            "Epoch 6/100\n",
            "2/2 [==============================] - 0s 5ms/step - loss: 24.2563 - mae: 24.2563\n",
            "Epoch 7/100\n",
            "2/2 [==============================] - 0s 22ms/step - loss: 11.2416 - mae: 11.2416\n",
            "Epoch 8/100\n",
            "2/2 [==============================] - 0s 10ms/step - loss: 34.1576 - mae: 34.1576\n",
            "Epoch 9/100\n",
            "2/2 [==============================] - 0s 4ms/step - loss: 12.5246 - mae: 12.5246\n",
            "Epoch 10/100\n",
            "2/2 [==============================] - 0s 6ms/step - loss: 10.1823 - mae: 10.1823\n",
            "Epoch 11/100\n",
            "2/2 [==============================] - 0s 10ms/step - loss: 23.0436 - mae: 23.0436\n",
            "Epoch 12/100\n",
            "2/2 [==============================] - 0s 4ms/step - loss: 16.3819 - mae: 16.3819\n",
            "Epoch 13/100\n",
            "2/2 [==============================] - 0s 9ms/step - loss: 22.6688 - mae: 22.6688\n",
            "Epoch 14/100\n",
            "2/2 [==============================] - 0s 10ms/step - loss: 22.1103 - mae: 22.1103\n",
            "Epoch 15/100\n",
            "2/2 [==============================] - 0s 6ms/step - loss: 19.8442 - mae: 19.8442\n",
            "Epoch 16/100\n",
            "2/2 [==============================] - 0s 11ms/step - loss: 23.1707 - mae: 23.1707\n",
            "Epoch 17/100\n",
            "2/2 [==============================] - 0s 9ms/step - loss: 11.5075 - mae: 11.5075\n",
            "Epoch 18/100\n",
            "2/2 [==============================] - 0s 6ms/step - loss: 29.7742 - mae: 29.7742\n",
            "Epoch 19/100\n",
            "2/2 [==============================] - 0s 9ms/step - loss: 18.4085 - mae: 18.4085\n",
            "Epoch 20/100\n",
            "2/2 [==============================] - 0s 10ms/step - loss: 18.7610 - mae: 18.7610\n",
            "Epoch 21/100\n",
            "2/2 [==============================] - 0s 6ms/step - loss: 19.4369 - mae: 19.4369\n",
            "Epoch 22/100\n",
            "2/2 [==============================] - 0s 9ms/step - loss: 20.5783 - mae: 20.5783\n",
            "Epoch 23/100\n",
            "2/2 [==============================] - 0s 9ms/step - loss: 19.8132 - mae: 19.8132\n",
            "Epoch 24/100\n",
            "2/2 [==============================] - 0s 10ms/step - loss: 18.7247 - mae: 18.7247\n",
            "Epoch 25/100\n",
            "2/2 [==============================] - 0s 7ms/step - loss: 21.7989 - mae: 21.7989\n",
            "Epoch 26/100\n",
            "2/2 [==============================] - 0s 11ms/step - loss: 10.6899 - mae: 10.6899\n",
            "Epoch 27/100\n",
            "2/2 [==============================] - 0s 5ms/step - loss: 30.8423 - mae: 30.8423\n",
            "Epoch 28/100\n",
            "2/2 [==============================] - 0s 18ms/step - loss: 16.5686 - mae: 16.5686\n",
            "Epoch 29/100\n",
            "2/2 [==============================] - 0s 10ms/step - loss: 33.0226 - mae: 33.0226\n",
            "Epoch 30/100\n",
            "2/2 [==============================] - 0s 7ms/step - loss: 19.5703 - mae: 19.5703\n",
            "Epoch 31/100\n",
            "2/2 [==============================] - 0s 7ms/step - loss: 12.5353 - mae: 12.5353\n",
            "Epoch 32/100\n",
            "2/2 [==============================] - 0s 8ms/step - loss: 20.7130 - mae: 20.7130\n",
            "Epoch 33/100\n",
            "2/2 [==============================] - 0s 9ms/step - loss: 20.6412 - mae: 20.6412\n",
            "Epoch 34/100\n",
            "2/2 [==============================] - 0s 13ms/step - loss: 21.2043 - mae: 21.2043\n",
            "Epoch 35/100\n",
            "2/2 [==============================] - 0s 9ms/step - loss: 21.3012 - mae: 21.3012\n",
            "Epoch 36/100\n",
            "2/2 [==============================] - 0s 7ms/step - loss: 18.8072 - mae: 18.8072\n",
            "Epoch 37/100\n",
            "2/2 [==============================] - 0s 10ms/step - loss: 27.4462 - mae: 27.4462\n",
            "Epoch 38/100\n",
            "2/2 [==============================] - 0s 12ms/step - loss: 29.1100 - mae: 29.1100\n",
            "Epoch 39/100\n",
            "2/2 [==============================] - 0s 13ms/step - loss: 20.5542 - mae: 20.5542\n",
            "Epoch 40/100\n",
            "2/2 [==============================] - 0s 6ms/step - loss: 20.6334 - mae: 20.6334\n",
            "Epoch 41/100\n",
            "2/2 [==============================] - 0s 8ms/step - loss: 24.9726 - mae: 24.9726\n",
            "Epoch 42/100\n",
            "2/2 [==============================] - 0s 8ms/step - loss: 20.5609 - mae: 20.5609\n",
            "Epoch 43/100\n",
            "2/2 [==============================] - 0s 11ms/step - loss: 23.1231 - mae: 23.1231\n",
            "Epoch 44/100\n",
            "2/2 [==============================] - 0s 24ms/step - loss: 9.8053 - mae: 9.8053\n",
            "Epoch 45/100\n",
            "2/2 [==============================] - 0s 4ms/step - loss: 22.5487 - mae: 22.5487\n",
            "Epoch 46/100\n",
            "2/2 [==============================] - 0s 4ms/step - loss: 9.2110 - mae: 9.2110\n",
            "Epoch 47/100\n",
            "2/2 [==============================] - 0s 7ms/step - loss: 20.3679 - mae: 20.3679\n",
            "Epoch 48/100\n",
            "2/2 [==============================] - 0s 6ms/step - loss: 8.4309 - mae: 8.4309\n",
            "Epoch 49/100\n",
            "2/2 [==============================] - 0s 6ms/step - loss: 12.6659 - mae: 12.6659\n",
            "Epoch 50/100\n",
            "2/2 [==============================] - 0s 12ms/step - loss: 32.1829 - mae: 32.1829\n",
            "Epoch 51/100\n",
            "2/2 [==============================] - 0s 6ms/step - loss: 16.5208 - mae: 16.5208\n",
            "Epoch 52/100\n",
            "2/2 [==============================] - 0s 19ms/step - loss: 33.7598 - mae: 33.7598\n",
            "Epoch 53/100\n",
            "2/2 [==============================] - 0s 17ms/step - loss: 9.7791 - mae: 9.7791\n",
            "Epoch 54/100\n",
            "2/2 [==============================] - 0s 15ms/step - loss: 11.4445 - mae: 11.4445\n",
            "Epoch 55/100\n",
            "2/2 [==============================] - 0s 12ms/step - loss: 24.6060 - mae: 24.6060\n",
            "Epoch 56/100\n",
            "2/2 [==============================] - 0s 10ms/step - loss: 9.1433 - mae: 9.1433\n",
            "Epoch 57/100\n",
            "2/2 [==============================] - 0s 5ms/step - loss: 11.6297 - mae: 11.6297\n",
            "Epoch 58/100\n",
            "2/2 [==============================] - 0s 7ms/step - loss: 27.3491 - mae: 27.3491\n",
            "Epoch 59/100\n",
            "2/2 [==============================] - 0s 6ms/step - loss: 25.1758 - mae: 25.1758\n",
            "Epoch 60/100\n",
            "2/2 [==============================] - 0s 12ms/step - loss: 11.4501 - mae: 11.4501\n",
            "Epoch 61/100\n",
            "2/2 [==============================] - 0s 7ms/step - loss: 31.5022 - mae: 31.5022\n",
            "Epoch 62/100\n",
            "2/2 [==============================] - 0s 8ms/step - loss: 21.6164 - mae: 21.6164\n",
            "Epoch 63/100\n",
            "2/2 [==============================] - 0s 6ms/step - loss: 9.4131 - mae: 9.4131\n",
            "Epoch 64/100\n",
            "2/2 [==============================] - 0s 8ms/step - loss: 27.2951 - mae: 27.2951\n",
            "Epoch 65/100\n",
            "2/2 [==============================] - 0s 8ms/step - loss: 8.9828 - mae: 8.9828\n",
            "Epoch 66/100\n",
            "2/2 [==============================] - 0s 6ms/step - loss: 9.2362 - mae: 9.2362\n",
            "Epoch 67/100\n",
            "2/2 [==============================] - 0s 5ms/step - loss: 25.8946 - mae: 25.8946\n",
            "Epoch 68/100\n",
            "2/2 [==============================] - 0s 9ms/step - loss: 16.4833 - mae: 16.4833\n",
            "Epoch 69/100\n",
            "2/2 [==============================] - 0s 6ms/step - loss: 25.0206 - mae: 25.0206\n",
            "Epoch 70/100\n",
            "2/2 [==============================] - 0s 16ms/step - loss: 26.0848 - mae: 26.0848\n",
            "Epoch 71/100\n",
            "2/2 [==============================] - 0s 9ms/step - loss: 19.4423 - mae: 19.4423\n",
            "Epoch 72/100\n",
            "2/2 [==============================] - 0s 13ms/step - loss: 25.3501 - mae: 25.3501\n",
            "Epoch 73/100\n",
            "2/2 [==============================] - 0s 14ms/step - loss: 35.7193 - mae: 35.7193\n",
            "Epoch 74/100\n",
            "2/2 [==============================] - 0s 12ms/step - loss: 16.4184 - mae: 16.4184\n",
            "Epoch 75/100\n",
            "2/2 [==============================] - 0s 29ms/step - loss: 30.0560 - mae: 30.0560\n",
            "Epoch 76/100\n",
            "2/2 [==============================] - 0s 13ms/step - loss: 24.7032 - mae: 24.7032\n",
            "Epoch 77/100\n",
            "2/2 [==============================] - 0s 36ms/step - loss: 17.8535 - mae: 17.8535\n",
            "Epoch 78/100\n",
            "2/2 [==============================] - 0s 9ms/step - loss: 23.0873 - mae: 23.0873\n",
            "Epoch 79/100\n",
            "2/2 [==============================] - 0s 13ms/step - loss: 10.0832 - mae: 10.0832\n",
            "Epoch 80/100\n",
            "2/2 [==============================] - 0s 10ms/step - loss: 22.9531 - mae: 22.9531\n",
            "Epoch 81/100\n",
            "2/2 [==============================] - 0s 7ms/step - loss: 26.6186 - mae: 26.6186\n",
            "Epoch 82/100\n",
            "2/2 [==============================] - 0s 7ms/step - loss: 8.7183 - mae: 8.7183\n",
            "Epoch 83/100\n",
            "2/2 [==============================] - 0s 8ms/step - loss: 17.7156 - mae: 17.7156\n",
            "Epoch 84/100\n",
            "2/2 [==============================] - 0s 7ms/step - loss: 21.7822 - mae: 21.7822\n",
            "Epoch 85/100\n",
            "2/2 [==============================] - 0s 7ms/step - loss: 8.5676 - mae: 8.5676\n",
            "Epoch 86/100\n",
            "2/2 [==============================] - 0s 5ms/step - loss: 10.1261 - mae: 10.1261\n",
            "Epoch 87/100\n",
            "2/2 [==============================] - 0s 9ms/step - loss: 33.4657 - mae: 33.4657\n",
            "Epoch 88/100\n",
            "2/2 [==============================] - 0s 7ms/step - loss: 20.4582 - mae: 20.4582\n",
            "Epoch 89/100\n",
            "2/2 [==============================] - 0s 7ms/step - loss: 21.4295 - mae: 21.4295\n",
            "Epoch 90/100\n",
            "2/2 [==============================] - 0s 4ms/step - loss: 40.8004 - mae: 40.8004\n",
            "Epoch 91/100\n",
            "2/2 [==============================] - 0s 7ms/step - loss: 16.7932 - mae: 16.7932\n",
            "Epoch 92/100\n",
            "2/2 [==============================] - 0s 8ms/step - loss: 19.9796 - mae: 19.9796\n",
            "Epoch 93/100\n",
            "2/2 [==============================] - 0s 5ms/step - loss: 20.7641 - mae: 20.7641\n",
            "Epoch 94/100\n",
            "2/2 [==============================] - 0s 5ms/step - loss: 26.1390 - mae: 26.1390\n",
            "Epoch 95/100\n",
            "2/2 [==============================] - 0s 8ms/step - loss: 29.1444 - mae: 29.1444\n",
            "Epoch 96/100\n",
            "2/2 [==============================] - 0s 5ms/step - loss: 20.5376 - mae: 20.5376\n",
            "Epoch 97/100\n",
            "2/2 [==============================] - 0s 7ms/step - loss: 21.5291 - mae: 21.5291\n",
            "Epoch 98/100\n",
            "2/2 [==============================] - 0s 7ms/step - loss: 12.7845 - mae: 12.7845\n",
            "Epoch 99/100\n",
            "2/2 [==============================] - 0s 4ms/step - loss: 16.1075 - mae: 16.1075\n",
            "Epoch 100/100\n",
            "2/2 [==============================] - 0s 8ms/step - loss: 20.3503 - mae: 20.3503\n"
          ]
        },
        {
          "output_type": "execute_result",
          "data": {
            "text/plain": [
              "<keras.callbacks.History at 0x7fa4139a0ad0>"
            ]
          },
          "metadata": {},
          "execution_count": 27
        }
      ]
    },
    {
      "cell_type": "code",
      "source": [
        "#get summary of the model\n",
        "model.summary()"
      ],
      "metadata": {
        "id": "mENxSJJmrV-e",
        "colab": {
          "base_uri": "https://localhost:8080/"
        },
        "outputId": "bb194a31-dcae-4fb2-df44-711e0a3e877b"
      },
      "execution_count": 28,
      "outputs": [
        {
          "output_type": "stream",
          "name": "stdout",
          "text": [
            "Model: \"model_1\"\n",
            "_________________________________________________________________\n",
            " Layer (type)                Output Shape              Param #   \n",
            "=================================================================\n",
            " dense_5 (Dense)             (None, 10)                20        \n",
            "                                                                 \n",
            " output_layer (Dense)        (None, 1)                 11        \n",
            "                                                                 \n",
            "=================================================================\n",
            "Total params: 31\n",
            "Trainable params: 31\n",
            "Non-trainable params: 0\n",
            "_________________________________________________________________\n"
          ]
        }
      ]
    },
    {
      "cell_type": "code",
      "source": [
        "from tensorflow.keras.utils import plot_model\n",
        "\n",
        "plot_model(model=model, show_shapes=True)"
      ],
      "metadata": {
        "colab": {
          "base_uri": "https://localhost:8080/",
          "height": 312
        },
        "id": "7EqSkO2wt-eq",
        "outputId": "7791c9b0-bc1a-4cc6-cc17-12084f4d8d19"
      },
      "execution_count": 29,
      "outputs": [
        {
          "output_type": "execute_result",
          "data": {
            "image/png": "[encoded data removed]",
            "text/plain": [
              "<IPython.core.display.Image object>"
            ]
          },
          "metadata": {},
          "execution_count": 29
        }
      ]
    },
    {
      "cell_type": "markdown",
      "source": [
        "###Visualize the model's prediction"
      ],
      "metadata": {
        "id": "tdRuP_wAuZEV"
      }
    },
    {
      "cell_type": "code",
      "source": [
        "#mkae some prediction\n",
        "y_pred=model.predict(X_Test)\n",
        "y_pred"
      ],
      "metadata": {
        "colab": {
          "base_uri": "https://localhost:8080/"
        },
        "id": "SjRXtu_pvbFt",
        "outputId": "7dce1bac-96ab-41ba-d93e-3cbef169c67b"
      },
      "execution_count": 39,
      "outputs": [
        {
          "output_type": "stream",
          "name": "stdout",
          "text": [
            "WARNING:tensorflow:5 out of the last 5 calls to <function Model.make_predict_function.<locals>.predict_function at 0x7fa49322a8c0> triggered tf.function retracing. Tracing is expensive and the excessive number of tracings could be due to (1) creating @tf.function repeatedly in a loop, (2) passing tensors with different shapes, (3) passing Python objects instead of tensors. For (1), please define your @tf.function outside of the loop. For (2), @tf.function has experimental_relax_shapes=True option that relaxes argument shapes that can avoid unnecessary retracing. For (3), please refer to https://www.tensorflow.org/guide/function#controlling_retracing and https://www.tensorflow.org/api_docs/python/tf/function for  more details.\n"
          ]
        },
        {
          "output_type": "execute_result",
          "data": {
            "text/plain": [
              "array([[ 69.05402 ],\n",
              "       [ 72.99316 ],\n",
              "       [ 76.93228 ],\n",
              "       [ 80.87139 ],\n",
              "       [ 84.810524],\n",
              "       [ 88.74964 ],\n",
              "       [ 92.68876 ],\n",
              "       [ 96.627884],\n",
              "       [100.567   ],\n",
              "       [104.50612 ]], dtype=float32)"
            ]
          },
          "metadata": {},
          "execution_count": 39
        }
      ]
    },
    {
      "cell_type": "code",
      "source": [
        "y_Test"
      ],
      "metadata": {
        "colab": {
          "base_uri": "https://localhost:8080/"
        },
        "id": "Q5tM-Wm-wFA0",
        "outputId": "18f14eee-a230-4f38-ed43-8458b2cfca49"
      },
      "execution_count": 40,
      "outputs": [
        {
          "output_type": "execute_result",
          "data": {
            "text/plain": [
              "<tf.Tensor: shape=(10,), dtype=int32, numpy=array([ 70,  74,  78,  82,  86,  90,  94,  98, 102, 106], dtype=int32)>"
            ]
          },
          "metadata": {},
          "execution_count": 40
        }
      ]
    },
    {
      "cell_type": "code",
      "source": [
        "#lets create a plotting function\n",
        "def plot_predictions(train_data= X_Train,\n",
        "                     train_labels= y_Train,\n",
        "                     test_data=X_Test,\n",
        "                     test_labels=y_Test,\n",
        "                     predictions=y_pred):\n",
        "  \n",
        "  #plot training data, test data and compare predictions to ground truth labels.\n",
        "  plt.figure(figsize=(10,7))\n",
        "\n",
        "  #plot the training data in blue\n",
        "  plt.scatter(train_data, train_labels, c=\"b\", label=\" Training data\")\n",
        "\n",
        "  plt.scatter(test_data, test_labels, c=\"g\", label=\"Test data\")\n",
        "\n",
        "  plt.scatter(test_data, predictions, c=\"r\", label=\"Predictions\")\n",
        "\n",
        "  plt.legend();"
      ],
      "metadata": {
        "id": "K1V8z2f0wIFi"
      },
      "execution_count": 41,
      "outputs": []
    },
    {
      "cell_type": "code",
      "source": [
        "plot_predictions()"
      ],
      "metadata": {
        "colab": {
          "base_uri": "https://localhost:8080/",
          "height": 428
        },
        "id": "zXb8nHOBxyYe",
        "outputId": "2e5cd8c8-58c5-4011-da91-91b7be0de0b1"
      },
      "execution_count": 42,
      "outputs": [
        {
          "output_type": "display_data",
          "data": {
            "image/png": "[encoded data removed]",
            "text/plain": [
              "<Figure size 720x504 with 1 Axes>"
            ]
          },
          "metadata": {
            "needs_background": "light"
          }
        }
      ]
    },
    {
      "cell_type": "markdown",
      "source": [
        "###Evaluate the model with evaluation metrics"
      ],
      "metadata": {
        "id": "nI-bOxSXx1FH"
      }
    },
    {
      "cell_type": "code",
      "source": [
        "model.evaluate(X_Test, y_Test)"
      ],
      "metadata": {
        "colab": {
          "base_uri": "https://localhost:8080/"
        },
        "id": "PTO2QsUQykuy",
        "outputId": "5e702ef8-2a49-4887-9881-478d6685b795"
      },
      "execution_count": 43,
      "outputs": [
        {
          "output_type": "stream",
          "name": "stdout",
          "text": [
            "1/1 [==============================] - 0s 107ms/step - loss: 1.2199 - mae: 1.2199\n"
          ]
        },
        {
          "output_type": "execute_result",
          "data": {
            "text/plain": [
              "[1.2199203968048096, 1.2199203968048096]"
            ]
          },
          "metadata": {},
          "execution_count": 43
        }
      ]
    },
    {
      "cell_type": "code",
      "source": [
        "#calculate mean absolute error\n",
        "mae=tf.metrics.mean_absolute_error(y_Test, y_pred)\n",
        "mae"
      ],
      "metadata": {
        "colab": {
          "base_uri": "https://localhost:8080/"
        },
        "id": "OyIjVQjE02hd",
        "outputId": "c11a679f-4803-411c-86ec-70ef236c4a30"
      },
      "execution_count": 44,
      "outputs": [
        {
          "output_type": "execute_result",
          "data": {
            "text/plain": [
              "<tf.Tensor: shape=(10,), dtype=float32, numpy=\n",
              "array([18.945976, 15.605474, 13.040631, 11.251444, 10.237895, 10.      ,\n",
              "       10.537752, 11.851153, 13.940201, 16.804895], dtype=float32)>"
            ]
          },
          "metadata": {},
          "execution_count": 44
        }
      ]
    },
    {
      "cell_type": "code",
      "source": [
        "tf.constant(y_pred)"
      ],
      "metadata": {
        "colab": {
          "base_uri": "https://localhost:8080/"
        },
        "id": "-ltHGHao1QNE",
        "outputId": "6ebe2045-2409-448b-d99c-ae4a29bd8204"
      },
      "execution_count": 45,
      "outputs": [
        {
          "output_type": "execute_result",
          "data": {
            "text/plain": [
              "<tf.Tensor: shape=(10, 1), dtype=float32, numpy=\n",
              "array([[ 69.05402 ],\n",
              "       [ 72.99316 ],\n",
              "       [ 76.93228 ],\n",
              "       [ 80.87139 ],\n",
              "       [ 84.810524],\n",
              "       [ 88.74964 ],\n",
              "       [ 92.68876 ],\n",
              "       [ 96.627884],\n",
              "       [100.567   ],\n",
              "       [104.50612 ]], dtype=float32)>"
            ]
          },
          "metadata": {},
          "execution_count": 45
        }
      ]
    },
    {
      "cell_type": "code",
      "source": [
        "y_Test"
      ],
      "metadata": {
        "colab": {
          "base_uri": "https://localhost:8080/"
        },
        "id": "teLIRziy1YsM",
        "outputId": "f95b3c2a-542c-408f-9067-84af36e3543d"
      },
      "execution_count": 46,
      "outputs": [
        {
          "output_type": "execute_result",
          "data": {
            "text/plain": [
              "<tf.Tensor: shape=(10,), dtype=int32, numpy=array([ 70,  74,  78,  82,  86,  90,  94,  98, 102, 106], dtype=int32)>"
            ]
          },
          "metadata": {},
          "execution_count": 46
        }
      ]
    },
    {
      "cell_type": "code",
      "source": [
        "tf.squeeze(y_pred)"
      ],
      "metadata": {
        "colab": {
          "base_uri": "https://localhost:8080/"
        },
        "id": "LctMa-5T1hrk",
        "outputId": "3a186907-7463-4960-fb63-fbbd39df18d5"
      },
      "execution_count": 47,
      "outputs": [
        {
          "output_type": "execute_result",
          "data": {
            "text/plain": [
              "<tf.Tensor: shape=(10,), dtype=float32, numpy=\n",
              "array([ 69.05402 ,  72.99316 ,  76.93228 ,  80.87139 ,  84.810524,\n",
              "        88.74964 ,  92.68876 ,  96.627884, 100.567   , 104.50612 ],\n",
              "      dtype=float32)>"
            ]
          },
          "metadata": {},
          "execution_count": 47
        }
      ]
    },
    {
      "cell_type": "code",
      "source": [
        "#calculate mean absolute error\n",
        "mae=tf.metrics.mean_absolute_error(y_true=y_Test, \n",
        "                                  y_pred=tf.squeeze(y_pred))\n",
        "mae"
      ],
      "metadata": {
        "colab": {
          "base_uri": "https://localhost:8080/"
        },
        "id": "QpHdVPFt1nof",
        "outputId": "ff0fd8ab-c9e6-416f-c5d7-636c83181d0a"
      },
      "execution_count": 48,
      "outputs": [
        {
          "output_type": "execute_result",
          "data": {
            "text/plain": [
              "<tf.Tensor: shape=(), dtype=float32, numpy=1.2199218>"
            ]
          },
          "metadata": {},
          "execution_count": 48
        }
      ]
    },
    {
      "cell_type": "code",
      "source": [
        "#calculate the means squared error\n",
        "mse=tf.metrics.mean_squared_error(y_true=y_Test, \n",
        "                                  y_pred=tf.squeeze(y_pred))\n",
        "mse\n"
      ],
      "metadata": {
        "colab": {
          "base_uri": "https://localhost:8080/"
        },
        "id": "D9zpFQIO0R6M",
        "outputId": "8b73aadb-028b-4f54-8bd9-729853c0b85e"
      },
      "execution_count": 49,
      "outputs": [
        {
          "output_type": "execute_result",
          "data": {
            "text/plain": [
              "<tf.Tensor: shape=(), dtype=float32, numpy=1.5187857>"
            ]
          },
          "metadata": {},
          "execution_count": 49
        }
      ]
    },
    {
      "cell_type": "code",
      "source": [
        "y_pred"
      ],
      "metadata": {
        "colab": {
          "base_uri": "https://localhost:8080/"
        },
        "id": "xw0KQnug0KQu",
        "outputId": "0a2b2dc8-e80c-4f5d-ed51-d38f31eb7cdb"
      },
      "execution_count": 51,
      "outputs": [
        {
          "output_type": "execute_result",
          "data": {
            "text/plain": [
              "array([[ 69.05402 ],\n",
              "       [ 72.99316 ],\n",
              "       [ 76.93228 ],\n",
              "       [ 80.87139 ],\n",
              "       [ 84.810524],\n",
              "       [ 88.74964 ],\n",
              "       [ 92.68876 ],\n",
              "       [ 96.627884],\n",
              "       [100.567   ],\n",
              "       [104.50612 ]], dtype=float32)"
            ]
          },
          "metadata": {},
          "execution_count": 51
        }
      ]
    },
    {
      "cell_type": "code",
      "source": [
        "#make some functions to reuse MAE and MSE\n",
        "def mae(y_true, y_pred):\n",
        "  return tf.metrics.mean_absolute_error(y_true=y_true,y_pred=y_pred)\n",
        "\n",
        "def mse(y_true, y_pred):\n",
        "  return tf.metrics.mean_squared_error(y_true=y_true,y_pred=y_pred)"
      ],
      "metadata": {
        "id": "_az4dYr00Opi"
      },
      "execution_count": 50,
      "outputs": []
    },
    {
      "cell_type": "markdown",
      "source": [
        "###running experiment on our model"
      ],
      "metadata": {
        "id": "VAUP68CS3Sfz"
      }
    },
    {
      "cell_type": "code",
      "source": [
        "X_Train, y_Train"
      ],
      "metadata": {
        "colab": {
          "base_uri": "https://localhost:8080/"
        },
        "id": "34kVd1i2yvpw",
        "outputId": "c3cb747e-9837-485a-d0b3-d8a6665b5961"
      },
      "execution_count": 52,
      "outputs": [
        {
          "output_type": "execute_result",
          "data": {
            "text/plain": [
              "(<tf.Tensor: shape=(40,), dtype=int32, numpy=\n",
              " array([-100,  -96,  -92,  -88,  -84,  -80,  -76,  -72,  -68,  -64,  -60,\n",
              "         -56,  -52,  -48,  -44,  -40,  -36,  -32,  -28,  -24,  -20,  -16,\n",
              "         -12,   -8,   -4,    0,    4,    8,   12,   16,   20,   24,   28,\n",
              "          32,   36,   40,   44,   48,   52,   56], dtype=int32)>,\n",
              " <tf.Tensor: shape=(40,), dtype=int32, numpy=\n",
              " array([-90, -86, -82, -78, -74, -70, -66, -62, -58, -54, -50, -46, -42,\n",
              "        -38, -34, -30, -26, -22, -18, -14, -10,  -6,  -2,   2,   6,  10,\n",
              "         14,  18,  22,  26,  30,  34,  38,  42,  46,  50,  54,  58,  62,\n",
              "         66], dtype=int32)>)"
            ]
          },
          "metadata": {},
          "execution_count": 52
        }
      ]
    },
    {
      "cell_type": "markdown",
      "source": [
        "***Build model_1***"
      ],
      "metadata": {
        "id": "6q-0SH32zTyk"
      }
    },
    {
      "cell_type": "code",
      "source": [
        "#build random seed\n",
        "tf.random.set_seed(42)\n",
        "\n",
        "#create the model\n",
        "model_1=tf.keras.Sequential([\n",
        "                             tf.keras.layers.Dense(1)\n",
        "])\n",
        "\n",
        "#compile the model\n",
        "model_1.compile(loss=tf.keras.losses.mae,\n",
        "              optimizer=tf.keras.optimizers.SGD(),\n",
        "              metrics=[\"mae\"])\n",
        "\n",
        "#fit the model\n",
        "model_1.fit(tf.expand_dims(X, axis=-1), y, epochs=100)"
      ],
      "metadata": {
        "colab": {
          "base_uri": "https://localhost:8080/"
        },
        "id": "tmKCRDeqz2-O",
        "outputId": "2d6a85f2-15d0-4a78-c666-51a3fd1eba05"
      },
      "execution_count": 55,
      "outputs": [
        {
          "output_type": "stream",
          "name": "stdout",
          "text": [
            "Epoch 1/100\n",
            "2/2 [==============================] - 1s 7ms/step - loss: 19.0311 - mae: 19.0311\n",
            "Epoch 2/100\n",
            "2/2 [==============================] - 0s 12ms/step - loss: 10.8111 - mae: 10.8111\n",
            "Epoch 3/100\n",
            "2/2 [==============================] - 0s 7ms/step - loss: 14.5005 - mae: 14.5005\n",
            "Epoch 4/100\n",
            "2/2 [==============================] - 0s 6ms/step - loss: 10.0958 - mae: 10.0958\n",
            "Epoch 5/100\n",
            "2/2 [==============================] - 0s 7ms/step - loss: 15.5388 - mae: 15.5388\n",
            "Epoch 6/100\n",
            "2/2 [==============================] - 0s 7ms/step - loss: 11.8626 - mae: 11.8626\n",
            "Epoch 7/100\n",
            "2/2 [==============================] - 0s 7ms/step - loss: 9.1727 - mae: 9.1727\n",
            "Epoch 8/100\n",
            "2/2 [==============================] - 0s 6ms/step - loss: 13.6143 - mae: 13.6143\n",
            "Epoch 9/100\n",
            "2/2 [==============================] - 0s 7ms/step - loss: 13.8577 - mae: 13.8577\n",
            "Epoch 10/100\n",
            "2/2 [==============================] - 0s 7ms/step - loss: 9.9966 - mae: 9.9966\n",
            "Epoch 11/100\n",
            "2/2 [==============================] - 0s 7ms/step - loss: 9.9685 - mae: 9.9685\n",
            "Epoch 12/100\n",
            "2/2 [==============================] - 0s 6ms/step - loss: 9.9097 - mae: 9.9097\n",
            "Epoch 13/100\n",
            "2/2 [==============================] - 0s 9ms/step - loss: 9.7478 - mae: 9.7478\n",
            "Epoch 14/100\n",
            "2/2 [==============================] - 0s 10ms/step - loss: 10.5485 - mae: 10.5485\n",
            "Epoch 15/100\n",
            "2/2 [==============================] - 0s 8ms/step - loss: 13.7915 - mae: 13.7915\n",
            "Epoch 16/100\n",
            "2/2 [==============================] - 0s 9ms/step - loss: 12.5861 - mae: 12.5861\n",
            "Epoch 17/100\n",
            "2/2 [==============================] - 0s 9ms/step - loss: 10.2180 - mae: 10.2180\n",
            "Epoch 18/100\n",
            "2/2 [==============================] - 0s 7ms/step - loss: 10.1329 - mae: 10.1329\n",
            "Epoch 19/100\n",
            "2/2 [==============================] - 0s 9ms/step - loss: 9.9154 - mae: 9.9154\n",
            "Epoch 20/100\n",
            "2/2 [==============================] - 0s 6ms/step - loss: 12.7204 - mae: 12.7204\n",
            "Epoch 21/100\n",
            "2/2 [==============================] - 0s 13ms/step - loss: 12.9522 - mae: 12.9522\n",
            "Epoch 22/100\n",
            "2/2 [==============================] - 0s 8ms/step - loss: 9.5668 - mae: 9.5668\n",
            "Epoch 23/100\n",
            "2/2 [==============================] - 0s 9ms/step - loss: 9.3870 - mae: 9.3870\n",
            "Epoch 24/100\n",
            "2/2 [==============================] - 0s 10ms/step - loss: 9.7060 - mae: 9.7060\n",
            "Epoch 25/100\n",
            "2/2 [==============================] - 0s 10ms/step - loss: 9.6024 - mae: 9.6024\n",
            "Epoch 26/100\n",
            "2/2 [==============================] - 0s 5ms/step - loss: 9.4918 - mae: 9.4918\n",
            "Epoch 27/100\n",
            "2/2 [==============================] - 0s 5ms/step - loss: 9.7140 - mae: 9.7140\n",
            "Epoch 28/100\n",
            "2/2 [==============================] - 0s 5ms/step - loss: 9.5882 - mae: 9.5882\n",
            "Epoch 29/100\n",
            "2/2 [==============================] - 0s 9ms/step - loss: 9.4746 - mae: 9.4746\n",
            "Epoch 30/100\n",
            "2/2 [==============================] - 0s 12ms/step - loss: 10.0289 - mae: 10.0289\n",
            "Epoch 31/100\n",
            "2/2 [==============================] - 0s 5ms/step - loss: 13.3862 - mae: 13.3862\n",
            "Epoch 32/100\n",
            "2/2 [==============================] - 0s 17ms/step - loss: 9.6345 - mae: 9.6345\n",
            "Epoch 33/100\n",
            "2/2 [==============================] - 0s 16ms/step - loss: 9.5676 - mae: 9.5676\n",
            "Epoch 34/100\n",
            "2/2 [==============================] - 0s 5ms/step - loss: 9.8932 - mae: 9.8932\n",
            "Epoch 35/100\n",
            "2/2 [==============================] - 0s 13ms/step - loss: 10.1582 - mae: 10.1582\n",
            "Epoch 36/100\n",
            "2/2 [==============================] - 0s 13ms/step - loss: 9.5081 - mae: 9.5081\n",
            "Epoch 37/100\n",
            "2/2 [==============================] - 0s 14ms/step - loss: 9.4231 - mae: 9.4231\n",
            "Epoch 38/100\n",
            "2/2 [==============================] - 0s 9ms/step - loss: 9.6222 - mae: 9.6222\n",
            "Epoch 39/100\n",
            "2/2 [==============================] - 0s 15ms/step - loss: 10.3634 - mae: 10.3634\n",
            "Epoch 40/100\n",
            "2/2 [==============================] - 0s 8ms/step - loss: 11.5608 - mae: 11.5608\n",
            "Epoch 41/100\n",
            "2/2 [==============================] - 0s 4ms/step - loss: 9.7365 - mae: 9.7365\n",
            "Epoch 42/100\n",
            "2/2 [==============================] - 0s 7ms/step - loss: 9.3273 - mae: 9.3273\n",
            "Epoch 43/100\n",
            "2/2 [==============================] - 0s 11ms/step - loss: 9.1406 - mae: 9.1406\n",
            "Epoch 44/100\n",
            "2/2 [==============================] - 0s 18ms/step - loss: 9.5279 - mae: 9.5279\n",
            "Epoch 45/100\n",
            "2/2 [==============================] - 0s 7ms/step - loss: 9.6614 - mae: 9.6614\n",
            "Epoch 46/100\n",
            "2/2 [==============================] - 0s 11ms/step - loss: 9.1543 - mae: 9.1543\n",
            "Epoch 47/100\n",
            "2/2 [==============================] - 0s 9ms/step - loss: 9.0604 - mae: 9.0604\n",
            "Epoch 48/100\n",
            "2/2 [==============================] - 0s 7ms/step - loss: 8.7624 - mae: 8.7624\n",
            "Epoch 49/100\n",
            "2/2 [==============================] - 0s 8ms/step - loss: 10.8369 - mae: 10.8369\n",
            "Epoch 50/100\n",
            "2/2 [==============================] - 0s 6ms/step - loss: 8.8573 - mae: 8.8573\n",
            "Epoch 51/100\n",
            "2/2 [==============================] - 0s 5ms/step - loss: 10.3175 - mae: 10.3175\n",
            "Epoch 52/100\n",
            "2/2 [==============================] - 0s 6ms/step - loss: 14.8285 - mae: 14.8285\n",
            "Epoch 53/100\n",
            "2/2 [==============================] - 0s 5ms/step - loss: 8.7053 - mae: 8.7053\n",
            "Epoch 54/100\n",
            "2/2 [==============================] - 0s 6ms/step - loss: 9.4249 - mae: 9.4249\n",
            "Epoch 55/100\n",
            "2/2 [==============================] - 0s 5ms/step - loss: 9.8385 - mae: 9.8385\n",
            "Epoch 56/100\n",
            "2/2 [==============================] - 0s 6ms/step - loss: 12.1663 - mae: 12.1663\n",
            "Epoch 57/100\n",
            "2/2 [==============================] - 0s 5ms/step - loss: 16.1752 - mae: 16.1752\n",
            "Epoch 58/100\n",
            "2/2 [==============================] - 0s 7ms/step - loss: 15.0076 - mae: 15.0076\n",
            "Epoch 59/100\n",
            "2/2 [==============================] - 0s 6ms/step - loss: 15.3698 - mae: 15.3698\n",
            "Epoch 60/100\n",
            "2/2 [==============================] - 0s 5ms/step - loss: 12.5261 - mae: 12.5261\n",
            "Epoch 61/100\n",
            "2/2 [==============================] - 0s 6ms/step - loss: 13.0420 - mae: 13.0420\n",
            "Epoch 62/100\n",
            "2/2 [==============================] - 0s 5ms/step - loss: 10.2323 - mae: 10.2323\n",
            "Epoch 63/100\n",
            "2/2 [==============================] - 0s 16ms/step - loss: 12.0069 - mae: 12.0069\n",
            "Epoch 64/100\n",
            "2/2 [==============================] - 0s 5ms/step - loss: 9.5151 - mae: 9.5151\n",
            "Epoch 65/100\n",
            "2/2 [==============================] - 0s 6ms/step - loss: 8.9926 - mae: 8.9926\n",
            "Epoch 66/100\n",
            "2/2 [==============================] - 0s 7ms/step - loss: 8.9825 - mae: 8.9825\n",
            "Epoch 67/100\n",
            "2/2 [==============================] - 0s 6ms/step - loss: 9.1020 - mae: 9.1020\n",
            "Epoch 68/100\n",
            "2/2 [==============================] - 0s 6ms/step - loss: 9.2138 - mae: 9.2138\n",
            "Epoch 69/100\n",
            "2/2 [==============================] - 0s 9ms/step - loss: 9.2091 - mae: 9.2091\n",
            "Epoch 70/100\n",
            "2/2 [==============================] - 0s 4ms/step - loss: 9.4690 - mae: 9.4690\n",
            "Epoch 71/100\n",
            "2/2 [==============================] - 0s 10ms/step - loss: 8.9142 - mae: 8.9142\n",
            "Epoch 72/100\n",
            "2/2 [==============================] - 0s 6ms/step - loss: 9.9897 - mae: 9.9897\n",
            "Epoch 73/100\n",
            "2/2 [==============================] - 0s 8ms/step - loss: 11.9300 - mae: 11.9300\n",
            "Epoch 74/100\n",
            "2/2 [==============================] - 0s 12ms/step - loss: 8.5859 - mae: 8.5859\n",
            "Epoch 75/100\n",
            "2/2 [==============================] - 0s 10ms/step - loss: 8.7776 - mae: 8.7776\n",
            "Epoch 76/100\n",
            "2/2 [==============================] - 0s 9ms/step - loss: 8.8232 - mae: 8.8232\n",
            "Epoch 77/100\n",
            "2/2 [==============================] - 0s 16ms/step - loss: 8.1895 - mae: 8.1895\n",
            "Epoch 78/100\n",
            "2/2 [==============================] - 0s 10ms/step - loss: 11.2235 - mae: 11.2235\n",
            "Epoch 79/100\n",
            "2/2 [==============================] - 0s 8ms/step - loss: 9.5682 - mae: 9.5682\n",
            "Epoch 80/100\n",
            "2/2 [==============================] - 0s 6ms/step - loss: 13.1783 - mae: 13.1783\n",
            "Epoch 81/100\n",
            "2/2 [==============================] - 0s 8ms/step - loss: 14.3245 - mae: 14.3245\n",
            "Epoch 82/100\n",
            "2/2 [==============================] - 0s 8ms/step - loss: 16.2560 - mae: 16.2560\n",
            "Epoch 83/100\n",
            "2/2 [==============================] - 0s 8ms/step - loss: 9.5568 - mae: 9.5568\n",
            "Epoch 84/100\n",
            "2/2 [==============================] - 0s 13ms/step - loss: 8.6519 - mae: 8.6519\n",
            "Epoch 85/100\n",
            "2/2 [==============================] - 0s 6ms/step - loss: 8.7552 - mae: 8.7552\n",
            "Epoch 86/100\n",
            "2/2 [==============================] - 0s 7ms/step - loss: 9.0234 - mae: 9.0234\n",
            "Epoch 87/100\n",
            "2/2 [==============================] - 0s 11ms/step - loss: 9.1794 - mae: 9.1794\n",
            "Epoch 88/100\n",
            "2/2 [==============================] - 0s 7ms/step - loss: 8.7276 - mae: 8.7276\n",
            "Epoch 89/100\n",
            "2/2 [==============================] - 0s 6ms/step - loss: 8.8707 - mae: 8.8707\n",
            "Epoch 90/100\n",
            "2/2 [==============================] - 0s 5ms/step - loss: 8.6802 - mae: 8.6802\n",
            "Epoch 91/100\n",
            "2/2 [==============================] - 0s 8ms/step - loss: 8.7301 - mae: 8.7301\n",
            "Epoch 92/100\n",
            "2/2 [==============================] - 0s 5ms/step - loss: 8.5968 - mae: 8.5968\n",
            "Epoch 93/100\n",
            "2/2 [==============================] - 0s 22ms/step - loss: 9.1886 - mae: 9.1886\n",
            "Epoch 94/100\n",
            "2/2 [==============================] - 0s 7ms/step - loss: 9.9125 - mae: 9.9125\n",
            "Epoch 95/100\n",
            "2/2 [==============================] - 0s 6ms/step - loss: 12.8242 - mae: 12.8242\n",
            "Epoch 96/100\n",
            "2/2 [==============================] - 0s 5ms/step - loss: 9.1602 - mae: 9.1602\n",
            "Epoch 97/100\n",
            "2/2 [==============================] - 0s 4ms/step - loss: 10.5435 - mae: 10.5435\n",
            "Epoch 98/100\n",
            "2/2 [==============================] - 0s 8ms/step - loss: 14.7497 - mae: 14.7497\n",
            "Epoch 99/100\n",
            "2/2 [==============================] - 0s 8ms/step - loss: 10.8591 - mae: 10.8591\n",
            "Epoch 100/100\n",
            "2/2 [==============================] - 0s 5ms/step - loss: 14.9030 - mae: 14.9030\n"
          ]
        },
        {
          "output_type": "execute_result",
          "data": {
            "text/plain": [
              "<keras.callbacks.History at 0x7fa416055650>"
            ]
          },
          "metadata": {},
          "execution_count": 55
        }
      ]
    },
    {
      "cell_type": "code",
      "source": [
        "#make and plot predictions for model_1\n",
        "y_pred_1=model_1.predict(X_Test)\n",
        "plot_predictions(predictions=y_pred_1)"
      ],
      "metadata": {
        "colab": {
          "base_uri": "https://localhost:8080/",
          "height": 465
        },
        "id": "LTbC3e1J0X_A",
        "outputId": "fe689c68-6214-4dd8-db8e-c562479c15f0"
      },
      "execution_count": 57,
      "outputs": [
        {
          "output_type": "stream",
          "name": "stdout",
          "text": [
            "WARNING:tensorflow:6 out of the last 6 calls to <function Model.make_predict_function.<locals>.predict_function at 0x7fa415fc84d0> triggered tf.function retracing. Tracing is expensive and the excessive number of tracings could be due to (1) creating @tf.function repeatedly in a loop, (2) passing tensors with different shapes, (3) passing Python objects instead of tensors. For (1), please define your @tf.function outside of the loop. For (2), @tf.function has experimental_relax_shapes=True option that relaxes argument shapes that can avoid unnecessary retracing. For (3), please refer to https://www.tensorflow.org/guide/function#controlling_retracing and https://www.tensorflow.org/api_docs/python/tf/function for  more details.\n"
          ]
        },
        {
          "output_type": "display_data",
          "data": {
            "image/png": "[encoded data removed]",
            "text/plain": [
              "<Figure size 720x504 with 1 Axes>"
            ]
          },
          "metadata": {
            "needs_background": "light"
          }
        }
      ]
    },
    {
      "cell_type": "code",
      "source": [
        "#calculate model_! evaluation metrics\n",
        "mae_1=mae(y_Test, tf.squeeze(y_pred_1))\n",
        "mse_1=mse(y_Test, tf.squeeze(y_pred_1))\n",
        "mae_1, mse_1"
      ],
      "metadata": {
        "colab": {
          "base_uri": "https://localhost:8080/"
        },
        "id": "OeZIha-z0ssY",
        "outputId": "b980b98d-fef7-48c7-f838-8b7d46bea886"
      },
      "execution_count": 59,
      "outputs": [
        {
          "output_type": "execute_result",
          "data": {
            "text/plain": [
              "(<tf.Tensor: shape=(), dtype=float32, numpy=17.272385>,\n",
              " <tf.Tensor: shape=(), dtype=float32, numpy=300.0373>)"
            ]
          },
          "metadata": {},
          "execution_count": 59
        }
      ]
    },
    {
      "cell_type": "code",
      "source": [
        ""
      ],
      "metadata": {
        "id": "bwwwAQqK1FKX"
      },
      "execution_count": null,
      "outputs": []
    }
  ]
}