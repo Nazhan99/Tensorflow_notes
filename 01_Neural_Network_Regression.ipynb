{
  "nbformat": 4,
  "nbformat_minor": 0,
  "metadata": {
    "colab": {
      "name": "01_Neural_Network_Regression.ipynb",
      "provenance": [],
      "collapsed_sections": [],
      "authorship_tag": "ABX9TyPOL1Cpy+c+yJfuqdXVHGV8",
      "include_colab_link": true
    },
    "kernelspec": {
      "name": "python3",
      "display_name": "Python 3"
    },
    "language_info": {
      "name": "python"
    }
  },
  "cells": [
    {
      "cell_type": "markdown",
      "metadata": {
        "id": "view-in-github",
        "colab_type": "text"
      },
      "source": [
        "<a href=\"https://colab.research.google.com/github/Nazhan99/Tensorflow_notes/blob/main/01_Neural_Network_Regression.ipynb\" target=\"_parent\"><img src=\"https://colab.research.google.com/assets/colab-badge.svg\" alt=\"Open In Colab\"/></a>"
      ]
    },
    {
      "cell_type": "markdown",
      "source": [
        "#Introduction to regression with neural network in tensorflow\n",
        "\n"
      ],
      "metadata": {
        "id": "fEmVG5ybXpGG"
      }
    },
    {
      "cell_type": "code",
      "source": [
        "#import tensorflow\n",
        "import tensorflow as tf\n",
        "print(tf.__version__)"
      ],
      "metadata": {
        "colab": {
          "base_uri": "https://localhost:8080/"
        },
        "id": "qvrU_a1vXy2p",
        "outputId": "23d9c2e3-d7a3-40c7-a07b-3f0da81df14e"
      },
      "execution_count": 1,
      "outputs": [
        {
          "output_type": "stream",
          "name": "stdout",
          "text": [
            "2.7.0\n"
          ]
        }
      ]
    },
    {
      "cell_type": "code",
      "source": [
        "##Create data to view and fit"
      ],
      "metadata": {
        "id": "1j0pVpu-X_L0"
      },
      "execution_count": 2,
      "outputs": []
    },
    {
      "cell_type": "code",
      "source": [
        "import numpy as np\n",
        "import matplotlib.pyplot as plt\n",
        "\n",
        "#create features\n",
        "X= np.array([-7.0, -4.0, -1.0, 2.0, 5.0, 8.0, 11.0, 14.0])\n",
        "y= np.array([3.0, 6.0, 9.0, 12.0, 15.0, 18.0, 21.0, 24.0])\n",
        "\n",
        "#visualize it\n",
        "plt.scatter(X,y)"
      ],
      "metadata": {
        "colab": {
          "base_uri": "https://localhost:8080/",
          "height": 286
        },
        "id": "7ESM2Dx4YHy8",
        "outputId": "25b7eac0-759e-4e44-aa10-2c82a5d60243"
      },
      "execution_count": 3,
      "outputs": [
        {
          "output_type": "execute_result",
          "data": {
            "text/plain": [
              "<matplotlib.collections.PathCollection at 0x7fb5236062d0>"
            ]
          },
          "metadata": {},
          "execution_count": 3
        },
        {
          "output_type": "display_data",
          "data": {
            "image/png": "[encoded data removed]",
            "text/plain": [
              "<Figure size 432x288 with 1 Axes>"
            ]
          },
          "metadata": {
            "needs_background": "light"
          }
        }
      ]
    },
    {
      "cell_type": "code",
      "source": [
        "y== X+10"
      ],
      "metadata": {
        "colab": {
          "base_uri": "https://localhost:8080/"
        },
        "id": "ttXw_fE9Yxs4",
        "outputId": "45638836-ef86-43d4-ea06-3102d73b4574"
      },
      "execution_count": 4,
      "outputs": [
        {
          "output_type": "execute_result",
          "data": {
            "text/plain": [
              "array([ True,  True,  True,  True,  True,  True,  True,  True])"
            ]
          },
          "metadata": {},
          "execution_count": 4
        }
      ]
    },
    {
      "cell_type": "markdown",
      "source": [
        "###input and output shapes"
      ],
      "metadata": {
        "id": "wm6DwJozZLFc"
      }
    },
    {
      "cell_type": "code",
      "source": [
        "#create a demo  tensor for our housing price prediction problem\n",
        "house_info= tf.constant([\"bedroom\", 'bathroom', 'garage'])\n",
        "house_price= tf.constant([939700])\n",
        "house_info, house_price\n"
      ],
      "metadata": {
        "colab": {
          "base_uri": "https://localhost:8080/"
        },
        "id": "OJYreaEoY5ac",
        "outputId": "2aa9ea06-296d-4af1-fcac-1905e265f7c3"
      },
      "execution_count": 5,
      "outputs": [
        {
          "output_type": "execute_result",
          "data": {
            "text/plain": [
              "(<tf.Tensor: shape=(3,), dtype=string, numpy=array([b'bedroom', b'bathroom', b'garage'], dtype=object)>,\n",
              " <tf.Tensor: shape=(1,), dtype=int32, numpy=array([939700], dtype=int32)>)"
            ]
          },
          "metadata": {},
          "execution_count": 5
        }
      ]
    },
    {
      "cell_type": "code",
      "source": [
        "input_shape=X.shape\n",
        "output_shape=y.shape\n",
        "input_shape, output_shape"
      ],
      "metadata": {
        "colab": {
          "base_uri": "https://localhost:8080/"
        },
        "id": "-Uzs3KsJZVjx",
        "outputId": "069a6c8b-908b-4b86-e30b-147e8713afed"
      },
      "execution_count": 55,
      "outputs": [
        {
          "output_type": "execute_result",
          "data": {
            "text/plain": [
              "(TensorShape([50]), TensorShape([50]))"
            ]
          },
          "metadata": {},
          "execution_count": 55
        }
      ]
    },
    {
      "cell_type": "code",
      "source": [
        "X[0].ndim"
      ],
      "metadata": {
        "colab": {
          "base_uri": "https://localhost:8080/"
        },
        "id": "5AY5Xy-MZ0V4",
        "outputId": "5b28621e-f7cc-4560-e2ef-e850d7c43b0b"
      },
      "execution_count": 56,
      "outputs": [
        {
          "output_type": "execute_result",
          "data": {
            "text/plain": [
              "0"
            ]
          },
          "metadata": {},
          "execution_count": 56
        }
      ]
    },
    {
      "cell_type": "code",
      "source": [
        "X[0], y[0]"
      ],
      "metadata": {
        "colab": {
          "base_uri": "https://localhost:8080/"
        },
        "id": "KtvKM1L0aEb2",
        "outputId": "ef37a4d0-7543-47a0-823f-6b6f007f137d"
      },
      "execution_count": 8,
      "outputs": [
        {
          "output_type": "execute_result",
          "data": {
            "text/plain": [
              "(-7.0, 3.0)"
            ]
          },
          "metadata": {},
          "execution_count": 8
        }
      ]
    },
    {
      "cell_type": "code",
      "source": [
        "#turn numpy array to tensor\n",
        "X=tf.constant(X)\n",
        "y=tf.constant(y)\n",
        "X, y"
      ],
      "metadata": {
        "colab": {
          "base_uri": "https://localhost:8080/"
        },
        "id": "PfaoLz7naHRl",
        "outputId": "3d6b2c40-9c4d-4104-c525-dd15a06883c0"
      },
      "execution_count": 57,
      "outputs": [
        {
          "output_type": "execute_result",
          "data": {
            "text/plain": [
              "(<tf.Tensor: shape=(50,), dtype=int32, numpy=\n",
              " array([-100,  -96,  -92,  -88,  -84,  -80,  -76,  -72,  -68,  -64,  -60,\n",
              "         -56,  -52,  -48,  -44,  -40,  -36,  -32,  -28,  -24,  -20,  -16,\n",
              "         -12,   -8,   -4,    0,    4,    8,   12,   16,   20,   24,   28,\n",
              "          32,   36,   40,   44,   48,   52,   56,   60,   64,   68,   72,\n",
              "          76,   80,   84,   88,   92,   96], dtype=int32)>,\n",
              " <tf.Tensor: shape=(50,), dtype=int32, numpy=\n",
              " array([-90, -86, -82, -78, -74, -70, -66, -62, -58, -54, -50, -46, -42,\n",
              "        -38, -34, -30, -26, -22, -18, -14, -10,  -6,  -2,   2,   6,  10,\n",
              "         14,  18,  22,  26,  30,  34,  38,  42,  46,  50,  54,  58,  62,\n",
              "         66,  70,  74,  78,  82,  86,  90,  94,  98, 102, 106], dtype=int32)>)"
            ]
          },
          "metadata": {},
          "execution_count": 57
        }
      ]
    },
    {
      "cell_type": "code",
      "source": [
        "input_shape= X[0].shape\n",
        "output_shape= y[0].shape\n",
        "input_shape, output_shape"
      ],
      "metadata": {
        "colab": {
          "base_uri": "https://localhost:8080/"
        },
        "id": "8A-3cRcAa5PE",
        "outputId": "4cecda25-3aa4-47bc-fd2c-bd56ca4f1e6f"
      },
      "execution_count": 58,
      "outputs": [
        {
          "output_type": "execute_result",
          "data": {
            "text/plain": [
              "(TensorShape([]), TensorShape([]))"
            ]
          },
          "metadata": {},
          "execution_count": 58
        }
      ]
    },
    {
      "cell_type": "markdown",
      "source": [
        "###Steps in modelling with tensorflow\n",
        "\n",
        "1. Create a model (define input and output)\n",
        "2. compiling model (loss function and optimize)\n",
        "3.  fitting the model (predict the output)"
      ],
      "metadata": {
        "id": "RfFM8IL8bEhS"
      }
    },
    {
      "cell_type": "code",
      "source": [
        "#set random seed\n",
        "tf.random.set_seed(42)\n",
        "\n",
        "#1.create a model using the sequential API\n",
        "model=tf.keras.Sequential([\n",
        "  tf.keras.layers.Dense(1)\n",
        "])\n",
        "\n",
        "#2. compile the model\n",
        "model.compile(loss=tf.keras.losses.mae,\n",
        "              optimizer=tf.keras.optimizers.SGD(), #Stocastic gradient descent\n",
        "              metrics=[\"mae\"])\n",
        "\n",
        "#3. fit the model\n",
        "model.fit(tf.expand_dims(X, axis=-1),y, epochs=5)"
      ],
      "metadata": {
        "colab": {
          "base_uri": "https://localhost:8080/"
        },
        "id": "Caej5IsDbiph",
        "outputId": "5213a97c-ac3f-4b72-f970-611ef75769cd"
      },
      "execution_count": 59,
      "outputs": [
        {
          "output_type": "stream",
          "name": "stdout",
          "text": [
            "Epoch 1/5\n",
            "2/2 [==============================] - 0s 8ms/step - loss: 19.0311 - mae: 19.0311\n",
            "Epoch 2/5\n",
            "2/2 [==============================] - 0s 6ms/step - loss: 10.8111 - mae: 10.8111\n",
            "Epoch 3/5\n",
            "2/2 [==============================] - 0s 6ms/step - loss: 14.5005 - mae: 14.5005\n",
            "Epoch 4/5\n",
            "2/2 [==============================] - 0s 5ms/step - loss: 10.0958 - mae: 10.0958\n",
            "Epoch 5/5\n",
            "2/2 [==============================] - 0s 4ms/step - loss: 15.5388 - mae: 15.5388\n"
          ]
        },
        {
          "output_type": "execute_result",
          "data": {
            "text/plain": [
              "<keras.callbacks.History at 0x7fb59bc89f90>"
            ]
          },
          "metadata": {},
          "execution_count": 59
        }
      ]
    },
    {
      "cell_type": "code",
      "source": [
        "#try and make a predictioons using our model\n",
        "y_pred=model.predict([17.0])\n",
        "y_pred"
      ],
      "metadata": {
        "colab": {
          "base_uri": "https://localhost:8080/"
        },
        "id": "fHVU4-Kcd-dm",
        "outputId": "7ecd529a-c31d-4fd6-ee78-9d5397516ecc"
      },
      "execution_count": 60,
      "outputs": [
        {
          "output_type": "execute_result",
          "data": {
            "text/plain": [
              "array([[13.3044195]], dtype=float32)"
            ]
          },
          "metadata": {},
          "execution_count": 60
        }
      ]
    },
    {
      "cell_type": "markdown",
      "source": [
        "###improving the model\n"
      ],
      "metadata": {
        "id": "lV5BJcwvfS_h"
      }
    },
    {
      "cell_type": "code",
      "source": [
        "#lets rebuild our model\n",
        "\n",
        "#1.create the model\n",
        "model= tf.keras.Sequential([\n",
        "                            tf.keras.layers.Dense(1)\n",
        "])\n",
        "\n",
        "#2. compiling the model\n",
        "model.compile(loss=tf.keras.losses.mae,\n",
        "              optimizer=tf.keras.optimizers.SGD(),\n",
        "              metrics=[\"mae\"])\n",
        "\n",
        "#3. fit the model\n",
        "model.fit(tf.expand_dims(X, axis=-1), y, epochs=100)"
      ],
      "metadata": {
        "colab": {
          "base_uri": "https://localhost:8080/"
        },
        "id": "4jqq6BUCgY-Y",
        "outputId": "f1a8619f-1bc3-41be-9b32-67b7b94e0d22"
      },
      "execution_count": 61,
      "outputs": [
        {
          "output_type": "stream",
          "name": "stdout",
          "text": [
            "Epoch 1/100\n",
            "2/2 [==============================] - 0s 9ms/step - loss: 16.7783 - mae: 16.7783\n",
            "Epoch 2/100\n",
            "2/2 [==============================] - 0s 9ms/step - loss: 11.1156 - mae: 11.1156\n",
            "Epoch 3/100\n",
            "2/2 [==============================] - 0s 6ms/step - loss: 12.8989 - mae: 12.8989\n",
            "Epoch 4/100\n",
            "2/2 [==============================] - 0s 6ms/step - loss: 10.4057 - mae: 10.4057\n",
            "Epoch 5/100\n",
            "2/2 [==============================] - 0s 6ms/step - loss: 13.1342 - mae: 13.1342\n",
            "Epoch 6/100\n",
            "2/2 [==============================] - 0s 6ms/step - loss: 13.8134 - mae: 13.8134\n",
            "Epoch 7/100\n",
            "2/2 [==============================] - 0s 5ms/step - loss: 10.4497 - mae: 10.4497\n",
            "Epoch 8/100\n",
            "2/2 [==============================] - 0s 6ms/step - loss: 11.6276 - mae: 11.6276\n",
            "Epoch 9/100\n",
            "2/2 [==============================] - 0s 6ms/step - loss: 9.8846 - mae: 9.8846\n",
            "Epoch 10/100\n",
            "2/2 [==============================] - 0s 6ms/step - loss: 9.9311 - mae: 9.9311\n",
            "Epoch 11/100\n",
            "2/2 [==============================] - 0s 6ms/step - loss: 9.9030 - mae: 9.9030\n",
            "Epoch 12/100\n",
            "2/2 [==============================] - 0s 5ms/step - loss: 9.8442 - mae: 9.8442\n",
            "Epoch 13/100\n",
            "2/2 [==============================] - 0s 5ms/step - loss: 9.6823 - mae: 9.6823\n",
            "Epoch 14/100\n",
            "2/2 [==============================] - 0s 12ms/step - loss: 11.0552 - mae: 11.0552\n",
            "Epoch 15/100\n",
            "2/2 [==============================] - 0s 13ms/step - loss: 13.4934 - mae: 13.4934\n",
            "Epoch 16/100\n",
            "2/2 [==============================] - 0s 9ms/step - loss: 13.1520 - mae: 13.1520\n",
            "Epoch 17/100\n",
            "2/2 [==============================] - 0s 6ms/step - loss: 10.1459 - mae: 10.1459\n",
            "Epoch 18/100\n",
            "2/2 [==============================] - 0s 16ms/step - loss: 10.6966 - mae: 10.6966\n",
            "Epoch 19/100\n",
            "2/2 [==============================] - 0s 5ms/step - loss: 10.0395 - mae: 10.0395\n",
            "Epoch 20/100\n",
            "2/2 [==============================] - 0s 6ms/step - loss: 10.8340 - mae: 10.8340\n",
            "Epoch 21/100\n",
            "2/2 [==============================] - 0s 7ms/step - loss: 12.1895 - mae: 12.1895\n",
            "Epoch 22/100\n",
            "2/2 [==============================] - 0s 6ms/step - loss: 9.5468 - mae: 9.5468\n",
            "Epoch 23/100\n",
            "2/2 [==============================] - 0s 8ms/step - loss: 9.3491 - mae: 9.3491\n",
            "Epoch 24/100\n",
            "2/2 [==============================] - 0s 13ms/step - loss: 9.6859 - mae: 9.6859\n",
            "Epoch 25/100\n",
            "2/2 [==============================] - 0s 5ms/step - loss: 9.5824 - mae: 9.5824\n",
            "Epoch 26/100\n",
            "2/2 [==============================] - 0s 7ms/step - loss: 9.4592 - mae: 9.4592\n",
            "Epoch 27/100\n",
            "2/2 [==============================] - 0s 6ms/step - loss: 9.6940 - mae: 9.6940\n",
            "Epoch 28/100\n",
            "2/2 [==============================] - 0s 7ms/step - loss: 9.5682 - mae: 9.5682\n",
            "Epoch 29/100\n",
            "2/2 [==============================] - 0s 9ms/step - loss: 9.4546 - mae: 9.4546\n",
            "Epoch 30/100\n",
            "2/2 [==============================] - 0s 7ms/step - loss: 9.9868 - mae: 9.9868\n",
            "Epoch 31/100\n",
            "2/2 [==============================] - 0s 6ms/step - loss: 13.4278 - mae: 13.4278\n",
            "Epoch 32/100\n",
            "2/2 [==============================] - 0s 7ms/step - loss: 9.6145 - mae: 9.6145\n",
            "Epoch 33/100\n",
            "2/2 [==============================] - 0s 5ms/step - loss: 9.5476 - mae: 9.5476\n",
            "Epoch 34/100\n",
            "2/2 [==============================] - 0s 4ms/step - loss: 9.8732 - mae: 9.8732\n",
            "Epoch 35/100\n",
            "2/2 [==============================] - 0s 3ms/step - loss: 10.1201 - mae: 10.1201\n",
            "Epoch 36/100\n",
            "2/2 [==============================] - 0s 4ms/step - loss: 9.4880 - mae: 9.4880\n",
            "Epoch 37/100\n",
            "2/2 [==============================] - 0s 4ms/step - loss: 9.3788 - mae: 9.3788\n",
            "Epoch 38/100\n",
            "2/2 [==============================] - 0s 3ms/step - loss: 9.6021 - mae: 9.6021\n",
            "Epoch 39/100\n",
            "2/2 [==============================] - 0s 4ms/step - loss: 10.3576 - mae: 10.3576\n",
            "Epoch 40/100\n",
            "2/2 [==============================] - 0s 4ms/step - loss: 11.5261 - mae: 11.5261\n",
            "Epoch 41/100\n",
            "2/2 [==============================] - 0s 4ms/step - loss: 9.7026 - mae: 9.7026\n",
            "Epoch 42/100\n",
            "2/2 [==============================] - 0s 4ms/step - loss: 9.1496 - mae: 9.1496\n",
            "Epoch 43/100\n",
            "2/2 [==============================] - 0s 4ms/step - loss: 10.0442 - mae: 10.0442\n",
            "Epoch 44/100\n",
            "2/2 [==============================] - 0s 4ms/step - loss: 9.3636 - mae: 9.3636\n",
            "Epoch 45/100\n",
            "2/2 [==============================] - 0s 3ms/step - loss: 9.4971 - mae: 9.4971\n",
            "Epoch 46/100\n",
            "2/2 [==============================] - 0s 4ms/step - loss: 9.3505 - mae: 9.3505\n",
            "Epoch 47/100\n",
            "2/2 [==============================] - 0s 4ms/step - loss: 9.3486 - mae: 9.3486\n",
            "Epoch 48/100\n",
            "2/2 [==============================] - 0s 5ms/step - loss: 9.5925 - mae: 9.5925\n",
            "Epoch 49/100\n",
            "2/2 [==============================] - 0s 3ms/step - loss: 10.2472 - mae: 10.2472\n",
            "Epoch 50/100\n",
            "2/2 [==============================] - 0s 4ms/step - loss: 9.2693 - mae: 9.2693\n",
            "Epoch 51/100\n",
            "2/2 [==============================] - 0s 4ms/step - loss: 9.0402 - mae: 9.0402\n",
            "Epoch 52/100\n",
            "2/2 [==============================] - 0s 4ms/step - loss: 8.9772 - mae: 8.9772\n",
            "Epoch 53/100\n",
            "2/2 [==============================] - 0s 10ms/step - loss: 9.3127 - mae: 9.3127\n",
            "Epoch 54/100\n",
            "2/2 [==============================] - 0s 5ms/step - loss: 9.1897 - mae: 9.1897\n",
            "Epoch 55/100\n",
            "2/2 [==============================] - 0s 4ms/step - loss: 9.3458 - mae: 9.3458\n",
            "Epoch 56/100\n",
            "2/2 [==============================] - 0s 4ms/step - loss: 8.9649 - mae: 8.9649\n",
            "Epoch 57/100\n",
            "2/2 [==============================] - 0s 5ms/step - loss: 10.5361 - mae: 10.5361\n",
            "Epoch 58/100\n",
            "2/2 [==============================] - 0s 9ms/step - loss: 15.1954 - mae: 15.1954\n",
            "Epoch 59/100\n",
            "2/2 [==============================] - 0s 9ms/step - loss: 14.0211 - mae: 14.0211\n",
            "Epoch 60/100\n",
            "2/2 [==============================] - 0s 12ms/step - loss: 13.3240 - mae: 13.3240\n",
            "Epoch 61/100\n",
            "2/2 [==============================] - 0s 6ms/step - loss: 11.8253 - mae: 11.8253\n",
            "Epoch 62/100\n",
            "2/2 [==============================] - 0s 6ms/step - loss: 9.9625 - mae: 9.9625\n",
            "Epoch 63/100\n",
            "2/2 [==============================] - 0s 10ms/step - loss: 12.3143 - mae: 12.3143\n",
            "Epoch 64/100\n",
            "2/2 [==============================] - 0s 6ms/step - loss: 9.2105 - mae: 9.2105\n",
            "Epoch 65/100\n",
            "2/2 [==============================] - 0s 13ms/step - loss: 12.3206 - mae: 12.3206\n",
            "Epoch 66/100\n",
            "2/2 [==============================] - 0s 7ms/step - loss: 8.9514 - mae: 8.9514\n",
            "Epoch 67/100\n",
            "2/2 [==============================] - 0s 7ms/step - loss: 9.0832 - mae: 9.0832\n",
            "Epoch 68/100\n",
            "2/2 [==============================] - 0s 6ms/step - loss: 9.1950 - mae: 9.1950\n",
            "Epoch 69/100\n",
            "2/2 [==============================] - 0s 6ms/step - loss: 9.1903 - mae: 9.1903\n",
            "Epoch 70/100\n",
            "2/2 [==============================] - 0s 4ms/step - loss: 9.4502 - mae: 9.4502\n",
            "Epoch 71/100\n",
            "2/2 [==============================] - 0s 4ms/step - loss: 8.8955 - mae: 8.8955\n",
            "Epoch 72/100\n",
            "2/2 [==============================] - 0s 4ms/step - loss: 9.9549 - mae: 9.9549\n",
            "Epoch 73/100\n",
            "2/2 [==============================] - 0s 5ms/step - loss: 11.8654 - mae: 11.8654\n",
            "Epoch 74/100\n",
            "2/2 [==============================] - 0s 8ms/step - loss: 8.5458 - mae: 8.5458\n",
            "Epoch 75/100\n",
            "2/2 [==============================] - 0s 7ms/step - loss: 8.7588 - mae: 8.7588\n",
            "Epoch 76/100\n",
            "2/2 [==============================] - 0s 5ms/step - loss: 8.8044 - mae: 8.8044\n",
            "Epoch 77/100\n",
            "2/2 [==============================] - 0s 7ms/step - loss: 8.2533 - mae: 8.2533\n",
            "Epoch 78/100\n",
            "2/2 [==============================] - 0s 6ms/step - loss: 9.9011 - mae: 9.9011\n",
            "Epoch 79/100\n",
            "2/2 [==============================] - 0s 5ms/step - loss: 8.1703 - mae: 8.1703\n",
            "Epoch 80/100\n",
            "2/2 [==============================] - 0s 6ms/step - loss: 12.7558 - mae: 12.7558\n",
            "Epoch 81/100\n",
            "2/2 [==============================] - 0s 7ms/step - loss: 13.6057 - mae: 13.6057\n",
            "Epoch 82/100\n",
            "2/2 [==============================] - 0s 5ms/step - loss: 16.1125 - mae: 16.1125\n",
            "Epoch 83/100\n",
            "2/2 [==============================] - 0s 9ms/step - loss: 9.2536 - mae: 9.2536\n",
            "Epoch 84/100\n",
            "2/2 [==============================] - 0s 5ms/step - loss: 8.7871 - mae: 8.7871\n",
            "Epoch 85/100\n",
            "2/2 [==============================] - 0s 4ms/step - loss: 8.8223 - mae: 8.8223\n",
            "Epoch 86/100\n",
            "2/2 [==============================] - 0s 7ms/step - loss: 8.9819 - mae: 8.9819\n",
            "Epoch 87/100\n",
            "2/2 [==============================] - 0s 7ms/step - loss: 10.3741 - mae: 10.3741\n",
            "Epoch 88/100\n",
            "2/2 [==============================] - 0s 7ms/step - loss: 8.9156 - mae: 8.9156\n",
            "Epoch 89/100\n",
            "2/2 [==============================] - 0s 6ms/step - loss: 9.0249 - mae: 9.0249\n",
            "Epoch 90/100\n",
            "2/2 [==============================] - 0s 6ms/step - loss: 17.5374 - mae: 17.5374\n",
            "Epoch 91/100\n",
            "2/2 [==============================] - 0s 7ms/step - loss: 12.4543 - mae: 12.4543\n",
            "Epoch 92/100\n",
            "2/2 [==============================] - 0s 4ms/step - loss: 11.5252 - mae: 11.5252\n",
            "Epoch 93/100\n",
            "2/2 [==============================] - 0s 4ms/step - loss: 9.1006 - mae: 9.1006\n",
            "Epoch 94/100\n",
            "2/2 [==============================] - 0s 8ms/step - loss: 9.7238 - mae: 9.7238\n",
            "Epoch 95/100\n",
            "2/2 [==============================] - 0s 6ms/step - loss: 11.9767 - mae: 11.9767\n",
            "Epoch 96/100\n",
            "2/2 [==============================] - 0s 6ms/step - loss: 8.3532 - mae: 8.3532\n",
            "Epoch 97/100\n",
            "2/2 [==============================] - 0s 8ms/step - loss: 8.6818 - mae: 8.6818\n",
            "Epoch 98/100\n",
            "2/2 [==============================] - 0s 6ms/step - loss: 8.7685 - mae: 8.7685\n",
            "Epoch 99/100\n",
            "2/2 [==============================] - 0s 6ms/step - loss: 8.3235 - mae: 8.3235\n",
            "Epoch 100/100\n",
            "2/2 [==============================] - 0s 6ms/step - loss: 7.8793 - mae: 7.8793\n"
          ]
        },
        {
          "output_type": "execute_result",
          "data": {
            "text/plain": [
              "<keras.callbacks.History at 0x7fb59bc94290>"
            ]
          },
          "metadata": {},
          "execution_count": 61
        }
      ]
    },
    {
      "cell_type": "code",
      "source": [
        "#try and make a predictioons using our model\n",
        "y_pred=model.predict([17.0])\n",
        "y_pred"
      ],
      "metadata": {
        "colab": {
          "base_uri": "https://localhost:8080/"
        },
        "id": "8LfDfRyWibEI",
        "outputId": "4e11d89b-6e31-4474-c23c-2ea9d4b77fac"
      },
      "execution_count": 62,
      "outputs": [
        {
          "output_type": "execute_result",
          "data": {
            "text/plain": [
              "array([[21.005001]], dtype=float32)"
            ]
          },
          "metadata": {},
          "execution_count": 62
        }
      ]
    },
    {
      "cell_type": "code",
      "source": [
        "#create the model (with extra hidden layer)\n",
        "model= tf.keras.Sequential([\n",
        "  tf.keras.layers.Dense(50, activation=None),\n",
        "  tf.keras.layers.Dense(1)\n",
        "])\n",
        "\n",
        "#2. compiling the model\n",
        "model.compile(loss=\"mae\",\n",
        "              optimizer=tf.keras.optimizers.Adam(lr=0.01),\n",
        "              metrics=[\"mae\"])\n",
        "\n",
        "#3. fit the model\n",
        "model.fit(tf.expand_dims(X, axis=-1), y, epochs=100)"
      ],
      "metadata": {
        "id": "uxLu8IUnivBC",
        "colab": {
          "base_uri": "https://localhost:8080/"
        },
        "outputId": "b21a7cbc-0d34-4ef5-9b9d-0098fcd8e8c0"
      },
      "execution_count": 63,
      "outputs": [
        {
          "output_type": "stream",
          "name": "stderr",
          "text": [
            "/usr/local/lib/python3.7/dist-packages/keras/optimizer_v2/adam.py:105: UserWarning: The `lr` argument is deprecated, use `learning_rate` instead.\n",
            "  super(Adam, self).__init__(name, **kwargs)\n"
          ]
        },
        {
          "output_type": "stream",
          "name": "stdout",
          "text": [
            "Epoch 1/100\n",
            "2/2 [==============================] - 0s 8ms/step - loss: 23.5724 - mae: 23.5724\n",
            "Epoch 2/100\n",
            "2/2 [==============================] - 0s 8ms/step - loss: 11.6190 - mae: 11.6190\n",
            "Epoch 3/100\n",
            "2/2 [==============================] - 0s 6ms/step - loss: 10.3445 - mae: 10.3445\n",
            "Epoch 4/100\n",
            "2/2 [==============================] - 0s 7ms/step - loss: 12.6074 - mae: 12.6074\n",
            "Epoch 5/100\n",
            "2/2 [==============================] - 0s 4ms/step - loss: 9.7492 - mae: 9.7492\n",
            "Epoch 6/100\n",
            "2/2 [==============================] - 0s 5ms/step - loss: 9.3016 - mae: 9.3016\n",
            "Epoch 7/100\n",
            "2/2 [==============================] - 0s 7ms/step - loss: 9.2128 - mae: 9.2128\n",
            "Epoch 8/100\n",
            "2/2 [==============================] - 0s 6ms/step - loss: 10.2128 - mae: 10.2128\n",
            "Epoch 9/100\n",
            "2/2 [==============================] - 0s 5ms/step - loss: 9.1672 - mae: 9.1672\n",
            "Epoch 10/100\n",
            "2/2 [==============================] - 0s 5ms/step - loss: 8.2988 - mae: 8.2988\n",
            "Epoch 11/100\n",
            "2/2 [==============================] - 0s 8ms/step - loss: 8.2574 - mae: 8.2574\n",
            "Epoch 12/100\n",
            "2/2 [==============================] - 0s 6ms/step - loss: 8.3261 - mae: 8.3261\n",
            "Epoch 13/100\n",
            "2/2 [==============================] - 0s 6ms/step - loss: 8.3060 - mae: 8.3060\n",
            "Epoch 14/100\n",
            "2/2 [==============================] - 0s 6ms/step - loss: 7.6943 - mae: 7.6943\n",
            "Epoch 15/100\n",
            "2/2 [==============================] - 0s 9ms/step - loss: 7.4498 - mae: 7.4498\n",
            "Epoch 16/100\n",
            "2/2 [==============================] - 0s 7ms/step - loss: 7.4188 - mae: 7.4188\n",
            "Epoch 17/100\n",
            "2/2 [==============================] - 0s 6ms/step - loss: 7.2393 - mae: 7.2393\n",
            "Epoch 18/100\n",
            "2/2 [==============================] - 0s 8ms/step - loss: 7.0581 - mae: 7.0581\n",
            "Epoch 19/100\n",
            "2/2 [==============================] - 0s 6ms/step - loss: 6.7261 - mae: 6.7261\n",
            "Epoch 20/100\n",
            "2/2 [==============================] - 0s 5ms/step - loss: 6.5856 - mae: 6.5856\n",
            "Epoch 21/100\n",
            "2/2 [==============================] - 0s 5ms/step - loss: 6.3266 - mae: 6.3266\n",
            "Epoch 22/100\n",
            "2/2 [==============================] - 0s 7ms/step - loss: 5.9433 - mae: 5.9433\n",
            "Epoch 23/100\n",
            "2/2 [==============================] - 0s 5ms/step - loss: 5.7068 - mae: 5.7068\n",
            "Epoch 24/100\n",
            "2/2 [==============================] - 0s 4ms/step - loss: 5.3827 - mae: 5.3827\n",
            "Epoch 25/100\n",
            "2/2 [==============================] - 0s 4ms/step - loss: 5.1195 - mae: 5.1195\n",
            "Epoch 26/100\n",
            "2/2 [==============================] - 0s 5ms/step - loss: 4.8046 - mae: 4.8046\n",
            "Epoch 27/100\n",
            "2/2 [==============================] - 0s 8ms/step - loss: 4.4621 - mae: 4.4621\n",
            "Epoch 28/100\n",
            "2/2 [==============================] - 0s 9ms/step - loss: 4.1022 - mae: 4.1022\n",
            "Epoch 29/100\n",
            "2/2 [==============================] - 0s 8ms/step - loss: 3.7127 - mae: 3.7127\n",
            "Epoch 30/100\n",
            "2/2 [==============================] - 0s 7ms/step - loss: 3.3659 - mae: 3.3659\n",
            "Epoch 31/100\n",
            "2/2 [==============================] - 0s 5ms/step - loss: 3.2960 - mae: 3.2960\n",
            "Epoch 32/100\n",
            "2/2 [==============================] - 0s 10ms/step - loss: 2.6655 - mae: 2.6655\n",
            "Epoch 33/100\n",
            "2/2 [==============================] - 0s 5ms/step - loss: 2.0209 - mae: 2.0209\n",
            "Epoch 34/100\n",
            "2/2 [==============================] - 0s 13ms/step - loss: 1.8229 - mae: 1.8229\n",
            "Epoch 35/100\n",
            "2/2 [==============================] - 0s 13ms/step - loss: 1.2288 - mae: 1.2288\n",
            "Epoch 36/100\n",
            "2/2 [==============================] - 0s 7ms/step - loss: 2.0949 - mae: 2.0949\n",
            "Epoch 37/100\n",
            "2/2 [==============================] - 0s 5ms/step - loss: 2.1202 - mae: 2.1202\n",
            "Epoch 38/100\n",
            "2/2 [==============================] - 0s 9ms/step - loss: 1.4602 - mae: 1.4602\n",
            "Epoch 39/100\n",
            "2/2 [==============================] - 0s 9ms/step - loss: 4.7247 - mae: 4.7247\n",
            "Epoch 40/100\n",
            "2/2 [==============================] - 0s 8ms/step - loss: 2.1026 - mae: 2.1026\n",
            "Epoch 41/100\n",
            "2/2 [==============================] - 0s 8ms/step - loss: 4.2328 - mae: 4.2328\n",
            "Epoch 42/100\n",
            "2/2 [==============================] - 0s 6ms/step - loss: 1.8739 - mae: 1.8739\n",
            "Epoch 43/100\n",
            "2/2 [==============================] - 0s 9ms/step - loss: 4.5988 - mae: 4.5988\n",
            "Epoch 44/100\n",
            "2/2 [==============================] - 0s 10ms/step - loss: 2.0278 - mae: 2.0278\n",
            "Epoch 45/100\n",
            "2/2 [==============================] - 0s 9ms/step - loss: 2.6708 - mae: 2.6708\n",
            "Epoch 46/100\n",
            "2/2 [==============================] - 0s 8ms/step - loss: 1.1577 - mae: 1.1577\n",
            "Epoch 47/100\n",
            "2/2 [==============================] - 0s 10ms/step - loss: 2.2710 - mae: 2.2710\n",
            "Epoch 48/100\n",
            "2/2 [==============================] - 0s 7ms/step - loss: 1.4411 - mae: 1.4411\n",
            "Epoch 49/100\n",
            "2/2 [==============================] - 0s 5ms/step - loss: 1.0755 - mae: 1.0755\n",
            "Epoch 50/100\n",
            "2/2 [==============================] - 0s 10ms/step - loss: 1.0085 - mae: 1.0085\n",
            "Epoch 51/100\n",
            "2/2 [==============================] - 0s 8ms/step - loss: 2.8576 - mae: 2.8576\n",
            "Epoch 52/100\n",
            "2/2 [==============================] - 0s 6ms/step - loss: 1.7678 - mae: 1.7678\n",
            "Epoch 53/100\n",
            "2/2 [==============================] - 0s 7ms/step - loss: 3.4452 - mae: 3.4452\n",
            "Epoch 54/100\n",
            "2/2 [==============================] - 0s 7ms/step - loss: 3.5658 - mae: 3.5658\n",
            "Epoch 55/100\n",
            "2/2 [==============================] - 0s 7ms/step - loss: 1.2647 - mae: 1.2647\n",
            "Epoch 56/100\n",
            "2/2 [==============================] - 0s 6ms/step - loss: 3.3312 - mae: 3.3312\n",
            "Epoch 57/100\n",
            "2/2 [==============================] - 0s 6ms/step - loss: 1.3149 - mae: 1.3149\n",
            "Epoch 58/100\n",
            "2/2 [==============================] - 0s 7ms/step - loss: 3.1223 - mae: 3.1223\n",
            "Epoch 59/100\n",
            "2/2 [==============================] - 0s 12ms/step - loss: 1.4083 - mae: 1.4083\n",
            "Epoch 60/100\n",
            "2/2 [==============================] - 0s 4ms/step - loss: 1.5123 - mae: 1.5123\n",
            "Epoch 61/100\n",
            "2/2 [==============================] - 0s 8ms/step - loss: 0.5533 - mae: 0.5533\n",
            "Epoch 62/100\n",
            "2/2 [==============================] - 0s 5ms/step - loss: 0.2813 - mae: 0.2813\n",
            "Epoch 63/100\n",
            "2/2 [==============================] - 0s 3ms/step - loss: 0.3043 - mae: 0.3043\n",
            "Epoch 64/100\n",
            "2/2 [==============================] - 0s 8ms/step - loss: 0.3862 - mae: 0.3862\n",
            "Epoch 65/100\n",
            "2/2 [==============================] - 0s 5ms/step - loss: 0.4476 - mae: 0.4476\n",
            "Epoch 66/100\n",
            "2/2 [==============================] - 0s 6ms/step - loss: 0.5776 - mae: 0.5776\n",
            "Epoch 67/100\n",
            "2/2 [==============================] - 0s 4ms/step - loss: 0.9230 - mae: 0.9230\n",
            "Epoch 68/100\n",
            "2/2 [==============================] - 0s 5ms/step - loss: 1.1073 - mae: 1.1073\n",
            "Epoch 69/100\n",
            "2/2 [==============================] - 0s 10ms/step - loss: 0.2915 - mae: 0.2915\n",
            "Epoch 70/100\n",
            "2/2 [==============================] - 0s 5ms/step - loss: 0.7300 - mae: 0.7300\n",
            "Epoch 71/100\n",
            "2/2 [==============================] - 0s 5ms/step - loss: 0.6670 - mae: 0.6670\n",
            "Epoch 72/100\n",
            "2/2 [==============================] - 0s 8ms/step - loss: 0.6582 - mae: 0.6582\n",
            "Epoch 73/100\n",
            "2/2 [==============================] - 0s 8ms/step - loss: 0.5187 - mae: 0.5187\n",
            "Epoch 74/100\n",
            "2/2 [==============================] - 0s 5ms/step - loss: 0.5893 - mae: 0.5893\n",
            "Epoch 75/100\n",
            "2/2 [==============================] - 0s 5ms/step - loss: 0.9110 - mae: 0.9110\n",
            "Epoch 76/100\n",
            "2/2 [==============================] - 0s 5ms/step - loss: 0.3990 - mae: 0.3990\n",
            "Epoch 77/100\n",
            "2/2 [==============================] - 0s 4ms/step - loss: 0.6774 - mae: 0.6774\n",
            "Epoch 78/100\n",
            "2/2 [==============================] - 0s 6ms/step - loss: 0.6780 - mae: 0.6780\n",
            "Epoch 79/100\n",
            "2/2 [==============================] - 0s 7ms/step - loss: 0.4528 - mae: 0.4528\n",
            "Epoch 80/100\n",
            "2/2 [==============================] - 0s 4ms/step - loss: 0.6293 - mae: 0.6293\n",
            "Epoch 81/100\n",
            "2/2 [==============================] - 0s 5ms/step - loss: 0.6116 - mae: 0.6116\n",
            "Epoch 82/100\n",
            "2/2 [==============================] - 0s 6ms/step - loss: 0.3924 - mae: 0.3924\n",
            "Epoch 83/100\n",
            "2/2 [==============================] - 0s 10ms/step - loss: 0.7778 - mae: 0.7778\n",
            "Epoch 84/100\n",
            "2/2 [==============================] - 0s 10ms/step - loss: 2.0788 - mae: 2.0788\n",
            "Epoch 85/100\n",
            "2/2 [==============================] - 0s 7ms/step - loss: 1.4372 - mae: 1.4372\n",
            "Epoch 86/100\n",
            "2/2 [==============================] - 0s 7ms/step - loss: 2.3776 - mae: 2.3776\n",
            "Epoch 87/100\n",
            "2/2 [==============================] - 0s 12ms/step - loss: 2.7303 - mae: 2.7303\n",
            "Epoch 88/100\n",
            "2/2 [==============================] - 0s 6ms/step - loss: 0.7166 - mae: 0.7166\n",
            "Epoch 89/100\n",
            "2/2 [==============================] - 0s 5ms/step - loss: 2.0061 - mae: 2.0061\n",
            "Epoch 90/100\n",
            "2/2 [==============================] - 0s 5ms/step - loss: 0.5478 - mae: 0.5478\n",
            "Epoch 91/100\n",
            "2/2 [==============================] - 0s 5ms/step - loss: 1.9684 - mae: 1.9684\n",
            "Epoch 92/100\n",
            "2/2 [==============================] - 0s 7ms/step - loss: 0.5877 - mae: 0.5877\n",
            "Epoch 93/100\n",
            "2/2 [==============================] - 0s 7ms/step - loss: 1.4601 - mae: 1.4601\n",
            "Epoch 94/100\n",
            "2/2 [==============================] - 0s 10ms/step - loss: 1.0341 - mae: 1.0341\n",
            "Epoch 95/100\n",
            "2/2 [==============================] - 0s 7ms/step - loss: 0.8106 - mae: 0.8106\n",
            "Epoch 96/100\n",
            "2/2 [==============================] - 0s 5ms/step - loss: 0.9232 - mae: 0.9232\n",
            "Epoch 97/100\n",
            "2/2 [==============================] - 0s 7ms/step - loss: 1.2685 - mae: 1.2685\n",
            "Epoch 98/100\n",
            "2/2 [==============================] - 0s 7ms/step - loss: 0.8410 - mae: 0.8410\n",
            "Epoch 99/100\n",
            "2/2 [==============================] - 0s 5ms/step - loss: 0.9838 - mae: 0.9838\n",
            "Epoch 100/100\n",
            "2/2 [==============================] - 0s 4ms/step - loss: 1.0764 - mae: 1.0764\n"
          ]
        },
        {
          "output_type": "execute_result",
          "data": {
            "text/plain": [
              "<keras.callbacks.History at 0x7fb59baac790>"
            ]
          },
          "metadata": {},
          "execution_count": 63
        }
      ]
    },
    {
      "cell_type": "code",
      "source": [
        "model.predict([17.0])"
      ],
      "metadata": {
        "colab": {
          "base_uri": "https://localhost:8080/"
        },
        "id": "cKfLYwhx2zsE",
        "outputId": "dcb28767-9cfb-4e47-8b0c-824c5c962931"
      },
      "execution_count": 64,
      "outputs": [
        {
          "output_type": "execute_result",
          "data": {
            "text/plain": [
              "array([[26.708477]], dtype=float32)"
            ]
          },
          "metadata": {},
          "execution_count": 64
        }
      ]
    },
    {
      "cell_type": "markdown",
      "source": [
        "###Evaluating the model"
      ],
      "metadata": {
        "id": "XmuLVE152-7p"
      }
    },
    {
      "cell_type": "code",
      "source": [
        "#make a bigger dataset\n",
        "X=tf.range(-100,100,4)\n",
        "X"
      ],
      "metadata": {
        "colab": {
          "base_uri": "https://localhost:8080/"
        },
        "id": "LYtM4vYF41O0",
        "outputId": "ea8699f6-7640-4a08-d229-35022e61de4a"
      },
      "execution_count": 17,
      "outputs": [
        {
          "output_type": "execute_result",
          "data": {
            "text/plain": [
              "<tf.Tensor: shape=(50,), dtype=int32, numpy=\n",
              "array([-100,  -96,  -92,  -88,  -84,  -80,  -76,  -72,  -68,  -64,  -60,\n",
              "        -56,  -52,  -48,  -44,  -40,  -36,  -32,  -28,  -24,  -20,  -16,\n",
              "        -12,   -8,   -4,    0,    4,    8,   12,   16,   20,   24,   28,\n",
              "         32,   36,   40,   44,   48,   52,   56,   60,   64,   68,   72,\n",
              "         76,   80,   84,   88,   92,   96], dtype=int32)>"
            ]
          },
          "metadata": {},
          "execution_count": 17
        }
      ]
    },
    {
      "cell_type": "code",
      "source": [
        "#make label for dataset\n",
        "y=X+10\n",
        "y"
      ],
      "metadata": {
        "colab": {
          "base_uri": "https://localhost:8080/"
        },
        "id": "5_e2L2ve5881",
        "outputId": "32c95c96-1c5f-475a-b70c-040c68cd3515"
      },
      "execution_count": 18,
      "outputs": [
        {
          "output_type": "execute_result",
          "data": {
            "text/plain": [
              "<tf.Tensor: shape=(50,), dtype=int32, numpy=\n",
              "array([-90, -86, -82, -78, -74, -70, -66, -62, -58, -54, -50, -46, -42,\n",
              "       -38, -34, -30, -26, -22, -18, -14, -10,  -6,  -2,   2,   6,  10,\n",
              "        14,  18,  22,  26,  30,  34,  38,  42,  46,  50,  54,  58,  62,\n",
              "        66,  70,  74,  78,  82,  86,  90,  94,  98, 102, 106], dtype=int32)>"
            ]
          },
          "metadata": {},
          "execution_count": 18
        }
      ]
    },
    {
      "cell_type": "code",
      "source": [
        "#visualize the data\n",
        "import matplotlib.pyplot as plt\n",
        "\n",
        "plt.scatter(X,y)"
      ],
      "metadata": {
        "colab": {
          "base_uri": "https://localhost:8080/",
          "height": 282
        },
        "id": "lSZMR4nz6CjT",
        "outputId": "85edda40-260a-45d5-dec5-06998173656f"
      },
      "execution_count": 19,
      "outputs": [
        {
          "output_type": "execute_result",
          "data": {
            "text/plain": [
              "<matplotlib.collections.PathCollection at 0x7fb51d793210>"
            ]
          },
          "metadata": {},
          "execution_count": 19
        },
        {
          "output_type": "display_data",
          "data": {
            "image/png": "[encoded data removed]",
            "text/plain": [
              "<Figure size 432x288 with 1 Axes>"
            ]
          },
          "metadata": {
            "needs_background": "light"
          }
        }
      ]
    },
    {
      "cell_type": "markdown",
      "source": [
        "### the 3 sets...\n",
        "* Training set\n",
        "* Validation set\n",
        "* Test set"
      ],
      "metadata": {
        "id": "yBzQDx6z6N8i"
      }
    },
    {
      "cell_type": "code",
      "source": [
        "#check the length the set \n",
        "len(X)"
      ],
      "metadata": {
        "colab": {
          "base_uri": "https://localhost:8080/"
        },
        "id": "vSePg2346fM7",
        "outputId": "e48ca5db-4b52-4310-d6c2-852f6267e42c"
      },
      "execution_count": 20,
      "outputs": [
        {
          "output_type": "execute_result",
          "data": {
            "text/plain": [
              "50"
            ]
          },
          "metadata": {},
          "execution_count": 20
        }
      ]
    },
    {
      "cell_type": "code",
      "source": [
        "#Split the data into train set\n",
        "X_Train =X[:40] #first 40  of the data train set\n",
        "y_Train=y[:40]\n",
        "\n",
        "X_Test= X[40:] #last 40 of the data test set  \n",
        "y_Test=y[40:]\n",
        "\n",
        "len(X_Train), len(X_Test), len(y_Train), len(y_Test)"
      ],
      "metadata": {
        "colab": {
          "base_uri": "https://localhost:8080/"
        },
        "id": "CCUZDejz7cmG",
        "outputId": "2a7cca75-823c-4483-c848-96bb2c5798a9"
      },
      "execution_count": 43,
      "outputs": [
        {
          "output_type": "execute_result",
          "data": {
            "text/plain": [
              "(40, 10, 40, 10)"
            ]
          },
          "metadata": {},
          "execution_count": 43
        }
      ]
    },
    {
      "cell_type": "markdown",
      "source": [
        "###Visualizing the data"
      ],
      "metadata": {
        "id": "uiSACcaB8K0B"
      }
    },
    {
      "cell_type": "code",
      "source": [
        "plt.figure(figsize=(10,7))\n",
        "\n",
        "#plot the training data in blue\n",
        "plt.scatter(X_Train, y_Train, c=\"b\", label=\" Training data\")\n",
        "\n",
        "plt.scatter(X_Test,y_Test, c=\"g\", label=\"Test data\")\n",
        "plt.legend()"
      ],
      "metadata": {
        "colab": {
          "base_uri": "https://localhost:8080/",
          "height": 445
        },
        "id": "bTb8YjP78YQZ",
        "outputId": "30688b79-07ac-43d7-843d-1da28726dfb9"
      },
      "execution_count": 44,
      "outputs": [
        {
          "output_type": "execute_result",
          "data": {
            "text/plain": [
              "<matplotlib.legend.Legend at 0x7fb51ef2c2d0>"
            ]
          },
          "metadata": {},
          "execution_count": 44
        },
        {
          "output_type": "display_data",
          "data": {
            "image/png": "[encoded data removed]",
            "text/plain": [
              "<Figure size 720x504 with 1 Axes>"
            ]
          },
          "metadata": {
            "needs_background": "light"
          }
        }
      ]
    },
    {
      "cell_type": "code",
      "source": [
        "#build neural network model\n",
        "\n",
        "#1. create a model\n",
        "model=tf.keras.Sequential([\n",
        "                           tf.keras.layers.Dense(1)\n",
        "])\n",
        "\n",
        "#2. compile the model\n",
        "model.compile(loss=tf.keras.losses.mae,\n",
        "             optimizer=tf.keras.optimizers.SGD(),\n",
        "             metrics=[\"mae\"])\n",
        "\n",
        "#3. fit the model\n",
        "#model.fit(tf.expand_dims(X, axis=-1),y, epochs=100)"
      ],
      "metadata": {
        "id": "ayevHcHl8vki"
      },
      "execution_count": 23,
      "outputs": []
    },
    {
      "cell_type": "code",
      "source": [
        "model.summary()"
      ],
      "metadata": {
        "colab": {
          "base_uri": "https://localhost:8080/",
          "height": 321
        },
        "id": "eS-KUkp6ob5q",
        "outputId": "f9d9cc3f-e450-4951-99df-d0d7e672cf5f"
      },
      "execution_count": 24,
      "outputs": [
        {
          "output_type": "error",
          "ename": "ValueError",
          "evalue": "ignored",
          "traceback": [
            "\u001b[0;31m---------------------------------------------------------------------------\u001b[0m",
            "\u001b[0;31mValueError\u001b[0m                                Traceback (most recent call last)",
            "\u001b[0;32m<ipython-input-24-5f15418b3570>\u001b[0m in \u001b[0;36m<module>\u001b[0;34m()\u001b[0m\n\u001b[0;32m----> 1\u001b[0;31m \u001b[0mmodel\u001b[0m\u001b[0;34m.\u001b[0m\u001b[0msummary\u001b[0m\u001b[0;34m(\u001b[0m\u001b[0;34m)\u001b[0m\u001b[0;34m\u001b[0m\u001b[0;34m\u001b[0m\u001b[0m\n\u001b[0m",
            "\u001b[0;32m/usr/local/lib/python3.7/dist-packages/keras/engine/training.py\u001b[0m in \u001b[0;36msummary\u001b[0;34m(self, line_length, positions, print_fn, expand_nested)\u001b[0m\n\u001b[1;32m   2578\u001b[0m     \u001b[0;32mif\u001b[0m \u001b[0;32mnot\u001b[0m \u001b[0mself\u001b[0m\u001b[0;34m.\u001b[0m\u001b[0mbuilt\u001b[0m\u001b[0;34m:\u001b[0m\u001b[0;34m\u001b[0m\u001b[0;34m\u001b[0m\u001b[0m\n\u001b[1;32m   2579\u001b[0m       raise ValueError(\n\u001b[0;32m-> 2580\u001b[0;31m           \u001b[0;34m'This model has not yet been built. '\u001b[0m\u001b[0;34m\u001b[0m\u001b[0;34m\u001b[0m\u001b[0m\n\u001b[0m\u001b[1;32m   2581\u001b[0m           \u001b[0;34m'Build the model first by calling `build()` or by calling '\u001b[0m\u001b[0;34m\u001b[0m\u001b[0;34m\u001b[0m\u001b[0m\n\u001b[1;32m   2582\u001b[0m           'the model on a batch of data.')\n",
            "\u001b[0;31mValueError\u001b[0m: This model has not yet been built. Build the model first by calling `build()` or by calling the model on a batch of data."
          ]
        }
      ]
    },
    {
      "cell_type": "code",
      "source": [
        "#create a model which automatically build by defining the input_shape argument\n",
        "tf.random.set_seed(42)\n",
        "\n",
        "model=tf.keras.Sequential([\n",
        "                           tf.keras.layers.Dense(10, input_shape=[1]),\n",
        "                           tf.keras.layers.Dense(1, name=\"output_layer\")\n",
        "], name=\"model_1\")\n",
        "\n",
        "model.compile(loss=tf.keras.losses.mae,\n",
        "              optimizer=tf.keras.optimizers.SGD(),\n",
        "              metrics=[\"mae\"])"
      ],
      "metadata": {
        "id": "_nsYxcfyogkk"
      },
      "execution_count": 45,
      "outputs": []
    },
    {
      "cell_type": "code",
      "source": [
        "model.summary()"
      ],
      "metadata": {
        "colab": {
          "base_uri": "https://localhost:8080/"
        },
        "id": "DJ-dlZOGo38i",
        "outputId": "e9b88e1f-38ed-4187-cea0-d3878f1fcd56"
      },
      "execution_count": 46,
      "outputs": [
        {
          "output_type": "stream",
          "name": "stdout",
          "text": [
            "Model: \"model_1\"\n",
            "_________________________________________________________________\n",
            " Layer (type)                Output Shape              Param #   \n",
            "=================================================================\n",
            " dense_9 (Dense)             (None, 10)                20        \n",
            "                                                                 \n",
            " output_layer (Dense)        (None, 1)                 11        \n",
            "                                                                 \n",
            "=================================================================\n",
            "Total params: 31\n",
            "Trainable params: 31\n",
            "Non-trainable params: 0\n",
            "_________________________________________________________________\n"
          ]
        }
      ]
    },
    {
      "cell_type": "markdown",
      "source": [
        "* Total params- total numebr of parameters in the model\n",
        "*Trainable parameters- these are the parameters/pattern the model can update as it trains.\n",
        "* Non-Trainable params- parameters that aren't updated during training."
      ],
      "metadata": {
        "id": "AMFm2WOMpZ-u"
      }
    },
    {
      "cell_type": "code",
      "source": [
        "model.fit(tf.expand_dims(X, axis=-1), y, epochs=100, verbose=1)"
      ],
      "metadata": {
        "colab": {
          "base_uri": "https://localhost:8080/"
        },
        "id": "U1apsslcpR43",
        "outputId": "c149d6e6-cf5c-41f9-a72e-2256154d6bd0"
      },
      "execution_count": 47,
      "outputs": [
        {
          "output_type": "stream",
          "name": "stdout",
          "text": [
            "Epoch 1/100\n",
            "2/2 [==============================] - 0s 8ms/step - loss: 40.2867 - mae: 40.2867\n",
            "Epoch 2/100\n",
            "2/2 [==============================] - 0s 6ms/step - loss: 25.9297 - mae: 25.9297\n",
            "Epoch 3/100\n",
            "2/2 [==============================] - 0s 6ms/step - loss: 44.1696 - mae: 44.1696\n",
            "Epoch 4/100\n",
            "2/2 [==============================] - 0s 7ms/step - loss: 11.2212 - mae: 11.2212\n",
            "Epoch 5/100\n",
            "2/2 [==============================] - 0s 5ms/step - loss: 23.0317 - mae: 23.0317\n",
            "Epoch 6/100\n",
            "2/2 [==============================] - 0s 7ms/step - loss: 24.2563 - mae: 24.2563\n",
            "Epoch 7/100\n",
            "2/2 [==============================] - 0s 7ms/step - loss: 11.2416 - mae: 11.2416\n",
            "Epoch 8/100\n",
            "2/2 [==============================] - 0s 7ms/step - loss: 34.1576 - mae: 34.1576\n",
            "Epoch 9/100\n",
            "2/2 [==============================] - 0s 4ms/step - loss: 12.5246 - mae: 12.5246\n",
            "Epoch 10/100\n",
            "2/2 [==============================] - 0s 5ms/step - loss: 10.1823 - mae: 10.1823\n",
            "Epoch 11/100\n",
            "2/2 [==============================] - 0s 8ms/step - loss: 23.0436 - mae: 23.0436\n",
            "Epoch 12/100\n",
            "2/2 [==============================] - 0s 7ms/step - loss: 16.3819 - mae: 16.3819\n",
            "Epoch 13/100\n",
            "2/2 [==============================] - 0s 4ms/step - loss: 22.6688 - mae: 22.6688\n",
            "Epoch 14/100\n",
            "2/2 [==============================] - 0s 4ms/step - loss: 22.1103 - mae: 22.1103\n",
            "Epoch 15/100\n",
            "2/2 [==============================] - 0s 7ms/step - loss: 19.8442 - mae: 19.8442\n",
            "Epoch 16/100\n",
            "2/2 [==============================] - 0s 9ms/step - loss: 23.1707 - mae: 23.1707\n",
            "Epoch 17/100\n",
            "2/2 [==============================] - 0s 4ms/step - loss: 11.5075 - mae: 11.5075\n",
            "Epoch 18/100\n",
            "2/2 [==============================] - 0s 4ms/step - loss: 29.7742 - mae: 29.7742\n",
            "Epoch 19/100\n",
            "2/2 [==============================] - 0s 3ms/step - loss: 18.4085 - mae: 18.4085\n",
            "Epoch 20/100\n",
            "2/2 [==============================] - 0s 6ms/step - loss: 18.7610 - mae: 18.7610\n",
            "Epoch 21/100\n",
            "2/2 [==============================] - 0s 3ms/step - loss: 19.4369 - mae: 19.4369\n",
            "Epoch 22/100\n",
            "2/2 [==============================] - 0s 7ms/step - loss: 20.5783 - mae: 20.5783\n",
            "Epoch 23/100\n",
            "2/2 [==============================] - 0s 6ms/step - loss: 19.8132 - mae: 19.8132\n",
            "Epoch 24/100\n",
            "2/2 [==============================] - 0s 4ms/step - loss: 18.7247 - mae: 18.7247\n",
            "Epoch 25/100\n",
            "2/2 [==============================] - 0s 4ms/step - loss: 21.7989 - mae: 21.7989\n",
            "Epoch 26/100\n",
            "2/2 [==============================] - 0s 4ms/step - loss: 10.6899 - mae: 10.6899\n",
            "Epoch 27/100\n",
            "2/2 [==============================] - 0s 3ms/step - loss: 30.8423 - mae: 30.8423\n",
            "Epoch 28/100\n",
            "2/2 [==============================] - 0s 6ms/step - loss: 16.5686 - mae: 16.5686\n",
            "Epoch 29/100\n",
            "2/2 [==============================] - 0s 6ms/step - loss: 33.0226 - mae: 33.0226\n",
            "Epoch 30/100\n",
            "2/2 [==============================] - 0s 10ms/step - loss: 19.5703 - mae: 19.5703\n",
            "Epoch 31/100\n",
            "2/2 [==============================] - 0s 4ms/step - loss: 12.5353 - mae: 12.5353\n",
            "Epoch 32/100\n",
            "2/2 [==============================] - 0s 4ms/step - loss: 20.7130 - mae: 20.7130\n",
            "Epoch 33/100\n",
            "2/2 [==============================] - 0s 6ms/step - loss: 20.6412 - mae: 20.6412\n",
            "Epoch 34/100\n",
            "2/2 [==============================] - 0s 5ms/step - loss: 21.2043 - mae: 21.2043\n",
            "Epoch 35/100\n",
            "2/2 [==============================] - 0s 15ms/step - loss: 21.3012 - mae: 21.3012\n",
            "Epoch 36/100\n",
            "2/2 [==============================] - 0s 5ms/step - loss: 18.8072 - mae: 18.8072\n",
            "Epoch 37/100\n",
            "2/2 [==============================] - 0s 5ms/step - loss: 27.4462 - mae: 27.4462\n",
            "Epoch 38/100\n",
            "2/2 [==============================] - 0s 6ms/step - loss: 29.1100 - mae: 29.1100\n",
            "Epoch 39/100\n",
            "2/2 [==============================] - 0s 8ms/step - loss: 20.5542 - mae: 20.5542\n",
            "Epoch 40/100\n",
            "2/2 [==============================] - 0s 6ms/step - loss: 20.6334 - mae: 20.6334\n",
            "Epoch 41/100\n",
            "2/2 [==============================] - 0s 7ms/step - loss: 24.9726 - mae: 24.9726\n",
            "Epoch 42/100\n",
            "2/2 [==============================] - 0s 5ms/step - loss: 20.5609 - mae: 20.5609\n",
            "Epoch 43/100\n",
            "2/2 [==============================] - 0s 5ms/step - loss: 23.1231 - mae: 23.1231\n",
            "Epoch 44/100\n",
            "2/2 [==============================] - 0s 8ms/step - loss: 9.8053 - mae: 9.8053\n",
            "Epoch 45/100\n",
            "2/2 [==============================] - 0s 6ms/step - loss: 22.5487 - mae: 22.5487\n",
            "Epoch 46/100\n",
            "2/2 [==============================] - 0s 5ms/step - loss: 9.2110 - mae: 9.2110\n",
            "Epoch 47/100\n",
            "2/2 [==============================] - 0s 7ms/step - loss: 20.3679 - mae: 20.3679\n",
            "Epoch 48/100\n",
            "2/2 [==============================] - 0s 3ms/step - loss: 8.4309 - mae: 8.4309\n",
            "Epoch 49/100\n",
            "2/2 [==============================] - 0s 4ms/step - loss: 12.6659 - mae: 12.6659\n",
            "Epoch 50/100\n",
            "2/2 [==============================] - 0s 4ms/step - loss: 32.1829 - mae: 32.1829\n",
            "Epoch 51/100\n",
            "2/2 [==============================] - 0s 4ms/step - loss: 16.5208 - mae: 16.5208\n",
            "Epoch 52/100\n",
            "2/2 [==============================] - 0s 6ms/step - loss: 33.7598 - mae: 33.7598\n",
            "Epoch 53/100\n",
            "2/2 [==============================] - 0s 4ms/step - loss: 9.7791 - mae: 9.7791\n",
            "Epoch 54/100\n",
            "2/2 [==============================] - 0s 3ms/step - loss: 11.4445 - mae: 11.4445\n",
            "Epoch 55/100\n",
            "2/2 [==============================] - 0s 5ms/step - loss: 24.6060 - mae: 24.6060\n",
            "Epoch 56/100\n",
            "2/2 [==============================] - 0s 4ms/step - loss: 9.1433 - mae: 9.1433\n",
            "Epoch 57/100\n",
            "2/2 [==============================] - 0s 4ms/step - loss: 11.6297 - mae: 11.6297\n",
            "Epoch 58/100\n",
            "2/2 [==============================] - 0s 6ms/step - loss: 27.3491 - mae: 27.3491\n",
            "Epoch 59/100\n",
            "2/2 [==============================] - 0s 4ms/step - loss: 25.1758 - mae: 25.1758\n",
            "Epoch 60/100\n",
            "2/2 [==============================] - 0s 4ms/step - loss: 11.4501 - mae: 11.4501\n",
            "Epoch 61/100\n",
            "2/2 [==============================] - 0s 4ms/step - loss: 31.5022 - mae: 31.5022\n",
            "Epoch 62/100\n",
            "2/2 [==============================] - 0s 4ms/step - loss: 21.6164 - mae: 21.6164\n",
            "Epoch 63/100\n",
            "2/2 [==============================] - 0s 4ms/step - loss: 9.4131 - mae: 9.4131\n",
            "Epoch 64/100\n",
            "2/2 [==============================] - 0s 6ms/step - loss: 27.2951 - mae: 27.2951\n",
            "Epoch 65/100\n",
            "2/2 [==============================] - 0s 4ms/step - loss: 8.9828 - mae: 8.9828\n",
            "Epoch 66/100\n",
            "2/2 [==============================] - 0s 4ms/step - loss: 9.2362 - mae: 9.2362\n",
            "Epoch 67/100\n",
            "2/2 [==============================] - 0s 8ms/step - loss: 25.8946 - mae: 25.8946\n",
            "Epoch 68/100\n",
            "2/2 [==============================] - 0s 8ms/step - loss: 16.4833 - mae: 16.4833\n",
            "Epoch 69/100\n",
            "2/2 [==============================] - 0s 4ms/step - loss: 25.0206 - mae: 25.0206\n",
            "Epoch 70/100\n",
            "2/2 [==============================] - 0s 4ms/step - loss: 26.0848 - mae: 26.0848\n",
            "Epoch 71/100\n",
            "2/2 [==============================] - 0s 4ms/step - loss: 19.4423 - mae: 19.4423\n",
            "Epoch 72/100\n",
            "2/2 [==============================] - 0s 5ms/step - loss: 25.3501 - mae: 25.3501\n",
            "Epoch 73/100\n",
            "2/2 [==============================] - 0s 7ms/step - loss: 35.7193 - mae: 35.7193\n",
            "Epoch 74/100\n",
            "2/2 [==============================] - 0s 7ms/step - loss: 16.4184 - mae: 16.4184\n",
            "Epoch 75/100\n",
            "2/2 [==============================] - 0s 4ms/step - loss: 30.0560 - mae: 30.0560\n",
            "Epoch 76/100\n",
            "2/2 [==============================] - 0s 10ms/step - loss: 24.7032 - mae: 24.7032\n",
            "Epoch 77/100\n",
            "2/2 [==============================] - 0s 10ms/step - loss: 17.8535 - mae: 17.8535\n",
            "Epoch 78/100\n",
            "2/2 [==============================] - 0s 4ms/step - loss: 23.0873 - mae: 23.0873\n",
            "Epoch 79/100\n",
            "2/2 [==============================] - 0s 10ms/step - loss: 10.0832 - mae: 10.0832\n",
            "Epoch 80/100\n",
            "2/2 [==============================] - 0s 5ms/step - loss: 22.9531 - mae: 22.9531\n",
            "Epoch 81/100\n",
            "2/2 [==============================] - 0s 4ms/step - loss: 26.6186 - mae: 26.6186\n",
            "Epoch 82/100\n",
            "2/2 [==============================] - 0s 5ms/step - loss: 8.7183 - mae: 8.7183\n",
            "Epoch 83/100\n",
            "2/2 [==============================] - 0s 4ms/step - loss: 17.7156 - mae: 17.7156\n",
            "Epoch 84/100\n",
            "2/2 [==============================] - 0s 4ms/step - loss: 21.7822 - mae: 21.7822\n",
            "Epoch 85/100\n",
            "2/2 [==============================] - 0s 5ms/step - loss: 8.5676 - mae: 8.5676\n",
            "Epoch 86/100\n",
            "2/2 [==============================] - 0s 4ms/step - loss: 10.1261 - mae: 10.1261\n",
            "Epoch 87/100\n",
            "2/2 [==============================] - 0s 8ms/step - loss: 33.4657 - mae: 33.4657\n",
            "Epoch 88/100\n",
            "2/2 [==============================] - 0s 4ms/step - loss: 20.4582 - mae: 20.4582\n",
            "Epoch 89/100\n",
            "2/2 [==============================] - 0s 3ms/step - loss: 21.4295 - mae: 21.4295\n",
            "Epoch 90/100\n",
            "2/2 [==============================] - 0s 6ms/step - loss: 40.8004 - mae: 40.8004\n",
            "Epoch 91/100\n",
            "2/2 [==============================] - 0s 10ms/step - loss: 16.7932 - mae: 16.7932\n",
            "Epoch 92/100\n",
            "2/2 [==============================] - 0s 4ms/step - loss: 19.9796 - mae: 19.9796\n",
            "Epoch 93/100\n",
            "2/2 [==============================] - 0s 5ms/step - loss: 20.7641 - mae: 20.7641\n",
            "Epoch 94/100\n",
            "2/2 [==============================] - 0s 4ms/step - loss: 26.1390 - mae: 26.1390\n",
            "Epoch 95/100\n",
            "2/2 [==============================] - 0s 8ms/step - loss: 29.1444 - mae: 29.1444\n",
            "Epoch 96/100\n",
            "2/2 [==============================] - 0s 4ms/step - loss: 20.5376 - mae: 20.5376\n",
            "Epoch 97/100\n",
            "2/2 [==============================] - 0s 4ms/step - loss: 21.5291 - mae: 21.5291\n",
            "Epoch 98/100\n",
            "2/2 [==============================] - 0s 4ms/step - loss: 12.7845 - mae: 12.7845\n",
            "Epoch 99/100\n",
            "2/2 [==============================] - 0s 5ms/step - loss: 16.1075 - mae: 16.1075\n",
            "Epoch 100/100\n",
            "2/2 [==============================] - 0s 4ms/step - loss: 20.3503 - mae: 20.3503\n"
          ]
        },
        {
          "output_type": "execute_result",
          "data": {
            "text/plain": [
              "<keras.callbacks.History at 0x7fb51dc86c50>"
            ]
          },
          "metadata": {},
          "execution_count": 47
        }
      ]
    },
    {
      "cell_type": "code",
      "source": [
        "#get summary of the model\n",
        "model.summary()"
      ],
      "metadata": {
        "id": "mENxSJJmrV-e",
        "colab": {
          "base_uri": "https://localhost:8080/"
        },
        "outputId": "22181183-0b27-4df3-8da6-4b2be5bb76d2"
      },
      "execution_count": 48,
      "outputs": [
        {
          "output_type": "stream",
          "name": "stdout",
          "text": [
            "Model: \"model_1\"\n",
            "_________________________________________________________________\n",
            " Layer (type)                Output Shape              Param #   \n",
            "=================================================================\n",
            " dense_9 (Dense)             (None, 10)                20        \n",
            "                                                                 \n",
            " output_layer (Dense)        (None, 1)                 11        \n",
            "                                                                 \n",
            "=================================================================\n",
            "Total params: 31\n",
            "Trainable params: 31\n",
            "Non-trainable params: 0\n",
            "_________________________________________________________________\n"
          ]
        }
      ]
    },
    {
      "cell_type": "code",
      "source": [
        "from tensorflow.keras.utils import plot_model\n",
        "\n",
        "plot_model(model=model, show_shapes=True)"
      ],
      "metadata": {
        "colab": {
          "base_uri": "https://localhost:8080/",
          "height": 312
        },
        "id": "7EqSkO2wt-eq",
        "outputId": "52bb2e9e-2e11-4ea2-8657-f198d8804628"
      },
      "execution_count": 65,
      "outputs": [
        {
          "output_type": "execute_result",
          "data": {
            "image/png": "[encoded data removed]",
            "text/plain": [
              "<IPython.core.display.Image object>"
            ]
          },
          "metadata": {},
          "execution_count": 65
        }
      ]
    },
    {
      "cell_type": "markdown",
      "source": [
        "###Visualize the model's prediction"
      ],
      "metadata": {
        "id": "tdRuP_wAuZEV"
      }
    },
    {
      "cell_type": "code",
      "source": [
        "#mkae some prediction\n",
        "y_pred=model.predict(X_Test)\n",
        "y_pred"
      ],
      "metadata": {
        "colab": {
          "base_uri": "https://localhost:8080/"
        },
        "id": "SjRXtu_pvbFt",
        "outputId": "9bdc10f0-0744-4a96-8fbf-6d51db6a30ff"
      },
      "execution_count": 66,
      "outputs": [
        {
          "output_type": "execute_result",
          "data": {
            "text/plain": [
              "array([[ 69.05402 ],\n",
              "       [ 72.99316 ],\n",
              "       [ 76.93228 ],\n",
              "       [ 80.87139 ],\n",
              "       [ 84.810524],\n",
              "       [ 88.74964 ],\n",
              "       [ 92.68876 ],\n",
              "       [ 96.627884],\n",
              "       [100.567   ],\n",
              "       [104.50612 ]], dtype=float32)"
            ]
          },
          "metadata": {},
          "execution_count": 66
        }
      ]
    },
    {
      "cell_type": "code",
      "source": [
        "y_Test"
      ],
      "metadata": {
        "colab": {
          "base_uri": "https://localhost:8080/"
        },
        "id": "Q5tM-Wm-wFA0",
        "outputId": "dab00078-5bc7-4676-f4c9-91dc536aff4e"
      },
      "execution_count": 67,
      "outputs": [
        {
          "output_type": "execute_result",
          "data": {
            "text/plain": [
              "<tf.Tensor: shape=(10,), dtype=int32, numpy=array([ 70,  74,  78,  82,  86,  90,  94,  98, 102, 106], dtype=int32)>"
            ]
          },
          "metadata": {},
          "execution_count": 67
        }
      ]
    },
    {
      "cell_type": "code",
      "source": [
        "#lets create a plotting function\n",
        "def plot_predictions(train_data= X_Train,\n",
        "                     train_labels= y_Train,\n",
        "                     test_data=X_Test,\n",
        "                     test_labels=y_Test,\n",
        "                     predictions=y_pred):\n",
        "  \n",
        "  #plot training data, test data and compare predictions to ground truth labels.\n",
        "  plt.figure(figsize=(10,7))\n",
        "\n",
        "  #plot the training data in blue\n",
        "  plt.scatter(train_data, train_labels, c=\"b\", label=\" Training data\")\n",
        "\n",
        "  plt.scatter(test_data, test_labels, c=\"g\", label=\"Test data\")\n",
        "\n",
        "  plt.scatter(test_data, predictions, c=\"r\", label=\"Predictions\")\n",
        "\n",
        "  plt.legend();"
      ],
      "metadata": {
        "id": "K1V8z2f0wIFi"
      },
      "execution_count": 71,
      "outputs": []
    },
    {
      "cell_type": "code",
      "source": [
        "plot_predictions()"
      ],
      "metadata": {
        "colab": {
          "base_uri": "https://localhost:8080/",
          "height": 428
        },
        "id": "zXb8nHOBxyYe",
        "outputId": "a1f3d9b8-efda-4f32-bb90-0cbfda104862"
      },
      "execution_count": 73,
      "outputs": [
        {
          "output_type": "display_data",
          "data": {
            "image/png": "[encoded data removed]",
            "text/plain": [
              "<Figure size 720x504 with 1 Axes>"
            ]
          },
          "metadata": {
            "needs_background": "light"
          }
        }
      ]
    },
    {
      "cell_type": "markdown",
      "source": [
        "###Evaluate the model with evaluation metrics"
      ],
      "metadata": {
        "id": "nI-bOxSXx1FH"
      }
    },
    {
      "cell_type": "code",
      "source": [
        "model.evaluate(X_Test, y_Test)"
      ],
      "metadata": {
        "colab": {
          "base_uri": "https://localhost:8080/"
        },
        "id": "PTO2QsUQykuy",
        "outputId": "42816b40-89eb-4153-efc6-b718466f61cd"
      },
      "execution_count": 75,
      "outputs": [
        {
          "output_type": "stream",
          "name": "stdout",
          "text": [
            "1/1 [==============================] - 0s 181ms/step - loss: 1.2199 - mae: 1.2199\n"
          ]
        },
        {
          "output_type": "execute_result",
          "data": {
            "text/plain": [
              "[1.2199203968048096, 1.2199203968048096]"
            ]
          },
          "metadata": {},
          "execution_count": 75
        }
      ]
    },
    {
      "cell_type": "code",
      "source": [
        "#calculate mean absolute error\n",
        "mae=tf.metrics.mean_absolute_error(y_Test, y_pred)\n",
        "mae"
      ],
      "metadata": {
        "colab": {
          "base_uri": "https://localhost:8080/"
        },
        "id": "OyIjVQjE02hd",
        "outputId": "1d5a0b75-8918-4562-f88e-146235965efb"
      },
      "execution_count": 81,
      "outputs": [
        {
          "output_type": "execute_result",
          "data": {
            "text/plain": [
              "<tf.Tensor: shape=(10,), dtype=float32, numpy=\n",
              "array([18.945976, 15.605474, 13.040631, 11.251444, 10.237895, 10.      ,\n",
              "       10.537752, 11.851153, 13.940201, 16.804895], dtype=float32)>"
            ]
          },
          "metadata": {},
          "execution_count": 81
        }
      ]
    },
    {
      "cell_type": "code",
      "source": [
        "tf.constant(y_pred)"
      ],
      "metadata": {
        "colab": {
          "base_uri": "https://localhost:8080/"
        },
        "id": "-ltHGHao1QNE",
        "outputId": "f2baee20-ae43-4458-d547-49b06d9e24d5"
      },
      "execution_count": 83,
      "outputs": [
        {
          "output_type": "execute_result",
          "data": {
            "text/plain": [
              "<tf.Tensor: shape=(10, 1), dtype=float32, numpy=\n",
              "array([[ 69.05402 ],\n",
              "       [ 72.99316 ],\n",
              "       [ 76.93228 ],\n",
              "       [ 80.87139 ],\n",
              "       [ 84.810524],\n",
              "       [ 88.74964 ],\n",
              "       [ 92.68876 ],\n",
              "       [ 96.627884],\n",
              "       [100.567   ],\n",
              "       [104.50612 ]], dtype=float32)>"
            ]
          },
          "metadata": {},
          "execution_count": 83
        }
      ]
    },
    {
      "cell_type": "code",
      "source": [
        "y_Test"
      ],
      "metadata": {
        "colab": {
          "base_uri": "https://localhost:8080/"
        },
        "id": "teLIRziy1YsM",
        "outputId": "39808810-fc51-4782-e679-0eed2b3859f0"
      },
      "execution_count": 84,
      "outputs": [
        {
          "output_type": "execute_result",
          "data": {
            "text/plain": [
              "<tf.Tensor: shape=(10,), dtype=int32, numpy=array([ 70,  74,  78,  82,  86,  90,  94,  98, 102, 106], dtype=int32)>"
            ]
          },
          "metadata": {},
          "execution_count": 84
        }
      ]
    },
    {
      "cell_type": "code",
      "source": [
        "tf.squeeze(y_pred)"
      ],
      "metadata": {
        "colab": {
          "base_uri": "https://localhost:8080/"
        },
        "id": "LctMa-5T1hrk",
        "outputId": "3f02f617-b03c-4b00-b87c-fc0cdbbd77af"
      },
      "execution_count": 85,
      "outputs": [
        {
          "output_type": "execute_result",
          "data": {
            "text/plain": [
              "<tf.Tensor: shape=(10,), dtype=float32, numpy=\n",
              "array([ 69.05402 ,  72.99316 ,  76.93228 ,  80.87139 ,  84.810524,\n",
              "        88.74964 ,  92.68876 ,  96.627884, 100.567   , 104.50612 ],\n",
              "      dtype=float32)>"
            ]
          },
          "metadata": {},
          "execution_count": 85
        }
      ]
    },
    {
      "cell_type": "code",
      "source": [
        "#calculate mean absolute error\n",
        "mae=tf.metrics.mean_absolute_error(y_true=y_Test, \n",
        "                                  y_pred=tf.squeeze(y_pred))\n",
        "mae"
      ],
      "metadata": {
        "colab": {
          "base_uri": "https://localhost:8080/"
        },
        "id": "QpHdVPFt1nof",
        "outputId": "077db28f-0e77-4953-e30c-1fa028b1ba8d"
      },
      "execution_count": 89,
      "outputs": [
        {
          "output_type": "execute_result",
          "data": {
            "text/plain": [
              "<tf.Tensor: shape=(), dtype=float32, numpy=1.2199218>"
            ]
          },
          "metadata": {},
          "execution_count": 89
        }
      ]
    },
    {
      "cell_type": "code",
      "source": [
        "#calculate the means squared error\n",
        "mse=tf.metrics.mean_squared_error(y_true=y_Test, \n",
        "                                  y_pred=tf.squeeze(y_pred))\n",
        "mse\n"
      ],
      "metadata": {
        "colab": {
          "base_uri": "https://localhost:8080/"
        },
        "id": "D9zpFQIO0R6M",
        "outputId": "41cffcaf-c0ec-4d73-c37b-61b8e9ec1cc8"
      },
      "execution_count": 90,
      "outputs": [
        {
          "output_type": "execute_result",
          "data": {
            "text/plain": [
              "<tf.Tensor: shape=(), dtype=float32, numpy=1.5187857>"
            ]
          },
          "metadata": {},
          "execution_count": 90
        }
      ]
    },
    {
      "cell_type": "code",
      "source": [
        "y_pred"
      ],
      "metadata": {
        "colab": {
          "base_uri": "https://localhost:8080/"
        },
        "id": "xw0KQnug0KQu",
        "outputId": "3f4e4823-f421-482b-fc9c-0169a46a8264"
      },
      "execution_count": 76,
      "outputs": [
        {
          "output_type": "execute_result",
          "data": {
            "text/plain": [
              "array([[ 69.05402 ],\n",
              "       [ 72.99316 ],\n",
              "       [ 76.93228 ],\n",
              "       [ 80.87139 ],\n",
              "       [ 84.810524],\n",
              "       [ 88.74964 ],\n",
              "       [ 92.68876 ],\n",
              "       [ 96.627884],\n",
              "       [100.567   ],\n",
              "       [104.50612 ]], dtype=float32)"
            ]
          },
          "metadata": {},
          "execution_count": 76
        }
      ]
    },
    {
      "cell_type": "code",
      "source": [
        "#make some functions to reuse MAE and MSE\n",
        "def mae(y_true, y_pred):\n",
        "  return tf.metrics.mean_absolute_error(y_true=y_true,y_pred=y_pred)\n",
        "\n",
        "def mse(y_true, y_pred):\n",
        "  return tf.metrics.mean_squared_error(y_true=y_true,y_pred=y_pred)"
      ],
      "metadata": {
        "id": "_az4dYr00Opi"
      },
      "execution_count": 92,
      "outputs": []
    },
    {
      "cell_type": "code",
      "source": [
        ""
      ],
      "metadata": {
        "id": "VAUP68CS3Sfz"
      },
      "execution_count": null,
      "outputs": []
    }
  ]
}