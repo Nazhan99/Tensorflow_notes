{
  "nbformat": 4,
  "nbformat_minor": 0,
  "metadata": {
    "colab": {
      "name": "01_Neural_Network_Regression.ipynb",
      "provenance": [],
      "collapsed_sections": [],
      "authorship_tag": "ABX9TyPG3OcZ9zRIn+EvmzTaJAp2",
      "include_colab_link": true
    },
    "kernelspec": {
      "name": "python3",
      "display_name": "Python 3"
    },
    "language_info": {
      "name": "python"
    }
  },
  "cells": [
    {
      "cell_type": "markdown",
      "metadata": {
        "id": "view-in-github",
        "colab_type": "text"
      },
      "source": [
        "<a href=\"https://colab.research.google.com/github/Nazhan99/Tensorflow_notes/blob/main/01_Neural_Network_Regression.ipynb\" target=\"_parent\"><img src=\"https://colab.research.google.com/assets/colab-badge.svg\" alt=\"Open In Colab\"/></a>"
      ]
    },
    {
      "cell_type": "markdown",
      "source": [
        "#Introduction to regression with neural network in tensorflow\n",
        "\n"
      ],
      "metadata": {
        "id": "fEmVG5ybXpGG"
      }
    },
    {
      "cell_type": "code",
      "source": [
        "#import tensorflow\n",
        "import tensorflow as tf\n",
        "print(tf.__version__)"
      ],
      "metadata": {
        "colab": {
          "base_uri": "https://localhost:8080/"
        },
        "id": "qvrU_a1vXy2p",
        "outputId": "d74303ca-24a9-4fce-ecb9-ae1b927bbc8d"
      },
      "execution_count": 2,
      "outputs": [
        {
          "output_type": "stream",
          "name": "stdout",
          "text": [
            "2.7.0\n"
          ]
        }
      ]
    },
    {
      "cell_type": "code",
      "source": [
        "##Create data to view and fit"
      ],
      "metadata": {
        "id": "1j0pVpu-X_L0"
      },
      "execution_count": 3,
      "outputs": []
    },
    {
      "cell_type": "code",
      "source": [
        "import numpy as np\n",
        "import matplotlib.pyplot as plt\n",
        "\n",
        "#create features\n",
        "X= np.array([-7.0, -4.0, -1.0, 2.0, 5.0, 8.0, 11.0, 14.0])\n",
        "y= np.array([3.0, 6.0, 9.0, 12.0, 15.0, 18.0, 21.0, 24.0])\n",
        "\n",
        "#visualize it\n",
        "plt.scatter(X,y)"
      ],
      "metadata": {
        "colab": {
          "base_uri": "https://localhost:8080/",
          "height": 286
        },
        "id": "7ESM2Dx4YHy8",
        "outputId": "f9c751c5-cbe1-4579-ee49-66d67a56da54"
      },
      "execution_count": 5,
      "outputs": [
        {
          "output_type": "execute_result",
          "data": {
            "text/plain": [
              "<matplotlib.collections.PathCollection at 0x7f3d9b6b1110>"
            ]
          },
          "metadata": {},
          "execution_count": 5
        },
        {
          "output_type": "display_data",
          "data": {
            "image/png": "[encoded data removed]",
            "text/plain": [
              "<Figure size 432x288 with 1 Axes>"
            ]
          },
          "metadata": {
            "needs_background": "light"
          }
        }
      ]
    },
    {
      "cell_type": "code",
      "source": [
        "y== X+10"
      ],
      "metadata": {
        "colab": {
          "base_uri": "https://localhost:8080/"
        },
        "id": "ttXw_fE9Yxs4",
        "outputId": "0b7d948f-304d-45d5-e91c-37cae30342cc"
      },
      "execution_count": 6,
      "outputs": [
        {
          "output_type": "execute_result",
          "data": {
            "text/plain": [
              "array([ True,  True,  True,  True,  True,  True,  True,  True])"
            ]
          },
          "metadata": {},
          "execution_count": 6
        }
      ]
    },
    {
      "cell_type": "markdown",
      "source": [
        "###input and output shapes"
      ],
      "metadata": {
        "id": "wm6DwJozZLFc"
      }
    },
    {
      "cell_type": "code",
      "source": [
        "#create a demo  tensor for our housing price prediction problem\n",
        "house_info= tf.constant([\"bedroom\", 'bathroom', 'garage'])\n",
        "house_price= tf.constant([939700])\n",
        "house_info, house_price\n"
      ],
      "metadata": {
        "colab": {
          "base_uri": "https://localhost:8080/"
        },
        "id": "OJYreaEoY5ac",
        "outputId": "f2645b81-0625-47aa-a9fd-418d8aa167eb"
      },
      "execution_count": 8,
      "outputs": [
        {
          "output_type": "execute_result",
          "data": {
            "text/plain": [
              "(<tf.Tensor: shape=(3,), dtype=string, numpy=array([b'bedroom', b'bathroom', b'garage'], dtype=object)>,\n",
              " <tf.Tensor: shape=(1,), dtype=int32, numpy=array([939700], dtype=int32)>)"
            ]
          },
          "metadata": {},
          "execution_count": 8
        }
      ]
    },
    {
      "cell_type": "code",
      "source": [
        "input_shape=X.shape\n",
        "output_shape=y.shape\n",
        "input_shape, output_shape"
      ],
      "metadata": {
        "colab": {
          "base_uri": "https://localhost:8080/"
        },
        "id": "-Uzs3KsJZVjx",
        "outputId": "71817da4-ae7f-4fc3-a8f6-f1144f3872ac"
      },
      "execution_count": 11,
      "outputs": [
        {
          "output_type": "execute_result",
          "data": {
            "text/plain": [
              "((8,), (8,))"
            ]
          },
          "metadata": {},
          "execution_count": 11
        }
      ]
    },
    {
      "cell_type": "code",
      "source": [
        "X[0].ndim"
      ],
      "metadata": {
        "colab": {
          "base_uri": "https://localhost:8080/"
        },
        "id": "5AY5Xy-MZ0V4",
        "outputId": "11d3dff4-924d-46f3-cb49-9ba58d5728cf"
      },
      "execution_count": 12,
      "outputs": [
        {
          "output_type": "execute_result",
          "data": {
            "text/plain": [
              "0"
            ]
          },
          "metadata": {},
          "execution_count": 12
        }
      ]
    },
    {
      "cell_type": "code",
      "source": [
        "X[0], y[0]"
      ],
      "metadata": {
        "colab": {
          "base_uri": "https://localhost:8080/"
        },
        "id": "KtvKM1L0aEb2",
        "outputId": "b9954f58-6cd4-4992-ec74-b8ffc6edae08"
      },
      "execution_count": 13,
      "outputs": [
        {
          "output_type": "execute_result",
          "data": {
            "text/plain": [
              "(-7.0, 3.0)"
            ]
          },
          "metadata": {},
          "execution_count": 13
        }
      ]
    },
    {
      "cell_type": "code",
      "source": [
        "#turn numpy array to tensor\n",
        "X=tf.constant(X)\n",
        "y=tf.constant(y)\n",
        "X, y"
      ],
      "metadata": {
        "colab": {
          "base_uri": "https://localhost:8080/"
        },
        "id": "PfaoLz7naHRl",
        "outputId": "01294ef4-1438-47df-9d36-499e5321a288"
      },
      "execution_count": 23,
      "outputs": [
        {
          "output_type": "execute_result",
          "data": {
            "text/plain": [
              "(<tf.Tensor: shape=(8,), dtype=float64, numpy=array([-7., -4., -1.,  2.,  5.,  8., 11., 14.])>,\n",
              " <tf.Tensor: shape=(8,), dtype=float64, numpy=array([ 3.,  6.,  9., 12., 15., 18., 21., 24.])>)"
            ]
          },
          "metadata": {},
          "execution_count": 23
        }
      ]
    },
    {
      "cell_type": "code",
      "source": [
        "input_shape= X[0].shape\n",
        "output_shape= y[0].shape\n",
        "input_shape, output_shape"
      ],
      "metadata": {
        "colab": {
          "base_uri": "https://localhost:8080/"
        },
        "id": "8A-3cRcAa5PE",
        "outputId": "bfb3760d-b9a3-4f6b-c414-fa8293ddebc3"
      },
      "execution_count": 16,
      "outputs": [
        {
          "output_type": "execute_result",
          "data": {
            "text/plain": [
              "(TensorShape([]), TensorShape([]))"
            ]
          },
          "metadata": {},
          "execution_count": 16
        }
      ]
    },
    {
      "cell_type": "markdown",
      "source": [
        "###Steps in modelling with tensorflow\n",
        "\n",
        "1. Create a model (define input and output)\n",
        "2. compiling model (loss function and optimize)\n",
        "3.  fitting the model (predict the output)"
      ],
      "metadata": {
        "id": "RfFM8IL8bEhS"
      }
    },
    {
      "cell_type": "code",
      "source": [
        "#set random seed\n",
        "tf.random.set_seed(42)\n",
        "\n",
        "#1.create a model using the sequential API\n",
        "model=tf.keras.Sequential([\n",
        "  tf.keras.layers.Dense(1)\n",
        "])\n",
        "\n",
        "#2. compile the model\n",
        "model.compile(loss=tf.keras.losses.mae,\n",
        "              optimizer=tf.keras.optimizers.SGD(), #Stocastic gradient descent\n",
        "              metrics=[\"mae\"])\n",
        "\n",
        "#3. fit the model\n",
        "model.fit(tf.expand_dims(X, axis=-1),y, epochs=5)"
      ],
      "metadata": {
        "colab": {
          "base_uri": "https://localhost:8080/"
        },
        "id": "Caej5IsDbiph",
        "outputId": "c4c4eeb2-7a03-4a3c-9090-54ccd75961c8"
      },
      "execution_count": 18,
      "outputs": [
        {
          "output_type": "stream",
          "name": "stdout",
          "text": [
            "Epoch 1/5\n",
            "1/1 [==============================] - 0s 402ms/step - loss: 11.5048 - mae: 11.5048\n",
            "Epoch 2/5\n",
            "1/1 [==============================] - 0s 9ms/step - loss: 11.3723 - mae: 11.3723\n",
            "Epoch 3/5\n",
            "1/1 [==============================] - 0s 5ms/step - loss: 11.2398 - mae: 11.2398\n",
            "Epoch 4/5\n",
            "1/1 [==============================] - 0s 6ms/step - loss: 11.1073 - mae: 11.1073\n",
            "Epoch 5/5\n",
            "1/1 [==============================] - 0s 12ms/step - loss: 10.9748 - mae: 10.9748\n"
          ]
        },
        {
          "output_type": "execute_result",
          "data": {
            "text/plain": [
              "<keras.callbacks.History at 0x7f3d951b0390>"
            ]
          },
          "metadata": {},
          "execution_count": 18
        }
      ]
    },
    {
      "cell_type": "code",
      "source": [
        "#try and make a predictioons using our model\n",
        "y_pred=model.predict([17.0])\n",
        "y_pred"
      ],
      "metadata": {
        "colab": {
          "base_uri": "https://localhost:8080/"
        },
        "id": "fHVU4-Kcd-dm",
        "outputId": "dd160b56-0278-4c53-8435-9075c91e550b"
      },
      "execution_count": 25,
      "outputs": [
        {
          "output_type": "execute_result",
          "data": {
            "text/plain": [
              "array([[12.716021]], dtype=float32)"
            ]
          },
          "metadata": {},
          "execution_count": 25
        }
      ]
    },
    {
      "cell_type": "markdown",
      "source": [
        "###improving the model\n"
      ],
      "metadata": {
        "id": "lV5BJcwvfS_h"
      }
    },
    {
      "cell_type": "code",
      "source": [
        "#lets rebuild our model\n",
        "\n",
        "#1.create the model\n",
        "model= tf.keras.Sequential([\n",
        "                            tf.keras.layers.Dense(1)\n",
        "])\n",
        "\n",
        "#2. compiling the model\n",
        "model.compile(loss=tf.keras.losses.mae,\n",
        "              optimizer=tf.keras.optimizers.SGD(),\n",
        "              metrics=[\"mae\"])\n",
        "\n",
        "#3. fit the model\n",
        "model.fit(tf.expand_dims(X, axis=-1), y, epochs=100)"
      ],
      "metadata": {
        "colab": {
          "base_uri": "https://localhost:8080/"
        },
        "id": "4jqq6BUCgY-Y",
        "outputId": "40e6b56d-2e9c-4206-c132-45a187fa1166"
      },
      "execution_count": 28,
      "outputs": [
        {
          "output_type": "stream",
          "name": "stdout",
          "text": [
            "Epoch 1/100\n",
            "1/1 [==============================] - 0s 269ms/step - loss: 10.5736 - mae: 10.5736\n",
            "Epoch 2/100\n",
            "1/1 [==============================] - 0s 5ms/step - loss: 10.4411 - mae: 10.4411\n",
            "Epoch 3/100\n",
            "1/1 [==============================] - 0s 5ms/step - loss: 10.3086 - mae: 10.3086\n",
            "Epoch 4/100\n",
            "1/1 [==============================] - 0s 4ms/step - loss: 10.1761 - mae: 10.1761\n",
            "Epoch 5/100\n",
            "1/1 [==============================] - 0s 6ms/step - loss: 10.0436 - mae: 10.0436\n",
            "Epoch 6/100\n",
            "1/1 [==============================] - 0s 6ms/step - loss: 9.9111 - mae: 9.9111\n",
            "Epoch 7/100\n",
            "1/1 [==============================] - 0s 5ms/step - loss: 9.7786 - mae: 9.7786\n",
            "Epoch 8/100\n",
            "1/1 [==============================] - 0s 6ms/step - loss: 9.6461 - mae: 9.6461\n",
            "Epoch 9/100\n",
            "1/1 [==============================] - 0s 6ms/step - loss: 9.5136 - mae: 9.5136\n",
            "Epoch 10/100\n",
            "1/1 [==============================] - 0s 5ms/step - loss: 9.3811 - mae: 9.3811\n",
            "Epoch 11/100\n",
            "1/1 [==============================] - 0s 5ms/step - loss: 9.2486 - mae: 9.2486\n",
            "Epoch 12/100\n",
            "1/1 [==============================] - 0s 6ms/step - loss: 9.1161 - mae: 9.1161\n",
            "Epoch 13/100\n",
            "1/1 [==============================] - 0s 9ms/step - loss: 8.9836 - mae: 8.9836\n",
            "Epoch 14/100\n",
            "1/1 [==============================] - 0s 5ms/step - loss: 8.8511 - mae: 8.8511\n",
            "Epoch 15/100\n",
            "1/1 [==============================] - 0s 4ms/step - loss: 8.7186 - mae: 8.7186\n",
            "Epoch 16/100\n",
            "1/1 [==============================] - 0s 7ms/step - loss: 8.5861 - mae: 8.5861\n",
            "Epoch 17/100\n",
            "1/1 [==============================] - 0s 12ms/step - loss: 8.4536 - mae: 8.4536\n",
            "Epoch 18/100\n",
            "1/1 [==============================] - 0s 7ms/step - loss: 8.3211 - mae: 8.3211\n",
            "Epoch 19/100\n",
            "1/1 [==============================] - 0s 4ms/step - loss: 8.1886 - mae: 8.1886\n",
            "Epoch 20/100\n",
            "1/1 [==============================] - 0s 4ms/step - loss: 8.0561 - mae: 8.0561\n",
            "Epoch 21/100\n",
            "1/1 [==============================] - 0s 5ms/step - loss: 7.9236 - mae: 7.9236\n",
            "Epoch 22/100\n",
            "1/1 [==============================] - 0s 4ms/step - loss: 7.7911 - mae: 7.7911\n",
            "Epoch 23/100\n",
            "1/1 [==============================] - 0s 5ms/step - loss: 7.6586 - mae: 7.6586\n",
            "Epoch 24/100\n",
            "1/1 [==============================] - 0s 4ms/step - loss: 7.5261 - mae: 7.5261\n",
            "Epoch 25/100\n",
            "1/1 [==============================] - 0s 4ms/step - loss: 7.3936 - mae: 7.3936\n",
            "Epoch 26/100\n",
            "1/1 [==============================] - 0s 4ms/step - loss: 7.3125 - mae: 7.3125\n",
            "Epoch 27/100\n",
            "1/1 [==============================] - 0s 4ms/step - loss: 7.3069 - mae: 7.3069\n",
            "Epoch 28/100\n",
            "1/1 [==============================] - 0s 8ms/step - loss: 7.3012 - mae: 7.3012\n",
            "Epoch 29/100\n",
            "1/1 [==============================] - 0s 4ms/step - loss: 7.2956 - mae: 7.2956\n",
            "Epoch 30/100\n",
            "1/1 [==============================] - 0s 4ms/step - loss: 7.2900 - mae: 7.2900\n",
            "Epoch 31/100\n",
            "1/1 [==============================] - 0s 4ms/step - loss: 7.2844 - mae: 7.2844\n",
            "Epoch 32/100\n",
            "1/1 [==============================] - 0s 5ms/step - loss: 7.2787 - mae: 7.2787\n",
            "Epoch 33/100\n",
            "1/1 [==============================] - 0s 5ms/step - loss: 7.2731 - mae: 7.2731\n",
            "Epoch 34/100\n",
            "1/1 [==============================] - 0s 7ms/step - loss: 7.2675 - mae: 7.2675\n",
            "Epoch 35/100\n",
            "1/1 [==============================] - 0s 7ms/step - loss: 7.2619 - mae: 7.2619\n",
            "Epoch 36/100\n",
            "1/1 [==============================] - 0s 9ms/step - loss: 7.2562 - mae: 7.2562\n",
            "Epoch 37/100\n",
            "1/1 [==============================] - 0s 9ms/step - loss: 7.2506 - mae: 7.2506\n",
            "Epoch 38/100\n",
            "1/1 [==============================] - 0s 13ms/step - loss: 7.2450 - mae: 7.2450\n",
            "Epoch 39/100\n",
            "1/1 [==============================] - 0s 10ms/step - loss: 7.2394 - mae: 7.2394\n",
            "Epoch 40/100\n",
            "1/1 [==============================] - 0s 10ms/step - loss: 7.2337 - mae: 7.2337\n",
            "Epoch 41/100\n",
            "1/1 [==============================] - 0s 10ms/step - loss: 7.2281 - mae: 7.2281\n",
            "Epoch 42/100\n",
            "1/1 [==============================] - 0s 7ms/step - loss: 7.2225 - mae: 7.2225\n",
            "Epoch 43/100\n",
            "1/1 [==============================] - 0s 10ms/step - loss: 7.2169 - mae: 7.2169\n",
            "Epoch 44/100\n",
            "1/1 [==============================] - 0s 7ms/step - loss: 7.2112 - mae: 7.2112\n",
            "Epoch 45/100\n",
            "1/1 [==============================] - 0s 11ms/step - loss: 7.2056 - mae: 7.2056\n",
            "Epoch 46/100\n",
            "1/1 [==============================] - 0s 3ms/step - loss: 7.2000 - mae: 7.2000\n",
            "Epoch 47/100\n",
            "1/1 [==============================] - 0s 3ms/step - loss: 7.1944 - mae: 7.1944\n",
            "Epoch 48/100\n",
            "1/1 [==============================] - 0s 8ms/step - loss: 7.1887 - mae: 7.1887\n",
            "Epoch 49/100\n",
            "1/1 [==============================] - 0s 4ms/step - loss: 7.1831 - mae: 7.1831\n",
            "Epoch 50/100\n",
            "1/1 [==============================] - 0s 3ms/step - loss: 7.1775 - mae: 7.1775\n",
            "Epoch 51/100\n",
            "1/1 [==============================] - 0s 4ms/step - loss: 7.1719 - mae: 7.1719\n",
            "Epoch 52/100\n",
            "1/1 [==============================] - 0s 3ms/step - loss: 7.1663 - mae: 7.1663\n",
            "Epoch 53/100\n",
            "1/1 [==============================] - 0s 7ms/step - loss: 7.1606 - mae: 7.1606\n",
            "Epoch 54/100\n",
            "1/1 [==============================] - 0s 7ms/step - loss: 7.1550 - mae: 7.1550\n",
            "Epoch 55/100\n",
            "1/1 [==============================] - 0s 3ms/step - loss: 7.1494 - mae: 7.1494\n",
            "Epoch 56/100\n",
            "1/1 [==============================] - 0s 4ms/step - loss: 7.1438 - mae: 7.1438\n",
            "Epoch 57/100\n",
            "1/1 [==============================] - 0s 3ms/step - loss: 7.1381 - mae: 7.1381\n",
            "Epoch 58/100\n",
            "1/1 [==============================] - 0s 4ms/step - loss: 7.1325 - mae: 7.1325\n",
            "Epoch 59/100\n",
            "1/1 [==============================] - 0s 7ms/step - loss: 7.1269 - mae: 7.1269\n",
            "Epoch 60/100\n",
            "1/1 [==============================] - 0s 3ms/step - loss: 7.1213 - mae: 7.1213\n",
            "Epoch 61/100\n",
            "1/1 [==============================] - 0s 3ms/step - loss: 7.1156 - mae: 7.1156\n",
            "Epoch 62/100\n",
            "1/1 [==============================] - 0s 8ms/step - loss: 7.1100 - mae: 7.1100\n",
            "Epoch 63/100\n",
            "1/1 [==============================] - 0s 3ms/step - loss: 7.1044 - mae: 7.1044\n",
            "Epoch 64/100\n",
            "1/1 [==============================] - 0s 3ms/step - loss: 7.0988 - mae: 7.0988\n",
            "Epoch 65/100\n",
            "1/1 [==============================] - 0s 8ms/step - loss: 7.0931 - mae: 7.0931\n",
            "Epoch 66/100\n",
            "1/1 [==============================] - 0s 3ms/step - loss: 7.0875 - mae: 7.0875\n",
            "Epoch 67/100\n",
            "1/1 [==============================] - 0s 3ms/step - loss: 7.0819 - mae: 7.0819\n",
            "Epoch 68/100\n",
            "1/1 [==============================] - 0s 3ms/step - loss: 7.0763 - mae: 7.0763\n",
            "Epoch 69/100\n",
            "1/1 [==============================] - 0s 9ms/step - loss: 7.0706 - mae: 7.0706\n",
            "Epoch 70/100\n",
            "1/1 [==============================] - 0s 3ms/step - loss: 7.0650 - mae: 7.0650\n",
            "Epoch 71/100\n",
            "1/1 [==============================] - 0s 3ms/step - loss: 7.0594 - mae: 7.0594\n",
            "Epoch 72/100\n",
            "1/1 [==============================] - 0s 4ms/step - loss: 7.0538 - mae: 7.0538\n",
            "Epoch 73/100\n",
            "1/1 [==============================] - 0s 8ms/step - loss: 7.0481 - mae: 7.0481\n",
            "Epoch 74/100\n",
            "1/1 [==============================] - 0s 3ms/step - loss: 7.0425 - mae: 7.0425\n",
            "Epoch 75/100\n",
            "1/1 [==============================] - 0s 3ms/step - loss: 7.0369 - mae: 7.0369\n",
            "Epoch 76/100\n",
            "1/1 [==============================] - 0s 9ms/step - loss: 7.0312 - mae: 7.0312\n",
            "Epoch 77/100\n",
            "1/1 [==============================] - 0s 3ms/step - loss: 7.0256 - mae: 7.0256\n",
            "Epoch 78/100\n",
            "1/1 [==============================] - 0s 3ms/step - loss: 7.0200 - mae: 7.0200\n",
            "Epoch 79/100\n",
            "1/1 [==============================] - 0s 7ms/step - loss: 7.0144 - mae: 7.0144\n",
            "Epoch 80/100\n",
            "1/1 [==============================] - 0s 3ms/step - loss: 7.0087 - mae: 7.0087\n",
            "Epoch 81/100\n",
            "1/1 [==============================] - 0s 3ms/step - loss: 7.0031 - mae: 7.0031\n",
            "Epoch 82/100\n",
            "1/1 [==============================] - 0s 7ms/step - loss: 6.9975 - mae: 6.9975\n",
            "Epoch 83/100\n",
            "1/1 [==============================] - 0s 3ms/step - loss: 6.9919 - mae: 6.9919\n",
            "Epoch 84/100\n",
            "1/1 [==============================] - 0s 3ms/step - loss: 6.9862 - mae: 6.9862\n",
            "Epoch 85/100\n",
            "1/1 [==============================] - 0s 4ms/step - loss: 6.9806 - mae: 6.9806\n",
            "Epoch 86/100\n",
            "1/1 [==============================] - 0s 9ms/step - loss: 6.9750 - mae: 6.9750\n",
            "Epoch 87/100\n",
            "1/1 [==============================] - 0s 6ms/step - loss: 6.9694 - mae: 6.9694\n",
            "Epoch 88/100\n",
            "1/1 [==============================] - 0s 7ms/step - loss: 6.9637 - mae: 6.9637\n",
            "Epoch 89/100\n",
            "1/1 [==============================] - 0s 3ms/step - loss: 6.9581 - mae: 6.9581\n",
            "Epoch 90/100\n",
            "1/1 [==============================] - 0s 3ms/step - loss: 6.9525 - mae: 6.9525\n",
            "Epoch 91/100\n",
            "1/1 [==============================] - 0s 3ms/step - loss: 6.9469 - mae: 6.9469\n",
            "Epoch 92/100\n",
            "1/1 [==============================] - 0s 6ms/step - loss: 6.9413 - mae: 6.9413\n",
            "Epoch 93/100\n",
            "1/1 [==============================] - 0s 7ms/step - loss: 6.9356 - mae: 6.9356\n",
            "Epoch 94/100\n",
            "1/1 [==============================] - 0s 7ms/step - loss: 6.9300 - mae: 6.9300\n",
            "Epoch 95/100\n",
            "1/1 [==============================] - 0s 6ms/step - loss: 6.9244 - mae: 6.9244\n",
            "Epoch 96/100\n",
            "1/1 [==============================] - 0s 8ms/step - loss: 6.9188 - mae: 6.9188\n",
            "Epoch 97/100\n",
            "1/1 [==============================] - 0s 10ms/step - loss: 6.9131 - mae: 6.9131\n",
            "Epoch 98/100\n",
            "1/1 [==============================] - 0s 12ms/step - loss: 6.9075 - mae: 6.9075\n",
            "Epoch 99/100\n",
            "1/1 [==============================] - 0s 6ms/step - loss: 6.9019 - mae: 6.9019\n",
            "Epoch 100/100\n",
            "1/1 [==============================] - 0s 5ms/step - loss: 6.8963 - mae: 6.8963\n"
          ]
        },
        {
          "output_type": "execute_result",
          "data": {
            "text/plain": [
              "<keras.callbacks.History at 0x7f3d9515ff50>"
            ]
          },
          "metadata": {},
          "execution_count": 28
        }
      ]
    },
    {
      "cell_type": "code",
      "source": [
        "#try and make a predictioons using our model\n",
        "y_pred=model.predict([17.0])\n",
        "y_pred"
      ],
      "metadata": {
        "colab": {
          "base_uri": "https://localhost:8080/"
        },
        "id": "8LfDfRyWibEI",
        "outputId": "14717388-924b-4aa2-ead8-4c316eeaaff3"
      },
      "execution_count": 30,
      "outputs": [
        {
          "output_type": "execute_result",
          "data": {
            "text/plain": [
              "array([[29.901575]], dtype=float32)"
            ]
          },
          "metadata": {},
          "execution_count": 30
        }
      ]
    },
    {
      "cell_type": "code",
      "source": [
        ""
      ],
      "metadata": {
        "id": "uxLu8IUnivBC"
      },
      "execution_count": null,
      "outputs": []
    }
  ]
}