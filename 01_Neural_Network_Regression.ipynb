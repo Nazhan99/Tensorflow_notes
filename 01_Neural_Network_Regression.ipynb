{
  "nbformat": 4,
  "nbformat_minor": 0,
  "metadata": {
    "colab": {
      "name": "01_Neural_Network_Regression.ipynb",
      "provenance": [],
      "collapsed_sections": [],
      "mount_file_id": "1bFw3JyH4xhoqG7HQSCzG94dlLn5-FKYm",
      "authorship_tag": "ABX9TyN4GnNr3eAo0vUoh4iC6eVc",
      "include_colab_link": true
    },
    "kernelspec": {
      "name": "python3",
      "display_name": "Python 3"
    },
    "language_info": {
      "name": "python"
    }
  },
  "cells": [
    {
      "cell_type": "markdown",
      "metadata": {
        "id": "view-in-github",
        "colab_type": "text"
      },
      "source": [
        "<a href=\"https://colab.research.google.com/github/Nazhan99/Tensorflow_notes/blob/main/01_Neural_Network_Regression.ipynb\" target=\"_parent\"><img src=\"https://colab.research.google.com/assets/colab-badge.svg\" alt=\"Open In Colab\"/></a>"
      ]
    },
    {
      "cell_type": "markdown",
      "source": [
        "#Introduction to regression with neural network in tensorflow\n",
        "\n"
      ],
      "metadata": {
        "id": "fEmVG5ybXpGG"
      }
    },
    {
      "cell_type": "code",
      "source": [
        "#import tensorflow\n",
        "import tensorflow as tf\n",
        "print(tf.__version__)"
      ],
      "metadata": {
        "colab": {
          "base_uri": "https://localhost:8080/"
        },
        "id": "qvrU_a1vXy2p",
        "outputId": "7f4ddc1c-4806-4645-a001-15656afe46a8"
      },
      "execution_count": 1,
      "outputs": [
        {
          "output_type": "stream",
          "name": "stdout",
          "text": [
            "2.7.0\n"
          ]
        }
      ]
    },
    {
      "cell_type": "code",
      "source": [
        "##Create data to view and fit"
      ],
      "metadata": {
        "id": "1j0pVpu-X_L0"
      },
      "execution_count": 2,
      "outputs": []
    },
    {
      "cell_type": "code",
      "source": [
        "import numpy as np\n",
        "import matplotlib.pyplot as plt\n",
        "\n",
        "#create features\n",
        "X= np.array([-7.0, -4.0, -1.0, 2.0, 5.0, 8.0, 11.0, 14.0])\n",
        "y= np.array([3.0, 6.0, 9.0, 12.0, 15.0, 18.0, 21.0, 24.0])\n",
        "\n",
        "#visualize it\n",
        "plt.scatter(X,y)"
      ],
      "metadata": {
        "colab": {
          "base_uri": "https://localhost:8080/",
          "height": 286
        },
        "id": "7ESM2Dx4YHy8",
        "outputId": "753a7cd1-df82-45d9-e4ff-7182d71e330c"
      },
      "execution_count": 3,
      "outputs": [
        {
          "output_type": "execute_result",
          "data": {
            "text/plain": [
              "<matplotlib.collections.PathCollection at 0x7f2ef6104f10>"
            ]
          },
          "metadata": {},
          "execution_count": 3
        },
        {
          "output_type": "display_data",
          "data": {
            "image/png": "[encoded data removed]",
            "text/plain": [
              "<Figure size 432x288 with 1 Axes>"
            ]
          },
          "metadata": {
            "needs_background": "light"
          }
        }
      ]
    },
    {
      "cell_type": "code",
      "source": [
        "y== X+10"
      ],
      "metadata": {
        "colab": {
          "base_uri": "https://localhost:8080/"
        },
        "id": "ttXw_fE9Yxs4",
        "outputId": "5a3b6947-dee4-42b1-982d-945cc838066f"
      },
      "execution_count": 4,
      "outputs": [
        {
          "output_type": "execute_result",
          "data": {
            "text/plain": [
              "array([ True,  True,  True,  True,  True,  True,  True,  True])"
            ]
          },
          "metadata": {},
          "execution_count": 4
        }
      ]
    },
    {
      "cell_type": "markdown",
      "source": [
        "###input and output shapes"
      ],
      "metadata": {
        "id": "wm6DwJozZLFc"
      }
    },
    {
      "cell_type": "code",
      "source": [
        "#create a demo  tensor for our housing price prediction problem\n",
        "house_info= tf.constant([\"bedroom\", 'bathroom', 'garage'])\n",
        "house_price= tf.constant([939700])\n",
        "house_info, house_price\n"
      ],
      "metadata": {
        "colab": {
          "base_uri": "https://localhost:8080/"
        },
        "id": "OJYreaEoY5ac",
        "outputId": "a8a82adb-f2f2-4984-f911-6edd8b3f9fec"
      },
      "execution_count": 5,
      "outputs": [
        {
          "output_type": "execute_result",
          "data": {
            "text/plain": [
              "(<tf.Tensor: shape=(3,), dtype=string, numpy=array([b'bedroom', b'bathroom', b'garage'], dtype=object)>,\n",
              " <tf.Tensor: shape=(1,), dtype=int32, numpy=array([939700], dtype=int32)>)"
            ]
          },
          "metadata": {},
          "execution_count": 5
        }
      ]
    },
    {
      "cell_type": "code",
      "source": [
        "input_shape=X.shape\n",
        "output_shape=y.shape\n",
        "input_shape, output_shape"
      ],
      "metadata": {
        "colab": {
          "base_uri": "https://localhost:8080/"
        },
        "id": "-Uzs3KsJZVjx",
        "outputId": "cbf00258-b3b3-4fb8-c932-5a7fa2a3edcc"
      },
      "execution_count": 6,
      "outputs": [
        {
          "output_type": "execute_result",
          "data": {
            "text/plain": [
              "((8,), (8,))"
            ]
          },
          "metadata": {},
          "execution_count": 6
        }
      ]
    },
    {
      "cell_type": "code",
      "source": [
        "X[0].ndim"
      ],
      "metadata": {
        "colab": {
          "base_uri": "https://localhost:8080/"
        },
        "id": "5AY5Xy-MZ0V4",
        "outputId": "147eec51-65c3-4216-d84c-4cc715dd1ee2"
      },
      "execution_count": 7,
      "outputs": [
        {
          "output_type": "execute_result",
          "data": {
            "text/plain": [
              "0"
            ]
          },
          "metadata": {},
          "execution_count": 7
        }
      ]
    },
    {
      "cell_type": "code",
      "source": [
        "X[0], y[0]"
      ],
      "metadata": {
        "colab": {
          "base_uri": "https://localhost:8080/"
        },
        "id": "KtvKM1L0aEb2",
        "outputId": "326e43e2-d11c-4996-98db-dedda60f140a"
      },
      "execution_count": 8,
      "outputs": [
        {
          "output_type": "execute_result",
          "data": {
            "text/plain": [
              "(-7.0, 3.0)"
            ]
          },
          "metadata": {},
          "execution_count": 8
        }
      ]
    },
    {
      "cell_type": "code",
      "source": [
        "#turn numpy array to tensor\n",
        "X=tf.constant(X)\n",
        "y=tf.constant(y)\n",
        "X, y"
      ],
      "metadata": {
        "colab": {
          "base_uri": "https://localhost:8080/"
        },
        "id": "PfaoLz7naHRl",
        "outputId": "9dc0f546-c4ee-4caf-b681-a61236c52726"
      },
      "execution_count": 9,
      "outputs": [
        {
          "output_type": "execute_result",
          "data": {
            "text/plain": [
              "(<tf.Tensor: shape=(8,), dtype=float64, numpy=array([-7., -4., -1.,  2.,  5.,  8., 11., 14.])>,\n",
              " <tf.Tensor: shape=(8,), dtype=float64, numpy=array([ 3.,  6.,  9., 12., 15., 18., 21., 24.])>)"
            ]
          },
          "metadata": {},
          "execution_count": 9
        }
      ]
    },
    {
      "cell_type": "code",
      "source": [
        "input_shape= X[0].shape\n",
        "output_shape= y[0].shape\n",
        "input_shape, output_shape"
      ],
      "metadata": {
        "colab": {
          "base_uri": "https://localhost:8080/"
        },
        "id": "8A-3cRcAa5PE",
        "outputId": "524cbb08-7f02-4b0a-fedc-11b05bd70778"
      },
      "execution_count": 10,
      "outputs": [
        {
          "output_type": "execute_result",
          "data": {
            "text/plain": [
              "(TensorShape([]), TensorShape([]))"
            ]
          },
          "metadata": {},
          "execution_count": 10
        }
      ]
    },
    {
      "cell_type": "markdown",
      "source": [
        "###Steps in modelling with tensorflow\n",
        "\n",
        "1. Create a model (define input and output)\n",
        "2. compiling model (loss function and optimize)\n",
        "3.  fitting the model (predict the output)"
      ],
      "metadata": {
        "id": "RfFM8IL8bEhS"
      }
    },
    {
      "cell_type": "code",
      "source": [
        "#set random seed\n",
        "tf.random.set_seed(42)\n",
        "\n",
        "#1.create a model using the sequential API\n",
        "model=tf.keras.Sequential([\n",
        "  tf.keras.layers.Dense(1)\n",
        "])\n",
        "\n",
        "#2. compile the model\n",
        "model.compile(loss=tf.keras.losses.mae,\n",
        "              optimizer=tf.keras.optimizers.SGD(), #Stocastic gradient descent\n",
        "              metrics=[\"mae\"])\n",
        "\n",
        "#3. fit the model\n",
        "model.fit(tf.expand_dims(X, axis=-1),y, epochs=5)"
      ],
      "metadata": {
        "colab": {
          "base_uri": "https://localhost:8080/"
        },
        "id": "Caej5IsDbiph",
        "outputId": "3acba6d3-b1de-46e0-b837-ae8880c09918"
      },
      "execution_count": 11,
      "outputs": [
        {
          "output_type": "stream",
          "name": "stdout",
          "text": [
            "Epoch 1/5\n",
            "1/1 [==============================] - 1s 902ms/step - loss: 11.5048 - mae: 11.5048\n",
            "Epoch 2/5\n",
            "1/1 [==============================] - 0s 7ms/step - loss: 11.3723 - mae: 11.3723\n",
            "Epoch 3/5\n",
            "1/1 [==============================] - 0s 7ms/step - loss: 11.2398 - mae: 11.2398\n",
            "Epoch 4/5\n",
            "1/1 [==============================] - 0s 4ms/step - loss: 11.1073 - mae: 11.1073\n",
            "Epoch 5/5\n",
            "1/1 [==============================] - 0s 23ms/step - loss: 10.9748 - mae: 10.9748\n"
          ]
        },
        {
          "output_type": "execute_result",
          "data": {
            "text/plain": [
              "<keras.callbacks.History at 0x7f2ef1b61a10>"
            ]
          },
          "metadata": {},
          "execution_count": 11
        }
      ]
    },
    {
      "cell_type": "code",
      "source": [
        "#try and make a predictioons using our model\n",
        "y_pred=model.predict([17.0])\n",
        "y_pred"
      ],
      "metadata": {
        "colab": {
          "base_uri": "https://localhost:8080/"
        },
        "id": "fHVU4-Kcd-dm",
        "outputId": "292880f5-d3b6-4d18-9014-5ab27f3b1c2b"
      },
      "execution_count": 12,
      "outputs": [
        {
          "output_type": "execute_result",
          "data": {
            "text/plain": [
              "array([[12.716021]], dtype=float32)"
            ]
          },
          "metadata": {},
          "execution_count": 12
        }
      ]
    },
    {
      "cell_type": "markdown",
      "source": [
        "###improving the model\n"
      ],
      "metadata": {
        "id": "lV5BJcwvfS_h"
      }
    },
    {
      "cell_type": "code",
      "source": [
        "#lets rebuild our model\n",
        "\n",
        "#1.create the model\n",
        "model= tf.keras.Sequential([\n",
        "                            tf.keras.layers.Dense(1)\n",
        "])\n",
        "\n",
        "#2. compiling the model\n",
        "model.compile(loss=tf.keras.losses.mae,\n",
        "              optimizer=tf.keras.optimizers.SGD(),\n",
        "              metrics=[\"mae\"])\n",
        "\n",
        "#3. fit the model\n",
        "model.fit(tf.expand_dims(X, axis=-1), y, epochs=100)"
      ],
      "metadata": {
        "colab": {
          "base_uri": "https://localhost:8080/"
        },
        "id": "4jqq6BUCgY-Y",
        "outputId": "85891025-6dd5-4d54-8de9-b35b8db11e3a"
      },
      "execution_count": 13,
      "outputs": [
        {
          "output_type": "stream",
          "name": "stdout",
          "text": [
            "Epoch 1/100\n",
            "1/1 [==============================] - 1s 664ms/step - loss: 11.2219 - mae: 11.2219\n",
            "Epoch 2/100\n",
            "1/1 [==============================] - 0s 7ms/step - loss: 11.0894 - mae: 11.0894\n",
            "Epoch 3/100\n",
            "1/1 [==============================] - 0s 11ms/step - loss: 10.9569 - mae: 10.9569\n",
            "Epoch 4/100\n",
            "1/1 [==============================] - 0s 18ms/step - loss: 10.8244 - mae: 10.8244\n",
            "Epoch 5/100\n",
            "1/1 [==============================] - 0s 20ms/step - loss: 10.6919 - mae: 10.6919\n",
            "Epoch 6/100\n",
            "1/1 [==============================] - 0s 12ms/step - loss: 10.5594 - mae: 10.5594\n",
            "Epoch 7/100\n",
            "1/1 [==============================] - 0s 18ms/step - loss: 10.4269 - mae: 10.4269\n",
            "Epoch 8/100\n",
            "1/1 [==============================] - 0s 23ms/step - loss: 10.2944 - mae: 10.2944\n",
            "Epoch 9/100\n",
            "1/1 [==============================] - 0s 14ms/step - loss: 10.1619 - mae: 10.1619\n",
            "Epoch 10/100\n",
            "1/1 [==============================] - 0s 11ms/step - loss: 10.0294 - mae: 10.0294\n",
            "Epoch 11/100\n",
            "1/1 [==============================] - 0s 15ms/step - loss: 9.8969 - mae: 9.8969\n",
            "Epoch 12/100\n",
            "1/1 [==============================] - 0s 14ms/step - loss: 9.7644 - mae: 9.7644\n",
            "Epoch 13/100\n",
            "1/1 [==============================] - 0s 19ms/step - loss: 9.6319 - mae: 9.6319\n",
            "Epoch 14/100\n",
            "1/1 [==============================] - 0s 9ms/step - loss: 9.4994 - mae: 9.4994\n",
            "Epoch 15/100\n",
            "1/1 [==============================] - 0s 11ms/step - loss: 9.3669 - mae: 9.3669\n",
            "Epoch 16/100\n",
            "1/1 [==============================] - 0s 22ms/step - loss: 9.2344 - mae: 9.2344\n",
            "Epoch 17/100\n",
            "1/1 [==============================] - 0s 18ms/step - loss: 9.1019 - mae: 9.1019\n",
            "Epoch 18/100\n",
            "1/1 [==============================] - 0s 19ms/step - loss: 8.9694 - mae: 8.9694\n",
            "Epoch 19/100\n",
            "1/1 [==============================] - 0s 23ms/step - loss: 8.8369 - mae: 8.8369\n",
            "Epoch 20/100\n",
            "1/1 [==============================] - 0s 21ms/step - loss: 8.7044 - mae: 8.7044\n",
            "Epoch 21/100\n",
            "1/1 [==============================] - 0s 31ms/step - loss: 8.5719 - mae: 8.5719\n",
            "Epoch 22/100\n",
            "1/1 [==============================] - 0s 21ms/step - loss: 8.4394 - mae: 8.4394\n",
            "Epoch 23/100\n",
            "1/1 [==============================] - 0s 25ms/step - loss: 8.3069 - mae: 8.3069\n",
            "Epoch 24/100\n",
            "1/1 [==============================] - 0s 15ms/step - loss: 8.1744 - mae: 8.1744\n",
            "Epoch 25/100\n",
            "1/1 [==============================] - 0s 10ms/step - loss: 8.0419 - mae: 8.0419\n",
            "Epoch 26/100\n",
            "1/1 [==============================] - 0s 7ms/step - loss: 7.9094 - mae: 7.9094\n",
            "Epoch 27/100\n",
            "1/1 [==============================] - 0s 8ms/step - loss: 7.7769 - mae: 7.7769\n",
            "Epoch 28/100\n",
            "1/1 [==============================] - 0s 10ms/step - loss: 7.6444 - mae: 7.6444\n",
            "Epoch 29/100\n",
            "1/1 [==============================] - 0s 13ms/step - loss: 7.5119 - mae: 7.5119\n",
            "Epoch 30/100\n",
            "1/1 [==============================] - 0s 11ms/step - loss: 7.3794 - mae: 7.3794\n",
            "Epoch 31/100\n",
            "1/1 [==============================] - 0s 13ms/step - loss: 7.2750 - mae: 7.2750\n",
            "Epoch 32/100\n",
            "1/1 [==============================] - 0s 12ms/step - loss: 7.2694 - mae: 7.2694\n",
            "Epoch 33/100\n",
            "1/1 [==============================] - 0s 12ms/step - loss: 7.2638 - mae: 7.2638\n",
            "Epoch 34/100\n",
            "1/1 [==============================] - 0s 15ms/step - loss: 7.2581 - mae: 7.2581\n",
            "Epoch 35/100\n",
            "1/1 [==============================] - 0s 13ms/step - loss: 7.2525 - mae: 7.2525\n",
            "Epoch 36/100\n",
            "1/1 [==============================] - 0s 10ms/step - loss: 7.2469 - mae: 7.2469\n",
            "Epoch 37/100\n",
            "1/1 [==============================] - 0s 28ms/step - loss: 7.2412 - mae: 7.2412\n",
            "Epoch 38/100\n",
            "1/1 [==============================] - 0s 11ms/step - loss: 7.2356 - mae: 7.2356\n",
            "Epoch 39/100\n",
            "1/1 [==============================] - 0s 22ms/step - loss: 7.2300 - mae: 7.2300\n",
            "Epoch 40/100\n",
            "1/1 [==============================] - 0s 8ms/step - loss: 7.2244 - mae: 7.2244\n",
            "Epoch 41/100\n",
            "1/1 [==============================] - 0s 13ms/step - loss: 7.2188 - mae: 7.2188\n",
            "Epoch 42/100\n",
            "1/1 [==============================] - 0s 14ms/step - loss: 7.2131 - mae: 7.2131\n",
            "Epoch 43/100\n",
            "1/1 [==============================] - 0s 9ms/step - loss: 7.2075 - mae: 7.2075\n",
            "Epoch 44/100\n",
            "1/1 [==============================] - 0s 11ms/step - loss: 7.2019 - mae: 7.2019\n",
            "Epoch 45/100\n",
            "1/1 [==============================] - 0s 13ms/step - loss: 7.1962 - mae: 7.1962\n",
            "Epoch 46/100\n",
            "1/1 [==============================] - 0s 9ms/step - loss: 7.1906 - mae: 7.1906\n",
            "Epoch 47/100\n",
            "1/1 [==============================] - 0s 11ms/step - loss: 7.1850 - mae: 7.1850\n",
            "Epoch 48/100\n",
            "1/1 [==============================] - 0s 13ms/step - loss: 7.1794 - mae: 7.1794\n",
            "Epoch 49/100\n",
            "1/1 [==============================] - 0s 17ms/step - loss: 7.1737 - mae: 7.1737\n",
            "Epoch 50/100\n",
            "1/1 [==============================] - 0s 29ms/step - loss: 7.1681 - mae: 7.1681\n",
            "Epoch 51/100\n",
            "1/1 [==============================] - 0s 21ms/step - loss: 7.1625 - mae: 7.1625\n",
            "Epoch 52/100\n",
            "1/1 [==============================] - 0s 17ms/step - loss: 7.1569 - mae: 7.1569\n",
            "Epoch 53/100\n",
            "1/1 [==============================] - 0s 24ms/step - loss: 7.1512 - mae: 7.1512\n",
            "Epoch 54/100\n",
            "1/1 [==============================] - 0s 22ms/step - loss: 7.1456 - mae: 7.1456\n",
            "Epoch 55/100\n",
            "1/1 [==============================] - 0s 8ms/step - loss: 7.1400 - mae: 7.1400\n",
            "Epoch 56/100\n",
            "1/1 [==============================] - 0s 10ms/step - loss: 7.1344 - mae: 7.1344\n",
            "Epoch 57/100\n",
            "1/1 [==============================] - 0s 5ms/step - loss: 7.1287 - mae: 7.1287\n",
            "Epoch 58/100\n",
            "1/1 [==============================] - 0s 10ms/step - loss: 7.1231 - mae: 7.1231\n",
            "Epoch 59/100\n",
            "1/1 [==============================] - 0s 12ms/step - loss: 7.1175 - mae: 7.1175\n",
            "Epoch 60/100\n",
            "1/1 [==============================] - 0s 24ms/step - loss: 7.1119 - mae: 7.1119\n",
            "Epoch 61/100\n",
            "1/1 [==============================] - 0s 20ms/step - loss: 7.1062 - mae: 7.1062\n",
            "Epoch 62/100\n",
            "1/1 [==============================] - 0s 6ms/step - loss: 7.1006 - mae: 7.1006\n",
            "Epoch 63/100\n",
            "1/1 [==============================] - 0s 9ms/step - loss: 7.0950 - mae: 7.0950\n",
            "Epoch 64/100\n",
            "1/1 [==============================] - 0s 7ms/step - loss: 7.0894 - mae: 7.0894\n",
            "Epoch 65/100\n",
            "1/1 [==============================] - 0s 29ms/step - loss: 7.0838 - mae: 7.0838\n",
            "Epoch 66/100\n",
            "1/1 [==============================] - 0s 18ms/step - loss: 7.0781 - mae: 7.0781\n",
            "Epoch 67/100\n",
            "1/1 [==============================] - 0s 16ms/step - loss: 7.0725 - mae: 7.0725\n",
            "Epoch 68/100\n",
            "1/1 [==============================] - 0s 12ms/step - loss: 7.0669 - mae: 7.0669\n",
            "Epoch 69/100\n",
            "1/1 [==============================] - 0s 10ms/step - loss: 7.0613 - mae: 7.0613\n",
            "Epoch 70/100\n",
            "1/1 [==============================] - 0s 11ms/step - loss: 7.0556 - mae: 7.0556\n",
            "Epoch 71/100\n",
            "1/1 [==============================] - 0s 18ms/step - loss: 7.0500 - mae: 7.0500\n",
            "Epoch 72/100\n",
            "1/1 [==============================] - 0s 25ms/step - loss: 7.0444 - mae: 7.0444\n",
            "Epoch 73/100\n",
            "1/1 [==============================] - 0s 35ms/step - loss: 7.0388 - mae: 7.0388\n",
            "Epoch 74/100\n",
            "1/1 [==============================] - 0s 25ms/step - loss: 7.0331 - mae: 7.0331\n",
            "Epoch 75/100\n",
            "1/1 [==============================] - 0s 8ms/step - loss: 7.0275 - mae: 7.0275\n",
            "Epoch 76/100\n",
            "1/1 [==============================] - 0s 11ms/step - loss: 7.0219 - mae: 7.0219\n",
            "Epoch 77/100\n",
            "1/1 [==============================] - 0s 22ms/step - loss: 7.0163 - mae: 7.0163\n",
            "Epoch 78/100\n",
            "1/1 [==============================] - 0s 19ms/step - loss: 7.0106 - mae: 7.0106\n",
            "Epoch 79/100\n",
            "1/1 [==============================] - 0s 28ms/step - loss: 7.0050 - mae: 7.0050\n",
            "Epoch 80/100\n",
            "1/1 [==============================] - 0s 6ms/step - loss: 6.9994 - mae: 6.9994\n",
            "Epoch 81/100\n",
            "1/1 [==============================] - 0s 14ms/step - loss: 6.9938 - mae: 6.9938\n",
            "Epoch 82/100\n",
            "1/1 [==============================] - 0s 8ms/step - loss: 6.9881 - mae: 6.9881\n",
            "Epoch 83/100\n",
            "1/1 [==============================] - 0s 20ms/step - loss: 6.9825 - mae: 6.9825\n",
            "Epoch 84/100\n",
            "1/1 [==============================] - 0s 11ms/step - loss: 6.9769 - mae: 6.9769\n",
            "Epoch 85/100\n",
            "1/1 [==============================] - 0s 13ms/step - loss: 6.9713 - mae: 6.9713\n",
            "Epoch 86/100\n",
            "1/1 [==============================] - 0s 23ms/step - loss: 6.9656 - mae: 6.9656\n",
            "Epoch 87/100\n",
            "1/1 [==============================] - 0s 26ms/step - loss: 6.9600 - mae: 6.9600\n",
            "Epoch 88/100\n",
            "1/1 [==============================] - 0s 8ms/step - loss: 6.9544 - mae: 6.9544\n",
            "Epoch 89/100\n",
            "1/1 [==============================] - 0s 18ms/step - loss: 6.9488 - mae: 6.9488\n",
            "Epoch 90/100\n",
            "1/1 [==============================] - 0s 12ms/step - loss: 6.9431 - mae: 6.9431\n",
            "Epoch 91/100\n",
            "1/1 [==============================] - 0s 5ms/step - loss: 6.9375 - mae: 6.9375\n",
            "Epoch 92/100\n",
            "1/1 [==============================] - 0s 16ms/step - loss: 6.9319 - mae: 6.9319\n",
            "Epoch 93/100\n",
            "1/1 [==============================] - 0s 9ms/step - loss: 6.9263 - mae: 6.9263\n",
            "Epoch 94/100\n",
            "1/1 [==============================] - 0s 14ms/step - loss: 6.9206 - mae: 6.9206\n",
            "Epoch 95/100\n",
            "1/1 [==============================] - 0s 5ms/step - loss: 6.9150 - mae: 6.9150\n",
            "Epoch 96/100\n",
            "1/1 [==============================] - 0s 15ms/step - loss: 6.9094 - mae: 6.9094\n",
            "Epoch 97/100\n",
            "1/1 [==============================] - 0s 10ms/step - loss: 6.9038 - mae: 6.9038\n",
            "Epoch 98/100\n",
            "1/1 [==============================] - 0s 17ms/step - loss: 6.8981 - mae: 6.8981\n",
            "Epoch 99/100\n",
            "1/1 [==============================] - 0s 8ms/step - loss: 6.8925 - mae: 6.8925\n",
            "Epoch 100/100\n",
            "1/1 [==============================] - 0s 13ms/step - loss: 6.8869 - mae: 6.8869\n"
          ]
        },
        {
          "output_type": "execute_result",
          "data": {
            "text/plain": [
              "<keras.callbacks.History at 0x7f2ef1a2fd90>"
            ]
          },
          "metadata": {},
          "execution_count": 13
        }
      ]
    },
    {
      "cell_type": "code",
      "source": [
        "#try and make a predictioons using our model\n",
        "y_pred=model.predict([17.0])\n",
        "y_pred"
      ],
      "metadata": {
        "colab": {
          "base_uri": "https://localhost:8080/"
        },
        "id": "8LfDfRyWibEI",
        "outputId": "2b53d82d-5f5b-40fa-c1cd-d7ede3d9c60d"
      },
      "execution_count": 14,
      "outputs": [
        {
          "output_type": "execute_result",
          "data": {
            "text/plain": [
              "array([[29.739855]], dtype=float32)"
            ]
          },
          "metadata": {},
          "execution_count": 14
        }
      ]
    },
    {
      "cell_type": "code",
      "source": [
        "#create the model (with extra hidden layer)\n",
        "model= tf.keras.Sequential([\n",
        "  tf.keras.layers.Dense(50, activation=None),\n",
        "  tf.keras.layers.Dense(1)\n",
        "])\n",
        "\n",
        "#2. compiling the model\n",
        "model.compile(loss=\"mae\",\n",
        "              optimizer=tf.keras.optimizers.Adam(lr=0.01),\n",
        "              metrics=[\"mae\"])\n",
        "\n",
        "#3. fit the model\n",
        "model.fit(tf.expand_dims(X, axis=-1), y, epochs=100)"
      ],
      "metadata": {
        "id": "uxLu8IUnivBC",
        "colab": {
          "base_uri": "https://localhost:8080/"
        },
        "outputId": "e843c588-c0f2-42eb-915f-bb164ac0291a"
      },
      "execution_count": 15,
      "outputs": [
        {
          "output_type": "stream",
          "name": "stderr",
          "text": [
            "/usr/local/lib/python3.7/dist-packages/keras/optimizer_v2/adam.py:105: UserWarning: The `lr` argument is deprecated, use `learning_rate` instead.\n",
            "  super(Adam, self).__init__(name, **kwargs)\n"
          ]
        },
        {
          "output_type": "stream",
          "name": "stdout",
          "text": [
            "Epoch 1/100\n",
            "1/1 [==============================] - 1s 950ms/step - loss: 11.7682 - mae: 11.7682\n",
            "Epoch 2/100\n",
            "1/1 [==============================] - 0s 19ms/step - loss: 11.0963 - mae: 11.0963\n",
            "Epoch 3/100\n",
            "1/1 [==============================] - 0s 9ms/step - loss: 10.4150 - mae: 10.4150\n",
            "Epoch 4/100\n",
            "1/1 [==============================] - 0s 25ms/step - loss: 9.7212 - mae: 9.7212\n",
            "Epoch 5/100\n",
            "1/1 [==============================] - 0s 15ms/step - loss: 9.0104 - mae: 9.0104\n",
            "Epoch 6/100\n",
            "1/1 [==============================] - 0s 13ms/step - loss: 8.2778 - mae: 8.2778\n",
            "Epoch 7/100\n",
            "1/1 [==============================] - 0s 10ms/step - loss: 7.5198 - mae: 7.5198\n",
            "Epoch 8/100\n",
            "1/1 [==============================] - 0s 21ms/step - loss: 6.9648 - mae: 6.9648\n",
            "Epoch 9/100\n",
            "1/1 [==============================] - 0s 5ms/step - loss: 7.0672 - mae: 7.0672\n",
            "Epoch 10/100\n",
            "1/1 [==============================] - 0s 8ms/step - loss: 7.3315 - mae: 7.3315\n",
            "Epoch 11/100\n",
            "1/1 [==============================] - 0s 12ms/step - loss: 7.4673 - mae: 7.4673\n",
            "Epoch 12/100\n",
            "1/1 [==============================] - 0s 13ms/step - loss: 7.5285 - mae: 7.5285\n",
            "Epoch 13/100\n",
            "1/1 [==============================] - 0s 19ms/step - loss: 7.4011 - mae: 7.4011\n",
            "Epoch 14/100\n",
            "1/1 [==============================] - 0s 12ms/step - loss: 7.1923 - mae: 7.1923\n",
            "Epoch 15/100\n",
            "1/1 [==============================] - 0s 14ms/step - loss: 6.9575 - mae: 6.9575\n",
            "Epoch 16/100\n",
            "1/1 [==============================] - 0s 13ms/step - loss: 6.6953 - mae: 6.6953\n",
            "Epoch 17/100\n",
            "1/1 [==============================] - 0s 35ms/step - loss: 6.4127 - mae: 6.4127\n",
            "Epoch 18/100\n",
            "1/1 [==============================] - 0s 18ms/step - loss: 6.3048 - mae: 6.3048\n",
            "Epoch 19/100\n",
            "1/1 [==============================] - 0s 6ms/step - loss: 6.2575 - mae: 6.2575\n",
            "Epoch 20/100\n",
            "1/1 [==============================] - 0s 21ms/step - loss: 6.3982 - mae: 6.3982\n",
            "Epoch 21/100\n",
            "1/1 [==============================] - 0s 23ms/step - loss: 6.4551 - mae: 6.4551\n",
            "Epoch 22/100\n",
            "1/1 [==============================] - 0s 15ms/step - loss: 6.4000 - mae: 6.4000\n",
            "Epoch 23/100\n",
            "1/1 [==============================] - 0s 14ms/step - loss: 6.2482 - mae: 6.2482\n",
            "Epoch 24/100\n",
            "1/1 [==============================] - 0s 18ms/step - loss: 6.0105 - mae: 6.0105\n",
            "Epoch 25/100\n",
            "1/1 [==============================] - 0s 15ms/step - loss: 5.7876 - mae: 5.7876\n",
            "Epoch 26/100\n",
            "1/1 [==============================] - 0s 8ms/step - loss: 5.6809 - mae: 5.6809\n",
            "Epoch 27/100\n",
            "1/1 [==============================] - 0s 10ms/step - loss: 5.5715 - mae: 5.5715\n",
            "Epoch 28/100\n",
            "1/1 [==============================] - 0s 19ms/step - loss: 5.6122 - mae: 5.6122\n",
            "Epoch 29/100\n",
            "1/1 [==============================] - 0s 13ms/step - loss: 5.6074 - mae: 5.6074\n",
            "Epoch 30/100\n",
            "1/1 [==============================] - 0s 11ms/step - loss: 5.5541 - mae: 5.5541\n",
            "Epoch 31/100\n",
            "1/1 [==============================] - 0s 10ms/step - loss: 5.4568 - mae: 5.4568\n",
            "Epoch 32/100\n",
            "1/1 [==============================] - 0s 18ms/step - loss: 5.3199 - mae: 5.3199\n",
            "Epoch 33/100\n",
            "1/1 [==============================] - 0s 10ms/step - loss: 5.1477 - mae: 5.1477\n",
            "Epoch 34/100\n",
            "1/1 [==============================] - 0s 20ms/step - loss: 4.9442 - mae: 4.9442\n",
            "Epoch 35/100\n",
            "1/1 [==============================] - 0s 14ms/step - loss: 4.8239 - mae: 4.8239\n",
            "Epoch 36/100\n",
            "1/1 [==============================] - 0s 25ms/step - loss: 4.7389 - mae: 4.7389\n",
            "Epoch 37/100\n",
            "1/1 [==============================] - 0s 23ms/step - loss: 4.6657 - mae: 4.6657\n",
            "Epoch 38/100\n",
            "1/1 [==============================] - 0s 17ms/step - loss: 4.5846 - mae: 4.5846\n",
            "Epoch 39/100\n",
            "1/1 [==============================] - 0s 12ms/step - loss: 4.4027 - mae: 4.4027\n",
            "Epoch 40/100\n",
            "1/1 [==============================] - 0s 17ms/step - loss: 4.2653 - mae: 4.2653\n",
            "Epoch 41/100\n",
            "1/1 [==============================] - 0s 14ms/step - loss: 4.1212 - mae: 4.1212\n",
            "Epoch 42/100\n",
            "1/1 [==============================] - 0s 16ms/step - loss: 3.9702 - mae: 3.9702\n",
            "Epoch 43/100\n",
            "1/1 [==============================] - 0s 15ms/step - loss: 3.8272 - mae: 3.8272\n",
            "Epoch 44/100\n",
            "1/1 [==============================] - 0s 15ms/step - loss: 3.7041 - mae: 3.7041\n",
            "Epoch 45/100\n",
            "1/1 [==============================] - 0s 12ms/step - loss: 3.5320 - mae: 3.5320\n",
            "Epoch 46/100\n",
            "1/1 [==============================] - 0s 13ms/step - loss: 3.3664 - mae: 3.3664\n",
            "Epoch 47/100\n",
            "1/1 [==============================] - 0s 17ms/step - loss: 3.2116 - mae: 3.2116\n",
            "Epoch 48/100\n",
            "1/1 [==============================] - 0s 42ms/step - loss: 3.0463 - mae: 3.0463\n",
            "Epoch 49/100\n",
            "1/1 [==============================] - 0s 17ms/step - loss: 2.8705 - mae: 2.8705\n",
            "Epoch 50/100\n",
            "1/1 [==============================] - 0s 20ms/step - loss: 2.6840 - mae: 2.6840\n",
            "Epoch 51/100\n",
            "1/1 [==============================] - 0s 7ms/step - loss: 2.4868 - mae: 2.4868\n",
            "Epoch 52/100\n",
            "1/1 [==============================] - 0s 22ms/step - loss: 2.2787 - mae: 2.2787\n",
            "Epoch 53/100\n",
            "1/1 [==============================] - 0s 23ms/step - loss: 2.0596 - mae: 2.0596\n",
            "Epoch 54/100\n",
            "1/1 [==============================] - 0s 12ms/step - loss: 1.8293 - mae: 1.8293\n",
            "Epoch 55/100\n",
            "1/1 [==============================] - 0s 22ms/step - loss: 1.5876 - mae: 1.5876\n",
            "Epoch 56/100\n",
            "1/1 [==============================] - 0s 11ms/step - loss: 1.3530 - mae: 1.3530\n",
            "Epoch 57/100\n",
            "1/1 [==============================] - 0s 15ms/step - loss: 1.0849 - mae: 1.0849\n",
            "Epoch 58/100\n",
            "1/1 [==============================] - 0s 6ms/step - loss: 0.8224 - mae: 0.8224\n",
            "Epoch 59/100\n",
            "1/1 [==============================] - 0s 14ms/step - loss: 0.5467 - mae: 0.5467\n",
            "Epoch 60/100\n",
            "1/1 [==============================] - 0s 11ms/step - loss: 0.2758 - mae: 0.2758\n",
            "Epoch 61/100\n",
            "1/1 [==============================] - 0s 11ms/step - loss: 0.1354 - mae: 0.1354\n",
            "Epoch 62/100\n",
            "1/1 [==============================] - 0s 15ms/step - loss: 0.4494 - mae: 0.4494\n",
            "Epoch 63/100\n",
            "1/1 [==============================] - 0s 11ms/step - loss: 0.6498 - mae: 0.6498\n",
            "Epoch 64/100\n",
            "1/1 [==============================] - 0s 5ms/step - loss: 0.6216 - mae: 0.6216\n",
            "Epoch 65/100\n",
            "1/1 [==============================] - 0s 14ms/step - loss: 0.8036 - mae: 0.8036\n",
            "Epoch 66/100\n",
            "1/1 [==============================] - 0s 9ms/step - loss: 0.7995 - mae: 0.7995\n",
            "Epoch 67/100\n",
            "1/1 [==============================] - 0s 27ms/step - loss: 0.7409 - mae: 0.7409\n",
            "Epoch 68/100\n",
            "1/1 [==============================] - 0s 7ms/step - loss: 0.7806 - mae: 0.7806\n",
            "Epoch 69/100\n",
            "1/1 [==============================] - 0s 25ms/step - loss: 0.6305 - mae: 0.6305\n",
            "Epoch 70/100\n",
            "1/1 [==============================] - 0s 11ms/step - loss: 0.5556 - mae: 0.5556\n",
            "Epoch 71/100\n",
            "1/1 [==============================] - 0s 15ms/step - loss: 0.4306 - mae: 0.4306\n",
            "Epoch 72/100\n",
            "1/1 [==============================] - 0s 26ms/step - loss: 0.2786 - mae: 0.2786\n",
            "Epoch 73/100\n",
            "1/1 [==============================] - 0s 13ms/step - loss: 0.1378 - mae: 0.1378\n",
            "Epoch 74/100\n",
            "1/1 [==============================] - 0s 16ms/step - loss: 0.1193 - mae: 0.1193\n",
            "Epoch 75/100\n",
            "1/1 [==============================] - 0s 16ms/step - loss: 0.2777 - mae: 0.2777\n",
            "Epoch 76/100\n",
            "1/1 [==============================] - 0s 15ms/step - loss: 0.3245 - mae: 0.3245\n",
            "Epoch 77/100\n",
            "1/1 [==============================] - 0s 13ms/step - loss: 0.4157 - mae: 0.4157\n",
            "Epoch 78/100\n",
            "1/1 [==============================] - 0s 25ms/step - loss: 0.4319 - mae: 0.4319\n",
            "Epoch 79/100\n",
            "1/1 [==============================] - 0s 7ms/step - loss: 0.3391 - mae: 0.3391\n",
            "Epoch 80/100\n",
            "1/1 [==============================] - 0s 7ms/step - loss: 0.2968 - mae: 0.2968\n",
            "Epoch 81/100\n",
            "1/1 [==============================] - 0s 9ms/step - loss: 0.2355 - mae: 0.2355\n",
            "Epoch 82/100\n",
            "1/1 [==============================] - 0s 9ms/step - loss: 0.1633 - mae: 0.1633\n",
            "Epoch 83/100\n",
            "1/1 [==============================] - 0s 13ms/step - loss: 0.1339 - mae: 0.1339\n",
            "Epoch 84/100\n",
            "1/1 [==============================] - 0s 5ms/step - loss: 0.1262 - mae: 0.1262\n",
            "Epoch 85/100\n",
            "1/1 [==============================] - 0s 11ms/step - loss: 0.1702 - mae: 0.1702\n",
            "Epoch 86/100\n",
            "1/1 [==============================] - 0s 6ms/step - loss: 0.2124 - mae: 0.2124\n",
            "Epoch 87/100\n",
            "1/1 [==============================] - 0s 5ms/step - loss: 0.2288 - mae: 0.2288\n",
            "Epoch 88/100\n",
            "1/1 [==============================] - 0s 6ms/step - loss: 0.1901 - mae: 0.1901\n",
            "Epoch 89/100\n",
            "1/1 [==============================] - 0s 13ms/step - loss: 0.1354 - mae: 0.1354\n",
            "Epoch 90/100\n",
            "1/1 [==============================] - 0s 5ms/step - loss: 0.1218 - mae: 0.1218\n",
            "Epoch 91/100\n",
            "1/1 [==============================] - 0s 18ms/step - loss: 0.0382 - mae: 0.0382\n",
            "Epoch 92/100\n",
            "1/1 [==============================] - 0s 6ms/step - loss: 0.2197 - mae: 0.2197\n",
            "Epoch 93/100\n",
            "1/1 [==============================] - 0s 6ms/step - loss: 0.2189 - mae: 0.2189\n",
            "Epoch 94/100\n",
            "1/1 [==============================] - 0s 7ms/step - loss: 0.1427 - mae: 0.1427\n",
            "Epoch 95/100\n",
            "1/1 [==============================] - 0s 15ms/step - loss: 0.1168 - mae: 0.1168\n",
            "Epoch 96/100\n",
            "1/1 [==============================] - 0s 5ms/step - loss: 0.2069 - mae: 0.2069\n",
            "Epoch 97/100\n",
            "1/1 [==============================] - 0s 7ms/step - loss: 0.1524 - mae: 0.1524\n",
            "Epoch 98/100\n",
            "1/1 [==============================] - 0s 18ms/step - loss: 0.2133 - mae: 0.2133\n",
            "Epoch 99/100\n",
            "1/1 [==============================] - 0s 5ms/step - loss: 0.2329 - mae: 0.2329\n",
            "Epoch 100/100\n",
            "1/1 [==============================] - 0s 14ms/step - loss: 0.0780 - mae: 0.0780\n"
          ]
        },
        {
          "output_type": "execute_result",
          "data": {
            "text/plain": [
              "<keras.callbacks.History at 0x7f2ef195aa10>"
            ]
          },
          "metadata": {},
          "execution_count": 15
        }
      ]
    },
    {
      "cell_type": "code",
      "source": [
        "model.predict([17.0])"
      ],
      "metadata": {
        "colab": {
          "base_uri": "https://localhost:8080/"
        },
        "id": "cKfLYwhx2zsE",
        "outputId": "4ecaae01-401e-412d-a4c8-405a7f08935c"
      },
      "execution_count": 16,
      "outputs": [
        {
          "output_type": "execute_result",
          "data": {
            "text/plain": [
              "array([[26.58353]], dtype=float32)"
            ]
          },
          "metadata": {},
          "execution_count": 16
        }
      ]
    },
    {
      "cell_type": "markdown",
      "source": [
        "###Evaluating the model"
      ],
      "metadata": {
        "id": "XmuLVE152-7p"
      }
    },
    {
      "cell_type": "code",
      "source": [
        "#make a bigger dataset\n",
        "X=tf.range(-100,100,4)\n",
        "X"
      ],
      "metadata": {
        "colab": {
          "base_uri": "https://localhost:8080/"
        },
        "id": "LYtM4vYF41O0",
        "outputId": "58d19a22-68d8-43f6-e131-026e050bc562"
      },
      "execution_count": 17,
      "outputs": [
        {
          "output_type": "execute_result",
          "data": {
            "text/plain": [
              "<tf.Tensor: shape=(50,), dtype=int32, numpy=\n",
              "array([-100,  -96,  -92,  -88,  -84,  -80,  -76,  -72,  -68,  -64,  -60,\n",
              "        -56,  -52,  -48,  -44,  -40,  -36,  -32,  -28,  -24,  -20,  -16,\n",
              "        -12,   -8,   -4,    0,    4,    8,   12,   16,   20,   24,   28,\n",
              "         32,   36,   40,   44,   48,   52,   56,   60,   64,   68,   72,\n",
              "         76,   80,   84,   88,   92,   96], dtype=int32)>"
            ]
          },
          "metadata": {},
          "execution_count": 17
        }
      ]
    },
    {
      "cell_type": "code",
      "source": [
        "#make label for dataset\n",
        "y=X+10\n",
        "y"
      ],
      "metadata": {
        "colab": {
          "base_uri": "https://localhost:8080/"
        },
        "id": "5_e2L2ve5881",
        "outputId": "ffacfa0e-efdb-48a5-bef8-b0fa76db577c"
      },
      "execution_count": 18,
      "outputs": [
        {
          "output_type": "execute_result",
          "data": {
            "text/plain": [
              "<tf.Tensor: shape=(50,), dtype=int32, numpy=\n",
              "array([-90, -86, -82, -78, -74, -70, -66, -62, -58, -54, -50, -46, -42,\n",
              "       -38, -34, -30, -26, -22, -18, -14, -10,  -6,  -2,   2,   6,  10,\n",
              "        14,  18,  22,  26,  30,  34,  38,  42,  46,  50,  54,  58,  62,\n",
              "        66,  70,  74,  78,  82,  86,  90,  94,  98, 102, 106], dtype=int32)>"
            ]
          },
          "metadata": {},
          "execution_count": 18
        }
      ]
    },
    {
      "cell_type": "code",
      "source": [
        "#visualize the data\n",
        "import matplotlib.pyplot as plt\n",
        "\n",
        "plt.scatter(X,y)"
      ],
      "metadata": {
        "colab": {
          "base_uri": "https://localhost:8080/",
          "height": 282
        },
        "id": "lSZMR4nz6CjT",
        "outputId": "b751849a-2fa4-4692-abd6-bd5885458c41"
      },
      "execution_count": 19,
      "outputs": [
        {
          "output_type": "execute_result",
          "data": {
            "text/plain": [
              "<matplotlib.collections.PathCollection at 0x7f2ef023bc50>"
            ]
          },
          "metadata": {},
          "execution_count": 19
        },
        {
          "output_type": "display_data",
          "data": {
            "image/png": "[encoded data removed]",
            "text/plain": [
              "<Figure size 432x288 with 1 Axes>"
            ]
          },
          "metadata": {
            "needs_background": "light"
          }
        }
      ]
    },
    {
      "cell_type": "markdown",
      "source": [
        "### the 3 sets...\n",
        "* Training set\n",
        "* Validation set\n",
        "* Test set"
      ],
      "metadata": {
        "id": "yBzQDx6z6N8i"
      }
    },
    {
      "cell_type": "code",
      "source": [
        "#check the length the set \n",
        "len(X)"
      ],
      "metadata": {
        "colab": {
          "base_uri": "https://localhost:8080/"
        },
        "id": "vSePg2346fM7",
        "outputId": "f3a8f94f-981f-4fbe-a857-e0cf1798c619"
      },
      "execution_count": 20,
      "outputs": [
        {
          "output_type": "execute_result",
          "data": {
            "text/plain": [
              "50"
            ]
          },
          "metadata": {},
          "execution_count": 20
        }
      ]
    },
    {
      "cell_type": "code",
      "source": [
        "#Split the data into train set\n",
        "X_Train =X[:40] #first 40  of the data train set\n",
        "y_Train=y[:40]\n",
        "\n",
        "X_Test= X[40:] #last 40 of the data test set  \n",
        "y_Test=y[40:]\n",
        "\n",
        "len(X_Train), len(X_Test), len(y_Train), len(y_Test)"
      ],
      "metadata": {
        "colab": {
          "base_uri": "https://localhost:8080/"
        },
        "id": "CCUZDejz7cmG",
        "outputId": "afbbb459-253a-4daf-ee2f-8e83e7d8fd67"
      },
      "execution_count": 21,
      "outputs": [
        {
          "output_type": "execute_result",
          "data": {
            "text/plain": [
              "(40, 10, 40, 10)"
            ]
          },
          "metadata": {},
          "execution_count": 21
        }
      ]
    },
    {
      "cell_type": "markdown",
      "source": [
        "###Visualizing the data"
      ],
      "metadata": {
        "id": "uiSACcaB8K0B"
      }
    },
    {
      "cell_type": "code",
      "source": [
        "plt.figure(figsize=(10,7))\n",
        "\n",
        "#plot the training data in blue\n",
        "plt.scatter(X_Train, y_Train, c=\"b\", label=\" Training data\")\n",
        "\n",
        "plt.scatter(X_Test,y_Test, c=\"g\", label=\"Test data\")\n",
        "plt.legend()"
      ],
      "metadata": {
        "colab": {
          "base_uri": "https://localhost:8080/",
          "height": 445
        },
        "id": "bTb8YjP78YQZ",
        "outputId": "1d454a18-8973-45a3-a03e-389c92a03bd6"
      },
      "execution_count": 22,
      "outputs": [
        {
          "output_type": "execute_result",
          "data": {
            "text/plain": [
              "<matplotlib.legend.Legend at 0x7f2ef0b11c10>"
            ]
          },
          "metadata": {},
          "execution_count": 22
        },
        {
          "output_type": "display_data",
          "data": {
            "image/png": "[encoded data removed]",
            "text/plain": [
              "<Figure size 720x504 with 1 Axes>"
            ]
          },
          "metadata": {
            "needs_background": "light"
          }
        }
      ]
    },
    {
      "cell_type": "code",
      "source": [
        "#build neural network model\n",
        "\n",
        "#1. create a model\n",
        "model=tf.keras.Sequential([\n",
        "                           tf.keras.layers.Dense(1)\n",
        "])\n",
        "\n",
        "#2. compile the model\n",
        "model.compile(loss=tf.keras.losses.mae,\n",
        "             optimizer=tf.keras.optimizers.SGD(),\n",
        "             metrics=[\"mae\"])\n",
        "\n",
        "#3. fit the model\n",
        "#model.fit(tf.expand_dims(X, axis=-1),y, epochs=100)"
      ],
      "metadata": {
        "id": "ayevHcHl8vki"
      },
      "execution_count": 23,
      "outputs": []
    },
    {
      "cell_type": "code",
      "source": [
        "model.summary()"
      ],
      "metadata": {
        "colab": {
          "base_uri": "https://localhost:8080/",
          "height": 321
        },
        "id": "eS-KUkp6ob5q",
        "outputId": "fae71e71-5fe8-4efc-d60e-1b0416a1736a"
      },
      "execution_count": 24,
      "outputs": [
        {
          "output_type": "error",
          "ename": "ValueError",
          "evalue": "ignored",
          "traceback": [
            "\u001b[0;31m---------------------------------------------------------------------------\u001b[0m",
            "\u001b[0;31mValueError\u001b[0m                                Traceback (most recent call last)",
            "\u001b[0;32m<ipython-input-24-5f15418b3570>\u001b[0m in \u001b[0;36m<module>\u001b[0;34m()\u001b[0m\n\u001b[0;32m----> 1\u001b[0;31m \u001b[0mmodel\u001b[0m\u001b[0;34m.\u001b[0m\u001b[0msummary\u001b[0m\u001b[0;34m(\u001b[0m\u001b[0;34m)\u001b[0m\u001b[0;34m\u001b[0m\u001b[0;34m\u001b[0m\u001b[0m\n\u001b[0m",
            "\u001b[0;32m/usr/local/lib/python3.7/dist-packages/keras/engine/training.py\u001b[0m in \u001b[0;36msummary\u001b[0;34m(self, line_length, positions, print_fn, expand_nested)\u001b[0m\n\u001b[1;32m   2578\u001b[0m     \u001b[0;32mif\u001b[0m \u001b[0;32mnot\u001b[0m \u001b[0mself\u001b[0m\u001b[0;34m.\u001b[0m\u001b[0mbuilt\u001b[0m\u001b[0;34m:\u001b[0m\u001b[0;34m\u001b[0m\u001b[0;34m\u001b[0m\u001b[0m\n\u001b[1;32m   2579\u001b[0m       raise ValueError(\n\u001b[0;32m-> 2580\u001b[0;31m           \u001b[0;34m'This model has not yet been built. '\u001b[0m\u001b[0;34m\u001b[0m\u001b[0;34m\u001b[0m\u001b[0m\n\u001b[0m\u001b[1;32m   2581\u001b[0m           \u001b[0;34m'Build the model first by calling `build()` or by calling '\u001b[0m\u001b[0;34m\u001b[0m\u001b[0;34m\u001b[0m\u001b[0m\n\u001b[1;32m   2582\u001b[0m           'the model on a batch of data.')\n",
            "\u001b[0;31mValueError\u001b[0m: This model has not yet been built. Build the model first by calling `build()` or by calling the model on a batch of data."
          ]
        }
      ]
    },
    {
      "cell_type": "code",
      "source": [
        "#create a model which automatically build by defining the input_shape argument\n",
        "tf.random.set_seed(42)\n",
        "\n",
        "model=tf.keras.Sequential([\n",
        "                           tf.keras.layers.Dense(10, input_shape=[1]),\n",
        "                           tf.keras.layers.Dense(1, name=\"output_layer\")\n",
        "], name=\"model_1\")\n",
        "\n",
        "model.compile(loss=tf.keras.losses.mae,\n",
        "              optimizer=tf.keras.optimizers.SGD(),\n",
        "              metrics=[\"mae\"])"
      ],
      "metadata": {
        "id": "_nsYxcfyogkk"
      },
      "execution_count": 25,
      "outputs": []
    },
    {
      "cell_type": "code",
      "source": [
        "model.summary()"
      ],
      "metadata": {
        "colab": {
          "base_uri": "https://localhost:8080/"
        },
        "id": "DJ-dlZOGo38i",
        "outputId": "d10a5ca8-3f73-4f8f-d9cd-ba365e97d8b8"
      },
      "execution_count": 26,
      "outputs": [
        {
          "output_type": "stream",
          "name": "stdout",
          "text": [
            "Model: \"model_1\"\n",
            "_________________________________________________________________\n",
            " Layer (type)                Output Shape              Param #   \n",
            "=================================================================\n",
            " dense_5 (Dense)             (None, 10)                20        \n",
            "                                                                 \n",
            " output_layer (Dense)        (None, 1)                 11        \n",
            "                                                                 \n",
            "=================================================================\n",
            "Total params: 31\n",
            "Trainable params: 31\n",
            "Non-trainable params: 0\n",
            "_________________________________________________________________\n"
          ]
        }
      ]
    },
    {
      "cell_type": "markdown",
      "source": [
        "* Total params- total numebr of parameters in the model\n",
        "*Trainable parameters- these are the parameters/pattern the model can update as it trains.\n",
        "* Non-Trainable params- parameters that aren't updated during training."
      ],
      "metadata": {
        "id": "AMFm2WOMpZ-u"
      }
    },
    {
      "cell_type": "code",
      "source": [
        "model.fit(tf.expand_dims(X, axis=-1), y, epochs=100, verbose=1)"
      ],
      "metadata": {
        "colab": {
          "base_uri": "https://localhost:8080/"
        },
        "id": "U1apsslcpR43",
        "outputId": "b51ebaaa-f0cc-461b-d138-b8a4dc515b4e"
      },
      "execution_count": 27,
      "outputs": [
        {
          "output_type": "stream",
          "name": "stdout",
          "text": [
            "Epoch 1/100\n",
            "2/2 [==============================] - 1s 13ms/step - loss: 40.2867 - mae: 40.2867\n",
            "Epoch 2/100\n",
            "2/2 [==============================] - 0s 16ms/step - loss: 25.9297 - mae: 25.9297\n",
            "Epoch 3/100\n",
            "2/2 [==============================] - 0s 9ms/step - loss: 44.1696 - mae: 44.1696\n",
            "Epoch 4/100\n",
            "2/2 [==============================] - 0s 10ms/step - loss: 11.2212 - mae: 11.2212\n",
            "Epoch 5/100\n",
            "2/2 [==============================] - 0s 14ms/step - loss: 23.0317 - mae: 23.0317\n",
            "Epoch 6/100\n",
            "2/2 [==============================] - 0s 10ms/step - loss: 24.2563 - mae: 24.2563\n",
            "Epoch 7/100\n",
            "2/2 [==============================] - 0s 10ms/step - loss: 11.2416 - mae: 11.2416\n",
            "Epoch 8/100\n",
            "2/2 [==============================] - 0s 10ms/step - loss: 34.1576 - mae: 34.1576\n",
            "Epoch 9/100\n",
            "2/2 [==============================] - 0s 10ms/step - loss: 12.5246 - mae: 12.5246\n",
            "Epoch 10/100\n",
            "2/2 [==============================] - 0s 8ms/step - loss: 10.1823 - mae: 10.1823\n",
            "Epoch 11/100\n",
            "2/2 [==============================] - 0s 10ms/step - loss: 23.0436 - mae: 23.0436\n",
            "Epoch 12/100\n",
            "2/2 [==============================] - 0s 14ms/step - loss: 16.3819 - mae: 16.3819\n",
            "Epoch 13/100\n",
            "2/2 [==============================] - 0s 9ms/step - loss: 22.6688 - mae: 22.6688\n",
            "Epoch 14/100\n",
            "2/2 [==============================] - 0s 9ms/step - loss: 22.1103 - mae: 22.1103\n",
            "Epoch 15/100\n",
            "2/2 [==============================] - 0s 7ms/step - loss: 19.8442 - mae: 19.8442\n",
            "Epoch 16/100\n",
            "2/2 [==============================] - 0s 11ms/step - loss: 23.1707 - mae: 23.1707\n",
            "Epoch 17/100\n",
            "2/2 [==============================] - 0s 10ms/step - loss: 11.5075 - mae: 11.5075\n",
            "Epoch 18/100\n",
            "2/2 [==============================] - 0s 4ms/step - loss: 29.7742 - mae: 29.7742\n",
            "Epoch 19/100\n",
            "2/2 [==============================] - 0s 12ms/step - loss: 18.4085 - mae: 18.4085\n",
            "Epoch 20/100\n",
            "2/2 [==============================] - 0s 4ms/step - loss: 18.7610 - mae: 18.7610\n",
            "Epoch 21/100\n",
            "2/2 [==============================] - 0s 15ms/step - loss: 19.4369 - mae: 19.4369\n",
            "Epoch 22/100\n",
            "2/2 [==============================] - 0s 12ms/step - loss: 20.5783 - mae: 20.5783\n",
            "Epoch 23/100\n",
            "2/2 [==============================] - 0s 15ms/step - loss: 19.8132 - mae: 19.8132\n",
            "Epoch 24/100\n",
            "2/2 [==============================] - 0s 4ms/step - loss: 18.7247 - mae: 18.7247\n",
            "Epoch 25/100\n",
            "2/2 [==============================] - 0s 7ms/step - loss: 21.7989 - mae: 21.7989\n",
            "Epoch 26/100\n",
            "2/2 [==============================] - 0s 4ms/step - loss: 10.6899 - mae: 10.6899\n",
            "Epoch 27/100\n",
            "2/2 [==============================] - 0s 4ms/step - loss: 30.8423 - mae: 30.8423\n",
            "Epoch 28/100\n",
            "2/2 [==============================] - 0s 6ms/step - loss: 16.5686 - mae: 16.5686\n",
            "Epoch 29/100\n",
            "2/2 [==============================] - 0s 7ms/step - loss: 33.0226 - mae: 33.0226\n",
            "Epoch 30/100\n",
            "2/2 [==============================] - 0s 3ms/step - loss: 19.5703 - mae: 19.5703\n",
            "Epoch 31/100\n",
            "2/2 [==============================] - 0s 7ms/step - loss: 12.5353 - mae: 12.5353\n",
            "Epoch 32/100\n",
            "2/2 [==============================] - 0s 11ms/step - loss: 20.7130 - mae: 20.7130\n",
            "Epoch 33/100\n",
            "2/2 [==============================] - 0s 8ms/step - loss: 20.6412 - mae: 20.6412\n",
            "Epoch 34/100\n",
            "2/2 [==============================] - 0s 11ms/step - loss: 21.2043 - mae: 21.2043\n",
            "Epoch 35/100\n",
            "2/2 [==============================] - 0s 7ms/step - loss: 21.3012 - mae: 21.3012\n",
            "Epoch 36/100\n",
            "2/2 [==============================] - 0s 6ms/step - loss: 18.8072 - mae: 18.8072\n",
            "Epoch 37/100\n",
            "2/2 [==============================] - 0s 9ms/step - loss: 27.4462 - mae: 27.4462\n",
            "Epoch 38/100\n",
            "2/2 [==============================] - 0s 6ms/step - loss: 29.1100 - mae: 29.1100\n",
            "Epoch 39/100\n",
            "2/2 [==============================] - 0s 6ms/step - loss: 20.5542 - mae: 20.5542\n",
            "Epoch 40/100\n",
            "2/2 [==============================] - 0s 7ms/step - loss: 20.6334 - mae: 20.6334\n",
            "Epoch 41/100\n",
            "2/2 [==============================] - 0s 6ms/step - loss: 24.9726 - mae: 24.9726\n",
            "Epoch 42/100\n",
            "2/2 [==============================] - 0s 5ms/step - loss: 20.5609 - mae: 20.5609\n",
            "Epoch 43/100\n",
            "2/2 [==============================] - 0s 8ms/step - loss: 23.1231 - mae: 23.1231\n",
            "Epoch 44/100\n",
            "2/2 [==============================] - 0s 5ms/step - loss: 9.8053 - mae: 9.8053\n",
            "Epoch 45/100\n",
            "2/2 [==============================] - 0s 4ms/step - loss: 22.5487 - mae: 22.5487\n",
            "Epoch 46/100\n",
            "2/2 [==============================] - 0s 5ms/step - loss: 9.2110 - mae: 9.2110\n",
            "Epoch 47/100\n",
            "2/2 [==============================] - 0s 4ms/step - loss: 20.3679 - mae: 20.3679\n",
            "Epoch 48/100\n",
            "2/2 [==============================] - 0s 7ms/step - loss: 8.4309 - mae: 8.4309\n",
            "Epoch 49/100\n",
            "2/2 [==============================] - 0s 5ms/step - loss: 12.6659 - mae: 12.6659\n",
            "Epoch 50/100\n",
            "2/2 [==============================] - 0s 6ms/step - loss: 32.1829 - mae: 32.1829\n",
            "Epoch 51/100\n",
            "2/2 [==============================] - 0s 6ms/step - loss: 16.5208 - mae: 16.5208\n",
            "Epoch 52/100\n",
            "2/2 [==============================] - 0s 9ms/step - loss: 33.7598 - mae: 33.7598\n",
            "Epoch 53/100\n",
            "2/2 [==============================] - 0s 5ms/step - loss: 9.7791 - mae: 9.7791\n",
            "Epoch 54/100\n",
            "2/2 [==============================] - 0s 4ms/step - loss: 11.4445 - mae: 11.4445\n",
            "Epoch 55/100\n",
            "2/2 [==============================] - 0s 4ms/step - loss: 24.6060 - mae: 24.6060\n",
            "Epoch 56/100\n",
            "2/2 [==============================] - 0s 14ms/step - loss: 9.1433 - mae: 9.1433\n",
            "Epoch 57/100\n",
            "2/2 [==============================] - 0s 7ms/step - loss: 11.6297 - mae: 11.6297\n",
            "Epoch 58/100\n",
            "2/2 [==============================] - 0s 11ms/step - loss: 27.3491 - mae: 27.3491\n",
            "Epoch 59/100\n",
            "2/2 [==============================] - 0s 5ms/step - loss: 25.1758 - mae: 25.1758\n",
            "Epoch 60/100\n",
            "2/2 [==============================] - 0s 3ms/step - loss: 11.4501 - mae: 11.4501\n",
            "Epoch 61/100\n",
            "2/2 [==============================] - 0s 10ms/step - loss: 31.5022 - mae: 31.5022\n",
            "Epoch 62/100\n",
            "2/2 [==============================] - 0s 6ms/step - loss: 21.6164 - mae: 21.6164\n",
            "Epoch 63/100\n",
            "2/2 [==============================] - 0s 9ms/step - loss: 9.4131 - mae: 9.4131\n",
            "Epoch 64/100\n",
            "2/2 [==============================] - 0s 17ms/step - loss: 27.2951 - mae: 27.2951\n",
            "Epoch 65/100\n",
            "2/2 [==============================] - 0s 7ms/step - loss: 8.9828 - mae: 8.9828\n",
            "Epoch 66/100\n",
            "2/2 [==============================] - 0s 12ms/step - loss: 9.2362 - mae: 9.2362\n",
            "Epoch 67/100\n",
            "2/2 [==============================] - 0s 12ms/step - loss: 25.8946 - mae: 25.8946\n",
            "Epoch 68/100\n",
            "2/2 [==============================] - 0s 17ms/step - loss: 16.4833 - mae: 16.4833\n",
            "Epoch 69/100\n",
            "2/2 [==============================] - 0s 8ms/step - loss: 25.0206 - mae: 25.0206\n",
            "Epoch 70/100\n",
            "2/2 [==============================] - 0s 43ms/step - loss: 26.0848 - mae: 26.0848\n",
            "Epoch 71/100\n",
            "2/2 [==============================] - 0s 11ms/step - loss: 19.4423 - mae: 19.4423\n",
            "Epoch 72/100\n",
            "2/2 [==============================] - 0s 6ms/step - loss: 25.3501 - mae: 25.3501\n",
            "Epoch 73/100\n",
            "2/2 [==============================] - 0s 6ms/step - loss: 35.7193 - mae: 35.7193\n",
            "Epoch 74/100\n",
            "2/2 [==============================] - 0s 6ms/step - loss: 16.4184 - mae: 16.4184\n",
            "Epoch 75/100\n",
            "2/2 [==============================] - 0s 14ms/step - loss: 30.0560 - mae: 30.0560\n",
            "Epoch 76/100\n",
            "2/2 [==============================] - 0s 13ms/step - loss: 24.7032 - mae: 24.7032\n",
            "Epoch 77/100\n",
            "2/2 [==============================] - 0s 9ms/step - loss: 17.8535 - mae: 17.8535\n",
            "Epoch 78/100\n",
            "2/2 [==============================] - 0s 10ms/step - loss: 23.0873 - mae: 23.0873\n",
            "Epoch 79/100\n",
            "2/2 [==============================] - 0s 11ms/step - loss: 10.0832 - mae: 10.0832\n",
            "Epoch 80/100\n",
            "2/2 [==============================] - 0s 6ms/step - loss: 22.9531 - mae: 22.9531\n",
            "Epoch 81/100\n",
            "2/2 [==============================] - 0s 5ms/step - loss: 26.6186 - mae: 26.6186\n",
            "Epoch 82/100\n",
            "2/2 [==============================] - 0s 13ms/step - loss: 8.7183 - mae: 8.7183\n",
            "Epoch 83/100\n",
            "2/2 [==============================] - 0s 11ms/step - loss: 17.7156 - mae: 17.7156\n",
            "Epoch 84/100\n",
            "2/2 [==============================] - 0s 21ms/step - loss: 21.7822 - mae: 21.7822\n",
            "Epoch 85/100\n",
            "2/2 [==============================] - 0s 12ms/step - loss: 8.5676 - mae: 8.5676\n",
            "Epoch 86/100\n",
            "2/2 [==============================] - 0s 10ms/step - loss: 10.1261 - mae: 10.1261\n",
            "Epoch 87/100\n",
            "2/2 [==============================] - 0s 10ms/step - loss: 33.4657 - mae: 33.4657\n",
            "Epoch 88/100\n",
            "2/2 [==============================] - 0s 14ms/step - loss: 20.4582 - mae: 20.4582\n",
            "Epoch 89/100\n",
            "2/2 [==============================] - 0s 17ms/step - loss: 21.4295 - mae: 21.4295\n",
            "Epoch 90/100\n",
            "2/2 [==============================] - 0s 17ms/step - loss: 40.8004 - mae: 40.8004\n",
            "Epoch 91/100\n",
            "2/2 [==============================] - 0s 9ms/step - loss: 16.7932 - mae: 16.7932\n",
            "Epoch 92/100\n",
            "2/2 [==============================] - 0s 13ms/step - loss: 19.9796 - mae: 19.9796\n",
            "Epoch 93/100\n",
            "2/2 [==============================] - 0s 29ms/step - loss: 20.7641 - mae: 20.7641\n",
            "Epoch 94/100\n",
            "2/2 [==============================] - 0s 16ms/step - loss: 26.1390 - mae: 26.1390\n",
            "Epoch 95/100\n",
            "2/2 [==============================] - 0s 4ms/step - loss: 29.1444 - mae: 29.1444\n",
            "Epoch 96/100\n",
            "2/2 [==============================] - 0s 13ms/step - loss: 20.5376 - mae: 20.5376\n",
            "Epoch 97/100\n",
            "2/2 [==============================] - 0s 17ms/step - loss: 21.5291 - mae: 21.5291\n",
            "Epoch 98/100\n",
            "2/2 [==============================] - 0s 10ms/step - loss: 12.7845 - mae: 12.7845\n",
            "Epoch 99/100\n",
            "2/2 [==============================] - 0s 10ms/step - loss: 16.1075 - mae: 16.1075\n",
            "Epoch 100/100\n",
            "2/2 [==============================] - 0s 8ms/step - loss: 20.3503 - mae: 20.3503\n"
          ]
        },
        {
          "output_type": "execute_result",
          "data": {
            "text/plain": [
              "<keras.callbacks.History at 0x7f2eee724a90>"
            ]
          },
          "metadata": {},
          "execution_count": 27
        }
      ]
    },
    {
      "cell_type": "code",
      "source": [
        "#get summary of the model\n",
        "model.summary()"
      ],
      "metadata": {
        "id": "mENxSJJmrV-e",
        "colab": {
          "base_uri": "https://localhost:8080/"
        },
        "outputId": "a4fb3b5e-6d4e-4be9-e0bd-87919a303157"
      },
      "execution_count": 28,
      "outputs": [
        {
          "output_type": "stream",
          "name": "stdout",
          "text": [
            "Model: \"model_1\"\n",
            "_________________________________________________________________\n",
            " Layer (type)                Output Shape              Param #   \n",
            "=================================================================\n",
            " dense_5 (Dense)             (None, 10)                20        \n",
            "                                                                 \n",
            " output_layer (Dense)        (None, 1)                 11        \n",
            "                                                                 \n",
            "=================================================================\n",
            "Total params: 31\n",
            "Trainable params: 31\n",
            "Non-trainable params: 0\n",
            "_________________________________________________________________\n"
          ]
        }
      ]
    },
    {
      "cell_type": "code",
      "source": [
        "from tensorflow.keras.utils import plot_model\n",
        "\n",
        "plot_model(model=model, show_shapes=True)"
      ],
      "metadata": {
        "colab": {
          "base_uri": "https://localhost:8080/",
          "height": 312
        },
        "id": "7EqSkO2wt-eq",
        "outputId": "914c3b8b-ba22-48f4-dd70-202689708221"
      },
      "execution_count": 29,
      "outputs": [
        {
          "output_type": "execute_result",
          "data": {
            "image/png": "[encoded data removed]",
            "text/plain": [
              "<IPython.core.display.Image object>"
            ]
          },
          "metadata": {},
          "execution_count": 29
        }
      ]
    },
    {
      "cell_type": "markdown",
      "source": [
        "###Visualize the model's prediction"
      ],
      "metadata": {
        "id": "tdRuP_wAuZEV"
      }
    },
    {
      "cell_type": "code",
      "source": [
        "#mkae some prediction\n",
        "y_pred=model.predict(X_Test)\n",
        "y_pred"
      ],
      "metadata": {
        "colab": {
          "base_uri": "https://localhost:8080/"
        },
        "id": "SjRXtu_pvbFt",
        "outputId": "ec6d1569-d79f-4fa4-b900-a1cb64b0e808"
      },
      "execution_count": 30,
      "outputs": [
        {
          "output_type": "execute_result",
          "data": {
            "text/plain": [
              "array([[42.01952 ],\n",
              "       [44.72017 ],\n",
              "       [47.420807],\n",
              "       [50.121452],\n",
              "       [52.822094],\n",
              "       [55.52273 ],\n",
              "       [58.22338 ],\n",
              "       [60.92402 ],\n",
              "       [63.624664],\n",
              "       [66.32531 ]], dtype=float32)"
            ]
          },
          "metadata": {},
          "execution_count": 30
        }
      ]
    },
    {
      "cell_type": "code",
      "source": [
        "y_Test"
      ],
      "metadata": {
        "colab": {
          "base_uri": "https://localhost:8080/"
        },
        "id": "Q5tM-Wm-wFA0",
        "outputId": "e45e275b-b610-4424-9f05-83f623185088"
      },
      "execution_count": 31,
      "outputs": [
        {
          "output_type": "execute_result",
          "data": {
            "text/plain": [
              "<tf.Tensor: shape=(10,), dtype=int32, numpy=array([ 70,  74,  78,  82,  86,  90,  94,  98, 102, 106], dtype=int32)>"
            ]
          },
          "metadata": {},
          "execution_count": 31
        }
      ]
    },
    {
      "cell_type": "code",
      "source": [
        "#lets create a plotting function\n",
        "def plot_predictions(train_data= X_Train,\n",
        "                     train_labels= y_Train,\n",
        "                     test_data=X_Test,\n",
        "                     test_labels=y_Test,\n",
        "                     predictions=y_pred):\n",
        "  \n",
        "  #plot training data, test data and compare predictions to ground truth labels.\n",
        "  plt.figure(figsize=(10,7))\n",
        "\n",
        "  #plot the training data in blue\n",
        "  plt.scatter(train_data, train_labels, c=\"b\", label=\" Training data\")\n",
        "\n",
        "  plt.scatter(test_data, test_labels, c=\"g\", label=\"Test data\")\n",
        "\n",
        "  plt.scatter(test_data, predictions, c=\"r\", label=\"Predictions\")\n",
        "\n",
        "  plt.legend();"
      ],
      "metadata": {
        "id": "K1V8z2f0wIFi"
      },
      "execution_count": 32,
      "outputs": []
    },
    {
      "cell_type": "code",
      "source": [
        "plot_predictions()"
      ],
      "metadata": {
        "colab": {
          "base_uri": "https://localhost:8080/",
          "height": 428
        },
        "id": "zXb8nHOBxyYe",
        "outputId": "63af708d-fe74-4cbb-a659-4bfd99338876"
      },
      "execution_count": 33,
      "outputs": [
        {
          "output_type": "display_data",
          "data": {
            "image/png": "[encoded data removed]",
            "text/plain": [
              "<Figure size 720x504 with 1 Axes>"
            ]
          },
          "metadata": {
            "needs_background": "light"
          }
        }
      ]
    },
    {
      "cell_type": "markdown",
      "source": [
        "###Evaluate the model with evaluation metrics"
      ],
      "metadata": {
        "id": "nI-bOxSXx1FH"
      }
    },
    {
      "cell_type": "code",
      "source": [
        "model.evaluate(X_Test, y_Test)"
      ],
      "metadata": {
        "colab": {
          "base_uri": "https://localhost:8080/"
        },
        "id": "PTO2QsUQykuy",
        "outputId": "a2828af4-3f2c-4d9a-d2d9-34002ba8948d"
      },
      "execution_count": 34,
      "outputs": [
        {
          "output_type": "stream",
          "name": "stdout",
          "text": [
            "1/1 [==============================] - 0s 216ms/step - loss: 33.8276 - mae: 33.8276\n"
          ]
        },
        {
          "output_type": "execute_result",
          "data": {
            "text/plain": [
              "[33.82758331298828, 33.82758331298828]"
            ]
          },
          "metadata": {},
          "execution_count": 34
        }
      ]
    },
    {
      "cell_type": "code",
      "source": [
        "#calculate mean absolute error\n",
        "mae=tf.metrics.mean_absolute_error(y_Test, y_pred)\n",
        "mae"
      ],
      "metadata": {
        "colab": {
          "base_uri": "https://localhost:8080/"
        },
        "id": "OyIjVQjE02hd",
        "outputId": "2213e770-d3e1-4330-8998-32e542c2ee23"
      },
      "execution_count": 35,
      "outputs": [
        {
          "output_type": "execute_result",
          "data": {
            "text/plain": [
              "<tf.Tensor: shape=(10,), dtype=float32, numpy=\n",
              "array([45.98048 , 43.27983 , 40.579193, 37.878548, 35.177906, 32.47727 ,\n",
              "       29.776617, 27.075983, 24.375336, 21.67469 ], dtype=float32)>"
            ]
          },
          "metadata": {},
          "execution_count": 35
        }
      ]
    },
    {
      "cell_type": "code",
      "source": [
        "tf.constant(y_pred)"
      ],
      "metadata": {
        "colab": {
          "base_uri": "https://localhost:8080/"
        },
        "id": "-ltHGHao1QNE",
        "outputId": "1c1a60f8-4e72-4141-8594-0b636d0b044d"
      },
      "execution_count": 36,
      "outputs": [
        {
          "output_type": "execute_result",
          "data": {
            "text/plain": [
              "<tf.Tensor: shape=(10, 1), dtype=float32, numpy=\n",
              "array([[42.01952 ],\n",
              "       [44.72017 ],\n",
              "       [47.420807],\n",
              "       [50.121452],\n",
              "       [52.822094],\n",
              "       [55.52273 ],\n",
              "       [58.22338 ],\n",
              "       [60.92402 ],\n",
              "       [63.624664],\n",
              "       [66.32531 ]], dtype=float32)>"
            ]
          },
          "metadata": {},
          "execution_count": 36
        }
      ]
    },
    {
      "cell_type": "code",
      "source": [
        "y_Test"
      ],
      "metadata": {
        "colab": {
          "base_uri": "https://localhost:8080/"
        },
        "id": "teLIRziy1YsM",
        "outputId": "68d6ab0b-368a-414a-c802-5364eb7a9b70"
      },
      "execution_count": 37,
      "outputs": [
        {
          "output_type": "execute_result",
          "data": {
            "text/plain": [
              "<tf.Tensor: shape=(10,), dtype=int32, numpy=array([ 70,  74,  78,  82,  86,  90,  94,  98, 102, 106], dtype=int32)>"
            ]
          },
          "metadata": {},
          "execution_count": 37
        }
      ]
    },
    {
      "cell_type": "code",
      "source": [
        "tf.squeeze(y_pred)"
      ],
      "metadata": {
        "colab": {
          "base_uri": "https://localhost:8080/"
        },
        "id": "LctMa-5T1hrk",
        "outputId": "1c27b3f5-1092-481c-9b9c-6de9dd9dfc96"
      },
      "execution_count": 38,
      "outputs": [
        {
          "output_type": "execute_result",
          "data": {
            "text/plain": [
              "<tf.Tensor: shape=(10,), dtype=float32, numpy=\n",
              "array([42.01952 , 44.72017 , 47.420807, 50.121452, 52.822094, 55.52273 ,\n",
              "       58.22338 , 60.92402 , 63.624664, 66.32531 ], dtype=float32)>"
            ]
          },
          "metadata": {},
          "execution_count": 38
        }
      ]
    },
    {
      "cell_type": "code",
      "source": [
        "#calculate mean absolute error\n",
        "mae=tf.metrics.mean_absolute_error(y_true=y_Test, \n",
        "                                  y_pred=tf.squeeze(y_pred))\n",
        "mae"
      ],
      "metadata": {
        "colab": {
          "base_uri": "https://localhost:8080/"
        },
        "id": "QpHdVPFt1nof",
        "outputId": "e64e5b7c-fc9f-483f-905d-7b84044dc1aa"
      },
      "execution_count": 39,
      "outputs": [
        {
          "output_type": "execute_result",
          "data": {
            "text/plain": [
              "<tf.Tensor: shape=(), dtype=float32, numpy=33.827583>"
            ]
          },
          "metadata": {},
          "execution_count": 39
        }
      ]
    },
    {
      "cell_type": "code",
      "source": [
        "#calculate the means squared error\n",
        "mse=tf.metrics.mean_squared_error(y_true=y_Test, \n",
        "                                  y_pred=tf.squeeze(y_pred))\n",
        "mse\n"
      ],
      "metadata": {
        "colab": {
          "base_uri": "https://localhost:8080/"
        },
        "id": "D9zpFQIO0R6M",
        "outputId": "15252017-2f92-43e3-c01d-38edce901449"
      },
      "execution_count": 40,
      "outputs": [
        {
          "output_type": "execute_result",
          "data": {
            "text/plain": [
              "<tf.Tensor: shape=(), dtype=float32, numpy=1158.2341>"
            ]
          },
          "metadata": {},
          "execution_count": 40
        }
      ]
    },
    {
      "cell_type": "code",
      "source": [
        "y_pred"
      ],
      "metadata": {
        "colab": {
          "base_uri": "https://localhost:8080/"
        },
        "id": "xw0KQnug0KQu",
        "outputId": "d6ba6e85-b3c3-4fcf-c417-89f5c900b87e"
      },
      "execution_count": 41,
      "outputs": [
        {
          "output_type": "execute_result",
          "data": {
            "text/plain": [
              "array([[42.01952 ],\n",
              "       [44.72017 ],\n",
              "       [47.420807],\n",
              "       [50.121452],\n",
              "       [52.822094],\n",
              "       [55.52273 ],\n",
              "       [58.22338 ],\n",
              "       [60.92402 ],\n",
              "       [63.624664],\n",
              "       [66.32531 ]], dtype=float32)"
            ]
          },
          "metadata": {},
          "execution_count": 41
        }
      ]
    },
    {
      "cell_type": "code",
      "source": [
        "#make some functions to reuse MAE and MSE\n",
        "def mae(y_true, y_pred):\n",
        "  return tf.metrics.mean_absolute_error(y_true=y_true,\n",
        "                                        y_pred=tf.squeeze(y_pred))\n",
        "\n",
        "def mse(y_true, y_pred):\n",
        "  return tf.metrics.mean_squared_error(y_true=y_true,\n",
        "                                       y_pred=tf.squeeze(y_pred))"
      ],
      "metadata": {
        "id": "_az4dYr00Opi"
      },
      "execution_count": 42,
      "outputs": []
    },
    {
      "cell_type": "markdown",
      "source": [
        "###running experiment on our model"
      ],
      "metadata": {
        "id": "VAUP68CS3Sfz"
      }
    },
    {
      "cell_type": "code",
      "source": [
        "X_Train, y_Train"
      ],
      "metadata": {
        "colab": {
          "base_uri": "https://localhost:8080/"
        },
        "id": "34kVd1i2yvpw",
        "outputId": "6583c162-992b-4d15-c868-5cf84d9e7bce"
      },
      "execution_count": 43,
      "outputs": [
        {
          "output_type": "execute_result",
          "data": {
            "text/plain": [
              "(<tf.Tensor: shape=(40,), dtype=int32, numpy=\n",
              " array([-100,  -96,  -92,  -88,  -84,  -80,  -76,  -72,  -68,  -64,  -60,\n",
              "         -56,  -52,  -48,  -44,  -40,  -36,  -32,  -28,  -24,  -20,  -16,\n",
              "         -12,   -8,   -4,    0,    4,    8,   12,   16,   20,   24,   28,\n",
              "          32,   36,   40,   44,   48,   52,   56], dtype=int32)>,\n",
              " <tf.Tensor: shape=(40,), dtype=int32, numpy=\n",
              " array([-90, -86, -82, -78, -74, -70, -66, -62, -58, -54, -50, -46, -42,\n",
              "        -38, -34, -30, -26, -22, -18, -14, -10,  -6,  -2,   2,   6,  10,\n",
              "         14,  18,  22,  26,  30,  34,  38,  42,  46,  50,  54,  58,  62,\n",
              "         66], dtype=int32)>)"
            ]
          },
          "metadata": {},
          "execution_count": 43
        }
      ]
    },
    {
      "cell_type": "markdown",
      "source": [
        "***Build model_1***"
      ],
      "metadata": {
        "id": "6q-0SH32zTyk"
      }
    },
    {
      "cell_type": "code",
      "source": [
        "#build random seed\n",
        "tf.random.set_seed(42)\n",
        "\n",
        "#create the model\n",
        "model_1=tf.keras.Sequential([\n",
        "                             tf.keras.layers.Dense(1)\n",
        "])\n",
        "\n",
        "#compile the model\n",
        "model_1.compile(loss=tf.keras.losses.mae,\n",
        "              optimizer=tf.keras.optimizers.SGD(),\n",
        "              metrics=[\"mae\"])\n",
        "\n",
        "#fit the model\n",
        "model_1.fit(tf.expand_dims(X, axis=-1), y, epochs=100)"
      ],
      "metadata": {
        "colab": {
          "base_uri": "https://localhost:8080/"
        },
        "id": "tmKCRDeqz2-O",
        "outputId": "c509eec0-835c-403e-dbde-224412e4e22d"
      },
      "execution_count": 44,
      "outputs": [
        {
          "output_type": "stream",
          "name": "stdout",
          "text": [
            "Epoch 1/100\n",
            "2/2 [==============================] - 1s 9ms/step - loss: 19.0311 - mae: 19.0311\n",
            "Epoch 2/100\n",
            "2/2 [==============================] - 0s 7ms/step - loss: 10.8111 - mae: 10.8111\n",
            "Epoch 3/100\n",
            "2/2 [==============================] - 0s 8ms/step - loss: 14.5005 - mae: 14.5005\n",
            "Epoch 4/100\n",
            "2/2 [==============================] - 0s 7ms/step - loss: 10.0958 - mae: 10.0958\n",
            "Epoch 5/100\n",
            "2/2 [==============================] - 0s 8ms/step - loss: 15.5388 - mae: 15.5388\n",
            "Epoch 6/100\n",
            "2/2 [==============================] - 0s 16ms/step - loss: 11.8626 - mae: 11.8626\n",
            "Epoch 7/100\n",
            "2/2 [==============================] - 0s 14ms/step - loss: 9.1727 - mae: 9.1727\n",
            "Epoch 8/100\n",
            "2/2 [==============================] - 0s 10ms/step - loss: 13.6143 - mae: 13.6143\n",
            "Epoch 9/100\n",
            "2/2 [==============================] - 0s 11ms/step - loss: 13.8577 - mae: 13.8577\n",
            "Epoch 10/100\n",
            "2/2 [==============================] - 0s 15ms/step - loss: 9.9966 - mae: 9.9966\n",
            "Epoch 11/100\n",
            "2/2 [==============================] - 0s 7ms/step - loss: 9.9685 - mae: 9.9685\n",
            "Epoch 12/100\n",
            "2/2 [==============================] - 0s 4ms/step - loss: 9.9097 - mae: 9.9097\n",
            "Epoch 13/100\n",
            "2/2 [==============================] - 0s 16ms/step - loss: 9.7478 - mae: 9.7478\n",
            "Epoch 14/100\n",
            "2/2 [==============================] - 0s 5ms/step - loss: 10.5485 - mae: 10.5485\n",
            "Epoch 15/100\n",
            "2/2 [==============================] - 0s 6ms/step - loss: 13.7915 - mae: 13.7915\n",
            "Epoch 16/100\n",
            "2/2 [==============================] - 0s 5ms/step - loss: 12.5861 - mae: 12.5861\n",
            "Epoch 17/100\n",
            "2/2 [==============================] - 0s 5ms/step - loss: 10.2180 - mae: 10.2180\n",
            "Epoch 18/100\n",
            "2/2 [==============================] - 0s 8ms/step - loss: 10.1329 - mae: 10.1329\n",
            "Epoch 19/100\n",
            "2/2 [==============================] - 0s 4ms/step - loss: 9.9154 - mae: 9.9154\n",
            "Epoch 20/100\n",
            "2/2 [==============================] - 0s 8ms/step - loss: 12.7204 - mae: 12.7204\n",
            "Epoch 21/100\n",
            "2/2 [==============================] - 0s 4ms/step - loss: 12.9522 - mae: 12.9522\n",
            "Epoch 22/100\n",
            "2/2 [==============================] - 0s 4ms/step - loss: 9.5668 - mae: 9.5668\n",
            "Epoch 23/100\n",
            "2/2 [==============================] - 0s 7ms/step - loss: 9.3870 - mae: 9.3870\n",
            "Epoch 24/100\n",
            "2/2 [==============================] - 0s 5ms/step - loss: 9.7060 - mae: 9.7060\n",
            "Epoch 25/100\n",
            "2/2 [==============================] - 0s 4ms/step - loss: 9.6024 - mae: 9.6024\n",
            "Epoch 26/100\n",
            "2/2 [==============================] - 0s 10ms/step - loss: 9.4918 - mae: 9.4918\n",
            "Epoch 27/100\n",
            "2/2 [==============================] - 0s 9ms/step - loss: 9.7140 - mae: 9.7140\n",
            "Epoch 28/100\n",
            "2/2 [==============================] - 0s 9ms/step - loss: 9.5882 - mae: 9.5882\n",
            "Epoch 29/100\n",
            "2/2 [==============================] - 0s 7ms/step - loss: 9.4746 - mae: 9.4746\n",
            "Epoch 30/100\n",
            "2/2 [==============================] - 0s 13ms/step - loss: 10.0289 - mae: 10.0289\n",
            "Epoch 31/100\n",
            "2/2 [==============================] - 0s 7ms/step - loss: 13.3862 - mae: 13.3862\n",
            "Epoch 32/100\n",
            "2/2 [==============================] - 0s 13ms/step - loss: 9.6345 - mae: 9.6345\n",
            "Epoch 33/100\n",
            "2/2 [==============================] - 0s 12ms/step - loss: 9.5676 - mae: 9.5676\n",
            "Epoch 34/100\n",
            "2/2 [==============================] - 0s 8ms/step - loss: 9.8932 - mae: 9.8932\n",
            "Epoch 35/100\n",
            "2/2 [==============================] - 0s 5ms/step - loss: 10.1582 - mae: 10.1582\n",
            "Epoch 36/100\n",
            "2/2 [==============================] - 0s 5ms/step - loss: 9.5081 - mae: 9.5081\n",
            "Epoch 37/100\n",
            "2/2 [==============================] - 0s 10ms/step - loss: 9.4231 - mae: 9.4231\n",
            "Epoch 38/100\n",
            "2/2 [==============================] - 0s 9ms/step - loss: 9.6222 - mae: 9.6222\n",
            "Epoch 39/100\n",
            "2/2 [==============================] - 0s 5ms/step - loss: 10.3634 - mae: 10.3634\n",
            "Epoch 40/100\n",
            "2/2 [==============================] - 0s 9ms/step - loss: 11.5608 - mae: 11.5608\n",
            "Epoch 41/100\n",
            "2/2 [==============================] - 0s 6ms/step - loss: 9.7365 - mae: 9.7365\n",
            "Epoch 42/100\n",
            "2/2 [==============================] - 0s 8ms/step - loss: 9.3273 - mae: 9.3273\n",
            "Epoch 43/100\n",
            "2/2 [==============================] - 0s 7ms/step - loss: 9.1406 - mae: 9.1406\n",
            "Epoch 44/100\n",
            "2/2 [==============================] - 0s 8ms/step - loss: 9.5279 - mae: 9.5279\n",
            "Epoch 45/100\n",
            "2/2 [==============================] - 0s 9ms/step - loss: 9.6614 - mae: 9.6614\n",
            "Epoch 46/100\n",
            "2/2 [==============================] - 0s 5ms/step - loss: 9.1543 - mae: 9.1543\n",
            "Epoch 47/100\n",
            "2/2 [==============================] - 0s 4ms/step - loss: 9.0604 - mae: 9.0604\n",
            "Epoch 48/100\n",
            "2/2 [==============================] - 0s 6ms/step - loss: 8.7624 - mae: 8.7624\n",
            "Epoch 49/100\n",
            "2/2 [==============================] - 0s 6ms/step - loss: 10.8369 - mae: 10.8369\n",
            "Epoch 50/100\n",
            "2/2 [==============================] - 0s 6ms/step - loss: 8.8573 - mae: 8.8573\n",
            "Epoch 51/100\n",
            "2/2 [==============================] - 0s 10ms/step - loss: 10.3175 - mae: 10.3175\n",
            "Epoch 52/100\n",
            "2/2 [==============================] - 0s 4ms/step - loss: 14.8285 - mae: 14.8285\n",
            "Epoch 53/100\n",
            "2/2 [==============================] - 0s 14ms/step - loss: 8.7053 - mae: 8.7053\n",
            "Epoch 54/100\n",
            "2/2 [==============================] - 0s 4ms/step - loss: 9.4249 - mae: 9.4249\n",
            "Epoch 55/100\n",
            "2/2 [==============================] - 0s 11ms/step - loss: 9.8385 - mae: 9.8385\n",
            "Epoch 56/100\n",
            "2/2 [==============================] - 0s 6ms/step - loss: 12.1663 - mae: 12.1663\n",
            "Epoch 57/100\n",
            "2/2 [==============================] - 0s 8ms/step - loss: 16.1752 - mae: 16.1752\n",
            "Epoch 58/100\n",
            "2/2 [==============================] - 0s 21ms/step - loss: 15.0076 - mae: 15.0076\n",
            "Epoch 59/100\n",
            "2/2 [==============================] - 0s 10ms/step - loss: 15.3698 - mae: 15.3698\n",
            "Epoch 60/100\n",
            "2/2 [==============================] - 0s 9ms/step - loss: 12.5261 - mae: 12.5261\n",
            "Epoch 61/100\n",
            "2/2 [==============================] - 0s 7ms/step - loss: 13.0420 - mae: 13.0420\n",
            "Epoch 62/100\n",
            "2/2 [==============================] - 0s 6ms/step - loss: 10.2323 - mae: 10.2323\n",
            "Epoch 63/100\n",
            "2/2 [==============================] - 0s 4ms/step - loss: 12.0069 - mae: 12.0069\n",
            "Epoch 64/100\n",
            "2/2 [==============================] - 0s 13ms/step - loss: 9.5151 - mae: 9.5151\n",
            "Epoch 65/100\n",
            "2/2 [==============================] - 0s 11ms/step - loss: 8.9926 - mae: 8.9926\n",
            "Epoch 66/100\n",
            "2/2 [==============================] - 0s 9ms/step - loss: 8.9825 - mae: 8.9825\n",
            "Epoch 67/100\n",
            "2/2 [==============================] - 0s 4ms/step - loss: 9.1020 - mae: 9.1020\n",
            "Epoch 68/100\n",
            "2/2 [==============================] - 0s 12ms/step - loss: 9.2138 - mae: 9.2138\n",
            "Epoch 69/100\n",
            "2/2 [==============================] - 0s 5ms/step - loss: 9.2091 - mae: 9.2091\n",
            "Epoch 70/100\n",
            "2/2 [==============================] - 0s 8ms/step - loss: 9.4690 - mae: 9.4690\n",
            "Epoch 71/100\n",
            "2/2 [==============================] - 0s 6ms/step - loss: 8.9142 - mae: 8.9142\n",
            "Epoch 72/100\n",
            "2/2 [==============================] - 0s 12ms/step - loss: 9.9897 - mae: 9.9897\n",
            "Epoch 73/100\n",
            "2/2 [==============================] - 0s 7ms/step - loss: 11.9300 - mae: 11.9300\n",
            "Epoch 74/100\n",
            "2/2 [==============================] - 0s 11ms/step - loss: 8.5859 - mae: 8.5859\n",
            "Epoch 75/100\n",
            "2/2 [==============================] - 0s 31ms/step - loss: 8.7776 - mae: 8.7776\n",
            "Epoch 76/100\n",
            "2/2 [==============================] - 0s 14ms/step - loss: 8.8232 - mae: 8.8232\n",
            "Epoch 77/100\n",
            "2/2 [==============================] - 0s 5ms/step - loss: 8.1895 - mae: 8.1895\n",
            "Epoch 78/100\n",
            "2/2 [==============================] - 0s 14ms/step - loss: 11.2235 - mae: 11.2235\n",
            "Epoch 79/100\n",
            "2/2 [==============================] - 0s 12ms/step - loss: 9.5682 - mae: 9.5682\n",
            "Epoch 80/100\n",
            "2/2 [==============================] - 0s 16ms/step - loss: 13.1783 - mae: 13.1783\n",
            "Epoch 81/100\n",
            "2/2 [==============================] - 0s 4ms/step - loss: 14.3245 - mae: 14.3245\n",
            "Epoch 82/100\n",
            "2/2 [==============================] - 0s 6ms/step - loss: 16.2560 - mae: 16.2560\n",
            "Epoch 83/100\n",
            "2/2 [==============================] - 0s 15ms/step - loss: 9.5568 - mae: 9.5568\n",
            "Epoch 84/100\n",
            "2/2 [==============================] - 0s 4ms/step - loss: 8.6519 - mae: 8.6519\n",
            "Epoch 85/100\n",
            "2/2 [==============================] - 0s 7ms/step - loss: 8.7552 - mae: 8.7552\n",
            "Epoch 86/100\n",
            "2/2 [==============================] - 0s 10ms/step - loss: 9.0234 - mae: 9.0234\n",
            "Epoch 87/100\n",
            "2/2 [==============================] - 0s 13ms/step - loss: 9.1794 - mae: 9.1794\n",
            "Epoch 88/100\n",
            "2/2 [==============================] - 0s 21ms/step - loss: 8.7276 - mae: 8.7276\n",
            "Epoch 89/100\n",
            "2/2 [==============================] - 0s 4ms/step - loss: 8.8707 - mae: 8.8707\n",
            "Epoch 90/100\n",
            "2/2 [==============================] - 0s 13ms/step - loss: 8.6802 - mae: 8.6802\n",
            "Epoch 91/100\n",
            "2/2 [==============================] - 0s 5ms/step - loss: 8.7301 - mae: 8.7301\n",
            "Epoch 92/100\n",
            "2/2 [==============================] - 0s 5ms/step - loss: 8.5968 - mae: 8.5968\n",
            "Epoch 93/100\n",
            "2/2 [==============================] - 0s 6ms/step - loss: 9.1886 - mae: 9.1886\n",
            "Epoch 94/100\n",
            "2/2 [==============================] - 0s 9ms/step - loss: 9.9125 - mae: 9.9125\n",
            "Epoch 95/100\n",
            "2/2 [==============================] - 0s 10ms/step - loss: 12.8242 - mae: 12.8242\n",
            "Epoch 96/100\n",
            "2/2 [==============================] - 0s 7ms/step - loss: 9.1602 - mae: 9.1602\n",
            "Epoch 97/100\n",
            "2/2 [==============================] - 0s 8ms/step - loss: 10.5435 - mae: 10.5435\n",
            "Epoch 98/100\n",
            "2/2 [==============================] - 0s 7ms/step - loss: 14.7497 - mae: 14.7497\n",
            "Epoch 99/100\n",
            "2/2 [==============================] - 0s 12ms/step - loss: 10.8591 - mae: 10.8591\n",
            "Epoch 100/100\n",
            "2/2 [==============================] - 0s 6ms/step - loss: 14.9030 - mae: 14.9030\n"
          ]
        },
        {
          "output_type": "execute_result",
          "data": {
            "text/plain": [
              "<keras.callbacks.History at 0x7f2ef195a9d0>"
            ]
          },
          "metadata": {},
          "execution_count": 44
        }
      ]
    },
    {
      "cell_type": "code",
      "source": [
        "#make and plot predictions for model_1\n",
        "y_pred_1=model_1.predict(X_Test)\n",
        "plot_predictions(predictions=y_pred_1)"
      ],
      "metadata": {
        "colab": {
          "base_uri": "https://localhost:8080/",
          "height": 465
        },
        "id": "LTbC3e1J0X_A",
        "outputId": "26ef95f0-0762-402a-b8a8-1b34d6e32179"
      },
      "execution_count": 45,
      "outputs": [
        {
          "output_type": "stream",
          "name": "stdout",
          "text": [
            "WARNING:tensorflow:5 out of the last 5 calls to <function Model.make_predict_function.<locals>.predict_function at 0x7f2ef1a48950> triggered tf.function retracing. Tracing is expensive and the excessive number of tracings could be due to (1) creating @tf.function repeatedly in a loop, (2) passing tensors with different shapes, (3) passing Python objects instead of tensors. For (1), please define your @tf.function outside of the loop. For (2), @tf.function has experimental_relax_shapes=True option that relaxes argument shapes that can avoid unnecessary retracing. For (3), please refer to https://www.tensorflow.org/guide/function#controlling_retracing and https://www.tensorflow.org/api_docs/python/tf/function for  more details.\n"
          ]
        },
        {
          "output_type": "display_data",
          "data": {
            "image/png": "[encoded data removed]",
            "text/plain": [
              "<Figure size 720x504 with 1 Axes>"
            ]
          },
          "metadata": {
            "needs_background": "light"
          }
        }
      ]
    },
    {
      "cell_type": "code",
      "source": [
        "#calculate model_1 evaluation metrics\n",
        "mae_1=mae(y_Test, y_pred_1)\n",
        "mse_1=mse(y_Test, y_pred_1)\n",
        "mae_1, mse_1"
      ],
      "metadata": {
        "colab": {
          "base_uri": "https://localhost:8080/"
        },
        "id": "OeZIha-z0ssY",
        "outputId": "d189123e-5ec0-43a8-a6ad-2302007eafcd"
      },
      "execution_count": 46,
      "outputs": [
        {
          "output_type": "execute_result",
          "data": {
            "text/plain": [
              "(<tf.Tensor: shape=(), dtype=float32, numpy=17.272385>,\n",
              " <tf.Tensor: shape=(), dtype=float32, numpy=300.0373>)"
            ]
          },
          "metadata": {},
          "execution_count": 46
        }
      ]
    },
    {
      "cell_type": "markdown",
      "source": [
        "***Build model_2***\n",
        "\n",
        "2 dense layers, trained for 100 epochs"
      ],
      "metadata": {
        "id": "bwwwAQqK1FKX"
      }
    },
    {
      "cell_type": "code",
      "source": [
        "#build random seed\n",
        "tf.random.set_seed(42)\n",
        "\n",
        "#create the model\n",
        "model_2=tf.keras.Sequential([\n",
        "                             tf.keras.layers.Dense(10),\n",
        "                             tf.keras.layers.Dense(1)\n",
        "])\n",
        "\n",
        "#compile the model\n",
        "model_2.compile(loss=tf.keras.losses.mae,\n",
        "              optimizer=tf.keras.optimizers.SGD(),\n",
        "              metrics=[\"mae\"])\n",
        "\n",
        "#fit the model\n",
        "model_2.fit(tf.expand_dims(X, axis=-1), y, epochs=100)"
      ],
      "metadata": {
        "colab": {
          "base_uri": "https://localhost:8080/"
        },
        "id": "QFBvrk_G1qN5",
        "outputId": "ff10611f-b9b3-4333-f8f9-c5c0b2d528ed"
      },
      "execution_count": 47,
      "outputs": [
        {
          "output_type": "stream",
          "name": "stdout",
          "text": [
            "Epoch 1/100\n",
            "2/2 [==============================] - 1s 15ms/step - loss: 40.2867 - mae: 40.2867\n",
            "Epoch 2/100\n",
            "2/2 [==============================] - 0s 10ms/step - loss: 25.9297 - mae: 25.9297\n",
            "Epoch 3/100\n",
            "2/2 [==============================] - 0s 10ms/step - loss: 44.1696 - mae: 44.1696\n",
            "Epoch 4/100\n",
            "2/2 [==============================] - 0s 13ms/step - loss: 11.2212 - mae: 11.2212\n",
            "Epoch 5/100\n",
            "2/2 [==============================] - 0s 7ms/step - loss: 23.0317 - mae: 23.0317\n",
            "Epoch 6/100\n",
            "2/2 [==============================] - 0s 7ms/step - loss: 24.2563 - mae: 24.2563\n",
            "Epoch 7/100\n",
            "2/2 [==============================] - 0s 8ms/step - loss: 11.2416 - mae: 11.2416\n",
            "Epoch 8/100\n",
            "2/2 [==============================] - 0s 7ms/step - loss: 34.1576 - mae: 34.1576\n",
            "Epoch 9/100\n",
            "2/2 [==============================] - 0s 11ms/step - loss: 12.5246 - mae: 12.5246\n",
            "Epoch 10/100\n",
            "2/2 [==============================] - 0s 9ms/step - loss: 10.1823 - mae: 10.1823\n",
            "Epoch 11/100\n",
            "2/2 [==============================] - 0s 10ms/step - loss: 23.0436 - mae: 23.0436\n",
            "Epoch 12/100\n",
            "2/2 [==============================] - 0s 12ms/step - loss: 16.3819 - mae: 16.3819\n",
            "Epoch 13/100\n",
            "2/2 [==============================] - 0s 6ms/step - loss: 22.6688 - mae: 22.6688\n",
            "Epoch 14/100\n",
            "2/2 [==============================] - 0s 5ms/step - loss: 22.1103 - mae: 22.1103\n",
            "Epoch 15/100\n",
            "2/2 [==============================] - 0s 4ms/step - loss: 19.8442 - mae: 19.8442\n",
            "Epoch 16/100\n",
            "2/2 [==============================] - 0s 5ms/step - loss: 23.1707 - mae: 23.1707\n",
            "Epoch 17/100\n",
            "2/2 [==============================] - 0s 8ms/step - loss: 11.5075 - mae: 11.5075\n",
            "Epoch 18/100\n",
            "2/2 [==============================] - 0s 6ms/step - loss: 29.7742 - mae: 29.7742\n",
            "Epoch 19/100\n",
            "2/2 [==============================] - 0s 12ms/step - loss: 18.4085 - mae: 18.4085\n",
            "Epoch 20/100\n",
            "2/2 [==============================] - 0s 4ms/step - loss: 18.7610 - mae: 18.7610\n",
            "Epoch 21/100\n",
            "2/2 [==============================] - 0s 5ms/step - loss: 19.4369 - mae: 19.4369\n",
            "Epoch 22/100\n",
            "2/2 [==============================] - 0s 10ms/step - loss: 20.5783 - mae: 20.5783\n",
            "Epoch 23/100\n",
            "2/2 [==============================] - 0s 6ms/step - loss: 19.8132 - mae: 19.8132\n",
            "Epoch 24/100\n",
            "2/2 [==============================] - 0s 4ms/step - loss: 18.7247 - mae: 18.7247\n",
            "Epoch 25/100\n",
            "2/2 [==============================] - 0s 8ms/step - loss: 21.7989 - mae: 21.7989\n",
            "Epoch 26/100\n",
            "2/2 [==============================] - 0s 6ms/step - loss: 10.6899 - mae: 10.6899\n",
            "Epoch 27/100\n",
            "2/2 [==============================] - 0s 4ms/step - loss: 30.8423 - mae: 30.8423\n",
            "Epoch 28/100\n",
            "2/2 [==============================] - 0s 4ms/step - loss: 16.5686 - mae: 16.5686\n",
            "Epoch 29/100\n",
            "2/2 [==============================] - 0s 5ms/step - loss: 33.0226 - mae: 33.0226\n",
            "Epoch 30/100\n",
            "2/2 [==============================] - 0s 4ms/step - loss: 19.5703 - mae: 19.5703\n",
            "Epoch 31/100\n",
            "2/2 [==============================] - 0s 5ms/step - loss: 12.5353 - mae: 12.5353\n",
            "Epoch 32/100\n",
            "2/2 [==============================] - 0s 5ms/step - loss: 20.7130 - mae: 20.7130\n",
            "Epoch 33/100\n",
            "2/2 [==============================] - 0s 4ms/step - loss: 20.6412 - mae: 20.6412\n",
            "Epoch 34/100\n",
            "2/2 [==============================] - 0s 11ms/step - loss: 21.2043 - mae: 21.2043\n",
            "Epoch 35/100\n",
            "2/2 [==============================] - 0s 6ms/step - loss: 21.3012 - mae: 21.3012\n",
            "Epoch 36/100\n",
            "2/2 [==============================] - 0s 7ms/step - loss: 18.8072 - mae: 18.8072\n",
            "Epoch 37/100\n",
            "2/2 [==============================] - 0s 9ms/step - loss: 27.4462 - mae: 27.4462\n",
            "Epoch 38/100\n",
            "2/2 [==============================] - 0s 7ms/step - loss: 29.1100 - mae: 29.1100\n",
            "Epoch 39/100\n",
            "2/2 [==============================] - 0s 21ms/step - loss: 20.5542 - mae: 20.5542\n",
            "Epoch 40/100\n",
            "2/2 [==============================] - 0s 8ms/step - loss: 20.6334 - mae: 20.6334\n",
            "Epoch 41/100\n",
            "2/2 [==============================] - 0s 16ms/step - loss: 24.9726 - mae: 24.9726\n",
            "Epoch 42/100\n",
            "2/2 [==============================] - 0s 7ms/step - loss: 20.5609 - mae: 20.5609\n",
            "Epoch 43/100\n",
            "2/2 [==============================] - 0s 4ms/step - loss: 23.1231 - mae: 23.1231\n",
            "Epoch 44/100\n",
            "2/2 [==============================] - 0s 5ms/step - loss: 9.8053 - mae: 9.8053\n",
            "Epoch 45/100\n",
            "2/2 [==============================] - 0s 16ms/step - loss: 22.5487 - mae: 22.5487\n",
            "Epoch 46/100\n",
            "2/2 [==============================] - 0s 18ms/step - loss: 9.2110 - mae: 9.2110\n",
            "Epoch 47/100\n",
            "2/2 [==============================] - 0s 6ms/step - loss: 20.3679 - mae: 20.3679\n",
            "Epoch 48/100\n",
            "2/2 [==============================] - 0s 7ms/step - loss: 8.4309 - mae: 8.4309\n",
            "Epoch 49/100\n",
            "2/2 [==============================] - 0s 5ms/step - loss: 12.6659 - mae: 12.6659\n",
            "Epoch 50/100\n",
            "2/2 [==============================] - 0s 5ms/step - loss: 32.1829 - mae: 32.1829\n",
            "Epoch 51/100\n",
            "2/2 [==============================] - 0s 5ms/step - loss: 16.5208 - mae: 16.5208\n",
            "Epoch 52/100\n",
            "2/2 [==============================] - 0s 5ms/step - loss: 33.7598 - mae: 33.7598\n",
            "Epoch 53/100\n",
            "2/2 [==============================] - 0s 4ms/step - loss: 9.7791 - mae: 9.7791\n",
            "Epoch 54/100\n",
            "2/2 [==============================] - 0s 7ms/step - loss: 11.4445 - mae: 11.4445\n",
            "Epoch 55/100\n",
            "2/2 [==============================] - 0s 6ms/step - loss: 24.6060 - mae: 24.6060\n",
            "Epoch 56/100\n",
            "2/2 [==============================] - 0s 7ms/step - loss: 9.1433 - mae: 9.1433\n",
            "Epoch 57/100\n",
            "2/2 [==============================] - 0s 7ms/step - loss: 11.6297 - mae: 11.6297\n",
            "Epoch 58/100\n",
            "2/2 [==============================] - 0s 7ms/step - loss: 27.3491 - mae: 27.3491\n",
            "Epoch 59/100\n",
            "2/2 [==============================] - 0s 7ms/step - loss: 25.1758 - mae: 25.1758\n",
            "Epoch 60/100\n",
            "2/2 [==============================] - 0s 7ms/step - loss: 11.4501 - mae: 11.4501\n",
            "Epoch 61/100\n",
            "2/2 [==============================] - 0s 7ms/step - loss: 31.5022 - mae: 31.5022\n",
            "Epoch 62/100\n",
            "2/2 [==============================] - 0s 8ms/step - loss: 21.6164 - mae: 21.6164\n",
            "Epoch 63/100\n",
            "2/2 [==============================] - 0s 5ms/step - loss: 9.4131 - mae: 9.4131\n",
            "Epoch 64/100\n",
            "2/2 [==============================] - 0s 8ms/step - loss: 27.2951 - mae: 27.2951\n",
            "Epoch 65/100\n",
            "2/2 [==============================] - 0s 5ms/step - loss: 8.9828 - mae: 8.9828\n",
            "Epoch 66/100\n",
            "2/2 [==============================] - 0s 6ms/step - loss: 9.2362 - mae: 9.2362\n",
            "Epoch 67/100\n",
            "2/2 [==============================] - 0s 5ms/step - loss: 25.8946 - mae: 25.8946\n",
            "Epoch 68/100\n",
            "2/2 [==============================] - 0s 6ms/step - loss: 16.4833 - mae: 16.4833\n",
            "Epoch 69/100\n",
            "2/2 [==============================] - 0s 5ms/step - loss: 25.0206 - mae: 25.0206\n",
            "Epoch 70/100\n",
            "2/2 [==============================] - 0s 12ms/step - loss: 26.0848 - mae: 26.0848\n",
            "Epoch 71/100\n",
            "2/2 [==============================] - 0s 15ms/step - loss: 19.4423 - mae: 19.4423\n",
            "Epoch 72/100\n",
            "2/2 [==============================] - 0s 10ms/step - loss: 25.3501 - mae: 25.3501\n",
            "Epoch 73/100\n",
            "2/2 [==============================] - 0s 11ms/step - loss: 35.7193 - mae: 35.7193\n",
            "Epoch 74/100\n",
            "2/2 [==============================] - 0s 19ms/step - loss: 16.4184 - mae: 16.4184\n",
            "Epoch 75/100\n",
            "2/2 [==============================] - 0s 8ms/step - loss: 30.0560 - mae: 30.0560\n",
            "Epoch 76/100\n",
            "2/2 [==============================] - 0s 20ms/step - loss: 24.7032 - mae: 24.7032\n",
            "Epoch 77/100\n",
            "2/2 [==============================] - 0s 7ms/step - loss: 17.8535 - mae: 17.8535\n",
            "Epoch 78/100\n",
            "2/2 [==============================] - 0s 5ms/step - loss: 23.0873 - mae: 23.0873\n",
            "Epoch 79/100\n",
            "2/2 [==============================] - 0s 4ms/step - loss: 10.0832 - mae: 10.0832\n",
            "Epoch 80/100\n",
            "2/2 [==============================] - 0s 7ms/step - loss: 22.9531 - mae: 22.9531\n",
            "Epoch 81/100\n",
            "2/2 [==============================] - 0s 7ms/step - loss: 26.6186 - mae: 26.6186\n",
            "Epoch 82/100\n",
            "2/2 [==============================] - 0s 5ms/step - loss: 8.7183 - mae: 8.7183\n",
            "Epoch 83/100\n",
            "2/2 [==============================] - 0s 5ms/step - loss: 17.7156 - mae: 17.7156\n",
            "Epoch 84/100\n",
            "2/2 [==============================] - 0s 15ms/step - loss: 21.7822 - mae: 21.7822\n",
            "Epoch 85/100\n",
            "2/2 [==============================] - 0s 8ms/step - loss: 8.5676 - mae: 8.5676\n",
            "Epoch 86/100\n",
            "2/2 [==============================] - 0s 10ms/step - loss: 10.1261 - mae: 10.1261\n",
            "Epoch 87/100\n",
            "2/2 [==============================] - 0s 10ms/step - loss: 33.4657 - mae: 33.4657\n",
            "Epoch 88/100\n",
            "2/2 [==============================] - 0s 11ms/step - loss: 20.4582 - mae: 20.4582\n",
            "Epoch 89/100\n",
            "2/2 [==============================] - 0s 8ms/step - loss: 21.4295 - mae: 21.4295\n",
            "Epoch 90/100\n",
            "2/2 [==============================] - 0s 7ms/step - loss: 40.8004 - mae: 40.8004\n",
            "Epoch 91/100\n",
            "2/2 [==============================] - 0s 7ms/step - loss: 16.7932 - mae: 16.7932\n",
            "Epoch 92/100\n",
            "2/2 [==============================] - 0s 6ms/step - loss: 19.9796 - mae: 19.9796\n",
            "Epoch 93/100\n",
            "2/2 [==============================] - 0s 19ms/step - loss: 20.7641 - mae: 20.7641\n",
            "Epoch 94/100\n",
            "2/2 [==============================] - 0s 13ms/step - loss: 26.1390 - mae: 26.1390\n",
            "Epoch 95/100\n",
            "2/2 [==============================] - 0s 14ms/step - loss: 29.1444 - mae: 29.1444\n",
            "Epoch 96/100\n",
            "2/2 [==============================] - 0s 12ms/step - loss: 20.5376 - mae: 20.5376\n",
            "Epoch 97/100\n",
            "2/2 [==============================] - 0s 8ms/step - loss: 21.5291 - mae: 21.5291\n",
            "Epoch 98/100\n",
            "2/2 [==============================] - 0s 10ms/step - loss: 12.7845 - mae: 12.7845\n",
            "Epoch 99/100\n",
            "2/2 [==============================] - 0s 8ms/step - loss: 16.1075 - mae: 16.1075\n",
            "Epoch 100/100\n",
            "2/2 [==============================] - 0s 9ms/step - loss: 20.3503 - mae: 20.3503\n"
          ]
        },
        {
          "output_type": "execute_result",
          "data": {
            "text/plain": [
              "<keras.callbacks.History at 0x7f2f6e96a7d0>"
            ]
          },
          "metadata": {},
          "execution_count": 47
        }
      ]
    },
    {
      "cell_type": "code",
      "source": [
        "#make and plot predictions for model_2\n",
        "y_pred_2=model_2.predict(X_Test)\n",
        "plot_predictions(predictions=y_pred_2)"
      ],
      "metadata": {
        "colab": {
          "base_uri": "https://localhost:8080/",
          "height": 465
        },
        "id": "ElGZRdhv2Y3p",
        "outputId": "d31d20d4-fb11-4a57-fe17-b7f9ea0ae867"
      },
      "execution_count": 48,
      "outputs": [
        {
          "output_type": "stream",
          "name": "stdout",
          "text": [
            "WARNING:tensorflow:6 out of the last 6 calls to <function Model.make_predict_function.<locals>.predict_function at 0x7f2f6e7f9440> triggered tf.function retracing. Tracing is expensive and the excessive number of tracings could be due to (1) creating @tf.function repeatedly in a loop, (2) passing tensors with different shapes, (3) passing Python objects instead of tensors. For (1), please define your @tf.function outside of the loop. For (2), @tf.function has experimental_relax_shapes=True option that relaxes argument shapes that can avoid unnecessary retracing. For (3), please refer to https://www.tensorflow.org/guide/function#controlling_retracing and https://www.tensorflow.org/api_docs/python/tf/function for  more details.\n"
          ]
        },
        {
          "output_type": "display_data",
          "data": {
            "image/png": "[encoded data removed]",
            "text/plain": [
              "<Figure size 720x504 with 1 Axes>"
            ]
          },
          "metadata": {
            "needs_background": "light"
          }
        }
      ]
    },
    {
      "cell_type": "code",
      "source": [
        "#calculate model_2 evaluation metrics\n",
        "mae_2=mae(y_Test, y_pred_2)\n",
        "mse_2=mse(y_Test, y_pred_2)\n",
        "mae_2, mse_2"
      ],
      "metadata": {
        "colab": {
          "base_uri": "https://localhost:8080/"
        },
        "id": "a7O7E79Z2qPs",
        "outputId": "4f83e748-a08c-410e-810a-e429eabeb3e4"
      },
      "execution_count": 49,
      "outputs": [
        {
          "output_type": "execute_result",
          "data": {
            "text/plain": [
              "(<tf.Tensor: shape=(), dtype=float32, numpy=33.827583>,\n",
              " <tf.Tensor: shape=(), dtype=float32, numpy=1158.2341>)"
            ]
          },
          "metadata": {},
          "execution_count": 49
        }
      ]
    },
    {
      "cell_type": "markdown",
      "source": [
        "***Build model_3***\n",
        "\n",
        "2 layer, trained for 500 epochs\n",
        "\n"
      ],
      "metadata": {
        "id": "_RftW9HP22aJ"
      }
    },
    {
      "cell_type": "code",
      "source": [
        "#build random seed\n",
        "tf.random.set_seed(42)\n",
        "\n",
        "#create the model\n",
        "model_3=tf.keras.Sequential([\n",
        "                             tf.keras.layers.Dense(10),\n",
        "                             tf.keras.layers.Dense(1)\n",
        "])\n",
        "\n",
        "#compile the model\n",
        "model_3.compile(loss=tf.keras.losses.mae,\n",
        "              optimizer=tf.keras.optimizers.SGD(),\n",
        "              metrics=[\"mae\"])\n",
        "\n",
        "#fit the model\n",
        "model_3.fit(tf.expand_dims(X, axis=-1), y, epochs=500)"
      ],
      "metadata": {
        "colab": {
          "base_uri": "https://localhost:8080/"
        },
        "id": "4x_8yOG13NJ5",
        "outputId": "5e7896d3-4867-404d-d763-c49260ff6bf1"
      },
      "execution_count": 50,
      "outputs": [
        {
          "output_type": "stream",
          "name": "stdout",
          "text": [
            "Epoch 1/500\n",
            "2/2 [==============================] - 1s 5ms/step - loss: 40.2867 - mae: 40.2867\n",
            "Epoch 2/500\n",
            "2/2 [==============================] - 0s 4ms/step - loss: 25.9297 - mae: 25.9297\n",
            "Epoch 3/500\n",
            "2/2 [==============================] - 0s 6ms/step - loss: 44.1696 - mae: 44.1696\n",
            "Epoch 4/500\n",
            "2/2 [==============================] - 0s 5ms/step - loss: 11.2212 - mae: 11.2212\n",
            "Epoch 5/500\n",
            "2/2 [==============================] - 0s 4ms/step - loss: 23.0317 - mae: 23.0317\n",
            "Epoch 6/500\n",
            "2/2 [==============================] - 0s 5ms/step - loss: 24.2563 - mae: 24.2563\n",
            "Epoch 7/500\n",
            "2/2 [==============================] - 0s 6ms/step - loss: 11.2416 - mae: 11.2416\n",
            "Epoch 8/500\n",
            "2/2 [==============================] - 0s 8ms/step - loss: 34.1576 - mae: 34.1576\n",
            "Epoch 9/500\n",
            "2/2 [==============================] - 0s 4ms/step - loss: 12.5246 - mae: 12.5246\n",
            "Epoch 10/500\n",
            "2/2 [==============================] - 0s 5ms/step - loss: 10.1823 - mae: 10.1823\n",
            "Epoch 11/500\n",
            "2/2 [==============================] - 0s 4ms/step - loss: 23.0436 - mae: 23.0436\n",
            "Epoch 12/500\n",
            "2/2 [==============================] - 0s 7ms/step - loss: 16.3819 - mae: 16.3819\n",
            "Epoch 13/500\n",
            "2/2 [==============================] - 0s 4ms/step - loss: 22.6688 - mae: 22.6688\n",
            "Epoch 14/500\n",
            "2/2 [==============================] - 0s 11ms/step - loss: 22.1103 - mae: 22.1103\n",
            "Epoch 15/500\n",
            "2/2 [==============================] - 0s 7ms/step - loss: 19.8442 - mae: 19.8442\n",
            "Epoch 16/500\n",
            "2/2 [==============================] - 0s 8ms/step - loss: 23.1707 - mae: 23.1707\n",
            "Epoch 17/500\n",
            "2/2 [==============================] - 0s 8ms/step - loss: 11.5075 - mae: 11.5075\n",
            "Epoch 18/500\n",
            "2/2 [==============================] - 0s 5ms/step - loss: 29.7742 - mae: 29.7742\n",
            "Epoch 19/500\n",
            "2/2 [==============================] - 0s 6ms/step - loss: 18.4085 - mae: 18.4085\n",
            "Epoch 20/500\n",
            "2/2 [==============================] - 0s 5ms/step - loss: 18.7610 - mae: 18.7610\n",
            "Epoch 21/500\n",
            "2/2 [==============================] - 0s 6ms/step - loss: 19.4369 - mae: 19.4369\n",
            "Epoch 22/500\n",
            "2/2 [==============================] - 0s 5ms/step - loss: 20.5783 - mae: 20.5783\n",
            "Epoch 23/500\n",
            "2/2 [==============================] - 0s 6ms/step - loss: 19.8132 - mae: 19.8132\n",
            "Epoch 24/500\n",
            "2/2 [==============================] - 0s 4ms/step - loss: 18.7247 - mae: 18.7247\n",
            "Epoch 25/500\n",
            "2/2 [==============================] - 0s 6ms/step - loss: 21.7989 - mae: 21.7989\n",
            "Epoch 26/500\n",
            "2/2 [==============================] - 0s 5ms/step - loss: 10.6899 - mae: 10.6899\n",
            "Epoch 27/500\n",
            "2/2 [==============================] - 0s 8ms/step - loss: 30.8423 - mae: 30.8423\n",
            "Epoch 28/500\n",
            "2/2 [==============================] - 0s 9ms/step - loss: 16.5686 - mae: 16.5686\n",
            "Epoch 29/500\n",
            "2/2 [==============================] - 0s 9ms/step - loss: 33.0226 - mae: 33.0226\n",
            "Epoch 30/500\n",
            "2/2 [==============================] - 0s 8ms/step - loss: 19.5703 - mae: 19.5703\n",
            "Epoch 31/500\n",
            "2/2 [==============================] - 0s 7ms/step - loss: 12.5353 - mae: 12.5353\n",
            "Epoch 32/500\n",
            "2/2 [==============================] - 0s 10ms/step - loss: 20.7130 - mae: 20.7130\n",
            "Epoch 33/500\n",
            "2/2 [==============================] - 0s 9ms/step - loss: 20.6412 - mae: 20.6412\n",
            "Epoch 34/500\n",
            "2/2 [==============================] - 0s 6ms/step - loss: 21.2043 - mae: 21.2043\n",
            "Epoch 35/500\n",
            "2/2 [==============================] - 0s 6ms/step - loss: 21.3012 - mae: 21.3012\n",
            "Epoch 36/500\n",
            "2/2 [==============================] - 0s 6ms/step - loss: 18.8072 - mae: 18.8072\n",
            "Epoch 37/500\n",
            "2/2 [==============================] - 0s 4ms/step - loss: 27.4462 - mae: 27.4462\n",
            "Epoch 38/500\n",
            "2/2 [==============================] - 0s 7ms/step - loss: 29.1100 - mae: 29.1100\n",
            "Epoch 39/500\n",
            "2/2 [==============================] - 0s 5ms/step - loss: 20.5542 - mae: 20.5542\n",
            "Epoch 40/500\n",
            "2/2 [==============================] - 0s 6ms/step - loss: 20.6334 - mae: 20.6334\n",
            "Epoch 41/500\n",
            "2/2 [==============================] - 0s 6ms/step - loss: 24.9726 - mae: 24.9726\n",
            "Epoch 42/500\n",
            "2/2 [==============================] - 0s 7ms/step - loss: 20.5609 - mae: 20.5609\n",
            "Epoch 43/500\n",
            "2/2 [==============================] - 0s 6ms/step - loss: 23.1231 - mae: 23.1231\n",
            "Epoch 44/500\n",
            "2/2 [==============================] - 0s 4ms/step - loss: 9.8053 - mae: 9.8053\n",
            "Epoch 45/500\n",
            "2/2 [==============================] - 0s 7ms/step - loss: 22.5487 - mae: 22.5487\n",
            "Epoch 46/500\n",
            "2/2 [==============================] - 0s 5ms/step - loss: 9.2110 - mae: 9.2110\n",
            "Epoch 47/500\n",
            "2/2 [==============================] - 0s 8ms/step - loss: 20.3679 - mae: 20.3679\n",
            "Epoch 48/500\n",
            "2/2 [==============================] - 0s 6ms/step - loss: 8.4309 - mae: 8.4309\n",
            "Epoch 49/500\n",
            "2/2 [==============================] - 0s 6ms/step - loss: 12.6659 - mae: 12.6659\n",
            "Epoch 50/500\n",
            "2/2 [==============================] - 0s 7ms/step - loss: 32.1829 - mae: 32.1829\n",
            "Epoch 51/500\n",
            "2/2 [==============================] - 0s 8ms/step - loss: 16.5208 - mae: 16.5208\n",
            "Epoch 52/500\n",
            "2/2 [==============================] - 0s 4ms/step - loss: 33.7598 - mae: 33.7598\n",
            "Epoch 53/500\n",
            "2/2 [==============================] - 0s 6ms/step - loss: 9.7791 - mae: 9.7791\n",
            "Epoch 54/500\n",
            "2/2 [==============================] - 0s 5ms/step - loss: 11.4445 - mae: 11.4445\n",
            "Epoch 55/500\n",
            "2/2 [==============================] - 0s 7ms/step - loss: 24.6060 - mae: 24.6060\n",
            "Epoch 56/500\n",
            "2/2 [==============================] - 0s 7ms/step - loss: 9.1433 - mae: 9.1433\n",
            "Epoch 57/500\n",
            "2/2 [==============================] - 0s 7ms/step - loss: 11.6297 - mae: 11.6297\n",
            "Epoch 58/500\n",
            "2/2 [==============================] - 0s 7ms/step - loss: 27.3491 - mae: 27.3491\n",
            "Epoch 59/500\n",
            "2/2 [==============================] - 0s 9ms/step - loss: 25.1758 - mae: 25.1758\n",
            "Epoch 60/500\n",
            "2/2 [==============================] - 0s 5ms/step - loss: 11.4501 - mae: 11.4501\n",
            "Epoch 61/500\n",
            "2/2 [==============================] - 0s 4ms/step - loss: 31.5022 - mae: 31.5022\n",
            "Epoch 62/500\n",
            "2/2 [==============================] - 0s 5ms/step - loss: 21.6164 - mae: 21.6164\n",
            "Epoch 63/500\n",
            "2/2 [==============================] - 0s 6ms/step - loss: 9.4131 - mae: 9.4131\n",
            "Epoch 64/500\n",
            "2/2 [==============================] - 0s 6ms/step - loss: 27.2951 - mae: 27.2951\n",
            "Epoch 65/500\n",
            "2/2 [==============================] - 0s 6ms/step - loss: 8.9828 - mae: 8.9828\n",
            "Epoch 66/500\n",
            "2/2 [==============================] - 0s 6ms/step - loss: 9.2362 - mae: 9.2362\n",
            "Epoch 67/500\n",
            "2/2 [==============================] - 0s 4ms/step - loss: 25.8946 - mae: 25.8946\n",
            "Epoch 68/500\n",
            "2/2 [==============================] - 0s 7ms/step - loss: 16.4833 - mae: 16.4833\n",
            "Epoch 69/500\n",
            "2/2 [==============================] - 0s 5ms/step - loss: 25.0206 - mae: 25.0206\n",
            "Epoch 70/500\n",
            "2/2 [==============================] - 0s 6ms/step - loss: 26.0848 - mae: 26.0848\n",
            "Epoch 71/500\n",
            "2/2 [==============================] - 0s 8ms/step - loss: 19.4423 - mae: 19.4423\n",
            "Epoch 72/500\n",
            "2/2 [==============================] - 0s 4ms/step - loss: 25.3501 - mae: 25.3501\n",
            "Epoch 73/500\n",
            "2/2 [==============================] - 0s 3ms/step - loss: 35.7193 - mae: 35.7193\n",
            "Epoch 74/500\n",
            "2/2 [==============================] - 0s 4ms/step - loss: 16.4184 - mae: 16.4184\n",
            "Epoch 75/500\n",
            "2/2 [==============================] - 0s 3ms/step - loss: 30.0560 - mae: 30.0560\n",
            "Epoch 76/500\n",
            "2/2 [==============================] - 0s 4ms/step - loss: 24.7032 - mae: 24.7032\n",
            "Epoch 77/500\n",
            "2/2 [==============================] - 0s 3ms/step - loss: 17.8535 - mae: 17.8535\n",
            "Epoch 78/500\n",
            "2/2 [==============================] - 0s 3ms/step - loss: 23.0873 - mae: 23.0873\n",
            "Epoch 79/500\n",
            "2/2 [==============================] - 0s 4ms/step - loss: 10.0832 - mae: 10.0832\n",
            "Epoch 80/500\n",
            "2/2 [==============================] - 0s 8ms/step - loss: 22.9531 - mae: 22.9531\n",
            "Epoch 81/500\n",
            "2/2 [==============================] - 0s 8ms/step - loss: 26.6186 - mae: 26.6186\n",
            "Epoch 82/500\n",
            "2/2 [==============================] - 0s 7ms/step - loss: 8.7183 - mae: 8.7183\n",
            "Epoch 83/500\n",
            "2/2 [==============================] - 0s 8ms/step - loss: 17.7156 - mae: 17.7156\n",
            "Epoch 84/500\n",
            "2/2 [==============================] - 0s 8ms/step - loss: 21.7822 - mae: 21.7822\n",
            "Epoch 85/500\n",
            "2/2 [==============================] - 0s 7ms/step - loss: 8.5676 - mae: 8.5676\n",
            "Epoch 86/500\n",
            "2/2 [==============================] - 0s 14ms/step - loss: 10.1261 - mae: 10.1261\n",
            "Epoch 87/500\n",
            "2/2 [==============================] - 0s 6ms/step - loss: 33.4657 - mae: 33.4657\n",
            "Epoch 88/500\n",
            "2/2 [==============================] - 0s 6ms/step - loss: 20.4582 - mae: 20.4582\n",
            "Epoch 89/500\n",
            "2/2 [==============================] - 0s 6ms/step - loss: 21.4295 - mae: 21.4295\n",
            "Epoch 90/500\n",
            "2/2 [==============================] - 0s 5ms/step - loss: 40.8004 - mae: 40.8004\n",
            "Epoch 91/500\n",
            "2/2 [==============================] - 0s 6ms/step - loss: 16.7932 - mae: 16.7932\n",
            "Epoch 92/500\n",
            "2/2 [==============================] - 0s 4ms/step - loss: 19.9796 - mae: 19.9796\n",
            "Epoch 93/500\n",
            "2/2 [==============================] - 0s 5ms/step - loss: 20.7641 - mae: 20.7641\n",
            "Epoch 94/500\n",
            "2/2 [==============================] - 0s 4ms/step - loss: 26.1390 - mae: 26.1390\n",
            "Epoch 95/500\n",
            "2/2 [==============================] - 0s 6ms/step - loss: 29.1444 - mae: 29.1444\n",
            "Epoch 96/500\n",
            "2/2 [==============================] - 0s 4ms/step - loss: 20.5376 - mae: 20.5376\n",
            "Epoch 97/500\n",
            "2/2 [==============================] - 0s 4ms/step - loss: 21.5291 - mae: 21.5291\n",
            "Epoch 98/500\n",
            "2/2 [==============================] - 0s 6ms/step - loss: 12.7845 - mae: 12.7845\n",
            "Epoch 99/500\n",
            "2/2 [==============================] - 0s 4ms/step - loss: 16.1075 - mae: 16.1075\n",
            "Epoch 100/500\n",
            "2/2 [==============================] - 0s 3ms/step - loss: 20.3503 - mae: 20.3503\n",
            "Epoch 101/500\n",
            "2/2 [==============================] - 0s 4ms/step - loss: 19.7522 - mae: 19.7522\n",
            "Epoch 102/500\n",
            "2/2 [==============================] - 0s 4ms/step - loss: 22.1510 - mae: 22.1510\n",
            "Epoch 103/500\n",
            "2/2 [==============================] - 0s 4ms/step - loss: 18.4467 - mae: 18.4467\n",
            "Epoch 104/500\n",
            "2/2 [==============================] - 0s 4ms/step - loss: 29.5848 - mae: 29.5848\n",
            "Epoch 105/500\n",
            "2/2 [==============================] - 0s 5ms/step - loss: 20.3813 - mae: 20.3813\n",
            "Epoch 106/500\n",
            "2/2 [==============================] - 0s 5ms/step - loss: 16.3683 - mae: 16.3683\n",
            "Epoch 107/500\n",
            "2/2 [==============================] - 0s 9ms/step - loss: 24.8795 - mae: 24.8795\n",
            "Epoch 108/500\n",
            "2/2 [==============================] - 0s 9ms/step - loss: 37.3015 - mae: 37.3015\n",
            "Epoch 109/500\n",
            "2/2 [==============================] - 0s 8ms/step - loss: 8.3437 - mae: 8.3437\n",
            "Epoch 110/500\n",
            "2/2 [==============================] - 0s 5ms/step - loss: 10.6282 - mae: 10.6282\n",
            "Epoch 111/500\n",
            "2/2 [==============================] - 0s 12ms/step - loss: 34.0729 - mae: 34.0729\n",
            "Epoch 112/500\n",
            "2/2 [==============================] - 0s 8ms/step - loss: 10.3594 - mae: 10.3594\n",
            "Epoch 113/500\n",
            "2/2 [==============================] - 0s 6ms/step - loss: 32.9767 - mae: 32.9767\n",
            "Epoch 114/500\n",
            "2/2 [==============================] - 0s 9ms/step - loss: 20.2792 - mae: 20.2792\n",
            "Epoch 115/500\n",
            "2/2 [==============================] - 0s 5ms/step - loss: 8.2930 - mae: 8.2930\n",
            "Epoch 116/500\n",
            "2/2 [==============================] - 0s 5ms/step - loss: 14.3194 - mae: 14.3194\n",
            "Epoch 117/500\n",
            "2/2 [==============================] - 0s 16ms/step - loss: 20.8604 - mae: 20.8604\n",
            "Epoch 118/500\n",
            "2/2 [==============================] - 0s 10ms/step - loss: 22.8512 - mae: 22.8512\n",
            "Epoch 119/500\n",
            "2/2 [==============================] - 0s 6ms/step - loss: 14.1531 - mae: 14.1531\n",
            "Epoch 120/500\n",
            "2/2 [==============================] - 0s 6ms/step - loss: 24.4288 - mae: 24.4288\n",
            "Epoch 121/500\n",
            "2/2 [==============================] - 0s 10ms/step - loss: 16.9757 - mae: 16.9757\n",
            "Epoch 122/500\n",
            "2/2 [==============================] - 0s 9ms/step - loss: 30.5677 - mae: 30.5677\n",
            "Epoch 123/500\n",
            "2/2 [==============================] - 0s 7ms/step - loss: 22.7694 - mae: 22.7694\n",
            "Epoch 124/500\n",
            "2/2 [==============================] - 0s 6ms/step - loss: 17.1876 - mae: 17.1876\n",
            "Epoch 125/500\n",
            "2/2 [==============================] - 0s 8ms/step - loss: 31.8513 - mae: 31.8513\n",
            "Epoch 126/500\n",
            "2/2 [==============================] - 0s 11ms/step - loss: 22.2556 - mae: 22.2556\n",
            "Epoch 127/500\n",
            "2/2 [==============================] - 0s 8ms/step - loss: 18.3846 - mae: 18.3846\n",
            "Epoch 128/500\n",
            "2/2 [==============================] - 0s 7ms/step - loss: 30.1598 - mae: 30.1598\n",
            "Epoch 129/500\n",
            "2/2 [==============================] - 0s 7ms/step - loss: 25.6530 - mae: 25.6530\n",
            "Epoch 130/500\n",
            "2/2 [==============================] - 0s 7ms/step - loss: 21.0713 - mae: 21.0713\n",
            "Epoch 131/500\n",
            "2/2 [==============================] - 0s 8ms/step - loss: 18.4846 - mae: 18.4846\n",
            "Epoch 132/500\n",
            "2/2 [==============================] - 0s 7ms/step - loss: 27.7685 - mae: 27.7685\n",
            "Epoch 133/500\n",
            "2/2 [==============================] - 0s 6ms/step - loss: 29.3693 - mae: 29.3693\n",
            "Epoch 134/500\n",
            "2/2 [==============================] - 0s 9ms/step - loss: 10.4336 - mae: 10.4336\n",
            "Epoch 135/500\n",
            "2/2 [==============================] - 0s 10ms/step - loss: 19.6114 - mae: 19.6114\n",
            "Epoch 136/500\n",
            "2/2 [==============================] - 0s 9ms/step - loss: 20.3438 - mae: 20.3438\n",
            "Epoch 137/500\n",
            "2/2 [==============================] - 0s 8ms/step - loss: 8.2353 - mae: 8.2353\n",
            "Epoch 138/500\n",
            "2/2 [==============================] - 0s 5ms/step - loss: 10.9121 - mae: 10.9121\n",
            "Epoch 139/500\n",
            "2/2 [==============================] - 0s 13ms/step - loss: 24.4561 - mae: 24.4561\n",
            "Epoch 140/500\n",
            "2/2 [==============================] - 0s 9ms/step - loss: 22.5081 - mae: 22.5081\n",
            "Epoch 141/500\n",
            "2/2 [==============================] - 0s 9ms/step - loss: 18.2518 - mae: 18.2518\n",
            "Epoch 142/500\n",
            "2/2 [==============================] - 0s 5ms/step - loss: 28.5007 - mae: 28.5007\n",
            "Epoch 143/500\n",
            "2/2 [==============================] - 0s 5ms/step - loss: 26.9534 - mae: 26.9534\n",
            "Epoch 144/500\n",
            "2/2 [==============================] - 0s 6ms/step - loss: 8.6424 - mae: 8.6424\n",
            "Epoch 145/500\n",
            "2/2 [==============================] - 0s 8ms/step - loss: 46.6797 - mae: 46.6797\n",
            "Epoch 146/500\n",
            "2/2 [==============================] - 0s 12ms/step - loss: 30.2654 - mae: 30.2654\n",
            "Epoch 147/500\n",
            "2/2 [==============================] - 0s 9ms/step - loss: 7.6527 - mae: 7.6527\n",
            "Epoch 148/500\n",
            "2/2 [==============================] - 0s 11ms/step - loss: 12.8119 - mae: 12.8119\n",
            "Epoch 149/500\n",
            "2/2 [==============================] - 0s 6ms/step - loss: 22.5690 - mae: 22.5690\n",
            "Epoch 150/500\n",
            "2/2 [==============================] - 0s 8ms/step - loss: 32.7371 - mae: 32.7371\n",
            "Epoch 151/500\n",
            "2/2 [==============================] - 0s 12ms/step - loss: 24.8391 - mae: 24.8391\n",
            "Epoch 152/500\n",
            "2/2 [==============================] - 0s 12ms/step - loss: 7.9205 - mae: 7.9205\n",
            "Epoch 153/500\n",
            "2/2 [==============================] - 0s 8ms/step - loss: 12.5864 - mae: 12.5864\n",
            "Epoch 154/500\n",
            "2/2 [==============================] - 0s 7ms/step - loss: 29.0280 - mae: 29.0280\n",
            "Epoch 155/500\n",
            "2/2 [==============================] - 0s 8ms/step - loss: 22.7965 - mae: 22.7965\n",
            "Epoch 156/500\n",
            "2/2 [==============================] - 0s 6ms/step - loss: 11.4236 - mae: 11.4236\n",
            "Epoch 157/500\n",
            "2/2 [==============================] - 0s 7ms/step - loss: 17.0573 - mae: 17.0573\n",
            "Epoch 158/500\n",
            "2/2 [==============================] - 0s 9ms/step - loss: 17.7739 - mae: 17.7739\n",
            "Epoch 159/500\n",
            "2/2 [==============================] - 0s 6ms/step - loss: 21.6004 - mae: 21.6004\n",
            "Epoch 160/500\n",
            "2/2 [==============================] - 0s 6ms/step - loss: 19.9994 - mae: 19.9994\n",
            "Epoch 161/500\n",
            "2/2 [==============================] - 0s 7ms/step - loss: 21.8941 - mae: 21.8941\n",
            "Epoch 162/500\n",
            "2/2 [==============================] - 0s 7ms/step - loss: 41.7726 - mae: 41.7726\n",
            "Epoch 163/500\n",
            "2/2 [==============================] - 0s 7ms/step - loss: 7.6687 - mae: 7.6687\n",
            "Epoch 164/500\n",
            "2/2 [==============================] - 0s 8ms/step - loss: 29.3091 - mae: 29.3091\n",
            "Epoch 165/500\n",
            "2/2 [==============================] - 0s 7ms/step - loss: 18.4930 - mae: 18.4930\n",
            "Epoch 166/500\n",
            "2/2 [==============================] - 0s 7ms/step - loss: 25.4489 - mae: 25.4489\n",
            "Epoch 167/500\n",
            "2/2 [==============================] - 0s 10ms/step - loss: 28.5472 - mae: 28.5472\n",
            "Epoch 168/500\n",
            "2/2 [==============================] - 0s 7ms/step - loss: 9.6701 - mae: 9.6701\n",
            "Epoch 169/500\n",
            "2/2 [==============================] - 0s 5ms/step - loss: 30.2756 - mae: 30.2756\n",
            "Epoch 170/500\n",
            "2/2 [==============================] - 0s 5ms/step - loss: 21.7636 - mae: 21.7636\n",
            "Epoch 171/500\n",
            "2/2 [==============================] - 0s 5ms/step - loss: 7.4054 - mae: 7.4054\n",
            "Epoch 172/500\n",
            "2/2 [==============================] - 0s 4ms/step - loss: 18.7499 - mae: 18.7499\n",
            "Epoch 173/500\n",
            "2/2 [==============================] - 0s 8ms/step - loss: 17.9618 - mae: 17.9618\n",
            "Epoch 174/500\n",
            "2/2 [==============================] - 0s 5ms/step - loss: 26.7143 - mae: 26.7143\n",
            "Epoch 175/500\n",
            "2/2 [==============================] - 0s 9ms/step - loss: 27.1674 - mae: 27.1674\n",
            "Epoch 176/500\n",
            "2/2 [==============================] - 0s 4ms/step - loss: 8.2354 - mae: 8.2354\n",
            "Epoch 177/500\n",
            "2/2 [==============================] - 0s 13ms/step - loss: 23.4059 - mae: 23.4059\n",
            "Epoch 178/500\n",
            "2/2 [==============================] - 0s 4ms/step - loss: 19.9662 - mae: 19.9662\n",
            "Epoch 179/500\n",
            "2/2 [==============================] - 0s 4ms/step - loss: 22.1982 - mae: 22.1982\n",
            "Epoch 180/500\n",
            "2/2 [==============================] - 0s 4ms/step - loss: 9.0518 - mae: 9.0518\n",
            "Epoch 181/500\n",
            "2/2 [==============================] - 0s 4ms/step - loss: 28.9498 - mae: 28.9498\n",
            "Epoch 182/500\n",
            "2/2 [==============================] - 0s 4ms/step - loss: 26.5810 - mae: 26.5810\n",
            "Epoch 183/500\n",
            "2/2 [==============================] - 0s 4ms/step - loss: 10.7862 - mae: 10.7862\n",
            "Epoch 184/500\n",
            "2/2 [==============================] - 0s 15ms/step - loss: 41.5504 - mae: 41.5504\n",
            "Epoch 185/500\n",
            "2/2 [==============================] - 0s 7ms/step - loss: 7.4052 - mae: 7.4052\n",
            "Epoch 186/500\n",
            "2/2 [==============================] - 0s 5ms/step - loss: 31.3832 - mae: 31.3832\n",
            "Epoch 187/500\n",
            "2/2 [==============================] - 0s 4ms/step - loss: 20.0894 - mae: 20.0894\n",
            "Epoch 188/500\n",
            "2/2 [==============================] - 0s 4ms/step - loss: 22.6571 - mae: 22.6571\n",
            "Epoch 189/500\n",
            "2/2 [==============================] - 0s 10ms/step - loss: 34.1371 - mae: 34.1371\n",
            "Epoch 190/500\n",
            "2/2 [==============================] - 0s 4ms/step - loss: 7.7651 - mae: 7.7651\n",
            "Epoch 191/500\n",
            "2/2 [==============================] - 0s 5ms/step - loss: 24.4590 - mae: 24.4590\n",
            "Epoch 192/500\n",
            "2/2 [==============================] - 0s 7ms/step - loss: 16.6093 - mae: 16.6093\n",
            "Epoch 193/500\n",
            "2/2 [==============================] - 0s 6ms/step - loss: 17.7517 - mae: 17.7517\n",
            "Epoch 194/500\n",
            "2/2 [==============================] - 0s 6ms/step - loss: 25.7845 - mae: 25.7845\n",
            "Epoch 195/500\n",
            "2/2 [==============================] - 0s 5ms/step - loss: 32.7777 - mae: 32.7777\n",
            "Epoch 196/500\n",
            "2/2 [==============================] - 0s 7ms/step - loss: 7.3167 - mae: 7.3167\n",
            "Epoch 197/500\n",
            "2/2 [==============================] - 0s 6ms/step - loss: 21.8452 - mae: 21.8452\n",
            "Epoch 198/500\n",
            "2/2 [==============================] - 0s 7ms/step - loss: 17.1752 - mae: 17.1752\n",
            "Epoch 199/500\n",
            "2/2 [==============================] - 0s 5ms/step - loss: 26.5665 - mae: 26.5665\n",
            "Epoch 200/500\n",
            "2/2 [==============================] - 0s 6ms/step - loss: 28.7749 - mae: 28.7749\n",
            "Epoch 201/500\n",
            "2/2 [==============================] - 0s 8ms/step - loss: 12.7862 - mae: 12.7862\n",
            "Epoch 202/500\n",
            "2/2 [==============================] - 0s 5ms/step - loss: 20.1418 - mae: 20.1418\n",
            "Epoch 203/500\n",
            "2/2 [==============================] - 0s 8ms/step - loss: 7.2837 - mae: 7.2837\n",
            "Epoch 204/500\n",
            "2/2 [==============================] - 0s 10ms/step - loss: 6.7697 - mae: 6.7697\n",
            "Epoch 205/500\n",
            "2/2 [==============================] - 0s 14ms/step - loss: 17.2255 - mae: 17.2255\n",
            "Epoch 206/500\n",
            "2/2 [==============================] - 0s 8ms/step - loss: 20.3294 - mae: 20.3294\n",
            "Epoch 207/500\n",
            "2/2 [==============================] - 0s 4ms/step - loss: 19.7897 - mae: 19.7897\n",
            "Epoch 208/500\n",
            "2/2 [==============================] - 0s 10ms/step - loss: 6.8847 - mae: 6.8847\n",
            "Epoch 209/500\n",
            "2/2 [==============================] - 0s 5ms/step - loss: 21.5200 - mae: 21.5200\n",
            "Epoch 210/500\n",
            "2/2 [==============================] - 0s 4ms/step - loss: 20.6663 - mae: 20.6663\n",
            "Epoch 211/500\n",
            "2/2 [==============================] - 0s 7ms/step - loss: 17.1486 - mae: 17.1486\n",
            "Epoch 212/500\n",
            "2/2 [==============================] - 0s 4ms/step - loss: 20.9322 - mae: 20.9322\n",
            "Epoch 213/500\n",
            "2/2 [==============================] - 0s 3ms/step - loss: 21.4507 - mae: 21.4507\n",
            "Epoch 214/500\n",
            "2/2 [==============================] - 0s 4ms/step - loss: 12.8211 - mae: 12.8211\n",
            "Epoch 215/500\n",
            "2/2 [==============================] - 0s 8ms/step - loss: 20.1186 - mae: 20.1186\n",
            "Epoch 216/500\n",
            "2/2 [==============================] - 0s 4ms/step - loss: 17.5226 - mae: 17.5226\n",
            "Epoch 217/500\n",
            "2/2 [==============================] - 0s 7ms/step - loss: 32.9686 - mae: 32.9686\n",
            "Epoch 218/500\n",
            "2/2 [==============================] - 0s 6ms/step - loss: 16.6235 - mae: 16.6235\n",
            "Epoch 219/500\n",
            "2/2 [==============================] - 0s 7ms/step - loss: 16.4191 - mae: 16.4191\n",
            "Epoch 220/500\n",
            "2/2 [==============================] - 0s 4ms/step - loss: 29.3139 - mae: 29.3139\n",
            "Epoch 221/500\n",
            "2/2 [==============================] - 0s 8ms/step - loss: 24.5831 - mae: 24.5831\n",
            "Epoch 222/500\n",
            "2/2 [==============================] - 0s 4ms/step - loss: 19.7211 - mae: 19.7211\n",
            "Epoch 223/500\n",
            "2/2 [==============================] - 0s 8ms/step - loss: 24.3659 - mae: 24.3659\n",
            "Epoch 224/500\n",
            "2/2 [==============================] - 0s 4ms/step - loss: 33.5391 - mae: 33.5391\n",
            "Epoch 225/500\n",
            "2/2 [==============================] - 0s 7ms/step - loss: 7.8425 - mae: 7.8425\n",
            "Epoch 226/500\n",
            "2/2 [==============================] - 0s 4ms/step - loss: 26.2384 - mae: 26.2384\n",
            "Epoch 227/500\n",
            "2/2 [==============================] - 0s 4ms/step - loss: 18.7623 - mae: 18.7623\n",
            "Epoch 228/500\n",
            "2/2 [==============================] - 0s 4ms/step - loss: 19.2310 - mae: 19.2310\n",
            "Epoch 229/500\n",
            "2/2 [==============================] - 0s 4ms/step - loss: 6.5176 - mae: 6.5176\n",
            "Epoch 230/500\n",
            "2/2 [==============================] - 0s 4ms/step - loss: 12.5517 - mae: 12.5517\n",
            "Epoch 231/500\n",
            "2/2 [==============================] - 0s 4ms/step - loss: 17.9402 - mae: 17.9402\n",
            "Epoch 232/500\n",
            "2/2 [==============================] - 0s 4ms/step - loss: 26.1758 - mae: 26.1758\n",
            "Epoch 233/500\n",
            "2/2 [==============================] - 0s 4ms/step - loss: 31.8861 - mae: 31.8861\n",
            "Epoch 234/500\n",
            "2/2 [==============================] - 0s 5ms/step - loss: 17.8869 - mae: 17.8869\n",
            "Epoch 235/500\n",
            "2/2 [==============================] - 0s 4ms/step - loss: 22.6936 - mae: 22.6936\n",
            "Epoch 236/500\n",
            "2/2 [==============================] - 0s 3ms/step - loss: 34.8167 - mae: 34.8167\n",
            "Epoch 237/500\n",
            "2/2 [==============================] - 0s 4ms/step - loss: 7.1689 - mae: 7.1689\n",
            "Epoch 238/500\n",
            "2/2 [==============================] - 0s 4ms/step - loss: 18.1315 - mae: 18.1315\n",
            "Epoch 239/500\n",
            "2/2 [==============================] - 0s 4ms/step - loss: 24.4179 - mae: 24.4179\n",
            "Epoch 240/500\n",
            "2/2 [==============================] - 0s 4ms/step - loss: 32.0025 - mae: 32.0025\n",
            "Epoch 241/500\n",
            "2/2 [==============================] - 0s 4ms/step - loss: 11.4592 - mae: 11.4592\n",
            "Epoch 242/500\n",
            "2/2 [==============================] - 0s 4ms/step - loss: 22.2471 - mae: 22.2471\n",
            "Epoch 243/500\n",
            "2/2 [==============================] - 0s 8ms/step - loss: 20.0678 - mae: 20.0678\n",
            "Epoch 244/500\n",
            "2/2 [==============================] - 0s 4ms/step - loss: 20.1354 - mae: 20.1354\n",
            "Epoch 245/500\n",
            "2/2 [==============================] - 0s 4ms/step - loss: 23.2072 - mae: 23.2072\n",
            "Epoch 246/500\n",
            "2/2 [==============================] - 0s 4ms/step - loss: 18.1322 - mae: 18.1322\n",
            "Epoch 247/500\n",
            "2/2 [==============================] - 0s 4ms/step - loss: 23.0546 - mae: 23.0546\n",
            "Epoch 248/500\n",
            "2/2 [==============================] - 0s 3ms/step - loss: 19.4493 - mae: 19.4493\n",
            "Epoch 249/500\n",
            "2/2 [==============================] - 0s 4ms/step - loss: 25.6628 - mae: 25.6628\n",
            "Epoch 250/500\n",
            "2/2 [==============================] - 0s 8ms/step - loss: 32.4600 - mae: 32.4600\n",
            "Epoch 251/500\n",
            "2/2 [==============================] - 0s 4ms/step - loss: 13.2139 - mae: 13.2139\n",
            "Epoch 252/500\n",
            "2/2 [==============================] - 0s 4ms/step - loss: 21.4469 - mae: 21.4469\n",
            "Epoch 253/500\n",
            "2/2 [==============================] - 0s 4ms/step - loss: 9.9892 - mae: 9.9892\n",
            "Epoch 254/500\n",
            "2/2 [==============================] - 0s 4ms/step - loss: 25.9302 - mae: 25.9302\n",
            "Epoch 255/500\n",
            "2/2 [==============================] - 0s 12ms/step - loss: 31.8003 - mae: 31.8003\n",
            "Epoch 256/500\n",
            "2/2 [==============================] - 0s 5ms/step - loss: 20.0770 - mae: 20.0770\n",
            "Epoch 257/500\n",
            "2/2 [==============================] - 0s 6ms/step - loss: 22.6243 - mae: 22.6243\n",
            "Epoch 258/500\n",
            "2/2 [==============================] - 0s 5ms/step - loss: 16.9559 - mae: 16.9559\n",
            "Epoch 259/500\n",
            "2/2 [==============================] - 0s 5ms/step - loss: 20.4183 - mae: 20.4183\n",
            "Epoch 260/500\n",
            "2/2 [==============================] - 0s 7ms/step - loss: 22.9805 - mae: 22.9805\n",
            "Epoch 261/500\n",
            "2/2 [==============================] - 0s 7ms/step - loss: 17.3856 - mae: 17.3856\n",
            "Epoch 262/500\n",
            "2/2 [==============================] - 0s 5ms/step - loss: 28.9113 - mae: 28.9113\n",
            "Epoch 263/500\n",
            "2/2 [==============================] - 0s 5ms/step - loss: 27.3538 - mae: 27.3538\n",
            "Epoch 264/500\n",
            "2/2 [==============================] - 0s 4ms/step - loss: 20.3569 - mae: 20.3569\n",
            "Epoch 265/500\n",
            "2/2 [==============================] - 0s 5ms/step - loss: 28.4737 - mae: 28.4737\n",
            "Epoch 266/500\n",
            "2/2 [==============================] - 0s 7ms/step - loss: 29.1336 - mae: 29.1336\n",
            "Epoch 267/500\n",
            "2/2 [==============================] - 0s 7ms/step - loss: 18.8635 - mae: 18.8635\n",
            "Epoch 268/500\n",
            "2/2 [==============================] - 0s 4ms/step - loss: 19.6804 - mae: 19.6804\n",
            "Epoch 269/500\n",
            "2/2 [==============================] - 0s 7ms/step - loss: 6.5944 - mae: 6.5944\n",
            "Epoch 270/500\n",
            "2/2 [==============================] - 0s 5ms/step - loss: 20.2835 - mae: 20.2835\n",
            "Epoch 271/500\n",
            "2/2 [==============================] - 0s 5ms/step - loss: 19.7645 - mae: 19.7645\n",
            "Epoch 272/500\n",
            "2/2 [==============================] - 0s 7ms/step - loss: 29.1535 - mae: 29.1535\n",
            "Epoch 273/500\n",
            "2/2 [==============================] - 0s 12ms/step - loss: 23.4915 - mae: 23.4915\n",
            "Epoch 274/500\n",
            "2/2 [==============================] - 0s 12ms/step - loss: 14.0699 - mae: 14.0699\n",
            "Epoch 275/500\n",
            "2/2 [==============================] - 0s 9ms/step - loss: 29.7059 - mae: 29.7059\n",
            "Epoch 276/500\n",
            "2/2 [==============================] - 0s 3ms/step - loss: 24.4510 - mae: 24.4510\n",
            "Epoch 277/500\n",
            "2/2 [==============================] - 0s 5ms/step - loss: 6.3705 - mae: 6.3705\n",
            "Epoch 278/500\n",
            "2/2 [==============================] - 0s 8ms/step - loss: 6.6775 - mae: 6.6775\n",
            "Epoch 279/500\n",
            "2/2 [==============================] - 0s 8ms/step - loss: 23.0180 - mae: 23.0180\n",
            "Epoch 280/500\n",
            "2/2 [==============================] - 0s 4ms/step - loss: 19.2516 - mae: 19.2516\n",
            "Epoch 281/500\n",
            "2/2 [==============================] - 0s 3ms/step - loss: 22.5199 - mae: 22.5199\n",
            "Epoch 282/500\n",
            "2/2 [==============================] - 0s 4ms/step - loss: 36.2022 - mae: 36.2022\n",
            "Epoch 283/500\n",
            "2/2 [==============================] - 0s 3ms/step - loss: 18.1491 - mae: 18.1491\n",
            "Epoch 284/500\n",
            "2/2 [==============================] - 0s 4ms/step - loss: 21.0469 - mae: 21.0469\n",
            "Epoch 285/500\n",
            "2/2 [==============================] - 0s 3ms/step - loss: 18.6950 - mae: 18.6950\n",
            "Epoch 286/500\n",
            "2/2 [==============================] - 0s 3ms/step - loss: 6.8121 - mae: 6.8121\n",
            "Epoch 287/500\n",
            "2/2 [==============================] - 0s 3ms/step - loss: 33.6175 - mae: 33.6175\n",
            "Epoch 288/500\n",
            "2/2 [==============================] - 0s 4ms/step - loss: 8.8245 - mae: 8.8245\n",
            "Epoch 289/500\n",
            "2/2 [==============================] - 0s 4ms/step - loss: 27.3448 - mae: 27.3448\n",
            "Epoch 290/500\n",
            "2/2 [==============================] - 0s 3ms/step - loss: 8.7749 - mae: 8.7749\n",
            "Epoch 291/500\n",
            "2/2 [==============================] - 0s 7ms/step - loss: 31.6021 - mae: 31.6021\n",
            "Epoch 292/500\n",
            "2/2 [==============================] - 0s 3ms/step - loss: 17.4170 - mae: 17.4170\n",
            "Epoch 293/500\n",
            "2/2 [==============================] - 0s 4ms/step - loss: 19.3982 - mae: 19.3982\n",
            "Epoch 294/500\n",
            "2/2 [==============================] - 0s 4ms/step - loss: 20.5730 - mae: 20.5730\n",
            "Epoch 295/500\n",
            "2/2 [==============================] - 0s 8ms/step - loss: 41.4681 - mae: 41.4681\n",
            "Epoch 296/500\n",
            "2/2 [==============================] - 0s 4ms/step - loss: 19.9577 - mae: 19.9577\n",
            "Epoch 297/500\n",
            "2/2 [==============================] - 0s 4ms/step - loss: 19.6127 - mae: 19.6127\n",
            "Epoch 298/500\n",
            "2/2 [==============================] - 0s 4ms/step - loss: 21.2449 - mae: 21.2449\n",
            "Epoch 299/500\n",
            "2/2 [==============================] - 0s 4ms/step - loss: 5.8430 - mae: 5.8430\n",
            "Epoch 300/500\n",
            "2/2 [==============================] - 0s 4ms/step - loss: 5.7764 - mae: 5.7764\n",
            "Epoch 301/500\n",
            "2/2 [==============================] - 0s 3ms/step - loss: 18.0872 - mae: 18.0872\n",
            "Epoch 302/500\n",
            "2/2 [==============================] - 0s 4ms/step - loss: 8.2738 - mae: 8.2738\n",
            "Epoch 303/500\n",
            "2/2 [==============================] - 0s 4ms/step - loss: 29.6155 - mae: 29.6155\n",
            "Epoch 304/500\n",
            "2/2 [==============================] - 0s 4ms/step - loss: 27.0268 - mae: 27.0268\n",
            "Epoch 305/500\n",
            "2/2 [==============================] - 0s 4ms/step - loss: 18.1674 - mae: 18.1674\n",
            "Epoch 306/500\n",
            "2/2 [==============================] - 0s 4ms/step - loss: 22.5624 - mae: 22.5624\n",
            "Epoch 307/500\n",
            "2/2 [==============================] - 0s 4ms/step - loss: 32.2819 - mae: 32.2819\n",
            "Epoch 308/500\n",
            "2/2 [==============================] - 0s 5ms/step - loss: 15.1831 - mae: 15.1831\n",
            "Epoch 309/500\n",
            "2/2 [==============================] - 0s 4ms/step - loss: 18.8342 - mae: 18.8342\n",
            "Epoch 310/500\n",
            "2/2 [==============================] - 0s 5ms/step - loss: 21.5519 - mae: 21.5519\n",
            "Epoch 311/500\n",
            "2/2 [==============================] - 0s 4ms/step - loss: 24.8194 - mae: 24.8194\n",
            "Epoch 312/500\n",
            "2/2 [==============================] - 0s 4ms/step - loss: 5.7585 - mae: 5.7585\n",
            "Epoch 313/500\n",
            "2/2 [==============================] - 0s 9ms/step - loss: 15.9954 - mae: 15.9954\n",
            "Epoch 314/500\n",
            "2/2 [==============================] - 0s 4ms/step - loss: 36.8301 - mae: 36.8301\n",
            "Epoch 315/500\n",
            "2/2 [==============================] - 0s 10ms/step - loss: 6.1339 - mae: 6.1339\n",
            "Epoch 316/500\n",
            "2/2 [==============================] - 0s 10ms/step - loss: 19.6802 - mae: 19.6802\n",
            "Epoch 317/500\n",
            "2/2 [==============================] - 0s 4ms/step - loss: 29.7892 - mae: 29.7892\n",
            "Epoch 318/500\n",
            "2/2 [==============================] - 0s 5ms/step - loss: 25.8272 - mae: 25.8272\n",
            "Epoch 319/500\n",
            "2/2 [==============================] - 0s 4ms/step - loss: 14.0596 - mae: 14.0596\n",
            "Epoch 320/500\n",
            "2/2 [==============================] - 0s 4ms/step - loss: 23.9893 - mae: 23.9893\n",
            "Epoch 321/500\n",
            "2/2 [==============================] - 0s 8ms/step - loss: 28.9728 - mae: 28.9728\n",
            "Epoch 322/500\n",
            "2/2 [==============================] - 0s 3ms/step - loss: 20.7924 - mae: 20.7924\n",
            "Epoch 323/500\n",
            "2/2 [==============================] - 0s 8ms/step - loss: 20.9998 - mae: 20.9998\n",
            "Epoch 324/500\n",
            "2/2 [==============================] - 0s 5ms/step - loss: 22.8198 - mae: 22.8198\n",
            "Epoch 325/500\n",
            "2/2 [==============================] - 0s 15ms/step - loss: 36.2364 - mae: 36.2364\n",
            "Epoch 326/500\n",
            "2/2 [==============================] - 0s 9ms/step - loss: 7.6788 - mae: 7.6788\n",
            "Epoch 327/500\n",
            "2/2 [==============================] - 0s 11ms/step - loss: 39.7529 - mae: 39.7529\n",
            "Epoch 328/500\n",
            "2/2 [==============================] - 0s 11ms/step - loss: 17.2325 - mae: 17.2325\n",
            "Epoch 329/500\n",
            "2/2 [==============================] - 0s 8ms/step - loss: 21.7246 - mae: 21.7246\n",
            "Epoch 330/500\n",
            "2/2 [==============================] - 0s 9ms/step - loss: 38.7492 - mae: 38.7492\n",
            "Epoch 331/500\n",
            "2/2 [==============================] - 0s 4ms/step - loss: 14.8194 - mae: 14.8194\n",
            "Epoch 332/500\n",
            "2/2 [==============================] - 0s 9ms/step - loss: 12.0051 - mae: 12.0051\n",
            "Epoch 333/500\n",
            "2/2 [==============================] - 0s 4ms/step - loss: 25.0764 - mae: 25.0764\n",
            "Epoch 334/500\n",
            "2/2 [==============================] - 0s 8ms/step - loss: 31.9654 - mae: 31.9654\n",
            "Epoch 335/500\n",
            "2/2 [==============================] - 0s 7ms/step - loss: 17.9395 - mae: 17.9395\n",
            "Epoch 336/500\n",
            "2/2 [==============================] - 0s 5ms/step - loss: 24.6294 - mae: 24.6294\n",
            "Epoch 337/500\n",
            "2/2 [==============================] - 0s 5ms/step - loss: 26.7831 - mae: 26.7831\n",
            "Epoch 338/500\n",
            "2/2 [==============================] - 0s 4ms/step - loss: 17.0856 - mae: 17.0856\n",
            "Epoch 339/500\n",
            "2/2 [==============================] - 0s 11ms/step - loss: 6.1791 - mae: 6.1791\n",
            "Epoch 340/500\n",
            "2/2 [==============================] - 0s 8ms/step - loss: 20.9639 - mae: 20.9639\n",
            "Epoch 341/500\n",
            "2/2 [==============================] - 0s 8ms/step - loss: 17.8731 - mae: 17.8731\n",
            "Epoch 342/500\n",
            "2/2 [==============================] - 0s 6ms/step - loss: 22.1612 - mae: 22.1612\n",
            "Epoch 343/500\n",
            "2/2 [==============================] - 0s 9ms/step - loss: 6.4148 - mae: 6.4148\n",
            "Epoch 344/500\n",
            "2/2 [==============================] - 0s 6ms/step - loss: 51.7194 - mae: 51.7194\n",
            "Epoch 345/500\n",
            "2/2 [==============================] - 0s 5ms/step - loss: 21.2431 - mae: 21.2431\n",
            "Epoch 346/500\n",
            "2/2 [==============================] - 0s 9ms/step - loss: 21.8731 - mae: 21.8731\n",
            "Epoch 347/500\n",
            "2/2 [==============================] - 0s 5ms/step - loss: 34.2658 - mae: 34.2658\n",
            "Epoch 348/500\n",
            "2/2 [==============================] - 0s 5ms/step - loss: 19.8762 - mae: 19.8762\n",
            "Epoch 349/500\n",
            "2/2 [==============================] - 0s 5ms/step - loss: 15.2878 - mae: 15.2878\n",
            "Epoch 350/500\n",
            "2/2 [==============================] - 0s 5ms/step - loss: 19.1410 - mae: 19.1410\n",
            "Epoch 351/500\n",
            "2/2 [==============================] - 0s 5ms/step - loss: 27.4990 - mae: 27.4990\n",
            "Epoch 352/500\n",
            "2/2 [==============================] - 0s 5ms/step - loss: 26.1631 - mae: 26.1631\n",
            "Epoch 353/500\n",
            "2/2 [==============================] - 0s 6ms/step - loss: 6.9500 - mae: 6.9500\n",
            "Epoch 354/500\n",
            "2/2 [==============================] - 0s 4ms/step - loss: 25.2524 - mae: 25.2524\n",
            "Epoch 355/500\n",
            "2/2 [==============================] - 0s 11ms/step - loss: 30.2375 - mae: 30.2375\n",
            "Epoch 356/500\n",
            "2/2 [==============================] - 0s 5ms/step - loss: 13.2246 - mae: 13.2246\n",
            "Epoch 357/500\n",
            "2/2 [==============================] - 0s 4ms/step - loss: 21.4281 - mae: 21.4281\n",
            "Epoch 358/500\n",
            "2/2 [==============================] - 0s 6ms/step - loss: 20.2180 - mae: 20.2180\n",
            "Epoch 359/500\n",
            "2/2 [==============================] - 0s 7ms/step - loss: 19.0666 - mae: 19.0666\n",
            "Epoch 360/500\n",
            "2/2 [==============================] - 0s 6ms/step - loss: 26.7396 - mae: 26.7396\n",
            "Epoch 361/500\n",
            "2/2 [==============================] - 0s 4ms/step - loss: 29.4330 - mae: 29.4330\n",
            "Epoch 362/500\n",
            "2/2 [==============================] - 0s 12ms/step - loss: 13.7623 - mae: 13.7623\n",
            "Epoch 363/500\n",
            "2/2 [==============================] - 0s 6ms/step - loss: 8.0731 - mae: 8.0731\n",
            "Epoch 364/500\n",
            "2/2 [==============================] - 0s 11ms/step - loss: 28.3173 - mae: 28.3173\n",
            "Epoch 365/500\n",
            "2/2 [==============================] - 0s 10ms/step - loss: 28.7115 - mae: 28.7115\n",
            "Epoch 366/500\n",
            "2/2 [==============================] - 0s 8ms/step - loss: 19.1706 - mae: 19.1706\n",
            "Epoch 367/500\n",
            "2/2 [==============================] - 0s 4ms/step - loss: 18.8773 - mae: 18.8773\n",
            "Epoch 368/500\n",
            "2/2 [==============================] - 0s 4ms/step - loss: 27.5180 - mae: 27.5180\n",
            "Epoch 369/500\n",
            "2/2 [==============================] - 0s 4ms/step - loss: 30.8197 - mae: 30.8197\n",
            "Epoch 370/500\n",
            "2/2 [==============================] - 0s 8ms/step - loss: 16.5256 - mae: 16.5256\n",
            "Epoch 371/500\n",
            "2/2 [==============================] - 0s 4ms/step - loss: 20.1733 - mae: 20.1733\n",
            "Epoch 372/500\n",
            "2/2 [==============================] - 0s 4ms/step - loss: 17.6318 - mae: 17.6318\n",
            "Epoch 373/500\n",
            "2/2 [==============================] - 0s 9ms/step - loss: 23.7539 - mae: 23.7539\n",
            "Epoch 374/500\n",
            "2/2 [==============================] - 0s 4ms/step - loss: 39.7083 - mae: 39.7083\n",
            "Epoch 375/500\n",
            "2/2 [==============================] - 0s 4ms/step - loss: 13.7830 - mae: 13.7830\n",
            "Epoch 376/500\n",
            "2/2 [==============================] - 0s 7ms/step - loss: 24.4866 - mae: 24.4866\n",
            "Epoch 377/500\n",
            "2/2 [==============================] - 0s 10ms/step - loss: 37.0238 - mae: 37.0238\n",
            "Epoch 378/500\n",
            "2/2 [==============================] - 0s 11ms/step - loss: 20.6433 - mae: 20.6433\n",
            "Epoch 379/500\n",
            "2/2 [==============================] - 0s 7ms/step - loss: 21.2150 - mae: 21.2150\n",
            "Epoch 380/500\n",
            "2/2 [==============================] - 0s 6ms/step - loss: 19.1139 - mae: 19.1139\n",
            "Epoch 381/500\n",
            "2/2 [==============================] - 0s 7ms/step - loss: 26.3562 - mae: 26.3562\n",
            "Epoch 382/500\n",
            "2/2 [==============================] - 0s 4ms/step - loss: 29.0992 - mae: 29.0992\n",
            "Epoch 383/500\n",
            "2/2 [==============================] - 0s 4ms/step - loss: 19.1016 - mae: 19.1016\n",
            "Epoch 384/500\n",
            "2/2 [==============================] - 0s 7ms/step - loss: 17.0832 - mae: 17.0832\n",
            "Epoch 385/500\n",
            "2/2 [==============================] - 0s 10ms/step - loss: 28.5589 - mae: 28.5589\n",
            "Epoch 386/500\n",
            "2/2 [==============================] - 0s 4ms/step - loss: 4.8219 - mae: 4.8219\n",
            "Epoch 387/500\n",
            "2/2 [==============================] - 0s 7ms/step - loss: 12.8862 - mae: 12.8862\n",
            "Epoch 388/500\n",
            "2/2 [==============================] - 0s 4ms/step - loss: 24.0228 - mae: 24.0228\n",
            "Epoch 389/500\n",
            "2/2 [==============================] - 0s 8ms/step - loss: 38.5181 - mae: 38.5181\n",
            "Epoch 390/500\n",
            "2/2 [==============================] - 0s 5ms/step - loss: 10.5960 - mae: 10.5960\n",
            "Epoch 391/500\n",
            "2/2 [==============================] - 0s 9ms/step - loss: 33.2991 - mae: 33.2991\n",
            "Epoch 392/500\n",
            "2/2 [==============================] - 0s 4ms/step - loss: 18.0840 - mae: 18.0840\n",
            "Epoch 393/500\n",
            "2/2 [==============================] - 0s 10ms/step - loss: 31.7734 - mae: 31.7734\n",
            "Epoch 394/500\n",
            "2/2 [==============================] - 0s 6ms/step - loss: 21.3811 - mae: 21.3811\n",
            "Epoch 395/500\n",
            "2/2 [==============================] - 0s 6ms/step - loss: 19.4699 - mae: 19.4699\n",
            "Epoch 396/500\n",
            "2/2 [==============================] - 0s 5ms/step - loss: 30.6705 - mae: 30.6705\n",
            "Epoch 397/500\n",
            "2/2 [==============================] - 0s 7ms/step - loss: 19.4862 - mae: 19.4862\n",
            "Epoch 398/500\n",
            "2/2 [==============================] - 0s 6ms/step - loss: 16.0859 - mae: 16.0859\n",
            "Epoch 399/500\n",
            "2/2 [==============================] - 0s 4ms/step - loss: 29.7499 - mae: 29.7499\n",
            "Epoch 400/500\n",
            "2/2 [==============================] - 0s 6ms/step - loss: 23.3923 - mae: 23.3923\n",
            "Epoch 401/500\n",
            "2/2 [==============================] - 0s 10ms/step - loss: 20.0637 - mae: 20.0637\n",
            "Epoch 402/500\n",
            "2/2 [==============================] - 0s 3ms/step - loss: 23.1267 - mae: 23.1267\n",
            "Epoch 403/500\n",
            "2/2 [==============================] - 0s 9ms/step - loss: 36.6277 - mae: 36.6277\n",
            "Epoch 404/500\n",
            "2/2 [==============================] - 0s 8ms/step - loss: 19.2031 - mae: 19.2031\n",
            "Epoch 405/500\n",
            "2/2 [==============================] - 0s 7ms/step - loss: 19.6495 - mae: 19.6495\n",
            "Epoch 406/500\n",
            "2/2 [==============================] - 0s 6ms/step - loss: 27.4163 - mae: 27.4163\n",
            "Epoch 407/500\n",
            "2/2 [==============================] - 0s 5ms/step - loss: 28.8632 - mae: 28.8632\n",
            "Epoch 408/500\n",
            "2/2 [==============================] - 0s 4ms/step - loss: 19.4376 - mae: 19.4376\n",
            "Epoch 409/500\n",
            "2/2 [==============================] - 0s 5ms/step - loss: 19.7425 - mae: 19.7425\n",
            "Epoch 410/500\n",
            "2/2 [==============================] - 0s 4ms/step - loss: 32.0408 - mae: 32.0408\n",
            "Epoch 411/500\n",
            "2/2 [==============================] - 0s 10ms/step - loss: 15.4337 - mae: 15.4337\n",
            "Epoch 412/500\n",
            "2/2 [==============================] - 0s 4ms/step - loss: 18.8404 - mae: 18.8404\n",
            "Epoch 413/500\n",
            "2/2 [==============================] - 0s 6ms/step - loss: 30.5561 - mae: 30.5561\n",
            "Epoch 414/500\n",
            "2/2 [==============================] - 0s 4ms/step - loss: 20.1303 - mae: 20.1303\n",
            "Epoch 415/500\n",
            "2/2 [==============================] - 0s 17ms/step - loss: 14.1503 - mae: 14.1503\n",
            "Epoch 416/500\n",
            "2/2 [==============================] - 0s 6ms/step - loss: 29.7256 - mae: 29.7256\n",
            "Epoch 417/500\n",
            "2/2 [==============================] - 0s 8ms/step - loss: 26.4055 - mae: 26.4055\n",
            "Epoch 418/500\n",
            "2/2 [==============================] - 0s 4ms/step - loss: 19.8957 - mae: 19.8957\n",
            "Epoch 419/500\n",
            "2/2 [==============================] - 0s 6ms/step - loss: 21.4475 - mae: 21.4475\n",
            "Epoch 420/500\n",
            "2/2 [==============================] - 0s 4ms/step - loss: 37.0744 - mae: 37.0744\n",
            "Epoch 421/500\n",
            "2/2 [==============================] - 0s 8ms/step - loss: 19.8889 - mae: 19.8889\n",
            "Epoch 422/500\n",
            "2/2 [==============================] - 0s 11ms/step - loss: 18.3726 - mae: 18.3726\n",
            "Epoch 423/500\n",
            "2/2 [==============================] - 0s 8ms/step - loss: 28.5691 - mae: 28.5691\n",
            "Epoch 424/500\n",
            "2/2 [==============================] - 0s 4ms/step - loss: 29.2115 - mae: 29.2115\n",
            "Epoch 425/500\n",
            "2/2 [==============================] - 0s 7ms/step - loss: 12.3947 - mae: 12.3947\n",
            "Epoch 426/500\n",
            "2/2 [==============================] - 0s 5ms/step - loss: 23.1948 - mae: 23.1948\n",
            "Epoch 427/500\n",
            "2/2 [==============================] - 0s 5ms/step - loss: 28.5628 - mae: 28.5628\n",
            "Epoch 428/500\n",
            "2/2 [==============================] - 0s 5ms/step - loss: 17.0675 - mae: 17.0675\n",
            "Epoch 429/500\n",
            "2/2 [==============================] - 0s 7ms/step - loss: 30.6688 - mae: 30.6688\n",
            "Epoch 430/500\n",
            "2/2 [==============================] - 0s 5ms/step - loss: 22.3962 - mae: 22.3962\n",
            "Epoch 431/500\n",
            "2/2 [==============================] - 0s 4ms/step - loss: 12.9703 - mae: 12.9703\n",
            "Epoch 432/500\n",
            "2/2 [==============================] - 0s 5ms/step - loss: 16.1374 - mae: 16.1374\n",
            "Epoch 433/500\n",
            "2/2 [==============================] - 0s 7ms/step - loss: 7.8898 - mae: 7.8898\n",
            "Epoch 434/500\n",
            "2/2 [==============================] - 0s 4ms/step - loss: 37.3699 - mae: 37.3699\n",
            "Epoch 435/500\n",
            "2/2 [==============================] - 0s 4ms/step - loss: 19.9612 - mae: 19.9612\n",
            "Epoch 436/500\n",
            "2/2 [==============================] - 0s 5ms/step - loss: 20.8160 - mae: 20.8160\n",
            "Epoch 437/500\n",
            "2/2 [==============================] - 0s 9ms/step - loss: 20.8398 - mae: 20.8398\n",
            "Epoch 438/500\n",
            "2/2 [==============================] - 0s 3ms/step - loss: 18.9303 - mae: 18.9303\n",
            "Epoch 439/500\n",
            "2/2 [==============================] - 0s 4ms/step - loss: 28.3370 - mae: 28.3370\n",
            "Epoch 440/500\n",
            "2/2 [==============================] - 0s 4ms/step - loss: 27.7503 - mae: 27.7503\n",
            "Epoch 441/500\n",
            "2/2 [==============================] - 0s 4ms/step - loss: 6.1891 - mae: 6.1891\n",
            "Epoch 442/500\n",
            "2/2 [==============================] - 0s 6ms/step - loss: 40.2744 - mae: 40.2744\n",
            "Epoch 443/500\n",
            "2/2 [==============================] - 0s 4ms/step - loss: 17.3016 - mae: 17.3016\n",
            "Epoch 444/500\n",
            "2/2 [==============================] - 0s 4ms/step - loss: 20.0042 - mae: 20.0042\n",
            "Epoch 445/500\n",
            "2/2 [==============================] - 0s 3ms/step - loss: 17.4537 - mae: 17.4537\n",
            "Epoch 446/500\n",
            "2/2 [==============================] - 0s 4ms/step - loss: 20.3412 - mae: 20.3412\n",
            "Epoch 447/500\n",
            "2/2 [==============================] - 0s 6ms/step - loss: 18.5959 - mae: 18.5959\n",
            "Epoch 448/500\n",
            "2/2 [==============================] - 0s 4ms/step - loss: 23.9749 - mae: 23.9749\n",
            "Epoch 449/500\n",
            "2/2 [==============================] - 0s 3ms/step - loss: 33.9745 - mae: 33.9745\n",
            "Epoch 450/500\n",
            "2/2 [==============================] - 0s 5ms/step - loss: 9.4867 - mae: 9.4867\n",
            "Epoch 451/500\n",
            "2/2 [==============================] - 0s 6ms/step - loss: 35.1017 - mae: 35.1017\n",
            "Epoch 452/500\n",
            "2/2 [==============================] - 0s 3ms/step - loss: 19.1703 - mae: 19.1703\n",
            "Epoch 453/500\n",
            "2/2 [==============================] - 0s 4ms/step - loss: 21.8623 - mae: 21.8623\n",
            "Epoch 454/500\n",
            "2/2 [==============================] - 0s 8ms/step - loss: 18.1313 - mae: 18.1313\n",
            "Epoch 455/500\n",
            "2/2 [==============================] - 0s 6ms/step - loss: 23.0706 - mae: 23.0706\n",
            "Epoch 456/500\n",
            "2/2 [==============================] - 0s 7ms/step - loss: 35.7957 - mae: 35.7957\n",
            "Epoch 457/500\n",
            "2/2 [==============================] - 0s 6ms/step - loss: 19.1558 - mae: 19.1558\n",
            "Epoch 458/500\n",
            "2/2 [==============================] - 0s 8ms/step - loss: 19.1115 - mae: 19.1115\n",
            "Epoch 459/500\n",
            "2/2 [==============================] - 0s 7ms/step - loss: 27.4022 - mae: 27.4022\n",
            "Epoch 460/500\n",
            "2/2 [==============================] - 0s 5ms/step - loss: 31.8370 - mae: 31.8370\n",
            "Epoch 461/500\n",
            "2/2 [==============================] - 0s 8ms/step - loss: 19.7555 - mae: 19.7555\n",
            "Epoch 462/500\n",
            "2/2 [==============================] - 0s 8ms/step - loss: 17.7716 - mae: 17.7716\n",
            "Epoch 463/500\n",
            "2/2 [==============================] - 0s 10ms/step - loss: 23.6951 - mae: 23.6951\n",
            "Epoch 464/500\n",
            "2/2 [==============================] - 0s 7ms/step - loss: 18.7164 - mae: 18.7164\n",
            "Epoch 465/500\n",
            "2/2 [==============================] - 0s 6ms/step - loss: 17.2333 - mae: 17.2333\n",
            "Epoch 466/500\n",
            "2/2 [==============================] - 0s 6ms/step - loss: 4.2805 - mae: 4.2805\n",
            "Epoch 467/500\n",
            "2/2 [==============================] - 0s 7ms/step - loss: 4.3498 - mae: 4.3498\n",
            "Epoch 468/500\n",
            "2/2 [==============================] - 0s 9ms/step - loss: 19.6804 - mae: 19.6804\n",
            "Epoch 469/500\n",
            "2/2 [==============================] - 0s 7ms/step - loss: 19.3144 - mae: 19.3144\n",
            "Epoch 470/500\n",
            "2/2 [==============================] - 0s 6ms/step - loss: 26.2520 - mae: 26.2520\n",
            "Epoch 471/500\n",
            "2/2 [==============================] - 0s 5ms/step - loss: 30.9448 - mae: 30.9448\n",
            "Epoch 472/500\n",
            "2/2 [==============================] - 0s 7ms/step - loss: 19.7603 - mae: 19.7603\n",
            "Epoch 473/500\n",
            "2/2 [==============================] - 0s 6ms/step - loss: 23.4737 - mae: 23.4737\n",
            "Epoch 474/500\n",
            "2/2 [==============================] - 0s 6ms/step - loss: 36.2581 - mae: 36.2581\n",
            "Epoch 475/500\n",
            "2/2 [==============================] - 0s 6ms/step - loss: 17.9939 - mae: 17.9939\n",
            "Epoch 476/500\n",
            "2/2 [==============================] - 0s 9ms/step - loss: 17.8945 - mae: 17.8945\n",
            "Epoch 477/500\n",
            "2/2 [==============================] - 0s 7ms/step - loss: 31.9580 - mae: 31.9580\n",
            "Epoch 478/500\n",
            "2/2 [==============================] - 0s 7ms/step - loss: 20.1564 - mae: 20.1564\n",
            "Epoch 479/500\n",
            "2/2 [==============================] - 0s 8ms/step - loss: 18.5650 - mae: 18.5650\n",
            "Epoch 480/500\n",
            "2/2 [==============================] - 0s 7ms/step - loss: 19.5039 - mae: 19.5039\n",
            "Epoch 481/500\n",
            "2/2 [==============================] - 0s 9ms/step - loss: 23.7418 - mae: 23.7418\n",
            "Epoch 482/500\n",
            "2/2 [==============================] - 0s 6ms/step - loss: 31.1139 - mae: 31.1139\n",
            "Epoch 483/500\n",
            "2/2 [==============================] - 0s 7ms/step - loss: 17.9790 - mae: 17.9790\n",
            "Epoch 484/500\n",
            "2/2 [==============================] - 0s 10ms/step - loss: 29.1399 - mae: 29.1399\n",
            "Epoch 485/500\n",
            "2/2 [==============================] - 0s 7ms/step - loss: 26.3997 - mae: 26.3997\n",
            "Epoch 486/500\n",
            "2/2 [==============================] - 0s 7ms/step - loss: 18.8010 - mae: 18.8010\n",
            "Epoch 487/500\n",
            "2/2 [==============================] - 0s 6ms/step - loss: 24.4569 - mae: 24.4569\n",
            "Epoch 488/500\n",
            "2/2 [==============================] - 0s 7ms/step - loss: 30.4880 - mae: 30.4880\n",
            "Epoch 489/500\n",
            "2/2 [==============================] - 0s 9ms/step - loss: 16.8253 - mae: 16.8253\n",
            "Epoch 490/500\n",
            "2/2 [==============================] - 0s 5ms/step - loss: 23.2698 - mae: 23.2698\n",
            "Epoch 491/500\n",
            "2/2 [==============================] - 0s 8ms/step - loss: 40.8538 - mae: 40.8538\n",
            "Epoch 492/500\n",
            "2/2 [==============================] - 0s 7ms/step - loss: 19.9195 - mae: 19.9195\n",
            "Epoch 493/500\n",
            "2/2 [==============================] - 0s 8ms/step - loss: 16.9342 - mae: 16.9342\n",
            "Epoch 494/500\n",
            "2/2 [==============================] - 0s 7ms/step - loss: 20.2143 - mae: 20.2143\n",
            "Epoch 495/500\n",
            "2/2 [==============================] - 0s 10ms/step - loss: 20.2847 - mae: 20.2847\n",
            "Epoch 496/500\n",
            "2/2 [==============================] - 0s 10ms/step - loss: 19.5366 - mae: 19.5366\n",
            "Epoch 497/500\n",
            "2/2 [==============================] - 0s 7ms/step - loss: 27.2176 - mae: 27.2176\n",
            "Epoch 498/500\n",
            "2/2 [==============================] - 0s 10ms/step - loss: 30.1125 - mae: 30.1125\n",
            "Epoch 499/500\n",
            "2/2 [==============================] - 0s 8ms/step - loss: 4.9585 - mae: 4.9585\n",
            "Epoch 500/500\n",
            "2/2 [==============================] - 0s 7ms/step - loss: 34.8032 - mae: 34.8032\n"
          ]
        },
        {
          "output_type": "execute_result",
          "data": {
            "text/plain": [
              "<keras.callbacks.History at 0x7f2f6e72dd10>"
            ]
          },
          "metadata": {},
          "execution_count": 50
        }
      ]
    },
    {
      "cell_type": "code",
      "source": [
        "#make and plot predictions for model_2\n",
        "y_pred_3=model_3.predict(X_Test)\n",
        "plot_predictions(predictions=y_pred_3)"
      ],
      "metadata": {
        "colab": {
          "base_uri": "https://localhost:8080/",
          "height": 428
        },
        "id": "zu5RYIIV3uT_",
        "outputId": "11c765bb-38b4-46fe-f3df-b136a0caf23c"
      },
      "execution_count": 51,
      "outputs": [
        {
          "output_type": "display_data",
          "data": {
            "image/png": "[encoded data removed]",
            "text/plain": [
              "<Figure size 720x504 with 1 Axes>"
            ]
          },
          "metadata": {
            "needs_background": "light"
          }
        }
      ]
    },
    {
      "cell_type": "code",
      "source": [
        "#calculate model_2 evaluation metrics\n",
        "mae_3=mae(y_Test, y_pred_3)\n",
        "mse_3=mse(y_Test, y_pred_3)\n",
        "mae_3, mse_3"
      ],
      "metadata": {
        "colab": {
          "base_uri": "https://localhost:8080/"
        },
        "id": "InLdOAvd32_S",
        "outputId": "9d563d83-6016-4af2-a4c1-850d2f453ce1"
      },
      "execution_count": 52,
      "outputs": [
        {
          "output_type": "execute_result",
          "data": {
            "text/plain": [
              "(<tf.Tensor: shape=(), dtype=float32, numpy=15.080874>,\n",
              " <tf.Tensor: shape=(), dtype=float32, numpy=235.06535>)"
            ]
          },
          "metadata": {},
          "execution_count": 52
        }
      ]
    },
    {
      "cell_type": "markdown",
      "source": [
        "###Compare our experiment results"
      ],
      "metadata": {
        "id": "YWuM8srK3-Su"
      }
    },
    {
      "cell_type": "code",
      "source": [
        "import pandas as pd\n",
        "\n",
        "model_results= [[\"model_1\", mae_1.numpy(), mse_1.numpy()],\n",
        "                [\"model_2\", mae_2.numpy(), mse_2.numpy()],\n",
        "                [\"model_3\", mae_3.numpy(), mse_3.numpy()]]\n",
        "\n"
      ],
      "metadata": {
        "id": "KNyKJPLV4YHI"
      },
      "execution_count": 53,
      "outputs": []
    },
    {
      "cell_type": "code",
      "source": [
        "all_results= pd.DataFrame(model_results, columns=[\"model\", \"mae\", \"mse\"])\n",
        "all_results"
      ],
      "metadata": {
        "colab": {
          "base_uri": "https://localhost:8080/",
          "height": 143
        },
        "id": "hsIQNo545I5r",
        "outputId": "22d473d7-7c4f-448d-b79d-6cb1f898f01f"
      },
      "execution_count": 54,
      "outputs": [
        {
          "output_type": "execute_result",
          "data": {
            "text/html": [
              "\n",
              "  <div id=\"df-779b3d16-e383-42e2-9843-d5e8a373f0dd\">\n",
              "    <div class=\"colab-df-container\">\n",
              "      <div>\n",
              "<style scoped>\n",
              "    .dataframe tbody tr th:only-of-type {\n",
              "        vertical-align: middle;\n",
              "    }\n",
              "\n",
              "    .dataframe tbody tr th {\n",
              "        vertical-align: top;\n",
              "    }\n",
              "\n",
              "    .dataframe thead th {\n",
              "        text-align: right;\n",
              "    }\n",
              "</style>\n",
              "<table border=\"1\" class=\"dataframe\">\n",
              "  <thead>\n",
              "    <tr style=\"text-align: right;\">\n",
              "      <th></th>\n",
              "      <th>model</th>\n",
              "      <th>mae</th>\n",
              "      <th>mse</th>\n",
              "    </tr>\n",
              "  </thead>\n",
              "  <tbody>\n",
              "    <tr>\n",
              "      <th>0</th>\n",
              "      <td>model_1</td>\n",
              "      <td>17.272385</td>\n",
              "      <td>300.037292</td>\n",
              "    </tr>\n",
              "    <tr>\n",
              "      <th>1</th>\n",
              "      <td>model_2</td>\n",
              "      <td>33.827583</td>\n",
              "      <td>1158.234131</td>\n",
              "    </tr>\n",
              "    <tr>\n",
              "      <th>2</th>\n",
              "      <td>model_3</td>\n",
              "      <td>15.080874</td>\n",
              "      <td>235.065353</td>\n",
              "    </tr>\n",
              "  </tbody>\n",
              "</table>\n",
              "</div>\n",
              "      <button class=\"colab-df-convert\" onclick=\"convertToInteractive('df-779b3d16-e383-42e2-9843-d5e8a373f0dd')\"\n",
              "              title=\"Convert this dataframe to an interactive table.\"\n",
              "              style=\"display:none;\">\n",
              "        \n",
              "  <svg xmlns=\"http://www.w3.org/2000/svg\" height=\"24px\"viewBox=\"0 0 24 24\"\n",
              "       width=\"24px\">\n",
              "    <path d=\"M0 0h24v24H0V0z\" fill=\"none\"/>\n",
              "    <path d=\"M18.56 5.44l.94 2.06.94-2.06 2.06-.94-2.06-.94-.94-2.06-.94 2.06-2.06.94zm-11 1L8.5 8.5l.94-2.06 2.06-.94-2.06-.94L8.5 2.5l-.94 2.06-2.06.94zm10 10l.94 2.06.94-2.06 2.06-.94-2.06-.94-.94-2.06-.94 2.06-2.06.94z\"/><path d=\"M17.41 7.96l-1.37-1.37c-.4-.4-.92-.59-1.43-.59-.52 0-1.04.2-1.43.59L10.3 9.45l-7.72 7.72c-.78.78-.78 2.05 0 2.83L4 21.41c.39.39.9.59 1.41.59.51 0 1.02-.2 1.41-.59l7.78-7.78 2.81-2.81c.8-.78.8-2.07 0-2.86zM5.41 20L4 18.59l7.72-7.72 1.47 1.35L5.41 20z\"/>\n",
              "  </svg>\n",
              "      </button>\n",
              "      \n",
              "  <style>\n",
              "    .colab-df-container {\n",
              "      display:flex;\n",
              "      flex-wrap:wrap;\n",
              "      gap: 12px;\n",
              "    }\n",
              "\n",
              "    .colab-df-convert {\n",
              "      background-color: #E8F0FE;\n",
              "      border: none;\n",
              "      border-radius: 50%;\n",
              "      cursor: pointer;\n",
              "      display: none;\n",
              "      fill: #1967D2;\n",
              "      height: 32px;\n",
              "      padding: 0 0 0 0;\n",
              "      width: 32px;\n",
              "    }\n",
              "\n",
              "    .colab-df-convert:hover {\n",
              "      background-color: #E2EBFA;\n",
              "      box-shadow: 0px 1px 2px rgba(60, 64, 67, 0.3), 0px 1px 3px 1px rgba(60, 64, 67, 0.15);\n",
              "      fill: #174EA6;\n",
              "    }\n",
              "\n",
              "    [theme=dark] .colab-df-convert {\n",
              "      background-color: #3B4455;\n",
              "      fill: #D2E3FC;\n",
              "    }\n",
              "\n",
              "    [theme=dark] .colab-df-convert:hover {\n",
              "      background-color: #434B5C;\n",
              "      box-shadow: 0px 1px 3px 1px rgba(0, 0, 0, 0.15);\n",
              "      filter: drop-shadow(0px 1px 2px rgba(0, 0, 0, 0.3));\n",
              "      fill: #FFFFFF;\n",
              "    }\n",
              "  </style>\n",
              "\n",
              "      <script>\n",
              "        const buttonEl =\n",
              "          document.querySelector('#df-779b3d16-e383-42e2-9843-d5e8a373f0dd button.colab-df-convert');\n",
              "        buttonEl.style.display =\n",
              "          google.colab.kernel.accessAllowed ? 'block' : 'none';\n",
              "\n",
              "        async function convertToInteractive(key) {\n",
              "          const element = document.querySelector('#df-779b3d16-e383-42e2-9843-d5e8a373f0dd');\n",
              "          const dataTable =\n",
              "            await google.colab.kernel.invokeFunction('convertToInteractive',\n",
              "                                                     [key], {});\n",
              "          if (!dataTable) return;\n",
              "\n",
              "          const docLinkHtml = 'Like what you see? Visit the ' +\n",
              "            '<a target=\"_blank\" href=https://colab.research.google.com/notebooks/data_table.ipynb>data table notebook</a>'\n",
              "            + ' to learn more about interactive tables.';\n",
              "          element.innerHTML = '';\n",
              "          dataTable['output_type'] = 'display_data';\n",
              "          await google.colab.output.renderOutput(dataTable, element);\n",
              "          const docLink = document.createElement('div');\n",
              "          docLink.innerHTML = docLinkHtml;\n",
              "          element.appendChild(docLink);\n",
              "        }\n",
              "      </script>\n",
              "    </div>\n",
              "  </div>\n",
              "  "
            ],
            "text/plain": [
              "     model        mae          mse\n",
              "0  model_1  17.272385   300.037292\n",
              "1  model_2  33.827583  1158.234131\n",
              "2  model_3  15.080874   235.065353"
            ]
          },
          "metadata": {},
          "execution_count": 54
        }
      ]
    },
    {
      "cell_type": "markdown",
      "source": [
        "###Saving the model\n",
        "\n",
        "1. SavedModel format\n",
        "\n",
        "2. HDF5 format"
      ],
      "metadata": {
        "id": "ngDykY7E6IR0"
      }
    },
    {
      "cell_type": "code",
      "source": [
        "#save model\n",
        "model_2.save(\"best_model_savedmodel_format\")"
      ],
      "metadata": {
        "colab": {
          "base_uri": "https://localhost:8080/"
        },
        "id": "_RqdkkwiuUxZ",
        "outputId": "70cc6d55-04ba-4cf7-9bdd-8f2d3e7523f3"
      },
      "execution_count": 55,
      "outputs": [
        {
          "output_type": "stream",
          "name": "stdout",
          "text": [
            "INFO:tensorflow:Assets written to: best_model_savedmodel_format/assets\n"
          ]
        }
      ]
    },
    {
      "cell_type": "code",
      "source": [
        "#save model using HDF5 format\n",
        "model_2.save(\"best_model_HDF5_format.h5\")"
      ],
      "metadata": {
        "id": "nVWFsUxYvKK8"
      },
      "execution_count": 56,
      "outputs": []
    },
    {
      "cell_type": "markdown",
      "source": [
        "##Loading the model from saved model"
      ],
      "metadata": {
        "id": "F92AOQ6Kv1OF"
      }
    },
    {
      "cell_type": "code",
      "source": [
        "#load in the savedmodel format\n",
        "loaded_SavedModel_format=tf.keras.models.load_model(\"best_model_savedmodel_format\")"
      ],
      "metadata": {
        "id": "audrzYQbwU8w"
      },
      "execution_count": 57,
      "outputs": []
    },
    {
      "cell_type": "code",
      "source": [
        "loaded_SavedModel_format.summary()"
      ],
      "metadata": {
        "colab": {
          "base_uri": "https://localhost:8080/"
        },
        "id": "Sx53pmSXwYlH",
        "outputId": "08491b36-95a2-4c10-c70d-32b72037f61d"
      },
      "execution_count": 58,
      "outputs": [
        {
          "output_type": "stream",
          "name": "stdout",
          "text": [
            "Model: \"sequential_5\"\n",
            "_________________________________________________________________\n",
            " Layer (type)                Output Shape              Param #   \n",
            "=================================================================\n",
            " dense_7 (Dense)             (None, 10)                20        \n",
            "                                                                 \n",
            " dense_8 (Dense)             (None, 1)                 11        \n",
            "                                                                 \n",
            "=================================================================\n",
            "Total params: 31\n",
            "Trainable params: 31\n",
            "Non-trainable params: 0\n",
            "_________________________________________________________________\n"
          ]
        }
      ]
    },
    {
      "cell_type": "code",
      "source": [
        "loaded_h5_model= tf.keras.models.load_model(\"/content/best_model_HDF5_format.h5\")"
      ],
      "metadata": {
        "id": "k4ZNk3fcwu3u"
      },
      "execution_count": 59,
      "outputs": []
    },
    {
      "cell_type": "code",
      "source": [
        "loaded_h5_model.summary()"
      ],
      "metadata": {
        "colab": {
          "base_uri": "https://localhost:8080/"
        },
        "id": "UOVGBlf7yUEA",
        "outputId": "ee7e756a-2c1b-45a0-ba58-adf3bec87046"
      },
      "execution_count": 60,
      "outputs": [
        {
          "output_type": "stream",
          "name": "stdout",
          "text": [
            "Model: \"sequential_5\"\n",
            "_________________________________________________________________\n",
            " Layer (type)                Output Shape              Param #   \n",
            "=================================================================\n",
            " dense_7 (Dense)             (None, 10)                20        \n",
            "                                                                 \n",
            " dense_8 (Dense)             (None, 1)                 11        \n",
            "                                                                 \n",
            "=================================================================\n",
            "Total params: 31\n",
            "Trainable params: 31\n",
            "Non-trainable params: 0\n",
            "_________________________________________________________________\n"
          ]
        }
      ]
    },
    {
      "cell_type": "markdown",
      "source": [
        "##Download a model from a google colab\n",
        "\n",
        "1. go to \"files\" tab and right click on the target file and click download\n",
        "\n",
        "2. use download coding\n",
        "\n",
        "3. save in google drive"
      ],
      "metadata": {
        "id": "v8vnjcvl0ux8"
      }
    },
    {
      "cell_type": "code",
      "source": [
        "#download a file from google colab\n",
        "from google.colab import files\n",
        "files.download(\"/content/best_model_HDF5_format.h5\")"
      ],
      "metadata": {
        "colab": {
          "base_uri": "https://localhost:8080/",
          "height": 17
        },
        "id": "ToUCiBCTeLeG",
        "outputId": "52d729fe-fc13-4afb-c968-37f2d57b57c8"
      },
      "execution_count": 61,
      "outputs": [
        {
          "output_type": "display_data",
          "data": {
            "application/javascript": [
              "\n",
              "    async function download(id, filename, size) {\n",
              "      if (!google.colab.kernel.accessAllowed) {\n",
              "        return;\n",
              "      }\n",
              "      const div = document.createElement('div');\n",
              "      const label = document.createElement('label');\n",
              "      label.textContent = `Downloading \"${filename}\": `;\n",
              "      div.appendChild(label);\n",
              "      const progress = document.createElement('progress');\n",
              "      progress.max = size;\n",
              "      div.appendChild(progress);\n",
              "      document.body.appendChild(div);\n",
              "\n",
              "      const buffers = [];\n",
              "      let downloaded = 0;\n",
              "\n",
              "      const channel = await google.colab.kernel.comms.open(id);\n",
              "      // Send a message to notify the kernel that we're ready.\n",
              "      channel.send({})\n",
              "\n",
              "      for await (const message of channel.messages) {\n",
              "        // Send a message to notify the kernel that we're ready.\n",
              "        channel.send({})\n",
              "        if (message.buffers) {\n",
              "          for (const buffer of message.buffers) {\n",
              "            buffers.push(buffer);\n",
              "            downloaded += buffer.byteLength;\n",
              "            progress.value = downloaded;\n",
              "          }\n",
              "        }\n",
              "      }\n",
              "      const blob = new Blob(buffers, {type: 'application/binary'});\n",
              "      const a = document.createElement('a');\n",
              "      a.href = window.URL.createObjectURL(blob);\n",
              "      a.download = filename;\n",
              "      div.appendChild(a);\n",
              "      a.click();\n",
              "      div.remove();\n",
              "    }\n",
              "  "
            ],
            "text/plain": [
              "<IPython.core.display.Javascript object>"
            ]
          },
          "metadata": {}
        },
        {
          "output_type": "display_data",
          "data": {
            "application/javascript": [
              "download(\"download_1a580d26-7c80-4cdf-bb58-5682f0a3a897\", \"best_model_HDF5_format.h5\", 17872)"
            ],
            "text/plain": [
              "<IPython.core.display.Javascript object>"
            ]
          },
          "metadata": {}
        }
      ]
    },
    {
      "cell_type": "code",
      "source": [
        "#save a file into google drive\n",
        "#!cp /content/best_model_HDF5_format.h5 /content/drive/MyDrive"
      ],
      "metadata": {
        "id": "FefvPXc_fBZB"
      },
      "execution_count": 62,
      "outputs": []
    },
    {
      "cell_type": "code",
      "source": [
        "#read in the insurance dataset\n",
        "insurance= pd.read_csv(\"med-insurance.csv\")\n",
        "insurance"
      ],
      "metadata": {
        "id": "lgztwnajfahR",
        "colab": {
          "base_uri": "https://localhost:8080/",
          "height": 424
        },
        "outputId": "7af3c796-47a2-4ca1-dc25-2cf885d3c81c"
      },
      "execution_count": 64,
      "outputs": [
        {
          "output_type": "execute_result",
          "data": {
            "text/html": [
              "\n",
              "  <div id=\"df-025555a5-6126-46d8-b28d-e841b213867f\">\n",
              "    <div class=\"colab-df-container\">\n",
              "      <div>\n",
              "<style scoped>\n",
              "    .dataframe tbody tr th:only-of-type {\n",
              "        vertical-align: middle;\n",
              "    }\n",
              "\n",
              "    .dataframe tbody tr th {\n",
              "        vertical-align: top;\n",
              "    }\n",
              "\n",
              "    .dataframe thead th {\n",
              "        text-align: right;\n",
              "    }\n",
              "</style>\n",
              "<table border=\"1\" class=\"dataframe\">\n",
              "  <thead>\n",
              "    <tr style=\"text-align: right;\">\n",
              "      <th></th>\n",
              "      <th>age</th>\n",
              "      <th>sex</th>\n",
              "      <th>bmi</th>\n",
              "      <th>children</th>\n",
              "      <th>smoker</th>\n",
              "      <th>region</th>\n",
              "      <th>expenses</th>\n",
              "    </tr>\n",
              "  </thead>\n",
              "  <tbody>\n",
              "    <tr>\n",
              "      <th>0</th>\n",
              "      <td>19</td>\n",
              "      <td>female</td>\n",
              "      <td>27.9</td>\n",
              "      <td>0</td>\n",
              "      <td>yes</td>\n",
              "      <td>southwest</td>\n",
              "      <td>16884.92</td>\n",
              "    </tr>\n",
              "    <tr>\n",
              "      <th>1</th>\n",
              "      <td>18</td>\n",
              "      <td>male</td>\n",
              "      <td>33.8</td>\n",
              "      <td>1</td>\n",
              "      <td>no</td>\n",
              "      <td>southeast</td>\n",
              "      <td>1725.55</td>\n",
              "    </tr>\n",
              "    <tr>\n",
              "      <th>2</th>\n",
              "      <td>28</td>\n",
              "      <td>male</td>\n",
              "      <td>33.0</td>\n",
              "      <td>3</td>\n",
              "      <td>no</td>\n",
              "      <td>southeast</td>\n",
              "      <td>4449.46</td>\n",
              "    </tr>\n",
              "    <tr>\n",
              "      <th>3</th>\n",
              "      <td>33</td>\n",
              "      <td>male</td>\n",
              "      <td>22.7</td>\n",
              "      <td>0</td>\n",
              "      <td>no</td>\n",
              "      <td>northwest</td>\n",
              "      <td>21984.47</td>\n",
              "    </tr>\n",
              "    <tr>\n",
              "      <th>4</th>\n",
              "      <td>32</td>\n",
              "      <td>male</td>\n",
              "      <td>28.9</td>\n",
              "      <td>0</td>\n",
              "      <td>no</td>\n",
              "      <td>northwest</td>\n",
              "      <td>3866.86</td>\n",
              "    </tr>\n",
              "    <tr>\n",
              "      <th>...</th>\n",
              "      <td>...</td>\n",
              "      <td>...</td>\n",
              "      <td>...</td>\n",
              "      <td>...</td>\n",
              "      <td>...</td>\n",
              "      <td>...</td>\n",
              "      <td>...</td>\n",
              "    </tr>\n",
              "    <tr>\n",
              "      <th>1333</th>\n",
              "      <td>50</td>\n",
              "      <td>male</td>\n",
              "      <td>31.0</td>\n",
              "      <td>3</td>\n",
              "      <td>no</td>\n",
              "      <td>northwest</td>\n",
              "      <td>10600.55</td>\n",
              "    </tr>\n",
              "    <tr>\n",
              "      <th>1334</th>\n",
              "      <td>18</td>\n",
              "      <td>female</td>\n",
              "      <td>31.9</td>\n",
              "      <td>0</td>\n",
              "      <td>no</td>\n",
              "      <td>northeast</td>\n",
              "      <td>2205.98</td>\n",
              "    </tr>\n",
              "    <tr>\n",
              "      <th>1335</th>\n",
              "      <td>18</td>\n",
              "      <td>female</td>\n",
              "      <td>36.9</td>\n",
              "      <td>0</td>\n",
              "      <td>no</td>\n",
              "      <td>southeast</td>\n",
              "      <td>1629.83</td>\n",
              "    </tr>\n",
              "    <tr>\n",
              "      <th>1336</th>\n",
              "      <td>21</td>\n",
              "      <td>female</td>\n",
              "      <td>25.8</td>\n",
              "      <td>0</td>\n",
              "      <td>no</td>\n",
              "      <td>southwest</td>\n",
              "      <td>2007.95</td>\n",
              "    </tr>\n",
              "    <tr>\n",
              "      <th>1337</th>\n",
              "      <td>61</td>\n",
              "      <td>female</td>\n",
              "      <td>29.1</td>\n",
              "      <td>0</td>\n",
              "      <td>yes</td>\n",
              "      <td>northwest</td>\n",
              "      <td>29141.36</td>\n",
              "    </tr>\n",
              "  </tbody>\n",
              "</table>\n",
              "<p>1338 rows × 7 columns</p>\n",
              "</div>\n",
              "      <button class=\"colab-df-convert\" onclick=\"convertToInteractive('df-025555a5-6126-46d8-b28d-e841b213867f')\"\n",
              "              title=\"Convert this dataframe to an interactive table.\"\n",
              "              style=\"display:none;\">\n",
              "        \n",
              "  <svg xmlns=\"http://www.w3.org/2000/svg\" height=\"24px\"viewBox=\"0 0 24 24\"\n",
              "       width=\"24px\">\n",
              "    <path d=\"M0 0h24v24H0V0z\" fill=\"none\"/>\n",
              "    <path d=\"M18.56 5.44l.94 2.06.94-2.06 2.06-.94-2.06-.94-.94-2.06-.94 2.06-2.06.94zm-11 1L8.5 8.5l.94-2.06 2.06-.94-2.06-.94L8.5 2.5l-.94 2.06-2.06.94zm10 10l.94 2.06.94-2.06 2.06-.94-2.06-.94-.94-2.06-.94 2.06-2.06.94z\"/><path d=\"M17.41 7.96l-1.37-1.37c-.4-.4-.92-.59-1.43-.59-.52 0-1.04.2-1.43.59L10.3 9.45l-7.72 7.72c-.78.78-.78 2.05 0 2.83L4 21.41c.39.39.9.59 1.41.59.51 0 1.02-.2 1.41-.59l7.78-7.78 2.81-2.81c.8-.78.8-2.07 0-2.86zM5.41 20L4 18.59l7.72-7.72 1.47 1.35L5.41 20z\"/>\n",
              "  </svg>\n",
              "      </button>\n",
              "      \n",
              "  <style>\n",
              "    .colab-df-container {\n",
              "      display:flex;\n",
              "      flex-wrap:wrap;\n",
              "      gap: 12px;\n",
              "    }\n",
              "\n",
              "    .colab-df-convert {\n",
              "      background-color: #E8F0FE;\n",
              "      border: none;\n",
              "      border-radius: 50%;\n",
              "      cursor: pointer;\n",
              "      display: none;\n",
              "      fill: #1967D2;\n",
              "      height: 32px;\n",
              "      padding: 0 0 0 0;\n",
              "      width: 32px;\n",
              "    }\n",
              "\n",
              "    .colab-df-convert:hover {\n",
              "      background-color: #E2EBFA;\n",
              "      box-shadow: 0px 1px 2px rgba(60, 64, 67, 0.3), 0px 1px 3px 1px rgba(60, 64, 67, 0.15);\n",
              "      fill: #174EA6;\n",
              "    }\n",
              "\n",
              "    [theme=dark] .colab-df-convert {\n",
              "      background-color: #3B4455;\n",
              "      fill: #D2E3FC;\n",
              "    }\n",
              "\n",
              "    [theme=dark] .colab-df-convert:hover {\n",
              "      background-color: #434B5C;\n",
              "      box-shadow: 0px 1px 3px 1px rgba(0, 0, 0, 0.15);\n",
              "      filter: drop-shadow(0px 1px 2px rgba(0, 0, 0, 0.3));\n",
              "      fill: #FFFFFF;\n",
              "    }\n",
              "  </style>\n",
              "\n",
              "      <script>\n",
              "        const buttonEl =\n",
              "          document.querySelector('#df-025555a5-6126-46d8-b28d-e841b213867f button.colab-df-convert');\n",
              "        buttonEl.style.display =\n",
              "          google.colab.kernel.accessAllowed ? 'block' : 'none';\n",
              "\n",
              "        async function convertToInteractive(key) {\n",
              "          const element = document.querySelector('#df-025555a5-6126-46d8-b28d-e841b213867f');\n",
              "          const dataTable =\n",
              "            await google.colab.kernel.invokeFunction('convertToInteractive',\n",
              "                                                     [key], {});\n",
              "          if (!dataTable) return;\n",
              "\n",
              "          const docLinkHtml = 'Like what you see? Visit the ' +\n",
              "            '<a target=\"_blank\" href=https://colab.research.google.com/notebooks/data_table.ipynb>data table notebook</a>'\n",
              "            + ' to learn more about interactive tables.';\n",
              "          element.innerHTML = '';\n",
              "          dataTable['output_type'] = 'display_data';\n",
              "          await google.colab.output.renderOutput(dataTable, element);\n",
              "          const docLink = document.createElement('div');\n",
              "          docLink.innerHTML = docLinkHtml;\n",
              "          element.appendChild(docLink);\n",
              "        }\n",
              "      </script>\n",
              "    </div>\n",
              "  </div>\n",
              "  "
            ],
            "text/plain": [
              "      age     sex   bmi  children smoker     region  expenses\n",
              "0      19  female  27.9         0    yes  southwest  16884.92\n",
              "1      18    male  33.8         1     no  southeast   1725.55\n",
              "2      28    male  33.0         3     no  southeast   4449.46\n",
              "3      33    male  22.7         0     no  northwest  21984.47\n",
              "4      32    male  28.9         0     no  northwest   3866.86\n",
              "...   ...     ...   ...       ...    ...        ...       ...\n",
              "1333   50    male  31.0         3     no  northwest  10600.55\n",
              "1334   18  female  31.9         0     no  northeast   2205.98\n",
              "1335   18  female  36.9         0     no  southeast   1629.83\n",
              "1336   21  female  25.8         0     no  southwest   2007.95\n",
              "1337   61  female  29.1         0    yes  northwest  29141.36\n",
              "\n",
              "[1338 rows x 7 columns]"
            ]
          },
          "metadata": {},
          "execution_count": 64
        }
      ]
    },
    {
      "cell_type": "code",
      "source": [
        "insurance[\"sex\"], insurance[\"age\"]"
      ],
      "metadata": {
        "colab": {
          "base_uri": "https://localhost:8080/"
        },
        "id": "ti4B6n1jvob5",
        "outputId": "2d040f17-b47f-4386-9b16-aaaffca72afc"
      },
      "execution_count": 65,
      "outputs": [
        {
          "output_type": "execute_result",
          "data": {
            "text/plain": [
              "(0       female\n",
              " 1         male\n",
              " 2         male\n",
              " 3         male\n",
              " 4         male\n",
              "          ...  \n",
              " 1333      male\n",
              " 1334    female\n",
              " 1335    female\n",
              " 1336    female\n",
              " 1337    female\n",
              " Name: sex, Length: 1338, dtype: object, 0       19\n",
              " 1       18\n",
              " 2       28\n",
              " 3       33\n",
              " 4       32\n",
              "         ..\n",
              " 1333    50\n",
              " 1334    18\n",
              " 1335    18\n",
              " 1336    21\n",
              " 1337    61\n",
              " Name: age, Length: 1338, dtype: int64)"
            ]
          },
          "metadata": {},
          "execution_count": 65
        }
      ]
    },
    {
      "cell_type": "code",
      "source": [
        "#one hot encode out dataframe\n",
        "insurance_onehot=pd.get_dummies(insurance)\n",
        "insurance_onehot.head()"
      ],
      "metadata": {
        "colab": {
          "base_uri": "https://localhost:8080/",
          "height": 270
        },
        "id": "qkbEN1aIwj0Z",
        "outputId": "a1f23516-89e6-4ded-9898-8ee2bdedde20"
      },
      "execution_count": 67,
      "outputs": [
        {
          "output_type": "execute_result",
          "data": {
            "text/html": [
              "\n",
              "  <div id=\"df-ed69dde0-4548-45b8-b636-42941b6fa3ab\">\n",
              "    <div class=\"colab-df-container\">\n",
              "      <div>\n",
              "<style scoped>\n",
              "    .dataframe tbody tr th:only-of-type {\n",
              "        vertical-align: middle;\n",
              "    }\n",
              "\n",
              "    .dataframe tbody tr th {\n",
              "        vertical-align: top;\n",
              "    }\n",
              "\n",
              "    .dataframe thead th {\n",
              "        text-align: right;\n",
              "    }\n",
              "</style>\n",
              "<table border=\"1\" class=\"dataframe\">\n",
              "  <thead>\n",
              "    <tr style=\"text-align: right;\">\n",
              "      <th></th>\n",
              "      <th>age</th>\n",
              "      <th>bmi</th>\n",
              "      <th>children</th>\n",
              "      <th>expenses</th>\n",
              "      <th>sex_female</th>\n",
              "      <th>sex_male</th>\n",
              "      <th>smoker_no</th>\n",
              "      <th>smoker_yes</th>\n",
              "      <th>region_northeast</th>\n",
              "      <th>region_northwest</th>\n",
              "      <th>region_southeast</th>\n",
              "      <th>region_southwest</th>\n",
              "    </tr>\n",
              "  </thead>\n",
              "  <tbody>\n",
              "    <tr>\n",
              "      <th>0</th>\n",
              "      <td>19</td>\n",
              "      <td>27.9</td>\n",
              "      <td>0</td>\n",
              "      <td>16884.92</td>\n",
              "      <td>1</td>\n",
              "      <td>0</td>\n",
              "      <td>0</td>\n",
              "      <td>1</td>\n",
              "      <td>0</td>\n",
              "      <td>0</td>\n",
              "      <td>0</td>\n",
              "      <td>1</td>\n",
              "    </tr>\n",
              "    <tr>\n",
              "      <th>1</th>\n",
              "      <td>18</td>\n",
              "      <td>33.8</td>\n",
              "      <td>1</td>\n",
              "      <td>1725.55</td>\n",
              "      <td>0</td>\n",
              "      <td>1</td>\n",
              "      <td>1</td>\n",
              "      <td>0</td>\n",
              "      <td>0</td>\n",
              "      <td>0</td>\n",
              "      <td>1</td>\n",
              "      <td>0</td>\n",
              "    </tr>\n",
              "    <tr>\n",
              "      <th>2</th>\n",
              "      <td>28</td>\n",
              "      <td>33.0</td>\n",
              "      <td>3</td>\n",
              "      <td>4449.46</td>\n",
              "      <td>0</td>\n",
              "      <td>1</td>\n",
              "      <td>1</td>\n",
              "      <td>0</td>\n",
              "      <td>0</td>\n",
              "      <td>0</td>\n",
              "      <td>1</td>\n",
              "      <td>0</td>\n",
              "    </tr>\n",
              "    <tr>\n",
              "      <th>3</th>\n",
              "      <td>33</td>\n",
              "      <td>22.7</td>\n",
              "      <td>0</td>\n",
              "      <td>21984.47</td>\n",
              "      <td>0</td>\n",
              "      <td>1</td>\n",
              "      <td>1</td>\n",
              "      <td>0</td>\n",
              "      <td>0</td>\n",
              "      <td>1</td>\n",
              "      <td>0</td>\n",
              "      <td>0</td>\n",
              "    </tr>\n",
              "    <tr>\n",
              "      <th>4</th>\n",
              "      <td>32</td>\n",
              "      <td>28.9</td>\n",
              "      <td>0</td>\n",
              "      <td>3866.86</td>\n",
              "      <td>0</td>\n",
              "      <td>1</td>\n",
              "      <td>1</td>\n",
              "      <td>0</td>\n",
              "      <td>0</td>\n",
              "      <td>1</td>\n",
              "      <td>0</td>\n",
              "      <td>0</td>\n",
              "    </tr>\n",
              "  </tbody>\n",
              "</table>\n",
              "</div>\n",
              "      <button class=\"colab-df-convert\" onclick=\"convertToInteractive('df-ed69dde0-4548-45b8-b636-42941b6fa3ab')\"\n",
              "              title=\"Convert this dataframe to an interactive table.\"\n",
              "              style=\"display:none;\">\n",
              "        \n",
              "  <svg xmlns=\"http://www.w3.org/2000/svg\" height=\"24px\"viewBox=\"0 0 24 24\"\n",
              "       width=\"24px\">\n",
              "    <path d=\"M0 0h24v24H0V0z\" fill=\"none\"/>\n",
              "    <path d=\"M18.56 5.44l.94 2.06.94-2.06 2.06-.94-2.06-.94-.94-2.06-.94 2.06-2.06.94zm-11 1L8.5 8.5l.94-2.06 2.06-.94-2.06-.94L8.5 2.5l-.94 2.06-2.06.94zm10 10l.94 2.06.94-2.06 2.06-.94-2.06-.94-.94-2.06-.94 2.06-2.06.94z\"/><path d=\"M17.41 7.96l-1.37-1.37c-.4-.4-.92-.59-1.43-.59-.52 0-1.04.2-1.43.59L10.3 9.45l-7.72 7.72c-.78.78-.78 2.05 0 2.83L4 21.41c.39.39.9.59 1.41.59.51 0 1.02-.2 1.41-.59l7.78-7.78 2.81-2.81c.8-.78.8-2.07 0-2.86zM5.41 20L4 18.59l7.72-7.72 1.47 1.35L5.41 20z\"/>\n",
              "  </svg>\n",
              "      </button>\n",
              "      \n",
              "  <style>\n",
              "    .colab-df-container {\n",
              "      display:flex;\n",
              "      flex-wrap:wrap;\n",
              "      gap: 12px;\n",
              "    }\n",
              "\n",
              "    .colab-df-convert {\n",
              "      background-color: #E8F0FE;\n",
              "      border: none;\n",
              "      border-radius: 50%;\n",
              "      cursor: pointer;\n",
              "      display: none;\n",
              "      fill: #1967D2;\n",
              "      height: 32px;\n",
              "      padding: 0 0 0 0;\n",
              "      width: 32px;\n",
              "    }\n",
              "\n",
              "    .colab-df-convert:hover {\n",
              "      background-color: #E2EBFA;\n",
              "      box-shadow: 0px 1px 2px rgba(60, 64, 67, 0.3), 0px 1px 3px 1px rgba(60, 64, 67, 0.15);\n",
              "      fill: #174EA6;\n",
              "    }\n",
              "\n",
              "    [theme=dark] .colab-df-convert {\n",
              "      background-color: #3B4455;\n",
              "      fill: #D2E3FC;\n",
              "    }\n",
              "\n",
              "    [theme=dark] .colab-df-convert:hover {\n",
              "      background-color: #434B5C;\n",
              "      box-shadow: 0px 1px 3px 1px rgba(0, 0, 0, 0.15);\n",
              "      filter: drop-shadow(0px 1px 2px rgba(0, 0, 0, 0.3));\n",
              "      fill: #FFFFFF;\n",
              "    }\n",
              "  </style>\n",
              "\n",
              "      <script>\n",
              "        const buttonEl =\n",
              "          document.querySelector('#df-ed69dde0-4548-45b8-b636-42941b6fa3ab button.colab-df-convert');\n",
              "        buttonEl.style.display =\n",
              "          google.colab.kernel.accessAllowed ? 'block' : 'none';\n",
              "\n",
              "        async function convertToInteractive(key) {\n",
              "          const element = document.querySelector('#df-ed69dde0-4548-45b8-b636-42941b6fa3ab');\n",
              "          const dataTable =\n",
              "            await google.colab.kernel.invokeFunction('convertToInteractive',\n",
              "                                                     [key], {});\n",
              "          if (!dataTable) return;\n",
              "\n",
              "          const docLinkHtml = 'Like what you see? Visit the ' +\n",
              "            '<a target=\"_blank\" href=https://colab.research.google.com/notebooks/data_table.ipynb>data table notebook</a>'\n",
              "            + ' to learn more about interactive tables.';\n",
              "          element.innerHTML = '';\n",
              "          dataTable['output_type'] = 'display_data';\n",
              "          await google.colab.output.renderOutput(dataTable, element);\n",
              "          const docLink = document.createElement('div');\n",
              "          docLink.innerHTML = docLinkHtml;\n",
              "          element.appendChild(docLink);\n",
              "        }\n",
              "      </script>\n",
              "    </div>\n",
              "  </div>\n",
              "  "
            ],
            "text/plain": [
              "   age   bmi  children  ...  region_northwest  region_southeast  region_southwest\n",
              "0   19  27.9         0  ...                 0                 0                 1\n",
              "1   18  33.8         1  ...                 0                 1                 0\n",
              "2   28  33.0         3  ...                 0                 1                 0\n",
              "3   33  22.7         0  ...                 1                 0                 0\n",
              "4   32  28.9         0  ...                 1                 0                 0\n",
              "\n",
              "[5 rows x 12 columns]"
            ]
          },
          "metadata": {},
          "execution_count": 67
        }
      ]
    },
    {
      "cell_type": "code",
      "source": [
        "#create X & y values (features and labels)\n",
        "X= insurance_onehot.drop(\"expenses\", axis=1) \n",
        "y=insurance_onehot[\"expenses\"]"
      ],
      "metadata": {
        "id": "4QS5DjDAxiC_"
      },
      "execution_count": 69,
      "outputs": []
    },
    {
      "cell_type": "code",
      "source": [
        "#view X\n",
        "X.head()"
      ],
      "metadata": {
        "colab": {
          "base_uri": "https://localhost:8080/",
          "height": 270
        },
        "id": "pnpQt-7QcUPN",
        "outputId": "20c79d27-beb9-4669-8825-3ac2eb7ae86f"
      },
      "execution_count": 70,
      "outputs": [
        {
          "output_type": "execute_result",
          "data": {
            "text/html": [
              "\n",
              "  <div id=\"df-e3de2d8d-742d-4e4a-8303-b19f40563438\">\n",
              "    <div class=\"colab-df-container\">\n",
              "      <div>\n",
              "<style scoped>\n",
              "    .dataframe tbody tr th:only-of-type {\n",
              "        vertical-align: middle;\n",
              "    }\n",
              "\n",
              "    .dataframe tbody tr th {\n",
              "        vertical-align: top;\n",
              "    }\n",
              "\n",
              "    .dataframe thead th {\n",
              "        text-align: right;\n",
              "    }\n",
              "</style>\n",
              "<table border=\"1\" class=\"dataframe\">\n",
              "  <thead>\n",
              "    <tr style=\"text-align: right;\">\n",
              "      <th></th>\n",
              "      <th>age</th>\n",
              "      <th>bmi</th>\n",
              "      <th>children</th>\n",
              "      <th>sex_female</th>\n",
              "      <th>sex_male</th>\n",
              "      <th>smoker_no</th>\n",
              "      <th>smoker_yes</th>\n",
              "      <th>region_northeast</th>\n",
              "      <th>region_northwest</th>\n",
              "      <th>region_southeast</th>\n",
              "      <th>region_southwest</th>\n",
              "    </tr>\n",
              "  </thead>\n",
              "  <tbody>\n",
              "    <tr>\n",
              "      <th>0</th>\n",
              "      <td>19</td>\n",
              "      <td>27.9</td>\n",
              "      <td>0</td>\n",
              "      <td>1</td>\n",
              "      <td>0</td>\n",
              "      <td>0</td>\n",
              "      <td>1</td>\n",
              "      <td>0</td>\n",
              "      <td>0</td>\n",
              "      <td>0</td>\n",
              "      <td>1</td>\n",
              "    </tr>\n",
              "    <tr>\n",
              "      <th>1</th>\n",
              "      <td>18</td>\n",
              "      <td>33.8</td>\n",
              "      <td>1</td>\n",
              "      <td>0</td>\n",
              "      <td>1</td>\n",
              "      <td>1</td>\n",
              "      <td>0</td>\n",
              "      <td>0</td>\n",
              "      <td>0</td>\n",
              "      <td>1</td>\n",
              "      <td>0</td>\n",
              "    </tr>\n",
              "    <tr>\n",
              "      <th>2</th>\n",
              "      <td>28</td>\n",
              "      <td>33.0</td>\n",
              "      <td>3</td>\n",
              "      <td>0</td>\n",
              "      <td>1</td>\n",
              "      <td>1</td>\n",
              "      <td>0</td>\n",
              "      <td>0</td>\n",
              "      <td>0</td>\n",
              "      <td>1</td>\n",
              "      <td>0</td>\n",
              "    </tr>\n",
              "    <tr>\n",
              "      <th>3</th>\n",
              "      <td>33</td>\n",
              "      <td>22.7</td>\n",
              "      <td>0</td>\n",
              "      <td>0</td>\n",
              "      <td>1</td>\n",
              "      <td>1</td>\n",
              "      <td>0</td>\n",
              "      <td>0</td>\n",
              "      <td>1</td>\n",
              "      <td>0</td>\n",
              "      <td>0</td>\n",
              "    </tr>\n",
              "    <tr>\n",
              "      <th>4</th>\n",
              "      <td>32</td>\n",
              "      <td>28.9</td>\n",
              "      <td>0</td>\n",
              "      <td>0</td>\n",
              "      <td>1</td>\n",
              "      <td>1</td>\n",
              "      <td>0</td>\n",
              "      <td>0</td>\n",
              "      <td>1</td>\n",
              "      <td>0</td>\n",
              "      <td>0</td>\n",
              "    </tr>\n",
              "  </tbody>\n",
              "</table>\n",
              "</div>\n",
              "      <button class=\"colab-df-convert\" onclick=\"convertToInteractive('df-e3de2d8d-742d-4e4a-8303-b19f40563438')\"\n",
              "              title=\"Convert this dataframe to an interactive table.\"\n",
              "              style=\"display:none;\">\n",
              "        \n",
              "  <svg xmlns=\"http://www.w3.org/2000/svg\" height=\"24px\"viewBox=\"0 0 24 24\"\n",
              "       width=\"24px\">\n",
              "    <path d=\"M0 0h24v24H0V0z\" fill=\"none\"/>\n",
              "    <path d=\"M18.56 5.44l.94 2.06.94-2.06 2.06-.94-2.06-.94-.94-2.06-.94 2.06-2.06.94zm-11 1L8.5 8.5l.94-2.06 2.06-.94-2.06-.94L8.5 2.5l-.94 2.06-2.06.94zm10 10l.94 2.06.94-2.06 2.06-.94-2.06-.94-.94-2.06-.94 2.06-2.06.94z\"/><path d=\"M17.41 7.96l-1.37-1.37c-.4-.4-.92-.59-1.43-.59-.52 0-1.04.2-1.43.59L10.3 9.45l-7.72 7.72c-.78.78-.78 2.05 0 2.83L4 21.41c.39.39.9.59 1.41.59.51 0 1.02-.2 1.41-.59l7.78-7.78 2.81-2.81c.8-.78.8-2.07 0-2.86zM5.41 20L4 18.59l7.72-7.72 1.47 1.35L5.41 20z\"/>\n",
              "  </svg>\n",
              "      </button>\n",
              "      \n",
              "  <style>\n",
              "    .colab-df-container {\n",
              "      display:flex;\n",
              "      flex-wrap:wrap;\n",
              "      gap: 12px;\n",
              "    }\n",
              "\n",
              "    .colab-df-convert {\n",
              "      background-color: #E8F0FE;\n",
              "      border: none;\n",
              "      border-radius: 50%;\n",
              "      cursor: pointer;\n",
              "      display: none;\n",
              "      fill: #1967D2;\n",
              "      height: 32px;\n",
              "      padding: 0 0 0 0;\n",
              "      width: 32px;\n",
              "    }\n",
              "\n",
              "    .colab-df-convert:hover {\n",
              "      background-color: #E2EBFA;\n",
              "      box-shadow: 0px 1px 2px rgba(60, 64, 67, 0.3), 0px 1px 3px 1px rgba(60, 64, 67, 0.15);\n",
              "      fill: #174EA6;\n",
              "    }\n",
              "\n",
              "    [theme=dark] .colab-df-convert {\n",
              "      background-color: #3B4455;\n",
              "      fill: #D2E3FC;\n",
              "    }\n",
              "\n",
              "    [theme=dark] .colab-df-convert:hover {\n",
              "      background-color: #434B5C;\n",
              "      box-shadow: 0px 1px 3px 1px rgba(0, 0, 0, 0.15);\n",
              "      filter: drop-shadow(0px 1px 2px rgba(0, 0, 0, 0.3));\n",
              "      fill: #FFFFFF;\n",
              "    }\n",
              "  </style>\n",
              "\n",
              "      <script>\n",
              "        const buttonEl =\n",
              "          document.querySelector('#df-e3de2d8d-742d-4e4a-8303-b19f40563438 button.colab-df-convert');\n",
              "        buttonEl.style.display =\n",
              "          google.colab.kernel.accessAllowed ? 'block' : 'none';\n",
              "\n",
              "        async function convertToInteractive(key) {\n",
              "          const element = document.querySelector('#df-e3de2d8d-742d-4e4a-8303-b19f40563438');\n",
              "          const dataTable =\n",
              "            await google.colab.kernel.invokeFunction('convertToInteractive',\n",
              "                                                     [key], {});\n",
              "          if (!dataTable) return;\n",
              "\n",
              "          const docLinkHtml = 'Like what you see? Visit the ' +\n",
              "            '<a target=\"_blank\" href=https://colab.research.google.com/notebooks/data_table.ipynb>data table notebook</a>'\n",
              "            + ' to learn more about interactive tables.';\n",
              "          element.innerHTML = '';\n",
              "          dataTable['output_type'] = 'display_data';\n",
              "          await google.colab.output.renderOutput(dataTable, element);\n",
              "          const docLink = document.createElement('div');\n",
              "          docLink.innerHTML = docLinkHtml;\n",
              "          element.appendChild(docLink);\n",
              "        }\n",
              "      </script>\n",
              "    </div>\n",
              "  </div>\n",
              "  "
            ],
            "text/plain": [
              "   age   bmi  children  ...  region_northwest  region_southeast  region_southwest\n",
              "0   19  27.9         0  ...                 0                 0                 1\n",
              "1   18  33.8         1  ...                 0                 1                 0\n",
              "2   28  33.0         3  ...                 0                 1                 0\n",
              "3   33  22.7         0  ...                 1                 0                 0\n",
              "4   32  28.9         0  ...                 1                 0                 0\n",
              "\n",
              "[5 rows x 11 columns]"
            ]
          },
          "metadata": {},
          "execution_count": 70
        }
      ]
    },
    {
      "cell_type": "code",
      "source": [
        "#view y\n",
        "y.head()"
      ],
      "metadata": {
        "colab": {
          "base_uri": "https://localhost:8080/"
        },
        "id": "9HKkmfuucsI4",
        "outputId": "56ba7f92-ea71-419f-9592-8261a5d5128d"
      },
      "execution_count": 71,
      "outputs": [
        {
          "output_type": "execute_result",
          "data": {
            "text/plain": [
              "0    16884.92\n",
              "1     1725.55\n",
              "2     4449.46\n",
              "3    21984.47\n",
              "4     3866.86\n",
              "Name: expenses, dtype: float64"
            ]
          },
          "metadata": {},
          "execution_count": 71
        }
      ]
    },
    {
      "cell_type": "code",
      "source": [
        "#create training and test dataset\n",
        "from sklearn.model_selection import train_test_split\n",
        "X_train, X_test, y_train, y_test=train_test_split(X, y, test_size=0.2, random_state=42)\n",
        "len(X), len(X_train), len(X_test)"
      ],
      "metadata": {
        "colab": {
          "base_uri": "https://localhost:8080/"
        },
        "id": "XKZFBSfCcvMA",
        "outputId": "832979fe-a492-42ee-ca08-574c8bdc2074"
      },
      "execution_count": 76,
      "outputs": [
        {
          "output_type": "execute_result",
          "data": {
            "text/plain": [
              "(1338, 1070, 268)"
            ]
          },
          "metadata": {},
          "execution_count": 76
        }
      ]
    },
    {
      "cell_type": "code",
      "source": [
        "#build a neural network (sort of like model_2 above)\n",
        "tf.random.set_seed(42)\n",
        "\n",
        "insurance_model=tf.keras.Sequential([\n",
        "    tf.keras.layers.Dense(10),\n",
        "    tf.keras.layers.Dense(1)\n",
        "])\n",
        "\n",
        "insurance_model.compile(loss=tf.keras.losses.mae,\n",
        "                        optimizer=tf.keras.optimizers.SGD(),\n",
        "                        metrics=[\"mae\"])\n",
        "\n",
        "insurance_model.fit(tf.expand_dims(X_train, axis=-1), y_train, epochs=100)"
      ],
      "metadata": {
        "colab": {
          "base_uri": "https://localhost:8080/"
        },
        "id": "hh6tKogXdvkc",
        "outputId": "80aa20ea-6f05-4f1e-ac45-78be7bff2139"
      },
      "execution_count": 85,
      "outputs": [
        {
          "output_type": "stream",
          "name": "stdout",
          "text": [
            "Epoch 1/100\n",
            "34/34 [==============================] - 1s 4ms/step - loss: 13235.9482 - mae: 13235.9482\n",
            "Epoch 2/100\n",
            "34/34 [==============================] - 0s 4ms/step - loss: 12311.0908 - mae: 12311.0908\n",
            "Epoch 3/100\n",
            "34/34 [==============================] - 0s 2ms/step - loss: 12173.8408 - mae: 12173.8408\n",
            "Epoch 4/100\n",
            "34/34 [==============================] - 0s 2ms/step - loss: 12099.1953 - mae: 12099.1953\n",
            "Epoch 5/100\n",
            "34/34 [==============================] - 0s 2ms/step - loss: 11985.5869 - mae: 11985.5869\n",
            "Epoch 6/100\n",
            "34/34 [==============================] - 0s 2ms/step - loss: 11799.8379 - mae: 11799.8379\n",
            "Epoch 7/100\n",
            "34/34 [==============================] - 0s 3ms/step - loss: 11476.9746 - mae: 11476.9746\n",
            "Epoch 8/100\n",
            "34/34 [==============================] - 0s 3ms/step - loss: 10967.5205 - mae: 10967.5205\n",
            "Epoch 9/100\n",
            "34/34 [==============================] - 0s 2ms/step - loss: 10349.5850 - mae: 10349.5850\n",
            "Epoch 10/100\n",
            "34/34 [==============================] - 0s 2ms/step - loss: 9701.6416 - mae: 9701.6416\n",
            "Epoch 11/100\n",
            "34/34 [==============================] - 0s 2ms/step - loss: 9191.3984 - mae: 9191.3984\n",
            "Epoch 12/100\n",
            "34/34 [==============================] - 0s 2ms/step - loss: 8812.2148 - mae: 8812.2148\n",
            "Epoch 13/100\n",
            "34/34 [==============================] - 0s 2ms/step - loss: 8669.6953 - mae: 8669.6953\n",
            "Epoch 14/100\n",
            "34/34 [==============================] - 0s 3ms/step - loss: 8600.6123 - mae: 8600.6123\n",
            "Epoch 15/100\n",
            "34/34 [==============================] - 0s 4ms/step - loss: 8479.8086 - mae: 8479.8086\n",
            "Epoch 16/100\n",
            "34/34 [==============================] - 0s 4ms/step - loss: 8498.5957 - mae: 8498.5957\n",
            "Epoch 17/100\n",
            "34/34 [==============================] - 0s 4ms/step - loss: 8615.1133 - mae: 8615.1133\n",
            "Epoch 18/100\n",
            "34/34 [==============================] - 0s 3ms/step - loss: 8524.9697 - mae: 8524.9697\n",
            "Epoch 19/100\n",
            "34/34 [==============================] - 0s 5ms/step - loss: 8479.9951 - mae: 8479.9951\n",
            "Epoch 20/100\n",
            "34/34 [==============================] - 0s 3ms/step - loss: 8530.9072 - mae: 8530.9072\n",
            "Epoch 21/100\n",
            "34/34 [==============================] - 0s 4ms/step - loss: 8448.5264 - mae: 8448.5264\n",
            "Epoch 22/100\n",
            "34/34 [==============================] - 0s 3ms/step - loss: 8612.2158 - mae: 8612.2158\n",
            "Epoch 23/100\n",
            "34/34 [==============================] - 0s 3ms/step - loss: 8542.7754 - mae: 8542.7754\n",
            "Epoch 24/100\n",
            "34/34 [==============================] - 0s 2ms/step - loss: 8500.5215 - mae: 8500.5215\n",
            "Epoch 25/100\n",
            "34/34 [==============================] - 0s 2ms/step - loss: 8407.5889 - mae: 8407.5889\n",
            "Epoch 26/100\n",
            "34/34 [==============================] - 0s 2ms/step - loss: 8389.5771 - mae: 8389.5771\n",
            "Epoch 27/100\n",
            "34/34 [==============================] - 0s 2ms/step - loss: 8532.4414 - mae: 8532.4414\n",
            "Epoch 28/100\n",
            "34/34 [==============================] - 0s 2ms/step - loss: 8433.8867 - mae: 8433.8867\n",
            "Epoch 29/100\n",
            "34/34 [==============================] - 0s 2ms/step - loss: 8442.9570 - mae: 8442.9570\n",
            "Epoch 30/100\n",
            "34/34 [==============================] - 0s 2ms/step - loss: 8482.3584 - mae: 8482.3584\n",
            "Epoch 31/100\n",
            "34/34 [==============================] - 0s 3ms/step - loss: 8451.1357 - mae: 8451.1357\n",
            "Epoch 32/100\n",
            "34/34 [==============================] - 0s 3ms/step - loss: 8466.6475 - mae: 8466.6475\n",
            "Epoch 33/100\n",
            "34/34 [==============================] - 0s 4ms/step - loss: 8394.0322 - mae: 8394.0322\n",
            "Epoch 34/100\n",
            "34/34 [==============================] - 0s 3ms/step - loss: 8416.0654 - mae: 8416.0654\n",
            "Epoch 35/100\n",
            "34/34 [==============================] - 0s 4ms/step - loss: 8426.9482 - mae: 8426.9482\n",
            "Epoch 36/100\n",
            "34/34 [==============================] - 0s 2ms/step - loss: 8440.8486 - mae: 8440.8486\n",
            "Epoch 37/100\n",
            "34/34 [==============================] - 0s 3ms/step - loss: 8425.8281 - mae: 8425.8281\n",
            "Epoch 38/100\n",
            "34/34 [==============================] - 0s 2ms/step - loss: 8389.5918 - mae: 8389.5918\n",
            "Epoch 39/100\n",
            "34/34 [==============================] - 0s 2ms/step - loss: 8435.6934 - mae: 8435.6934\n",
            "Epoch 40/100\n",
            "34/34 [==============================] - 0s 2ms/step - loss: 8360.3203 - mae: 8360.3203\n",
            "Epoch 41/100\n",
            "34/34 [==============================] - 0s 2ms/step - loss: 8415.6523 - mae: 8415.6523\n",
            "Epoch 42/100\n",
            "34/34 [==============================] - 0s 2ms/step - loss: 8389.3174 - mae: 8389.3174\n",
            "Epoch 43/100\n",
            "34/34 [==============================] - 0s 1ms/step - loss: 8474.8848 - mae: 8474.8848\n",
            "Epoch 44/100\n",
            "34/34 [==============================] - 0s 1ms/step - loss: 8381.8672 - mae: 8381.8672\n",
            "Epoch 45/100\n",
            "34/34 [==============================] - 0s 1ms/step - loss: 8423.7471 - mae: 8423.7471\n",
            "Epoch 46/100\n",
            "34/34 [==============================] - 0s 1ms/step - loss: 8399.3887 - mae: 8399.3887\n",
            "Epoch 47/100\n",
            "34/34 [==============================] - 0s 1ms/step - loss: 8396.2812 - mae: 8396.2812\n",
            "Epoch 48/100\n",
            "34/34 [==============================] - 0s 1ms/step - loss: 8351.8877 - mae: 8351.8877\n",
            "Epoch 49/100\n",
            "34/34 [==============================] - 0s 1ms/step - loss: 8420.1592 - mae: 8420.1592\n",
            "Epoch 50/100\n",
            "34/34 [==============================] - 0s 1ms/step - loss: 8400.8936 - mae: 8400.8936\n",
            "Epoch 51/100\n",
            "34/34 [==============================] - 0s 1ms/step - loss: 8363.6943 - mae: 8363.6943\n",
            "Epoch 52/100\n",
            "34/34 [==============================] - 0s 1ms/step - loss: 8356.3770 - mae: 8356.3770\n",
            "Epoch 53/100\n",
            "34/34 [==============================] - 0s 1ms/step - loss: 8452.0312 - mae: 8452.0312\n",
            "Epoch 54/100\n",
            "34/34 [==============================] - 0s 1ms/step - loss: 8394.8311 - mae: 8394.8311\n",
            "Epoch 55/100\n",
            "34/34 [==============================] - 0s 2ms/step - loss: 8356.0078 - mae: 8356.0078\n",
            "Epoch 56/100\n",
            "34/34 [==============================] - 0s 1ms/step - loss: 8374.0801 - mae: 8374.0801\n",
            "Epoch 57/100\n",
            "34/34 [==============================] - 0s 1ms/step - loss: 8393.0371 - mae: 8393.0371\n",
            "Epoch 58/100\n",
            "34/34 [==============================] - 0s 1ms/step - loss: 8345.3428 - mae: 8345.3428\n",
            "Epoch 59/100\n",
            "34/34 [==============================] - 0s 1ms/step - loss: 8420.9033 - mae: 8420.9033\n",
            "Epoch 60/100\n",
            "34/34 [==============================] - 0s 2ms/step - loss: 8419.1982 - mae: 8419.1982\n",
            "Epoch 61/100\n",
            "34/34 [==============================] - 0s 1ms/step - loss: 8412.3809 - mae: 8412.3809\n",
            "Epoch 62/100\n",
            "34/34 [==============================] - 0s 1ms/step - loss: 8349.0850 - mae: 8349.0850\n",
            "Epoch 63/100\n",
            "34/34 [==============================] - 0s 1ms/step - loss: 8382.6904 - mae: 8382.6904\n",
            "Epoch 64/100\n",
            "34/34 [==============================] - 0s 1ms/step - loss: 8397.3418 - mae: 8397.3418\n",
            "Epoch 65/100\n",
            "34/34 [==============================] - 0s 1ms/step - loss: 8394.3154 - mae: 8394.3154\n",
            "Epoch 66/100\n",
            "34/34 [==============================] - 0s 1ms/step - loss: 8379.9863 - mae: 8379.9863\n",
            "Epoch 67/100\n",
            "34/34 [==============================] - 0s 1ms/step - loss: 8319.0684 - mae: 8319.0684\n",
            "Epoch 68/100\n",
            "34/34 [==============================] - 0s 1ms/step - loss: 8339.4336 - mae: 8339.4336\n",
            "Epoch 69/100\n",
            "34/34 [==============================] - 0s 1ms/step - loss: 8353.0225 - mae: 8353.0225\n",
            "Epoch 70/100\n",
            "34/34 [==============================] - 0s 1ms/step - loss: 8411.9404 - mae: 8411.9404\n",
            "Epoch 71/100\n",
            "34/34 [==============================] - 0s 1ms/step - loss: 8355.3145 - mae: 8355.3145\n",
            "Epoch 72/100\n",
            "34/34 [==============================] - 0s 1ms/step - loss: 8370.6357 - mae: 8370.6357\n",
            "Epoch 73/100\n",
            "34/34 [==============================] - 0s 1ms/step - loss: 8351.7510 - mae: 8351.7510\n",
            "Epoch 74/100\n",
            "34/34 [==============================] - 0s 1ms/step - loss: 8373.1895 - mae: 8373.1895\n",
            "Epoch 75/100\n",
            "34/34 [==============================] - 0s 1ms/step - loss: 8340.5908 - mae: 8340.5908\n",
            "Epoch 76/100\n",
            "34/34 [==============================] - 0s 1ms/step - loss: 8337.0205 - mae: 8337.0205\n",
            "Epoch 77/100\n",
            "34/34 [==============================] - 0s 1ms/step - loss: 8377.6748 - mae: 8377.6748\n",
            "Epoch 78/100\n",
            "34/34 [==============================] - 0s 2ms/step - loss: 8361.0625 - mae: 8361.0625\n",
            "Epoch 79/100\n",
            "34/34 [==============================] - 0s 1ms/step - loss: 8399.5410 - mae: 8399.5410\n",
            "Epoch 80/100\n",
            "34/34 [==============================] - 0s 1ms/step - loss: 8323.5205 - mae: 8323.5205\n",
            "Epoch 81/100\n",
            "34/34 [==============================] - 0s 1ms/step - loss: 8365.1299 - mae: 8365.1299\n",
            "Epoch 82/100\n",
            "34/34 [==============================] - 0s 1ms/step - loss: 8343.8867 - mae: 8343.8867\n",
            "Epoch 83/100\n",
            "34/34 [==============================] - 0s 1ms/step - loss: 8413.3184 - mae: 8413.3184\n",
            "Epoch 84/100\n",
            "34/34 [==============================] - 0s 1ms/step - loss: 8348.2490 - mae: 8348.2490\n",
            "Epoch 85/100\n",
            "34/34 [==============================] - 0s 1ms/step - loss: 8374.5381 - mae: 8374.5381\n",
            "Epoch 86/100\n",
            "34/34 [==============================] - 0s 1ms/step - loss: 8363.4199 - mae: 8363.4199\n",
            "Epoch 87/100\n",
            "34/34 [==============================] - 0s 2ms/step - loss: 8359.9521 - mae: 8359.9521\n",
            "Epoch 88/100\n",
            "34/34 [==============================] - 0s 2ms/step - loss: 8351.4902 - mae: 8351.4902\n",
            "Epoch 89/100\n",
            "34/34 [==============================] - 0s 2ms/step - loss: 8391.7412 - mae: 8391.7412\n",
            "Epoch 90/100\n",
            "34/34 [==============================] - 0s 1ms/step - loss: 8318.5576 - mae: 8318.5576\n",
            "Epoch 91/100\n",
            "34/34 [==============================] - 0s 1ms/step - loss: 8345.1465 - mae: 8345.1465\n",
            "Epoch 92/100\n",
            "34/34 [==============================] - 0s 1ms/step - loss: 8376.8174 - mae: 8376.8174\n",
            "Epoch 93/100\n",
            "34/34 [==============================] - 0s 1ms/step - loss: 8327.4932 - mae: 8327.4932\n",
            "Epoch 94/100\n",
            "34/34 [==============================] - 0s 2ms/step - loss: 8323.9131 - mae: 8323.9131\n",
            "Epoch 95/100\n",
            "34/34 [==============================] - 0s 2ms/step - loss: 8342.4131 - mae: 8342.4131\n",
            "Epoch 96/100\n",
            "34/34 [==============================] - 0s 2ms/step - loss: 8348.9121 - mae: 8348.9121\n",
            "Epoch 97/100\n",
            "34/34 [==============================] - 0s 1ms/step - loss: 8348.7910 - mae: 8348.7910\n",
            "Epoch 98/100\n",
            "34/34 [==============================] - 0s 2ms/step - loss: 8359.3281 - mae: 8359.3281\n",
            "Epoch 99/100\n",
            "34/34 [==============================] - 0s 2ms/step - loss: 8326.8779 - mae: 8326.8779\n",
            "Epoch 100/100\n",
            "34/34 [==============================] - 0s 2ms/step - loss: 8344.6729 - mae: 8344.6729\n"
          ]
        },
        {
          "output_type": "execute_result",
          "data": {
            "text/plain": [
              "<keras.callbacks.History at 0x7f2eeff67e50>"
            ]
          },
          "metadata": {},
          "execution_count": 85
        }
      ]
    },
    {
      "cell_type": "code",
      "source": [
        "insurance_model.summary()"
      ],
      "metadata": {
        "colab": {
          "base_uri": "https://localhost:8080/"
        },
        "id": "S1jatkECesgo",
        "outputId": "34a95b23-0a6a-448f-b3cd-8097095bd3ed"
      },
      "execution_count": 86,
      "outputs": [
        {
          "output_type": "stream",
          "name": "stdout",
          "text": [
            "Model: \"sequential_7\"\n",
            "_________________________________________________________________\n",
            " Layer (type)                Output Shape              Param #   \n",
            "=================================================================\n",
            " dense_23 (Dense)            (None, 11, 10)            20        \n",
            "                                                                 \n",
            " dense_24 (Dense)            (None, 11, 1)             11        \n",
            "                                                                 \n",
            "=================================================================\n",
            "Total params: 31\n",
            "Trainable params: 31\n",
            "Non-trainable params: 0\n",
            "_________________________________________________________________\n"
          ]
        }
      ]
    },
    {
      "cell_type": "code",
      "source": [
        "#check the result of insurance model on the test data\n",
        "insurance_model.evaluate(X_test, y_test)"
      ],
      "metadata": {
        "colab": {
          "base_uri": "https://localhost:8080/"
        },
        "id": "wDST2V_KfkTY",
        "outputId": "2681f261-8ca7-486c-e21e-1ca65dd56eef"
      },
      "execution_count": 87,
      "outputs": [
        {
          "output_type": "stream",
          "name": "stdout",
          "text": [
            "9/9 [==============================] - 0s 4ms/step - loss: 8926.7412 - mae: 8926.7412\n"
          ]
        },
        {
          "output_type": "execute_result",
          "data": {
            "text/plain": [
              "[8926.7412109375, 8926.7412109375]"
            ]
          },
          "metadata": {},
          "execution_count": 87
        }
      ]
    },
    {
      "cell_type": "code",
      "source": [
        "y_train.median(), y_train.mean()"
      ],
      "metadata": {
        "colab": {
          "base_uri": "https://localhost:8080/"
        },
        "id": "6pGWIKDBf0L9",
        "outputId": "199cd2d0-b9bc-48c6-dce0-9d3922c2a5b8"
      },
      "execution_count": 89,
      "outputs": [
        {
          "output_type": "execute_result",
          "data": {
            "text/plain": [
              "(9575.439999999999, 13346.089869158872)"
            ]
          },
          "metadata": {},
          "execution_count": 89
        }
      ]
    },
    {
      "cell_type": "markdown",
      "source": [
        "###Improve the model"
      ],
      "metadata": {
        "id": "X7Z7VbqTf47R"
      }
    },
    {
      "cell_type": "code",
      "source": [
        "#set random seed\n",
        "tf.random.set_seed(42)\n",
        "\n",
        "insurance_model2=tf.keras.Sequential([\n",
        "                                      tf.keras.layers.Dense(100),\n",
        "                                      tf.keras.layers.Dense(10),\n",
        "                                      tf.keras.layers.Dense(1),\n",
        "\n",
        "])\n",
        "\n",
        "insurance_model2.compile(loss=tf.keras.losses.mae,\n",
        "                         optimizer=tf.keras.optimizers.Adam(lr= 0.01),\n",
        "                         metrics=[\"mae\"])\n",
        "\n",
        "insurance_model2.fit(tf.expand_dims(X_train, axis=-1), y_train, epochs=100, verbose=1)\n",
        "                         "
      ],
      "metadata": {
        "colab": {
          "base_uri": "https://localhost:8080/"
        },
        "id": "ze1m1EBogVEv",
        "outputId": "154b1286-a077-470e-9b6e-7bdb939cfb7d"
      },
      "execution_count": 97,
      "outputs": [
        {
          "output_type": "stream",
          "name": "stderr",
          "text": [
            "/usr/local/lib/python3.7/dist-packages/keras/optimizer_v2/adam.py:105: UserWarning: The `lr` argument is deprecated, use `learning_rate` instead.\n",
            "  super(Adam, self).__init__(name, **kwargs)\n"
          ]
        },
        {
          "output_type": "stream",
          "name": "stdout",
          "text": [
            "Epoch 1/100\n",
            "34/34 [==============================] - 1s 4ms/step - loss: 13109.1064 - mae: 13109.1064\n",
            "Epoch 2/100\n",
            "34/34 [==============================] - 0s 4ms/step - loss: 12110.5186 - mae: 12110.5186\n",
            "Epoch 3/100\n",
            "34/34 [==============================] - 0s 4ms/step - loss: 11793.1279 - mae: 11793.1279\n",
            "Epoch 4/100\n",
            "34/34 [==============================] - 0s 5ms/step - loss: 10924.1523 - mae: 10924.1523\n",
            "Epoch 5/100\n",
            "34/34 [==============================] - 0s 3ms/step - loss: 9199.4648 - mae: 9199.4648\n",
            "Epoch 6/100\n",
            "34/34 [==============================] - 0s 4ms/step - loss: 8325.5127 - mae: 8325.5127\n",
            "Epoch 7/100\n",
            "34/34 [==============================] - 0s 4ms/step - loss: 8289.7100 - mae: 8289.7100\n",
            "Epoch 8/100\n",
            "34/34 [==============================] - 0s 4ms/step - loss: 8295.6904 - mae: 8295.6904\n",
            "Epoch 9/100\n",
            "34/34 [==============================] - 0s 5ms/step - loss: 8286.0811 - mae: 8286.0811\n",
            "Epoch 10/100\n",
            "34/34 [==============================] - 0s 4ms/step - loss: 8287.1855 - mae: 8287.1855\n",
            "Epoch 11/100\n",
            "34/34 [==============================] - 0s 5ms/step - loss: 8335.4463 - mae: 8335.4463\n",
            "Epoch 12/100\n",
            "34/34 [==============================] - 0s 7ms/step - loss: 8313.2705 - mae: 8313.2705\n",
            "Epoch 13/100\n",
            "34/34 [==============================] - 0s 6ms/step - loss: 8303.7949 - mae: 8303.7949\n",
            "Epoch 14/100\n",
            "34/34 [==============================] - 0s 5ms/step - loss: 8284.9072 - mae: 8284.9072\n",
            "Epoch 15/100\n",
            "34/34 [==============================] - 0s 5ms/step - loss: 8291.0322 - mae: 8291.0322\n",
            "Epoch 16/100\n",
            "34/34 [==============================] - 0s 5ms/step - loss: 8287.6201 - mae: 8287.6201\n",
            "Epoch 17/100\n",
            "34/34 [==============================] - 0s 4ms/step - loss: 8280.0137 - mae: 8280.0137\n",
            "Epoch 18/100\n",
            "34/34 [==============================] - 0s 4ms/step - loss: 8280.8232 - mae: 8280.8232\n",
            "Epoch 19/100\n",
            "34/34 [==============================] - 0s 4ms/step - loss: 8286.4775 - mae: 8286.4775\n",
            "Epoch 20/100\n",
            "34/34 [==============================] - 0s 4ms/step - loss: 8293.3545 - mae: 8293.3545\n",
            "Epoch 21/100\n",
            "34/34 [==============================] - 0s 4ms/step - loss: 8284.6162 - mae: 8284.6162\n",
            "Epoch 22/100\n",
            "34/34 [==============================] - 0s 3ms/step - loss: 8280.5605 - mae: 8280.5605\n",
            "Epoch 23/100\n",
            "34/34 [==============================] - 0s 5ms/step - loss: 8288.6592 - mae: 8288.6592\n",
            "Epoch 24/100\n",
            "34/34 [==============================] - 0s 6ms/step - loss: 8285.2285 - mae: 8285.2285\n",
            "Epoch 25/100\n",
            "34/34 [==============================] - 0s 6ms/step - loss: 8319.7891 - mae: 8319.7891\n",
            "Epoch 26/100\n",
            "34/34 [==============================] - 0s 5ms/step - loss: 8301.7910 - mae: 8301.7910\n",
            "Epoch 27/100\n",
            "34/34 [==============================] - 0s 6ms/step - loss: 8281.9414 - mae: 8281.9414\n",
            "Epoch 28/100\n",
            "34/34 [==============================] - 0s 5ms/step - loss: 8284.5459 - mae: 8284.5459\n",
            "Epoch 29/100\n",
            "34/34 [==============================] - 0s 5ms/step - loss: 8285.9160 - mae: 8285.9160\n",
            "Epoch 30/100\n",
            "34/34 [==============================] - 0s 6ms/step - loss: 8301.7617 - mae: 8301.7617\n",
            "Epoch 31/100\n",
            "34/34 [==============================] - 0s 5ms/step - loss: 8292.8037 - mae: 8292.8037\n",
            "Epoch 32/100\n",
            "34/34 [==============================] - 0s 6ms/step - loss: 8284.1426 - mae: 8284.1426\n",
            "Epoch 33/100\n",
            "34/34 [==============================] - 0s 6ms/step - loss: 8288.3652 - mae: 8288.3652\n",
            "Epoch 34/100\n",
            "34/34 [==============================] - 0s 4ms/step - loss: 8281.6719 - mae: 8281.6719\n",
            "Epoch 35/100\n",
            "34/34 [==============================] - 0s 4ms/step - loss: 8308.9980 - mae: 8308.9980\n",
            "Epoch 36/100\n",
            "34/34 [==============================] - 0s 3ms/step - loss: 8303.1777 - mae: 8303.1777\n",
            "Epoch 37/100\n",
            "34/34 [==============================] - 0s 4ms/step - loss: 8300.9990 - mae: 8300.9990\n",
            "Epoch 38/100\n",
            "34/34 [==============================] - 0s 4ms/step - loss: 8287.0029 - mae: 8287.0029\n",
            "Epoch 39/100\n",
            "34/34 [==============================] - 0s 4ms/step - loss: 8294.4580 - mae: 8294.4580\n",
            "Epoch 40/100\n",
            "34/34 [==============================] - 0s 4ms/step - loss: 8283.7266 - mae: 8283.7266\n",
            "Epoch 41/100\n",
            "34/34 [==============================] - 0s 4ms/step - loss: 8282.6533 - mae: 8282.6533\n",
            "Epoch 42/100\n",
            "34/34 [==============================] - 0s 5ms/step - loss: 8279.8818 - mae: 8279.8818\n",
            "Epoch 43/100\n",
            "34/34 [==============================] - 0s 5ms/step - loss: 8302.2480 - mae: 8302.2480\n",
            "Epoch 44/100\n",
            "34/34 [==============================] - 0s 5ms/step - loss: 8290.5938 - mae: 8290.5938\n",
            "Epoch 45/100\n",
            "34/34 [==============================] - 0s 5ms/step - loss: 8290.9521 - mae: 8290.9521\n",
            "Epoch 46/100\n",
            "34/34 [==============================] - 0s 7ms/step - loss: 8290.5791 - mae: 8290.5791\n",
            "Epoch 47/100\n",
            "34/34 [==============================] - 0s 4ms/step - loss: 8308.2939 - mae: 8308.2939\n",
            "Epoch 48/100\n",
            "34/34 [==============================] - 0s 4ms/step - loss: 8299.0781 - mae: 8299.0781\n",
            "Epoch 49/100\n",
            "34/34 [==============================] - 0s 4ms/step - loss: 8288.6309 - mae: 8288.6309\n",
            "Epoch 50/100\n",
            "34/34 [==============================] - 0s 4ms/step - loss: 8288.8779 - mae: 8288.8779\n",
            "Epoch 51/100\n",
            "34/34 [==============================] - 0s 4ms/step - loss: 8297.9199 - mae: 8297.9199\n",
            "Epoch 52/100\n",
            "34/34 [==============================] - 0s 5ms/step - loss: 8296.8916 - mae: 8296.8916\n",
            "Epoch 53/100\n",
            "34/34 [==============================] - 0s 4ms/step - loss: 8284.7695 - mae: 8284.7695\n",
            "Epoch 54/100\n",
            "34/34 [==============================] - 0s 5ms/step - loss: 8286.2715 - mae: 8286.2715\n",
            "Epoch 55/100\n",
            "34/34 [==============================] - 0s 6ms/step - loss: 8295.9873 - mae: 8295.9873\n",
            "Epoch 56/100\n",
            "34/34 [==============================] - 0s 5ms/step - loss: 8290.0186 - mae: 8290.0186\n",
            "Epoch 57/100\n",
            "34/34 [==============================] - 0s 4ms/step - loss: 8283.7314 - mae: 8283.7314\n",
            "Epoch 58/100\n",
            "34/34 [==============================] - 0s 6ms/step - loss: 8283.2559 - mae: 8283.2559\n",
            "Epoch 59/100\n",
            "34/34 [==============================] - 0s 6ms/step - loss: 8283.8984 - mae: 8283.8984\n",
            "Epoch 60/100\n",
            "34/34 [==============================] - 0s 6ms/step - loss: 8317.6748 - mae: 8317.6748\n",
            "Epoch 61/100\n",
            "34/34 [==============================] - 0s 6ms/step - loss: 8292.5371 - mae: 8292.5371\n",
            "Epoch 62/100\n",
            "34/34 [==============================] - 0s 4ms/step - loss: 8290.6514 - mae: 8290.6514\n",
            "Epoch 63/100\n",
            "34/34 [==============================] - 0s 6ms/step - loss: 8288.7480 - mae: 8288.7480\n",
            "Epoch 64/100\n",
            "34/34 [==============================] - 0s 4ms/step - loss: 8284.7939 - mae: 8284.7939\n",
            "Epoch 65/100\n",
            "34/34 [==============================] - 0s 5ms/step - loss: 8281.4238 - mae: 8281.4238\n",
            "Epoch 66/100\n",
            "34/34 [==============================] - 0s 4ms/step - loss: 8284.0410 - mae: 8284.0410\n",
            "Epoch 67/100\n",
            "34/34 [==============================] - 0s 4ms/step - loss: 8291.4443 - mae: 8291.4443\n",
            "Epoch 68/100\n",
            "34/34 [==============================] - 0s 4ms/step - loss: 8285.9219 - mae: 8285.9219\n",
            "Epoch 69/100\n",
            "34/34 [==============================] - 0s 5ms/step - loss: 8286.0527 - mae: 8286.0527\n",
            "Epoch 70/100\n",
            "34/34 [==============================] - 0s 3ms/step - loss: 8287.2129 - mae: 8287.2129\n",
            "Epoch 71/100\n",
            "34/34 [==============================] - 0s 4ms/step - loss: 8281.5693 - mae: 8281.5693\n",
            "Epoch 72/100\n",
            "34/34 [==============================] - 0s 4ms/step - loss: 8284.8096 - mae: 8284.8096\n",
            "Epoch 73/100\n",
            "34/34 [==============================] - 0s 4ms/step - loss: 8286.0615 - mae: 8286.0615\n",
            "Epoch 74/100\n",
            "34/34 [==============================] - 0s 4ms/step - loss: 8279.9658 - mae: 8279.9658\n",
            "Epoch 75/100\n",
            "34/34 [==============================] - 0s 4ms/step - loss: 8277.6572 - mae: 8277.6572\n",
            "Epoch 76/100\n",
            "34/34 [==============================] - 0s 4ms/step - loss: 8293.7480 - mae: 8293.7480\n",
            "Epoch 77/100\n",
            "34/34 [==============================] - 0s 4ms/step - loss: 8285.1152 - mae: 8285.1152\n",
            "Epoch 78/100\n",
            "34/34 [==============================] - 0s 4ms/step - loss: 8284.0938 - mae: 8284.0938\n",
            "Epoch 79/100\n",
            "34/34 [==============================] - 0s 4ms/step - loss: 8287.0020 - mae: 8287.0020\n",
            "Epoch 80/100\n",
            "34/34 [==============================] - 0s 4ms/step - loss: 8286.2324 - mae: 8286.2324\n",
            "Epoch 81/100\n",
            "34/34 [==============================] - 0s 4ms/step - loss: 8281.7285 - mae: 8281.7285\n",
            "Epoch 82/100\n",
            "34/34 [==============================] - 0s 4ms/step - loss: 8285.6338 - mae: 8285.6338\n",
            "Epoch 83/100\n",
            "34/34 [==============================] - 0s 4ms/step - loss: 8291.4600 - mae: 8291.4600\n",
            "Epoch 84/100\n",
            "34/34 [==============================] - 0s 5ms/step - loss: 8276.9229 - mae: 8276.9229\n",
            "Epoch 85/100\n",
            "34/34 [==============================] - 0s 5ms/step - loss: 8303.1943 - mae: 8303.1943\n",
            "Epoch 86/100\n",
            "34/34 [==============================] - 0s 5ms/step - loss: 8282.7500 - mae: 8282.7500\n",
            "Epoch 87/100\n",
            "34/34 [==============================] - 0s 6ms/step - loss: 8283.8105 - mae: 8283.8105\n",
            "Epoch 88/100\n",
            "34/34 [==============================] - 0s 6ms/step - loss: 8283.3506 - mae: 8283.3506\n",
            "Epoch 89/100\n",
            "34/34 [==============================] - 0s 5ms/step - loss: 8293.0996 - mae: 8293.0996\n",
            "Epoch 90/100\n",
            "34/34 [==============================] - 0s 6ms/step - loss: 8290.9482 - mae: 8290.9482\n",
            "Epoch 91/100\n",
            "34/34 [==============================] - 0s 4ms/step - loss: 8282.9541 - mae: 8282.9541\n",
            "Epoch 92/100\n",
            "34/34 [==============================] - 0s 5ms/step - loss: 8285.5381 - mae: 8285.5381\n",
            "Epoch 93/100\n",
            "34/34 [==============================] - 0s 6ms/step - loss: 8287.6699 - mae: 8287.6699\n",
            "Epoch 94/100\n",
            "34/34 [==============================] - 0s 5ms/step - loss: 8301.7969 - mae: 8301.7969\n",
            "Epoch 95/100\n",
            "34/34 [==============================] - 0s 4ms/step - loss: 8287.1172 - mae: 8287.1172\n",
            "Epoch 96/100\n",
            "34/34 [==============================] - 0s 9ms/step - loss: 8280.7646 - mae: 8280.7646\n",
            "Epoch 97/100\n",
            "34/34 [==============================] - 0s 7ms/step - loss: 8284.1621 - mae: 8284.1621\n",
            "Epoch 98/100\n",
            "34/34 [==============================] - 0s 7ms/step - loss: 8284.3486 - mae: 8284.3486\n",
            "Epoch 99/100\n",
            "34/34 [==============================] - 0s 8ms/step - loss: 8287.5684 - mae: 8287.5684\n",
            "Epoch 100/100\n",
            "34/34 [==============================] - 0s 6ms/step - loss: 8283.4688 - mae: 8283.4688\n"
          ]
        },
        {
          "output_type": "execute_result",
          "data": {
            "text/plain": [
              "<keras.callbacks.History at 0x7f2eefd4cd50>"
            ]
          },
          "metadata": {},
          "execution_count": 97
        }
      ]
    },
    {
      "cell_type": "code",
      "source": [
        "insurance_model2.evaluate(X_test, y_test)"
      ],
      "metadata": {
        "colab": {
          "base_uri": "https://localhost:8080/"
        },
        "id": "b9aTqPnfgz0g",
        "outputId": "72c1834c-6b3b-462d-a3d9-4c7076b0d2e8"
      },
      "execution_count": 98,
      "outputs": [
        {
          "output_type": "stream",
          "name": "stdout",
          "text": [
            "9/9 [==============================] - 0s 3ms/step - loss: 8630.2871 - mae: 8630.2871\n"
          ]
        },
        {
          "output_type": "execute_result",
          "data": {
            "text/plain": [
              "[8630.287109375, 8630.287109375]"
            ]
          },
          "metadata": {},
          "execution_count": 98
        }
      ]
    },
    {
      "cell_type": "code",
      "source": [
        "#set random seed\n",
        "tf.random.set_seed(42)\n",
        "\n",
        "insurance_model3=tf.keras.Sequential([\n",
        "                                      tf.keras.layers.Dense(100),\n",
        "                                      tf.keras.layers.Dense(10),\n",
        "                                      tf.keras.layers.Dense(1),\n",
        "\n",
        "])\n",
        "\n",
        "insurance_model3.compile(loss=tf.keras.losses.mae,\n",
        "                         optimizer=tf.keras.optimizers.Adam(lr= 0.01),\n",
        "                         metrics=[\"mae\"])\n",
        "\n",
        "history= insurance_model3.fit(tf.expand_dims(X_train, axis=-1), y_train, epochs=200, verbose=1)\n",
        "                     "
      ],
      "metadata": {
        "colab": {
          "base_uri": "https://localhost:8080/"
        },
        "id": "JpdgBOFVhquD",
        "outputId": "11b02324-be7c-4937-809f-9a7f8aa2c967"
      },
      "execution_count": 99,
      "outputs": [
        {
          "output_type": "stream",
          "name": "stderr",
          "text": [
            "/usr/local/lib/python3.7/dist-packages/keras/optimizer_v2/adam.py:105: UserWarning: The `lr` argument is deprecated, use `learning_rate` instead.\n",
            "  super(Adam, self).__init__(name, **kwargs)\n"
          ]
        },
        {
          "output_type": "stream",
          "name": "stdout",
          "text": [
            "Epoch 1/200\n",
            "34/34 [==============================] - 1s 4ms/step - loss: 13109.1064 - mae: 13109.1064\n",
            "Epoch 2/200\n",
            "34/34 [==============================] - 0s 3ms/step - loss: 12110.5186 - mae: 12110.5186\n",
            "Epoch 3/200\n",
            "34/34 [==============================] - 0s 4ms/step - loss: 11793.1279 - mae: 11793.1279\n",
            "Epoch 4/200\n",
            "34/34 [==============================] - 0s 4ms/step - loss: 10924.1523 - mae: 10924.1523\n",
            "Epoch 5/200\n",
            "34/34 [==============================] - 0s 4ms/step - loss: 9199.4648 - mae: 9199.4648\n",
            "Epoch 6/200\n",
            "34/34 [==============================] - 0s 3ms/step - loss: 8325.5127 - mae: 8325.5127\n",
            "Epoch 7/200\n",
            "34/34 [==============================] - 0s 2ms/step - loss: 8289.7100 - mae: 8289.7100\n",
            "Epoch 8/200\n",
            "34/34 [==============================] - 0s 5ms/step - loss: 8295.6904 - mae: 8295.6904\n",
            "Epoch 9/200\n",
            "34/34 [==============================] - 0s 7ms/step - loss: 8286.0811 - mae: 8286.0811\n",
            "Epoch 10/200\n",
            "34/34 [==============================] - 0s 6ms/step - loss: 8287.1855 - mae: 8287.1855\n",
            "Epoch 11/200\n",
            "34/34 [==============================] - 0s 7ms/step - loss: 8335.4463 - mae: 8335.4463\n",
            "Epoch 12/200\n",
            "34/34 [==============================] - 0s 6ms/step - loss: 8313.2705 - mae: 8313.2705\n",
            "Epoch 13/200\n",
            "34/34 [==============================] - 0s 4ms/step - loss: 8303.7949 - mae: 8303.7949\n",
            "Epoch 14/200\n",
            "34/34 [==============================] - 0s 3ms/step - loss: 8284.9072 - mae: 8284.9072\n",
            "Epoch 15/200\n",
            "34/34 [==============================] - 0s 4ms/step - loss: 8291.0322 - mae: 8291.0322\n",
            "Epoch 16/200\n",
            "34/34 [==============================] - 0s 5ms/step - loss: 8287.6201 - mae: 8287.6201\n",
            "Epoch 17/200\n",
            "34/34 [==============================] - 0s 4ms/step - loss: 8280.0137 - mae: 8280.0137\n",
            "Epoch 18/200\n",
            "34/34 [==============================] - 0s 4ms/step - loss: 8280.8232 - mae: 8280.8232\n",
            "Epoch 19/200\n",
            "34/34 [==============================] - 0s 4ms/step - loss: 8286.4775 - mae: 8286.4775\n",
            "Epoch 20/200\n",
            "34/34 [==============================] - 0s 6ms/step - loss: 8293.3545 - mae: 8293.3545\n",
            "Epoch 21/200\n",
            "34/34 [==============================] - 0s 5ms/step - loss: 8284.6162 - mae: 8284.6162\n",
            "Epoch 22/200\n",
            "34/34 [==============================] - 0s 6ms/step - loss: 8280.5605 - mae: 8280.5605\n",
            "Epoch 23/200\n",
            "34/34 [==============================] - 0s 7ms/step - loss: 8288.6592 - mae: 8288.6592\n",
            "Epoch 24/200\n",
            "34/34 [==============================] - 0s 6ms/step - loss: 8285.2285 - mae: 8285.2285\n",
            "Epoch 25/200\n",
            "34/34 [==============================] - 0s 5ms/step - loss: 8319.7891 - mae: 8319.7891\n",
            "Epoch 26/200\n",
            "34/34 [==============================] - 0s 6ms/step - loss: 8301.7910 - mae: 8301.7910\n",
            "Epoch 27/200\n",
            "34/34 [==============================] - 0s 5ms/step - loss: 8281.9414 - mae: 8281.9414\n",
            "Epoch 28/200\n",
            "34/34 [==============================] - 0s 6ms/step - loss: 8284.5459 - mae: 8284.5459\n",
            "Epoch 29/200\n",
            "34/34 [==============================] - 0s 5ms/step - loss: 8285.9160 - mae: 8285.9160\n",
            "Epoch 30/200\n",
            "34/34 [==============================] - 0s 6ms/step - loss: 8301.7617 - mae: 8301.7617\n",
            "Epoch 31/200\n",
            "34/34 [==============================] - 0s 7ms/step - loss: 8292.8037 - mae: 8292.8037\n",
            "Epoch 32/200\n",
            "34/34 [==============================] - 0s 6ms/step - loss: 8284.1426 - mae: 8284.1426\n",
            "Epoch 33/200\n",
            "34/34 [==============================] - 0s 6ms/step - loss: 8288.3652 - mae: 8288.3652\n",
            "Epoch 34/200\n",
            "34/34 [==============================] - 0s 5ms/step - loss: 8281.6719 - mae: 8281.6719\n",
            "Epoch 35/200\n",
            "34/34 [==============================] - 0s 7ms/step - loss: 8308.9980 - mae: 8308.9980\n",
            "Epoch 36/200\n",
            "34/34 [==============================] - 0s 7ms/step - loss: 8303.1777 - mae: 8303.1777\n",
            "Epoch 37/200\n",
            "34/34 [==============================] - 0s 7ms/step - loss: 8300.9990 - mae: 8300.9990\n",
            "Epoch 38/200\n",
            "34/34 [==============================] - 0s 6ms/step - loss: 8287.0029 - mae: 8287.0029\n",
            "Epoch 39/200\n",
            "34/34 [==============================] - 0s 6ms/step - loss: 8294.4580 - mae: 8294.4580\n",
            "Epoch 40/200\n",
            "34/34 [==============================] - 0s 5ms/step - loss: 8283.7266 - mae: 8283.7266\n",
            "Epoch 41/200\n",
            "34/34 [==============================] - 0s 5ms/step - loss: 8282.6533 - mae: 8282.6533\n",
            "Epoch 42/200\n",
            "34/34 [==============================] - 0s 4ms/step - loss: 8279.8818 - mae: 8279.8818\n",
            "Epoch 43/200\n",
            "34/34 [==============================] - 0s 7ms/step - loss: 8302.2480 - mae: 8302.2480\n",
            "Epoch 44/200\n",
            "34/34 [==============================] - 0s 4ms/step - loss: 8290.5938 - mae: 8290.5938\n",
            "Epoch 45/200\n",
            "34/34 [==============================] - 0s 4ms/step - loss: 8290.9521 - mae: 8290.9521\n",
            "Epoch 46/200\n",
            "34/34 [==============================] - 0s 4ms/step - loss: 8290.5791 - mae: 8290.5791\n",
            "Epoch 47/200\n",
            "34/34 [==============================] - 0s 3ms/step - loss: 8308.2939 - mae: 8308.2939\n",
            "Epoch 48/200\n",
            "34/34 [==============================] - 0s 4ms/step - loss: 8299.0781 - mae: 8299.0781\n",
            "Epoch 49/200\n",
            "34/34 [==============================] - 0s 4ms/step - loss: 8288.6309 - mae: 8288.6309\n",
            "Epoch 50/200\n",
            "34/34 [==============================] - 0s 4ms/step - loss: 8288.8779 - mae: 8288.8779\n",
            "Epoch 51/200\n",
            "34/34 [==============================] - 0s 4ms/step - loss: 8297.9199 - mae: 8297.9199\n",
            "Epoch 52/200\n",
            "34/34 [==============================] - 0s 3ms/step - loss: 8296.8916 - mae: 8296.8916\n",
            "Epoch 53/200\n",
            "34/34 [==============================] - 0s 3ms/step - loss: 8284.7695 - mae: 8284.7695\n",
            "Epoch 54/200\n",
            "34/34 [==============================] - 0s 3ms/step - loss: 8286.2715 - mae: 8286.2715\n",
            "Epoch 55/200\n",
            "34/34 [==============================] - 0s 3ms/step - loss: 8295.9873 - mae: 8295.9873\n",
            "Epoch 56/200\n",
            "34/34 [==============================] - 0s 4ms/step - loss: 8290.0186 - mae: 8290.0186\n",
            "Epoch 57/200\n",
            "34/34 [==============================] - 0s 3ms/step - loss: 8283.7314 - mae: 8283.7314\n",
            "Epoch 58/200\n",
            "34/34 [==============================] - 0s 4ms/step - loss: 8283.2559 - mae: 8283.2559\n",
            "Epoch 59/200\n",
            "34/34 [==============================] - 0s 3ms/step - loss: 8283.8984 - mae: 8283.8984\n",
            "Epoch 60/200\n",
            "34/34 [==============================] - 0s 4ms/step - loss: 8317.6748 - mae: 8317.6748\n",
            "Epoch 61/200\n",
            "34/34 [==============================] - 0s 4ms/step - loss: 8292.5371 - mae: 8292.5371\n",
            "Epoch 62/200\n",
            "34/34 [==============================] - 0s 4ms/step - loss: 8290.6514 - mae: 8290.6514\n",
            "Epoch 63/200\n",
            "34/34 [==============================] - 0s 4ms/step - loss: 8288.7480 - mae: 8288.7480\n",
            "Epoch 64/200\n",
            "34/34 [==============================] - 0s 3ms/step - loss: 8284.7939 - mae: 8284.7939\n",
            "Epoch 65/200\n",
            "34/34 [==============================] - 0s 3ms/step - loss: 8281.4238 - mae: 8281.4238\n",
            "Epoch 66/200\n",
            "34/34 [==============================] - 0s 5ms/step - loss: 8284.0410 - mae: 8284.0410\n",
            "Epoch 67/200\n",
            "34/34 [==============================] - 0s 5ms/step - loss: 8291.4443 - mae: 8291.4443\n",
            "Epoch 68/200\n",
            "34/34 [==============================] - 0s 4ms/step - loss: 8285.9219 - mae: 8285.9219\n",
            "Epoch 69/200\n",
            "34/34 [==============================] - 0s 3ms/step - loss: 8286.0527 - mae: 8286.0527\n",
            "Epoch 70/200\n",
            "34/34 [==============================] - 0s 3ms/step - loss: 8287.2129 - mae: 8287.2129\n",
            "Epoch 71/200\n",
            "34/34 [==============================] - 0s 6ms/step - loss: 8281.5693 - mae: 8281.5693\n",
            "Epoch 72/200\n",
            "34/34 [==============================] - 0s 4ms/step - loss: 8284.8096 - mae: 8284.8096\n",
            "Epoch 73/200\n",
            "34/34 [==============================] - 0s 4ms/step - loss: 8286.0615 - mae: 8286.0615\n",
            "Epoch 74/200\n",
            "34/34 [==============================] - 0s 4ms/step - loss: 8279.9658 - mae: 8279.9658\n",
            "Epoch 75/200\n",
            "34/34 [==============================] - 0s 4ms/step - loss: 8277.6572 - mae: 8277.6572\n",
            "Epoch 76/200\n",
            "34/34 [==============================] - 0s 4ms/step - loss: 8293.7480 - mae: 8293.7480\n",
            "Epoch 77/200\n",
            "34/34 [==============================] - 0s 4ms/step - loss: 8285.1152 - mae: 8285.1152\n",
            "Epoch 78/200\n",
            "34/34 [==============================] - 0s 4ms/step - loss: 8284.0938 - mae: 8284.0938\n",
            "Epoch 79/200\n",
            "34/34 [==============================] - 0s 4ms/step - loss: 8287.0020 - mae: 8287.0020\n",
            "Epoch 80/200\n",
            "34/34 [==============================] - 0s 4ms/step - loss: 8286.2324 - mae: 8286.2324\n",
            "Epoch 81/200\n",
            "34/34 [==============================] - 0s 5ms/step - loss: 8281.7285 - mae: 8281.7285\n",
            "Epoch 82/200\n",
            "34/34 [==============================] - 0s 5ms/step - loss: 8285.6338 - mae: 8285.6338\n",
            "Epoch 83/200\n",
            "34/34 [==============================] - 0s 6ms/step - loss: 8291.4600 - mae: 8291.4600\n",
            "Epoch 84/200\n",
            "34/34 [==============================] - 0s 5ms/step - loss: 8276.9229 - mae: 8276.9229\n",
            "Epoch 85/200\n",
            "34/34 [==============================] - 0s 5ms/step - loss: 8303.1943 - mae: 8303.1943\n",
            "Epoch 86/200\n",
            "34/34 [==============================] - 0s 6ms/step - loss: 8282.7500 - mae: 8282.7500\n",
            "Epoch 87/200\n",
            "34/34 [==============================] - 0s 5ms/step - loss: 8283.8105 - mae: 8283.8105\n",
            "Epoch 88/200\n",
            "34/34 [==============================] - 0s 3ms/step - loss: 8283.3506 - mae: 8283.3506\n",
            "Epoch 89/200\n",
            "34/34 [==============================] - 0s 3ms/step - loss: 8293.0996 - mae: 8293.0996\n",
            "Epoch 90/200\n",
            "34/34 [==============================] - 0s 3ms/step - loss: 8290.9482 - mae: 8290.9482\n",
            "Epoch 91/200\n",
            "34/34 [==============================] - 0s 3ms/step - loss: 8282.9541 - mae: 8282.9541\n",
            "Epoch 92/200\n",
            "34/34 [==============================] - 0s 3ms/step - loss: 8285.5381 - mae: 8285.5381\n",
            "Epoch 93/200\n",
            "34/34 [==============================] - 0s 4ms/step - loss: 8287.6699 - mae: 8287.6699\n",
            "Epoch 94/200\n",
            "34/34 [==============================] - 0s 4ms/step - loss: 8301.7969 - mae: 8301.7969\n",
            "Epoch 95/200\n",
            "34/34 [==============================] - 0s 4ms/step - loss: 8287.1172 - mae: 8287.1172\n",
            "Epoch 96/200\n",
            "34/34 [==============================] - 0s 3ms/step - loss: 8280.7646 - mae: 8280.7646\n",
            "Epoch 97/200\n",
            "34/34 [==============================] - 0s 4ms/step - loss: 8284.1621 - mae: 8284.1621\n",
            "Epoch 98/200\n",
            "34/34 [==============================] - 0s 4ms/step - loss: 8284.3486 - mae: 8284.3486\n",
            "Epoch 99/200\n",
            "34/34 [==============================] - 0s 4ms/step - loss: 8287.5684 - mae: 8287.5684\n",
            "Epoch 100/200\n",
            "34/34 [==============================] - 0s 4ms/step - loss: 8283.4688 - mae: 8283.4688\n",
            "Epoch 101/200\n",
            "34/34 [==============================] - 0s 4ms/step - loss: 8293.7188 - mae: 8293.7188\n",
            "Epoch 102/200\n",
            "34/34 [==============================] - 0s 4ms/step - loss: 8287.4062 - mae: 8287.4062\n",
            "Epoch 103/200\n",
            "34/34 [==============================] - 0s 7ms/step - loss: 8286.7598 - mae: 8286.7598\n",
            "Epoch 104/200\n",
            "34/34 [==============================] - 0s 7ms/step - loss: 8281.8350 - mae: 8281.8350\n",
            "Epoch 105/200\n",
            "34/34 [==============================] - 0s 6ms/step - loss: 8289.3975 - mae: 8289.3975\n",
            "Epoch 106/200\n",
            "34/34 [==============================] - 0s 5ms/step - loss: 8283.4834 - mae: 8283.4834\n",
            "Epoch 107/200\n",
            "34/34 [==============================] - 0s 6ms/step - loss: 8285.8789 - mae: 8285.8789\n",
            "Epoch 108/200\n",
            "34/34 [==============================] - 0s 6ms/step - loss: 8290.1543 - mae: 8290.1543\n",
            "Epoch 109/200\n",
            "34/34 [==============================] - 0s 7ms/step - loss: 8299.4785 - mae: 8299.4785\n",
            "Epoch 110/200\n",
            "34/34 [==============================] - 0s 5ms/step - loss: 8288.0547 - mae: 8288.0547\n",
            "Epoch 111/200\n",
            "34/34 [==============================] - 0s 6ms/step - loss: 8286.9375 - mae: 8286.9375\n",
            "Epoch 112/200\n",
            "34/34 [==============================] - 0s 4ms/step - loss: 8281.3096 - mae: 8281.3096\n",
            "Epoch 113/200\n",
            "34/34 [==============================] - 0s 5ms/step - loss: 8284.7256 - mae: 8284.7256\n",
            "Epoch 114/200\n",
            "34/34 [==============================] - 0s 6ms/step - loss: 8286.3965 - mae: 8286.3965\n",
            "Epoch 115/200\n",
            "34/34 [==============================] - 0s 5ms/step - loss: 8287.4668 - mae: 8287.4668\n",
            "Epoch 116/200\n",
            "34/34 [==============================] - 0s 5ms/step - loss: 8282.8428 - mae: 8282.8428\n",
            "Epoch 117/200\n",
            "34/34 [==============================] - 0s 5ms/step - loss: 8285.5283 - mae: 8285.5283\n",
            "Epoch 118/200\n",
            "34/34 [==============================] - 0s 5ms/step - loss: 8284.1064 - mae: 8284.1064\n",
            "Epoch 119/200\n",
            "34/34 [==============================] - 0s 5ms/step - loss: 8287.6797 - mae: 8287.6797\n",
            "Epoch 120/200\n",
            "34/34 [==============================] - 0s 6ms/step - loss: 8282.2236 - mae: 8282.2236\n",
            "Epoch 121/200\n",
            "34/34 [==============================] - 0s 5ms/step - loss: 8284.4150 - mae: 8284.4150\n",
            "Epoch 122/200\n",
            "34/34 [==============================] - 0s 7ms/step - loss: 8281.7412 - mae: 8281.7412\n",
            "Epoch 123/200\n",
            "34/34 [==============================] - 0s 4ms/step - loss: 8290.0381 - mae: 8290.0381\n",
            "Epoch 124/200\n",
            "34/34 [==============================] - 0s 4ms/step - loss: 8292.2744 - mae: 8292.2744\n",
            "Epoch 125/200\n",
            "34/34 [==============================] - 0s 4ms/step - loss: 8287.9873 - mae: 8287.9873\n",
            "Epoch 126/200\n",
            "34/34 [==============================] - 0s 4ms/step - loss: 8297.8135 - mae: 8297.8135\n",
            "Epoch 127/200\n",
            "34/34 [==============================] - 0s 4ms/step - loss: 8290.6855 - mae: 8290.6855\n",
            "Epoch 128/200\n",
            "34/34 [==============================] - 0s 4ms/step - loss: 8283.0732 - mae: 8283.0732\n",
            "Epoch 129/200\n",
            "34/34 [==============================] - 0s 4ms/step - loss: 8280.7285 - mae: 8280.7285\n",
            "Epoch 130/200\n",
            "34/34 [==============================] - 0s 5ms/step - loss: 8285.0713 - mae: 8285.0713\n",
            "Epoch 131/200\n",
            "34/34 [==============================] - 0s 6ms/step - loss: 8292.0156 - mae: 8292.0156\n",
            "Epoch 132/200\n",
            "34/34 [==============================] - 0s 6ms/step - loss: 8281.8916 - mae: 8281.8916\n",
            "Epoch 133/200\n",
            "34/34 [==============================] - 0s 5ms/step - loss: 8281.2471 - mae: 8281.2471\n",
            "Epoch 134/200\n",
            "34/34 [==============================] - 0s 6ms/step - loss: 8280.6523 - mae: 8280.6523\n",
            "Epoch 135/200\n",
            "34/34 [==============================] - 0s 6ms/step - loss: 8279.2168 - mae: 8279.2168\n",
            "Epoch 136/200\n",
            "34/34 [==============================] - 0s 4ms/step - loss: 8280.0781 - mae: 8280.0781\n",
            "Epoch 137/200\n",
            "34/34 [==============================] - 0s 5ms/step - loss: 8281.9160 - mae: 8281.9160\n",
            "Epoch 138/200\n",
            "34/34 [==============================] - 0s 5ms/step - loss: 8289.5508 - mae: 8289.5508\n",
            "Epoch 139/200\n",
            "34/34 [==============================] - 0s 4ms/step - loss: 8285.1250 - mae: 8285.1250\n",
            "Epoch 140/200\n",
            "34/34 [==============================] - 0s 6ms/step - loss: 8284.3115 - mae: 8284.3115\n",
            "Epoch 141/200\n",
            "34/34 [==============================] - 0s 4ms/step - loss: 8283.5068 - mae: 8283.5068\n",
            "Epoch 142/200\n",
            "34/34 [==============================] - 0s 4ms/step - loss: 8294.5010 - mae: 8294.5010\n",
            "Epoch 143/200\n",
            "34/34 [==============================] - 0s 4ms/step - loss: 8283.9980 - mae: 8283.9980\n",
            "Epoch 144/200\n",
            "34/34 [==============================] - 0s 4ms/step - loss: 8290.5225 - mae: 8290.5225\n",
            "Epoch 145/200\n",
            "34/34 [==============================] - 0s 5ms/step - loss: 8295.5557 - mae: 8295.5557\n",
            "Epoch 146/200\n",
            "34/34 [==============================] - 0s 4ms/step - loss: 8294.1797 - mae: 8294.1797\n",
            "Epoch 147/200\n",
            "34/34 [==============================] - 0s 5ms/step - loss: 8297.2139 - mae: 8297.2139\n",
            "Epoch 148/200\n",
            "34/34 [==============================] - 0s 5ms/step - loss: 8282.4912 - mae: 8282.4912\n",
            "Epoch 149/200\n",
            "34/34 [==============================] - 0s 5ms/step - loss: 8281.3584 - mae: 8281.3584\n",
            "Epoch 150/200\n",
            "34/34 [==============================] - 0s 5ms/step - loss: 8287.1543 - mae: 8287.1543\n",
            "Epoch 151/200\n",
            "34/34 [==============================] - 0s 6ms/step - loss: 8284.2412 - mae: 8284.2412\n",
            "Epoch 152/200\n",
            "34/34 [==============================] - 0s 6ms/step - loss: 8283.1523 - mae: 8283.1523\n",
            "Epoch 153/200\n",
            "34/34 [==============================] - 0s 7ms/step - loss: 8289.9727 - mae: 8289.9727\n",
            "Epoch 154/200\n",
            "34/34 [==============================] - 0s 8ms/step - loss: 8283.8633 - mae: 8283.8633\n",
            "Epoch 155/200\n",
            "34/34 [==============================] - 0s 6ms/step - loss: 8286.2285 - mae: 8286.2285\n",
            "Epoch 156/200\n",
            "34/34 [==============================] - 0s 5ms/step - loss: 8284.9023 - mae: 8284.9023\n",
            "Epoch 157/200\n",
            "34/34 [==============================] - 0s 6ms/step - loss: 8294.7334 - mae: 8294.7334\n",
            "Epoch 158/200\n",
            "34/34 [==============================] - 0s 6ms/step - loss: 8309.8301 - mae: 8309.8301\n",
            "Epoch 159/200\n",
            "34/34 [==============================] - 0s 5ms/step - loss: 8279.0518 - mae: 8279.0518\n",
            "Epoch 160/200\n",
            "34/34 [==============================] - 0s 5ms/step - loss: 8289.4756 - mae: 8289.4756\n",
            "Epoch 161/200\n",
            "34/34 [==============================] - 0s 6ms/step - loss: 8277.7393 - mae: 8277.7393\n",
            "Epoch 162/200\n",
            "34/34 [==============================] - 0s 5ms/step - loss: 8288.3359 - mae: 8288.3359\n",
            "Epoch 163/200\n",
            "34/34 [==============================] - 0s 4ms/step - loss: 8278.6250 - mae: 8278.6250\n",
            "Epoch 164/200\n",
            "34/34 [==============================] - 0s 4ms/step - loss: 8282.5146 - mae: 8282.5146\n",
            "Epoch 165/200\n",
            "34/34 [==============================] - 0s 4ms/step - loss: 8315.7539 - mae: 8315.7539\n",
            "Epoch 166/200\n",
            "34/34 [==============================] - 0s 3ms/step - loss: 8298.8887 - mae: 8298.8887\n",
            "Epoch 167/200\n",
            "34/34 [==============================] - 0s 4ms/step - loss: 8300.3574 - mae: 8300.3574\n",
            "Epoch 168/200\n",
            "34/34 [==============================] - 0s 3ms/step - loss: 8290.3809 - mae: 8290.3809\n",
            "Epoch 169/200\n",
            "34/34 [==============================] - 0s 4ms/step - loss: 8291.8818 - mae: 8291.8818\n",
            "Epoch 170/200\n",
            "34/34 [==============================] - 0s 4ms/step - loss: 8282.4189 - mae: 8282.4189\n",
            "Epoch 171/200\n",
            "34/34 [==============================] - 0s 4ms/step - loss: 8284.1846 - mae: 8284.1846\n",
            "Epoch 172/200\n",
            "34/34 [==============================] - 0s 4ms/step - loss: 8291.5615 - mae: 8291.5615\n",
            "Epoch 173/200\n",
            "34/34 [==============================] - 0s 4ms/step - loss: 8289.1758 - mae: 8289.1758\n",
            "Epoch 174/200\n",
            "34/34 [==============================] - 0s 3ms/step - loss: 8284.8496 - mae: 8284.8496\n",
            "Epoch 175/200\n",
            "34/34 [==============================] - 0s 3ms/step - loss: 8277.6230 - mae: 8277.6230\n",
            "Epoch 176/200\n",
            "34/34 [==============================] - 0s 4ms/step - loss: 8301.3750 - mae: 8301.3750\n",
            "Epoch 177/200\n",
            "34/34 [==============================] - 0s 5ms/step - loss: 8295.5703 - mae: 8295.5703\n",
            "Epoch 178/200\n",
            "34/34 [==============================] - 0s 4ms/step - loss: 8278.8936 - mae: 8278.8936\n",
            "Epoch 179/200\n",
            "34/34 [==============================] - 0s 3ms/step - loss: 8289.4258 - mae: 8289.4258\n",
            "Epoch 180/200\n",
            "34/34 [==============================] - 0s 4ms/step - loss: 8285.1670 - mae: 8285.1670\n",
            "Epoch 181/200\n",
            "34/34 [==============================] - 0s 3ms/step - loss: 8284.3008 - mae: 8284.3008\n",
            "Epoch 182/200\n",
            "34/34 [==============================] - 0s 4ms/step - loss: 8281.9717 - mae: 8281.9717\n",
            "Epoch 183/200\n",
            "34/34 [==============================] - 0s 4ms/step - loss: 8292.3848 - mae: 8292.3848\n",
            "Epoch 184/200\n",
            "34/34 [==============================] - 0s 4ms/step - loss: 8285.4131 - mae: 8285.4131\n",
            "Epoch 185/200\n",
            "34/34 [==============================] - 0s 4ms/step - loss: 8286.2041 - mae: 8286.2041\n",
            "Epoch 186/200\n",
            "34/34 [==============================] - 0s 3ms/step - loss: 8306.7549 - mae: 8306.7549\n",
            "Epoch 187/200\n",
            "34/34 [==============================] - 0s 3ms/step - loss: 8291.2207 - mae: 8291.2207\n",
            "Epoch 188/200\n",
            "34/34 [==============================] - 0s 4ms/step - loss: 8283.1299 - mae: 8283.1299\n",
            "Epoch 189/200\n",
            "34/34 [==============================] - 0s 3ms/step - loss: 8289.3975 - mae: 8289.3975\n",
            "Epoch 190/200\n",
            "34/34 [==============================] - 0s 3ms/step - loss: 8293.7832 - mae: 8293.7832\n",
            "Epoch 191/200\n",
            "34/34 [==============================] - 0s 4ms/step - loss: 8276.4951 - mae: 8276.4951\n",
            "Epoch 192/200\n",
            "34/34 [==============================] - 0s 4ms/step - loss: 8287.0674 - mae: 8287.0674\n",
            "Epoch 193/200\n",
            "34/34 [==============================] - 0s 5ms/step - loss: 8287.9434 - mae: 8287.9434\n",
            "Epoch 194/200\n",
            "34/34 [==============================] - 0s 4ms/step - loss: 8292.3711 - mae: 8292.3711\n",
            "Epoch 195/200\n",
            "34/34 [==============================] - 0s 4ms/step - loss: 8307.0166 - mae: 8307.0166\n",
            "Epoch 196/200\n",
            "34/34 [==============================] - 0s 4ms/step - loss: 8296.5430 - mae: 8296.5430\n",
            "Epoch 197/200\n",
            "34/34 [==============================] - 0s 4ms/step - loss: 8288.5693 - mae: 8288.5693\n",
            "Epoch 198/200\n",
            "34/34 [==============================] - 0s 5ms/step - loss: 8289.7500 - mae: 8289.7500\n",
            "Epoch 199/200\n",
            "34/34 [==============================] - 0s 5ms/step - loss: 8281.1963 - mae: 8281.1963\n",
            "Epoch 200/200\n",
            "34/34 [==============================] - 0s 6ms/step - loss: 8286.9385 - mae: 8286.9385\n"
          ]
        }
      ]
    },
    {
      "cell_type": "code",
      "source": [
        "insurance_model3.evaluate(X_test, y_test)"
      ],
      "metadata": {
        "colab": {
          "base_uri": "https://localhost:8080/"
        },
        "id": "OJvkVCq_i-tG",
        "outputId": "458fb6c3-ac31-4d3d-cef2-3e6da2ffa101"
      },
      "execution_count": 100,
      "outputs": [
        {
          "output_type": "stream",
          "name": "stdout",
          "text": [
            "9/9 [==============================] - 0s 3ms/step - loss: 8640.6270 - mae: 8640.6270\n"
          ]
        },
        {
          "output_type": "execute_result",
          "data": {
            "text/plain": [
              "[8640.626953125, 8640.626953125]"
            ]
          },
          "metadata": {},
          "execution_count": 100
        }
      ]
    },
    {
      "cell_type": "code",
      "source": [
        "#plot history (also knows as a loss curve or a training curve)\n",
        "pd.DataFrame(history.history).plot()\n",
        "plt.ylabel(\"loss\")\n",
        "plt.xlabel(\"epochs\")"
      ],
      "metadata": {
        "colab": {
          "base_uri": "https://localhost:8080/",
          "height": 296
        },
        "id": "jCPmgHJ0jKAF",
        "outputId": "7ca79fb4-0f0f-4959-a2f6-d2ef92dab06e"
      },
      "execution_count": 102,
      "outputs": [
        {
          "output_type": "execute_result",
          "data": {
            "text/plain": [
              "Text(0.5, 0, 'epochs')"
            ]
          },
          "metadata": {},
          "execution_count": 102
        },
        {
          "output_type": "display_data",
          "data": {
            "image/png": "[encoded data removed]",
            "text/plain": [
              "<Figure size 432x288 with 1 Axes>"
            ]
          },
          "metadata": {
            "needs_background": "light"
          }
        }
      ]
    },
    {
      "cell_type": "markdown",
      "source": [
        "###Preprocessing data (normalization and standardization)"
      ],
      "metadata": {
        "id": "ZsJ3MYm8jgKR"
      }
    },
    {
      "cell_type": "code",
      "source": [
        "X"
      ],
      "metadata": {
        "colab": {
          "base_uri": "https://localhost:8080/",
          "height": 488
        },
        "id": "SgJ_MdCSkjuQ",
        "outputId": "6b456652-e8d4-4077-d157-7ff0068f1479"
      },
      "execution_count": 103,
      "outputs": [
        {
          "output_type": "execute_result",
          "data": {
            "text/html": [
              "\n",
              "  <div id=\"df-7d54c371-37db-4a29-819a-cc8cf84ad551\">\n",
              "    <div class=\"colab-df-container\">\n",
              "      <div>\n",
              "<style scoped>\n",
              "    .dataframe tbody tr th:only-of-type {\n",
              "        vertical-align: middle;\n",
              "    }\n",
              "\n",
              "    .dataframe tbody tr th {\n",
              "        vertical-align: top;\n",
              "    }\n",
              "\n",
              "    .dataframe thead th {\n",
              "        text-align: right;\n",
              "    }\n",
              "</style>\n",
              "<table border=\"1\" class=\"dataframe\">\n",
              "  <thead>\n",
              "    <tr style=\"text-align: right;\">\n",
              "      <th></th>\n",
              "      <th>age</th>\n",
              "      <th>bmi</th>\n",
              "      <th>children</th>\n",
              "      <th>sex_female</th>\n",
              "      <th>sex_male</th>\n",
              "      <th>smoker_no</th>\n",
              "      <th>smoker_yes</th>\n",
              "      <th>region_northeast</th>\n",
              "      <th>region_northwest</th>\n",
              "      <th>region_southeast</th>\n",
              "      <th>region_southwest</th>\n",
              "    </tr>\n",
              "  </thead>\n",
              "  <tbody>\n",
              "    <tr>\n",
              "      <th>0</th>\n",
              "      <td>19</td>\n",
              "      <td>27.9</td>\n",
              "      <td>0</td>\n",
              "      <td>1</td>\n",
              "      <td>0</td>\n",
              "      <td>0</td>\n",
              "      <td>1</td>\n",
              "      <td>0</td>\n",
              "      <td>0</td>\n",
              "      <td>0</td>\n",
              "      <td>1</td>\n",
              "    </tr>\n",
              "    <tr>\n",
              "      <th>1</th>\n",
              "      <td>18</td>\n",
              "      <td>33.8</td>\n",
              "      <td>1</td>\n",
              "      <td>0</td>\n",
              "      <td>1</td>\n",
              "      <td>1</td>\n",
              "      <td>0</td>\n",
              "      <td>0</td>\n",
              "      <td>0</td>\n",
              "      <td>1</td>\n",
              "      <td>0</td>\n",
              "    </tr>\n",
              "    <tr>\n",
              "      <th>2</th>\n",
              "      <td>28</td>\n",
              "      <td>33.0</td>\n",
              "      <td>3</td>\n",
              "      <td>0</td>\n",
              "      <td>1</td>\n",
              "      <td>1</td>\n",
              "      <td>0</td>\n",
              "      <td>0</td>\n",
              "      <td>0</td>\n",
              "      <td>1</td>\n",
              "      <td>0</td>\n",
              "    </tr>\n",
              "    <tr>\n",
              "      <th>3</th>\n",
              "      <td>33</td>\n",
              "      <td>22.7</td>\n",
              "      <td>0</td>\n",
              "      <td>0</td>\n",
              "      <td>1</td>\n",
              "      <td>1</td>\n",
              "      <td>0</td>\n",
              "      <td>0</td>\n",
              "      <td>1</td>\n",
              "      <td>0</td>\n",
              "      <td>0</td>\n",
              "    </tr>\n",
              "    <tr>\n",
              "      <th>4</th>\n",
              "      <td>32</td>\n",
              "      <td>28.9</td>\n",
              "      <td>0</td>\n",
              "      <td>0</td>\n",
              "      <td>1</td>\n",
              "      <td>1</td>\n",
              "      <td>0</td>\n",
              "      <td>0</td>\n",
              "      <td>1</td>\n",
              "      <td>0</td>\n",
              "      <td>0</td>\n",
              "    </tr>\n",
              "    <tr>\n",
              "      <th>...</th>\n",
              "      <td>...</td>\n",
              "      <td>...</td>\n",
              "      <td>...</td>\n",
              "      <td>...</td>\n",
              "      <td>...</td>\n",
              "      <td>...</td>\n",
              "      <td>...</td>\n",
              "      <td>...</td>\n",
              "      <td>...</td>\n",
              "      <td>...</td>\n",
              "      <td>...</td>\n",
              "    </tr>\n",
              "    <tr>\n",
              "      <th>1333</th>\n",
              "      <td>50</td>\n",
              "      <td>31.0</td>\n",
              "      <td>3</td>\n",
              "      <td>0</td>\n",
              "      <td>1</td>\n",
              "      <td>1</td>\n",
              "      <td>0</td>\n",
              "      <td>0</td>\n",
              "      <td>1</td>\n",
              "      <td>0</td>\n",
              "      <td>0</td>\n",
              "    </tr>\n",
              "    <tr>\n",
              "      <th>1334</th>\n",
              "      <td>18</td>\n",
              "      <td>31.9</td>\n",
              "      <td>0</td>\n",
              "      <td>1</td>\n",
              "      <td>0</td>\n",
              "      <td>1</td>\n",
              "      <td>0</td>\n",
              "      <td>1</td>\n",
              "      <td>0</td>\n",
              "      <td>0</td>\n",
              "      <td>0</td>\n",
              "    </tr>\n",
              "    <tr>\n",
              "      <th>1335</th>\n",
              "      <td>18</td>\n",
              "      <td>36.9</td>\n",
              "      <td>0</td>\n",
              "      <td>1</td>\n",
              "      <td>0</td>\n",
              "      <td>1</td>\n",
              "      <td>0</td>\n",
              "      <td>0</td>\n",
              "      <td>0</td>\n",
              "      <td>1</td>\n",
              "      <td>0</td>\n",
              "    </tr>\n",
              "    <tr>\n",
              "      <th>1336</th>\n",
              "      <td>21</td>\n",
              "      <td>25.8</td>\n",
              "      <td>0</td>\n",
              "      <td>1</td>\n",
              "      <td>0</td>\n",
              "      <td>1</td>\n",
              "      <td>0</td>\n",
              "      <td>0</td>\n",
              "      <td>0</td>\n",
              "      <td>0</td>\n",
              "      <td>1</td>\n",
              "    </tr>\n",
              "    <tr>\n",
              "      <th>1337</th>\n",
              "      <td>61</td>\n",
              "      <td>29.1</td>\n",
              "      <td>0</td>\n",
              "      <td>1</td>\n",
              "      <td>0</td>\n",
              "      <td>0</td>\n",
              "      <td>1</td>\n",
              "      <td>0</td>\n",
              "      <td>1</td>\n",
              "      <td>0</td>\n",
              "      <td>0</td>\n",
              "    </tr>\n",
              "  </tbody>\n",
              "</table>\n",
              "<p>1338 rows × 11 columns</p>\n",
              "</div>\n",
              "      <button class=\"colab-df-convert\" onclick=\"convertToInteractive('df-7d54c371-37db-4a29-819a-cc8cf84ad551')\"\n",
              "              title=\"Convert this dataframe to an interactive table.\"\n",
              "              style=\"display:none;\">\n",
              "        \n",
              "  <svg xmlns=\"http://www.w3.org/2000/svg\" height=\"24px\"viewBox=\"0 0 24 24\"\n",
              "       width=\"24px\">\n",
              "    <path d=\"M0 0h24v24H0V0z\" fill=\"none\"/>\n",
              "    <path d=\"M18.56 5.44l.94 2.06.94-2.06 2.06-.94-2.06-.94-.94-2.06-.94 2.06-2.06.94zm-11 1L8.5 8.5l.94-2.06 2.06-.94-2.06-.94L8.5 2.5l-.94 2.06-2.06.94zm10 10l.94 2.06.94-2.06 2.06-.94-2.06-.94-.94-2.06-.94 2.06-2.06.94z\"/><path d=\"M17.41 7.96l-1.37-1.37c-.4-.4-.92-.59-1.43-.59-.52 0-1.04.2-1.43.59L10.3 9.45l-7.72 7.72c-.78.78-.78 2.05 0 2.83L4 21.41c.39.39.9.59 1.41.59.51 0 1.02-.2 1.41-.59l7.78-7.78 2.81-2.81c.8-.78.8-2.07 0-2.86zM5.41 20L4 18.59l7.72-7.72 1.47 1.35L5.41 20z\"/>\n",
              "  </svg>\n",
              "      </button>\n",
              "      \n",
              "  <style>\n",
              "    .colab-df-container {\n",
              "      display:flex;\n",
              "      flex-wrap:wrap;\n",
              "      gap: 12px;\n",
              "    }\n",
              "\n",
              "    .colab-df-convert {\n",
              "      background-color: #E8F0FE;\n",
              "      border: none;\n",
              "      border-radius: 50%;\n",
              "      cursor: pointer;\n",
              "      display: none;\n",
              "      fill: #1967D2;\n",
              "      height: 32px;\n",
              "      padding: 0 0 0 0;\n",
              "      width: 32px;\n",
              "    }\n",
              "\n",
              "    .colab-df-convert:hover {\n",
              "      background-color: #E2EBFA;\n",
              "      box-shadow: 0px 1px 2px rgba(60, 64, 67, 0.3), 0px 1px 3px 1px rgba(60, 64, 67, 0.15);\n",
              "      fill: #174EA6;\n",
              "    }\n",
              "\n",
              "    [theme=dark] .colab-df-convert {\n",
              "      background-color: #3B4455;\n",
              "      fill: #D2E3FC;\n",
              "    }\n",
              "\n",
              "    [theme=dark] .colab-df-convert:hover {\n",
              "      background-color: #434B5C;\n",
              "      box-shadow: 0px 1px 3px 1px rgba(0, 0, 0, 0.15);\n",
              "      filter: drop-shadow(0px 1px 2px rgba(0, 0, 0, 0.3));\n",
              "      fill: #FFFFFF;\n",
              "    }\n",
              "  </style>\n",
              "\n",
              "      <script>\n",
              "        const buttonEl =\n",
              "          document.querySelector('#df-7d54c371-37db-4a29-819a-cc8cf84ad551 button.colab-df-convert');\n",
              "        buttonEl.style.display =\n",
              "          google.colab.kernel.accessAllowed ? 'block' : 'none';\n",
              "\n",
              "        async function convertToInteractive(key) {\n",
              "          const element = document.querySelector('#df-7d54c371-37db-4a29-819a-cc8cf84ad551');\n",
              "          const dataTable =\n",
              "            await google.colab.kernel.invokeFunction('convertToInteractive',\n",
              "                                                     [key], {});\n",
              "          if (!dataTable) return;\n",
              "\n",
              "          const docLinkHtml = 'Like what you see? Visit the ' +\n",
              "            '<a target=\"_blank\" href=https://colab.research.google.com/notebooks/data_table.ipynb>data table notebook</a>'\n",
              "            + ' to learn more about interactive tables.';\n",
              "          element.innerHTML = '';\n",
              "          dataTable['output_type'] = 'display_data';\n",
              "          await google.colab.output.renderOutput(dataTable, element);\n",
              "          const docLink = document.createElement('div');\n",
              "          docLink.innerHTML = docLinkHtml;\n",
              "          element.appendChild(docLink);\n",
              "        }\n",
              "      </script>\n",
              "    </div>\n",
              "  </div>\n",
              "  "
            ],
            "text/plain": [
              "      age   bmi  children  ...  region_northwest  region_southeast  region_southwest\n",
              "0      19  27.9         0  ...                 0                 0                 1\n",
              "1      18  33.8         1  ...                 0                 1                 0\n",
              "2      28  33.0         3  ...                 0                 1                 0\n",
              "3      33  22.7         0  ...                 1                 0                 0\n",
              "4      32  28.9         0  ...                 1                 0                 0\n",
              "...   ...   ...       ...  ...               ...               ...               ...\n",
              "1333   50  31.0         3  ...                 1                 0                 0\n",
              "1334   18  31.9         0  ...                 0                 0                 0\n",
              "1335   18  36.9         0  ...                 0                 1                 0\n",
              "1336   21  25.8         0  ...                 0                 0                 1\n",
              "1337   61  29.1         0  ...                 1                 0                 0\n",
              "\n",
              "[1338 rows x 11 columns]"
            ]
          },
          "metadata": {},
          "execution_count": 103
        }
      ]
    },
    {
      "cell_type": "code",
      "source": [
        "X[\"age\"].plot(kind=\"hist\")"
      ],
      "metadata": {
        "colab": {
          "base_uri": "https://localhost:8080/",
          "height": 282
        },
        "id": "0YFSRgeQlHmY",
        "outputId": "dc772a29-a7c9-4837-8185-5ef51bd89fac"
      },
      "execution_count": 104,
      "outputs": [
        {
          "output_type": "execute_result",
          "data": {
            "text/plain": [
              "<matplotlib.axes._subplots.AxesSubplot at 0x7f2ef13b87d0>"
            ]
          },
          "metadata": {},
          "execution_count": 104
        },
        {
          "output_type": "display_data",
          "data": {
            "image/png": "[encoded data removed]",
            "text/plain": [
              "<Figure size 432x288 with 1 Axes>"
            ]
          },
          "metadata": {
            "needs_background": "light"
          }
        }
      ]
    },
    {
      "cell_type": "code",
      "source": [
        "X[\"bmi\"].plot(kind=\"hist\")"
      ],
      "metadata": {
        "colab": {
          "base_uri": "https://localhost:8080/",
          "height": 282
        },
        "id": "qvqNHLBzlRVp",
        "outputId": "79c5bffc-86a3-4352-e72b-656bf1871f55"
      },
      "execution_count": 105,
      "outputs": [
        {
          "output_type": "execute_result",
          "data": {
            "text/plain": [
              "<matplotlib.axes._subplots.AxesSubplot at 0x7f2eef8c7410>"
            ]
          },
          "metadata": {},
          "execution_count": 105
        },
        {
          "output_type": "display_data",
          "data": {
            "image/png": "[encoded data removed]",
            "text/plain": [
              "<Figure size 432x288 with 1 Axes>"
            ]
          },
          "metadata": {
            "needs_background": "light"
          }
        }
      ]
    },
    {
      "cell_type": "code",
      "source": [
        "X[\"children\"].value_counts()"
      ],
      "metadata": {
        "colab": {
          "base_uri": "https://localhost:8080/"
        },
        "id": "pPfR_xEtlWUM",
        "outputId": "ce944984-0fcf-414e-b031-652141610c90"
      },
      "execution_count": 107,
      "outputs": [
        {
          "output_type": "execute_result",
          "data": {
            "text/plain": [
              "0    574\n",
              "1    324\n",
              "2    240\n",
              "3    157\n",
              "4     25\n",
              "5     18\n",
              "Name: children, dtype: int64"
            ]
          },
          "metadata": {},
          "execution_count": 107
        }
      ]
    },
    {
      "cell_type": "code",
      "source": [
        ""
      ],
      "metadata": {
        "id": "ewlOA-i7lbLa"
      },
      "execution_count": null,
      "outputs": []
    }
  ]
}