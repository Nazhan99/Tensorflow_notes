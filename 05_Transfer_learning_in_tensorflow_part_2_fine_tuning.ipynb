{
  "nbformat": 4,
  "nbformat_minor": 0,
  "metadata": {
    "colab": {
      "name": "05_Transfer_learning_in_tensorflow_part_2_fine_tuning.ipynb",
      "provenance": [],
      "collapsed_sections": [],
      "authorship_tag": "ABX9TyPcTltW+zlWkbMTuhvgMwuu",
      "include_colab_link": true
    },
    "kernelspec": {
      "name": "python3",
      "display_name": "Python 3"
    },
    "language_info": {
      "name": "python"
    },
    "accelerator": "GPU"
  },
  "cells": [
    {
      "cell_type": "markdown",
      "metadata": {
        "id": "view-in-github",
        "colab_type": "text"
      },
      "source": [
        "<a href=\"https://colab.research.google.com/github/Nazhan99/Tensorflow_notes/blob/main/05_Transfer_learning_in_tensorflow_part_2_fine_tuning.ipynb\" target=\"_parent\"><img src=\"https://colab.research.google.com/assets/colab-badge.svg\" alt=\"Open In Colab\"/></a>"
      ]
    },
    {
      "cell_type": "markdown",
      "source": [
        "#Transfer learning with TensorFlow part 2: Fine-Tuning"
      ],
      "metadata": {
        "id": "xOFs5gcQ9zZd"
      }
    },
    {
      "cell_type": "code",
      "source": [
        "!nvidia-smi"
      ],
      "metadata": {
        "colab": {
          "base_uri": "https://localhost:8080/"
        },
        "id": "54PwqU-O-Sq0",
        "outputId": "ce4ef7d5-bf25-4fd1-aac4-b92fefc31192"
      },
      "execution_count": 1,
      "outputs": [
        {
          "output_type": "stream",
          "name": "stdout",
          "text": [
            "Wed Feb 23 03:05:26 2022       \n",
            "+-----------------------------------------------------------------------------+\n",
            "| NVIDIA-SMI 460.32.03    Driver Version: 460.32.03    CUDA Version: 11.2     |\n",
            "|-------------------------------+----------------------+----------------------+\n",
            "| GPU  Name        Persistence-M| Bus-Id        Disp.A | Volatile Uncorr. ECC |\n",
            "| Fan  Temp  Perf  Pwr:Usage/Cap|         Memory-Usage | GPU-Util  Compute M. |\n",
            "|                               |                      |               MIG M. |\n",
            "|===============================+======================+======================|\n",
            "|   0  Tesla T4            Off  | 00000000:00:04.0 Off |                    0 |\n",
            "| N/A   38C    P8     9W /  70W |      0MiB / 15109MiB |      0%      Default |\n",
            "|                               |                      |                  N/A |\n",
            "+-------------------------------+----------------------+----------------------+\n",
            "                                                                               \n",
            "+-----------------------------------------------------------------------------+\n",
            "| Processes:                                                                  |\n",
            "|  GPU   GI   CI        PID   Type   Process name                  GPU Memory |\n",
            "|        ID   ID                                                   Usage      |\n",
            "|=============================================================================|\n",
            "|  No running processes found                                                 |\n",
            "+-----------------------------------------------------------------------------+\n"
          ]
        }
      ]
    },
    {
      "cell_type": "markdown",
      "source": [
        "#Creating helper function"
      ],
      "metadata": {
        "id": "92cvyEN_-Up8"
      }
    },
    {
      "cell_type": "code",
      "source": [
        "!wget https://raw.githubusercontent.com/mrdbourke/tensorflow-deep-learning/main/extras/helper_functions.py"
      ],
      "metadata": {
        "colab": {
          "base_uri": "https://localhost:8080/"
        },
        "id": "VhibNF6C-cR6",
        "outputId": "4190cfbc-d8aa-46ac-ff6a-d9356b3d08cb"
      },
      "execution_count": 2,
      "outputs": [
        {
          "output_type": "stream",
          "name": "stdout",
          "text": [
            "--2022-02-23 03:05:27--  https://raw.githubusercontent.com/mrdbourke/tensorflow-deep-learning/main/extras/helper_functions.py\n",
            "Resolving raw.githubusercontent.com (raw.githubusercontent.com)... 185.199.108.133, 185.199.109.133, 185.199.110.133, ...\n",
            "Connecting to raw.githubusercontent.com (raw.githubusercontent.com)|185.199.108.133|:443... connected.\n",
            "HTTP request sent, awaiting response... 200 OK\n",
            "Length: 10246 (10K) [text/plain]\n",
            "Saving to: ‘helper_functions.py’\n",
            "\n",
            "\rhelper_functions.py   0%[                    ]       0  --.-KB/s               \rhelper_functions.py 100%[===================>]  10.01K  --.-KB/s    in 0s      \n",
            "\n",
            "2022-02-23 03:05:27 (63.6 MB/s) - ‘helper_functions.py’ saved [10246/10246]\n",
            "\n"
          ]
        }
      ]
    },
    {
      "cell_type": "code",
      "source": [
        "#import helper function we are going to use in this notebook\n",
        "from helper_functions import create_tensorboard_callback, plot_loss_curves, unzip_data,  walk_through_dir"
      ],
      "metadata": {
        "id": "flC9-RaB-4QB"
      },
      "execution_count": 3,
      "outputs": []
    },
    {
      "cell_type": "markdown",
      "source": [
        ">if you are running this notebook in Google colab, when it times out colab will delete \"helper_function\"."
      ],
      "metadata": {
        "id": "ZYMA-fAY_aXk"
      }
    },
    {
      "cell_type": "markdown",
      "source": [
        "## Get some data\n",
        "\n",
        "use pretrained model using tf.keras.application and apply them to our own probelm (recognizing images of food)."
      ],
      "metadata": {
        "id": "xbwtCo4g_X6r"
      }
    },
    {
      "cell_type": "code",
      "source": [
        "# get 10% of training data of 10 fooc classes\n",
        "!wget https://storage.googleapis.com/ztm_tf_course/food_vision/10_food_classes_10_percent.zip\n",
        "\n",
        "unzip_data(\"10_food_classes_10_percent.zip\")"
      ],
      "metadata": {
        "colab": {
          "base_uri": "https://localhost:8080/"
        },
        "id": "tLL1OoTc_zfs",
        "outputId": "3ea0b2b8-0bee-4b36-dec9-42a7822929ca"
      },
      "execution_count": 4,
      "outputs": [
        {
          "output_type": "stream",
          "name": "stdout",
          "text": [
            "--2022-02-23 03:05:29--  https://storage.googleapis.com/ztm_tf_course/food_vision/10_food_classes_10_percent.zip\n",
            "Resolving storage.googleapis.com (storage.googleapis.com)... 172.217.12.240, 172.217.15.112, 142.251.45.112, ...\n",
            "Connecting to storage.googleapis.com (storage.googleapis.com)|172.217.12.240|:443... connected.\n",
            "HTTP request sent, awaiting response... 200 OK\n",
            "Length: 168546183 (161M) [application/zip]\n",
            "Saving to: ‘10_food_classes_10_percent.zip’\n",
            "\n",
            "10_food_classes_10_ 100%[===================>] 160.74M  71.1MB/s    in 2.3s    \n",
            "\n",
            "2022-02-23 03:05:32 (71.1 MB/s) - ‘10_food_classes_10_percent.zip’ saved [168546183/168546183]\n",
            "\n"
          ]
        }
      ]
    },
    {
      "cell_type": "code",
      "source": [
        "#check out how many images and subdirectories are in our dataset\n",
        "walk_through_dir(\"10_food_classes_10_percent\")"
      ],
      "metadata": {
        "colab": {
          "base_uri": "https://localhost:8080/"
        },
        "id": "syL04aOfAfOi",
        "outputId": "e84cf5b2-cc57-4539-958c-5f9ff976576d"
      },
      "execution_count": 5,
      "outputs": [
        {
          "output_type": "stream",
          "name": "stdout",
          "text": [
            "There are 2 directories and 0 images in '10_food_classes_10_percent'.\n",
            "There are 10 directories and 0 images in '10_food_classes_10_percent/train'.\n",
            "There are 0 directories and 75 images in '10_food_classes_10_percent/train/chicken_wings'.\n",
            "There are 0 directories and 75 images in '10_food_classes_10_percent/train/hamburger'.\n",
            "There are 0 directories and 75 images in '10_food_classes_10_percent/train/ice_cream'.\n",
            "There are 0 directories and 75 images in '10_food_classes_10_percent/train/pizza'.\n",
            "There are 0 directories and 75 images in '10_food_classes_10_percent/train/ramen'.\n",
            "There are 0 directories and 75 images in '10_food_classes_10_percent/train/grilled_salmon'.\n",
            "There are 0 directories and 75 images in '10_food_classes_10_percent/train/sushi'.\n",
            "There are 0 directories and 75 images in '10_food_classes_10_percent/train/fried_rice'.\n",
            "There are 0 directories and 75 images in '10_food_classes_10_percent/train/steak'.\n",
            "There are 0 directories and 75 images in '10_food_classes_10_percent/train/chicken_curry'.\n",
            "There are 10 directories and 0 images in '10_food_classes_10_percent/test'.\n",
            "There are 0 directories and 250 images in '10_food_classes_10_percent/test/chicken_wings'.\n",
            "There are 0 directories and 250 images in '10_food_classes_10_percent/test/hamburger'.\n",
            "There are 0 directories and 250 images in '10_food_classes_10_percent/test/ice_cream'.\n",
            "There are 0 directories and 250 images in '10_food_classes_10_percent/test/pizza'.\n",
            "There are 0 directories and 250 images in '10_food_classes_10_percent/test/ramen'.\n",
            "There are 0 directories and 250 images in '10_food_classes_10_percent/test/grilled_salmon'.\n",
            "There are 0 directories and 250 images in '10_food_classes_10_percent/test/sushi'.\n",
            "There are 0 directories and 250 images in '10_food_classes_10_percent/test/fried_rice'.\n",
            "There are 0 directories and 250 images in '10_food_classes_10_percent/test/steak'.\n",
            "There are 0 directories and 250 images in '10_food_classes_10_percent/test/chicken_curry'.\n"
          ]
        }
      ]
    },
    {
      "cell_type": "code",
      "source": [
        "#create training and test directories paths\n",
        "train_dir=\"10_food_classes_10_percent/train\"\n",
        "test_dir=\"10_food_classes_10_percent/test\"\n"
      ],
      "metadata": {
        "id": "a8r9CYjHAr_x"
      },
      "execution_count": 6,
      "outputs": []
    },
    {
      "cell_type": "code",
      "source": [
        "import tensorflow as tf\n",
        "\n",
        "IMG_SIZE=(224,224)\n",
        "BATCH_SIZE=32\n",
        "\n",
        "train_data_10_percent= tf.keras.preprocessing.image_dataset_from_directory(directory=train_dir,\n",
        "                                                                           image_size=IMG_SIZE,\n",
        "                                                                           label_mode=\"categorical\",\n",
        "                                                                           batch_size=BATCH_SIZE)\n",
        "\n",
        "test_data_10_percent= tf.keras.preprocessing.image_dataset_from_directory(directory=test_dir,\n",
        "                                                                          image_size=IMG_SIZE,\n",
        "                                                                          label_mode=\"categorical\",\n",
        "                                                                          batch_size=BATCH_SIZE)"
      ],
      "metadata": {
        "colab": {
          "base_uri": "https://localhost:8080/"
        },
        "id": "jHXrbXttBH0W",
        "outputId": "1f203eb6-3913-4f15-c54e-101b95d84abe"
      },
      "execution_count": 7,
      "outputs": [
        {
          "output_type": "stream",
          "name": "stdout",
          "text": [
            "Found 750 files belonging to 10 classes.\n",
            "Found 2500 files belonging to 10 classes.\n"
          ]
        }
      ]
    },
    {
      "cell_type": "code",
      "source": [
        "train_data_10_percent"
      ],
      "metadata": {
        "colab": {
          "base_uri": "https://localhost:8080/"
        },
        "id": "IbaolL4XB39j",
        "outputId": "bd382e9f-ca3a-4852-ff02-1b546fc59483"
      },
      "execution_count": 8,
      "outputs": [
        {
          "output_type": "execute_result",
          "data": {
            "text/plain": [
              "<BatchDataset element_spec=(TensorSpec(shape=(None, 224, 224, 3), dtype=tf.float32, name=None), TensorSpec(shape=(None, 10), dtype=tf.float32, name=None))>"
            ]
          },
          "metadata": {},
          "execution_count": 8
        }
      ]
    },
    {
      "cell_type": "code",
      "source": [
        "#check out the class names of our dataset\n",
        "train_data_10_percent.class_names"
      ],
      "metadata": {
        "colab": {
          "base_uri": "https://localhost:8080/"
        },
        "id": "5jkWx3QzCdJ0",
        "outputId": "fed9160d-f679-4cd7-c761-9a128263e2f7"
      },
      "execution_count": 9,
      "outputs": [
        {
          "output_type": "execute_result",
          "data": {
            "text/plain": [
              "['chicken_curry',\n",
              " 'chicken_wings',\n",
              " 'fried_rice',\n",
              " 'grilled_salmon',\n",
              " 'hamburger',\n",
              " 'ice_cream',\n",
              " 'pizza',\n",
              " 'ramen',\n",
              " 'steak',\n",
              " 'sushi']"
            ]
          },
          "metadata": {},
          "execution_count": 9
        }
      ]
    },
    {
      "cell_type": "code",
      "source": [
        "#see an example of a batch of data\n",
        "for image, labels in train_data_10_percent.take(1):\n",
        "  print(image,labels)\n",
        "\n",
        "#need to normalize these tensors later"
      ],
      "metadata": {
        "colab": {
          "base_uri": "https://localhost:8080/"
        },
        "id": "LncOJ4AgC32Z",
        "outputId": "10054ab8-7472-4826-ea51-5f5c59aa6b21"
      },
      "execution_count": 10,
      "outputs": [
        {
          "output_type": "stream",
          "name": "stdout",
          "text": [
            "tf.Tensor(\n",
            "[[[[ 16.285713    13.285715     4.285714  ]\n",
            "   [ 15.214286    12.214286     3.2142859 ]\n",
            "   [ 14.285714    11.285714     3.8571432 ]\n",
            "   ...\n",
            "   [ 37.066334    28.066332    21.066332  ]\n",
            "   [ 35.44894     26.44894     19.44894   ]\n",
            "   [ 33.816326    24.816328    17.816328  ]]\n",
            "\n",
            "  [[ 14.071428    14.071428     4.0714283 ]\n",
            "   [ 15.          15.           7.        ]\n",
            "   [ 15.          15.           7.        ]\n",
            "   ...\n",
            "   [ 37.17347     28.17347     21.17347   ]\n",
            "   [ 36.22447     27.22447     20.22447   ]\n",
            "   [ 37.147953    28.147951    21.147951  ]]\n",
            "\n",
            "  [[ 13.357142    14.785714     7.        ]\n",
            "   [ 12.32653     13.755102     5.9693875 ]\n",
            "   [ 11.928571    13.357142     6.8061223 ]\n",
            "   ...\n",
            "   [ 33.928543    24.928545    18.357117  ]\n",
            "   [ 27.127468    18.127468    11.556039  ]\n",
            "   [ 25.780607    16.780607    10.209179  ]]\n",
            "\n",
            "  ...\n",
            "\n",
            "  [[ 60.867374    43.295902    29.081638  ]\n",
            "   [ 51.974377    33.974377    19.974377  ]\n",
            "   [ 47.739605    30.356968    15.12224   ]\n",
            "   ...\n",
            "   [ 21.025587    12.454115     3.6683788 ]\n",
            "   [ 28.357239    19.785767    11.0000305 ]\n",
            "   [ 26.780655    18.209183     9.423446  ]]\n",
            "\n",
            "  [[ 52.433964    36.433964    21.433962  ]\n",
            "   [ 71.95437     55.954376    40.954376  ]\n",
            "   [ 74.316345    58.316345    42.53063   ]\n",
            "   ...\n",
            "   [ 24.683645    15.469351     6.4693503 ]\n",
            "   [ 22.923426    12.923426     3.9234262 ]\n",
            "   [ 25.943926    15.943927     5.943927  ]]\n",
            "\n",
            "  [[ 68.57594     52.575947    37.575947  ]\n",
            "   [ 80.16235     64.16235     48.162354  ]\n",
            "   [ 59.473648    43.473648    27.473648  ]\n",
            "   ...\n",
            "   [ 26.08167     16.08167      6.867377  ]\n",
            "   [ 24.40819     14.408191     4.4081907 ]\n",
            "   [ 28.351814    18.351814     8.351814  ]]]\n",
            "\n",
            "\n",
            " [[[186.2551     141.45407    128.06122   ]\n",
            "   [181.35204    136.97449    123.7602    ]\n",
            "   [173.83673    132.53572    103.94898   ]\n",
            "   ...\n",
            "   [ 26.051052    19.867527    37.357143  ]\n",
            "   [ 23.326656    30.14809     31.449087  ]\n",
            "   [ 21.147966    27.928535    29.377512  ]]\n",
            "\n",
            "  [[189.35715    145.18878     95.57653   ]\n",
            "   [186.35204    140.9949     111.61735   ]\n",
            "   [187.61224    139.7143     125.20918   ]\n",
            "   ...\n",
            "   [ 62.101536    69.933014    81.57091   ]\n",
            "   [ 42.535576    38.81102     61.719204  ]\n",
            "   [ 39.08172     17.310982    45.55085   ]]\n",
            "\n",
            "  [[196.43878    141.51021    124.92857   ]\n",
            "   [193.34184    140.9847     121.994896  ]\n",
            "   [190.03062    143.12245    116.311226  ]\n",
            "   ...\n",
            "   [132.96895    131.5712     128.96922   ]\n",
            "   [120.953865   115.831436   128.84166   ]\n",
            "   [ 80.442856    90.07077     99.40226   ]]\n",
            "\n",
            "  ...\n",
            "\n",
            "  [[165.84691    117.41833    114.928566  ]\n",
            "   [159.82657    113.96939    108.57141   ]\n",
            "   [167.95409    120.357124   114.5714    ]\n",
            "   ...\n",
            "   [182.88274    129.449      117.52553   ]\n",
            "   [167.64282    125.60203    112.67344   ]\n",
            "   [172.49506    126.92346    119.02052   ]]\n",
            "\n",
            "  [[164.31123    113.05101    113.81122   ]\n",
            "   [166.63783    114.785736   104.413216  ]\n",
            "   [166.26018    116.53056    107.040726  ]\n",
            "   ...\n",
            "   [181.72972    126.61216    114.714294  ]\n",
            "   [168.78064    122.35204    102.775505  ]\n",
            "   [172.29088    123.790634   121.071655  ]]\n",
            "\n",
            "  [[162.35715    111.714294   110.857155  ]\n",
            "   [167.2398     114.28572     99.38267   ]\n",
            "   [166.62753    117.13265    107.47958   ]\n",
            "   ...\n",
            "   [180.2093     125.351944   114.42357   ]\n",
            "   [171.68878    120.331696    98.714355  ]\n",
            "   [174.82648    120.1681     121.500244  ]]]\n",
            "\n",
            "\n",
            " [[[151.9949     103.9949      18.994898  ]\n",
            "   [146.54591    100.54592     12.5459175 ]\n",
            "   [149.38776    103.38776     15.3877535 ]\n",
            "   ...\n",
            "   [ 93.21925     91.08151     15.377499  ]\n",
            "   [ 81.58661     83.392746     7.096839  ]\n",
            "   [ 80.90313     83.90313      3.3622873 ]]\n",
            "\n",
            "  [[158.81633    112.81632     24.816326  ]\n",
            "   [154.49998    108.5         20.499998  ]\n",
            "   [156.40305    110.61735     21.974485  ]\n",
            "   ...\n",
            "   [109.52536    106.18357     26.897896  ]\n",
            "   [ 95.112045    93.525345    16.254902  ]\n",
            "   [ 80.275635    83.035904     0.709246  ]]\n",
            "\n",
            "  [[157.80103    111.80102     23.80102   ]\n",
            "   [158.21428    112.42857     23.785713  ]\n",
            "   [160.2551     115.34694     24.301018  ]\n",
            "   ...\n",
            "   [133.3772     128.16293     46.520138  ]\n",
            "   [109.88784    107.24501     25.658245  ]\n",
            "   [ 95.71369     96.55561      9.871913  ]]\n",
            "\n",
            "  ...\n",
            "\n",
            "  [[122.41836     96.98983     15.204097  ]\n",
            "   [109.907974    84.907974     2.9079764 ]\n",
            "   [ 98.24474     73.24474      0.        ]\n",
            "   ...\n",
            "   [200.11754    166.45424     33.071625  ]\n",
            "   [206.48473    173.68369     40.398037  ]\n",
            "   [207.43388    174.43388     43.005363  ]]\n",
            "\n",
            "  [[ 94.38799     69.38799      0.32148746]\n",
            "   [110.52558     85.52558      2.1888368 ]\n",
            "   [108.95928     84.602135     1.9796662 ]\n",
            "   ...\n",
            "   [199.6785     164.0357      36.249973  ]\n",
            "   [206.41844    171.41844     43.694     ]\n",
            "   [212.54066    178.54066     52.54066   ]]\n",
            "\n",
            "  [[128.99007    103.99006     19.99006   ]\n",
            "   [121.63341     96.63341     12.633407  ]\n",
            "   [124.39875    100.04161     15.613035  ]\n",
            "   ...\n",
            "   [205.04063    169.39784     43.612106  ]\n",
            "   [208.1889     173.1889      47.1889    ]\n",
            "   [214.34169    180.34169     56.341686  ]]]\n",
            "\n",
            "\n",
            " ...\n",
            "\n",
            "\n",
            " [[[218.26291    220.26291    218.54863   ]\n",
            "   [229.03938    232.11081    236.8251    ]\n",
            "   [229.20758    233.408      246.3412    ]\n",
            "   ...\n",
            "   [ 74.90523     67.333755    56.119495  ]\n",
            "   [ 71.923935    61.923935    51.923935  ]\n",
            "   [ 63.711678    53.711678    43.711678  ]]\n",
            "\n",
            "  [[228.36113    230.36113    228.56361   ]\n",
            "   [234.13615    237.74617    240.721     ]\n",
            "   [233.70041    235.55707    248.08435   ]\n",
            "   ...\n",
            "   [ 73.03502     64.46355     55.249287  ]\n",
            "   [ 73.48395     63.48395     54.48395   ]\n",
            "   [ 63.182507    53.182507    44.182507  ]]\n",
            "\n",
            "  [[240.89876    242.89876    239.89876   ]\n",
            "   [232.96907    233.21062    235.47034   ]\n",
            "   [228.2441     227.25526    236.72926   ]\n",
            "   ...\n",
            "   [ 71.86041     63.288944    55.623787  ]\n",
            "   [ 71.40871     62.18326     54.732372  ]\n",
            "   [ 65.28379     56.058342    48.60745   ]]\n",
            "\n",
            "  ...\n",
            "\n",
            "  [[ 93.54907    110.54907    130.09814   ]\n",
            "   [ 94.098145   110.67943    130.43785   ]\n",
            "   [ 98.74404    110.54093    132.5074    ]\n",
            "   ...\n",
            "   [ 34.756927    42.102936    31.838839  ]\n",
            "   [ 41.490154    46.490154    40.166546  ]\n",
            "   [ 39.446705    46.22124     39.123096  ]]\n",
            "\n",
            "  [[ 72.02526     89.02526    105.15472   ]\n",
            "   [ 73.29663     89.24115    105.43071   ]\n",
            "   [ 67.80889     80.380325    98.15263   ]\n",
            "   ...\n",
            "   [ 41.432384    46.534103    41.93913   ]\n",
            "   [ 42.86174     46.926468    45.732285  ]\n",
            "   [ 42.2046      46.334057    45.139874  ]]\n",
            "\n",
            "  [[ 69.99238     87.34727     96.76682   ]\n",
            "   [ 74.9187      91.56381    102.62848   ]\n",
            "   [ 78.273254    90.41622    103.41396   ]\n",
            "   ...\n",
            "   [ 79.63935     83.63935     83.92957   ]\n",
            "   [ 81.042404    85.042404    87.33263   ]\n",
            "   [ 80.761314    84.761314    87.05154   ]]]\n",
            "\n",
            "\n",
            " [[[124.43367    135.78061    150.44897   ]\n",
            "   [196.88266    190.29082    192.42857   ]\n",
            "   [172.51021    153.87245    142.7347    ]\n",
            "   ...\n",
            "   [123.64797     86.64797     42.142857  ]\n",
            "   [128.14288     92.14288     43.94897   ]\n",
            "   [130.86732     95.2245      42.51015   ]]\n",
            "\n",
            "  [[108.20408    125.39286    150.63776   ]\n",
            "   [159.92857    158.35715    169.4949    ]\n",
            "   [177.39795    163.92857    156.7143    ]\n",
            "   ...\n",
            "   [119.92857     81.71431     37.142838  ]\n",
            "   [122.22448     84.22448     37.081593  ]\n",
            "   [117.33153     80.33153     28.331524  ]]\n",
            "\n",
            "  [[114.16837    137.4643     179.5204    ]\n",
            "   [131.79593    139.4796     163.42346   ]\n",
            "   [161.91837    158.89795    158.65816   ]\n",
            "   ...\n",
            "   [118.35714     80.18879     35.525494  ]\n",
            "   [114.35717     76.35717     29.214287  ]\n",
            "   [123.418564    85.6992      35.857285  ]]\n",
            "\n",
            "  ...\n",
            "\n",
            "  [[  7.494884     7.494884     7.494884  ]\n",
            "   [  7.9438763    7.9438763    7.9438763 ]\n",
            "   [  9.57145      9.57145      9.57145   ]\n",
            "   ...\n",
            "   [229.         213.21426    196.57147   ]\n",
            "   [227.         211.         195.        ]\n",
            "   [228.8521     212.8521     196.8521    ]]\n",
            "\n",
            "  [[  9.331628     9.331628     9.331628  ]\n",
            "   [ 10.85713     10.85713     10.85713   ]\n",
            "   [ 12.642831    12.642831    12.642831  ]\n",
            "   ...\n",
            "   [226.92856    211.14282    194.50003   ]\n",
            "   [225.93365    209.93365    193.93365   ]\n",
            "   [228.68884    212.68884    196.68884   ]]\n",
            "\n",
            "  [[  8.586757     8.586757     8.586757  ]\n",
            "   [  8.928572     8.928572     8.928572  ]\n",
            "   [  9.709176     9.709176     9.709176  ]\n",
            "   ...\n",
            "   [225.92348    210.13774    193.49495   ]\n",
            "   [225.07144    209.07144    193.07144   ]\n",
            "   [228.35718    212.35718    196.35718   ]]]\n",
            "\n",
            "\n",
            " [[[ 41.018177    46.018177    23.375319  ]\n",
            "   [ 43.121174    46.76403     24.478315  ]\n",
            "   [ 48.345345    50.734055    28.666454  ]\n",
            "   ...\n",
            "   [ 21.663578    33.828785    22.76174   ]\n",
            "   [ 21.836424    34.764996    20.735004  ]\n",
            "   [ 23.920628    37.20634     20.420628  ]]\n",
            "\n",
            "  [[ 49.7787      51.92156     27.992985  ]\n",
            "   [ 48.948982    51.09184     27.163265  ]\n",
            "   [ 46.551342    47.16741     23.293365  ]\n",
            "   ...\n",
            "   [ 17.707214    30.773195    24.25191   ]\n",
            "   [ 16.071428    28.42857     24.142857  ]\n",
            "   [ 21.156301    33.513443    30.942017  ]]\n",
            "\n",
            "  [[ 50.69579     50.481506    22.052933  ]\n",
            "   [ 43.57334     42.57334     14.573342  ]\n",
            "   [ 45.702488    43.611927    17.574938  ]\n",
            "   ...\n",
            "   [ 32.32277     38.11775     29.352757  ]\n",
            "   [ 33.54558     39.831295    33.52683   ]\n",
            "   [ 29.415466    34.5497      30.57557   ]]\n",
            "\n",
            "  ...\n",
            "\n",
            "  [[175.85306     86.63878     73.28157   ]\n",
            "   [165.85277     73.85277     59.281292  ]\n",
            "   [157.16241     65.925804    48.13719   ]\n",
            "   ...\n",
            "   [ 56.4984      50.450897    30.672876  ]\n",
            "   [ 55.773304    49.33029     30.058014  ]\n",
            "   [ 62.74533     52.370544    35.80362   ]]\n",
            "\n",
            "  [[177.8364      91.193596    72.05071   ]\n",
            "   [162.58034     75.72323     55.72323   ]\n",
            "   [153.76591     66.19994     46.19994   ]\n",
            "   ...\n",
            "   [ 55.641724    50.54904     34.35004   ]\n",
            "   [ 52.64279     47.027016    30.897558  ]\n",
            "   [ 57.538967    49.387173    31.963068  ]]\n",
            "\n",
            "  [[168.34503     90.70221     69.416565  ]\n",
            "   [157.71754     77.78907     57.14625   ]\n",
            "   [151.7779      70.04997     51.69733   ]\n",
            "   ...\n",
            "   [ 47.75038     49.580826    34.870926  ]\n",
            "   [ 46.714355    48.524017    32.129547  ]\n",
            "   [ 55.88855     54.43419     34.72435   ]]]], shape=(32, 224, 224, 3), dtype=float32) tf.Tensor(\n",
            "[[0. 0. 0. 0. 0. 0. 0. 1. 0. 0.]\n",
            " [0. 1. 0. 0. 0. 0. 0. 0. 0. 0.]\n",
            " [0. 0. 1. 0. 0. 0. 0. 0. 0. 0.]\n",
            " [0. 0. 0. 0. 0. 0. 0. 0. 1. 0.]\n",
            " [0. 0. 0. 1. 0. 0. 0. 0. 0. 0.]\n",
            " [0. 0. 0. 0. 0. 1. 0. 0. 0. 0.]\n",
            " [0. 0. 1. 0. 0. 0. 0. 0. 0. 0.]\n",
            " [0. 0. 0. 0. 1. 0. 0. 0. 0. 0.]\n",
            " [0. 0. 0. 0. 0. 1. 0. 0. 0. 0.]\n",
            " [0. 0. 0. 0. 0. 0. 0. 1. 0. 0.]\n",
            " [0. 0. 0. 1. 0. 0. 0. 0. 0. 0.]\n",
            " [0. 0. 0. 0. 0. 0. 0. 1. 0. 0.]\n",
            " [0. 0. 0. 0. 1. 0. 0. 0. 0. 0.]\n",
            " [0. 0. 0. 1. 0. 0. 0. 0. 0. 0.]\n",
            " [0. 0. 0. 0. 0. 0. 0. 0. 1. 0.]\n",
            " [0. 0. 0. 0. 0. 0. 0. 0. 1. 0.]\n",
            " [0. 0. 0. 0. 0. 0. 0. 0. 1. 0.]\n",
            " [0. 0. 0. 0. 1. 0. 0. 0. 0. 0.]\n",
            " [0. 0. 0. 1. 0. 0. 0. 0. 0. 0.]\n",
            " [0. 0. 0. 0. 0. 1. 0. 0. 0. 0.]\n",
            " [0. 0. 0. 1. 0. 0. 0. 0. 0. 0.]\n",
            " [0. 0. 0. 0. 1. 0. 0. 0. 0. 0.]\n",
            " [0. 0. 0. 0. 0. 1. 0. 0. 0. 0.]\n",
            " [0. 0. 0. 0. 0. 0. 1. 0. 0. 0.]\n",
            " [0. 0. 0. 0. 0. 0. 0. 0. 1. 0.]\n",
            " [0. 0. 0. 1. 0. 0. 0. 0. 0. 0.]\n",
            " [0. 0. 0. 0. 0. 0. 0. 0. 1. 0.]\n",
            " [0. 0. 0. 1. 0. 0. 0. 0. 0. 0.]\n",
            " [0. 0. 0. 0. 0. 0. 0. 1. 0. 0.]\n",
            " [0. 0. 0. 0. 1. 0. 0. 0. 0. 0.]\n",
            " [0. 0. 0. 0. 0. 0. 0. 1. 0. 0.]\n",
            " [0. 0. 0. 0. 0. 1. 0. 0. 0. 0.]], shape=(32, 10), dtype=float32)\n"
          ]
        }
      ]
    },
    {
      "cell_type": "markdown",
      "source": [
        "## model 0: Building a transfer learning feature extraction model using the Keras Functional API\n",
        "\n",
        "The sequential API is straight forward, it runs our layers in sequential order.\n",
        "\n",
        "But the functional API gives us flexibility with our models\n",
        "\n",
        "---\n",
        "\n"
      ],
      "metadata": {
        "id": "rbIbf4H1DKwl"
      }
    },
    {
      "cell_type": "code",
      "source": [
        "#1. create base model with tf.keras.applications\n",
        "base_model= tf.keras.applications.EfficientNetB0(include_top=False)\n",
        "\n",
        "#2. freeze the base model (so the underlying pre trained patterns are not updating)\n",
        "base_model.trainable=False\n",
        "\n",
        "#3. Create inputs into our model\n",
        "inputs = tf.keras.layers.Input(shape=(224,224,3), name=\"input_layer\")\n",
        "\n",
        "#4. If uisng Resnet50V2 you will need to normalize inputs (you dont have to for EfficientNet)\n",
        "#x=tf.keras.layers.experimental.preprocessing.Rescaling(1./255)(inputs)\n",
        "\n",
        "#5. Past the input to the base_model\n",
        "x=base_model(inputs)\n",
        "print(f\"Shape after passing inputs through base model: {x.shape}\")\n",
        "\n",
        "#6. Average pool the outputs of the base model (aggregate all the most important information, reduce number of computations)\n",
        "x=tf.keras.layers.GlobalAveragePooling2D(name=\"global_average_pooling_layer\")(x)\n",
        "print(f\"Shape after GlobalAveragePooling2D: {x.shape}\")\n",
        "\n",
        "#7. Create the output activation layer\n",
        "outputs = tf.keras.layers.Dense(10, activation=\"softmax\", name=\"output_layer\")(x)\n",
        "\n",
        "#8. combine the inputs with the outputs into a model\n",
        "model_0 = tf.keras.Model(inputs, outputs)\n",
        "\n",
        "#9. Compile for the model\n",
        "model_0.compile(loss=\"categorical_crossentropy\",\n",
        "                optimizer=tf.keras.optimizers.Adam(),\n",
        "                metrics=[\"accuracy\"])\n",
        "\n",
        "#10. fit the model\n",
        "history_10_percent = model_0.fit(train_data_10_percent,\n",
        "                                 epochs=5,\n",
        "                                 steps_per_epoch=len(train_data_10_percent),\n",
        "                                 validation_data=test_data_10_percent,\n",
        "                                 validation_steps=int(0.25*len(test_data_10_percent)),\n",
        "                                 callbacks=[create_tensorboard_callback(dir_name=\"transfer_learning\",\n",
        "                                                                        experiment_name=\"10_percent_feature_extraction\")])"
      ],
      "metadata": {
        "colab": {
          "base_uri": "https://localhost:8080/"
        },
        "id": "8d7RBHgmFeD3",
        "outputId": "e93ad3f7-6aca-460f-f146-249a1b58e824"
      },
      "execution_count": 11,
      "outputs": [
        {
          "output_type": "stream",
          "name": "stdout",
          "text": [
            "Downloading data from https://storage.googleapis.com/keras-applications/efficientnetb0_notop.h5\n",
            "16711680/16705208 [==============================] - 0s 0us/step\n",
            "16719872/16705208 [==============================] - 0s 0us/step\n",
            "Shape after passing inputs through base model: (None, 7, 7, 1280)\n",
            "Shape after GlobalAveragePooling2D: (None, 1280)\n",
            "Saving TensorBoard log files to: transfer_learning/10_percent_feature_extraction/20220223-030540\n",
            "Epoch 1/5\n",
            "24/24 [==============================] - 20s 224ms/step - loss: 1.9500 - accuracy: 0.4093 - val_loss: 1.3817 - val_accuracy: 0.6859\n",
            "Epoch 2/5\n",
            "24/24 [==============================] - 5s 187ms/step - loss: 1.1758 - accuracy: 0.7280 - val_loss: 0.9351 - val_accuracy: 0.8043\n",
            "Epoch 3/5\n",
            "24/24 [==============================] - 4s 148ms/step - loss: 0.8581 - accuracy: 0.8000 - val_loss: 0.7469 - val_accuracy: 0.8289\n",
            "Epoch 4/5\n",
            "24/24 [==============================] - 5s 183ms/step - loss: 0.7096 - accuracy: 0.8373 - val_loss: 0.6748 - val_accuracy: 0.8322\n",
            "Epoch 5/5\n",
            "24/24 [==============================] - 5s 184ms/step - loss: 0.6016 - accuracy: 0.8733 - val_loss: 0.6356 - val_accuracy: 0.8355\n"
          ]
        }
      ]
    },
    {
      "cell_type": "code",
      "source": [
        "#evaluate on the full test dataset\n",
        "model_0.evaluate(test_data_10_percent)"
      ],
      "metadata": {
        "id": "ufSVZznqHgVG",
        "colab": {
          "base_uri": "https://localhost:8080/"
        },
        "outputId": "09ecd0f4-d6d6-4b32-b8b0-13e21a0ff9a5"
      },
      "execution_count": 12,
      "outputs": [
        {
          "output_type": "stream",
          "name": "stdout",
          "text": [
            "79/79 [==============================] - 6s 75ms/step - loss: 0.6167 - accuracy: 0.8348\n"
          ]
        },
        {
          "output_type": "execute_result",
          "data": {
            "text/plain": [
              "[0.6167030930519104, 0.8348000049591064]"
            ]
          },
          "metadata": {},
          "execution_count": 12
        }
      ]
    },
    {
      "cell_type": "code",
      "source": [
        "#check the layers in our base model\n",
        "for layer_number, layer in enumerate(base_model.layers):\n",
        "  print(layer_number,layer.name)"
      ],
      "metadata": {
        "colab": {
          "base_uri": "https://localhost:8080/"
        },
        "id": "2CEWuanKQ9TP",
        "outputId": "541d17ad-e1c2-41bc-e111-6bcf25f03219"
      },
      "execution_count": 13,
      "outputs": [
        {
          "output_type": "stream",
          "name": "stdout",
          "text": [
            "0 input_1\n",
            "1 rescaling\n",
            "2 normalization\n",
            "3 stem_conv_pad\n",
            "4 stem_conv\n",
            "5 stem_bn\n",
            "6 stem_activation\n",
            "7 block1a_dwconv\n",
            "8 block1a_bn\n",
            "9 block1a_activation\n",
            "10 block1a_se_squeeze\n",
            "11 block1a_se_reshape\n",
            "12 block1a_se_reduce\n",
            "13 block1a_se_expand\n",
            "14 block1a_se_excite\n",
            "15 block1a_project_conv\n",
            "16 block1a_project_bn\n",
            "17 block2a_expand_conv\n",
            "18 block2a_expand_bn\n",
            "19 block2a_expand_activation\n",
            "20 block2a_dwconv_pad\n",
            "21 block2a_dwconv\n",
            "22 block2a_bn\n",
            "23 block2a_activation\n",
            "24 block2a_se_squeeze\n",
            "25 block2a_se_reshape\n",
            "26 block2a_se_reduce\n",
            "27 block2a_se_expand\n",
            "28 block2a_se_excite\n",
            "29 block2a_project_conv\n",
            "30 block2a_project_bn\n",
            "31 block2b_expand_conv\n",
            "32 block2b_expand_bn\n",
            "33 block2b_expand_activation\n",
            "34 block2b_dwconv\n",
            "35 block2b_bn\n",
            "36 block2b_activation\n",
            "37 block2b_se_squeeze\n",
            "38 block2b_se_reshape\n",
            "39 block2b_se_reduce\n",
            "40 block2b_se_expand\n",
            "41 block2b_se_excite\n",
            "42 block2b_project_conv\n",
            "43 block2b_project_bn\n",
            "44 block2b_drop\n",
            "45 block2b_add\n",
            "46 block3a_expand_conv\n",
            "47 block3a_expand_bn\n",
            "48 block3a_expand_activation\n",
            "49 block3a_dwconv_pad\n",
            "50 block3a_dwconv\n",
            "51 block3a_bn\n",
            "52 block3a_activation\n",
            "53 block3a_se_squeeze\n",
            "54 block3a_se_reshape\n",
            "55 block3a_se_reduce\n",
            "56 block3a_se_expand\n",
            "57 block3a_se_excite\n",
            "58 block3a_project_conv\n",
            "59 block3a_project_bn\n",
            "60 block3b_expand_conv\n",
            "61 block3b_expand_bn\n",
            "62 block3b_expand_activation\n",
            "63 block3b_dwconv\n",
            "64 block3b_bn\n",
            "65 block3b_activation\n",
            "66 block3b_se_squeeze\n",
            "67 block3b_se_reshape\n",
            "68 block3b_se_reduce\n",
            "69 block3b_se_expand\n",
            "70 block3b_se_excite\n",
            "71 block3b_project_conv\n",
            "72 block3b_project_bn\n",
            "73 block3b_drop\n",
            "74 block3b_add\n",
            "75 block4a_expand_conv\n",
            "76 block4a_expand_bn\n",
            "77 block4a_expand_activation\n",
            "78 block4a_dwconv_pad\n",
            "79 block4a_dwconv\n",
            "80 block4a_bn\n",
            "81 block4a_activation\n",
            "82 block4a_se_squeeze\n",
            "83 block4a_se_reshape\n",
            "84 block4a_se_reduce\n",
            "85 block4a_se_expand\n",
            "86 block4a_se_excite\n",
            "87 block4a_project_conv\n",
            "88 block4a_project_bn\n",
            "89 block4b_expand_conv\n",
            "90 block4b_expand_bn\n",
            "91 block4b_expand_activation\n",
            "92 block4b_dwconv\n",
            "93 block4b_bn\n",
            "94 block4b_activation\n",
            "95 block4b_se_squeeze\n",
            "96 block4b_se_reshape\n",
            "97 block4b_se_reduce\n",
            "98 block4b_se_expand\n",
            "99 block4b_se_excite\n",
            "100 block4b_project_conv\n",
            "101 block4b_project_bn\n",
            "102 block4b_drop\n",
            "103 block4b_add\n",
            "104 block4c_expand_conv\n",
            "105 block4c_expand_bn\n",
            "106 block4c_expand_activation\n",
            "107 block4c_dwconv\n",
            "108 block4c_bn\n",
            "109 block4c_activation\n",
            "110 block4c_se_squeeze\n",
            "111 block4c_se_reshape\n",
            "112 block4c_se_reduce\n",
            "113 block4c_se_expand\n",
            "114 block4c_se_excite\n",
            "115 block4c_project_conv\n",
            "116 block4c_project_bn\n",
            "117 block4c_drop\n",
            "118 block4c_add\n",
            "119 block5a_expand_conv\n",
            "120 block5a_expand_bn\n",
            "121 block5a_expand_activation\n",
            "122 block5a_dwconv\n",
            "123 block5a_bn\n",
            "124 block5a_activation\n",
            "125 block5a_se_squeeze\n",
            "126 block5a_se_reshape\n",
            "127 block5a_se_reduce\n",
            "128 block5a_se_expand\n",
            "129 block5a_se_excite\n",
            "130 block5a_project_conv\n",
            "131 block5a_project_bn\n",
            "132 block5b_expand_conv\n",
            "133 block5b_expand_bn\n",
            "134 block5b_expand_activation\n",
            "135 block5b_dwconv\n",
            "136 block5b_bn\n",
            "137 block5b_activation\n",
            "138 block5b_se_squeeze\n",
            "139 block5b_se_reshape\n",
            "140 block5b_se_reduce\n",
            "141 block5b_se_expand\n",
            "142 block5b_se_excite\n",
            "143 block5b_project_conv\n",
            "144 block5b_project_bn\n",
            "145 block5b_drop\n",
            "146 block5b_add\n",
            "147 block5c_expand_conv\n",
            "148 block5c_expand_bn\n",
            "149 block5c_expand_activation\n",
            "150 block5c_dwconv\n",
            "151 block5c_bn\n",
            "152 block5c_activation\n",
            "153 block5c_se_squeeze\n",
            "154 block5c_se_reshape\n",
            "155 block5c_se_reduce\n",
            "156 block5c_se_expand\n",
            "157 block5c_se_excite\n",
            "158 block5c_project_conv\n",
            "159 block5c_project_bn\n",
            "160 block5c_drop\n",
            "161 block5c_add\n",
            "162 block6a_expand_conv\n",
            "163 block6a_expand_bn\n",
            "164 block6a_expand_activation\n",
            "165 block6a_dwconv_pad\n",
            "166 block6a_dwconv\n",
            "167 block6a_bn\n",
            "168 block6a_activation\n",
            "169 block6a_se_squeeze\n",
            "170 block6a_se_reshape\n",
            "171 block6a_se_reduce\n",
            "172 block6a_se_expand\n",
            "173 block6a_se_excite\n",
            "174 block6a_project_conv\n",
            "175 block6a_project_bn\n",
            "176 block6b_expand_conv\n",
            "177 block6b_expand_bn\n",
            "178 block6b_expand_activation\n",
            "179 block6b_dwconv\n",
            "180 block6b_bn\n",
            "181 block6b_activation\n",
            "182 block6b_se_squeeze\n",
            "183 block6b_se_reshape\n",
            "184 block6b_se_reduce\n",
            "185 block6b_se_expand\n",
            "186 block6b_se_excite\n",
            "187 block6b_project_conv\n",
            "188 block6b_project_bn\n",
            "189 block6b_drop\n",
            "190 block6b_add\n",
            "191 block6c_expand_conv\n",
            "192 block6c_expand_bn\n",
            "193 block6c_expand_activation\n",
            "194 block6c_dwconv\n",
            "195 block6c_bn\n",
            "196 block6c_activation\n",
            "197 block6c_se_squeeze\n",
            "198 block6c_se_reshape\n",
            "199 block6c_se_reduce\n",
            "200 block6c_se_expand\n",
            "201 block6c_se_excite\n",
            "202 block6c_project_conv\n",
            "203 block6c_project_bn\n",
            "204 block6c_drop\n",
            "205 block6c_add\n",
            "206 block6d_expand_conv\n",
            "207 block6d_expand_bn\n",
            "208 block6d_expand_activation\n",
            "209 block6d_dwconv\n",
            "210 block6d_bn\n",
            "211 block6d_activation\n",
            "212 block6d_se_squeeze\n",
            "213 block6d_se_reshape\n",
            "214 block6d_se_reduce\n",
            "215 block6d_se_expand\n",
            "216 block6d_se_excite\n",
            "217 block6d_project_conv\n",
            "218 block6d_project_bn\n",
            "219 block6d_drop\n",
            "220 block6d_add\n",
            "221 block7a_expand_conv\n",
            "222 block7a_expand_bn\n",
            "223 block7a_expand_activation\n",
            "224 block7a_dwconv\n",
            "225 block7a_bn\n",
            "226 block7a_activation\n",
            "227 block7a_se_squeeze\n",
            "228 block7a_se_reshape\n",
            "229 block7a_se_reduce\n",
            "230 block7a_se_expand\n",
            "231 block7a_se_excite\n",
            "232 block7a_project_conv\n",
            "233 block7a_project_bn\n",
            "234 top_conv\n",
            "235 top_bn\n",
            "236 top_activation\n"
          ]
        }
      ]
    },
    {
      "cell_type": "code",
      "source": [
        "#how about we get a summary of the base model?\n",
        "base_model.summary()"
      ],
      "metadata": {
        "colab": {
          "base_uri": "https://localhost:8080/"
        },
        "id": "k0P1aVNRRUX-",
        "outputId": "7d90a0f2-5acf-4b5a-8706-99b4d6d2cd25"
      },
      "execution_count": 14,
      "outputs": [
        {
          "output_type": "stream",
          "name": "stdout",
          "text": [
            "Model: \"efficientnetb0\"\n",
            "__________________________________________________________________________________________________\n",
            " Layer (type)                   Output Shape         Param #     Connected to                     \n",
            "==================================================================================================\n",
            " input_1 (InputLayer)           [(None, None, None,  0           []                               \n",
            "                                 3)]                                                              \n",
            "                                                                                                  \n",
            " rescaling (Rescaling)          (None, None, None,   0           ['input_1[0][0]']                \n",
            "                                3)                                                                \n",
            "                                                                                                  \n",
            " normalization (Normalization)  (None, None, None,   7           ['rescaling[0][0]']              \n",
            "                                3)                                                                \n",
            "                                                                                                  \n",
            " stem_conv_pad (ZeroPadding2D)  (None, None, None,   0           ['normalization[0][0]']          \n",
            "                                3)                                                                \n",
            "                                                                                                  \n",
            " stem_conv (Conv2D)             (None, None, None,   864         ['stem_conv_pad[0][0]']          \n",
            "                                32)                                                               \n",
            "                                                                                                  \n",
            " stem_bn (BatchNormalization)   (None, None, None,   128         ['stem_conv[0][0]']              \n",
            "                                32)                                                               \n",
            "                                                                                                  \n",
            " stem_activation (Activation)   (None, None, None,   0           ['stem_bn[0][0]']                \n",
            "                                32)                                                               \n",
            "                                                                                                  \n",
            " block1a_dwconv (DepthwiseConv2  (None, None, None,   288        ['stem_activation[0][0]']        \n",
            " D)                             32)                                                               \n",
            "                                                                                                  \n",
            " block1a_bn (BatchNormalization  (None, None, None,   128        ['block1a_dwconv[0][0]']         \n",
            " )                              32)                                                               \n",
            "                                                                                                  \n",
            " block1a_activation (Activation  (None, None, None,   0          ['block1a_bn[0][0]']             \n",
            " )                              32)                                                               \n",
            "                                                                                                  \n",
            " block1a_se_squeeze (GlobalAver  (None, 32)          0           ['block1a_activation[0][0]']     \n",
            " agePooling2D)                                                                                    \n",
            "                                                                                                  \n",
            " block1a_se_reshape (Reshape)   (None, 1, 1, 32)     0           ['block1a_se_squeeze[0][0]']     \n",
            "                                                                                                  \n",
            " block1a_se_reduce (Conv2D)     (None, 1, 1, 8)      264         ['block1a_se_reshape[0][0]']     \n",
            "                                                                                                  \n",
            " block1a_se_expand (Conv2D)     (None, 1, 1, 32)     288         ['block1a_se_reduce[0][0]']      \n",
            "                                                                                                  \n",
            " block1a_se_excite (Multiply)   (None, None, None,   0           ['block1a_activation[0][0]',     \n",
            "                                32)                               'block1a_se_expand[0][0]']      \n",
            "                                                                                                  \n",
            " block1a_project_conv (Conv2D)  (None, None, None,   512         ['block1a_se_excite[0][0]']      \n",
            "                                16)                                                               \n",
            "                                                                                                  \n",
            " block1a_project_bn (BatchNorma  (None, None, None,   64         ['block1a_project_conv[0][0]']   \n",
            " lization)                      16)                                                               \n",
            "                                                                                                  \n",
            " block2a_expand_conv (Conv2D)   (None, None, None,   1536        ['block1a_project_bn[0][0]']     \n",
            "                                96)                                                               \n",
            "                                                                                                  \n",
            " block2a_expand_bn (BatchNormal  (None, None, None,   384        ['block2a_expand_conv[0][0]']    \n",
            " ization)                       96)                                                               \n",
            "                                                                                                  \n",
            " block2a_expand_activation (Act  (None, None, None,   0          ['block2a_expand_bn[0][0]']      \n",
            " ivation)                       96)                                                               \n",
            "                                                                                                  \n",
            " block2a_dwconv_pad (ZeroPaddin  (None, None, None,   0          ['block2a_expand_activation[0][0]\n",
            " g2D)                           96)                              ']                               \n",
            "                                                                                                  \n",
            " block2a_dwconv (DepthwiseConv2  (None, None, None,   864        ['block2a_dwconv_pad[0][0]']     \n",
            " D)                             96)                                                               \n",
            "                                                                                                  \n",
            " block2a_bn (BatchNormalization  (None, None, None,   384        ['block2a_dwconv[0][0]']         \n",
            " )                              96)                                                               \n",
            "                                                                                                  \n",
            " block2a_activation (Activation  (None, None, None,   0          ['block2a_bn[0][0]']             \n",
            " )                              96)                                                               \n",
            "                                                                                                  \n",
            " block2a_se_squeeze (GlobalAver  (None, 96)          0           ['block2a_activation[0][0]']     \n",
            " agePooling2D)                                                                                    \n",
            "                                                                                                  \n",
            " block2a_se_reshape (Reshape)   (None, 1, 1, 96)     0           ['block2a_se_squeeze[0][0]']     \n",
            "                                                                                                  \n",
            " block2a_se_reduce (Conv2D)     (None, 1, 1, 4)      388         ['block2a_se_reshape[0][0]']     \n",
            "                                                                                                  \n",
            " block2a_se_expand (Conv2D)     (None, 1, 1, 96)     480         ['block2a_se_reduce[0][0]']      \n",
            "                                                                                                  \n",
            " block2a_se_excite (Multiply)   (None, None, None,   0           ['block2a_activation[0][0]',     \n",
            "                                96)                               'block2a_se_expand[0][0]']      \n",
            "                                                                                                  \n",
            " block2a_project_conv (Conv2D)  (None, None, None,   2304        ['block2a_se_excite[0][0]']      \n",
            "                                24)                                                               \n",
            "                                                                                                  \n",
            " block2a_project_bn (BatchNorma  (None, None, None,   96         ['block2a_project_conv[0][0]']   \n",
            " lization)                      24)                                                               \n",
            "                                                                                                  \n",
            " block2b_expand_conv (Conv2D)   (None, None, None,   3456        ['block2a_project_bn[0][0]']     \n",
            "                                144)                                                              \n",
            "                                                                                                  \n",
            " block2b_expand_bn (BatchNormal  (None, None, None,   576        ['block2b_expand_conv[0][0]']    \n",
            " ization)                       144)                                                              \n",
            "                                                                                                  \n",
            " block2b_expand_activation (Act  (None, None, None,   0          ['block2b_expand_bn[0][0]']      \n",
            " ivation)                       144)                                                              \n",
            "                                                                                                  \n",
            " block2b_dwconv (DepthwiseConv2  (None, None, None,   1296       ['block2b_expand_activation[0][0]\n",
            " D)                             144)                             ']                               \n",
            "                                                                                                  \n",
            " block2b_bn (BatchNormalization  (None, None, None,   576        ['block2b_dwconv[0][0]']         \n",
            " )                              144)                                                              \n",
            "                                                                                                  \n",
            " block2b_activation (Activation  (None, None, None,   0          ['block2b_bn[0][0]']             \n",
            " )                              144)                                                              \n",
            "                                                                                                  \n",
            " block2b_se_squeeze (GlobalAver  (None, 144)         0           ['block2b_activation[0][0]']     \n",
            " agePooling2D)                                                                                    \n",
            "                                                                                                  \n",
            " block2b_se_reshape (Reshape)   (None, 1, 1, 144)    0           ['block2b_se_squeeze[0][0]']     \n",
            "                                                                                                  \n",
            " block2b_se_reduce (Conv2D)     (None, 1, 1, 6)      870         ['block2b_se_reshape[0][0]']     \n",
            "                                                                                                  \n",
            " block2b_se_expand (Conv2D)     (None, 1, 1, 144)    1008        ['block2b_se_reduce[0][0]']      \n",
            "                                                                                                  \n",
            " block2b_se_excite (Multiply)   (None, None, None,   0           ['block2b_activation[0][0]',     \n",
            "                                144)                              'block2b_se_expand[0][0]']      \n",
            "                                                                                                  \n",
            " block2b_project_conv (Conv2D)  (None, None, None,   3456        ['block2b_se_excite[0][0]']      \n",
            "                                24)                                                               \n",
            "                                                                                                  \n",
            " block2b_project_bn (BatchNorma  (None, None, None,   96         ['block2b_project_conv[0][0]']   \n",
            " lization)                      24)                                                               \n",
            "                                                                                                  \n",
            " block2b_drop (Dropout)         (None, None, None,   0           ['block2b_project_bn[0][0]']     \n",
            "                                24)                                                               \n",
            "                                                                                                  \n",
            " block2b_add (Add)              (None, None, None,   0           ['block2b_drop[0][0]',           \n",
            "                                24)                               'block2a_project_bn[0][0]']     \n",
            "                                                                                                  \n",
            " block3a_expand_conv (Conv2D)   (None, None, None,   3456        ['block2b_add[0][0]']            \n",
            "                                144)                                                              \n",
            "                                                                                                  \n",
            " block3a_expand_bn (BatchNormal  (None, None, None,   576        ['block3a_expand_conv[0][0]']    \n",
            " ization)                       144)                                                              \n",
            "                                                                                                  \n",
            " block3a_expand_activation (Act  (None, None, None,   0          ['block3a_expand_bn[0][0]']      \n",
            " ivation)                       144)                                                              \n",
            "                                                                                                  \n",
            " block3a_dwconv_pad (ZeroPaddin  (None, None, None,   0          ['block3a_expand_activation[0][0]\n",
            " g2D)                           144)                             ']                               \n",
            "                                                                                                  \n",
            " block3a_dwconv (DepthwiseConv2  (None, None, None,   3600       ['block3a_dwconv_pad[0][0]']     \n",
            " D)                             144)                                                              \n",
            "                                                                                                  \n",
            " block3a_bn (BatchNormalization  (None, None, None,   576        ['block3a_dwconv[0][0]']         \n",
            " )                              144)                                                              \n",
            "                                                                                                  \n",
            " block3a_activation (Activation  (None, None, None,   0          ['block3a_bn[0][0]']             \n",
            " )                              144)                                                              \n",
            "                                                                                                  \n",
            " block3a_se_squeeze (GlobalAver  (None, 144)         0           ['block3a_activation[0][0]']     \n",
            " agePooling2D)                                                                                    \n",
            "                                                                                                  \n",
            " block3a_se_reshape (Reshape)   (None, 1, 1, 144)    0           ['block3a_se_squeeze[0][0]']     \n",
            "                                                                                                  \n",
            " block3a_se_reduce (Conv2D)     (None, 1, 1, 6)      870         ['block3a_se_reshape[0][0]']     \n",
            "                                                                                                  \n",
            " block3a_se_expand (Conv2D)     (None, 1, 1, 144)    1008        ['block3a_se_reduce[0][0]']      \n",
            "                                                                                                  \n",
            " block3a_se_excite (Multiply)   (None, None, None,   0           ['block3a_activation[0][0]',     \n",
            "                                144)                              'block3a_se_expand[0][0]']      \n",
            "                                                                                                  \n",
            " block3a_project_conv (Conv2D)  (None, None, None,   5760        ['block3a_se_excite[0][0]']      \n",
            "                                40)                                                               \n",
            "                                                                                                  \n",
            " block3a_project_bn (BatchNorma  (None, None, None,   160        ['block3a_project_conv[0][0]']   \n",
            " lization)                      40)                                                               \n",
            "                                                                                                  \n",
            " block3b_expand_conv (Conv2D)   (None, None, None,   9600        ['block3a_project_bn[0][0]']     \n",
            "                                240)                                                              \n",
            "                                                                                                  \n",
            " block3b_expand_bn (BatchNormal  (None, None, None,   960        ['block3b_expand_conv[0][0]']    \n",
            " ization)                       240)                                                              \n",
            "                                                                                                  \n",
            " block3b_expand_activation (Act  (None, None, None,   0          ['block3b_expand_bn[0][0]']      \n",
            " ivation)                       240)                                                              \n",
            "                                                                                                  \n",
            " block3b_dwconv (DepthwiseConv2  (None, None, None,   6000       ['block3b_expand_activation[0][0]\n",
            " D)                             240)                             ']                               \n",
            "                                                                                                  \n",
            " block3b_bn (BatchNormalization  (None, None, None,   960        ['block3b_dwconv[0][0]']         \n",
            " )                              240)                                                              \n",
            "                                                                                                  \n",
            " block3b_activation (Activation  (None, None, None,   0          ['block3b_bn[0][0]']             \n",
            " )                              240)                                                              \n",
            "                                                                                                  \n",
            " block3b_se_squeeze (GlobalAver  (None, 240)         0           ['block3b_activation[0][0]']     \n",
            " agePooling2D)                                                                                    \n",
            "                                                                                                  \n",
            " block3b_se_reshape (Reshape)   (None, 1, 1, 240)    0           ['block3b_se_squeeze[0][0]']     \n",
            "                                                                                                  \n",
            " block3b_se_reduce (Conv2D)     (None, 1, 1, 10)     2410        ['block3b_se_reshape[0][0]']     \n",
            "                                                                                                  \n",
            " block3b_se_expand (Conv2D)     (None, 1, 1, 240)    2640        ['block3b_se_reduce[0][0]']      \n",
            "                                                                                                  \n",
            " block3b_se_excite (Multiply)   (None, None, None,   0           ['block3b_activation[0][0]',     \n",
            "                                240)                              'block3b_se_expand[0][0]']      \n",
            "                                                                                                  \n",
            " block3b_project_conv (Conv2D)  (None, None, None,   9600        ['block3b_se_excite[0][0]']      \n",
            "                                40)                                                               \n",
            "                                                                                                  \n",
            " block3b_project_bn (BatchNorma  (None, None, None,   160        ['block3b_project_conv[0][0]']   \n",
            " lization)                      40)                                                               \n",
            "                                                                                                  \n",
            " block3b_drop (Dropout)         (None, None, None,   0           ['block3b_project_bn[0][0]']     \n",
            "                                40)                                                               \n",
            "                                                                                                  \n",
            " block3b_add (Add)              (None, None, None,   0           ['block3b_drop[0][0]',           \n",
            "                                40)                               'block3a_project_bn[0][0]']     \n",
            "                                                                                                  \n",
            " block4a_expand_conv (Conv2D)   (None, None, None,   9600        ['block3b_add[0][0]']            \n",
            "                                240)                                                              \n",
            "                                                                                                  \n",
            " block4a_expand_bn (BatchNormal  (None, None, None,   960        ['block4a_expand_conv[0][0]']    \n",
            " ization)                       240)                                                              \n",
            "                                                                                                  \n",
            " block4a_expand_activation (Act  (None, None, None,   0          ['block4a_expand_bn[0][0]']      \n",
            " ivation)                       240)                                                              \n",
            "                                                                                                  \n",
            " block4a_dwconv_pad (ZeroPaddin  (None, None, None,   0          ['block4a_expand_activation[0][0]\n",
            " g2D)                           240)                             ']                               \n",
            "                                                                                                  \n",
            " block4a_dwconv (DepthwiseConv2  (None, None, None,   2160       ['block4a_dwconv_pad[0][0]']     \n",
            " D)                             240)                                                              \n",
            "                                                                                                  \n",
            " block4a_bn (BatchNormalization  (None, None, None,   960        ['block4a_dwconv[0][0]']         \n",
            " )                              240)                                                              \n",
            "                                                                                                  \n",
            " block4a_activation (Activation  (None, None, None,   0          ['block4a_bn[0][0]']             \n",
            " )                              240)                                                              \n",
            "                                                                                                  \n",
            " block4a_se_squeeze (GlobalAver  (None, 240)         0           ['block4a_activation[0][0]']     \n",
            " agePooling2D)                                                                                    \n",
            "                                                                                                  \n",
            " block4a_se_reshape (Reshape)   (None, 1, 1, 240)    0           ['block4a_se_squeeze[0][0]']     \n",
            "                                                                                                  \n",
            " block4a_se_reduce (Conv2D)     (None, 1, 1, 10)     2410        ['block4a_se_reshape[0][0]']     \n",
            "                                                                                                  \n",
            " block4a_se_expand (Conv2D)     (None, 1, 1, 240)    2640        ['block4a_se_reduce[0][0]']      \n",
            "                                                                                                  \n",
            " block4a_se_excite (Multiply)   (None, None, None,   0           ['block4a_activation[0][0]',     \n",
            "                                240)                              'block4a_se_expand[0][0]']      \n",
            "                                                                                                  \n",
            " block4a_project_conv (Conv2D)  (None, None, None,   19200       ['block4a_se_excite[0][0]']      \n",
            "                                80)                                                               \n",
            "                                                                                                  \n",
            " block4a_project_bn (BatchNorma  (None, None, None,   320        ['block4a_project_conv[0][0]']   \n",
            " lization)                      80)                                                               \n",
            "                                                                                                  \n",
            " block4b_expand_conv (Conv2D)   (None, None, None,   38400       ['block4a_project_bn[0][0]']     \n",
            "                                480)                                                              \n",
            "                                                                                                  \n",
            " block4b_expand_bn (BatchNormal  (None, None, None,   1920       ['block4b_expand_conv[0][0]']    \n",
            " ization)                       480)                                                              \n",
            "                                                                                                  \n",
            " block4b_expand_activation (Act  (None, None, None,   0          ['block4b_expand_bn[0][0]']      \n",
            " ivation)                       480)                                                              \n",
            "                                                                                                  \n",
            " block4b_dwconv (DepthwiseConv2  (None, None, None,   4320       ['block4b_expand_activation[0][0]\n",
            " D)                             480)                             ']                               \n",
            "                                                                                                  \n",
            " block4b_bn (BatchNormalization  (None, None, None,   1920       ['block4b_dwconv[0][0]']         \n",
            " )                              480)                                                              \n",
            "                                                                                                  \n",
            " block4b_activation (Activation  (None, None, None,   0          ['block4b_bn[0][0]']             \n",
            " )                              480)                                                              \n",
            "                                                                                                  \n",
            " block4b_se_squeeze (GlobalAver  (None, 480)         0           ['block4b_activation[0][0]']     \n",
            " agePooling2D)                                                                                    \n",
            "                                                                                                  \n",
            " block4b_se_reshape (Reshape)   (None, 1, 1, 480)    0           ['block4b_se_squeeze[0][0]']     \n",
            "                                                                                                  \n",
            " block4b_se_reduce (Conv2D)     (None, 1, 1, 20)     9620        ['block4b_se_reshape[0][0]']     \n",
            "                                                                                                  \n",
            " block4b_se_expand (Conv2D)     (None, 1, 1, 480)    10080       ['block4b_se_reduce[0][0]']      \n",
            "                                                                                                  \n",
            " block4b_se_excite (Multiply)   (None, None, None,   0           ['block4b_activation[0][0]',     \n",
            "                                480)                              'block4b_se_expand[0][0]']      \n",
            "                                                                                                  \n",
            " block4b_project_conv (Conv2D)  (None, None, None,   38400       ['block4b_se_excite[0][0]']      \n",
            "                                80)                                                               \n",
            "                                                                                                  \n",
            " block4b_project_bn (BatchNorma  (None, None, None,   320        ['block4b_project_conv[0][0]']   \n",
            " lization)                      80)                                                               \n",
            "                                                                                                  \n",
            " block4b_drop (Dropout)         (None, None, None,   0           ['block4b_project_bn[0][0]']     \n",
            "                                80)                                                               \n",
            "                                                                                                  \n",
            " block4b_add (Add)              (None, None, None,   0           ['block4b_drop[0][0]',           \n",
            "                                80)                               'block4a_project_bn[0][0]']     \n",
            "                                                                                                  \n",
            " block4c_expand_conv (Conv2D)   (None, None, None,   38400       ['block4b_add[0][0]']            \n",
            "                                480)                                                              \n",
            "                                                                                                  \n",
            " block4c_expand_bn (BatchNormal  (None, None, None,   1920       ['block4c_expand_conv[0][0]']    \n",
            " ization)                       480)                                                              \n",
            "                                                                                                  \n",
            " block4c_expand_activation (Act  (None, None, None,   0          ['block4c_expand_bn[0][0]']      \n",
            " ivation)                       480)                                                              \n",
            "                                                                                                  \n",
            " block4c_dwconv (DepthwiseConv2  (None, None, None,   4320       ['block4c_expand_activation[0][0]\n",
            " D)                             480)                             ']                               \n",
            "                                                                                                  \n",
            " block4c_bn (BatchNormalization  (None, None, None,   1920       ['block4c_dwconv[0][0]']         \n",
            " )                              480)                                                              \n",
            "                                                                                                  \n",
            " block4c_activation (Activation  (None, None, None,   0          ['block4c_bn[0][0]']             \n",
            " )                              480)                                                              \n",
            "                                                                                                  \n",
            " block4c_se_squeeze (GlobalAver  (None, 480)         0           ['block4c_activation[0][0]']     \n",
            " agePooling2D)                                                                                    \n",
            "                                                                                                  \n",
            " block4c_se_reshape (Reshape)   (None, 1, 1, 480)    0           ['block4c_se_squeeze[0][0]']     \n",
            "                                                                                                  \n",
            " block4c_se_reduce (Conv2D)     (None, 1, 1, 20)     9620        ['block4c_se_reshape[0][0]']     \n",
            "                                                                                                  \n",
            " block4c_se_expand (Conv2D)     (None, 1, 1, 480)    10080       ['block4c_se_reduce[0][0]']      \n",
            "                                                                                                  \n",
            " block4c_se_excite (Multiply)   (None, None, None,   0           ['block4c_activation[0][0]',     \n",
            "                                480)                              'block4c_se_expand[0][0]']      \n",
            "                                                                                                  \n",
            " block4c_project_conv (Conv2D)  (None, None, None,   38400       ['block4c_se_excite[0][0]']      \n",
            "                                80)                                                               \n",
            "                                                                                                  \n",
            " block4c_project_bn (BatchNorma  (None, None, None,   320        ['block4c_project_conv[0][0]']   \n",
            " lization)                      80)                                                               \n",
            "                                                                                                  \n",
            " block4c_drop (Dropout)         (None, None, None,   0           ['block4c_project_bn[0][0]']     \n",
            "                                80)                                                               \n",
            "                                                                                                  \n",
            " block4c_add (Add)              (None, None, None,   0           ['block4c_drop[0][0]',           \n",
            "                                80)                               'block4b_add[0][0]']            \n",
            "                                                                                                  \n",
            " block5a_expand_conv (Conv2D)   (None, None, None,   38400       ['block4c_add[0][0]']            \n",
            "                                480)                                                              \n",
            "                                                                                                  \n",
            " block5a_expand_bn (BatchNormal  (None, None, None,   1920       ['block5a_expand_conv[0][0]']    \n",
            " ization)                       480)                                                              \n",
            "                                                                                                  \n",
            " block5a_expand_activation (Act  (None, None, None,   0          ['block5a_expand_bn[0][0]']      \n",
            " ivation)                       480)                                                              \n",
            "                                                                                                  \n",
            " block5a_dwconv (DepthwiseConv2  (None, None, None,   12000      ['block5a_expand_activation[0][0]\n",
            " D)                             480)                             ']                               \n",
            "                                                                                                  \n",
            " block5a_bn (BatchNormalization  (None, None, None,   1920       ['block5a_dwconv[0][0]']         \n",
            " )                              480)                                                              \n",
            "                                                                                                  \n",
            " block5a_activation (Activation  (None, None, None,   0          ['block5a_bn[0][0]']             \n",
            " )                              480)                                                              \n",
            "                                                                                                  \n",
            " block5a_se_squeeze (GlobalAver  (None, 480)         0           ['block5a_activation[0][0]']     \n",
            " agePooling2D)                                                                                    \n",
            "                                                                                                  \n",
            " block5a_se_reshape (Reshape)   (None, 1, 1, 480)    0           ['block5a_se_squeeze[0][0]']     \n",
            "                                                                                                  \n",
            " block5a_se_reduce (Conv2D)     (None, 1, 1, 20)     9620        ['block5a_se_reshape[0][0]']     \n",
            "                                                                                                  \n",
            " block5a_se_expand (Conv2D)     (None, 1, 1, 480)    10080       ['block5a_se_reduce[0][0]']      \n",
            "                                                                                                  \n",
            " block5a_se_excite (Multiply)   (None, None, None,   0           ['block5a_activation[0][0]',     \n",
            "                                480)                              'block5a_se_expand[0][0]']      \n",
            "                                                                                                  \n",
            " block5a_project_conv (Conv2D)  (None, None, None,   53760       ['block5a_se_excite[0][0]']      \n",
            "                                112)                                                              \n",
            "                                                                                                  \n",
            " block5a_project_bn (BatchNorma  (None, None, None,   448        ['block5a_project_conv[0][0]']   \n",
            " lization)                      112)                                                              \n",
            "                                                                                                  \n",
            " block5b_expand_conv (Conv2D)   (None, None, None,   75264       ['block5a_project_bn[0][0]']     \n",
            "                                672)                                                              \n",
            "                                                                                                  \n",
            " block5b_expand_bn (BatchNormal  (None, None, None,   2688       ['block5b_expand_conv[0][0]']    \n",
            " ization)                       672)                                                              \n",
            "                                                                                                  \n",
            " block5b_expand_activation (Act  (None, None, None,   0          ['block5b_expand_bn[0][0]']      \n",
            " ivation)                       672)                                                              \n",
            "                                                                                                  \n",
            " block5b_dwconv (DepthwiseConv2  (None, None, None,   16800      ['block5b_expand_activation[0][0]\n",
            " D)                             672)                             ']                               \n",
            "                                                                                                  \n",
            " block5b_bn (BatchNormalization  (None, None, None,   2688       ['block5b_dwconv[0][0]']         \n",
            " )                              672)                                                              \n",
            "                                                                                                  \n",
            " block5b_activation (Activation  (None, None, None,   0          ['block5b_bn[0][0]']             \n",
            " )                              672)                                                              \n",
            "                                                                                                  \n",
            " block5b_se_squeeze (GlobalAver  (None, 672)         0           ['block5b_activation[0][0]']     \n",
            " agePooling2D)                                                                                    \n",
            "                                                                                                  \n",
            " block5b_se_reshape (Reshape)   (None, 1, 1, 672)    0           ['block5b_se_squeeze[0][0]']     \n",
            "                                                                                                  \n",
            " block5b_se_reduce (Conv2D)     (None, 1, 1, 28)     18844       ['block5b_se_reshape[0][0]']     \n",
            "                                                                                                  \n",
            " block5b_se_expand (Conv2D)     (None, 1, 1, 672)    19488       ['block5b_se_reduce[0][0]']      \n",
            "                                                                                                  \n",
            " block5b_se_excite (Multiply)   (None, None, None,   0           ['block5b_activation[0][0]',     \n",
            "                                672)                              'block5b_se_expand[0][0]']      \n",
            "                                                                                                  \n",
            " block5b_project_conv (Conv2D)  (None, None, None,   75264       ['block5b_se_excite[0][0]']      \n",
            "                                112)                                                              \n",
            "                                                                                                  \n",
            " block5b_project_bn (BatchNorma  (None, None, None,   448        ['block5b_project_conv[0][0]']   \n",
            " lization)                      112)                                                              \n",
            "                                                                                                  \n",
            " block5b_drop (Dropout)         (None, None, None,   0           ['block5b_project_bn[0][0]']     \n",
            "                                112)                                                              \n",
            "                                                                                                  \n",
            " block5b_add (Add)              (None, None, None,   0           ['block5b_drop[0][0]',           \n",
            "                                112)                              'block5a_project_bn[0][0]']     \n",
            "                                                                                                  \n",
            " block5c_expand_conv (Conv2D)   (None, None, None,   75264       ['block5b_add[0][0]']            \n",
            "                                672)                                                              \n",
            "                                                                                                  \n",
            " block5c_expand_bn (BatchNormal  (None, None, None,   2688       ['block5c_expand_conv[0][0]']    \n",
            " ization)                       672)                                                              \n",
            "                                                                                                  \n",
            " block5c_expand_activation (Act  (None, None, None,   0          ['block5c_expand_bn[0][0]']      \n",
            " ivation)                       672)                                                              \n",
            "                                                                                                  \n",
            " block5c_dwconv (DepthwiseConv2  (None, None, None,   16800      ['block5c_expand_activation[0][0]\n",
            " D)                             672)                             ']                               \n",
            "                                                                                                  \n",
            " block5c_bn (BatchNormalization  (None, None, None,   2688       ['block5c_dwconv[0][0]']         \n",
            " )                              672)                                                              \n",
            "                                                                                                  \n",
            " block5c_activation (Activation  (None, None, None,   0          ['block5c_bn[0][0]']             \n",
            " )                              672)                                                              \n",
            "                                                                                                  \n",
            " block5c_se_squeeze (GlobalAver  (None, 672)         0           ['block5c_activation[0][0]']     \n",
            " agePooling2D)                                                                                    \n",
            "                                                                                                  \n",
            " block5c_se_reshape (Reshape)   (None, 1, 1, 672)    0           ['block5c_se_squeeze[0][0]']     \n",
            "                                                                                                  \n",
            " block5c_se_reduce (Conv2D)     (None, 1, 1, 28)     18844       ['block5c_se_reshape[0][0]']     \n",
            "                                                                                                  \n",
            " block5c_se_expand (Conv2D)     (None, 1, 1, 672)    19488       ['block5c_se_reduce[0][0]']      \n",
            "                                                                                                  \n",
            " block5c_se_excite (Multiply)   (None, None, None,   0           ['block5c_activation[0][0]',     \n",
            "                                672)                              'block5c_se_expand[0][0]']      \n",
            "                                                                                                  \n",
            " block5c_project_conv (Conv2D)  (None, None, None,   75264       ['block5c_se_excite[0][0]']      \n",
            "                                112)                                                              \n",
            "                                                                                                  \n",
            " block5c_project_bn (BatchNorma  (None, None, None,   448        ['block5c_project_conv[0][0]']   \n",
            " lization)                      112)                                                              \n",
            "                                                                                                  \n",
            " block5c_drop (Dropout)         (None, None, None,   0           ['block5c_project_bn[0][0]']     \n",
            "                                112)                                                              \n",
            "                                                                                                  \n",
            " block5c_add (Add)              (None, None, None,   0           ['block5c_drop[0][0]',           \n",
            "                                112)                              'block5b_add[0][0]']            \n",
            "                                                                                                  \n",
            " block6a_expand_conv (Conv2D)   (None, None, None,   75264       ['block5c_add[0][0]']            \n",
            "                                672)                                                              \n",
            "                                                                                                  \n",
            " block6a_expand_bn (BatchNormal  (None, None, None,   2688       ['block6a_expand_conv[0][0]']    \n",
            " ization)                       672)                                                              \n",
            "                                                                                                  \n",
            " block6a_expand_activation (Act  (None, None, None,   0          ['block6a_expand_bn[0][0]']      \n",
            " ivation)                       672)                                                              \n",
            "                                                                                                  \n",
            " block6a_dwconv_pad (ZeroPaddin  (None, None, None,   0          ['block6a_expand_activation[0][0]\n",
            " g2D)                           672)                             ']                               \n",
            "                                                                                                  \n",
            " block6a_dwconv (DepthwiseConv2  (None, None, None,   16800      ['block6a_dwconv_pad[0][0]']     \n",
            " D)                             672)                                                              \n",
            "                                                                                                  \n",
            " block6a_bn (BatchNormalization  (None, None, None,   2688       ['block6a_dwconv[0][0]']         \n",
            " )                              672)                                                              \n",
            "                                                                                                  \n",
            " block6a_activation (Activation  (None, None, None,   0          ['block6a_bn[0][0]']             \n",
            " )                              672)                                                              \n",
            "                                                                                                  \n",
            " block6a_se_squeeze (GlobalAver  (None, 672)         0           ['block6a_activation[0][0]']     \n",
            " agePooling2D)                                                                                    \n",
            "                                                                                                  \n",
            " block6a_se_reshape (Reshape)   (None, 1, 1, 672)    0           ['block6a_se_squeeze[0][0]']     \n",
            "                                                                                                  \n",
            " block6a_se_reduce (Conv2D)     (None, 1, 1, 28)     18844       ['block6a_se_reshape[0][0]']     \n",
            "                                                                                                  \n",
            " block6a_se_expand (Conv2D)     (None, 1, 1, 672)    19488       ['block6a_se_reduce[0][0]']      \n",
            "                                                                                                  \n",
            " block6a_se_excite (Multiply)   (None, None, None,   0           ['block6a_activation[0][0]',     \n",
            "                                672)                              'block6a_se_expand[0][0]']      \n",
            "                                                                                                  \n",
            " block6a_project_conv (Conv2D)  (None, None, None,   129024      ['block6a_se_excite[0][0]']      \n",
            "                                192)                                                              \n",
            "                                                                                                  \n",
            " block6a_project_bn (BatchNorma  (None, None, None,   768        ['block6a_project_conv[0][0]']   \n",
            " lization)                      192)                                                              \n",
            "                                                                                                  \n",
            " block6b_expand_conv (Conv2D)   (None, None, None,   221184      ['block6a_project_bn[0][0]']     \n",
            "                                1152)                                                             \n",
            "                                                                                                  \n",
            " block6b_expand_bn (BatchNormal  (None, None, None,   4608       ['block6b_expand_conv[0][0]']    \n",
            " ization)                       1152)                                                             \n",
            "                                                                                                  \n",
            " block6b_expand_activation (Act  (None, None, None,   0          ['block6b_expand_bn[0][0]']      \n",
            " ivation)                       1152)                                                             \n",
            "                                                                                                  \n",
            " block6b_dwconv (DepthwiseConv2  (None, None, None,   28800      ['block6b_expand_activation[0][0]\n",
            " D)                             1152)                            ']                               \n",
            "                                                                                                  \n",
            " block6b_bn (BatchNormalization  (None, None, None,   4608       ['block6b_dwconv[0][0]']         \n",
            " )                              1152)                                                             \n",
            "                                                                                                  \n",
            " block6b_activation (Activation  (None, None, None,   0          ['block6b_bn[0][0]']             \n",
            " )                              1152)                                                             \n",
            "                                                                                                  \n",
            " block6b_se_squeeze (GlobalAver  (None, 1152)        0           ['block6b_activation[0][0]']     \n",
            " agePooling2D)                                                                                    \n",
            "                                                                                                  \n",
            " block6b_se_reshape (Reshape)   (None, 1, 1, 1152)   0           ['block6b_se_squeeze[0][0]']     \n",
            "                                                                                                  \n",
            " block6b_se_reduce (Conv2D)     (None, 1, 1, 48)     55344       ['block6b_se_reshape[0][0]']     \n",
            "                                                                                                  \n",
            " block6b_se_expand (Conv2D)     (None, 1, 1, 1152)   56448       ['block6b_se_reduce[0][0]']      \n",
            "                                                                                                  \n",
            " block6b_se_excite (Multiply)   (None, None, None,   0           ['block6b_activation[0][0]',     \n",
            "                                1152)                             'block6b_se_expand[0][0]']      \n",
            "                                                                                                  \n",
            " block6b_project_conv (Conv2D)  (None, None, None,   221184      ['block6b_se_excite[0][0]']      \n",
            "                                192)                                                              \n",
            "                                                                                                  \n",
            " block6b_project_bn (BatchNorma  (None, None, None,   768        ['block6b_project_conv[0][0]']   \n",
            " lization)                      192)                                                              \n",
            "                                                                                                  \n",
            " block6b_drop (Dropout)         (None, None, None,   0           ['block6b_project_bn[0][0]']     \n",
            "                                192)                                                              \n",
            "                                                                                                  \n",
            " block6b_add (Add)              (None, None, None,   0           ['block6b_drop[0][0]',           \n",
            "                                192)                              'block6a_project_bn[0][0]']     \n",
            "                                                                                                  \n",
            " block6c_expand_conv (Conv2D)   (None, None, None,   221184      ['block6b_add[0][0]']            \n",
            "                                1152)                                                             \n",
            "                                                                                                  \n",
            " block6c_expand_bn (BatchNormal  (None, None, None,   4608       ['block6c_expand_conv[0][0]']    \n",
            " ization)                       1152)                                                             \n",
            "                                                                                                  \n",
            " block6c_expand_activation (Act  (None, None, None,   0          ['block6c_expand_bn[0][0]']      \n",
            " ivation)                       1152)                                                             \n",
            "                                                                                                  \n",
            " block6c_dwconv (DepthwiseConv2  (None, None, None,   28800      ['block6c_expand_activation[0][0]\n",
            " D)                             1152)                            ']                               \n",
            "                                                                                                  \n",
            " block6c_bn (BatchNormalization  (None, None, None,   4608       ['block6c_dwconv[0][0]']         \n",
            " )                              1152)                                                             \n",
            "                                                                                                  \n",
            " block6c_activation (Activation  (None, None, None,   0          ['block6c_bn[0][0]']             \n",
            " )                              1152)                                                             \n",
            "                                                                                                  \n",
            " block6c_se_squeeze (GlobalAver  (None, 1152)        0           ['block6c_activation[0][0]']     \n",
            " agePooling2D)                                                                                    \n",
            "                                                                                                  \n",
            " block6c_se_reshape (Reshape)   (None, 1, 1, 1152)   0           ['block6c_se_squeeze[0][0]']     \n",
            "                                                                                                  \n",
            " block6c_se_reduce (Conv2D)     (None, 1, 1, 48)     55344       ['block6c_se_reshape[0][0]']     \n",
            "                                                                                                  \n",
            " block6c_se_expand (Conv2D)     (None, 1, 1, 1152)   56448       ['block6c_se_reduce[0][0]']      \n",
            "                                                                                                  \n",
            " block6c_se_excite (Multiply)   (None, None, None,   0           ['block6c_activation[0][0]',     \n",
            "                                1152)                             'block6c_se_expand[0][0]']      \n",
            "                                                                                                  \n",
            " block6c_project_conv (Conv2D)  (None, None, None,   221184      ['block6c_se_excite[0][0]']      \n",
            "                                192)                                                              \n",
            "                                                                                                  \n",
            " block6c_project_bn (BatchNorma  (None, None, None,   768        ['block6c_project_conv[0][0]']   \n",
            " lization)                      192)                                                              \n",
            "                                                                                                  \n",
            " block6c_drop (Dropout)         (None, None, None,   0           ['block6c_project_bn[0][0]']     \n",
            "                                192)                                                              \n",
            "                                                                                                  \n",
            " block6c_add (Add)              (None, None, None,   0           ['block6c_drop[0][0]',           \n",
            "                                192)                              'block6b_add[0][0]']            \n",
            "                                                                                                  \n",
            " block6d_expand_conv (Conv2D)   (None, None, None,   221184      ['block6c_add[0][0]']            \n",
            "                                1152)                                                             \n",
            "                                                                                                  \n",
            " block6d_expand_bn (BatchNormal  (None, None, None,   4608       ['block6d_expand_conv[0][0]']    \n",
            " ization)                       1152)                                                             \n",
            "                                                                                                  \n",
            " block6d_expand_activation (Act  (None, None, None,   0          ['block6d_expand_bn[0][0]']      \n",
            " ivation)                       1152)                                                             \n",
            "                                                                                                  \n",
            " block6d_dwconv (DepthwiseConv2  (None, None, None,   28800      ['block6d_expand_activation[0][0]\n",
            " D)                             1152)                            ']                               \n",
            "                                                                                                  \n",
            " block6d_bn (BatchNormalization  (None, None, None,   4608       ['block6d_dwconv[0][0]']         \n",
            " )                              1152)                                                             \n",
            "                                                                                                  \n",
            " block6d_activation (Activation  (None, None, None,   0          ['block6d_bn[0][0]']             \n",
            " )                              1152)                                                             \n",
            "                                                                                                  \n",
            " block6d_se_squeeze (GlobalAver  (None, 1152)        0           ['block6d_activation[0][0]']     \n",
            " agePooling2D)                                                                                    \n",
            "                                                                                                  \n",
            " block6d_se_reshape (Reshape)   (None, 1, 1, 1152)   0           ['block6d_se_squeeze[0][0]']     \n",
            "                                                                                                  \n",
            " block6d_se_reduce (Conv2D)     (None, 1, 1, 48)     55344       ['block6d_se_reshape[0][0]']     \n",
            "                                                                                                  \n",
            " block6d_se_expand (Conv2D)     (None, 1, 1, 1152)   56448       ['block6d_se_reduce[0][0]']      \n",
            "                                                                                                  \n",
            " block6d_se_excite (Multiply)   (None, None, None,   0           ['block6d_activation[0][0]',     \n",
            "                                1152)                             'block6d_se_expand[0][0]']      \n",
            "                                                                                                  \n",
            " block6d_project_conv (Conv2D)  (None, None, None,   221184      ['block6d_se_excite[0][0]']      \n",
            "                                192)                                                              \n",
            "                                                                                                  \n",
            " block6d_project_bn (BatchNorma  (None, None, None,   768        ['block6d_project_conv[0][0]']   \n",
            " lization)                      192)                                                              \n",
            "                                                                                                  \n",
            " block6d_drop (Dropout)         (None, None, None,   0           ['block6d_project_bn[0][0]']     \n",
            "                                192)                                                              \n",
            "                                                                                                  \n",
            " block6d_add (Add)              (None, None, None,   0           ['block6d_drop[0][0]',           \n",
            "                                192)                              'block6c_add[0][0]']            \n",
            "                                                                                                  \n",
            " block7a_expand_conv (Conv2D)   (None, None, None,   221184      ['block6d_add[0][0]']            \n",
            "                                1152)                                                             \n",
            "                                                                                                  \n",
            " block7a_expand_bn (BatchNormal  (None, None, None,   4608       ['block7a_expand_conv[0][0]']    \n",
            " ization)                       1152)                                                             \n",
            "                                                                                                  \n",
            " block7a_expand_activation (Act  (None, None, None,   0          ['block7a_expand_bn[0][0]']      \n",
            " ivation)                       1152)                                                             \n",
            "                                                                                                  \n",
            " block7a_dwconv (DepthwiseConv2  (None, None, None,   10368      ['block7a_expand_activation[0][0]\n",
            " D)                             1152)                            ']                               \n",
            "                                                                                                  \n",
            " block7a_bn (BatchNormalization  (None, None, None,   4608       ['block7a_dwconv[0][0]']         \n",
            " )                              1152)                                                             \n",
            "                                                                                                  \n",
            " block7a_activation (Activation  (None, None, None,   0          ['block7a_bn[0][0]']             \n",
            " )                              1152)                                                             \n",
            "                                                                                                  \n",
            " block7a_se_squeeze (GlobalAver  (None, 1152)        0           ['block7a_activation[0][0]']     \n",
            " agePooling2D)                                                                                    \n",
            "                                                                                                  \n",
            " block7a_se_reshape (Reshape)   (None, 1, 1, 1152)   0           ['block7a_se_squeeze[0][0]']     \n",
            "                                                                                                  \n",
            " block7a_se_reduce (Conv2D)     (None, 1, 1, 48)     55344       ['block7a_se_reshape[0][0]']     \n",
            "                                                                                                  \n",
            " block7a_se_expand (Conv2D)     (None, 1, 1, 1152)   56448       ['block7a_se_reduce[0][0]']      \n",
            "                                                                                                  \n",
            " block7a_se_excite (Multiply)   (None, None, None,   0           ['block7a_activation[0][0]',     \n",
            "                                1152)                             'block7a_se_expand[0][0]']      \n",
            "                                                                                                  \n",
            " block7a_project_conv (Conv2D)  (None, None, None,   368640      ['block7a_se_excite[0][0]']      \n",
            "                                320)                                                              \n",
            "                                                                                                  \n",
            " block7a_project_bn (BatchNorma  (None, None, None,   1280       ['block7a_project_conv[0][0]']   \n",
            " lization)                      320)                                                              \n",
            "                                                                                                  \n",
            " top_conv (Conv2D)              (None, None, None,   409600      ['block7a_project_bn[0][0]']     \n",
            "                                1280)                                                             \n",
            "                                                                                                  \n",
            " top_bn (BatchNormalization)    (None, None, None,   5120        ['top_conv[0][0]']               \n",
            "                                1280)                                                             \n",
            "                                                                                                  \n",
            " top_activation (Activation)    (None, None, None,   0           ['top_bn[0][0]']                 \n",
            "                                1280)                                                             \n",
            "                                                                                                  \n",
            "==================================================================================================\n",
            "Total params: 4,049,571\n",
            "Trainable params: 0\n",
            "Non-trainable params: 4,049,571\n",
            "__________________________________________________________________________________________________\n"
          ]
        }
      ]
    },
    {
      "cell_type": "code",
      "source": [
        "#how about a summary of our whole model?\n",
        "model_0.summary()"
      ],
      "metadata": {
        "colab": {
          "base_uri": "https://localhost:8080/"
        },
        "id": "M3YGCXvPRjVL",
        "outputId": "fc35465f-f641-4b40-896b-3cc40dda8cd2"
      },
      "execution_count": 15,
      "outputs": [
        {
          "output_type": "stream",
          "name": "stdout",
          "text": [
            "Model: \"model\"\n",
            "_________________________________________________________________\n",
            " Layer (type)                Output Shape              Param #   \n",
            "=================================================================\n",
            " input_layer (InputLayer)    [(None, 224, 224, 3)]     0         \n",
            "                                                                 \n",
            " efficientnetb0 (Functional)  (None, None, None, 1280)  4049571  \n",
            "                                                                 \n",
            " global_average_pooling_laye  (None, 1280)             0         \n",
            " r (GlobalAveragePooling2D)                                      \n",
            "                                                                 \n",
            " output_layer (Dense)        (None, 10)                12810     \n",
            "                                                                 \n",
            "=================================================================\n",
            "Total params: 4,062,381\n",
            "Trainable params: 12,810\n",
            "Non-trainable params: 4,049,571\n",
            "_________________________________________________________________\n"
          ]
        }
      ]
    },
    {
      "cell_type": "code",
      "source": [
        "#check out the loss curves of the model\n",
        "plot_loss_curves(history_10_percent)"
      ],
      "metadata": {
        "colab": {
          "base_uri": "https://localhost:8080/",
          "height": 573
        },
        "id": "Oopx-m82RxGF",
        "outputId": "eb95f850-b52f-4df8-9ebb-888676732ccc"
      },
      "execution_count": 16,
      "outputs": [
        {
          "output_type": "display_data",
          "data": {
            "image/png": "[encoded data removed]",
            "text/plain": [
              "<Figure size 432x288 with 1 Axes>"
            ]
          },
          "metadata": {
            "needs_background": "light"
          }
        },
        {
          "output_type": "display_data",
          "data": {
            "image/png": "[encoded data removed]",
            "text/plain": [
              "<Figure size 432x288 with 1 Axes>"
            ]
          },
          "metadata": {
            "needs_background": "light"
          }
        }
      ]
    },
    {
      "cell_type": "markdown",
      "source": [
        "## Getting a feature vector from a trained model\n",
        "\n",
        "Let's demonstrate the Global Average Pooling 2D layer...\n",
        "\n",
        "We have a tensor after our model goes through 'base model' of shape(None,7,7,1280). \n",
        "\n",
        "But then when it passes through GlobalAveragePooling2D, it turns into (None,1280). \n",
        "\n",
        "Let's use a similar shaped tensor of (1,4,4,3) and then pass it to GlobalAveragePooling2D."
      ],
      "metadata": {
        "id": "p6MLpOgASGqA"
      }
    },
    {
      "cell_type": "code",
      "source": [
        "# Define the input shape\n",
        "input_shape = (1,4,4,3)\n",
        "\n",
        "#create a random tensor\n",
        "tf.random.set_seed(42)\n",
        "input_tensor = tf.random.normal(input_shape)\n",
        "print(f\"Random input tensor:\\n {input_tensor}\")\n",
        "\n",
        "#pass the random tensor through a global average pooling 2D\n",
        "global_Average_pooled_tensor=tf.keras.layers.GlobalAveragePooling2D()(input_tensor)\n",
        "print(f\"2D global average pooled random tensor:\\n {global_Average_pooled_tensor}\")\n",
        "\n",
        "#check the shape of the different tensors\n",
        "print(f\"\\nShape of input tensor: {input_tensor.shape}\")\n",
        "print(f\"Shape of global average pooled 2D: {global_Average_pooled_tensor.shape}\")"
      ],
      "metadata": {
        "colab": {
          "base_uri": "https://localhost:8080/"
        },
        "id": "xDwgmC0fSa6X",
        "outputId": "9d56edf6-5873-465d-f0ed-8c12f417a78d"
      },
      "execution_count": 17,
      "outputs": [
        {
          "output_type": "stream",
          "name": "stdout",
          "text": [
            "Random input tensor:\n",
            " [[[[ 0.3274685  -0.8426258   0.3194337 ]\n",
            "   [-1.4075519  -2.3880599  -1.0392479 ]\n",
            "   [-0.5573232   0.539707    1.6994323 ]\n",
            "   [ 0.28893656 -1.5066116  -0.2645474 ]]\n",
            "\n",
            "  [[-0.59722406 -1.9171132  -0.62044144]\n",
            "   [ 0.8504023  -0.40604794 -3.0258412 ]\n",
            "   [ 0.9058464   0.29855987 -0.22561555]\n",
            "   [-0.7616443  -1.8917141  -0.93847126]]\n",
            "\n",
            "  [[ 0.77852213 -0.47338897  0.97772694]\n",
            "   [ 0.24694404  0.20573747 -0.5256233 ]\n",
            "   [ 0.32410017  0.02545409 -0.10638497]\n",
            "   [-0.6369475   1.1603122   0.2507359 ]]\n",
            "\n",
            "  [[-0.41728503  0.4012578  -1.4145443 ]\n",
            "   [-0.5931857  -1.6617213   0.33567193]\n",
            "   [ 0.10815629  0.23479682 -0.56668764]\n",
            "   [-0.35819843  0.88698614  0.52744764]]]]\n",
            "2D global average pooled random tensor:\n",
            " [[-0.09368646 -0.45840448 -0.2885598 ]]\n",
            "\n",
            "Shape of input tensor: (1, 4, 4, 3)\n",
            "Shape of global average pooled 2D: (1, 3)\n"
          ]
        }
      ]
    },
    {
      "cell_type": "code",
      "source": [
        "#Let's replicate the GlobalAveragePool2D layer\n",
        "tf.reduce_mean(input_tensor, axis=[1,2])"
      ],
      "metadata": {
        "colab": {
          "base_uri": "https://localhost:8080/"
        },
        "id": "BL0XDHvkT1KI",
        "outputId": "6d4ceb52-e5f4-466d-b327-87fcee07b3cf"
      },
      "execution_count": 18,
      "outputs": [
        {
          "output_type": "execute_result",
          "data": {
            "text/plain": [
              "<tf.Tensor: shape=(1, 3), dtype=float32, numpy=array([[-0.09368646, -0.45840448, -0.2885598 ]], dtype=float32)>"
            ]
          },
          "metadata": {},
          "execution_count": 18
        }
      ]
    },
    {
      "cell_type": "markdown",
      "source": [
        "## Running a series of transfer learning experiments\n",
        " we have seen the incredible resuts transfer learning can get with only 10% of the training data, but how does it go with 1% of the training data... how about we set up a bunch of experiments to find out:\n",
        "\n",
        " 1. 'model_1' - use feature extraction transfer learning with 1% of the training data with data augmentation\n",
        " 2. 'model_2' - use feature extraction transfer learning with 10% of the training with data augmentation.\n",
        " 3. 'model 3' - use fine-tuning transfer learning oon 10% of the training data with data augmentation.\n",
        " 4. 'model 4' - use fine-tuning transfer learning on 100% of the training data with data augmentation.\n",
        "\n",
        " > **Note** throoughout all experiments the same test dataset will be used too evaluate ur model. this ensures consistency acrooss evaluation metrics."
      ],
      "metadata": {
        "id": "nPgBrX5BVcx2"
      }
    },
    {
      "cell_type": "markdown",
      "source": [
        "## Getting preprocessing data"
      ],
      "metadata": {
        "id": "_Nb7n1WSZD2V"
      }
    },
    {
      "cell_type": "code",
      "source": [
        "#Download and unzip data -preprocess from Food101\n",
        "!wget https://storage.googleapis.com/ztm_tf_course/food_vision/10_food_classes_1_percent.zip\n",
        "\n",
        "unzip_data(\"10_food_classes_1_percent.zip\")"
      ],
      "metadata": {
        "colab": {
          "base_uri": "https://localhost:8080/"
        },
        "id": "dagRJ2hMYAtX",
        "outputId": "0d175ec4-d428-4cb3-944c-398c6ce8f77c"
      },
      "execution_count": 19,
      "outputs": [
        {
          "output_type": "stream",
          "name": "stdout",
          "text": [
            "--2022-02-23 03:06:33--  https://storage.googleapis.com/ztm_tf_course/food_vision/10_food_classes_1_percent.zip\n",
            "Resolving storage.googleapis.com (storage.googleapis.com)... 172.253.63.128, 142.250.31.128, 142.251.111.128, ...\n",
            "Connecting to storage.googleapis.com (storage.googleapis.com)|172.253.63.128|:443... connected.\n",
            "HTTP request sent, awaiting response... 200 OK\n",
            "Length: 133612354 (127M) [application/zip]\n",
            "Saving to: ‘10_food_classes_1_percent.zip’\n",
            "\n",
            "10_food_classes_1_p 100%[===================>] 127.42M  61.1MB/s    in 2.1s    \n",
            "\n",
            "2022-02-23 03:06:35 (61.1 MB/s) - ‘10_food_classes_1_percent.zip’ saved [133612354/133612354]\n",
            "\n"
          ]
        }
      ]
    },
    {
      "cell_type": "code",
      "source": [
        "#create training and test dir\n",
        "train_dir_1_percent= \"10_food_classes_1_percent/train\"\n",
        "test_dir=\"10_food_classes_1_percent/test\""
      ],
      "metadata": {
        "id": "679d_nXmYhUi"
      },
      "execution_count": 20,
      "outputs": []
    },
    {
      "cell_type": "code",
      "source": [
        "#how many images we working with\n",
        "walk_through_dir(\"10_food_classes_1_percent\")"
      ],
      "metadata": {
        "colab": {
          "base_uri": "https://localhost:8080/"
        },
        "id": "L_V3g6D5YukY",
        "outputId": "f4779ad4-8213-4d67-d55f-16befe37dc24"
      },
      "execution_count": 21,
      "outputs": [
        {
          "output_type": "stream",
          "name": "stdout",
          "text": [
            "There are 2 directories and 0 images in '10_food_classes_1_percent'.\n",
            "There are 10 directories and 0 images in '10_food_classes_1_percent/train'.\n",
            "There are 0 directories and 7 images in '10_food_classes_1_percent/train/chicken_wings'.\n",
            "There are 0 directories and 7 images in '10_food_classes_1_percent/train/hamburger'.\n",
            "There are 0 directories and 7 images in '10_food_classes_1_percent/train/ice_cream'.\n",
            "There are 0 directories and 7 images in '10_food_classes_1_percent/train/pizza'.\n",
            "There are 0 directories and 7 images in '10_food_classes_1_percent/train/ramen'.\n",
            "There are 0 directories and 7 images in '10_food_classes_1_percent/train/grilled_salmon'.\n",
            "There are 0 directories and 7 images in '10_food_classes_1_percent/train/sushi'.\n",
            "There are 0 directories and 7 images in '10_food_classes_1_percent/train/fried_rice'.\n",
            "There are 0 directories and 7 images in '10_food_classes_1_percent/train/steak'.\n",
            "There are 0 directories and 7 images in '10_food_classes_1_percent/train/chicken_curry'.\n",
            "There are 10 directories and 0 images in '10_food_classes_1_percent/test'.\n",
            "There are 0 directories and 250 images in '10_food_classes_1_percent/test/chicken_wings'.\n",
            "There are 0 directories and 250 images in '10_food_classes_1_percent/test/hamburger'.\n",
            "There are 0 directories and 250 images in '10_food_classes_1_percent/test/ice_cream'.\n",
            "There are 0 directories and 250 images in '10_food_classes_1_percent/test/pizza'.\n",
            "There are 0 directories and 250 images in '10_food_classes_1_percent/test/ramen'.\n",
            "There are 0 directories and 250 images in '10_food_classes_1_percent/test/grilled_salmon'.\n",
            "There are 0 directories and 250 images in '10_food_classes_1_percent/test/sushi'.\n",
            "There are 0 directories and 250 images in '10_food_classes_1_percent/test/fried_rice'.\n",
            "There are 0 directories and 250 images in '10_food_classes_1_percent/test/steak'.\n",
            "There are 0 directories and 250 images in '10_food_classes_1_percent/test/chicken_curry'.\n"
          ]
        }
      ]
    },
    {
      "cell_type": "code",
      "source": [
        "#Setup data loaders\n",
        "IMG_SIZE=(224,224)\n",
        "\n",
        "train_data_1_percent= tf.keras.preprocessing.image_dataset_from_directory(train_dir_1_percent,\n",
        "                                                                         label_mode=\"categorical\",\n",
        "                                                                         image_size=IMG_SIZE,\n",
        "                                                                         batch_size=32) \n",
        "\n",
        "test_data= tf.keras.preprocessing.image_dataset_from_directory(test_dir,\n",
        "                                                               label_mode=\"categorical\",\n",
        "                                                               image_size=IMG_SIZE)\n",
        "                                                                         "
      ],
      "metadata": {
        "colab": {
          "base_uri": "https://localhost:8080/"
        },
        "id": "yq9mmaynY1a9",
        "outputId": "e95d7846-1638-4bfa-8825-257a8763a7bf"
      },
      "execution_count": 22,
      "outputs": [
        {
          "output_type": "stream",
          "name": "stdout",
          "text": [
            "Found 70 files belonging to 10 classes.\n",
            "Found 2500 files belonging to 10 classes.\n"
          ]
        }
      ]
    },
    {
      "cell_type": "markdown",
      "source": [
        "## Adding data augmentation right into our model\n",
        "\n",
        "To add data augmentation right into our models, we can use the layers inside:\n",
        "\n",
        "* tf.keras.layers.experimental.preprocessing()\n",
        "\n",
        ">refer: https://www.tensorflow.org/tutorials/images/data_augmentation"
      ],
      "metadata": {
        "id": "VAWIS5qOZuP1"
      }
    },
    {
      "cell_type": "code",
      "source": [
        "import tensorflow as tf\n",
        "from tensorflow import keras\n",
        "from tensorflow.keras import layers\n",
        "from tensorflow.python.keras import Sequential\n",
        "from tensorflow.python.keras.layers import Dense\n",
        "\n",
        "#from tensorflow.keras.layers.experimental import preprocessing\n",
        "tf.random.set_seed(42)\n",
        "\n",
        "#create data augmentation stage with horizontal flipping, rotations, zooms, etc\n",
        "data_augmentation = tf.keras.Sequential([\n",
        "                                      layers.RandomFlip(\"horizontal\"),\n",
        "                                      layers.RandomRotation(0.5),\n",
        "                                      layers.RandomZoom(0.5),\n",
        "                                      layers.RandomHeight(0.5),\n",
        "                                      layers.RandomWidth(0.5)\n",
        "                                      #layers.Rescaling(1./255) # keep for model like ResNet50V2\n",
        "], name=\"data_augmentation\")"
      ],
      "metadata": {
        "id": "Qxm-tqU6asrm"
      },
      "execution_count": 23,
      "outputs": []
    },
    {
      "cell_type": "markdown",
      "source": [
        "### Visualize our data augmentation layer (and see what happers to our data)"
      ],
      "metadata": {
        "id": "zNvlWTh5bzwo"
      }
    },
    {
      "cell_type": "code",
      "source": [
        "#View a random image and compare it to its augmented version\n",
        "import matplotlib.pyplot as plt\n",
        "import matplotlib.image as mpimg\n",
        "import os \n",
        "import random\n",
        "\n",
        "target_class=random.choice(train_data_1_percent.class_names)\n",
        "target_dir=\"10_food_classes_1_percent/train/\" + target_class\n",
        "random_image = random.choice(os.listdir(target_dir))\n",
        "random_image_path = target_dir + \"/\" + random_image\n",
        "\n",
        "#read and plot in the random image\n",
        "img=mpimg.imread(random_image_path)\n",
        "plt.imshow(img)\n",
        "plt.title(f\"Original random image from class: {target_class}\")\n",
        "plt.axis(False)\n",
        "\n",
        "#plot our augmented random image\n",
        "augmented_img=data_augmentation(img)/255.\n",
        "\n",
        "plt.figure()\n",
        "plt.imshow(augmented_img)\n",
        "plt.title(f\"Augmented random image from class: {target_class}\")\n",
        "plt.axis(False)\n",
        "\n",
        "print(img==augmented_img)"
      ],
      "metadata": {
        "colab": {
          "base_uri": "https://localhost:8080/",
          "height": 1000
        },
        "id": "0i3PYj8Rdffw",
        "outputId": "b7c27a86-d27a-4295-8f7b-49455e7f38f3"
      },
      "execution_count": 24,
      "outputs": [
        {
          "output_type": "stream",
          "name": "stdout",
          "text": [
            "tf.Tensor(\n",
            "[[[False False False]\n",
            "  [False False False]\n",
            "  [False False False]\n",
            "  ...\n",
            "  [False False False]\n",
            "  [False False False]\n",
            "  [False False  True]]\n",
            "\n",
            " [[False False False]\n",
            "  [False False False]\n",
            "  [False False False]\n",
            "  ...\n",
            "  [False False False]\n",
            "  [False False False]\n",
            "  [False False  True]]\n",
            "\n",
            " [[False False False]\n",
            "  [False False False]\n",
            "  [False False False]\n",
            "  ...\n",
            "  [False False False]\n",
            "  [False False  True]\n",
            "  [False False  True]]\n",
            "\n",
            " ...\n",
            "\n",
            " [[False False False]\n",
            "  [False False False]\n",
            "  [False False False]\n",
            "  ...\n",
            "  [False False False]\n",
            "  [False False False]\n",
            "  [False False False]]\n",
            "\n",
            " [[False False False]\n",
            "  [False False False]\n",
            "  [False False False]\n",
            "  ...\n",
            "  [False False False]\n",
            "  [False False False]\n",
            "  [False False False]]\n",
            "\n",
            " [[False False False]\n",
            "  [False False False]\n",
            "  [False False False]\n",
            "  ...\n",
            "  [False False False]\n",
            "  [False False False]\n",
            "  [False False False]]], shape=(247, 512, 3), dtype=bool)\n"
          ]
        },
        {
          "output_type": "display_data",
          "data": {
            "image/png": "[encoded data removed]",
            "text/plain": [
              "<Figure size 432x288 with 1 Axes>"
            ]
          },
          "metadata": {
            "needs_background": "light"
          }
        },
        {
          "output_type": "display_data",
          "data": {
            "image/png": "[encoded data removed]",
            "text/plain": [
              "<Figure size 432x288 with 1 Axes>"
            ]
          },
          "metadata": {
            "needs_background": "light"
          }
        }
      ]
    },
    {
      "cell_type": "markdown",
      "source": [
        "## Model 1: Feature extraction transfer learning on 1% of the data with data augmentation"
      ],
      "metadata": {
        "id": "a4zD9Xeeq5Qr"
      }
    },
    {
      "cell_type": "code",
      "source": [
        "#Setup input_shape and base model, freezing the base model layers\n",
        "input_shape= (224,224,3)\n",
        "base_model=tf.keras.applications.EfficientNetB0(include_top=False)\n",
        "base_model.trainable= False\n",
        "\n",
        "#create input layer\n",
        "inputs = layers.Input(shape=input_shape, name=\"input_layer\")\n",
        "\n",
        "#add in data augmentation Sequential model as a layer\n",
        "x = data_augmentation(inputs)\n",
        "\n",
        "#give base_model the inputs (after augmentation) and dont train it\n",
        "x=base_model(x, training=False)\n",
        "\n",
        "#pool output features of the base model\n",
        "x=layers.GlobalAveragePooling2D(name=\"global_average_pooling_layer\")(x)\n",
        "\n",
        "#put a dense layer on as the output\n",
        "outputs = layers.Dense(10, activation=\"softmax\", name=\"output_layer\") (x)\n",
        "\n",
        "#make a model using the inputs and outputs\n",
        "model_1 = keras.Model(inputs, outputs)\n",
        "\n",
        "#compile the model\n",
        "model_1.compile(loss=\"categorical_crossentropy\",\n",
        "                optimizer=tf.keras.optimizers.Adam(),\n",
        "                metrics=[\"accuracy\"])\n",
        "\n",
        "#fit the model\n",
        "history_1_percent = model_1.fit(train_data_1_percent,\n",
        "                                epochs=5,\n",
        "                                steps_per_epoch=len(train_data_1_percent),\n",
        "                                validation_data=test_data,\n",
        "                                validation_steps=int(0.25*len(test_data)),\n",
        "                                #track model training logs\n",
        "                                callbacks=[create_tensorboard_callback(dir_name=\"transfer_learning\", experiment_name=\"1_percent_data_aug\")])"
      ],
      "metadata": {
        "colab": {
          "base_uri": "https://localhost:8080/"
        },
        "id": "W_MZV4HggB52",
        "outputId": "83e1718f-1193-42cb-e464-6f7ef2069f44"
      },
      "execution_count": 25,
      "outputs": [
        {
          "output_type": "stream",
          "name": "stdout",
          "text": [
            "WARNING:tensorflow:Model was constructed with shape (247, 512, 3) for input KerasTensor(type_spec=TensorSpec(shape=(247, 512, 3), dtype=tf.uint8, name='random_flip_input'), name='random_flip_input', description=\"created by layer 'random_flip_input'\"), but it was called on an input with incompatible shape (None, 224, 224, 3).\n",
            "Saving TensorBoard log files to: transfer_learning/1_percent_data_aug/20220223-030639\n",
            "Epoch 1/5\n",
            "WARNING:tensorflow:Model was constructed with shape (247, 512, 3) for input KerasTensor(type_spec=TensorSpec(shape=(247, 512, 3), dtype=tf.uint8, name='random_flip_input'), name='random_flip_input', description=\"created by layer 'random_flip_input'\"), but it was called on an input with incompatible shape (None, 224, 224, 3).\n",
            "WARNING:tensorflow:Model was constructed with shape (247, 512, 3) for input KerasTensor(type_spec=TensorSpec(shape=(247, 512, 3), dtype=tf.uint8, name='random_flip_input'), name='random_flip_input', description=\"created by layer 'random_flip_input'\"), but it was called on an input with incompatible shape (None, 224, 224, 3).\n",
            "3/3 [==============================] - ETA: 0s - loss: 2.4920 - accuracy: 0.0000e+00WARNING:tensorflow:Model was constructed with shape (247, 512, 3) for input KerasTensor(type_spec=TensorSpec(shape=(247, 512, 3), dtype=tf.uint8, name='random_flip_input'), name='random_flip_input', description=\"created by layer 'random_flip_input'\"), but it was called on an input with incompatible shape (None, 224, 224, 3).\n",
            "3/3 [==============================] - 12s 2s/step - loss: 2.4920 - accuracy: 0.0000e+00 - val_loss: 2.4403 - val_accuracy: 0.0773\n",
            "Epoch 2/5\n",
            "3/3 [==============================] - 4s 2s/step - loss: 2.2868 - accuracy: 0.1000 - val_loss: 2.3473 - val_accuracy: 0.1299\n",
            "Epoch 3/5\n",
            "3/3 [==============================] - 4s 1s/step - loss: 2.1542 - accuracy: 0.1714 - val_loss: 2.2636 - val_accuracy: 0.1727\n",
            "Epoch 4/5\n",
            "3/3 [==============================] - 4s 2s/step - loss: 2.0299 - accuracy: 0.3143 - val_loss: 2.2081 - val_accuracy: 0.2138\n",
            "Epoch 5/5\n",
            "3/3 [==============================] - 4s 1s/step - loss: 1.9415 - accuracy: 0.3000 - val_loss: 2.1275 - val_accuracy: 0.2714\n"
          ]
        }
      ]
    },
    {
      "cell_type": "code",
      "source": [
        "model_1.summary()"
      ],
      "metadata": {
        "colab": {
          "base_uri": "https://localhost:8080/"
        },
        "id": "NppMiA-zgNxs",
        "outputId": "8bfb2991-c1cc-4eb8-eb05-466b87fdc2dc"
      },
      "execution_count": 26,
      "outputs": [
        {
          "output_type": "stream",
          "name": "stdout",
          "text": [
            "Model: \"model_1\"\n",
            "_________________________________________________________________\n",
            " Layer (type)                Output Shape              Param #   \n",
            "=================================================================\n",
            " input_layer (InputLayer)    [(None, 224, 224, 3)]     0         \n",
            "                                                                 \n",
            " data_augmentation (Sequenti  (247, 512, 3)            0         \n",
            " al)                                                             \n",
            "                                                                 \n",
            " efficientnetb0 (Functional)  (None, None, None, 1280)  4049571  \n",
            "                                                                 \n",
            " global_average_pooling_laye  (None, 1280)             0         \n",
            " r (GlobalAveragePooling2D)                                      \n",
            "                                                                 \n",
            " output_layer (Dense)        (None, 10)                12810     \n",
            "                                                                 \n",
            "=================================================================\n",
            "Total params: 4,062,381\n",
            "Trainable params: 12,810\n",
            "Non-trainable params: 4,049,571\n",
            "_________________________________________________________________\n"
          ]
        }
      ]
    },
    {
      "cell_type": "code",
      "source": [
        "#Evaluate on the full test dataset\n",
        "results_1_percent_data_aug=model_1.evaluate(test_data)\n",
        "results_1_percent_data_aug"
      ],
      "metadata": {
        "colab": {
          "base_uri": "https://localhost:8080/"
        },
        "id": "a3PlGfs8gKTh",
        "outputId": "6786eee0-6380-47aa-820a-a4871467065d"
      },
      "execution_count": 27,
      "outputs": [
        {
          "output_type": "stream",
          "name": "stdout",
          "text": [
            "79/79 [==============================] - 6s 71ms/step - loss: 2.1237 - accuracy: 0.2488\n"
          ]
        },
        {
          "output_type": "execute_result",
          "data": {
            "text/plain": [
              "[2.1237404346466064, 0.24879999458789825]"
            ]
          },
          "metadata": {},
          "execution_count": 27
        }
      ]
    },
    {
      "cell_type": "code",
      "source": [
        "#plot loss curve of the model\n",
        "plot_loss_curves(history_1_percent)"
      ],
      "metadata": {
        "colab": {
          "base_uri": "https://localhost:8080/",
          "height": 573
        },
        "id": "9HNilj9pjp0J",
        "outputId": "df629798-7a30-48b7-c78f-6bd2ec0d84ad"
      },
      "execution_count": 28,
      "outputs": [
        {
          "output_type": "display_data",
          "data": {
            "image/png": "[encoded data removed]",
            "text/plain": [
              "<Figure size 432x288 with 1 Axes>"
            ]
          },
          "metadata": {
            "needs_background": "light"
          }
        },
        {
          "output_type": "display_data",
          "data": {
            "image/png": "[encoded data removed]",
            "text/plain": [
              "<Figure size 432x288 with 1 Axes>"
            ]
          },
          "metadata": {
            "needs_background": "light"
          }
        }
      ]
    },
    {
      "cell_type": "markdown",
      "source": [
        "## Model 2: Feature extraction transfer learning model with 10% of data and data augmentation."
      ],
      "metadata": {
        "id": "oM96SPhbkTrs"
      }
    },
    {
      "cell_type": "code",
      "source": [
        "train_dir_10_percent= \"10_food_classes_10_percent/train\"\n",
        "test_dir_10_percent=\"10_food_classes_10_percent/test\""
      ],
      "metadata": {
        "id": "6Bm4jWcAiOHS"
      },
      "execution_count": 29,
      "outputs": []
    },
    {
      "cell_type": "code",
      "source": [
        "walk_through_dir(\"10_food_classes_10_percent\")"
      ],
      "metadata": {
        "colab": {
          "base_uri": "https://localhost:8080/"
        },
        "id": "gPa6zxL7iMk2",
        "outputId": "d18a3c21-e18e-4b0a-ef08-e882e7620da2"
      },
      "execution_count": 30,
      "outputs": [
        {
          "output_type": "stream",
          "name": "stdout",
          "text": [
            "There are 2 directories and 0 images in '10_food_classes_10_percent'.\n",
            "There are 10 directories and 0 images in '10_food_classes_10_percent/train'.\n",
            "There are 0 directories and 75 images in '10_food_classes_10_percent/train/chicken_wings'.\n",
            "There are 0 directories and 75 images in '10_food_classes_10_percent/train/hamburger'.\n",
            "There are 0 directories and 75 images in '10_food_classes_10_percent/train/ice_cream'.\n",
            "There are 0 directories and 75 images in '10_food_classes_10_percent/train/pizza'.\n",
            "There are 0 directories and 75 images in '10_food_classes_10_percent/train/ramen'.\n",
            "There are 0 directories and 75 images in '10_food_classes_10_percent/train/grilled_salmon'.\n",
            "There are 0 directories and 75 images in '10_food_classes_10_percent/train/sushi'.\n",
            "There are 0 directories and 75 images in '10_food_classes_10_percent/train/fried_rice'.\n",
            "There are 0 directories and 75 images in '10_food_classes_10_percent/train/steak'.\n",
            "There are 0 directories and 75 images in '10_food_classes_10_percent/train/chicken_curry'.\n",
            "There are 10 directories and 0 images in '10_food_classes_10_percent/test'.\n",
            "There are 0 directories and 250 images in '10_food_classes_10_percent/test/chicken_wings'.\n",
            "There are 0 directories and 250 images in '10_food_classes_10_percent/test/hamburger'.\n",
            "There are 0 directories and 250 images in '10_food_classes_10_percent/test/ice_cream'.\n",
            "There are 0 directories and 250 images in '10_food_classes_10_percent/test/pizza'.\n",
            "There are 0 directories and 250 images in '10_food_classes_10_percent/test/ramen'.\n",
            "There are 0 directories and 250 images in '10_food_classes_10_percent/test/grilled_salmon'.\n",
            "There are 0 directories and 250 images in '10_food_classes_10_percent/test/sushi'.\n",
            "There are 0 directories and 250 images in '10_food_classes_10_percent/test/fried_rice'.\n",
            "There are 0 directories and 250 images in '10_food_classes_10_percent/test/steak'.\n",
            "There are 0 directories and 250 images in '10_food_classes_10_percent/test/chicken_curry'.\n"
          ]
        }
      ]
    },
    {
      "cell_type": "code",
      "source": [
        "#set data inputs\n",
        "import tensorflow as tf\n",
        "IMG_SIZE=(224,224)\n",
        "train_data_10_percent = tf.keras.preprocessing.image_dataset_from_directory(train_dir,\n",
        "                                                                            label_mode=\"categorical\",\n",
        "                                                                            image_size=IMG_SIZE)\n",
        "\n",
        "test_data=tf.keras.preprocessing.image_dataset_from_directory(test_dir,\n",
        "                                                              label_mode=\"categorical\",\n",
        "                                                              image_size=IMG_SIZE)"
      ],
      "metadata": {
        "colab": {
          "base_uri": "https://localhost:8080/"
        },
        "id": "pZkGbTauYzXH",
        "outputId": "6e14f22b-ed76-48c2-c021-c95b65d4c3a0"
      },
      "execution_count": 31,
      "outputs": [
        {
          "output_type": "stream",
          "name": "stdout",
          "text": [
            "Found 750 files belonging to 10 classes.\n",
            "Found 2500 files belonging to 10 classes.\n"
          ]
        }
      ]
    },
    {
      "cell_type": "code",
      "source": [
        "#create model 2 with data augmentation \n",
        "from tensorflow.keras import layers\n",
        "from tensorflow.keras.models import Sequential\n",
        "\n",
        "#build data augmentation layer\n",
        "data_augmentation = Sequential([\n",
        "                                layers.RandomFlip(\"horizontal\"),\n",
        "                                layers.RandomRotation(0.2),\n",
        "                                layers.RandomHeight(0.2),\n",
        "                                layers.RandomWidth(0.2),\n",
        "                                layers.RandomZoom(0.2)\n",
        "                                #layers.Rescaling(1./255) #if you are using model ResNet50V2\n",
        "], name=\"data_augmentation\")\n",
        "\n",
        "#setup the input shape into our model\n",
        "input_shape = (224,224,3)\n",
        "\n",
        "#create a frozen base model (also called the backbone)\n",
        "base_model = tf.keras.applications.EfficientNetB0(include_top=False)\n",
        "base_model.trainable = False\n",
        "\n",
        "#create the inputs and outputs (including the layers in between)\n",
        "inputs = layers.Input(shape=input_shape, name=\"input_layer\")\n",
        "x=data_augmentation(inputs) #augment our training images (augmentation doesnt occur on test data)\n",
        "x= base_model(x,training= False) #pass augmented images to base model but keep it in inference mode, this also ensures batchnorm layers are not updated\n",
        "# refer https://keras.io/guides/transfer_learning/\n",
        "x=layers.GlobalAveragePooling2D(name=\"global_average_pooling_2D\")(x)\n",
        "outputs= layers.Dense(10,activation=\"softmax\", name=\"output_layer\")(x)\n",
        "\n",
        "\n",
        "model_2 = tf.keras.Model(inputs, outputs)\n",
        "\n",
        "#compile\n",
        "model_2.compile(loss=\"categorical_crossentropy\",\n",
        "                optimizer=tf.keras.optimizers.Adam(),\n",
        "                metrics=[\"accuracy\"])\n"
      ],
      "metadata": {
        "id": "xsXrwOD5ija1"
      },
      "execution_count": 32,
      "outputs": []
    },
    {
      "cell_type": "markdown",
      "source": [
        "### creating a ModelCheckpoint callback\n",
        "\n",
        "The ModelCheckpoint callback intermediately saves our model (the full model or just the weight) "
      ],
      "metadata": {
        "id": "ExyofEPUm2dl"
      }
    },
    {
      "cell_type": "code",
      "source": [
        "#set checkpoint path\n",
        "checkpoint_path= \"ten_percent_model_checkpoint_weights/checkpoint.ckpt\"\n",
        "\n",
        "#create a ModelCheckpoint callback that saves the model's weights only\n",
        "checkpoint_callback= tf.keras.callbacks.ModelCheckpoint(checkpoint_path,\n",
        "                                                        save_weights_only=True,\n",
        "                                                        save_best_only=False,\n",
        "                                                        save_freq=\"epoch\", #save every epoch\n",
        "                                                        verbose=1)"
      ],
      "metadata": {
        "id": "9wB_Iu4yFsQU"
      },
      "execution_count": 33,
      "outputs": []
    },
    {
      "cell_type": "code",
      "source": [
        "### Fit the model_2 passing in the ModelCheckpoint callback\n",
        "initial_epochs = 5\n",
        "history_10_percent_data_aug = model_2.fit(train_data_10_percent,\n",
        "                                          epochs=initial_epochs,\n",
        "                                          validation_data=test_data,\n",
        "                                          validation_steps=int(0.25*len(test_data)),\n",
        "                                          callbacks=[create_tensorboard_callback(dir_name=\"transfer_learning\",\n",
        "                                                                                 experiment_name=\"10_percent_data_aug\"),\n",
        "                                                     checkpoint_callback])\n"
      ],
      "metadata": {
        "colab": {
          "base_uri": "https://localhost:8080/"
        },
        "id": "dZ3fFwnOGcir",
        "outputId": "635071a1-b21d-41ac-f9f6-9295bf2f9f99"
      },
      "execution_count": 34,
      "outputs": [
        {
          "output_type": "stream",
          "name": "stdout",
          "text": [
            "Saving TensorBoard log files to: transfer_learning/10_percent_data_aug/20220223-030725\n",
            "Epoch 1/5\n",
            "24/24 [==============================] - ETA: 0s - loss: 2.0002 - accuracy: 0.3160\n",
            "Epoch 1: saving model to ten_percent_model_checkpoint_weights/checkpoint.ckpt\n",
            "24/24 [==============================] - 18s 503ms/step - loss: 2.0002 - accuracy: 0.3160 - val_loss: 1.4994 - val_accuracy: 0.6365\n",
            "Epoch 2/5\n",
            "24/24 [==============================] - ETA: 0s - loss: 1.3604 - accuracy: 0.6440\n",
            "Epoch 2: saving model to ten_percent_model_checkpoint_weights/checkpoint.ckpt\n",
            "24/24 [==============================] - 11s 421ms/step - loss: 1.3604 - accuracy: 0.6440 - val_loss: 1.0597 - val_accuracy: 0.7566\n",
            "Epoch 3/5\n",
            "24/24 [==============================] - ETA: 0s - loss: 1.0618 - accuracy: 0.7453\n",
            "Epoch 3: saving model to ten_percent_model_checkpoint_weights/checkpoint.ckpt\n",
            "24/24 [==============================] - 11s 439ms/step - loss: 1.0618 - accuracy: 0.7453 - val_loss: 0.8760 - val_accuracy: 0.7878\n",
            "Epoch 4/5\n",
            "24/24 [==============================] - ETA: 0s - loss: 0.9158 - accuracy: 0.7693\n",
            "Epoch 4: saving model to ten_percent_model_checkpoint_weights/checkpoint.ckpt\n",
            "24/24 [==============================] - 9s 342ms/step - loss: 0.9158 - accuracy: 0.7693 - val_loss: 0.7755 - val_accuracy: 0.8010\n",
            "Epoch 5/5\n",
            "24/24 [==============================] - ETA: 0s - loss: 0.7970 - accuracy: 0.8000\n",
            "Epoch 5: saving model to ten_percent_model_checkpoint_weights/checkpoint.ckpt\n",
            "24/24 [==============================] - 9s 364ms/step - loss: 0.7970 - accuracy: 0.8000 - val_loss: 0.6969 - val_accuracy: 0.8207\n"
          ]
        }
      ]
    },
    {
      "cell_type": "code",
      "source": [
        "results_10_percent_data_aug=model_2.evaluate(test_data)\n",
        "results_10_percent_data_aug"
      ],
      "metadata": {
        "colab": {
          "base_uri": "https://localhost:8080/"
        },
        "id": "nfXmHSsKHRpr",
        "outputId": "56c8da9f-ce03-4670-a519-a1a791ae3ac6"
      },
      "execution_count": 35,
      "outputs": [
        {
          "output_type": "stream",
          "name": "stdout",
          "text": [
            "79/79 [==============================] - 6s 71ms/step - loss: 0.7044 - accuracy: 0.8156\n"
          ]
        },
        {
          "output_type": "execute_result",
          "data": {
            "text/plain": [
              "[0.7044047117233276, 0.8155999779701233]"
            ]
          },
          "metadata": {},
          "execution_count": 35
        }
      ]
    },
    {
      "cell_type": "code",
      "source": [
        "plot_loss_curves(history_10_percent_data_aug)"
      ],
      "metadata": {
        "colab": {
          "base_uri": "https://localhost:8080/",
          "height": 573
        },
        "id": "Qi97BGKmIhYk",
        "outputId": "8b4f77af-a5e2-4a42-ae5c-8e55fc587d62"
      },
      "execution_count": 36,
      "outputs": [
        {
          "output_type": "display_data",
          "data": {
            "image/png": "[encoded data removed]",
            "text/plain": [
              "<Figure size 432x288 with 1 Axes>"
            ]
          },
          "metadata": {
            "needs_background": "light"
          }
        },
        {
          "output_type": "display_data",
          "data": {
            "image/png": "[encoded data removed]",
            "text/plain": [
              "<Figure size 432x288 with 1 Axes>"
            ]
          },
          "metadata": {
            "needs_background": "light"
          }
        }
      ]
    },
    {
      "cell_type": "markdown",
      "source": [
        "### Loading in checkpointed weigth\n",
        "\n",
        "Loading in checkpoint weigths returns a model to a specific checkpoint"
      ],
      "metadata": {
        "id": "hdmYWAunIzKE"
      }
    },
    {
      "cell_type": "code",
      "source": [
        "#Load in saved model weights and evaluate model\n",
        "model_2.load_weights(checkpoint_path)"
      ],
      "metadata": {
        "colab": {
          "base_uri": "https://localhost:8080/"
        },
        "id": "2ZxYLEkNJS3N",
        "outputId": "585c3cbf-0e6b-45c0-89f4-e6149826b874"
      },
      "execution_count": 37,
      "outputs": [
        {
          "output_type": "execute_result",
          "data": {
            "text/plain": [
              "<tensorflow.python.training.tracking.util.CheckpointLoadStatus at 0x7fc4a4a92350>"
            ]
          },
          "metadata": {},
          "execution_count": 37
        }
      ]
    },
    {
      "cell_type": "code",
      "source": [
        "#Evaluate model_2 with loaded weights\n",
        "loaded_weigths_model_results = model_2.evaluate(test_data)"
      ],
      "metadata": {
        "colab": {
          "base_uri": "https://localhost:8080/"
        },
        "id": "hkL00zdRJfnX",
        "outputId": "f30ff902-034e-4776-fa81-292f08ecf677"
      },
      "execution_count": 38,
      "outputs": [
        {
          "output_type": "stream",
          "name": "stdout",
          "text": [
            "79/79 [==============================] - 6s 71ms/step - loss: 0.7044 - accuracy: 0.8156\n"
          ]
        }
      ]
    },
    {
      "cell_type": "code",
      "source": [
        "#if  the resutls from our previously evaluated model_2 match the loaded weights, every\n",
        "results_10_percent_data_aug == loaded_weigths_model_results"
      ],
      "metadata": {
        "colab": {
          "base_uri": "https://localhost:8080/"
        },
        "id": "SDNx2c75JowW",
        "outputId": "a187aea4-ea4e-4437-9421-59536db4601c"
      },
      "execution_count": 39,
      "outputs": [
        {
          "output_type": "execute_result",
          "data": {
            "text/plain": [
              "False"
            ]
          },
          "metadata": {},
          "execution_count": 39
        }
      ]
    },
    {
      "cell_type": "code",
      "source": [
        "results_10_percent_data_aug"
      ],
      "metadata": {
        "colab": {
          "base_uri": "https://localhost:8080/"
        },
        "id": "CaUPpyNiJ7wm",
        "outputId": "a2ee3b8d-18d5-47fa-a353-16d316393123"
      },
      "execution_count": 40,
      "outputs": [
        {
          "output_type": "execute_result",
          "data": {
            "text/plain": [
              "[0.7044047117233276, 0.8155999779701233]"
            ]
          },
          "metadata": {},
          "execution_count": 40
        }
      ]
    },
    {
      "cell_type": "code",
      "source": [
        "loaded_weigths_model_results"
      ],
      "metadata": {
        "colab": {
          "base_uri": "https://localhost:8080/"
        },
        "id": "DppksPrCKCfI",
        "outputId": "969975a8-9f80-466f-b465-fa18ccfb00c4"
      },
      "execution_count": 41,
      "outputs": [
        {
          "output_type": "execute_result",
          "data": {
            "text/plain": [
              "[0.7044045329093933, 0.8155999779701233]"
            ]
          },
          "metadata": {},
          "execution_count": 41
        }
      ]
    },
    {
      "cell_type": "code",
      "source": [
        "# Check too see if loaded model results are very close to our previous non-loaded model\n",
        "import numpy as np\n",
        "np.isclose(np.array(results_10_percent_data_aug), np.array(loaded_weigths_model_results))"
      ],
      "metadata": {
        "colab": {
          "base_uri": "https://localhost:8080/"
        },
        "id": "GXfidXqRKGnA",
        "outputId": "9af8bea6-a067-46db-a652-925bd09912ca"
      },
      "execution_count": 42,
      "outputs": [
        {
          "output_type": "execute_result",
          "data": {
            "text/plain": [
              "array([ True,  True])"
            ]
          },
          "metadata": {},
          "execution_count": 42
        }
      ]
    },
    {
      "cell_type": "code",
      "source": [
        "#check the different between 2 results\n",
        "print(np.array(results_10_percent_data_aug)- np.array(loaded_weigths_model_results))"
      ],
      "metadata": {
        "colab": {
          "base_uri": "https://localhost:8080/"
        },
        "id": "0Kf3FBjtKvoT",
        "outputId": "592b7968-8ae7-465c-f9a5-aee8086d03a3"
      },
      "execution_count": 43,
      "outputs": [
        {
          "output_type": "stream",
          "name": "stdout",
          "text": [
            "[1.78813934e-07 0.00000000e+00]\n"
          ]
        }
      ]
    },
    {
      "cell_type": "markdown",
      "source": [
        "## Model 3: Fine-tuning an existing model on 10% of the data\n",
        "\n",
        "> Fine-tuning usually works best *after* training a feature extraction model for a few epochs with large amount of custom data"
      ],
      "metadata": {
        "id": "MyIcMVEDK-1T"
      }
    },
    {
      "cell_type": "code",
      "source": [
        "#layers in loaded model\n",
        "model_2.layers"
      ],
      "metadata": {
        "colab": {
          "base_uri": "https://localhost:8080/"
        },
        "id": "Sx-UgmQwMehK",
        "outputId": "58312dff-c9a5-4d38-d1fb-2d8467abd6d4"
      },
      "execution_count": 44,
      "outputs": [
        {
          "output_type": "execute_result",
          "data": {
            "text/plain": [
              "[<keras.engine.input_layer.InputLayer at 0x7fc4a72fbb50>,\n",
              " <keras.engine.sequential.Sequential at 0x7fc41a6db250>,\n",
              " <keras.engine.functional.Functional at 0x7fc4a6df1650>,\n",
              " <keras.layers.pooling.GlobalAveragePooling2D at 0x7fc4a736f310>,\n",
              " <keras.layers.core.dense.Dense at 0x7fc538ed0310>]"
            ]
          },
          "metadata": {},
          "execution_count": 44
        }
      ]
    },
    {
      "cell_type": "code",
      "source": [
        "#are these layers trainable?\n",
        "for layer in model_2.layers:\n",
        "  print(layer, layer.trainable)"
      ],
      "metadata": {
        "colab": {
          "base_uri": "https://localhost:8080/"
        },
        "id": "3Ojf0WuWMmn5",
        "outputId": "cef6ff15-9a71-416d-c0b8-8c8b20c21cda"
      },
      "execution_count": 45,
      "outputs": [
        {
          "output_type": "stream",
          "name": "stdout",
          "text": [
            "<keras.engine.input_layer.InputLayer object at 0x7fc4a72fbb50> True\n",
            "<keras.engine.sequential.Sequential object at 0x7fc41a6db250> True\n",
            "<keras.engine.functional.Functional object at 0x7fc4a6df1650> False\n",
            "<keras.layers.pooling.GlobalAveragePooling2D object at 0x7fc4a736f310> True\n",
            "<keras.layers.core.dense.Dense object at 0x7fc538ed0310> True\n"
          ]
        }
      ]
    },
    {
      "cell_type": "code",
      "source": [
        "#what layers are in our base_model (EfficientNetB0) and are they trainable\n",
        "for i, layer in enumerate(model_2.layers[2].layers):\n",
        "  print(i, layer, layer.name, layer.trainable)"
      ],
      "metadata": {
        "colab": {
          "base_uri": "https://localhost:8080/"
        },
        "id": "EaPQq3hJMyFn",
        "outputId": "e473e35b-9c4c-4c9e-c0b0-b2134f250578"
      },
      "execution_count": 46,
      "outputs": [
        {
          "output_type": "stream",
          "name": "stdout",
          "text": [
            "0 <keras.engine.input_layer.InputLayer object at 0x7fc4a72fb590> input_3 False\n",
            "1 <keras.layers.preprocessing.image_preprocessing.Rescaling object at 0x7fc4a739b590> rescaling_2 False\n",
            "2 <keras.layers.preprocessing.normalization.Normalization object at 0x7fc4a72b0bd0> normalization_2 False\n",
            "3 <keras.layers.convolutional.ZeroPadding2D object at 0x7fc4a72bbc50> stem_conv_pad False\n",
            "4 <keras.layers.convolutional.Conv2D object at 0x7fc4a72c9f50> stem_conv False\n",
            "5 <keras.layers.normalization.batch_normalization.BatchNormalization object at 0x7fc4a72bba90> stem_bn False\n",
            "6 <keras.layers.core.activation.Activation object at 0x7fc4a72d4990> stem_activation False\n",
            "7 <keras.layers.convolutional.DepthwiseConv2D object at 0x7fc4a7235bd0> block1a_dwconv False\n",
            "8 <keras.layers.normalization.batch_normalization.BatchNormalization object at 0x7fc4a72358d0> block1a_bn False\n",
            "9 <keras.layers.core.activation.Activation object at 0x7fc4a7240750> block1a_activation False\n",
            "10 <keras.layers.pooling.GlobalAveragePooling2D object at 0x7fc4a724fb10> block1a_se_squeeze False\n",
            "11 <keras.layers.core.reshape.Reshape object at 0x7fc4a7249810> block1a_se_reshape False\n",
            "12 <keras.layers.convolutional.Conv2D object at 0x7fc4a72491d0> block1a_se_reduce False\n",
            "13 <keras.layers.convolutional.Conv2D object at 0x7fc4a7253690> block1a_se_expand False\n",
            "14 <keras.layers.merge.Multiply object at 0x7fc4a7253e10> block1a_se_excite False\n",
            "15 <keras.layers.convolutional.Conv2D object at 0x7fc4a7302e10> block1a_project_conv False\n",
            "16 <keras.layers.normalization.batch_normalization.BatchNormalization object at 0x7fc4a726b0d0> block1a_project_bn False\n",
            "17 <keras.layers.convolutional.Conv2D object at 0x7fc4a71f53d0> block2a_expand_conv False\n",
            "18 <keras.layers.normalization.batch_normalization.BatchNormalization object at 0x7fc4a726ee50> block2a_expand_bn False\n",
            "19 <keras.layers.core.activation.Activation object at 0x7fc4a71ff110> block2a_expand_activation False\n",
            "20 <keras.layers.convolutional.ZeroPadding2D object at 0x7fc4a72040d0> block2a_dwconv_pad False\n",
            "21 <keras.layers.convolutional.DepthwiseConv2D object at 0x7fc4a7204750> block2a_dwconv False\n",
            "22 <keras.layers.normalization.batch_normalization.BatchNormalization object at 0x7fc4a720e110> block2a_bn False\n",
            "23 <keras.layers.core.activation.Activation object at 0x7fc4a73ec650> block2a_activation False\n",
            "24 <keras.layers.pooling.GlobalAveragePooling2D object at 0x7fc4a721d650> block2a_se_squeeze False\n",
            "25 <keras.layers.core.reshape.Reshape object at 0x7fc4a720ef90> block2a_se_reshape False\n",
            "26 <keras.layers.convolutional.Conv2D object at 0x7fc4a7226f50> block2a_se_reduce False\n",
            "27 <keras.layers.convolutional.Conv2D object at 0x7fc4a722f650> block2a_se_expand False\n",
            "28 <keras.layers.merge.Multiply object at 0x7fc4a71b7790> block2a_se_excite False\n",
            "29 <keras.layers.convolutional.Conv2D object at 0x7fc4a71bc7d0> block2a_project_conv False\n",
            "30 <keras.layers.normalization.batch_normalization.BatchNormalization object at 0x7fc4a71ca150> block2a_project_bn False\n",
            "31 <keras.layers.convolutional.Conv2D object at 0x7fc4a4606990> block2b_expand_conv False\n",
            "32 <keras.layers.normalization.batch_normalization.BatchNormalization object at 0x7fc4a460b6d0> block2b_expand_bn False\n",
            "33 <keras.layers.core.activation.Activation object at 0x7fc4a72177d0> block2b_expand_activation False\n",
            "34 <keras.layers.convolutional.DepthwiseConv2D object at 0x7fc4a7253650> block2b_dwconv False\n",
            "35 <keras.layers.normalization.batch_normalization.BatchNormalization object at 0x7fc4a7217910> block2b_bn False\n",
            "36 <keras.layers.core.activation.Activation object at 0x7fc4a71bed50> block2b_activation False\n",
            "37 <keras.layers.pooling.GlobalAveragePooling2D object at 0x7fc4a4519e10> block2b_se_squeeze False\n",
            "38 <keras.layers.core.reshape.Reshape object at 0x7fc4a4519490> block2b_se_reshape False\n",
            "39 <keras.layers.convolutional.Conv2D object at 0x7fc4a45e1250> block2b_se_reduce False\n",
            "40 <keras.layers.convolutional.Conv2D object at 0x7fc4a451f410> block2b_se_expand False\n",
            "41 <keras.layers.merge.Multiply object at 0x7fc4a461b4d0> block2b_se_excite False\n",
            "42 <keras.layers.convolutional.Conv2D object at 0x7fc4a451e810> block2b_project_conv False\n",
            "43 <keras.layers.normalization.batch_normalization.BatchNormalization object at 0x7fc4a71d6b50> block2b_project_bn False\n",
            "44 <keras.layers.core.dropout.Dropout object at 0x7fc4a71dc510> block2b_drop False\n",
            "45 <keras.layers.merge.Add object at 0x7fc4a71dccd0> block2b_add False\n",
            "46 <keras.layers.convolutional.Conv2D object at 0x7fc4a71e8510> block3a_expand_conv False\n",
            "47 <keras.layers.normalization.batch_normalization.BatchNormalization object at 0x7fc4a71edc90> block3a_expand_bn False\n",
            "48 <keras.layers.core.activation.Activation object at 0x7fc4a7171d50> block3a_expand_activation False\n",
            "49 <keras.layers.convolutional.ZeroPadding2D object at 0x7fc4a7176fd0> block3a_dwconv_pad False\n",
            "50 <keras.layers.convolutional.DepthwiseConv2D object at 0x7fc4a717ff90> block3a_dwconv False\n",
            "51 <keras.layers.normalization.batch_normalization.BatchNormalization object at 0x7fc4a71884d0> block3a_bn False\n",
            "52 <keras.layers.core.activation.Activation object at 0x7fc4a7190910> block3a_activation False\n",
            "53 <keras.layers.pooling.GlobalAveragePooling2D object at 0x7fc4a7190e90> block3a_se_squeeze False\n",
            "54 <keras.layers.core.reshape.Reshape object at 0x7fc4a71a3210> block3a_se_reshape False\n",
            "55 <keras.layers.convolutional.Conv2D object at 0x7fc4a719bc90> block3a_se_reduce False\n",
            "56 <keras.layers.convolutional.Conv2D object at 0x7fc4a71a8790> block3a_se_expand False\n",
            "57 <keras.layers.merge.Multiply object at 0x7fc4a71384d0> block3a_se_excite False\n",
            "58 <keras.layers.convolutional.Conv2D object at 0x7fc4a71a8b90> block3a_project_conv False\n",
            "59 <keras.layers.normalization.batch_normalization.BatchNormalization object at 0x7fc4a7141a90> block3a_project_bn False\n",
            "60 <keras.layers.convolutional.Conv2D object at 0x7fc4a7144e90> block3b_expand_conv False\n",
            "61 <keras.layers.normalization.batch_normalization.BatchNormalization object at 0x7fc4a71500d0> block3b_expand_bn False\n",
            "62 <keras.layers.core.activation.Activation object at 0x7fc4a7155cd0> block3b_expand_activation False\n",
            "63 <keras.layers.convolutional.DepthwiseConv2D object at 0x7fc4a7165d50> block3b_dwconv False\n",
            "64 <keras.layers.normalization.batch_normalization.BatchNormalization object at 0x7fc4a715ad10> block3b_bn False\n",
            "65 <keras.layers.core.activation.Activation object at 0x7fc4a716f3d0> block3b_activation False\n",
            "66 <keras.layers.pooling.GlobalAveragePooling2D object at 0x7fc4a70f1a90> block3b_se_squeeze False\n",
            "67 <keras.layers.core.reshape.Reshape object at 0x7fc4a70f6cd0> block3b_se_reshape False\n",
            "68 <keras.layers.convolutional.Conv2D object at 0x7fc4a716f510> block3b_se_reduce False\n",
            "69 <keras.layers.convolutional.Conv2D object at 0x7fc4a7144390> block3b_se_expand False\n",
            "70 <keras.layers.merge.Multiply object at 0x7fc4a715a7d0> block3b_se_excite False\n",
            "71 <keras.layers.convolutional.Conv2D object at 0x7fc4a715aa10> block3b_project_conv False\n",
            "72 <keras.layers.normalization.batch_normalization.BatchNormalization object at 0x7fc4a7141f50> block3b_project_bn False\n",
            "73 <keras.layers.core.dropout.Dropout object at 0x7fc4a7144f10> block3b_drop False\n",
            "74 <keras.layers.merge.Add object at 0x7fc4a7190150> block3b_add False\n",
            "75 <keras.layers.convolutional.Conv2D object at 0x7fc4a7171990> block4a_expand_conv False\n",
            "76 <keras.layers.normalization.batch_normalization.BatchNormalization object at 0x7fc4a71039d0> block4a_expand_bn False\n",
            "77 <keras.layers.core.activation.Activation object at 0x7fc4a460bc10> block4a_expand_activation False\n",
            "78 <keras.layers.convolutional.ZeroPadding2D object at 0x7fc4a460bb10> block4a_dwconv_pad False\n",
            "79 <keras.layers.convolutional.DepthwiseConv2D object at 0x7fc4a71d1a10> block4a_dwconv False\n",
            "80 <keras.layers.normalization.batch_normalization.BatchNormalization object at 0x7fc4a719b410> block4a_bn False\n",
            "81 <keras.layers.core.activation.Activation object at 0x7fc4a460e110> block4a_activation False\n",
            "82 <keras.layers.pooling.GlobalAveragePooling2D object at 0x7fc4a7120310> block4a_se_squeeze False\n",
            "83 <keras.layers.core.reshape.Reshape object at 0x7fc4a7123f90> block4a_se_reshape False\n",
            "84 <keras.layers.convolutional.Conv2D object at 0x7fc4a716f850> block4a_se_reduce False\n",
            "85 <keras.layers.convolutional.Conv2D object at 0x7fc4a71a3f50> block4a_se_expand False\n",
            "86 <keras.layers.merge.Multiply object at 0x7fc4a70c4090> block4a_se_excite False\n",
            "87 <keras.layers.convolutional.Conv2D object at 0x7fc4a70bb110> block4a_project_conv False\n",
            "88 <keras.layers.normalization.batch_normalization.BatchNormalization object at 0x7fc4a70bb210> block4a_project_bn False\n",
            "89 <keras.layers.convolutional.Conv2D object at 0x7fc4a70d3310> block4b_expand_conv False\n",
            "90 <keras.layers.normalization.batch_normalization.BatchNormalization object at 0x7fc4a70cb910> block4b_expand_bn False\n",
            "91 <keras.layers.core.activation.Activation object at 0x7fc4a70d3ad0> block4b_expand_activation False\n",
            "92 <keras.layers.convolutional.DepthwiseConv2D object at 0x7fc4a70e5910> block4b_dwconv False\n",
            "93 <keras.layers.normalization.batch_normalization.BatchNormalization object at 0x7fc4a707d710> block4b_bn False\n",
            "94 <keras.layers.core.activation.Activation object at 0x7fc4a711d510> block4b_activation False\n",
            "95 <keras.layers.pooling.GlobalAveragePooling2D object at 0x7fc4a70e5f50> block4b_se_squeeze False\n",
            "96 <keras.layers.core.reshape.Reshape object at 0x7fc4a7084190> block4b_se_reshape False\n",
            "97 <keras.layers.convolutional.Conv2D object at 0x7fc4a7092ed0> block4b_se_reduce False\n",
            "98 <keras.layers.convolutional.Conv2D object at 0x7fc4a70d3510> block4b_se_expand False\n",
            "99 <keras.layers.merge.Multiply object at 0x7fc4a7092350> block4b_se_excite False\n",
            "100 <keras.layers.convolutional.Conv2D object at 0x7fc4a70a4f10> block4b_project_conv False\n",
            "101 <keras.layers.normalization.batch_normalization.BatchNormalization object at 0x7fc4a7092790> block4b_project_bn False\n",
            "102 <keras.layers.core.dropout.Dropout object at 0x7fc4a70aebd0> block4b_drop False\n",
            "103 <keras.layers.merge.Add object at 0x7fc4a7184d90> block4b_add False\n",
            "104 <keras.layers.convolutional.Conv2D object at 0x7fc4a703e590> block4c_expand_conv False\n",
            "105 <keras.layers.normalization.batch_normalization.BatchNormalization object at 0x7fc4a70a49d0> block4c_expand_bn False\n",
            "106 <keras.layers.core.activation.Activation object at 0x7fc4a7033a10> block4c_expand_activation False\n",
            "107 <keras.layers.convolutional.DepthwiseConv2D object at 0x7fc4a704fb90> block4c_dwconv False\n",
            "108 <keras.layers.normalization.batch_normalization.BatchNormalization object at 0x7fc4a704fdd0> block4c_bn False\n",
            "109 <keras.layers.core.activation.Activation object at 0x7fc4a7055a90> block4c_activation False\n",
            "110 <keras.layers.pooling.GlobalAveragePooling2D object at 0x7fc4a7069850> block4c_se_squeeze False\n",
            "111 <keras.layers.core.reshape.Reshape object at 0x7fc4a7069210> block4c_se_reshape False\n",
            "112 <keras.layers.convolutional.Conv2D object at 0x7fc4a7069750> block4c_se_reduce False\n",
            "113 <keras.layers.convolutional.Conv2D object at 0x7fc4a703e090> block4c_se_expand False\n",
            "114 <keras.layers.merge.Multiply object at 0x7fc4a7081c10> block4c_se_excite False\n",
            "115 <keras.layers.convolutional.Conv2D object at 0x7fc4a7092a50> block4c_project_conv False\n",
            "116 <keras.layers.normalization.batch_normalization.BatchNormalization object at 0x7fc4a705c090> block4c_project_bn False\n",
            "117 <keras.layers.core.dropout.Dropout object at 0x7fc4a70b3c50> block4c_drop False\n",
            "118 <keras.layers.merge.Add object at 0x7fc4a7033ed0> block4c_add False\n",
            "119 <keras.layers.convolutional.Conv2D object at 0x7fc4a7128d90> block5a_expand_conv False\n",
            "120 <keras.layers.normalization.batch_normalization.BatchNormalization object at 0x7fc4a70e8cd0> block5a_expand_bn False\n",
            "121 <keras.layers.core.activation.Activation object at 0x7fc4a7184850> block5a_expand_activation False\n",
            "122 <keras.layers.convolutional.DepthwiseConv2D object at 0x7fc4a6ff7290> block5a_dwconv False\n",
            "123 <keras.layers.normalization.batch_normalization.BatchNormalization object at 0x7fc4a6ff7150> block5a_bn False\n",
            "124 <keras.layers.core.activation.Activation object at 0x7fc4a6ff72d0> block5a_activation False\n",
            "125 <keras.layers.pooling.GlobalAveragePooling2D object at 0x7fc4a6ff3350> block5a_se_squeeze False\n",
            "126 <keras.layers.core.reshape.Reshape object at 0x7fc4a7001450> block5a_se_reshape False\n",
            "127 <keras.layers.convolutional.Conv2D object at 0x7fc4a70001d0> block5a_se_reduce False\n",
            "128 <keras.layers.convolutional.Conv2D object at 0x7fc4a7128dd0> block5a_se_expand False\n",
            "129 <keras.layers.merge.Multiply object at 0x7fc4a7015c10> block5a_se_excite False\n",
            "130 <keras.layers.convolutional.Conv2D object at 0x7fc4a701dcd0> block5a_project_conv False\n",
            "131 <keras.layers.normalization.batch_normalization.BatchNormalization object at 0x7fc4a7015a50> block5a_project_bn False\n",
            "132 <keras.layers.convolutional.Conv2D object at 0x7fc4a6fb0fd0> block5b_expand_conv False\n",
            "133 <keras.layers.normalization.batch_normalization.BatchNormalization object at 0x7fc4a7021f10> block5b_expand_bn False\n",
            "134 <keras.layers.core.activation.Activation object at 0x7fc4a6fb0f90> block5b_expand_activation False\n",
            "135 <keras.layers.convolutional.DepthwiseConv2D object at 0x7fc4a6fc4b90> block5b_dwconv False\n",
            "136 <keras.layers.normalization.batch_normalization.BatchNormalization object at 0x7fc4a6fc4cd0> block5b_bn False\n",
            "137 <keras.layers.core.activation.Activation object at 0x7fc4a6fc48d0> block5b_activation False\n",
            "138 <keras.layers.pooling.GlobalAveragePooling2D object at 0x7fc4a6fcf4d0> block5b_se_squeeze False\n",
            "139 <keras.layers.core.reshape.Reshape object at 0x7fc4a6fdb150> block5b_se_reshape False\n",
            "140 <keras.layers.convolutional.Conv2D object at 0x7fc4a6fdb350> block5b_se_reduce False\n",
            "141 <keras.layers.convolutional.Conv2D object at 0x7fc4a7025710> block5b_se_expand False\n",
            "142 <keras.layers.merge.Multiply object at 0x7fc4a6f74950> block5b_se_excite False\n",
            "143 <keras.layers.convolutional.Conv2D object at 0x7fc4a6fec250> block5b_project_conv False\n",
            "144 <keras.layers.normalization.batch_normalization.BatchNormalization object at 0x7fc4a6fecc10> block5b_project_bn False\n",
            "145 <keras.layers.core.dropout.Dropout object at 0x7fc4a6f81090> block5b_drop False\n",
            "146 <keras.layers.merge.Add object at 0x7fc4a6f7eb50> block5b_add False\n",
            "147 <keras.layers.convolutional.Conv2D object at 0x7fc4a6f812d0> block5c_expand_conv False\n",
            "148 <keras.layers.normalization.batch_normalization.BatchNormalization object at 0x7fc4a6fa0d10> block5c_expand_bn False\n",
            "149 <keras.layers.core.activation.Activation object at 0x7fc4a6fa0510> block5c_expand_activation False\n",
            "150 <keras.layers.convolutional.DepthwiseConv2D object at 0x7fc4a6fa0ad0> block5c_dwconv False\n",
            "151 <keras.layers.normalization.batch_normalization.BatchNormalization object at 0x7fc4a6fafc10> block5c_bn False\n",
            "152 <keras.layers.core.activation.Activation object at 0x7fc4a6f93d10> block5c_activation False\n",
            "153 <keras.layers.pooling.GlobalAveragePooling2D object at 0x7fc4a6fafc90> block5c_se_squeeze False\n",
            "154 <keras.layers.core.reshape.Reshape object at 0x7fc4a6f81a90> block5c_se_reshape False\n",
            "155 <keras.layers.convolutional.Conv2D object at 0x7fc4a6f87ed0> block5c_se_reduce False\n",
            "156 <keras.layers.convolutional.Conv2D object at 0x7fc4a6f7e690> block5c_se_expand False\n",
            "157 <keras.layers.merge.Multiply object at 0x7fc4a6fc4350> block5c_se_excite False\n",
            "158 <keras.layers.convolutional.Conv2D object at 0x7fc4a6f813d0> block5c_project_conv False\n",
            "159 <keras.layers.normalization.batch_normalization.BatchNormalization object at 0x7fc4a6fb0d10> block5c_project_bn False\n",
            "160 <keras.layers.core.dropout.Dropout object at 0x7fc4a70cded0> block5c_drop False\n",
            "161 <keras.layers.merge.Add object at 0x7fc4a6f81850> block5c_add False\n",
            "162 <keras.layers.convolutional.Conv2D object at 0x7fc4a6f443d0> block6a_expand_conv False\n",
            "163 <keras.layers.normalization.batch_normalization.BatchNormalization object at 0x7fc4a6ff2d90> block6a_expand_bn False\n",
            "164 <keras.layers.core.activation.Activation object at 0x7fc4a6f3ca50> block6a_expand_activation False\n",
            "165 <keras.layers.convolutional.ZeroPadding2D object at 0x7fc4a6f44410> block6a_dwconv_pad False\n",
            "166 <keras.layers.convolutional.DepthwiseConv2D object at 0x7fc4a460bc50> block6a_dwconv False\n",
            "167 <keras.layers.normalization.batch_normalization.BatchNormalization object at 0x7fc4a6f53410> block6a_bn False\n",
            "168 <keras.layers.core.activation.Activation object at 0x7fc4a6f93490> block6a_activation False\n",
            "169 <keras.layers.pooling.GlobalAveragePooling2D object at 0x7fc4a6f44f10> block6a_se_squeeze False\n",
            "170 <keras.layers.core.reshape.Reshape object at 0x7fc4a6f68150> block6a_se_reshape False\n",
            "171 <keras.layers.convolutional.Conv2D object at 0x7fc4a6f68210> block6a_se_reduce False\n",
            "172 <keras.layers.convolutional.Conv2D object at 0x7fc4a70bba90> block6a_se_expand False\n",
            "173 <keras.layers.merge.Multiply object at 0x7fc4a6ef71d0> block6a_se_excite False\n",
            "174 <keras.layers.convolutional.Conv2D object at 0x7fc4a6efc4d0> block6a_project_conv False\n",
            "175 <keras.layers.normalization.batch_normalization.BatchNormalization object at 0x7fc4a6efcc10> block6a_project_bn False\n",
            "176 <keras.layers.convolutional.Conv2D object at 0x7fc4a6f0d890> block6b_expand_conv False\n",
            "177 <keras.layers.normalization.batch_normalization.BatchNormalization object at 0x7fc4a6f0d590> block6b_expand_bn False\n",
            "178 <keras.layers.core.activation.Activation object at 0x7fc4a6f16610> block6b_expand_activation False\n",
            "179 <keras.layers.convolutional.DepthwiseConv2D object at 0x7fc4a6f1ffd0> block6b_dwconv False\n",
            "180 <keras.layers.normalization.batch_normalization.BatchNormalization object at 0x7fc4a6f1f990> block6b_bn False\n",
            "181 <keras.layers.core.activation.Activation object at 0x7fc4a6f1f110> block6b_activation False\n",
            "182 <keras.layers.pooling.GlobalAveragePooling2D object at 0x7fc4a6f29a90> block6b_se_squeeze False\n",
            "183 <keras.layers.core.reshape.Reshape object at 0x7fc4a6eb7150> block6b_se_reshape False\n",
            "184 <keras.layers.convolutional.Conv2D object at 0x7fc4a6ebcd50> block6b_se_reduce False\n",
            "185 <keras.layers.convolutional.Conv2D object at 0x7fc4a6efff50> block6b_se_expand False\n",
            "186 <keras.layers.merge.Multiply object at 0x7fc4a6ed0250> block6b_se_excite False\n",
            "187 <keras.layers.convolutional.Conv2D object at 0x7fc4a6ed0550> block6b_project_conv False\n",
            "188 <keras.layers.normalization.batch_normalization.BatchNormalization object at 0x7fc4a6ec44d0> block6b_project_bn False\n",
            "189 <keras.layers.core.dropout.Dropout object at 0x7fc4a6ee43d0> block6b_drop False\n",
            "190 <keras.layers.merge.Add object at 0x7fc4a70bbdd0> block6b_add False\n",
            "191 <keras.layers.convolutional.Conv2D object at 0x7fc4a6ed8bd0> block6c_expand_conv False\n",
            "192 <keras.layers.normalization.batch_normalization.BatchNormalization object at 0x7fc4a6ed6650> block6c_expand_bn False\n",
            "193 <keras.layers.core.activation.Activation object at 0x7fc4a6e75250> block6c_expand_activation False\n",
            "194 <keras.layers.convolutional.DepthwiseConv2D object at 0x7fc4a6ed8510> block6c_dwconv False\n",
            "195 <keras.layers.normalization.batch_normalization.BatchNormalization object at 0x7fc4a6f16b90> block6c_bn False\n",
            "196 <keras.layers.core.activation.Activation object at 0x7fc4a6ee8d50> block6c_activation False\n",
            "197 <keras.layers.pooling.GlobalAveragePooling2D object at 0x7fc4a6f16550> block6c_se_squeeze False\n",
            "198 <keras.layers.core.reshape.Reshape object at 0x7fc4a6f16910> block6c_se_reshape False\n",
            "199 <keras.layers.convolutional.Conv2D object at 0x7fc4a6eb78d0> block6c_se_reduce False\n",
            "200 <keras.layers.convolutional.Conv2D object at 0x7fc4a6ed6cd0> block6c_se_expand False\n",
            "201 <keras.layers.merge.Multiply object at 0x7fc4a6fb5810> block6c_se_excite False\n",
            "202 <keras.layers.convolutional.Conv2D object at 0x7fc4a6eeb350> block6c_project_conv False\n",
            "203 <keras.layers.normalization.batch_normalization.BatchNormalization object at 0x7fc4a702a350> block6c_project_bn False\n",
            "204 <keras.layers.core.dropout.Dropout object at 0x7fc4a6e87d50> block6c_drop False\n",
            "205 <keras.layers.merge.Add object at 0x7fc4a6ee4990> block6c_add False\n",
            "206 <keras.layers.convolutional.Conv2D object at 0x7fc4a6ea1fd0> block6d_expand_conv False\n",
            "207 <keras.layers.normalization.batch_normalization.BatchNormalization object at 0x7fc4a6e84310> block6d_expand_bn False\n",
            "208 <keras.layers.core.activation.Activation object at 0x7fc4a6ea1d50> block6d_expand_activation False\n",
            "209 <keras.layers.convolutional.DepthwiseConv2D object at 0x7fc4a6eac050> block6d_dwconv False\n",
            "210 <keras.layers.normalization.batch_normalization.BatchNormalization object at 0x7fc4a6eac150> block6d_bn False\n",
            "211 <keras.layers.core.activation.Activation object at 0x7fc4a6eaced0> block6d_activation False\n",
            "212 <keras.layers.pooling.GlobalAveragePooling2D object at 0x7fc4a6e3fe90> block6d_se_squeeze False\n",
            "213 <keras.layers.core.reshape.Reshape object at 0x7fc4a6f16790> block6d_se_reshape False\n",
            "214 <keras.layers.convolutional.Conv2D object at 0x7fc4a6e3f050> block6d_se_reduce False\n",
            "215 <keras.layers.convolutional.Conv2D object at 0x7fc4a6e848d0> block6d_se_expand False\n",
            "216 <keras.layers.merge.Multiply object at 0x7fc4a6e5b810> block6d_se_excite False\n",
            "217 <keras.layers.convolutional.Conv2D object at 0x7fc4a6e5bf90> block6d_project_conv False\n",
            "218 <keras.layers.normalization.batch_normalization.BatchNormalization object at 0x7fc4a6e354d0> block6d_project_bn False\n",
            "219 <keras.layers.core.dropout.Dropout object at 0x7fc4a6e6d810> block6d_drop False\n",
            "220 <keras.layers.merge.Add object at 0x7fc4a6e6d1d0> block6d_add False\n",
            "221 <keras.layers.convolutional.Conv2D object at 0x7fc4a6e6d8d0> block7a_expand_conv False\n",
            "222 <keras.layers.normalization.batch_normalization.BatchNormalization object at 0x7fc4a6e5bed0> block7a_expand_bn False\n",
            "223 <keras.layers.core.activation.Activation object at 0x7fc4a6e02650> block7a_expand_activation False\n",
            "224 <keras.layers.convolutional.DepthwiseConv2D object at 0x7fc4a6dfe190> block7a_dwconv False\n",
            "225 <keras.layers.normalization.batch_normalization.BatchNormalization object at 0x7fc4a6dfe650> block7a_bn False\n",
            "226 <keras.layers.core.activation.Activation object at 0x7fc4a6dfe710> block7a_activation False\n",
            "227 <keras.layers.pooling.GlobalAveragePooling2D object at 0x7fc4a6e35450> block7a_se_squeeze False\n",
            "228 <keras.layers.core.reshape.Reshape object at 0x7fc4a6e17c90> block7a_se_reshape False\n",
            "229 <keras.layers.convolutional.Conv2D object at 0x7fc4a6e17f50> block7a_se_reduce False\n",
            "230 <keras.layers.convolutional.Conv2D object at 0x7fc4a6e4ccd0> block7a_se_expand False\n",
            "231 <keras.layers.merge.Multiply object at 0x7fc4a6e2d950> block7a_se_excite False\n",
            "232 <keras.layers.convolutional.Conv2D object at 0x7fc4a6db7c50> block7a_project_conv False\n",
            "233 <keras.layers.normalization.batch_normalization.BatchNormalization object at 0x7fc4a6dca810> block7a_project_bn False\n",
            "234 <keras.layers.convolutional.Conv2D object at 0x7fc4a7238390> top_conv False\n",
            "235 <keras.layers.normalization.batch_normalization.BatchNormalization object at 0x7fc4a6dbcf10> top_bn False\n",
            "236 <keras.layers.core.activation.Activation object at 0x7fc4a6e1d390> top_activation False\n"
          ]
        }
      ]
    },
    {
      "cell_type": "code",
      "source": [
        "#how many trainable variables are in our base model?\n",
        "print(len(model_2.layers[2].trainable_variables))"
      ],
      "metadata": {
        "colab": {
          "base_uri": "https://localhost:8080/"
        },
        "id": "oO1Gm4TCNR5h",
        "outputId": "a21b9a63-9632-49b7-9499-df1267b9f087"
      },
      "execution_count": 47,
      "outputs": [
        {
          "output_type": "stream",
          "name": "stdout",
          "text": [
            "0\n"
          ]
        }
      ]
    },
    {
      "cell_type": "code",
      "source": [
        "#To begin fine-tuning, lets start by setting the last 10 layers of our base_model.trainable= True\n",
        "base_model.trainable = True\n",
        "\n",
        "#Freeze all layers except for the last 10\n",
        "for layer in base_model.layers[:-10]:\n",
        "  layer.trainable = False\n",
        "\n",
        "#recompile (we have to recompile our models every time we make a change)\n",
        "model_2.compile(loss=\"categorical_crossentropy\",\n",
        "                optimizer=tf.keras.optimizers.Adam(lr=0.0001), #when fine-tuning you typically want to lower teh learning rate by 10x*\n",
        "                metrics=[\"accuracy\"])\n",
        "\n"
      ],
      "metadata": {
        "id": "z3o3-uhKNpmH",
        "colab": {
          "base_uri": "https://localhost:8080/"
        },
        "outputId": "52f333bc-34ba-4708-9766-95efa2346cc0"
      },
      "execution_count": 48,
      "outputs": [
        {
          "output_type": "stream",
          "name": "stderr",
          "text": [
            "/usr/local/lib/python3.7/dist-packages/keras/optimizer_v2/adam.py:105: UserWarning: The `lr` argument is deprecated, use `learning_rate` instead.\n",
            "  super(Adam, self).__init__(name, **kwargs)\n"
          ]
        }
      ]
    },
    {
      "cell_type": "markdown",
      "source": [
        "> **Note** when using fine-tuning it is best practice to lower ur leaning rate by some amount. this is a hyperparameter you can tune but a good rule of thumb is atleast 10x (though different sources will claim other values).\n",
        "source: https://arxiv.org/abs/1801.06146"
      ],
      "metadata": {
        "id": "Lbg93iFUPevG"
      }
    },
    {
      "cell_type": "code",
      "source": [
        "#check which layers are tunable (trainable)\n",
        "for layer_number, layer in enumerate(model_2.layers[2].layers):\n",
        "  print(layer_number, layer.name, layer.trainable)"
      ],
      "metadata": {
        "colab": {
          "base_uri": "https://localhost:8080/"
        },
        "id": "Rqixsr7POgZP",
        "outputId": "6959f36c-192d-49c2-939c-789dc9c34ecb"
      },
      "execution_count": 49,
      "outputs": [
        {
          "output_type": "stream",
          "name": "stdout",
          "text": [
            "0 input_3 False\n",
            "1 rescaling_2 False\n",
            "2 normalization_2 False\n",
            "3 stem_conv_pad False\n",
            "4 stem_conv False\n",
            "5 stem_bn False\n",
            "6 stem_activation False\n",
            "7 block1a_dwconv False\n",
            "8 block1a_bn False\n",
            "9 block1a_activation False\n",
            "10 block1a_se_squeeze False\n",
            "11 block1a_se_reshape False\n",
            "12 block1a_se_reduce False\n",
            "13 block1a_se_expand False\n",
            "14 block1a_se_excite False\n",
            "15 block1a_project_conv False\n",
            "16 block1a_project_bn False\n",
            "17 block2a_expand_conv False\n",
            "18 block2a_expand_bn False\n",
            "19 block2a_expand_activation False\n",
            "20 block2a_dwconv_pad False\n",
            "21 block2a_dwconv False\n",
            "22 block2a_bn False\n",
            "23 block2a_activation False\n",
            "24 block2a_se_squeeze False\n",
            "25 block2a_se_reshape False\n",
            "26 block2a_se_reduce False\n",
            "27 block2a_se_expand False\n",
            "28 block2a_se_excite False\n",
            "29 block2a_project_conv False\n",
            "30 block2a_project_bn False\n",
            "31 block2b_expand_conv False\n",
            "32 block2b_expand_bn False\n",
            "33 block2b_expand_activation False\n",
            "34 block2b_dwconv False\n",
            "35 block2b_bn False\n",
            "36 block2b_activation False\n",
            "37 block2b_se_squeeze False\n",
            "38 block2b_se_reshape False\n",
            "39 block2b_se_reduce False\n",
            "40 block2b_se_expand False\n",
            "41 block2b_se_excite False\n",
            "42 block2b_project_conv False\n",
            "43 block2b_project_bn False\n",
            "44 block2b_drop False\n",
            "45 block2b_add False\n",
            "46 block3a_expand_conv False\n",
            "47 block3a_expand_bn False\n",
            "48 block3a_expand_activation False\n",
            "49 block3a_dwconv_pad False\n",
            "50 block3a_dwconv False\n",
            "51 block3a_bn False\n",
            "52 block3a_activation False\n",
            "53 block3a_se_squeeze False\n",
            "54 block3a_se_reshape False\n",
            "55 block3a_se_reduce False\n",
            "56 block3a_se_expand False\n",
            "57 block3a_se_excite False\n",
            "58 block3a_project_conv False\n",
            "59 block3a_project_bn False\n",
            "60 block3b_expand_conv False\n",
            "61 block3b_expand_bn False\n",
            "62 block3b_expand_activation False\n",
            "63 block3b_dwconv False\n",
            "64 block3b_bn False\n",
            "65 block3b_activation False\n",
            "66 block3b_se_squeeze False\n",
            "67 block3b_se_reshape False\n",
            "68 block3b_se_reduce False\n",
            "69 block3b_se_expand False\n",
            "70 block3b_se_excite False\n",
            "71 block3b_project_conv False\n",
            "72 block3b_project_bn False\n",
            "73 block3b_drop False\n",
            "74 block3b_add False\n",
            "75 block4a_expand_conv False\n",
            "76 block4a_expand_bn False\n",
            "77 block4a_expand_activation False\n",
            "78 block4a_dwconv_pad False\n",
            "79 block4a_dwconv False\n",
            "80 block4a_bn False\n",
            "81 block4a_activation False\n",
            "82 block4a_se_squeeze False\n",
            "83 block4a_se_reshape False\n",
            "84 block4a_se_reduce False\n",
            "85 block4a_se_expand False\n",
            "86 block4a_se_excite False\n",
            "87 block4a_project_conv False\n",
            "88 block4a_project_bn False\n",
            "89 block4b_expand_conv False\n",
            "90 block4b_expand_bn False\n",
            "91 block4b_expand_activation False\n",
            "92 block4b_dwconv False\n",
            "93 block4b_bn False\n",
            "94 block4b_activation False\n",
            "95 block4b_se_squeeze False\n",
            "96 block4b_se_reshape False\n",
            "97 block4b_se_reduce False\n",
            "98 block4b_se_expand False\n",
            "99 block4b_se_excite False\n",
            "100 block4b_project_conv False\n",
            "101 block4b_project_bn False\n",
            "102 block4b_drop False\n",
            "103 block4b_add False\n",
            "104 block4c_expand_conv False\n",
            "105 block4c_expand_bn False\n",
            "106 block4c_expand_activation False\n",
            "107 block4c_dwconv False\n",
            "108 block4c_bn False\n",
            "109 block4c_activation False\n",
            "110 block4c_se_squeeze False\n",
            "111 block4c_se_reshape False\n",
            "112 block4c_se_reduce False\n",
            "113 block4c_se_expand False\n",
            "114 block4c_se_excite False\n",
            "115 block4c_project_conv False\n",
            "116 block4c_project_bn False\n",
            "117 block4c_drop False\n",
            "118 block4c_add False\n",
            "119 block5a_expand_conv False\n",
            "120 block5a_expand_bn False\n",
            "121 block5a_expand_activation False\n",
            "122 block5a_dwconv False\n",
            "123 block5a_bn False\n",
            "124 block5a_activation False\n",
            "125 block5a_se_squeeze False\n",
            "126 block5a_se_reshape False\n",
            "127 block5a_se_reduce False\n",
            "128 block5a_se_expand False\n",
            "129 block5a_se_excite False\n",
            "130 block5a_project_conv False\n",
            "131 block5a_project_bn False\n",
            "132 block5b_expand_conv False\n",
            "133 block5b_expand_bn False\n",
            "134 block5b_expand_activation False\n",
            "135 block5b_dwconv False\n",
            "136 block5b_bn False\n",
            "137 block5b_activation False\n",
            "138 block5b_se_squeeze False\n",
            "139 block5b_se_reshape False\n",
            "140 block5b_se_reduce False\n",
            "141 block5b_se_expand False\n",
            "142 block5b_se_excite False\n",
            "143 block5b_project_conv False\n",
            "144 block5b_project_bn False\n",
            "145 block5b_drop False\n",
            "146 block5b_add False\n",
            "147 block5c_expand_conv False\n",
            "148 block5c_expand_bn False\n",
            "149 block5c_expand_activation False\n",
            "150 block5c_dwconv False\n",
            "151 block5c_bn False\n",
            "152 block5c_activation False\n",
            "153 block5c_se_squeeze False\n",
            "154 block5c_se_reshape False\n",
            "155 block5c_se_reduce False\n",
            "156 block5c_se_expand False\n",
            "157 block5c_se_excite False\n",
            "158 block5c_project_conv False\n",
            "159 block5c_project_bn False\n",
            "160 block5c_drop False\n",
            "161 block5c_add False\n",
            "162 block6a_expand_conv False\n",
            "163 block6a_expand_bn False\n",
            "164 block6a_expand_activation False\n",
            "165 block6a_dwconv_pad False\n",
            "166 block6a_dwconv False\n",
            "167 block6a_bn False\n",
            "168 block6a_activation False\n",
            "169 block6a_se_squeeze False\n",
            "170 block6a_se_reshape False\n",
            "171 block6a_se_reduce False\n",
            "172 block6a_se_expand False\n",
            "173 block6a_se_excite False\n",
            "174 block6a_project_conv False\n",
            "175 block6a_project_bn False\n",
            "176 block6b_expand_conv False\n",
            "177 block6b_expand_bn False\n",
            "178 block6b_expand_activation False\n",
            "179 block6b_dwconv False\n",
            "180 block6b_bn False\n",
            "181 block6b_activation False\n",
            "182 block6b_se_squeeze False\n",
            "183 block6b_se_reshape False\n",
            "184 block6b_se_reduce False\n",
            "185 block6b_se_expand False\n",
            "186 block6b_se_excite False\n",
            "187 block6b_project_conv False\n",
            "188 block6b_project_bn False\n",
            "189 block6b_drop False\n",
            "190 block6b_add False\n",
            "191 block6c_expand_conv False\n",
            "192 block6c_expand_bn False\n",
            "193 block6c_expand_activation False\n",
            "194 block6c_dwconv False\n",
            "195 block6c_bn False\n",
            "196 block6c_activation False\n",
            "197 block6c_se_squeeze False\n",
            "198 block6c_se_reshape False\n",
            "199 block6c_se_reduce False\n",
            "200 block6c_se_expand False\n",
            "201 block6c_se_excite False\n",
            "202 block6c_project_conv False\n",
            "203 block6c_project_bn False\n",
            "204 block6c_drop False\n",
            "205 block6c_add False\n",
            "206 block6d_expand_conv False\n",
            "207 block6d_expand_bn False\n",
            "208 block6d_expand_activation False\n",
            "209 block6d_dwconv False\n",
            "210 block6d_bn False\n",
            "211 block6d_activation False\n",
            "212 block6d_se_squeeze False\n",
            "213 block6d_se_reshape False\n",
            "214 block6d_se_reduce False\n",
            "215 block6d_se_expand False\n",
            "216 block6d_se_excite False\n",
            "217 block6d_project_conv False\n",
            "218 block6d_project_bn False\n",
            "219 block6d_drop False\n",
            "220 block6d_add False\n",
            "221 block7a_expand_conv False\n",
            "222 block7a_expand_bn False\n",
            "223 block7a_expand_activation False\n",
            "224 block7a_dwconv False\n",
            "225 block7a_bn False\n",
            "226 block7a_activation False\n",
            "227 block7a_se_squeeze True\n",
            "228 block7a_se_reshape True\n",
            "229 block7a_se_reduce True\n",
            "230 block7a_se_expand True\n",
            "231 block7a_se_excite True\n",
            "232 block7a_project_conv True\n",
            "233 block7a_project_bn True\n",
            "234 top_conv True\n",
            "235 top_bn True\n",
            "236 top_activation True\n"
          ]
        }
      ]
    },
    {
      "cell_type": "code",
      "source": [
        "#now we unfrozen some of the layers closer to the top, how many trainable variables\n",
        "print(len(model_2.trainable_variables))"
      ],
      "metadata": {
        "colab": {
          "base_uri": "https://localhost:8080/"
        },
        "id": "eDPkCkIUPEYH",
        "outputId": "5caff8dc-0769-4d9e-8663-9a96cc7c7d32"
      },
      "execution_count": 50,
      "outputs": [
        {
          "output_type": "stream",
          "name": "stdout",
          "text": [
            "12\n"
          ]
        }
      ]
    },
    {
      "cell_type": "code",
      "source": [
        "#Fine tune for another 5 epochs\n",
        "fine_tune_epochs = initial_epochs + 5\n",
        "\n",
        "#refit the model (same as model_2 except with more trainable layers)\n",
        "history_fine_10_percent_data_aug = model_2.fit(train_data_10_percent,\n",
        "                                               epochs=fine_tune_epochs,\n",
        "                                               validation_data=test_data,\n",
        "                                               validation_steps= int(0.25*len(test_data)),\n",
        "                                               initial_epoch= history_10_percent_data_aug.epoch[-1], #start training from previous last epochs\n",
        "                                               callbacks=[create_tensorboard_callback(dir_name=\"transfer_learning\",\n",
        "                                                                                      experiment_name=\"10_percent_fine_tuning_5_epochs\")])"
      ],
      "metadata": {
        "id": "gYaNnlfAQpe9",
        "colab": {
          "base_uri": "https://localhost:8080/"
        },
        "outputId": "f3ee02b2-9596-4060-bb08-6e44fbd93a61"
      },
      "execution_count": 53,
      "outputs": [
        {
          "output_type": "stream",
          "name": "stdout",
          "text": [
            "Saving TensorBoard log files to: transfer_learning/10_percent_fine_tuning_5_epochs/20220223-031701\n",
            "Epoch 5/10\n",
            "24/24 [==============================] - 18s 417ms/step - loss: 0.6945 - accuracy: 0.8067 - val_loss: 0.5742 - val_accuracy: 0.8257\n",
            "Epoch 6/10\n",
            "24/24 [==============================] - 9s 327ms/step - loss: 0.5474 - accuracy: 0.8253 - val_loss: 0.5327 - val_accuracy: 0.8355\n",
            "Epoch 7/10\n",
            "24/24 [==============================] - 8s 317ms/step - loss: 0.4900 - accuracy: 0.8493 - val_loss: 0.4911 - val_accuracy: 0.8520\n",
            "Epoch 8/10\n",
            "24/24 [==============================] - 8s 302ms/step - loss: 0.4237 - accuracy: 0.8747 - val_loss: 0.5055 - val_accuracy: 0.8405\n",
            "Epoch 9/10\n",
            "24/24 [==============================] - 8s 333ms/step - loss: 0.3990 - accuracy: 0.8707 - val_loss: 0.4941 - val_accuracy: 0.8454\n",
            "Epoch 10/10\n",
            "24/24 [==============================] - 8s 310ms/step - loss: 0.3652 - accuracy: 0.8933 - val_loss: 0.4923 - val_accuracy: 0.8470\n"
          ]
        }
      ]
    },
    {
      "cell_type": "code",
      "source": [
        "#Evalaute the fine-tuned model (model_3 which is actually model_2 fine-tuned for another 5 epochs)\n",
        "results_fine_tune_10_percent = model_2.evaluate(test_data)"
      ],
      "metadata": {
        "colab": {
          "base_uri": "https://localhost:8080/"
        },
        "id": "WlKYqy5_lFpU",
        "outputId": "ac239051-2607-43bd-d2b5-345c02a6241a"
      },
      "execution_count": 55,
      "outputs": [
        {
          "output_type": "stream",
          "name": "stdout",
          "text": [
            "79/79 [==============================] - 7s 73ms/step - loss: 0.5182 - accuracy: 0.8280\n"
          ]
        }
      ]
    },
    {
      "cell_type": "code",
      "source": [
        "plot_loss_curves(history_fine_10_percent_data_aug)"
      ],
      "metadata": {
        "colab": {
          "base_uri": "https://localhost:8080/",
          "height": 573
        },
        "id": "Ki4PVLUfmDY0",
        "outputId": "9bc72b23-7e71-448f-d916-4711506fdf2f"
      },
      "execution_count": 57,
      "outputs": [
        {
          "output_type": "display_data",
          "data": {
            "image/png": "[encoded data removed]",
            "text/plain": [
              "<Figure size 432x288 with 1 Axes>"
            ]
          },
          "metadata": {
            "needs_background": "light"
          }
        },
        {
          "output_type": "display_data",
          "data": {
            "image/png": "[encoded data removed]",
            "text/plain": [
              "<Figure size 432x288 with 1 Axes>"
            ]
          },
          "metadata": {
            "needs_background": "light"
          }
        }
      ]
    },
    {
      "cell_type": "markdown",
      "source": [
        "The plot_loss_curves function works great with models which have only been fit once, however, we want something to compare one series of running fit() with another (e.g before and after fine-tuning)"
      ],
      "metadata": {
        "id": "7uryFqs9mKu0"
      }
    },
    {
      "cell_type": "code",
      "source": [
        "#Lets create a function to compare training histories\n",
        "def compare_history(original_history, new_history, initial_epochs=5):\n",
        "  \"\"\"\n",
        "  Compares two tensorflow history objects\n",
        "  \"\"\"\n",
        "\n",
        "  #get original history measurements\n",
        "  acc = original_history.history[\"accuracy\"]\n",
        "  loss = original_history.history[\"loss\"]\n",
        "\n",
        "  val_acc = original_history.history[\"val_accuracy\"]\n",
        "  val_loss = original_history.history[\"val_loss\"]\n",
        "\n",
        "  #combine original history metrics with new_history metrics\n",
        "  total_acc = acc + new_history.history[\"accuracy\"]\n",
        "  total_loss = loss + new_history.history[\"loss\"]\n",
        "\n",
        "  total_val_acc = val_acc + new_history.history[\"val_accuracy\"]\n",
        "  total_val_loss = val_loss + new_history.history[\"val_loss\"]\n",
        "\n",
        "  #make plots accuracy\n",
        "  plt.figure(figsize= (8,8))\n",
        "  plt.subplot(2,1,1)\n",
        "  plt.plot(total_acc, label=\"Training Accuracy\")\n",
        "  plt.plot(total_val_acc, label=\"Val Accuracy\")\n",
        "  plt.plot([initial_epochs-1, initial_epochs-1], plt.ylim(), label=\"Start Fine Tuning\")\n",
        "  plt.legend(loc=\"lower right\")\n",
        "  plt.title(\"Training and validation accuracy\")\n",
        "\n",
        "  #make plots loss\n",
        "  plt.figure(figsize= (8,8))\n",
        "  plt.subplot(2,1,2)\n",
        "  plt.plot(total_loss, label=\"Training Loss\")\n",
        "  plt.plot(total_val_loss, label=\"Val Loss\")\n",
        "  plt.plot([initial_epochs-1, initial_epochs-1], plt.ylim(), label=\"Start Fine Tuning\")\n",
        "  plt.legend(loc=\"upper right\")\n",
        "  plt.title(\"Training and validation loss\")\n"
      ],
      "metadata": {
        "id": "54WxiXSYnchc"
      },
      "execution_count": 67,
      "outputs": []
    },
    {
      "cell_type": "code",
      "source": [
        "compare_history(history_10_percent_data_aug,\n",
        "                 history_fine_10_percent_data_aug,\n",
        "                 initial_epochs=5)"
      ],
      "metadata": {
        "colab": {
          "base_uri": "https://localhost:8080/",
          "height": 507
        },
        "id": "FctTC5AopQnm",
        "outputId": "12e60ba0-26fd-4f85-e1d7-4ea4eeb2d3b5"
      },
      "execution_count": 68,
      "outputs": [
        {
          "output_type": "display_data",
          "data": {
            "image/png": "[encoded data removed]",
            "text/plain": [
              "<Figure size 576x576 with 1 Axes>"
            ]
          },
          "metadata": {
            "needs_background": "light"
          }
        },
        {
          "output_type": "display_data",
          "data": {
            "image/png": "[encoded data removed]",
            "text/plain": [
              "<Figure size 576x576 with 1 Axes>"
            ]
          },
          "metadata": {
            "needs_background": "light"
          }
        }
      ]
    },
    {
      "cell_type": "markdown",
      "source": [
        "## Model 4: Fine-tune an existing model on all of the data\n"
      ],
      "metadata": {
        "id": "zFitN2YMphBI"
      }
    },
    {
      "cell_type": "code",
      "source": [
        "#Download and unzip 10 classes of Food101 data with all images\n",
        "!wget https://storage.googleapis.com/ztm_tf_course/food_vision/10_food_classes_all_data.zip\n",
        "unzip_data(\"10_food_classes_all_data.zip\")"
      ],
      "metadata": {
        "colab": {
          "base_uri": "https://localhost:8080/"
        },
        "id": "FVjeq_q-s6pV",
        "outputId": "7fe84a34-1371-4692-f4b0-ddbb432a0207"
      },
      "execution_count": 69,
      "outputs": [
        {
          "output_type": "stream",
          "name": "stdout",
          "text": [
            "--2022-02-23 03:51:14--  https://storage.googleapis.com/ztm_tf_course/food_vision/10_food_classes_all_data.zip\n",
            "Resolving storage.googleapis.com (storage.googleapis.com)... 172.217.13.240, 172.217.164.176, 172.217.2.112, ...\n",
            "Connecting to storage.googleapis.com (storage.googleapis.com)|172.217.13.240|:443... connected.\n",
            "HTTP request sent, awaiting response... 200 OK\n",
            "Length: 519183241 (495M) [application/zip]\n",
            "Saving to: ‘10_food_classes_all_data.zip’\n",
            "\n",
            "10_food_classes_all 100%[===================>] 495.13M  55.4MB/s    in 11s     \n",
            "\n",
            "2022-02-23 03:51:24 (46.9 MB/s) - ‘10_food_classes_all_data.zip’ saved [519183241/519183241]\n",
            "\n"
          ]
        }
      ]
    },
    {
      "cell_type": "code",
      "source": [
        "#setup training and test dir\n",
        "train_dir_all_data = \"10_food_classes_all_data/train\"\n",
        "test_dir_all_data = \"10_food_classes_all_data/test\""
      ],
      "metadata": {
        "id": "dr0i3kxctFPU"
      },
      "execution_count": 70,
      "outputs": []
    },
    {
      "cell_type": "code",
      "source": [
        "#how many images are we working now?\n",
        "walk_through_dir(\"10_food_classes_all_data\")"
      ],
      "metadata": {
        "colab": {
          "base_uri": "https://localhost:8080/"
        },
        "id": "vvMLPlTutZxv",
        "outputId": "2b488969-a097-4528-dcc0-3b8263b2d635"
      },
      "execution_count": 71,
      "outputs": [
        {
          "output_type": "stream",
          "name": "stdout",
          "text": [
            "There are 2 directories and 0 images in '10_food_classes_all_data'.\n",
            "There are 10 directories and 0 images in '10_food_classes_all_data/train'.\n",
            "There are 0 directories and 750 images in '10_food_classes_all_data/train/chicken_wings'.\n",
            "There are 0 directories and 750 images in '10_food_classes_all_data/train/hamburger'.\n",
            "There are 0 directories and 750 images in '10_food_classes_all_data/train/ice_cream'.\n",
            "There are 0 directories and 750 images in '10_food_classes_all_data/train/pizza'.\n",
            "There are 0 directories and 750 images in '10_food_classes_all_data/train/ramen'.\n",
            "There are 0 directories and 750 images in '10_food_classes_all_data/train/grilled_salmon'.\n",
            "There are 0 directories and 750 images in '10_food_classes_all_data/train/sushi'.\n",
            "There are 0 directories and 750 images in '10_food_classes_all_data/train/fried_rice'.\n",
            "There are 0 directories and 750 images in '10_food_classes_all_data/train/steak'.\n",
            "There are 0 directories and 750 images in '10_food_classes_all_data/train/chicken_curry'.\n",
            "There are 10 directories and 0 images in '10_food_classes_all_data/test'.\n",
            "There are 0 directories and 250 images in '10_food_classes_all_data/test/chicken_wings'.\n",
            "There are 0 directories and 250 images in '10_food_classes_all_data/test/hamburger'.\n",
            "There are 0 directories and 250 images in '10_food_classes_all_data/test/ice_cream'.\n",
            "There are 0 directories and 250 images in '10_food_classes_all_data/test/pizza'.\n",
            "There are 0 directories and 250 images in '10_food_classes_all_data/test/ramen'.\n",
            "There are 0 directories and 250 images in '10_food_classes_all_data/test/grilled_salmon'.\n",
            "There are 0 directories and 250 images in '10_food_classes_all_data/test/sushi'.\n",
            "There are 0 directories and 250 images in '10_food_classes_all_data/test/fried_rice'.\n",
            "There are 0 directories and 250 images in '10_food_classes_all_data/test/steak'.\n",
            "There are 0 directories and 250 images in '10_food_classes_all_data/test/chicken_curry'.\n"
          ]
        }
      ]
    },
    {
      "cell_type": "code",
      "source": [
        "#setup data inputs\n",
        "import tensorflow as tf\n",
        "IMG_SIZE=(224,224)\n",
        "train_data_10_classes_full=tf.keras.preprocessing.image_dataset_from_directory(train_dir_all_data,\n",
        "                                                                               label_mode=\"categorical\",\n",
        "                                                                               image_size=IMG_SIZE)\n",
        "\n",
        "test_data_full= tf.keras.preprocessing.image_dataset_from_directory(test_dir_all_data,\n",
        "                                                                    label_mode=\"categorical\",\n",
        "                                                                    image_size=IMG_SIZE)"
      ],
      "metadata": {
        "colab": {
          "base_uri": "https://localhost:8080/"
        },
        "id": "fzerNiTIthwI",
        "outputId": "00967806-8c69-4efa-b8d2-6efa5ebaa3fd"
      },
      "execution_count": 73,
      "outputs": [
        {
          "output_type": "stream",
          "name": "stdout",
          "text": [
            "Found 7500 files belonging to 10 classes.\n",
            "Found 2500 files belonging to 10 classes.\n"
          ]
        }
      ]
    },
    {
      "cell_type": "markdown",
      "source": [
        "The test dataset we hav loaded in is the same as what we have been using for previos experiments. \n",
        "Lets verify this."
      ],
      "metadata": {
        "id": "W0Wc_o5YuneF"
      }
    },
    {
      "cell_type": "code",
      "source": [
        "#Evaluate model_2 (this is the fine-tuned on 1- percent of data version)\n",
        "model_2.evaluate(test_data)"
      ],
      "metadata": {
        "colab": {
          "base_uri": "https://localhost:8080/"
        },
        "id": "i7vNhu19vLqp",
        "outputId": "a266c8c5-f83a-4703-af1d-d5f35c9be650"
      },
      "execution_count": 75,
      "outputs": [
        {
          "output_type": "stream",
          "name": "stdout",
          "text": [
            "79/79 [==============================] - 8s 82ms/step - loss: 0.5182 - accuracy: 0.8280\n"
          ]
        },
        {
          "output_type": "execute_result",
          "data": {
            "text/plain": [
              "[0.5182123780250549, 0.828000009059906]"
            ]
          },
          "metadata": {},
          "execution_count": 75
        }
      ]
    },
    {
      "cell_type": "code",
      "source": [
        "results_fine_tune_10_percent"
      ],
      "metadata": {
        "colab": {
          "base_uri": "https://localhost:8080/"
        },
        "id": "zRKeHImVvVpg",
        "outputId": "2e7bf9dc-f94f-46c7-dbe8-c0f20711971f"
      },
      "execution_count": 76,
      "outputs": [
        {
          "output_type": "execute_result",
          "data": {
            "text/plain": [
              "[0.5182123780250549, 0.828000009059906]"
            ]
          },
          "metadata": {},
          "execution_count": 76
        }
      ]
    },
    {
      "cell_type": "markdown",
      "source": [
        "To train a fine-tuning model (model_4) we need to revert model_2 back to its feature extraction weigths."
      ],
      "metadata": {
        "id": "H3dNDvc7viL_"
      }
    },
    {
      "cell_type": "code",
      "source": [
        "\"\"\"\n",
        "Load weights from checkpoint, that way we can fine-tune from the same stage the\n",
        "10 percent model was fine-tunes from.\n",
        "\"\"\"\n",
        "model_2.load_weights(checkpoint_path)"
      ],
      "metadata": {
        "colab": {
          "base_uri": "https://localhost:8080/"
        },
        "id": "DzHg7RJ3vaWO",
        "outputId": "eb412c6c-ddf7-45b2-f1aa-07d115d404a8"
      },
      "execution_count": 81,
      "outputs": [
        {
          "output_type": "execute_result",
          "data": {
            "text/plain": [
              "<tensorflow.python.training.tracking.util.CheckpointLoadStatus at 0x7fc310e6d550>"
            ]
          },
          "metadata": {},
          "execution_count": 81
        }
      ]
    },
    {
      "cell_type": "code",
      "source": [
        "#lets evaluate model_2\n",
        "model_2.evaluate(test_data)"
      ],
      "metadata": {
        "colab": {
          "base_uri": "https://localhost:8080/"
        },
        "id": "Ga7KgNepv6nQ",
        "outputId": "0f6d397b-d34a-474c-c0f8-a4925ebf0209"
      },
      "execution_count": 83,
      "outputs": [
        {
          "output_type": "stream",
          "name": "stdout",
          "text": [
            "79/79 [==============================] - 7s 83ms/step - loss: 0.7044 - accuracy: 0.8156\n"
          ]
        },
        {
          "output_type": "execute_result",
          "data": {
            "text/plain": [
              "[0.7044045925140381, 0.8155999779701233]"
            ]
          },
          "metadata": {},
          "execution_count": 83
        }
      ]
    },
    {
      "cell_type": "code",
      "source": [
        "#check to see if our model_2 has been reverted back to feature extraction results\n",
        "results_10_percent_data_aug"
      ],
      "metadata": {
        "colab": {
          "base_uri": "https://localhost:8080/"
        },
        "id": "X7nsHzAQwuOP",
        "outputId": "633f9b15-8827-4194-958a-51961cbe9dc5"
      },
      "execution_count": 84,
      "outputs": [
        {
          "output_type": "execute_result",
          "data": {
            "text/plain": [
              "[0.7044047117233276, 0.8155999779701233]"
            ]
          },
          "metadata": {},
          "execution_count": 84
        }
      ]
    },
    {
      "cell_type": "markdown",
      "source": [
        "Alright, the previous steps might seem quite confusing but all we have done is:\n",
        "\n",
        "1. Trained a feature extraction transfer learning model for 5 epochs on 10% of the data with data augmentation (model_2) and we saved the model's weights using 'ModelCheckpoint' callback. \n",
        "\n",
        "2. Fine-tuned the same model on the same 10% of the data for a further 5 epoochs with top 10 layers of the base model unfrozen (model_3).\n",
        "\n",
        "3. Saved the results and training logs each time.\n",
        "\n",
        "4. Reloaded the model from step 1 to do the same steps as step 2 except this time we are going to use all of the data (model_4)."
      ],
      "metadata": {
        "id": "iWo_Ph92w4Gv"
      }
    },
    {
      "cell_type": "code",
      "source": [
        "#check which layers are tunable in the whole model\n",
        "for layer_number, layer in enumerate(model_2.layers):\n",
        "  print(layer_number, layer.name, layer.trainable)"
      ],
      "metadata": {
        "colab": {
          "base_uri": "https://localhost:8080/"
        },
        "id": "iWNcKSIqyDl8",
        "outputId": "22255a7c-7b74-4b3a-e57c-c1e899e8bf4c"
      },
      "execution_count": 85,
      "outputs": [
        {
          "output_type": "stream",
          "name": "stdout",
          "text": [
            "0 input_layer True\n",
            "1 data_augmentation True\n",
            "2 efficientnetb0 True\n",
            "3 global_average_pooling_2D True\n",
            "4 output_layer True\n"
          ]
        }
      ]
    },
    {
      "cell_type": "code",
      "source": [
        "#Let's drill into our base_model (efficientnetb0) and see what layers are trainable\n",
        "for layer_number, layer in enumerate(model_2.layers[2].layers):\n",
        "  print(layer_number, layer.name, layer.trainable)"
      ],
      "metadata": {
        "colab": {
          "base_uri": "https://localhost:8080/"
        },
        "id": "oA-JSsuIycS1",
        "outputId": "c0491fa8-4371-40d9-e204-b221134b6c3a"
      },
      "execution_count": 88,
      "outputs": [
        {
          "output_type": "stream",
          "name": "stdout",
          "text": [
            "0 input_3 False\n",
            "1 rescaling_2 False\n",
            "2 normalization_2 False\n",
            "3 stem_conv_pad False\n",
            "4 stem_conv False\n",
            "5 stem_bn False\n",
            "6 stem_activation False\n",
            "7 block1a_dwconv False\n",
            "8 block1a_bn False\n",
            "9 block1a_activation False\n",
            "10 block1a_se_squeeze False\n",
            "11 block1a_se_reshape False\n",
            "12 block1a_se_reduce False\n",
            "13 block1a_se_expand False\n",
            "14 block1a_se_excite False\n",
            "15 block1a_project_conv False\n",
            "16 block1a_project_bn False\n",
            "17 block2a_expand_conv False\n",
            "18 block2a_expand_bn False\n",
            "19 block2a_expand_activation False\n",
            "20 block2a_dwconv_pad False\n",
            "21 block2a_dwconv False\n",
            "22 block2a_bn False\n",
            "23 block2a_activation False\n",
            "24 block2a_se_squeeze False\n",
            "25 block2a_se_reshape False\n",
            "26 block2a_se_reduce False\n",
            "27 block2a_se_expand False\n",
            "28 block2a_se_excite False\n",
            "29 block2a_project_conv False\n",
            "30 block2a_project_bn False\n",
            "31 block2b_expand_conv False\n",
            "32 block2b_expand_bn False\n",
            "33 block2b_expand_activation False\n",
            "34 block2b_dwconv False\n",
            "35 block2b_bn False\n",
            "36 block2b_activation False\n",
            "37 block2b_se_squeeze False\n",
            "38 block2b_se_reshape False\n",
            "39 block2b_se_reduce False\n",
            "40 block2b_se_expand False\n",
            "41 block2b_se_excite False\n",
            "42 block2b_project_conv False\n",
            "43 block2b_project_bn False\n",
            "44 block2b_drop False\n",
            "45 block2b_add False\n",
            "46 block3a_expand_conv False\n",
            "47 block3a_expand_bn False\n",
            "48 block3a_expand_activation False\n",
            "49 block3a_dwconv_pad False\n",
            "50 block3a_dwconv False\n",
            "51 block3a_bn False\n",
            "52 block3a_activation False\n",
            "53 block3a_se_squeeze False\n",
            "54 block3a_se_reshape False\n",
            "55 block3a_se_reduce False\n",
            "56 block3a_se_expand False\n",
            "57 block3a_se_excite False\n",
            "58 block3a_project_conv False\n",
            "59 block3a_project_bn False\n",
            "60 block3b_expand_conv False\n",
            "61 block3b_expand_bn False\n",
            "62 block3b_expand_activation False\n",
            "63 block3b_dwconv False\n",
            "64 block3b_bn False\n",
            "65 block3b_activation False\n",
            "66 block3b_se_squeeze False\n",
            "67 block3b_se_reshape False\n",
            "68 block3b_se_reduce False\n",
            "69 block3b_se_expand False\n",
            "70 block3b_se_excite False\n",
            "71 block3b_project_conv False\n",
            "72 block3b_project_bn False\n",
            "73 block3b_drop False\n",
            "74 block3b_add False\n",
            "75 block4a_expand_conv False\n",
            "76 block4a_expand_bn False\n",
            "77 block4a_expand_activation False\n",
            "78 block4a_dwconv_pad False\n",
            "79 block4a_dwconv False\n",
            "80 block4a_bn False\n",
            "81 block4a_activation False\n",
            "82 block4a_se_squeeze False\n",
            "83 block4a_se_reshape False\n",
            "84 block4a_se_reduce False\n",
            "85 block4a_se_expand False\n",
            "86 block4a_se_excite False\n",
            "87 block4a_project_conv False\n",
            "88 block4a_project_bn False\n",
            "89 block4b_expand_conv False\n",
            "90 block4b_expand_bn False\n",
            "91 block4b_expand_activation False\n",
            "92 block4b_dwconv False\n",
            "93 block4b_bn False\n",
            "94 block4b_activation False\n",
            "95 block4b_se_squeeze False\n",
            "96 block4b_se_reshape False\n",
            "97 block4b_se_reduce False\n",
            "98 block4b_se_expand False\n",
            "99 block4b_se_excite False\n",
            "100 block4b_project_conv False\n",
            "101 block4b_project_bn False\n",
            "102 block4b_drop False\n",
            "103 block4b_add False\n",
            "104 block4c_expand_conv False\n",
            "105 block4c_expand_bn False\n",
            "106 block4c_expand_activation False\n",
            "107 block4c_dwconv False\n",
            "108 block4c_bn False\n",
            "109 block4c_activation False\n",
            "110 block4c_se_squeeze False\n",
            "111 block4c_se_reshape False\n",
            "112 block4c_se_reduce False\n",
            "113 block4c_se_expand False\n",
            "114 block4c_se_excite False\n",
            "115 block4c_project_conv False\n",
            "116 block4c_project_bn False\n",
            "117 block4c_drop False\n",
            "118 block4c_add False\n",
            "119 block5a_expand_conv False\n",
            "120 block5a_expand_bn False\n",
            "121 block5a_expand_activation False\n",
            "122 block5a_dwconv False\n",
            "123 block5a_bn False\n",
            "124 block5a_activation False\n",
            "125 block5a_se_squeeze False\n",
            "126 block5a_se_reshape False\n",
            "127 block5a_se_reduce False\n",
            "128 block5a_se_expand False\n",
            "129 block5a_se_excite False\n",
            "130 block5a_project_conv False\n",
            "131 block5a_project_bn False\n",
            "132 block5b_expand_conv False\n",
            "133 block5b_expand_bn False\n",
            "134 block5b_expand_activation False\n",
            "135 block5b_dwconv False\n",
            "136 block5b_bn False\n",
            "137 block5b_activation False\n",
            "138 block5b_se_squeeze False\n",
            "139 block5b_se_reshape False\n",
            "140 block5b_se_reduce False\n",
            "141 block5b_se_expand False\n",
            "142 block5b_se_excite False\n",
            "143 block5b_project_conv False\n",
            "144 block5b_project_bn False\n",
            "145 block5b_drop False\n",
            "146 block5b_add False\n",
            "147 block5c_expand_conv False\n",
            "148 block5c_expand_bn False\n",
            "149 block5c_expand_activation False\n",
            "150 block5c_dwconv False\n",
            "151 block5c_bn False\n",
            "152 block5c_activation False\n",
            "153 block5c_se_squeeze False\n",
            "154 block5c_se_reshape False\n",
            "155 block5c_se_reduce False\n",
            "156 block5c_se_expand False\n",
            "157 block5c_se_excite False\n",
            "158 block5c_project_conv False\n",
            "159 block5c_project_bn False\n",
            "160 block5c_drop False\n",
            "161 block5c_add False\n",
            "162 block6a_expand_conv False\n",
            "163 block6a_expand_bn False\n",
            "164 block6a_expand_activation False\n",
            "165 block6a_dwconv_pad False\n",
            "166 block6a_dwconv False\n",
            "167 block6a_bn False\n",
            "168 block6a_activation False\n",
            "169 block6a_se_squeeze False\n",
            "170 block6a_se_reshape False\n",
            "171 block6a_se_reduce False\n",
            "172 block6a_se_expand False\n",
            "173 block6a_se_excite False\n",
            "174 block6a_project_conv False\n",
            "175 block6a_project_bn False\n",
            "176 block6b_expand_conv False\n",
            "177 block6b_expand_bn False\n",
            "178 block6b_expand_activation False\n",
            "179 block6b_dwconv False\n",
            "180 block6b_bn False\n",
            "181 block6b_activation False\n",
            "182 block6b_se_squeeze False\n",
            "183 block6b_se_reshape False\n",
            "184 block6b_se_reduce False\n",
            "185 block6b_se_expand False\n",
            "186 block6b_se_excite False\n",
            "187 block6b_project_conv False\n",
            "188 block6b_project_bn False\n",
            "189 block6b_drop False\n",
            "190 block6b_add False\n",
            "191 block6c_expand_conv False\n",
            "192 block6c_expand_bn False\n",
            "193 block6c_expand_activation False\n",
            "194 block6c_dwconv False\n",
            "195 block6c_bn False\n",
            "196 block6c_activation False\n",
            "197 block6c_se_squeeze False\n",
            "198 block6c_se_reshape False\n",
            "199 block6c_se_reduce False\n",
            "200 block6c_se_expand False\n",
            "201 block6c_se_excite False\n",
            "202 block6c_project_conv False\n",
            "203 block6c_project_bn False\n",
            "204 block6c_drop False\n",
            "205 block6c_add False\n",
            "206 block6d_expand_conv False\n",
            "207 block6d_expand_bn False\n",
            "208 block6d_expand_activation False\n",
            "209 block6d_dwconv False\n",
            "210 block6d_bn False\n",
            "211 block6d_activation False\n",
            "212 block6d_se_squeeze False\n",
            "213 block6d_se_reshape False\n",
            "214 block6d_se_reduce False\n",
            "215 block6d_se_expand False\n",
            "216 block6d_se_excite False\n",
            "217 block6d_project_conv False\n",
            "218 block6d_project_bn False\n",
            "219 block6d_drop False\n",
            "220 block6d_add False\n",
            "221 block7a_expand_conv False\n",
            "222 block7a_expand_bn False\n",
            "223 block7a_expand_activation False\n",
            "224 block7a_dwconv False\n",
            "225 block7a_bn False\n",
            "226 block7a_activation False\n",
            "227 block7a_se_squeeze True\n",
            "228 block7a_se_reshape True\n",
            "229 block7a_se_reduce True\n",
            "230 block7a_se_expand True\n",
            "231 block7a_se_excite True\n",
            "232 block7a_project_conv True\n",
            "233 block7a_project_bn True\n",
            "234 top_conv True\n",
            "235 top_bn True\n",
            "236 top_activation True\n"
          ]
        }
      ]
    },
    {
      "cell_type": "code",
      "source": [
        ""
      ],
      "metadata": {
        "id": "IqpGTDp6yzWa"
      },
      "execution_count": null,
      "outputs": []
    }
  ]
}