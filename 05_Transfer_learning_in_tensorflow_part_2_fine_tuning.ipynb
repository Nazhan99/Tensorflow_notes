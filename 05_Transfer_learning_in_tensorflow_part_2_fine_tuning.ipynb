{
  "nbformat": 4,
  "nbformat_minor": 0,
  "metadata": {
    "colab": {
      "name": "05_Transfer_learning_in_tensorflow_part_2_fine_tuning.ipynb",
      "provenance": [],
      "authorship_tag": "ABX9TyNv8E4vFyYFwv94ZriU4JL3",
      "include_colab_link": true
    },
    "kernelspec": {
      "name": "python3",
      "display_name": "Python 3"
    },
    "language_info": {
      "name": "python"
    },
    "accelerator": "GPU"
  },
  "cells": [
    {
      "cell_type": "markdown",
      "metadata": {
        "id": "view-in-github",
        "colab_type": "text"
      },
      "source": [
        "<a href=\"https://colab.research.google.com/github/Nazhan99/Tensorflow_notes/blob/main/05_Transfer_learning_in_tensorflow_part_2_fine_tuning.ipynb\" target=\"_parent\"><img src=\"https://colab.research.google.com/assets/colab-badge.svg\" alt=\"Open In Colab\"/></a>"
      ]
    },
    {
      "cell_type": "markdown",
      "source": [
        "#Transfer learning with TensorFlow part 2: Fine-Tuning"
      ],
      "metadata": {
        "id": "xOFs5gcQ9zZd"
      }
    },
    {
      "cell_type": "code",
      "source": [
        "!nvidia-smi"
      ],
      "metadata": {
        "colab": {
          "base_uri": "https://localhost:8080/"
        },
        "id": "54PwqU-O-Sq0",
        "outputId": "bb2fd009-eb60-4e16-e11a-f2cb23c50db1"
      },
      "execution_count": 1,
      "outputs": [
        {
          "output_type": "stream",
          "name": "stdout",
          "text": [
            "Sun Feb 20 02:32:51 2022       \n",
            "+-----------------------------------------------------------------------------+\n",
            "| NVIDIA-SMI 460.32.03    Driver Version: 460.32.03    CUDA Version: 11.2     |\n",
            "|-------------------------------+----------------------+----------------------+\n",
            "| GPU  Name        Persistence-M| Bus-Id        Disp.A | Volatile Uncorr. ECC |\n",
            "| Fan  Temp  Perf  Pwr:Usage/Cap|         Memory-Usage | GPU-Util  Compute M. |\n",
            "|                               |                      |               MIG M. |\n",
            "|===============================+======================+======================|\n",
            "|   0  Tesla K80           Off  | 00000000:00:04.0 Off |                    0 |\n",
            "| N/A   72C    P8    33W / 149W |      0MiB / 11441MiB |      0%      Default |\n",
            "|                               |                      |                  N/A |\n",
            "+-------------------------------+----------------------+----------------------+\n",
            "                                                                               \n",
            "+-----------------------------------------------------------------------------+\n",
            "| Processes:                                                                  |\n",
            "|  GPU   GI   CI        PID   Type   Process name                  GPU Memory |\n",
            "|        ID   ID                                                   Usage      |\n",
            "|=============================================================================|\n",
            "|  No running processes found                                                 |\n",
            "+-----------------------------------------------------------------------------+\n"
          ]
        }
      ]
    },
    {
      "cell_type": "markdown",
      "source": [
        "#Creating helper function"
      ],
      "metadata": {
        "id": "92cvyEN_-Up8"
      }
    },
    {
      "cell_type": "code",
      "source": [
        "!wget https://raw.githubusercontent.com/mrdbourke/tensorflow-deep-learning/main/extras/helper_functions.py"
      ],
      "metadata": {
        "colab": {
          "base_uri": "https://localhost:8080/"
        },
        "id": "VhibNF6C-cR6",
        "outputId": "90c8ac74-9396-40e1-c7cb-8dfb1b48e459"
      },
      "execution_count": 3,
      "outputs": [
        {
          "output_type": "stream",
          "name": "stdout",
          "text": [
            "--2022-02-20 02:35:03--  https://raw.githubusercontent.com/mrdbourke/tensorflow-deep-learning/main/extras/helper_functions.py\n",
            "Resolving raw.githubusercontent.com (raw.githubusercontent.com)... 185.199.108.133, 185.199.109.133, 185.199.110.133, ...\n",
            "Connecting to raw.githubusercontent.com (raw.githubusercontent.com)|185.199.108.133|:443... connected.\n",
            "HTTP request sent, awaiting response... 200 OK\n",
            "Length: 10246 (10K) [text/plain]\n",
            "Saving to: ‘helper_functions.py’\n",
            "\n",
            "\rhelper_functions.py   0%[                    ]       0  --.-KB/s               \rhelper_functions.py 100%[===================>]  10.01K  --.-KB/s    in 0s      \n",
            "\n",
            "2022-02-20 02:35:04 (44.6 MB/s) - ‘helper_functions.py’ saved [10246/10246]\n",
            "\n"
          ]
        }
      ]
    },
    {
      "cell_type": "code",
      "source": [
        "#import helper function we are going to use in this notebook\n",
        "from helper_functions import create_tensorboard_callback, plot_loss_curves, unzip_data,  walk_through_dir"
      ],
      "metadata": {
        "id": "flC9-RaB-4QB"
      },
      "execution_count": 4,
      "outputs": []
    },
    {
      "cell_type": "markdown",
      "source": [
        ">if you are running this notebook in Google colab, when it times out colab will delete \"helper_function\"."
      ],
      "metadata": {
        "id": "ZYMA-fAY_aXk"
      }
    },
    {
      "cell_type": "markdown",
      "source": [
        "## Get some data\n",
        "\n",
        "use pretrained model using tf.keras.application and apply them to our own probelm (recognizing images of food)."
      ],
      "metadata": {
        "id": "xbwtCo4g_X6r"
      }
    },
    {
      "cell_type": "code",
      "source": [
        "# get 10% of training data of 10 fooc classes\n",
        "!wget https://storage.googleapis.com/ztm_tf_course/food_vision/10_food_classes_10_percent.zip\n",
        "\n",
        "unzip_data(\"10_food_classes_10_percent.zip\")"
      ],
      "metadata": {
        "colab": {
          "base_uri": "https://localhost:8080/"
        },
        "id": "tLL1OoTc_zfs",
        "outputId": "1db60cf9-66ba-4de6-ccdf-e8660e1a1e30"
      },
      "execution_count": 6,
      "outputs": [
        {
          "output_type": "stream",
          "name": "stdout",
          "text": [
            "--2022-02-20 02:42:21--  https://storage.googleapis.com/ztm_tf_course/food_vision/10_food_classes_10_percent.zip\n",
            "Resolving storage.googleapis.com (storage.googleapis.com)... 74.125.133.128, 74.125.140.128, 108.177.15.128, ...\n",
            "Connecting to storage.googleapis.com (storage.googleapis.com)|74.125.133.128|:443... connected.\n",
            "HTTP request sent, awaiting response... 200 OK\n",
            "Length: 168546183 (161M) [application/zip]\n",
            "Saving to: ‘10_food_classes_10_percent.zip.1’\n",
            "\n",
            "10_food_classes_10_ 100%[===================>] 160.74M  95.8MB/s    in 1.7s    \n",
            "\n",
            "2022-02-20 02:42:23 (95.8 MB/s) - ‘10_food_classes_10_percent.zip.1’ saved [168546183/168546183]\n",
            "\n"
          ]
        }
      ]
    },
    {
      "cell_type": "code",
      "source": [
        "#check out how many images and subdirectories are in our dataset\n",
        "walk_through_dir(\"10_food_classes_10_percent\")"
      ],
      "metadata": {
        "colab": {
          "base_uri": "https://localhost:8080/"
        },
        "id": "syL04aOfAfOi",
        "outputId": "6043288f-1b4a-46c2-f645-339080242b0c"
      },
      "execution_count": 8,
      "outputs": [
        {
          "output_type": "stream",
          "name": "stdout",
          "text": [
            "There are 2 directories and 0 images in '10_food_classes_10_percent'.\n",
            "There are 10 directories and 0 images in '10_food_classes_10_percent/train'.\n",
            "There are 0 directories and 75 images in '10_food_classes_10_percent/train/pizza'.\n",
            "There are 0 directories and 75 images in '10_food_classes_10_percent/train/fried_rice'.\n",
            "There are 0 directories and 75 images in '10_food_classes_10_percent/train/grilled_salmon'.\n",
            "There are 0 directories and 75 images in '10_food_classes_10_percent/train/hamburger'.\n",
            "There are 0 directories and 75 images in '10_food_classes_10_percent/train/steak'.\n",
            "There are 0 directories and 75 images in '10_food_classes_10_percent/train/sushi'.\n",
            "There are 0 directories and 75 images in '10_food_classes_10_percent/train/chicken_wings'.\n",
            "There are 0 directories and 75 images in '10_food_classes_10_percent/train/ramen'.\n",
            "There are 0 directories and 75 images in '10_food_classes_10_percent/train/ice_cream'.\n",
            "There are 0 directories and 75 images in '10_food_classes_10_percent/train/chicken_curry'.\n",
            "There are 10 directories and 0 images in '10_food_classes_10_percent/test'.\n",
            "There are 0 directories and 250 images in '10_food_classes_10_percent/test/pizza'.\n",
            "There are 0 directories and 250 images in '10_food_classes_10_percent/test/fried_rice'.\n",
            "There are 0 directories and 250 images in '10_food_classes_10_percent/test/grilled_salmon'.\n",
            "There are 0 directories and 250 images in '10_food_classes_10_percent/test/hamburger'.\n",
            "There are 0 directories and 250 images in '10_food_classes_10_percent/test/steak'.\n",
            "There are 0 directories and 250 images in '10_food_classes_10_percent/test/sushi'.\n",
            "There are 0 directories and 250 images in '10_food_classes_10_percent/test/chicken_wings'.\n",
            "There are 0 directories and 250 images in '10_food_classes_10_percent/test/ramen'.\n",
            "There are 0 directories and 250 images in '10_food_classes_10_percent/test/ice_cream'.\n",
            "There are 0 directories and 250 images in '10_food_classes_10_percent/test/chicken_curry'.\n"
          ]
        }
      ]
    },
    {
      "cell_type": "code",
      "source": [
        "#create training and test directories paths\n",
        "train_dir=\"10_food_classes_10_percent/train\"\n",
        "test_dir=\"10_food_classes_10_percent/test\"\n"
      ],
      "metadata": {
        "id": "a8r9CYjHAr_x"
      },
      "execution_count": 9,
      "outputs": []
    },
    {
      "cell_type": "code",
      "source": [
        "import tensorflow as tf\n",
        "\n",
        "IMG_SIZE=(224,224)\n",
        "BATCH_SIZE=32\n",
        "\n",
        "train_data_10_percent= tf.keras.preprocessing.image_dataset_from_directory(directory=train_dir,\n",
        "                                                                           image_size=IMG_SIZE,\n",
        "                                                                           label_mode=\"categorical\",\n",
        "                                                                           batch_size=BATCH_SIZE)\n",
        "\n",
        "test_data_10_percent= tf.keras.preprocessing.image_dataset_from_directory(directory=test_dir,\n",
        "                                                                          image_size=IMG_SIZE,\n",
        "                                                                          label_mode=\"categorical\",\n",
        "                                                                          batch_size=BATCH_SIZE)"
      ],
      "metadata": {
        "colab": {
          "base_uri": "https://localhost:8080/"
        },
        "id": "jHXrbXttBH0W",
        "outputId": "2152e50a-1e52-4c4f-a17f-0109fb9e5784"
      },
      "execution_count": 12,
      "outputs": [
        {
          "output_type": "stream",
          "name": "stdout",
          "text": [
            "Found 750 files belonging to 10 classes.\n",
            "Found 2500 files belonging to 10 classes.\n"
          ]
        }
      ]
    },
    {
      "cell_type": "code",
      "source": [
        "train_data_10_percent"
      ],
      "metadata": {
        "colab": {
          "base_uri": "https://localhost:8080/"
        },
        "id": "IbaolL4XB39j",
        "outputId": "4d7cb189-8556-4579-bce8-90abccbcba47"
      },
      "execution_count": 13,
      "outputs": [
        {
          "output_type": "execute_result",
          "data": {
            "text/plain": [
              "<BatchDataset element_spec=(TensorSpec(shape=(None, 224, 224, 3), dtype=tf.float32, name=None), TensorSpec(shape=(None, 10), dtype=tf.float32, name=None))>"
            ]
          },
          "metadata": {},
          "execution_count": 13
        }
      ]
    },
    {
      "cell_type": "code",
      "source": [
        "#check out the class names of our dataset\n",
        "train_data_10_percent.class_names"
      ],
      "metadata": {
        "colab": {
          "base_uri": "https://localhost:8080/"
        },
        "id": "5jkWx3QzCdJ0",
        "outputId": "22c03871-6c74-4bdf-90e0-b9f5184dce36"
      },
      "execution_count": 15,
      "outputs": [
        {
          "output_type": "execute_result",
          "data": {
            "text/plain": [
              "['chicken_curry',\n",
              " 'chicken_wings',\n",
              " 'fried_rice',\n",
              " 'grilled_salmon',\n",
              " 'hamburger',\n",
              " 'ice_cream',\n",
              " 'pizza',\n",
              " 'ramen',\n",
              " 'steak',\n",
              " 'sushi']"
            ]
          },
          "metadata": {},
          "execution_count": 15
        }
      ]
    },
    {
      "cell_type": "code",
      "source": [
        "#see an example of a batch of data\n",
        "for image, labels in train_data_10_percent.take(1):\n",
        "  print(image,labels)\n",
        "\n",
        "#need to normalize these tensors later"
      ],
      "metadata": {
        "colab": {
          "base_uri": "https://localhost:8080/"
        },
        "id": "LncOJ4AgC32Z",
        "outputId": "80a44d7f-669b-4309-e363-37fa970603de"
      },
      "execution_count": 17,
      "outputs": [
        {
          "output_type": "stream",
          "name": "stdout",
          "text": [
            "tf.Tensor(\n",
            "[[[[1.96540817e+02 1.63826523e+02 1.25596939e+02]\n",
            "   [2.00188782e+02 1.71040817e+02 1.36923462e+02]\n",
            "   [1.79729584e+02 1.56158157e+02 1.29015305e+02]\n",
            "   ...\n",
            "   [1.92142792e+02 1.45581558e+02 4.90203133e+01]\n",
            "   [1.86928558e+02 1.37571411e+02 4.26632690e+01]\n",
            "   [1.89581711e+02 1.39867432e+02 4.72245750e+01]]\n",
            "\n",
            "  [[1.93744888e+02 1.64887756e+02 1.28147949e+02]\n",
            "   [1.94352036e+02 1.67270401e+02 1.36775513e+02]\n",
            "   [1.86030624e+02 1.65244904e+02 1.38887756e+02]\n",
            "   ...\n",
            "   [2.03525391e+02 1.58984619e+02 6.37142258e+01]\n",
            "   [1.89790787e+02 1.44714264e+02 5.16530380e+01]\n",
            "   [1.87311157e+02 1.42831635e+02 5.14285355e+01]]\n",
            "\n",
            "  [[1.89372437e+02 1.63948975e+02 1.33719391e+02]\n",
            "   [1.86612244e+02 1.63397964e+02 1.35897964e+02]\n",
            "   [1.82255096e+02 1.63448975e+02 1.41163269e+02]\n",
            "   ...\n",
            "   [2.09551117e+02 1.62403214e+02 6.81123962e+01]\n",
            "   [2.02433594e+02 1.58091782e+02 6.29489326e+01]\n",
            "   [1.86122177e+02 1.42907883e+02 4.86936035e+01]]\n",
            "\n",
            "  ...\n",
            "\n",
            "  [[2.26214264e+02 2.29214264e+02 2.36214264e+02]\n",
            "   [2.26943878e+02 2.29943878e+02 2.36943878e+02]\n",
            "   [2.28000000e+02 2.31000000e+02 2.38000000e+02]\n",
            "   ...\n",
            "   [1.81785736e+02 1.56571472e+02 1.27214264e+02]\n",
            "   [1.83857178e+02 1.58642914e+02 1.29285706e+02]\n",
            "   [1.84785736e+02 1.59571472e+02 1.30214264e+02]]\n",
            "\n",
            "  [[2.25525482e+02 2.28525482e+02 2.35525482e+02]\n",
            "   [2.26790787e+02 2.29790787e+02 2.36790787e+02]\n",
            "   [2.28071396e+02 2.31071396e+02 2.38071396e+02]\n",
            "   ...\n",
            "   [1.81857178e+02 1.56857178e+02 1.25857178e+02]\n",
            "   [1.83137787e+02 1.58275558e+02 1.26862221e+02]\n",
            "   [1.84000000e+02 1.59403107e+02 1.27193794e+02]]\n",
            "\n",
            "  [[2.25357178e+02 2.28357178e+02 2.35357178e+02]\n",
            "   [2.25357178e+02 2.28357178e+02 2.35357178e+02]\n",
            "   [2.26000000e+02 2.29000000e+02 2.36000000e+02]\n",
            "   ...\n",
            "   [1.82566299e+02 1.58566299e+02 1.24566292e+02]\n",
            "   [1.82285645e+02 1.58285645e+02 1.23479439e+02]\n",
            "   [1.81285645e+02 1.57285645e+02 1.21285645e+02]]]\n",
            "\n",
            "\n",
            " [[[4.35714293e+00 3.35714293e+00 8.35714340e+00]\n",
            "   [7.64285755e+00 6.64285755e+00 1.16428576e+01]\n",
            "   [6.50000000e+00 6.50000000e+00 8.50000000e+00]\n",
            "   ...\n",
            "   [4.35512276e+01 2.20511379e+01 8.55625439e+00]\n",
            "   [6.53265533e+01 3.65204124e+01 2.49234810e+01]\n",
            "   [6.15712204e+01 2.95712185e+01 1.65712185e+01]]\n",
            "\n",
            "  [[4.64285707e+00 4.64285707e+00 6.64285707e+00]\n",
            "   [7.85714340e+00 7.85714340e+00 9.85714340e+00]\n",
            "   [6.78571415e+00 6.78571415e+00 8.24489784e+00]\n",
            "   ...\n",
            "   [5.79747467e+01 3.26430321e+01 1.97297649e+01]\n",
            "   [7.16224060e+01 4.13468704e+01 3.03468723e+01]\n",
            "   [6.09079933e+01 2.69079933e+01 1.69079933e+01]]\n",
            "\n",
            "  [[6.21428585e+00 6.21428585e+00 6.64285707e+00]\n",
            "   [9.22959232e+00 9.22959232e+00 9.65816402e+00]\n",
            "   [8.35714340e+00 8.35714340e+00 6.78571415e+00]\n",
            "   ...\n",
            "   [7.13573380e+01 4.21685257e+01 3.08318024e+01]\n",
            "   [7.01172256e+01 3.73315086e+01 2.79029388e+01]\n",
            "   [5.29998932e+01 1.97856102e+01 1.05713234e+01]]\n",
            "\n",
            "  ...\n",
            "\n",
            "  [[1.10790794e+02 1.14505096e+02 1.00428566e+02]\n",
            "   [1.04928558e+02 1.14785706e+02 1.03642853e+02]\n",
            "   [1.06382645e+02 1.16045921e+02 1.08045921e+02]\n",
            "   ...\n",
            "   [1.13719398e+02 1.33571472e+02 1.54525528e+02]\n",
            "   [1.13000000e+02 1.34000000e+02 1.52571411e+02]\n",
            "   [1.14357178e+02 1.35433716e+02 1.53214233e+02]]\n",
            "\n",
            "  [[1.06525467e+02 1.14000000e+02 9.87142715e+01]\n",
            "   [1.03147942e+02 1.14928589e+02 1.04581665e+02]\n",
            "   [1.04499985e+02 1.15285698e+02 1.07285698e+02]\n",
            "   ...\n",
            "   [1.14642883e+02 1.33571472e+02 1.50785706e+02]\n",
            "   [1.12005074e+02 1.33071411e+02 1.49872391e+02]\n",
            "   [1.12500000e+02 1.34454102e+02 1.48591812e+02]]\n",
            "\n",
            "  [[1.09102036e+02 1.18698959e+02 1.02571419e+02]\n",
            "   [1.06999985e+02 1.18928558e+02 1.08642845e+02]\n",
            "   [1.05137756e+02 1.16933662e+02 1.09999992e+02]\n",
            "   ...\n",
            "   [1.16719437e+02 1.35719437e+02 1.51709213e+02]\n",
            "   [1.12499969e+02 1.34499969e+02 1.48499969e+02]\n",
            "   [1.12000031e+02 1.34000031e+02 1.47229614e+02]]]\n",
            "\n",
            "\n",
            " [[[1.24663277e+02 1.10663269e+02 9.76632690e+01]\n",
            "   [1.83015305e+02 1.69015305e+02 1.56015305e+02]\n",
            "   [1.99505096e+02 1.86505096e+02 1.70505096e+02]\n",
            "   ...\n",
            "   [2.53571434e+01 1.09286146e+01 1.09286146e+01]\n",
            "   [2.29285583e+01 8.92855835e+00 7.92855835e+00]\n",
            "   [2.23571777e+01 8.35717773e+00 7.35717773e+00]]\n",
            "\n",
            "  [[1.75744904e+02 1.61744904e+02 1.48744904e+02]\n",
            "   [1.93127548e+02 1.79127548e+02 1.66127548e+02]\n",
            "   [2.00714279e+02 1.87714279e+02 1.71500000e+02]\n",
            "   ...\n",
            "   [2.23418159e+01 7.91328812e+00 7.91328812e+00]\n",
            "   [2.20000000e+01 8.00000000e+00 7.00000000e+00]\n",
            "   [2.30000000e+01 9.00000000e+00 8.00000000e+00]]\n",
            "\n",
            "  [[1.95158157e+02 1.81515305e+02 1.65729599e+02]\n",
            "   [1.95755096e+02 1.82112244e+02 1.66112244e+02]\n",
            "   [2.01214294e+02 1.87571442e+02 1.71403061e+02]\n",
            "   ...\n",
            "   [2.22601776e+01 8.26017761e+00 8.04591370e+00]\n",
            "   [2.18571548e+01 8.28572750e+00 8.28572750e+00]\n",
            "   [2.25714283e+01 9.00000000e+00 8.21428585e+00]]\n",
            "\n",
            "  ...\n",
            "\n",
            "  [[4.35050507e+01 1.92907867e+01 1.50765228e+01]\n",
            "   [4.14999542e+01 1.72856922e+01 1.30714283e+01]\n",
            "   [4.16734657e+01 1.72908306e+01 1.30765667e+01]\n",
            "   ...\n",
            "   [2.95255623e+01 1.07398272e+01 7.16835499e+00]\n",
            "   [2.91428223e+01 1.04591427e+01 6.87236309e+00]\n",
            "   [3.12857971e+01 1.39285889e+01 1.01428528e+01]]\n",
            "\n",
            "  [[2.78571815e+01 8.19392681e+00 2.52555418e+00]\n",
            "   [3.00714283e+01 9.21431160e+00 4.14286995e+00]\n",
            "   [2.81122265e+01 7.11222649e+00 2.11222625e+00]\n",
            "   ...\n",
            "   [3.61581917e+01 1.51581907e+01 1.21581907e+01]\n",
            "   [3.50051041e+01 1.41377792e+01 1.10714417e+01]\n",
            "   [3.62602196e+01 1.72602196e+01 1.32602186e+01]]\n",
            "\n",
            "  [[2.97703152e+01 1.17703161e+01 7.77031612e+00]\n",
            "   [2.69488697e+01 8.94886971e+00 4.94886971e+00]\n",
            "   [2.99439697e+01 1.12246094e+01 7.22460938e+00]\n",
            "   ...\n",
            "   [3.53416672e+01 1.36988754e+01 1.09131393e+01]\n",
            "   [3.61225662e+01 1.51225681e+01 1.21225681e+01]\n",
            "   [3.51430664e+01 1.41430664e+01 1.11430664e+01]]]\n",
            "\n",
            "\n",
            " ...\n",
            "\n",
            "\n",
            " [[[2.45609055e+01 4.15609055e+01 0.00000000e+00]\n",
            "   [2.81575260e+01 4.51575241e+01 1.01020396e+00]\n",
            "   [3.96855850e+01 5.70156250e+01 1.10255108e+01]\n",
            "   ...\n",
            "   [1.56417709e+02 1.83631973e+02 1.27989174e+02]\n",
            "   [1.58250305e+02 1.82387100e+02 1.29976715e+02]\n",
            "   [1.39989929e+02 1.63989929e+02 1.13695282e+02]]\n",
            "\n",
            "  [[2.87933674e+01 4.69614143e+01 2.62021613e+00]\n",
            "   [3.66881371e+01 5.50140305e+01 8.24617290e+00]\n",
            "   [3.90640945e+01 5.79480247e+01 8.62213135e+00]\n",
            "   ...\n",
            "   [1.60501312e+02 1.88062836e+02 1.31283539e+02]\n",
            "   [1.50035904e+02 1.74996048e+02 1.19294868e+02]\n",
            "   [1.18972076e+02 1.43414032e+02 9.00881424e+01]]\n",
            "\n",
            "  [[3.92126923e+01 5.91186218e+01 9.45376301e+00]\n",
            "   [3.48960457e+01 5.48960457e+01 4.52805996e+00]\n",
            "   [2.93590584e+01 4.93590584e+01 1.14764047e+00]\n",
            "   ...\n",
            "   [1.53640472e+02 1.81640472e+02 1.22847427e+02]\n",
            "   [1.28412903e+02 1.53412903e+02 9.57139282e+01]\n",
            "   [1.24477982e+02 1.49477982e+02 9.22681580e+01]]\n",
            "\n",
            "  ...\n",
            "\n",
            "  [[2.68118820e+01 4.79811859e+01 4.47326660e+00]\n",
            "   [2.44062233e+01 4.56507759e+01 1.91711354e+00]\n",
            "   [2.86278629e+01 5.00490799e+01 5.78543043e+00]\n",
            "   ...\n",
            "   [0.00000000e+00 0.00000000e+00 0.00000000e+00]\n",
            "   [0.00000000e+00 0.00000000e+00 0.00000000e+00]\n",
            "   [0.00000000e+00 0.00000000e+00 0.00000000e+00]]\n",
            "\n",
            "  [[2.65248623e+01 4.83670120e+01 2.48184419e+00]\n",
            "   [2.34688148e+01 4.54372444e+01 5.68267345e-01]\n",
            "   [2.63543682e+01 4.83543701e+01 2.23479342e+00]\n",
            "   ...\n",
            "   [0.00000000e+00 0.00000000e+00 0.00000000e+00]\n",
            "   [0.00000000e+00 0.00000000e+00 0.00000000e+00]\n",
            "   [0.00000000e+00 0.00000000e+00 0.00000000e+00]]\n",
            "\n",
            "  [[2.67142849e+01 4.87142868e+01 1.76690662e+00]\n",
            "   [2.21428566e+01 4.41428566e+01 0.00000000e+00]\n",
            "   [2.44285717e+01 4.64285736e+01 2.14285851e-01]\n",
            "   ...\n",
            "   [0.00000000e+00 0.00000000e+00 0.00000000e+00]\n",
            "   [0.00000000e+00 0.00000000e+00 0.00000000e+00]\n",
            "   [0.00000000e+00 0.00000000e+00 0.00000000e+00]]]\n",
            "\n",
            "\n",
            " [[[1.47142859e+01 9.71428585e+00 3.71428561e+00]\n",
            "   [1.68571434e+01 1.18571434e+01 5.85714340e+00]\n",
            "   [1.50000000e+01 1.00000000e+01 4.00000000e+00]\n",
            "   ...\n",
            "   [2.32142639e+01 1.22142639e+01 8.21426392e+00]\n",
            "   [2.37857265e+01 1.27857275e+01 8.78572750e+00]\n",
            "   [2.42295437e+01 1.32295446e+01 9.94383049e+00]]\n",
            "\n",
            "  [[1.63112259e+01 1.13112240e+01 5.31122494e+00]\n",
            "   [1.59285717e+01 1.09285717e+01 4.92857170e+00]\n",
            "   [1.48010206e+01 9.80102062e+00 3.80102015e+00]\n",
            "   ...\n",
            "   [2.95867558e+01 1.65867558e+01 1.01888371e+01]\n",
            "   [2.58571301e+01 1.28571301e+01 6.85713005e+00]\n",
            "   [2.66174145e+01 1.36174145e+01 7.61741447e+00]]\n",
            "\n",
            "  [[1.55714283e+01 1.10000000e+01 4.78571415e+00]\n",
            "   [1.26581631e+01 8.08673477e+00 1.87244856e+00]\n",
            "   [1.67857132e+01 1.22142859e+01 6.00000000e+00]\n",
            "   ...\n",
            "   [3.06173420e+01 1.62142639e+01 8.66327763e+00]\n",
            "   [2.91581535e+01 1.45867252e+01 7.37243891e+00]\n",
            "   [2.94949245e+01 1.49234972e+01 7.70921135e+00]]\n",
            "\n",
            "  ...\n",
            "\n",
            "  [[2.22918411e+02 1.91918411e+02 1.37918411e+02]\n",
            "   [2.22254990e+02 1.91254990e+02 1.37254990e+02]\n",
            "   [2.15408081e+02 1.84408081e+02 1.30408081e+02]\n",
            "   ...\n",
            "   [2.36474442e+02 2.09474442e+02 1.62474442e+02]\n",
            "   [2.37469421e+02 2.10469421e+02 1.63469421e+02]\n",
            "   [2.36653183e+02 2.09653183e+02 1.62653183e+02]]\n",
            "\n",
            "  [[2.23500015e+02 1.93500015e+02 1.39500015e+02]\n",
            "   [2.16352081e+02 1.86352081e+02 1.32352081e+02]\n",
            "   [2.17000076e+02 1.87000076e+02 1.33000076e+02]\n",
            "   ...\n",
            "   [2.33428528e+02 2.06428528e+02 1.59428528e+02]\n",
            "   [2.34704025e+02 2.07704025e+02 1.60704025e+02]\n",
            "   [2.39000061e+02 2.12000061e+02 1.65000061e+02]]\n",
            "\n",
            "  [[2.18418137e+02 1.88418137e+02 1.34418137e+02]\n",
            "   [2.16999893e+02 1.86999893e+02 1.32999893e+02]\n",
            "   [2.21520294e+02 1.91520294e+02 1.37520294e+02]\n",
            "   ...\n",
            "   [2.34699066e+02 2.07699066e+02 1.60699066e+02]\n",
            "   [2.31163345e+02 2.04163345e+02 1.57163345e+02]\n",
            "   [2.31143066e+02 2.04143066e+02 1.57143066e+02]]]\n",
            "\n",
            "\n",
            " [[[1.50306122e+02 1.58306122e+02 1.69306122e+02]\n",
            "   [1.55714279e+02 1.64760208e+02 1.79622452e+02]\n",
            "   [1.74933685e+02 1.86846954e+02 2.05010208e+02]\n",
            "   ...\n",
            "   [2.54000000e+02 2.55000000e+02 2.47000000e+02]\n",
            "   [2.54000000e+02 2.55000000e+02 2.47000000e+02]\n",
            "   [2.54000000e+02 2.55000000e+02 2.47000000e+02]]\n",
            "\n",
            "  [[1.56622452e+02 1.65576538e+02 1.74668381e+02]\n",
            "   [1.65984695e+02 1.75918365e+02 1.85984695e+02]\n",
            "   [1.84474487e+02 1.96632645e+02 2.12989807e+02]\n",
            "   ...\n",
            "   [2.54000000e+02 2.55000000e+02 2.47000000e+02]\n",
            "   [2.54000000e+02 2.55000000e+02 2.47000000e+02]\n",
            "   [2.54000000e+02 2.55000000e+02 2.47000000e+02]]\n",
            "\n",
            "  [[1.65224487e+02 1.72438782e+02 1.77795914e+02]\n",
            "   [1.61326538e+02 1.70341843e+02 1.76755112e+02]\n",
            "   [1.75163254e+02 1.87331619e+02 1.99163254e+02]\n",
            "   ...\n",
            "   [2.54000000e+02 2.55000000e+02 2.47000000e+02]\n",
            "   [2.54000000e+02 2.55000000e+02 2.47000000e+02]\n",
            "   [2.54000000e+02 2.55000000e+02 2.47000000e+02]]\n",
            "\n",
            "  ...\n",
            "\n",
            "  [[1.75362106e+02 1.49357040e+02 1.18285652e+02]\n",
            "   [1.81234756e+02 1.56418411e+02 1.24790916e+02]\n",
            "   [1.72938873e+02 1.52433823e+02 1.17694000e+02]\n",
            "   ...\n",
            "   [2.09576385e+02 1.82979507e+02 1.56622299e+02]\n",
            "   [2.13918533e+02 1.88632889e+02 1.58775711e+02]\n",
            "   [2.12361984e+02 1.88933456e+02 1.58147720e+02]]\n",
            "\n",
            "  [[1.73969299e+02 1.52306046e+02 1.21306046e+02]\n",
            "   [1.78765274e+02 1.58632645e+02 1.25698959e+02]\n",
            "   [1.60341980e+02 1.42341980e+02 1.05913399e+02]\n",
            "   ...\n",
            "   [2.06158188e+02 1.80270462e+02 1.55642853e+02]\n",
            "   [2.13489700e+02 1.92775467e+02 1.63637695e+02]\n",
            "   [2.10168243e+02 1.92377548e+02 1.59974457e+02]]\n",
            "\n",
            "  [[1.70285568e+02 1.51285568e+02 1.19285576e+02]\n",
            "   [1.70025238e+02 1.51025238e+02 1.18025238e+02]\n",
            "   [1.70642929e+02 1.54857208e+02 1.18214355e+02]\n",
            "   ...\n",
            "   [2.08265167e+02 1.83989700e+02 1.58555969e+02]\n",
            "   [2.12102249e+02 1.93245132e+02 1.63245132e+02]\n",
            "   [2.04816376e+02 1.89403168e+02 1.56403168e+02]]]], shape=(32, 224, 224, 3), dtype=float32) tf.Tensor(\n",
            "[[0. 0. 0. 1. 0. 0. 0. 0. 0. 0.]\n",
            " [0. 0. 0. 0. 0. 1. 0. 0. 0. 0.]\n",
            " [0. 0. 0. 0. 0. 0. 0. 1. 0. 0.]\n",
            " [1. 0. 0. 0. 0. 0. 0. 0. 0. 0.]\n",
            " [1. 0. 0. 0. 0. 0. 0. 0. 0. 0.]\n",
            " [0. 0. 0. 1. 0. 0. 0. 0. 0. 0.]\n",
            " [0. 0. 0. 0. 1. 0. 0. 0. 0. 0.]\n",
            " [0. 1. 0. 0. 0. 0. 0. 0. 0. 0.]\n",
            " [0. 0. 0. 0. 0. 0. 0. 0. 1. 0.]\n",
            " [0. 0. 0. 0. 0. 0. 0. 0. 0. 1.]\n",
            " [0. 0. 1. 0. 0. 0. 0. 0. 0. 0.]\n",
            " [0. 0. 0. 0. 0. 0. 0. 0. 1. 0.]\n",
            " [0. 0. 0. 0. 0. 0. 0. 1. 0. 0.]\n",
            " [0. 0. 0. 0. 0. 1. 0. 0. 0. 0.]\n",
            " [0. 0. 0. 0. 0. 0. 1. 0. 0. 0.]\n",
            " [0. 0. 0. 1. 0. 0. 0. 0. 0. 0.]\n",
            " [0. 1. 0. 0. 0. 0. 0. 0. 0. 0.]\n",
            " [0. 0. 0. 0. 0. 1. 0. 0. 0. 0.]\n",
            " [0. 1. 0. 0. 0. 0. 0. 0. 0. 0.]\n",
            " [0. 0. 1. 0. 0. 0. 0. 0. 0. 0.]\n",
            " [0. 1. 0. 0. 0. 0. 0. 0. 0. 0.]\n",
            " [0. 1. 0. 0. 0. 0. 0. 0. 0. 0.]\n",
            " [0. 0. 0. 0. 0. 0. 1. 0. 0. 0.]\n",
            " [0. 0. 0. 0. 0. 0. 1. 0. 0. 0.]\n",
            " [0. 0. 0. 1. 0. 0. 0. 0. 0. 0.]\n",
            " [0. 1. 0. 0. 0. 0. 0. 0. 0. 0.]\n",
            " [0. 0. 0. 0. 0. 1. 0. 0. 0. 0.]\n",
            " [1. 0. 0. 0. 0. 0. 0. 0. 0. 0.]\n",
            " [0. 0. 0. 0. 0. 0. 1. 0. 0. 0.]\n",
            " [1. 0. 0. 0. 0. 0. 0. 0. 0. 0.]\n",
            " [0. 0. 0. 0. 0. 0. 0. 0. 0. 1.]\n",
            " [0. 0. 0. 0. 0. 0. 0. 0. 1. 0.]], shape=(32, 10), dtype=float32)\n"
          ]
        }
      ]
    },
    {
      "cell_type": "code",
      "source": [
        ""
      ],
      "metadata": {
        "id": "rbIbf4H1DKwl"
      },
      "execution_count": null,
      "outputs": []
    }
  ]
}