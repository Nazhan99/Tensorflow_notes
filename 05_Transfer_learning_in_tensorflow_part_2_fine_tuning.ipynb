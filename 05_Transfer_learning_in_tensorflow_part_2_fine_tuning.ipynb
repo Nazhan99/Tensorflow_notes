{
  "nbformat": 4,
  "nbformat_minor": 0,
  "metadata": {
    "colab": {
      "name": "05_Transfer_learning_in_tensorflow_part_2_fine_tuning.ipynb",
      "provenance": [],
      "collapsed_sections": [],
      "authorship_tag": "ABX9TyMK5tamwi8F7IOxlNGEUDlC",
      "include_colab_link": true
    },
    "kernelspec": {
      "name": "python3",
      "display_name": "Python 3"
    },
    "language_info": {
      "name": "python"
    },
    "accelerator": "GPU"
  },
  "cells": [
    {
      "cell_type": "markdown",
      "metadata": {
        "id": "view-in-github",
        "colab_type": "text"
      },
      "source": [
        "<a href=\"https://colab.research.google.com/github/Nazhan99/Tensorflow_notes/blob/main/05_Transfer_learning_in_tensorflow_part_2_fine_tuning.ipynb\" target=\"_parent\"><img src=\"https://colab.research.google.com/assets/colab-badge.svg\" alt=\"Open In Colab\"/></a>"
      ]
    },
    {
      "cell_type": "markdown",
      "source": [
        "#Transfer learning with TensorFlow part 2: Fine-Tuning"
      ],
      "metadata": {
        "id": "xOFs5gcQ9zZd"
      }
    },
    {
      "cell_type": "code",
      "source": [
        "!nvidia-smi"
      ],
      "metadata": {
        "colab": {
          "base_uri": "https://localhost:8080/"
        },
        "id": "54PwqU-O-Sq0",
        "outputId": "12cd1182-9ebc-4d3e-98a0-c6586a8ac511"
      },
      "execution_count": 1,
      "outputs": [
        {
          "output_type": "stream",
          "name": "stdout",
          "text": [
            "Tue Feb 22 06:13:01 2022       \n",
            "+-----------------------------------------------------------------------------+\n",
            "| NVIDIA-SMI 460.32.03    Driver Version: 460.32.03    CUDA Version: 11.2     |\n",
            "|-------------------------------+----------------------+----------------------+\n",
            "| GPU  Name        Persistence-M| Bus-Id        Disp.A | Volatile Uncorr. ECC |\n",
            "| Fan  Temp  Perf  Pwr:Usage/Cap|         Memory-Usage | GPU-Util  Compute M. |\n",
            "|                               |                      |               MIG M. |\n",
            "|===============================+======================+======================|\n",
            "|   0  Tesla K80           Off  | 00000000:00:04.0 Off |                    0 |\n",
            "| N/A   45C    P8    29W / 149W |      0MiB / 11441MiB |      0%      Default |\n",
            "|                               |                      |                  N/A |\n",
            "+-------------------------------+----------------------+----------------------+\n",
            "                                                                               \n",
            "+-----------------------------------------------------------------------------+\n",
            "| Processes:                                                                  |\n",
            "|  GPU   GI   CI        PID   Type   Process name                  GPU Memory |\n",
            "|        ID   ID                                                   Usage      |\n",
            "|=============================================================================|\n",
            "|  No running processes found                                                 |\n",
            "+-----------------------------------------------------------------------------+\n"
          ]
        }
      ]
    },
    {
      "cell_type": "markdown",
      "source": [
        "#Creating helper function"
      ],
      "metadata": {
        "id": "92cvyEN_-Up8"
      }
    },
    {
      "cell_type": "code",
      "source": [
        "!wget https://raw.githubusercontent.com/mrdbourke/tensorflow-deep-learning/main/extras/helper_functions.py"
      ],
      "metadata": {
        "colab": {
          "base_uri": "https://localhost:8080/"
        },
        "id": "VhibNF6C-cR6",
        "outputId": "7fed98e8-b31a-4cab-d6ca-a267573b3418"
      },
      "execution_count": 2,
      "outputs": [
        {
          "output_type": "stream",
          "name": "stdout",
          "text": [
            "--2022-02-22 06:13:02--  https://raw.githubusercontent.com/mrdbourke/tensorflow-deep-learning/main/extras/helper_functions.py\n",
            "Resolving raw.githubusercontent.com (raw.githubusercontent.com)... 185.199.108.133, 185.199.109.133, 185.199.111.133, ...\n",
            "Connecting to raw.githubusercontent.com (raw.githubusercontent.com)|185.199.108.133|:443... connected.\n",
            "HTTP request sent, awaiting response... 200 OK\n",
            "Length: 10246 (10K) [text/plain]\n",
            "Saving to: ‘helper_functions.py’\n",
            "\n",
            "helper_functions.py 100%[===================>]  10.01K  --.-KB/s    in 0s      \n",
            "\n",
            "2022-02-22 06:13:02 (88.7 MB/s) - ‘helper_functions.py’ saved [10246/10246]\n",
            "\n"
          ]
        }
      ]
    },
    {
      "cell_type": "code",
      "source": [
        "#import helper function we are going to use in this notebook\n",
        "from helper_functions import create_tensorboard_callback, plot_loss_curves, unzip_data,  walk_through_dir"
      ],
      "metadata": {
        "id": "flC9-RaB-4QB"
      },
      "execution_count": 3,
      "outputs": []
    },
    {
      "cell_type": "markdown",
      "source": [
        ">if you are running this notebook in Google colab, when it times out colab will delete \"helper_function\"."
      ],
      "metadata": {
        "id": "ZYMA-fAY_aXk"
      }
    },
    {
      "cell_type": "markdown",
      "source": [
        "## Get some data\n",
        "\n",
        "use pretrained model using tf.keras.application and apply them to our own probelm (recognizing images of food)."
      ],
      "metadata": {
        "id": "xbwtCo4g_X6r"
      }
    },
    {
      "cell_type": "code",
      "source": [
        "# get 10% of training data of 10 fooc classes\n",
        "!wget https://storage.googleapis.com/ztm_tf_course/food_vision/10_food_classes_10_percent.zip\n",
        "\n",
        "unzip_data(\"10_food_classes_10_percent.zip\")"
      ],
      "metadata": {
        "colab": {
          "base_uri": "https://localhost:8080/"
        },
        "id": "tLL1OoTc_zfs",
        "outputId": "16e7386e-e0ae-42b3-9b0a-f3f8d38fca3d"
      },
      "execution_count": 4,
      "outputs": [
        {
          "output_type": "stream",
          "name": "stdout",
          "text": [
            "--2022-02-22 06:13:05--  https://storage.googleapis.com/ztm_tf_course/food_vision/10_food_classes_10_percent.zip\n",
            "Resolving storage.googleapis.com (storage.googleapis.com)... 74.125.133.128, 74.125.140.128, 108.177.15.128, ...\n",
            "Connecting to storage.googleapis.com (storage.googleapis.com)|74.125.133.128|:443... connected.\n",
            "HTTP request sent, awaiting response... 200 OK\n",
            "Length: 168546183 (161M) [application/zip]\n",
            "Saving to: ‘10_food_classes_10_percent.zip’\n",
            "\n",
            "10_food_classes_10_ 100%[===================>] 160.74M  48.1MB/s    in 3.3s    \n",
            "\n",
            "2022-02-22 06:13:09 (48.1 MB/s) - ‘10_food_classes_10_percent.zip’ saved [168546183/168546183]\n",
            "\n"
          ]
        }
      ]
    },
    {
      "cell_type": "code",
      "source": [
        "#check out how many images and subdirectories are in our dataset\n",
        "walk_through_dir(\"10_food_classes_10_percent\")"
      ],
      "metadata": {
        "colab": {
          "base_uri": "https://localhost:8080/"
        },
        "id": "syL04aOfAfOi",
        "outputId": "69571bf2-906e-4a1b-86ee-f5465079e017"
      },
      "execution_count": 5,
      "outputs": [
        {
          "output_type": "stream",
          "name": "stdout",
          "text": [
            "There are 2 directories and 0 images in '10_food_classes_10_percent'.\n",
            "There are 10 directories and 0 images in '10_food_classes_10_percent/train'.\n",
            "There are 0 directories and 75 images in '10_food_classes_10_percent/train/pizza'.\n",
            "There are 0 directories and 75 images in '10_food_classes_10_percent/train/fried_rice'.\n",
            "There are 0 directories and 75 images in '10_food_classes_10_percent/train/grilled_salmon'.\n",
            "There are 0 directories and 75 images in '10_food_classes_10_percent/train/hamburger'.\n",
            "There are 0 directories and 75 images in '10_food_classes_10_percent/train/steak'.\n",
            "There are 0 directories and 75 images in '10_food_classes_10_percent/train/sushi'.\n",
            "There are 0 directories and 75 images in '10_food_classes_10_percent/train/chicken_wings'.\n",
            "There are 0 directories and 75 images in '10_food_classes_10_percent/train/ramen'.\n",
            "There are 0 directories and 75 images in '10_food_classes_10_percent/train/ice_cream'.\n",
            "There are 0 directories and 75 images in '10_food_classes_10_percent/train/chicken_curry'.\n",
            "There are 10 directories and 0 images in '10_food_classes_10_percent/test'.\n",
            "There are 0 directories and 250 images in '10_food_classes_10_percent/test/pizza'.\n",
            "There are 0 directories and 250 images in '10_food_classes_10_percent/test/fried_rice'.\n",
            "There are 0 directories and 250 images in '10_food_classes_10_percent/test/grilled_salmon'.\n",
            "There are 0 directories and 250 images in '10_food_classes_10_percent/test/hamburger'.\n",
            "There are 0 directories and 250 images in '10_food_classes_10_percent/test/steak'.\n",
            "There are 0 directories and 250 images in '10_food_classes_10_percent/test/sushi'.\n",
            "There are 0 directories and 250 images in '10_food_classes_10_percent/test/chicken_wings'.\n",
            "There are 0 directories and 250 images in '10_food_classes_10_percent/test/ramen'.\n",
            "There are 0 directories and 250 images in '10_food_classes_10_percent/test/ice_cream'.\n",
            "There are 0 directories and 250 images in '10_food_classes_10_percent/test/chicken_curry'.\n"
          ]
        }
      ]
    },
    {
      "cell_type": "code",
      "source": [
        "#create training and test directories paths\n",
        "train_dir=\"10_food_classes_10_percent/train\"\n",
        "test_dir=\"10_food_classes_10_percent/test\"\n"
      ],
      "metadata": {
        "id": "a8r9CYjHAr_x"
      },
      "execution_count": 6,
      "outputs": []
    },
    {
      "cell_type": "code",
      "source": [
        "import tensorflow as tf\n",
        "\n",
        "IMG_SIZE=(224,224)\n",
        "BATCH_SIZE=32\n",
        "\n",
        "train_data_10_percent= tf.keras.preprocessing.image_dataset_from_directory(directory=train_dir,\n",
        "                                                                           image_size=IMG_SIZE,\n",
        "                                                                           label_mode=\"categorical\",\n",
        "                                                                           batch_size=BATCH_SIZE)\n",
        "\n",
        "test_data_10_percent= tf.keras.preprocessing.image_dataset_from_directory(directory=test_dir,\n",
        "                                                                          image_size=IMG_SIZE,\n",
        "                                                                          label_mode=\"categorical\",\n",
        "                                                                          batch_size=BATCH_SIZE)"
      ],
      "metadata": {
        "colab": {
          "base_uri": "https://localhost:8080/"
        },
        "id": "jHXrbXttBH0W",
        "outputId": "7b5b7f55-d724-4efc-a766-7cb269b6a7f8"
      },
      "execution_count": 7,
      "outputs": [
        {
          "output_type": "stream",
          "name": "stdout",
          "text": [
            "Found 750 files belonging to 10 classes.\n",
            "Found 2500 files belonging to 10 classes.\n"
          ]
        }
      ]
    },
    {
      "cell_type": "code",
      "source": [
        "train_data_10_percent"
      ],
      "metadata": {
        "colab": {
          "base_uri": "https://localhost:8080/"
        },
        "id": "IbaolL4XB39j",
        "outputId": "ed450a3d-82dd-43bb-feb5-ad5e8f001d20"
      },
      "execution_count": 8,
      "outputs": [
        {
          "output_type": "execute_result",
          "data": {
            "text/plain": [
              "<BatchDataset element_spec=(TensorSpec(shape=(None, 224, 224, 3), dtype=tf.float32, name=None), TensorSpec(shape=(None, 10), dtype=tf.float32, name=None))>"
            ]
          },
          "metadata": {},
          "execution_count": 8
        }
      ]
    },
    {
      "cell_type": "code",
      "source": [
        "#check out the class names of our dataset\n",
        "train_data_10_percent.class_names"
      ],
      "metadata": {
        "colab": {
          "base_uri": "https://localhost:8080/"
        },
        "id": "5jkWx3QzCdJ0",
        "outputId": "757b754c-bf81-4c5b-9e00-6572537bb10c"
      },
      "execution_count": 9,
      "outputs": [
        {
          "output_type": "execute_result",
          "data": {
            "text/plain": [
              "['chicken_curry',\n",
              " 'chicken_wings',\n",
              " 'fried_rice',\n",
              " 'grilled_salmon',\n",
              " 'hamburger',\n",
              " 'ice_cream',\n",
              " 'pizza',\n",
              " 'ramen',\n",
              " 'steak',\n",
              " 'sushi']"
            ]
          },
          "metadata": {},
          "execution_count": 9
        }
      ]
    },
    {
      "cell_type": "code",
      "source": [
        "#see an example of a batch of data\n",
        "for image, labels in train_data_10_percent.take(1):\n",
        "  print(image,labels)\n",
        "\n",
        "#need to normalize these tensors later"
      ],
      "metadata": {
        "colab": {
          "base_uri": "https://localhost:8080/"
        },
        "id": "LncOJ4AgC32Z",
        "outputId": "1d162eb0-8709-4999-f26f-178f933f8389"
      },
      "execution_count": 10,
      "outputs": [
        {
          "output_type": "stream",
          "name": "stdout",
          "text": [
            "tf.Tensor(\n",
            "[[[[1.06357140e+02 5.43571434e+01 5.83571434e+01]\n",
            "   [1.05071426e+02 5.30714264e+01 5.70714264e+01]\n",
            "   [1.03285713e+02 5.32857132e+01 5.58571396e+01]\n",
            "   ...\n",
            "   [1.65846893e+02 1.83418365e+02 1.83418365e+02]\n",
            "   [1.66642868e+02 1.84642868e+02 1.84642868e+02]\n",
            "   [1.67897980e+02 1.87897980e+02 1.86897980e+02]]\n",
            "\n",
            "  [[1.08882652e+02 5.38826523e+01 5.88826523e+01]\n",
            "   [1.05209183e+02 5.29948997e+01 5.70663261e+01]\n",
            "   [1.01071426e+02 5.09591827e+01 5.40153046e+01]\n",
            "   ...\n",
            "   [1.64974487e+02 1.82545959e+02 1.82331696e+02]\n",
            "   [1.68214294e+02 1.86214294e+02 1.86214294e+02]\n",
            "   [1.66734650e+02 1.86734650e+02 1.87734650e+02]]\n",
            "\n",
            "  [[1.02576530e+02 5.53520393e+01 5.80000000e+01]\n",
            "   [9.98979568e+01 5.52142868e+01 5.81836739e+01]\n",
            "   [9.69030609e+01 5.43826523e+01 5.90000000e+01]\n",
            "   ...\n",
            "   [1.67020447e+02 1.84591919e+02 1.84377655e+02]\n",
            "   [1.64729584e+02 1.82729584e+02 1.83158157e+02]\n",
            "   [1.68352173e+02 1.88352173e+02 1.89352173e+02]]\n",
            "\n",
            "  ...\n",
            "\n",
            "  [[1.61637756e+02 9.22805557e+01 6.06629086e+00]\n",
            "   [1.55158157e+02 8.58009491e+01 3.72425020e-01]\n",
            "   [1.60474442e+02 9.09794922e+01 5.64279175e+00]\n",
            "   ...\n",
            "   [1.15785736e+02 6.45714722e+01 1.22142639e+01]\n",
            "   [1.13928558e+02 6.29285583e+01 5.92855835e+00]\n",
            "   [1.13494911e+02 6.27091751e+01 5.28064728e+00]]\n",
            "\n",
            "  [[1.59974426e+02 8.79744186e+01 4.04586124e+00]\n",
            "   [1.61051041e+02 8.90510483e+01 5.05104303e+00]\n",
            "   [1.58785751e+02 8.87857513e+01 3.78575325e+00]\n",
            "   ...\n",
            "   [1.12770432e+02 6.15561638e+01 9.19895649e+00]\n",
            "   [1.14000000e+02 6.30000000e+01 9.86732483e+00]\n",
            "   [1.16357178e+02 6.53571777e+01 1.03571777e+01]]\n",
            "\n",
            "  [[1.52714325e+02 7.77143173e+01 0.00000000e+00]\n",
            "   [1.60045959e+02 8.68366699e+01 3.38262177e+00]\n",
            "   [1.60224442e+02 8.86530075e+01 4.43872070e+00]\n",
            "   ...\n",
            "   [1.13724533e+02 6.17245331e+01 1.17245331e+01]\n",
            "   [1.12974480e+02 6.19744835e+01 8.97448254e+00]\n",
            "   [1.14000000e+02 6.30000000e+01 1.00000000e+01]]]\n",
            "\n",
            "\n",
            " [[[1.37897949e+02 5.76989784e+01 4.25969391e+01]\n",
            "   [1.39581635e+02 6.75357208e+01 5.00102043e+01]\n",
            "   [1.54989792e+02 8.88469391e+01 7.09948959e+01]\n",
            "   ...\n",
            "   [3.36376991e+01 3.12805538e+01 2.03519840e+01]\n",
            "   [3.36173935e+01 3.36173935e+01 2.36173954e+01]\n",
            "   [3.88724709e+01 3.88724709e+01 2.93316307e+01]]\n",
            "\n",
            "  [[1.39897949e+02 5.69030609e+01 3.92346954e+01]\n",
            "   [1.29647964e+02 5.42857132e+01 3.51530609e+01]\n",
            "   [1.41255112e+02 6.97397919e+01 5.02091866e+01]\n",
            "   ...\n",
            "   [3.74132233e+01 3.43417931e+01 2.76275082e+01]\n",
            "   [3.50663376e+01 3.49949112e+01 2.72806244e+01]\n",
            "   [3.59285698e+01 3.52602348e+01 2.93366699e+01]]\n",
            "\n",
            "  [[1.43632660e+02 5.63469391e+01 3.71377563e+01]\n",
            "   [1.36459183e+02 5.85867348e+01 3.57602043e+01]\n",
            "   [1.36632660e+02 6.13520393e+01 3.86122437e+01]\n",
            "   ...\n",
            "   [3.84489937e+01 3.44489937e+01 3.30204201e+01]\n",
            "   [3.65714302e+01 3.55714302e+01 3.31428566e+01]\n",
            "   [3.57857132e+01 3.47857132e+01 3.23571434e+01]]\n",
            "\n",
            "  ...\n",
            "\n",
            "  [[1.74214294e+02 1.80000000e+02 1.76000000e+02]\n",
            "   [1.74214294e+02 1.80000000e+02 1.76000000e+02]\n",
            "   [1.73168381e+02 1.78954086e+02 1.74954086e+02]\n",
            "   ...\n",
            "   [1.41954086e+02 9.00918274e+01 5.10459137e+01]\n",
            "   [1.41515274e+02 8.94846573e+01 4.97142639e+01]\n",
            "   [1.39785706e+02 8.73571167e+01 4.77857056e+01]]\n",
            "\n",
            "  [[1.74071411e+02 1.79071411e+02 1.75071411e+02]\n",
            "   [1.74071411e+02 1.79071411e+02 1.75071411e+02]\n",
            "   [1.72857132e+02 1.77857132e+02 1.73857132e+02]\n",
            "   ...\n",
            "   [1.41586777e+02 9.02295685e+01 5.10153008e+01]\n",
            "   [1.40000000e+02 8.59999390e+01 4.81326485e+01]\n",
            "   [1.39596924e+02 8.09539719e+01 4.73316727e+01]]\n",
            "\n",
            "  [[1.72071442e+02 1.74071442e+02 1.69071442e+02]\n",
            "   [1.71739807e+02 1.73739807e+02 1.68739807e+02]\n",
            "   [1.69857162e+02 1.71857162e+02 1.66857162e+02]\n",
            "   ...\n",
            "   [1.39591980e+02 8.85102539e+01 5.00307350e+01]\n",
            "   [1.45433624e+02 8.72856445e+01 5.43621902e+01]\n",
            "   [1.41056030e+02 7.57703247e+01 4.90560303e+01]]]\n",
            "\n",
            "\n",
            " [[[1.93261154e+02 1.19261162e+02 5.62611618e+01]\n",
            "   [1.93503662e+02 1.19503670e+02 5.45036659e+01]\n",
            "   [1.94838974e+02 1.24848061e+02 5.65755730e+01]\n",
            "   ...\n",
            "   [6.94935455e+01 4.08507538e+01 1.98038578e+01]\n",
            "   [5.97142334e+01 3.27142334e+01 1.51919117e+01]\n",
            "   [5.78131104e+01 3.08131084e+01 1.38131084e+01]]\n",
            "\n",
            "  [[1.94279816e+02 1.20279816e+02 5.72798157e+01]\n",
            "   [1.96439575e+02 1.22439575e+02 5.90065384e+01]\n",
            "   [1.95496338e+02 1.24757011e+02 6.06133614e+01]\n",
            "   ...\n",
            "   [7.00226746e+01 4.13798828e+01 1.95941467e+01]\n",
            "   [6.27921906e+01 3.50087051e+01 1.44417419e+01]\n",
            "   [5.67989693e+01 2.82320061e+01 1.04485235e+01]]\n",
            "\n",
            "  [[1.92745544e+02 1.19662941e+02 5.63571434e+01]\n",
            "   [1.93551346e+02 1.22551346e+02 5.91629486e+01]\n",
            "   [1.90534119e+02 1.20054207e+02 5.92691307e+01]\n",
            "   ...\n",
            "   [7.01545410e+01 4.12454491e+01 1.71144028e+01]\n",
            "   [6.80307388e+01 3.94191284e+01 1.68075218e+01]\n",
            "   [6.13684196e+01 3.27568092e+01 1.01452036e+01]]\n",
            "\n",
            "  ...\n",
            "\n",
            "  [[1.20000000e+01 9.00000000e+00 2.00000000e+00]\n",
            "   [1.30000000e+01 8.00000000e+00 2.00000000e+00]\n",
            "   [1.30000000e+01 8.00000000e+00 2.00000000e+00]\n",
            "   ...\n",
            "   [1.42934479e+02 1.04934479e+02 6.79344788e+01]\n",
            "   [1.44049591e+02 1.06049599e+02 6.93553848e+01]\n",
            "   [1.45000000e+02 1.07000000e+02 7.03057861e+01]]\n",
            "\n",
            "  [[1.20000000e+01 9.00000000e+00 2.00000000e+00]\n",
            "   [1.30000000e+01 8.00000000e+00 2.00000000e+00]\n",
            "   [1.30000000e+01 8.00000000e+00 2.00000000e+00]\n",
            "   ...\n",
            "   [1.43832123e+02 1.05832130e+02 6.87393417e+01]\n",
            "   [1.45272491e+02 1.07272491e+02 7.02724915e+01]\n",
            "   [1.46216522e+02 1.08216522e+02 7.12165222e+01]]\n",
            "\n",
            "  [[1.20000000e+01 9.00000000e+00 2.00000000e+00]\n",
            "   [1.30000000e+01 8.00000000e+00 2.00000000e+00]\n",
            "   [1.30000000e+01 8.00000000e+00 2.00000000e+00]\n",
            "   ...\n",
            "   [1.44580551e+02 1.06580551e+02 6.79909210e+01]\n",
            "   [1.46000000e+02 1.08000000e+02 6.95222778e+01]\n",
            "   [1.47000000e+02 1.09000000e+02 7.20000000e+01]]]\n",
            "\n",
            "\n",
            " ...\n",
            "\n",
            "\n",
            " [[[1.57285721e+02 1.22285713e+02 5.55714302e+01]\n",
            "   [1.58260208e+02 1.24454086e+02 5.78571434e+01]\n",
            "   [1.60780609e+02 1.27081635e+02 6.07755089e+01]\n",
            "   ...\n",
            "   [5.05714073e+01 2.55714073e+01 5.14287901e+00]\n",
            "   [5.17857399e+01 2.67857399e+01 6.78574038e+00]\n",
            "   [5.72296486e+01 3.02296486e+01 1.12296495e+01]]\n",
            "\n",
            "  [[1.61000000e+02 1.29785721e+02 6.57857132e+01]\n",
            "   [1.60933670e+02 1.30780609e+02 6.67142868e+01]\n",
            "   [1.63142853e+02 1.33071426e+02 7.08724518e+01]\n",
            "   ...\n",
            "   [4.90714264e+01 2.42703876e+01 3.44394112e+00]\n",
            "   [5.21479874e+01 2.71479855e+01 7.14798641e+00]\n",
            "   [5.67652740e+01 3.27602730e+01 1.24286060e+01]]\n",
            "\n",
            "  [[1.60637756e+02 1.33933670e+02 7.56428604e+01]\n",
            "   [1.60000000e+02 1.34214279e+02 7.58571472e+01]\n",
            "   [1.61214279e+02 1.35428558e+02 7.86428604e+01]\n",
            "   ...\n",
            "   [4.96428146e+01 2.72142868e+01 5.57149410e+00]\n",
            "   [4.91836662e+01 2.75000134e+01 6.48470449e+00]\n",
            "   [4.97857132e+01 2.94285717e+01 9.78571415e+00]]\n",
            "\n",
            "  ...\n",
            "\n",
            "  [[2.48030762e+02 2.04331848e+02 1.20183937e+02]\n",
            "   [2.37423752e+02 1.95694229e+02 1.07638130e+02]\n",
            "   [2.14500015e+02 1.72785828e+02 7.55001755e+01]\n",
            "   ...\n",
            "   [8.34744339e+01 4.65968819e+01 9.54090953e-01]\n",
            "   [7.96988678e+01 4.51019936e+01 1.98956549e-01]\n",
            "   [7.57907028e+01 4.15662613e+01 0.00000000e+00]]\n",
            "\n",
            "  [[2.37127609e+02 2.01413376e+02 1.24341972e+02]\n",
            "   [2.54601974e+02 2.24658066e+02 1.42882584e+02]\n",
            "   [2.25627563e+02 1.89857162e+02 9.89031067e+01]\n",
            "   ...\n",
            "   [7.84692917e+01 4.30713806e+01 7.85736084e-01]\n",
            "   [7.46478958e+01 3.98520126e+01 0.00000000e+00]\n",
            "   [7.19030380e+01 3.82347031e+01 0.00000000e+00]]\n",
            "\n",
            "  [[2.30427979e+02 2.01014771e+02 1.29040283e+02]\n",
            "   [2.35464096e+02 2.07107025e+02 1.29795822e+02]\n",
            "   [2.12836456e+02 1.80831421e+02 9.45558853e+01]\n",
            "   ...\n",
            "   [7.32192612e+01 3.84999084e+01 0.00000000e+00]\n",
            "   [6.92142029e+01 3.52142029e+01 0.00000000e+00]\n",
            "   [6.72856445e+01 3.52856445e+01 0.00000000e+00]]]\n",
            "\n",
            "\n",
            " [[[2.05500000e+02 1.23500000e+02 4.15000000e+01]\n",
            "   [2.06520416e+02 1.23520409e+02 4.35204048e+01]\n",
            "   [2.05918365e+02 1.23132652e+02 4.76377525e+01]\n",
            "   ...\n",
            "   [2.50653091e+02 2.54494949e+02 2.43214325e+02]\n",
            "   [2.45469406e+02 2.52229614e+02 2.41872482e+02]\n",
            "   [2.49214249e+02 2.54872437e+02 2.46214249e+02]]\n",
            "\n",
            "  [[2.05903061e+02 1.23903061e+02 3.99030571e+01]\n",
            "   [2.04658157e+02 1.22591835e+02 4.07244873e+01]\n",
            "   [2.10372452e+02 1.27586731e+02 5.01581612e+01]\n",
            "   ...\n",
            "   [2.52326508e+02 2.55000000e+02 2.44127548e+02]\n",
            "   [2.53316299e+02 2.54867355e+02 2.45591827e+02]\n",
            "   [2.45806076e+02 2.52520432e+02 2.40209183e+02]]\n",
            "\n",
            "  [[2.07770416e+02 1.26198982e+02 3.95561218e+01]\n",
            "   [2.04688766e+02 1.23117348e+02 3.88724518e+01]\n",
            "   [2.10494888e+02 1.29494888e+02 4.83265305e+01]\n",
            "   ...\n",
            "   [2.51295822e+02 2.52530548e+02 2.42295822e+02]\n",
            "   [2.53117310e+02 2.54928558e+02 2.43117310e+02]\n",
            "   [2.47791061e+02 2.52290970e+02 2.39362503e+02]]\n",
            "\n",
            "  ...\n",
            "\n",
            "  [[2.16892456e+02 1.23678192e+02 3.13209820e+01]\n",
            "   [2.09224030e+02 1.16009773e+02 2.36525631e+01]\n",
            "   [2.03147751e+02 1.08101845e+02 1.82395840e+01]\n",
            "   ...\n",
            "   [4.81683540e+01 2.11683540e+01 4.16835499e+00]\n",
            "   [4.64132195e+01 1.94132214e+01 2.41322041e+00]\n",
            "   [4.63571777e+01 1.93571777e+01 2.35717773e+00]]\n",
            "\n",
            "  [[2.09816269e+02 1.16816269e+02 2.18162670e+01]\n",
            "   [2.11846832e+02 1.18846832e+02 2.58468342e+01]\n",
            "   [2.14627594e+02 1.19627586e+02 2.80561581e+01]\n",
            "   ...\n",
            "   [4.62295723e+01 1.92295704e+01 2.22957134e+00]\n",
            "   [4.61479874e+01 1.91479874e+01 2.14798713e+00]\n",
            "   [4.80714417e+01 2.10714417e+01 4.07144165e+00]]\n",
            "\n",
            "  [[2.02699173e+02 1.09699165e+02 1.46991663e+01]\n",
            "   [1.91872650e+02 9.88726501e+01 3.87264538e+00]\n",
            "   [2.09275421e+02 1.14275421e+02 2.27039967e+01]\n",
            "   ...\n",
            "   [4.54949112e+01 1.84949112e+01 1.49491131e+00]\n",
            "   [4.77602806e+01 2.07602806e+01 3.76027966e+00]\n",
            "   [4.76428223e+01 2.06428223e+01 3.64282227e+00]]]\n",
            "\n",
            "\n",
            " [[[1.22852043e+02 6.08520432e+01 9.85204124e+00]\n",
            "   [1.20403061e+02 6.31887779e+01 9.06632614e+00]\n",
            "   [1.19117348e+02 6.47602005e+01 7.82653046e+00]\n",
            "   ...\n",
            "   [2.17214325e+02 2.04214325e+02 1.88214325e+02]\n",
            "   [2.16954071e+02 2.03954071e+02 1.87954071e+02]\n",
            "   [2.16714325e+02 2.03714325e+02 1.87714325e+02]]\n",
            "\n",
            "  [[1.14714287e+02 5.47142868e+01 3.37755060e+00]\n",
            "   [1.15566322e+02 5.83520393e+01 3.42346787e+00]\n",
            "   [1.24122452e+02 6.93214340e+01 1.17244930e+01]\n",
            "   ...\n",
            "   [2.17785736e+02 2.04785736e+02 1.88785736e+02]\n",
            "   [2.16928558e+02 2.03928558e+02 1.87928558e+02]\n",
            "   [2.17260239e+02 2.04260239e+02 1.88260239e+02]]\n",
            "\n",
            "  [[1.23285713e+02 6.39285736e+01 1.17142868e+01]\n",
            "   [1.29229599e+02 7.22295914e+01 1.72295933e+01]\n",
            "   [1.31770416e+02 7.51275482e+01 1.79132652e+01]\n",
            "   ...\n",
            "   [2.17214279e+02 2.04214279e+02 1.88214279e+02]\n",
            "   [2.17056137e+02 2.04056137e+02 1.88056137e+02]\n",
            "   [2.19637817e+02 2.06637817e+02 1.90637817e+02]]\n",
            "\n",
            "  ...\n",
            "\n",
            "  [[2.53785736e+02 2.54785736e+02 2.48785736e+02]\n",
            "   [2.54000000e+02 2.55000000e+02 2.49000000e+02]\n",
            "   [2.54000000e+02 2.55000000e+02 2.49000000e+02]\n",
            "   ...\n",
            "   [2.49168350e+02 2.39168350e+02 2.29168350e+02]\n",
            "   [2.54556168e+02 2.44556168e+02 2.34556168e+02]\n",
            "   [2.49295822e+02 2.39295822e+02 2.29295822e+02]]\n",
            "\n",
            "  [[2.54403076e+02 2.55000000e+02 2.47403076e+02]\n",
            "   [2.54000000e+02 2.55000000e+02 2.47000000e+02]\n",
            "   [2.53000000e+02 2.54000000e+02 2.46000000e+02]\n",
            "   ...\n",
            "   [2.50153091e+02 2.40153091e+02 2.30153091e+02]\n",
            "   [2.48270462e+02 2.38270462e+02 2.28270462e+02]\n",
            "   [2.52545959e+02 2.42545959e+02 2.32545959e+02]]\n",
            "\n",
            "  [[2.55000000e+02 2.55000000e+02 2.48000000e+02]\n",
            "   [2.54071426e+02 2.55000000e+02 2.47071426e+02]\n",
            "   [2.53000000e+02 2.54000000e+02 2.46000000e+02]\n",
            "   ...\n",
            "   [2.50959122e+02 2.40959122e+02 2.30959122e+02]\n",
            "   [2.51647934e+02 2.41647934e+02 2.31647934e+02]\n",
            "   [2.50943954e+02 2.40943954e+02 2.30943954e+02]]]], shape=(32, 224, 224, 3), dtype=float32) tf.Tensor(\n",
            "[[0. 0. 0. 0. 0. 0. 0. 1. 0. 0.]\n",
            " [0. 1. 0. 0. 0. 0. 0. 0. 0. 0.]\n",
            " [0. 0. 0. 0. 0. 0. 0. 1. 0. 0.]\n",
            " [0. 0. 0. 0. 1. 0. 0. 0. 0. 0.]\n",
            " [0. 1. 0. 0. 0. 0. 0. 0. 0. 0.]\n",
            " [0. 0. 0. 1. 0. 0. 0. 0. 0. 0.]\n",
            " [0. 0. 0. 0. 0. 0. 0. 0. 1. 0.]\n",
            " [0. 0. 0. 0. 0. 1. 0. 0. 0. 0.]\n",
            " [1. 0. 0. 0. 0. 0. 0. 0. 0. 0.]\n",
            " [0. 0. 0. 0. 1. 0. 0. 0. 0. 0.]\n",
            " [0. 0. 0. 0. 0. 0. 0. 0. 1. 0.]\n",
            " [0. 0. 0. 0. 0. 0. 1. 0. 0. 0.]\n",
            " [0. 0. 0. 0. 0. 1. 0. 0. 0. 0.]\n",
            " [0. 0. 0. 0. 0. 0. 1. 0. 0. 0.]\n",
            " [0. 0. 0. 0. 0. 0. 0. 0. 0. 1.]\n",
            " [0. 0. 0. 0. 0. 0. 0. 1. 0. 0.]\n",
            " [0. 0. 0. 0. 0. 0. 1. 0. 0. 0.]\n",
            " [0. 0. 1. 0. 0. 0. 0. 0. 0. 0.]\n",
            " [0. 0. 1. 0. 0. 0. 0. 0. 0. 0.]\n",
            " [0. 0. 0. 0. 0. 0. 0. 0. 0. 1.]\n",
            " [0. 0. 0. 0. 0. 0. 1. 0. 0. 0.]\n",
            " [0. 0. 0. 0. 0. 0. 0. 1. 0. 0.]\n",
            " [0. 0. 0. 0. 0. 0. 0. 0. 1. 0.]\n",
            " [0. 0. 0. 0. 0. 0. 0. 0. 1. 0.]\n",
            " [0. 0. 0. 0. 0. 0. 1. 0. 0. 0.]\n",
            " [0. 0. 0. 0. 0. 0. 0. 0. 1. 0.]\n",
            " [0. 0. 0. 0. 0. 0. 1. 0. 0. 0.]\n",
            " [0. 0. 0. 1. 0. 0. 0. 0. 0. 0.]\n",
            " [1. 0. 0. 0. 0. 0. 0. 0. 0. 0.]\n",
            " [0. 0. 0. 0. 0. 1. 0. 0. 0. 0.]\n",
            " [0. 0. 0. 1. 0. 0. 0. 0. 0. 0.]\n",
            " [1. 0. 0. 0. 0. 0. 0. 0. 0. 0.]], shape=(32, 10), dtype=float32)\n"
          ]
        }
      ]
    },
    {
      "cell_type": "markdown",
      "source": [
        "## model 0: Building a transfer learning feature extraction model using the Keras Functional API\n",
        "\n",
        "The sequential API is straight forward, it runs our layers in sequential order.\n",
        "\n",
        "But the functional API gives us flexibility with our models\n",
        "\n",
        "---\n",
        "\n"
      ],
      "metadata": {
        "id": "rbIbf4H1DKwl"
      }
    },
    {
      "cell_type": "code",
      "source": [
        "#1. create base model with tf.keras.applications\n",
        "base_model= tf.keras.applications.EfficientNetB0(include_top=False)\n",
        "\n",
        "#2. freeze the base model (so the underlying pre trained patterns are not updating)\n",
        "base_model.trainable=False\n",
        "\n",
        "#3. Create inputs into our model\n",
        "inputs = tf.keras.layers.Input(shape=(224,224,3), name=\"input_layer\")\n",
        "\n",
        "#4. If uisng Resnet50V2 you will need to normalize inputs (you dont have to for EfficientNet)\n",
        "#x=tf.keras.layers.experimental.preprocessing.Rescaling(1./255)(inputs)\n",
        "\n",
        "#5. Past the input to the base_model\n",
        "x=base_model(inputs)\n",
        "print(f\"Shape after passing inputs through base model: {x.shape}\")\n",
        "\n",
        "#6. Average pool the outputs of the base model (aggregate all the most important information, reduce number of computations)\n",
        "x=tf.keras.layers.GlobalAveragePooling2D(name=\"global_average_pooling_layer\")(x)\n",
        "print(f\"Shape after GlobalAveragePooling2D: {x.shape}\")\n",
        "\n",
        "#7. Create the output activation layer\n",
        "outputs = tf.keras.layers.Dense(10, activation=\"softmax\", name=\"output_layer\")(x)\n",
        "\n",
        "#8. combine the inputs with the outputs into a model\n",
        "model_0 = tf.keras.Model(inputs, outputs)\n",
        "\n",
        "#9. Compile for the model\n",
        "model_0.compile(loss=\"categorical_crossentropy\",\n",
        "                optimizer=tf.keras.optimizers.Adam(),\n",
        "                metrics=[\"accuracy\"])\n",
        "\n",
        "#10. fit the model\n",
        "history_10_percent = model_0.fit(train_data_10_percent,\n",
        "                                 epochs=5,\n",
        "                                 steps_per_epoch=len(train_data_10_percent),\n",
        "                                 validation_data=test_data_10_percent,\n",
        "                                 validation_steps=int(0.25*len(test_data_10_percent)),\n",
        "                                 callbacks=[create_tensorboard_callback(dir_name=\"transfer_learning\",\n",
        "                                                                        experiment_name=\"10_percent_feature_extraction\")])"
      ],
      "metadata": {
        "colab": {
          "base_uri": "https://localhost:8080/"
        },
        "id": "8d7RBHgmFeD3",
        "outputId": "8f5691af-377c-4054-91c8-a462c2322ac5"
      },
      "execution_count": 11,
      "outputs": [
        {
          "output_type": "stream",
          "name": "stdout",
          "text": [
            "Downloading data from https://storage.googleapis.com/keras-applications/efficientnetb0_notop.h5\n",
            "16711680/16705208 [==============================] - 0s 0us/step\n",
            "16719872/16705208 [==============================] - 0s 0us/step\n",
            "Shape after passing inputs through base model: (None, 7, 7, 1280)\n",
            "Shape after GlobalAveragePooling2D: (None, 1280)\n",
            "Saving TensorBoard log files to: transfer_learning/10_percent_feature_extraction/20220222-061326\n",
            "Epoch 1/5\n",
            "24/24 [==============================] - 28s 453ms/step - loss: 1.8611 - accuracy: 0.4227 - val_loss: 1.3152 - val_accuracy: 0.7039\n",
            "Epoch 2/5\n",
            "24/24 [==============================] - 9s 358ms/step - loss: 1.1322 - accuracy: 0.7547 - val_loss: 0.8999 - val_accuracy: 0.8174\n",
            "Epoch 3/5\n",
            "24/24 [==============================] - 7s 267ms/step - loss: 0.8293 - accuracy: 0.8027 - val_loss: 0.7425 - val_accuracy: 0.8257\n",
            "Epoch 4/5\n",
            "24/24 [==============================] - 8s 308ms/step - loss: 0.6754 - accuracy: 0.8480 - val_loss: 0.6574 - val_accuracy: 0.8273\n",
            "Epoch 5/5\n",
            "24/24 [==============================] - 7s 266ms/step - loss: 0.5838 - accuracy: 0.8573 - val_loss: 0.5846 - val_accuracy: 0.8487\n"
          ]
        }
      ]
    },
    {
      "cell_type": "code",
      "source": [
        "#evaluate on the full test dataset\n",
        "model_0.evaluate(test_data_10_percent)"
      ],
      "metadata": {
        "id": "ufSVZznqHgVG",
        "colab": {
          "base_uri": "https://localhost:8080/"
        },
        "outputId": "187f3cfd-cb16-4d37-f6b1-cb3a1f5e7729"
      },
      "execution_count": 12,
      "outputs": [
        {
          "output_type": "stream",
          "name": "stdout",
          "text": [
            "79/79 [==============================] - 11s 137ms/step - loss: 0.6109 - accuracy: 0.8364\n"
          ]
        },
        {
          "output_type": "execute_result",
          "data": {
            "text/plain": [
              "[0.6108518838882446, 0.8363999724388123]"
            ]
          },
          "metadata": {},
          "execution_count": 12
        }
      ]
    },
    {
      "cell_type": "code",
      "source": [
        "#check the layers in our base model\n",
        "for layer_number, layer in enumerate(base_model.layers):\n",
        "  print(layer_number,layer.name)"
      ],
      "metadata": {
        "colab": {
          "base_uri": "https://localhost:8080/"
        },
        "id": "2CEWuanKQ9TP",
        "outputId": "ad9349f9-781c-40c1-f490-d033777960a0"
      },
      "execution_count": 13,
      "outputs": [
        {
          "output_type": "stream",
          "name": "stdout",
          "text": [
            "0 input_1\n",
            "1 rescaling\n",
            "2 normalization\n",
            "3 stem_conv_pad\n",
            "4 stem_conv\n",
            "5 stem_bn\n",
            "6 stem_activation\n",
            "7 block1a_dwconv\n",
            "8 block1a_bn\n",
            "9 block1a_activation\n",
            "10 block1a_se_squeeze\n",
            "11 block1a_se_reshape\n",
            "12 block1a_se_reduce\n",
            "13 block1a_se_expand\n",
            "14 block1a_se_excite\n",
            "15 block1a_project_conv\n",
            "16 block1a_project_bn\n",
            "17 block2a_expand_conv\n",
            "18 block2a_expand_bn\n",
            "19 block2a_expand_activation\n",
            "20 block2a_dwconv_pad\n",
            "21 block2a_dwconv\n",
            "22 block2a_bn\n",
            "23 block2a_activation\n",
            "24 block2a_se_squeeze\n",
            "25 block2a_se_reshape\n",
            "26 block2a_se_reduce\n",
            "27 block2a_se_expand\n",
            "28 block2a_se_excite\n",
            "29 block2a_project_conv\n",
            "30 block2a_project_bn\n",
            "31 block2b_expand_conv\n",
            "32 block2b_expand_bn\n",
            "33 block2b_expand_activation\n",
            "34 block2b_dwconv\n",
            "35 block2b_bn\n",
            "36 block2b_activation\n",
            "37 block2b_se_squeeze\n",
            "38 block2b_se_reshape\n",
            "39 block2b_se_reduce\n",
            "40 block2b_se_expand\n",
            "41 block2b_se_excite\n",
            "42 block2b_project_conv\n",
            "43 block2b_project_bn\n",
            "44 block2b_drop\n",
            "45 block2b_add\n",
            "46 block3a_expand_conv\n",
            "47 block3a_expand_bn\n",
            "48 block3a_expand_activation\n",
            "49 block3a_dwconv_pad\n",
            "50 block3a_dwconv\n",
            "51 block3a_bn\n",
            "52 block3a_activation\n",
            "53 block3a_se_squeeze\n",
            "54 block3a_se_reshape\n",
            "55 block3a_se_reduce\n",
            "56 block3a_se_expand\n",
            "57 block3a_se_excite\n",
            "58 block3a_project_conv\n",
            "59 block3a_project_bn\n",
            "60 block3b_expand_conv\n",
            "61 block3b_expand_bn\n",
            "62 block3b_expand_activation\n",
            "63 block3b_dwconv\n",
            "64 block3b_bn\n",
            "65 block3b_activation\n",
            "66 block3b_se_squeeze\n",
            "67 block3b_se_reshape\n",
            "68 block3b_se_reduce\n",
            "69 block3b_se_expand\n",
            "70 block3b_se_excite\n",
            "71 block3b_project_conv\n",
            "72 block3b_project_bn\n",
            "73 block3b_drop\n",
            "74 block3b_add\n",
            "75 block4a_expand_conv\n",
            "76 block4a_expand_bn\n",
            "77 block4a_expand_activation\n",
            "78 block4a_dwconv_pad\n",
            "79 block4a_dwconv\n",
            "80 block4a_bn\n",
            "81 block4a_activation\n",
            "82 block4a_se_squeeze\n",
            "83 block4a_se_reshape\n",
            "84 block4a_se_reduce\n",
            "85 block4a_se_expand\n",
            "86 block4a_se_excite\n",
            "87 block4a_project_conv\n",
            "88 block4a_project_bn\n",
            "89 block4b_expand_conv\n",
            "90 block4b_expand_bn\n",
            "91 block4b_expand_activation\n",
            "92 block4b_dwconv\n",
            "93 block4b_bn\n",
            "94 block4b_activation\n",
            "95 block4b_se_squeeze\n",
            "96 block4b_se_reshape\n",
            "97 block4b_se_reduce\n",
            "98 block4b_se_expand\n",
            "99 block4b_se_excite\n",
            "100 block4b_project_conv\n",
            "101 block4b_project_bn\n",
            "102 block4b_drop\n",
            "103 block4b_add\n",
            "104 block4c_expand_conv\n",
            "105 block4c_expand_bn\n",
            "106 block4c_expand_activation\n",
            "107 block4c_dwconv\n",
            "108 block4c_bn\n",
            "109 block4c_activation\n",
            "110 block4c_se_squeeze\n",
            "111 block4c_se_reshape\n",
            "112 block4c_se_reduce\n",
            "113 block4c_se_expand\n",
            "114 block4c_se_excite\n",
            "115 block4c_project_conv\n",
            "116 block4c_project_bn\n",
            "117 block4c_drop\n",
            "118 block4c_add\n",
            "119 block5a_expand_conv\n",
            "120 block5a_expand_bn\n",
            "121 block5a_expand_activation\n",
            "122 block5a_dwconv\n",
            "123 block5a_bn\n",
            "124 block5a_activation\n",
            "125 block5a_se_squeeze\n",
            "126 block5a_se_reshape\n",
            "127 block5a_se_reduce\n",
            "128 block5a_se_expand\n",
            "129 block5a_se_excite\n",
            "130 block5a_project_conv\n",
            "131 block5a_project_bn\n",
            "132 block5b_expand_conv\n",
            "133 block5b_expand_bn\n",
            "134 block5b_expand_activation\n",
            "135 block5b_dwconv\n",
            "136 block5b_bn\n",
            "137 block5b_activation\n",
            "138 block5b_se_squeeze\n",
            "139 block5b_se_reshape\n",
            "140 block5b_se_reduce\n",
            "141 block5b_se_expand\n",
            "142 block5b_se_excite\n",
            "143 block5b_project_conv\n",
            "144 block5b_project_bn\n",
            "145 block5b_drop\n",
            "146 block5b_add\n",
            "147 block5c_expand_conv\n",
            "148 block5c_expand_bn\n",
            "149 block5c_expand_activation\n",
            "150 block5c_dwconv\n",
            "151 block5c_bn\n",
            "152 block5c_activation\n",
            "153 block5c_se_squeeze\n",
            "154 block5c_se_reshape\n",
            "155 block5c_se_reduce\n",
            "156 block5c_se_expand\n",
            "157 block5c_se_excite\n",
            "158 block5c_project_conv\n",
            "159 block5c_project_bn\n",
            "160 block5c_drop\n",
            "161 block5c_add\n",
            "162 block6a_expand_conv\n",
            "163 block6a_expand_bn\n",
            "164 block6a_expand_activation\n",
            "165 block6a_dwconv_pad\n",
            "166 block6a_dwconv\n",
            "167 block6a_bn\n",
            "168 block6a_activation\n",
            "169 block6a_se_squeeze\n",
            "170 block6a_se_reshape\n",
            "171 block6a_se_reduce\n",
            "172 block6a_se_expand\n",
            "173 block6a_se_excite\n",
            "174 block6a_project_conv\n",
            "175 block6a_project_bn\n",
            "176 block6b_expand_conv\n",
            "177 block6b_expand_bn\n",
            "178 block6b_expand_activation\n",
            "179 block6b_dwconv\n",
            "180 block6b_bn\n",
            "181 block6b_activation\n",
            "182 block6b_se_squeeze\n",
            "183 block6b_se_reshape\n",
            "184 block6b_se_reduce\n",
            "185 block6b_se_expand\n",
            "186 block6b_se_excite\n",
            "187 block6b_project_conv\n",
            "188 block6b_project_bn\n",
            "189 block6b_drop\n",
            "190 block6b_add\n",
            "191 block6c_expand_conv\n",
            "192 block6c_expand_bn\n",
            "193 block6c_expand_activation\n",
            "194 block6c_dwconv\n",
            "195 block6c_bn\n",
            "196 block6c_activation\n",
            "197 block6c_se_squeeze\n",
            "198 block6c_se_reshape\n",
            "199 block6c_se_reduce\n",
            "200 block6c_se_expand\n",
            "201 block6c_se_excite\n",
            "202 block6c_project_conv\n",
            "203 block6c_project_bn\n",
            "204 block6c_drop\n",
            "205 block6c_add\n",
            "206 block6d_expand_conv\n",
            "207 block6d_expand_bn\n",
            "208 block6d_expand_activation\n",
            "209 block6d_dwconv\n",
            "210 block6d_bn\n",
            "211 block6d_activation\n",
            "212 block6d_se_squeeze\n",
            "213 block6d_se_reshape\n",
            "214 block6d_se_reduce\n",
            "215 block6d_se_expand\n",
            "216 block6d_se_excite\n",
            "217 block6d_project_conv\n",
            "218 block6d_project_bn\n",
            "219 block6d_drop\n",
            "220 block6d_add\n",
            "221 block7a_expand_conv\n",
            "222 block7a_expand_bn\n",
            "223 block7a_expand_activation\n",
            "224 block7a_dwconv\n",
            "225 block7a_bn\n",
            "226 block7a_activation\n",
            "227 block7a_se_squeeze\n",
            "228 block7a_se_reshape\n",
            "229 block7a_se_reduce\n",
            "230 block7a_se_expand\n",
            "231 block7a_se_excite\n",
            "232 block7a_project_conv\n",
            "233 block7a_project_bn\n",
            "234 top_conv\n",
            "235 top_bn\n",
            "236 top_activation\n"
          ]
        }
      ]
    },
    {
      "cell_type": "code",
      "source": [
        "#how about we get a summary of the base model?\n",
        "base_model.summary()"
      ],
      "metadata": {
        "colab": {
          "base_uri": "https://localhost:8080/"
        },
        "id": "k0P1aVNRRUX-",
        "outputId": "960fbd07-4ff5-458e-c297-786ea78771fe"
      },
      "execution_count": 14,
      "outputs": [
        {
          "output_type": "stream",
          "name": "stdout",
          "text": [
            "Model: \"efficientnetb0\"\n",
            "__________________________________________________________________________________________________\n",
            " Layer (type)                   Output Shape         Param #     Connected to                     \n",
            "==================================================================================================\n",
            " input_1 (InputLayer)           [(None, None, None,  0           []                               \n",
            "                                 3)]                                                              \n",
            "                                                                                                  \n",
            " rescaling (Rescaling)          (None, None, None,   0           ['input_1[0][0]']                \n",
            "                                3)                                                                \n",
            "                                                                                                  \n",
            " normalization (Normalization)  (None, None, None,   7           ['rescaling[0][0]']              \n",
            "                                3)                                                                \n",
            "                                                                                                  \n",
            " stem_conv_pad (ZeroPadding2D)  (None, None, None,   0           ['normalization[0][0]']          \n",
            "                                3)                                                                \n",
            "                                                                                                  \n",
            " stem_conv (Conv2D)             (None, None, None,   864         ['stem_conv_pad[0][0]']          \n",
            "                                32)                                                               \n",
            "                                                                                                  \n",
            " stem_bn (BatchNormalization)   (None, None, None,   128         ['stem_conv[0][0]']              \n",
            "                                32)                                                               \n",
            "                                                                                                  \n",
            " stem_activation (Activation)   (None, None, None,   0           ['stem_bn[0][0]']                \n",
            "                                32)                                                               \n",
            "                                                                                                  \n",
            " block1a_dwconv (DepthwiseConv2  (None, None, None,   288        ['stem_activation[0][0]']        \n",
            " D)                             32)                                                               \n",
            "                                                                                                  \n",
            " block1a_bn (BatchNormalization  (None, None, None,   128        ['block1a_dwconv[0][0]']         \n",
            " )                              32)                                                               \n",
            "                                                                                                  \n",
            " block1a_activation (Activation  (None, None, None,   0          ['block1a_bn[0][0]']             \n",
            " )                              32)                                                               \n",
            "                                                                                                  \n",
            " block1a_se_squeeze (GlobalAver  (None, 32)          0           ['block1a_activation[0][0]']     \n",
            " agePooling2D)                                                                                    \n",
            "                                                                                                  \n",
            " block1a_se_reshape (Reshape)   (None, 1, 1, 32)     0           ['block1a_se_squeeze[0][0]']     \n",
            "                                                                                                  \n",
            " block1a_se_reduce (Conv2D)     (None, 1, 1, 8)      264         ['block1a_se_reshape[0][0]']     \n",
            "                                                                                                  \n",
            " block1a_se_expand (Conv2D)     (None, 1, 1, 32)     288         ['block1a_se_reduce[0][0]']      \n",
            "                                                                                                  \n",
            " block1a_se_excite (Multiply)   (None, None, None,   0           ['block1a_activation[0][0]',     \n",
            "                                32)                               'block1a_se_expand[0][0]']      \n",
            "                                                                                                  \n",
            " block1a_project_conv (Conv2D)  (None, None, None,   512         ['block1a_se_excite[0][0]']      \n",
            "                                16)                                                               \n",
            "                                                                                                  \n",
            " block1a_project_bn (BatchNorma  (None, None, None,   64         ['block1a_project_conv[0][0]']   \n",
            " lization)                      16)                                                               \n",
            "                                                                                                  \n",
            " block2a_expand_conv (Conv2D)   (None, None, None,   1536        ['block1a_project_bn[0][0]']     \n",
            "                                96)                                                               \n",
            "                                                                                                  \n",
            " block2a_expand_bn (BatchNormal  (None, None, None,   384        ['block2a_expand_conv[0][0]']    \n",
            " ization)                       96)                                                               \n",
            "                                                                                                  \n",
            " block2a_expand_activation (Act  (None, None, None,   0          ['block2a_expand_bn[0][0]']      \n",
            " ivation)                       96)                                                               \n",
            "                                                                                                  \n",
            " block2a_dwconv_pad (ZeroPaddin  (None, None, None,   0          ['block2a_expand_activation[0][0]\n",
            " g2D)                           96)                              ']                               \n",
            "                                                                                                  \n",
            " block2a_dwconv (DepthwiseConv2  (None, None, None,   864        ['block2a_dwconv_pad[0][0]']     \n",
            " D)                             96)                                                               \n",
            "                                                                                                  \n",
            " block2a_bn (BatchNormalization  (None, None, None,   384        ['block2a_dwconv[0][0]']         \n",
            " )                              96)                                                               \n",
            "                                                                                                  \n",
            " block2a_activation (Activation  (None, None, None,   0          ['block2a_bn[0][0]']             \n",
            " )                              96)                                                               \n",
            "                                                                                                  \n",
            " block2a_se_squeeze (GlobalAver  (None, 96)          0           ['block2a_activation[0][0]']     \n",
            " agePooling2D)                                                                                    \n",
            "                                                                                                  \n",
            " block2a_se_reshape (Reshape)   (None, 1, 1, 96)     0           ['block2a_se_squeeze[0][0]']     \n",
            "                                                                                                  \n",
            " block2a_se_reduce (Conv2D)     (None, 1, 1, 4)      388         ['block2a_se_reshape[0][0]']     \n",
            "                                                                                                  \n",
            " block2a_se_expand (Conv2D)     (None, 1, 1, 96)     480         ['block2a_se_reduce[0][0]']      \n",
            "                                                                                                  \n",
            " block2a_se_excite (Multiply)   (None, None, None,   0           ['block2a_activation[0][0]',     \n",
            "                                96)                               'block2a_se_expand[0][0]']      \n",
            "                                                                                                  \n",
            " block2a_project_conv (Conv2D)  (None, None, None,   2304        ['block2a_se_excite[0][0]']      \n",
            "                                24)                                                               \n",
            "                                                                                                  \n",
            " block2a_project_bn (BatchNorma  (None, None, None,   96         ['block2a_project_conv[0][0]']   \n",
            " lization)                      24)                                                               \n",
            "                                                                                                  \n",
            " block2b_expand_conv (Conv2D)   (None, None, None,   3456        ['block2a_project_bn[0][0]']     \n",
            "                                144)                                                              \n",
            "                                                                                                  \n",
            " block2b_expand_bn (BatchNormal  (None, None, None,   576        ['block2b_expand_conv[0][0]']    \n",
            " ization)                       144)                                                              \n",
            "                                                                                                  \n",
            " block2b_expand_activation (Act  (None, None, None,   0          ['block2b_expand_bn[0][0]']      \n",
            " ivation)                       144)                                                              \n",
            "                                                                                                  \n",
            " block2b_dwconv (DepthwiseConv2  (None, None, None,   1296       ['block2b_expand_activation[0][0]\n",
            " D)                             144)                             ']                               \n",
            "                                                                                                  \n",
            " block2b_bn (BatchNormalization  (None, None, None,   576        ['block2b_dwconv[0][0]']         \n",
            " )                              144)                                                              \n",
            "                                                                                                  \n",
            " block2b_activation (Activation  (None, None, None,   0          ['block2b_bn[0][0]']             \n",
            " )                              144)                                                              \n",
            "                                                                                                  \n",
            " block2b_se_squeeze (GlobalAver  (None, 144)         0           ['block2b_activation[0][0]']     \n",
            " agePooling2D)                                                                                    \n",
            "                                                                                                  \n",
            " block2b_se_reshape (Reshape)   (None, 1, 1, 144)    0           ['block2b_se_squeeze[0][0]']     \n",
            "                                                                                                  \n",
            " block2b_se_reduce (Conv2D)     (None, 1, 1, 6)      870         ['block2b_se_reshape[0][0]']     \n",
            "                                                                                                  \n",
            " block2b_se_expand (Conv2D)     (None, 1, 1, 144)    1008        ['block2b_se_reduce[0][0]']      \n",
            "                                                                                                  \n",
            " block2b_se_excite (Multiply)   (None, None, None,   0           ['block2b_activation[0][0]',     \n",
            "                                144)                              'block2b_se_expand[0][0]']      \n",
            "                                                                                                  \n",
            " block2b_project_conv (Conv2D)  (None, None, None,   3456        ['block2b_se_excite[0][0]']      \n",
            "                                24)                                                               \n",
            "                                                                                                  \n",
            " block2b_project_bn (BatchNorma  (None, None, None,   96         ['block2b_project_conv[0][0]']   \n",
            " lization)                      24)                                                               \n",
            "                                                                                                  \n",
            " block2b_drop (Dropout)         (None, None, None,   0           ['block2b_project_bn[0][0]']     \n",
            "                                24)                                                               \n",
            "                                                                                                  \n",
            " block2b_add (Add)              (None, None, None,   0           ['block2b_drop[0][0]',           \n",
            "                                24)                               'block2a_project_bn[0][0]']     \n",
            "                                                                                                  \n",
            " block3a_expand_conv (Conv2D)   (None, None, None,   3456        ['block2b_add[0][0]']            \n",
            "                                144)                                                              \n",
            "                                                                                                  \n",
            " block3a_expand_bn (BatchNormal  (None, None, None,   576        ['block3a_expand_conv[0][0]']    \n",
            " ization)                       144)                                                              \n",
            "                                                                                                  \n",
            " block3a_expand_activation (Act  (None, None, None,   0          ['block3a_expand_bn[0][0]']      \n",
            " ivation)                       144)                                                              \n",
            "                                                                                                  \n",
            " block3a_dwconv_pad (ZeroPaddin  (None, None, None,   0          ['block3a_expand_activation[0][0]\n",
            " g2D)                           144)                             ']                               \n",
            "                                                                                                  \n",
            " block3a_dwconv (DepthwiseConv2  (None, None, None,   3600       ['block3a_dwconv_pad[0][0]']     \n",
            " D)                             144)                                                              \n",
            "                                                                                                  \n",
            " block3a_bn (BatchNormalization  (None, None, None,   576        ['block3a_dwconv[0][0]']         \n",
            " )                              144)                                                              \n",
            "                                                                                                  \n",
            " block3a_activation (Activation  (None, None, None,   0          ['block3a_bn[0][0]']             \n",
            " )                              144)                                                              \n",
            "                                                                                                  \n",
            " block3a_se_squeeze (GlobalAver  (None, 144)         0           ['block3a_activation[0][0]']     \n",
            " agePooling2D)                                                                                    \n",
            "                                                                                                  \n",
            " block3a_se_reshape (Reshape)   (None, 1, 1, 144)    0           ['block3a_se_squeeze[0][0]']     \n",
            "                                                                                                  \n",
            " block3a_se_reduce (Conv2D)     (None, 1, 1, 6)      870         ['block3a_se_reshape[0][0]']     \n",
            "                                                                                                  \n",
            " block3a_se_expand (Conv2D)     (None, 1, 1, 144)    1008        ['block3a_se_reduce[0][0]']      \n",
            "                                                                                                  \n",
            " block3a_se_excite (Multiply)   (None, None, None,   0           ['block3a_activation[0][0]',     \n",
            "                                144)                              'block3a_se_expand[0][0]']      \n",
            "                                                                                                  \n",
            " block3a_project_conv (Conv2D)  (None, None, None,   5760        ['block3a_se_excite[0][0]']      \n",
            "                                40)                                                               \n",
            "                                                                                                  \n",
            " block3a_project_bn (BatchNorma  (None, None, None,   160        ['block3a_project_conv[0][0]']   \n",
            " lization)                      40)                                                               \n",
            "                                                                                                  \n",
            " block3b_expand_conv (Conv2D)   (None, None, None,   9600        ['block3a_project_bn[0][0]']     \n",
            "                                240)                                                              \n",
            "                                                                                                  \n",
            " block3b_expand_bn (BatchNormal  (None, None, None,   960        ['block3b_expand_conv[0][0]']    \n",
            " ization)                       240)                                                              \n",
            "                                                                                                  \n",
            " block3b_expand_activation (Act  (None, None, None,   0          ['block3b_expand_bn[0][0]']      \n",
            " ivation)                       240)                                                              \n",
            "                                                                                                  \n",
            " block3b_dwconv (DepthwiseConv2  (None, None, None,   6000       ['block3b_expand_activation[0][0]\n",
            " D)                             240)                             ']                               \n",
            "                                                                                                  \n",
            " block3b_bn (BatchNormalization  (None, None, None,   960        ['block3b_dwconv[0][0]']         \n",
            " )                              240)                                                              \n",
            "                                                                                                  \n",
            " block3b_activation (Activation  (None, None, None,   0          ['block3b_bn[0][0]']             \n",
            " )                              240)                                                              \n",
            "                                                                                                  \n",
            " block3b_se_squeeze (GlobalAver  (None, 240)         0           ['block3b_activation[0][0]']     \n",
            " agePooling2D)                                                                                    \n",
            "                                                                                                  \n",
            " block3b_se_reshape (Reshape)   (None, 1, 1, 240)    0           ['block3b_se_squeeze[0][0]']     \n",
            "                                                                                                  \n",
            " block3b_se_reduce (Conv2D)     (None, 1, 1, 10)     2410        ['block3b_se_reshape[0][0]']     \n",
            "                                                                                                  \n",
            " block3b_se_expand (Conv2D)     (None, 1, 1, 240)    2640        ['block3b_se_reduce[0][0]']      \n",
            "                                                                                                  \n",
            " block3b_se_excite (Multiply)   (None, None, None,   0           ['block3b_activation[0][0]',     \n",
            "                                240)                              'block3b_se_expand[0][0]']      \n",
            "                                                                                                  \n",
            " block3b_project_conv (Conv2D)  (None, None, None,   9600        ['block3b_se_excite[0][0]']      \n",
            "                                40)                                                               \n",
            "                                                                                                  \n",
            " block3b_project_bn (BatchNorma  (None, None, None,   160        ['block3b_project_conv[0][0]']   \n",
            " lization)                      40)                                                               \n",
            "                                                                                                  \n",
            " block3b_drop (Dropout)         (None, None, None,   0           ['block3b_project_bn[0][0]']     \n",
            "                                40)                                                               \n",
            "                                                                                                  \n",
            " block3b_add (Add)              (None, None, None,   0           ['block3b_drop[0][0]',           \n",
            "                                40)                               'block3a_project_bn[0][0]']     \n",
            "                                                                                                  \n",
            " block4a_expand_conv (Conv2D)   (None, None, None,   9600        ['block3b_add[0][0]']            \n",
            "                                240)                                                              \n",
            "                                                                                                  \n",
            " block4a_expand_bn (BatchNormal  (None, None, None,   960        ['block4a_expand_conv[0][0]']    \n",
            " ization)                       240)                                                              \n",
            "                                                                                                  \n",
            " block4a_expand_activation (Act  (None, None, None,   0          ['block4a_expand_bn[0][0]']      \n",
            " ivation)                       240)                                                              \n",
            "                                                                                                  \n",
            " block4a_dwconv_pad (ZeroPaddin  (None, None, None,   0          ['block4a_expand_activation[0][0]\n",
            " g2D)                           240)                             ']                               \n",
            "                                                                                                  \n",
            " block4a_dwconv (DepthwiseConv2  (None, None, None,   2160       ['block4a_dwconv_pad[0][0]']     \n",
            " D)                             240)                                                              \n",
            "                                                                                                  \n",
            " block4a_bn (BatchNormalization  (None, None, None,   960        ['block4a_dwconv[0][0]']         \n",
            " )                              240)                                                              \n",
            "                                                                                                  \n",
            " block4a_activation (Activation  (None, None, None,   0          ['block4a_bn[0][0]']             \n",
            " )                              240)                                                              \n",
            "                                                                                                  \n",
            " block4a_se_squeeze (GlobalAver  (None, 240)         0           ['block4a_activation[0][0]']     \n",
            " agePooling2D)                                                                                    \n",
            "                                                                                                  \n",
            " block4a_se_reshape (Reshape)   (None, 1, 1, 240)    0           ['block4a_se_squeeze[0][0]']     \n",
            "                                                                                                  \n",
            " block4a_se_reduce (Conv2D)     (None, 1, 1, 10)     2410        ['block4a_se_reshape[0][0]']     \n",
            "                                                                                                  \n",
            " block4a_se_expand (Conv2D)     (None, 1, 1, 240)    2640        ['block4a_se_reduce[0][0]']      \n",
            "                                                                                                  \n",
            " block4a_se_excite (Multiply)   (None, None, None,   0           ['block4a_activation[0][0]',     \n",
            "                                240)                              'block4a_se_expand[0][0]']      \n",
            "                                                                                                  \n",
            " block4a_project_conv (Conv2D)  (None, None, None,   19200       ['block4a_se_excite[0][0]']      \n",
            "                                80)                                                               \n",
            "                                                                                                  \n",
            " block4a_project_bn (BatchNorma  (None, None, None,   320        ['block4a_project_conv[0][0]']   \n",
            " lization)                      80)                                                               \n",
            "                                                                                                  \n",
            " block4b_expand_conv (Conv2D)   (None, None, None,   38400       ['block4a_project_bn[0][0]']     \n",
            "                                480)                                                              \n",
            "                                                                                                  \n",
            " block4b_expand_bn (BatchNormal  (None, None, None,   1920       ['block4b_expand_conv[0][0]']    \n",
            " ization)                       480)                                                              \n",
            "                                                                                                  \n",
            " block4b_expand_activation (Act  (None, None, None,   0          ['block4b_expand_bn[0][0]']      \n",
            " ivation)                       480)                                                              \n",
            "                                                                                                  \n",
            " block4b_dwconv (DepthwiseConv2  (None, None, None,   4320       ['block4b_expand_activation[0][0]\n",
            " D)                             480)                             ']                               \n",
            "                                                                                                  \n",
            " block4b_bn (BatchNormalization  (None, None, None,   1920       ['block4b_dwconv[0][0]']         \n",
            " )                              480)                                                              \n",
            "                                                                                                  \n",
            " block4b_activation (Activation  (None, None, None,   0          ['block4b_bn[0][0]']             \n",
            " )                              480)                                                              \n",
            "                                                                                                  \n",
            " block4b_se_squeeze (GlobalAver  (None, 480)         0           ['block4b_activation[0][0]']     \n",
            " agePooling2D)                                                                                    \n",
            "                                                                                                  \n",
            " block4b_se_reshape (Reshape)   (None, 1, 1, 480)    0           ['block4b_se_squeeze[0][0]']     \n",
            "                                                                                                  \n",
            " block4b_se_reduce (Conv2D)     (None, 1, 1, 20)     9620        ['block4b_se_reshape[0][0]']     \n",
            "                                                                                                  \n",
            " block4b_se_expand (Conv2D)     (None, 1, 1, 480)    10080       ['block4b_se_reduce[0][0]']      \n",
            "                                                                                                  \n",
            " block4b_se_excite (Multiply)   (None, None, None,   0           ['block4b_activation[0][0]',     \n",
            "                                480)                              'block4b_se_expand[0][0]']      \n",
            "                                                                                                  \n",
            " block4b_project_conv (Conv2D)  (None, None, None,   38400       ['block4b_se_excite[0][0]']      \n",
            "                                80)                                                               \n",
            "                                                                                                  \n",
            " block4b_project_bn (BatchNorma  (None, None, None,   320        ['block4b_project_conv[0][0]']   \n",
            " lization)                      80)                                                               \n",
            "                                                                                                  \n",
            " block4b_drop (Dropout)         (None, None, None,   0           ['block4b_project_bn[0][0]']     \n",
            "                                80)                                                               \n",
            "                                                                                                  \n",
            " block4b_add (Add)              (None, None, None,   0           ['block4b_drop[0][0]',           \n",
            "                                80)                               'block4a_project_bn[0][0]']     \n",
            "                                                                                                  \n",
            " block4c_expand_conv (Conv2D)   (None, None, None,   38400       ['block4b_add[0][0]']            \n",
            "                                480)                                                              \n",
            "                                                                                                  \n",
            " block4c_expand_bn (BatchNormal  (None, None, None,   1920       ['block4c_expand_conv[0][0]']    \n",
            " ization)                       480)                                                              \n",
            "                                                                                                  \n",
            " block4c_expand_activation (Act  (None, None, None,   0          ['block4c_expand_bn[0][0]']      \n",
            " ivation)                       480)                                                              \n",
            "                                                                                                  \n",
            " block4c_dwconv (DepthwiseConv2  (None, None, None,   4320       ['block4c_expand_activation[0][0]\n",
            " D)                             480)                             ']                               \n",
            "                                                                                                  \n",
            " block4c_bn (BatchNormalization  (None, None, None,   1920       ['block4c_dwconv[0][0]']         \n",
            " )                              480)                                                              \n",
            "                                                                                                  \n",
            " block4c_activation (Activation  (None, None, None,   0          ['block4c_bn[0][0]']             \n",
            " )                              480)                                                              \n",
            "                                                                                                  \n",
            " block4c_se_squeeze (GlobalAver  (None, 480)         0           ['block4c_activation[0][0]']     \n",
            " agePooling2D)                                                                                    \n",
            "                                                                                                  \n",
            " block4c_se_reshape (Reshape)   (None, 1, 1, 480)    0           ['block4c_se_squeeze[0][0]']     \n",
            "                                                                                                  \n",
            " block4c_se_reduce (Conv2D)     (None, 1, 1, 20)     9620        ['block4c_se_reshape[0][0]']     \n",
            "                                                                                                  \n",
            " block4c_se_expand (Conv2D)     (None, 1, 1, 480)    10080       ['block4c_se_reduce[0][0]']      \n",
            "                                                                                                  \n",
            " block4c_se_excite (Multiply)   (None, None, None,   0           ['block4c_activation[0][0]',     \n",
            "                                480)                              'block4c_se_expand[0][0]']      \n",
            "                                                                                                  \n",
            " block4c_project_conv (Conv2D)  (None, None, None,   38400       ['block4c_se_excite[0][0]']      \n",
            "                                80)                                                               \n",
            "                                                                                                  \n",
            " block4c_project_bn (BatchNorma  (None, None, None,   320        ['block4c_project_conv[0][0]']   \n",
            " lization)                      80)                                                               \n",
            "                                                                                                  \n",
            " block4c_drop (Dropout)         (None, None, None,   0           ['block4c_project_bn[0][0]']     \n",
            "                                80)                                                               \n",
            "                                                                                                  \n",
            " block4c_add (Add)              (None, None, None,   0           ['block4c_drop[0][0]',           \n",
            "                                80)                               'block4b_add[0][0]']            \n",
            "                                                                                                  \n",
            " block5a_expand_conv (Conv2D)   (None, None, None,   38400       ['block4c_add[0][0]']            \n",
            "                                480)                                                              \n",
            "                                                                                                  \n",
            " block5a_expand_bn (BatchNormal  (None, None, None,   1920       ['block5a_expand_conv[0][0]']    \n",
            " ization)                       480)                                                              \n",
            "                                                                                                  \n",
            " block5a_expand_activation (Act  (None, None, None,   0          ['block5a_expand_bn[0][0]']      \n",
            " ivation)                       480)                                                              \n",
            "                                                                                                  \n",
            " block5a_dwconv (DepthwiseConv2  (None, None, None,   12000      ['block5a_expand_activation[0][0]\n",
            " D)                             480)                             ']                               \n",
            "                                                                                                  \n",
            " block5a_bn (BatchNormalization  (None, None, None,   1920       ['block5a_dwconv[0][0]']         \n",
            " )                              480)                                                              \n",
            "                                                                                                  \n",
            " block5a_activation (Activation  (None, None, None,   0          ['block5a_bn[0][0]']             \n",
            " )                              480)                                                              \n",
            "                                                                                                  \n",
            " block5a_se_squeeze (GlobalAver  (None, 480)         0           ['block5a_activation[0][0]']     \n",
            " agePooling2D)                                                                                    \n",
            "                                                                                                  \n",
            " block5a_se_reshape (Reshape)   (None, 1, 1, 480)    0           ['block5a_se_squeeze[0][0]']     \n",
            "                                                                                                  \n",
            " block5a_se_reduce (Conv2D)     (None, 1, 1, 20)     9620        ['block5a_se_reshape[0][0]']     \n",
            "                                                                                                  \n",
            " block5a_se_expand (Conv2D)     (None, 1, 1, 480)    10080       ['block5a_se_reduce[0][0]']      \n",
            "                                                                                                  \n",
            " block5a_se_excite (Multiply)   (None, None, None,   0           ['block5a_activation[0][0]',     \n",
            "                                480)                              'block5a_se_expand[0][0]']      \n",
            "                                                                                                  \n",
            " block5a_project_conv (Conv2D)  (None, None, None,   53760       ['block5a_se_excite[0][0]']      \n",
            "                                112)                                                              \n",
            "                                                                                                  \n",
            " block5a_project_bn (BatchNorma  (None, None, None,   448        ['block5a_project_conv[0][0]']   \n",
            " lization)                      112)                                                              \n",
            "                                                                                                  \n",
            " block5b_expand_conv (Conv2D)   (None, None, None,   75264       ['block5a_project_bn[0][0]']     \n",
            "                                672)                                                              \n",
            "                                                                                                  \n",
            " block5b_expand_bn (BatchNormal  (None, None, None,   2688       ['block5b_expand_conv[0][0]']    \n",
            " ization)                       672)                                                              \n",
            "                                                                                                  \n",
            " block5b_expand_activation (Act  (None, None, None,   0          ['block5b_expand_bn[0][0]']      \n",
            " ivation)                       672)                                                              \n",
            "                                                                                                  \n",
            " block5b_dwconv (DepthwiseConv2  (None, None, None,   16800      ['block5b_expand_activation[0][0]\n",
            " D)                             672)                             ']                               \n",
            "                                                                                                  \n",
            " block5b_bn (BatchNormalization  (None, None, None,   2688       ['block5b_dwconv[0][0]']         \n",
            " )                              672)                                                              \n",
            "                                                                                                  \n",
            " block5b_activation (Activation  (None, None, None,   0          ['block5b_bn[0][0]']             \n",
            " )                              672)                                                              \n",
            "                                                                                                  \n",
            " block5b_se_squeeze (GlobalAver  (None, 672)         0           ['block5b_activation[0][0]']     \n",
            " agePooling2D)                                                                                    \n",
            "                                                                                                  \n",
            " block5b_se_reshape (Reshape)   (None, 1, 1, 672)    0           ['block5b_se_squeeze[0][0]']     \n",
            "                                                                                                  \n",
            " block5b_se_reduce (Conv2D)     (None, 1, 1, 28)     18844       ['block5b_se_reshape[0][0]']     \n",
            "                                                                                                  \n",
            " block5b_se_expand (Conv2D)     (None, 1, 1, 672)    19488       ['block5b_se_reduce[0][0]']      \n",
            "                                                                                                  \n",
            " block5b_se_excite (Multiply)   (None, None, None,   0           ['block5b_activation[0][0]',     \n",
            "                                672)                              'block5b_se_expand[0][0]']      \n",
            "                                                                                                  \n",
            " block5b_project_conv (Conv2D)  (None, None, None,   75264       ['block5b_se_excite[0][0]']      \n",
            "                                112)                                                              \n",
            "                                                                                                  \n",
            " block5b_project_bn (BatchNorma  (None, None, None,   448        ['block5b_project_conv[0][0]']   \n",
            " lization)                      112)                                                              \n",
            "                                                                                                  \n",
            " block5b_drop (Dropout)         (None, None, None,   0           ['block5b_project_bn[0][0]']     \n",
            "                                112)                                                              \n",
            "                                                                                                  \n",
            " block5b_add (Add)              (None, None, None,   0           ['block5b_drop[0][0]',           \n",
            "                                112)                              'block5a_project_bn[0][0]']     \n",
            "                                                                                                  \n",
            " block5c_expand_conv (Conv2D)   (None, None, None,   75264       ['block5b_add[0][0]']            \n",
            "                                672)                                                              \n",
            "                                                                                                  \n",
            " block5c_expand_bn (BatchNormal  (None, None, None,   2688       ['block5c_expand_conv[0][0]']    \n",
            " ization)                       672)                                                              \n",
            "                                                                                                  \n",
            " block5c_expand_activation (Act  (None, None, None,   0          ['block5c_expand_bn[0][0]']      \n",
            " ivation)                       672)                                                              \n",
            "                                                                                                  \n",
            " block5c_dwconv (DepthwiseConv2  (None, None, None,   16800      ['block5c_expand_activation[0][0]\n",
            " D)                             672)                             ']                               \n",
            "                                                                                                  \n",
            " block5c_bn (BatchNormalization  (None, None, None,   2688       ['block5c_dwconv[0][0]']         \n",
            " )                              672)                                                              \n",
            "                                                                                                  \n",
            " block5c_activation (Activation  (None, None, None,   0          ['block5c_bn[0][0]']             \n",
            " )                              672)                                                              \n",
            "                                                                                                  \n",
            " block5c_se_squeeze (GlobalAver  (None, 672)         0           ['block5c_activation[0][0]']     \n",
            " agePooling2D)                                                                                    \n",
            "                                                                                                  \n",
            " block5c_se_reshape (Reshape)   (None, 1, 1, 672)    0           ['block5c_se_squeeze[0][0]']     \n",
            "                                                                                                  \n",
            " block5c_se_reduce (Conv2D)     (None, 1, 1, 28)     18844       ['block5c_se_reshape[0][0]']     \n",
            "                                                                                                  \n",
            " block5c_se_expand (Conv2D)     (None, 1, 1, 672)    19488       ['block5c_se_reduce[0][0]']      \n",
            "                                                                                                  \n",
            " block5c_se_excite (Multiply)   (None, None, None,   0           ['block5c_activation[0][0]',     \n",
            "                                672)                              'block5c_se_expand[0][0]']      \n",
            "                                                                                                  \n",
            " block5c_project_conv (Conv2D)  (None, None, None,   75264       ['block5c_se_excite[0][0]']      \n",
            "                                112)                                                              \n",
            "                                                                                                  \n",
            " block5c_project_bn (BatchNorma  (None, None, None,   448        ['block5c_project_conv[0][0]']   \n",
            " lization)                      112)                                                              \n",
            "                                                                                                  \n",
            " block5c_drop (Dropout)         (None, None, None,   0           ['block5c_project_bn[0][0]']     \n",
            "                                112)                                                              \n",
            "                                                                                                  \n",
            " block5c_add (Add)              (None, None, None,   0           ['block5c_drop[0][0]',           \n",
            "                                112)                              'block5b_add[0][0]']            \n",
            "                                                                                                  \n",
            " block6a_expand_conv (Conv2D)   (None, None, None,   75264       ['block5c_add[0][0]']            \n",
            "                                672)                                                              \n",
            "                                                                                                  \n",
            " block6a_expand_bn (BatchNormal  (None, None, None,   2688       ['block6a_expand_conv[0][0]']    \n",
            " ization)                       672)                                                              \n",
            "                                                                                                  \n",
            " block6a_expand_activation (Act  (None, None, None,   0          ['block6a_expand_bn[0][0]']      \n",
            " ivation)                       672)                                                              \n",
            "                                                                                                  \n",
            " block6a_dwconv_pad (ZeroPaddin  (None, None, None,   0          ['block6a_expand_activation[0][0]\n",
            " g2D)                           672)                             ']                               \n",
            "                                                                                                  \n",
            " block6a_dwconv (DepthwiseConv2  (None, None, None,   16800      ['block6a_dwconv_pad[0][0]']     \n",
            " D)                             672)                                                              \n",
            "                                                                                                  \n",
            " block6a_bn (BatchNormalization  (None, None, None,   2688       ['block6a_dwconv[0][0]']         \n",
            " )                              672)                                                              \n",
            "                                                                                                  \n",
            " block6a_activation (Activation  (None, None, None,   0          ['block6a_bn[0][0]']             \n",
            " )                              672)                                                              \n",
            "                                                                                                  \n",
            " block6a_se_squeeze (GlobalAver  (None, 672)         0           ['block6a_activation[0][0]']     \n",
            " agePooling2D)                                                                                    \n",
            "                                                                                                  \n",
            " block6a_se_reshape (Reshape)   (None, 1, 1, 672)    0           ['block6a_se_squeeze[0][0]']     \n",
            "                                                                                                  \n",
            " block6a_se_reduce (Conv2D)     (None, 1, 1, 28)     18844       ['block6a_se_reshape[0][0]']     \n",
            "                                                                                                  \n",
            " block6a_se_expand (Conv2D)     (None, 1, 1, 672)    19488       ['block6a_se_reduce[0][0]']      \n",
            "                                                                                                  \n",
            " block6a_se_excite (Multiply)   (None, None, None,   0           ['block6a_activation[0][0]',     \n",
            "                                672)                              'block6a_se_expand[0][0]']      \n",
            "                                                                                                  \n",
            " block6a_project_conv (Conv2D)  (None, None, None,   129024      ['block6a_se_excite[0][0]']      \n",
            "                                192)                                                              \n",
            "                                                                                                  \n",
            " block6a_project_bn (BatchNorma  (None, None, None,   768        ['block6a_project_conv[0][0]']   \n",
            " lization)                      192)                                                              \n",
            "                                                                                                  \n",
            " block6b_expand_conv (Conv2D)   (None, None, None,   221184      ['block6a_project_bn[0][0]']     \n",
            "                                1152)                                                             \n",
            "                                                                                                  \n",
            " block6b_expand_bn (BatchNormal  (None, None, None,   4608       ['block6b_expand_conv[0][0]']    \n",
            " ization)                       1152)                                                             \n",
            "                                                                                                  \n",
            " block6b_expand_activation (Act  (None, None, None,   0          ['block6b_expand_bn[0][0]']      \n",
            " ivation)                       1152)                                                             \n",
            "                                                                                                  \n",
            " block6b_dwconv (DepthwiseConv2  (None, None, None,   28800      ['block6b_expand_activation[0][0]\n",
            " D)                             1152)                            ']                               \n",
            "                                                                                                  \n",
            " block6b_bn (BatchNormalization  (None, None, None,   4608       ['block6b_dwconv[0][0]']         \n",
            " )                              1152)                                                             \n",
            "                                                                                                  \n",
            " block6b_activation (Activation  (None, None, None,   0          ['block6b_bn[0][0]']             \n",
            " )                              1152)                                                             \n",
            "                                                                                                  \n",
            " block6b_se_squeeze (GlobalAver  (None, 1152)        0           ['block6b_activation[0][0]']     \n",
            " agePooling2D)                                                                                    \n",
            "                                                                                                  \n",
            " block6b_se_reshape (Reshape)   (None, 1, 1, 1152)   0           ['block6b_se_squeeze[0][0]']     \n",
            "                                                                                                  \n",
            " block6b_se_reduce (Conv2D)     (None, 1, 1, 48)     55344       ['block6b_se_reshape[0][0]']     \n",
            "                                                                                                  \n",
            " block6b_se_expand (Conv2D)     (None, 1, 1, 1152)   56448       ['block6b_se_reduce[0][0]']      \n",
            "                                                                                                  \n",
            " block6b_se_excite (Multiply)   (None, None, None,   0           ['block6b_activation[0][0]',     \n",
            "                                1152)                             'block6b_se_expand[0][0]']      \n",
            "                                                                                                  \n",
            " block6b_project_conv (Conv2D)  (None, None, None,   221184      ['block6b_se_excite[0][0]']      \n",
            "                                192)                                                              \n",
            "                                                                                                  \n",
            " block6b_project_bn (BatchNorma  (None, None, None,   768        ['block6b_project_conv[0][0]']   \n",
            " lization)                      192)                                                              \n",
            "                                                                                                  \n",
            " block6b_drop (Dropout)         (None, None, None,   0           ['block6b_project_bn[0][0]']     \n",
            "                                192)                                                              \n",
            "                                                                                                  \n",
            " block6b_add (Add)              (None, None, None,   0           ['block6b_drop[0][0]',           \n",
            "                                192)                              'block6a_project_bn[0][0]']     \n",
            "                                                                                                  \n",
            " block6c_expand_conv (Conv2D)   (None, None, None,   221184      ['block6b_add[0][0]']            \n",
            "                                1152)                                                             \n",
            "                                                                                                  \n",
            " block6c_expand_bn (BatchNormal  (None, None, None,   4608       ['block6c_expand_conv[0][0]']    \n",
            " ization)                       1152)                                                             \n",
            "                                                                                                  \n",
            " block6c_expand_activation (Act  (None, None, None,   0          ['block6c_expand_bn[0][0]']      \n",
            " ivation)                       1152)                                                             \n",
            "                                                                                                  \n",
            " block6c_dwconv (DepthwiseConv2  (None, None, None,   28800      ['block6c_expand_activation[0][0]\n",
            " D)                             1152)                            ']                               \n",
            "                                                                                                  \n",
            " block6c_bn (BatchNormalization  (None, None, None,   4608       ['block6c_dwconv[0][0]']         \n",
            " )                              1152)                                                             \n",
            "                                                                                                  \n",
            " block6c_activation (Activation  (None, None, None,   0          ['block6c_bn[0][0]']             \n",
            " )                              1152)                                                             \n",
            "                                                                                                  \n",
            " block6c_se_squeeze (GlobalAver  (None, 1152)        0           ['block6c_activation[0][0]']     \n",
            " agePooling2D)                                                                                    \n",
            "                                                                                                  \n",
            " block6c_se_reshape (Reshape)   (None, 1, 1, 1152)   0           ['block6c_se_squeeze[0][0]']     \n",
            "                                                                                                  \n",
            " block6c_se_reduce (Conv2D)     (None, 1, 1, 48)     55344       ['block6c_se_reshape[0][0]']     \n",
            "                                                                                                  \n",
            " block6c_se_expand (Conv2D)     (None, 1, 1, 1152)   56448       ['block6c_se_reduce[0][0]']      \n",
            "                                                                                                  \n",
            " block6c_se_excite (Multiply)   (None, None, None,   0           ['block6c_activation[0][0]',     \n",
            "                                1152)                             'block6c_se_expand[0][0]']      \n",
            "                                                                                                  \n",
            " block6c_project_conv (Conv2D)  (None, None, None,   221184      ['block6c_se_excite[0][0]']      \n",
            "                                192)                                                              \n",
            "                                                                                                  \n",
            " block6c_project_bn (BatchNorma  (None, None, None,   768        ['block6c_project_conv[0][0]']   \n",
            " lization)                      192)                                                              \n",
            "                                                                                                  \n",
            " block6c_drop (Dropout)         (None, None, None,   0           ['block6c_project_bn[0][0]']     \n",
            "                                192)                                                              \n",
            "                                                                                                  \n",
            " block6c_add (Add)              (None, None, None,   0           ['block6c_drop[0][0]',           \n",
            "                                192)                              'block6b_add[0][0]']            \n",
            "                                                                                                  \n",
            " block6d_expand_conv (Conv2D)   (None, None, None,   221184      ['block6c_add[0][0]']            \n",
            "                                1152)                                                             \n",
            "                                                                                                  \n",
            " block6d_expand_bn (BatchNormal  (None, None, None,   4608       ['block6d_expand_conv[0][0]']    \n",
            " ization)                       1152)                                                             \n",
            "                                                                                                  \n",
            " block6d_expand_activation (Act  (None, None, None,   0          ['block6d_expand_bn[0][0]']      \n",
            " ivation)                       1152)                                                             \n",
            "                                                                                                  \n",
            " block6d_dwconv (DepthwiseConv2  (None, None, None,   28800      ['block6d_expand_activation[0][0]\n",
            " D)                             1152)                            ']                               \n",
            "                                                                                                  \n",
            " block6d_bn (BatchNormalization  (None, None, None,   4608       ['block6d_dwconv[0][0]']         \n",
            " )                              1152)                                                             \n",
            "                                                                                                  \n",
            " block6d_activation (Activation  (None, None, None,   0          ['block6d_bn[0][0]']             \n",
            " )                              1152)                                                             \n",
            "                                                                                                  \n",
            " block6d_se_squeeze (GlobalAver  (None, 1152)        0           ['block6d_activation[0][0]']     \n",
            " agePooling2D)                                                                                    \n",
            "                                                                                                  \n",
            " block6d_se_reshape (Reshape)   (None, 1, 1, 1152)   0           ['block6d_se_squeeze[0][0]']     \n",
            "                                                                                                  \n",
            " block6d_se_reduce (Conv2D)     (None, 1, 1, 48)     55344       ['block6d_se_reshape[0][0]']     \n",
            "                                                                                                  \n",
            " block6d_se_expand (Conv2D)     (None, 1, 1, 1152)   56448       ['block6d_se_reduce[0][0]']      \n",
            "                                                                                                  \n",
            " block6d_se_excite (Multiply)   (None, None, None,   0           ['block6d_activation[0][0]',     \n",
            "                                1152)                             'block6d_se_expand[0][0]']      \n",
            "                                                                                                  \n",
            " block6d_project_conv (Conv2D)  (None, None, None,   221184      ['block6d_se_excite[0][0]']      \n",
            "                                192)                                                              \n",
            "                                                                                                  \n",
            " block6d_project_bn (BatchNorma  (None, None, None,   768        ['block6d_project_conv[0][0]']   \n",
            " lization)                      192)                                                              \n",
            "                                                                                                  \n",
            " block6d_drop (Dropout)         (None, None, None,   0           ['block6d_project_bn[0][0]']     \n",
            "                                192)                                                              \n",
            "                                                                                                  \n",
            " block6d_add (Add)              (None, None, None,   0           ['block6d_drop[0][0]',           \n",
            "                                192)                              'block6c_add[0][0]']            \n",
            "                                                                                                  \n",
            " block7a_expand_conv (Conv2D)   (None, None, None,   221184      ['block6d_add[0][0]']            \n",
            "                                1152)                                                             \n",
            "                                                                                                  \n",
            " block7a_expand_bn (BatchNormal  (None, None, None,   4608       ['block7a_expand_conv[0][0]']    \n",
            " ization)                       1152)                                                             \n",
            "                                                                                                  \n",
            " block7a_expand_activation (Act  (None, None, None,   0          ['block7a_expand_bn[0][0]']      \n",
            " ivation)                       1152)                                                             \n",
            "                                                                                                  \n",
            " block7a_dwconv (DepthwiseConv2  (None, None, None,   10368      ['block7a_expand_activation[0][0]\n",
            " D)                             1152)                            ']                               \n",
            "                                                                                                  \n",
            " block7a_bn (BatchNormalization  (None, None, None,   4608       ['block7a_dwconv[0][0]']         \n",
            " )                              1152)                                                             \n",
            "                                                                                                  \n",
            " block7a_activation (Activation  (None, None, None,   0          ['block7a_bn[0][0]']             \n",
            " )                              1152)                                                             \n",
            "                                                                                                  \n",
            " block7a_se_squeeze (GlobalAver  (None, 1152)        0           ['block7a_activation[0][0]']     \n",
            " agePooling2D)                                                                                    \n",
            "                                                                                                  \n",
            " block7a_se_reshape (Reshape)   (None, 1, 1, 1152)   0           ['block7a_se_squeeze[0][0]']     \n",
            "                                                                                                  \n",
            " block7a_se_reduce (Conv2D)     (None, 1, 1, 48)     55344       ['block7a_se_reshape[0][0]']     \n",
            "                                                                                                  \n",
            " block7a_se_expand (Conv2D)     (None, 1, 1, 1152)   56448       ['block7a_se_reduce[0][0]']      \n",
            "                                                                                                  \n",
            " block7a_se_excite (Multiply)   (None, None, None,   0           ['block7a_activation[0][0]',     \n",
            "                                1152)                             'block7a_se_expand[0][0]']      \n",
            "                                                                                                  \n",
            " block7a_project_conv (Conv2D)  (None, None, None,   368640      ['block7a_se_excite[0][0]']      \n",
            "                                320)                                                              \n",
            "                                                                                                  \n",
            " block7a_project_bn (BatchNorma  (None, None, None,   1280       ['block7a_project_conv[0][0]']   \n",
            " lization)                      320)                                                              \n",
            "                                                                                                  \n",
            " top_conv (Conv2D)              (None, None, None,   409600      ['block7a_project_bn[0][0]']     \n",
            "                                1280)                                                             \n",
            "                                                                                                  \n",
            " top_bn (BatchNormalization)    (None, None, None,   5120        ['top_conv[0][0]']               \n",
            "                                1280)                                                             \n",
            "                                                                                                  \n",
            " top_activation (Activation)    (None, None, None,   0           ['top_bn[0][0]']                 \n",
            "                                1280)                                                             \n",
            "                                                                                                  \n",
            "==================================================================================================\n",
            "Total params: 4,049,571\n",
            "Trainable params: 0\n",
            "Non-trainable params: 4,049,571\n",
            "__________________________________________________________________________________________________\n"
          ]
        }
      ]
    },
    {
      "cell_type": "code",
      "source": [
        "#how about a summary of our whole model?\n",
        "model_0.summary()"
      ],
      "metadata": {
        "colab": {
          "base_uri": "https://localhost:8080/"
        },
        "id": "M3YGCXvPRjVL",
        "outputId": "6f5dd6d9-725f-453f-845c-c8c883070731"
      },
      "execution_count": 15,
      "outputs": [
        {
          "output_type": "stream",
          "name": "stdout",
          "text": [
            "Model: \"model\"\n",
            "_________________________________________________________________\n",
            " Layer (type)                Output Shape              Param #   \n",
            "=================================================================\n",
            " input_layer (InputLayer)    [(None, 224, 224, 3)]     0         \n",
            "                                                                 \n",
            " efficientnetb0 (Functional)  (None, None, None, 1280)  4049571  \n",
            "                                                                 \n",
            " global_average_pooling_laye  (None, 1280)             0         \n",
            " r (GlobalAveragePooling2D)                                      \n",
            "                                                                 \n",
            " output_layer (Dense)        (None, 10)                12810     \n",
            "                                                                 \n",
            "=================================================================\n",
            "Total params: 4,062,381\n",
            "Trainable params: 12,810\n",
            "Non-trainable params: 4,049,571\n",
            "_________________________________________________________________\n"
          ]
        }
      ]
    },
    {
      "cell_type": "code",
      "source": [
        "#check out the loss curves of the model\n",
        "plot_loss_curves(history_10_percent)"
      ],
      "metadata": {
        "colab": {
          "base_uri": "https://localhost:8080/",
          "height": 573
        },
        "id": "Oopx-m82RxGF",
        "outputId": "f720a3fc-a995-4f5c-8f33-b4e569c4557f"
      },
      "execution_count": 16,
      "outputs": [
        {
          "output_type": "display_data",
          "data": {
            "image/png": "[encoded data removed]",
            "text/plain": [
              "<Figure size 432x288 with 1 Axes>"
            ]
          },
          "metadata": {
            "needs_background": "light"
          }
        },
        {
          "output_type": "display_data",
          "data": {
            "image/png": "[encoded data removed]",
            "text/plain": [
              "<Figure size 432x288 with 1 Axes>"
            ]
          },
          "metadata": {
            "needs_background": "light"
          }
        }
      ]
    },
    {
      "cell_type": "markdown",
      "source": [
        "## Getting a feature vector from a trained model\n",
        "\n",
        "Let's demonstrate the Global Average Pooling 2D layer...\n",
        "\n",
        "We have a tensor after our model goes through 'base model' of shape(None,7,7,1280). \n",
        "\n",
        "But then when it passes through GlobalAveragePooling2D, it turns into (None,1280). \n",
        "\n",
        "Let's use a similar shaped tensor of (1,4,4,3) and then pass it to GlobalAveragePooling2D."
      ],
      "metadata": {
        "id": "p6MLpOgASGqA"
      }
    },
    {
      "cell_type": "code",
      "source": [
        "# Define the input shape\n",
        "input_shape = (1,4,4,3)\n",
        "\n",
        "#create a random tensor\n",
        "tf.random.set_seed(42)\n",
        "input_tensor = tf.random.normal(input_shape)\n",
        "print(f\"Random input tensor:\\n {input_tensor}\")\n",
        "\n",
        "#pass the random tensor through a global average pooling 2D\n",
        "global_Average_pooled_tensor=tf.keras.layers.GlobalAveragePooling2D()(input_tensor)\n",
        "print(f\"2D global average pooled random tensor:\\n {global_Average_pooled_tensor}\")\n",
        "\n",
        "#check the shape of the different tensors\n",
        "print(f\"\\nShape of input tensor: {input_tensor.shape}\")\n",
        "print(f\"Shape of global average pooled 2D: {global_Average_pooled_tensor.shape}\")"
      ],
      "metadata": {
        "colab": {
          "base_uri": "https://localhost:8080/"
        },
        "id": "xDwgmC0fSa6X",
        "outputId": "91be1c32-3815-43a9-84a1-158596c1009c"
      },
      "execution_count": 17,
      "outputs": [
        {
          "output_type": "stream",
          "name": "stdout",
          "text": [
            "Random input tensor:\n",
            " [[[[ 0.3274685  -0.8426258   0.3194337 ]\n",
            "   [-1.4075519  -2.3880599  -1.0392479 ]\n",
            "   [-0.5573232   0.539707    1.6994323 ]\n",
            "   [ 0.28893656 -1.5066116  -0.2645474 ]]\n",
            "\n",
            "  [[-0.59722406 -1.9171132  -0.62044144]\n",
            "   [ 0.8504023  -0.40604794 -3.0258412 ]\n",
            "   [ 0.9058464   0.29855987 -0.22561555]\n",
            "   [-0.7616443  -1.8917141  -0.93847126]]\n",
            "\n",
            "  [[ 0.77852213 -0.47338897  0.97772694]\n",
            "   [ 0.24694404  0.20573747 -0.5256233 ]\n",
            "   [ 0.32410017  0.02545409 -0.10638497]\n",
            "   [-0.6369475   1.1603122   0.2507359 ]]\n",
            "\n",
            "  [[-0.41728503  0.4012578  -1.4145443 ]\n",
            "   [-0.5931857  -1.6617213   0.33567193]\n",
            "   [ 0.10815629  0.23479682 -0.56668764]\n",
            "   [-0.35819843  0.88698614  0.52744764]]]]\n",
            "2D global average pooled random tensor:\n",
            " [[-0.09368646 -0.45840448 -0.2885598 ]]\n",
            "\n",
            "Shape of input tensor: (1, 4, 4, 3)\n",
            "Shape of global average pooled 2D: (1, 3)\n"
          ]
        }
      ]
    },
    {
      "cell_type": "code",
      "source": [
        "#Let's replicate the GlobalAveragePool2D layer\n",
        "tf.reduce_mean(input_tensor, axis=[1,2])"
      ],
      "metadata": {
        "colab": {
          "base_uri": "https://localhost:8080/"
        },
        "id": "BL0XDHvkT1KI",
        "outputId": "9ae8538e-6a43-47b9-bcd0-32b7d8725add"
      },
      "execution_count": 18,
      "outputs": [
        {
          "output_type": "execute_result",
          "data": {
            "text/plain": [
              "<tf.Tensor: shape=(1, 3), dtype=float32, numpy=array([[-0.09368646, -0.45840448, -0.2885598 ]], dtype=float32)>"
            ]
          },
          "metadata": {},
          "execution_count": 18
        }
      ]
    },
    {
      "cell_type": "markdown",
      "source": [
        "## Running a series of transfer learning experiments\n",
        " we have seen the incredible resuts transfer learning can get with only 10% of the training data, but how does it go with 1% of the training data... how about we set up a bunch of experiments to find out:\n",
        "\n",
        " 1. 'model_1' - use feature extraction transfer learning with 1% of the training data with data augmentation\n",
        " 2. 'model_2' - use feature extraction transfer learning with 10% of the training with data augmentation.\n",
        " 3. 'model 3' - use fine-tuning transfer learning oon 10% of the training data with data augmentation.\n",
        " 4. 'model 4' - use fine-tuning transfer learning on 100% of the training data with data augmentation.\n",
        "\n",
        " > **Note** throoughout all experiments the same test dataset will be used too evaluate ur model. this ensures consistency acrooss evaluation metrics."
      ],
      "metadata": {
        "id": "nPgBrX5BVcx2"
      }
    },
    {
      "cell_type": "markdown",
      "source": [
        "## Getting preprocessing data"
      ],
      "metadata": {
        "id": "_Nb7n1WSZD2V"
      }
    },
    {
      "cell_type": "code",
      "source": [
        "#Download and unzip data -preprocess from Food101\n",
        "!wget https://storage.googleapis.com/ztm_tf_course/food_vision/10_food_classes_1_percent.zip\n",
        "\n",
        "unzip_data(\"10_food_classes_1_percent.zip\")"
      ],
      "metadata": {
        "colab": {
          "base_uri": "https://localhost:8080/"
        },
        "id": "dagRJ2hMYAtX",
        "outputId": "d86fec79-4256-46e7-86b4-b1083e79be7d"
      },
      "execution_count": 19,
      "outputs": [
        {
          "output_type": "stream",
          "name": "stdout",
          "text": [
            "--2022-02-22 06:14:40--  https://storage.googleapis.com/ztm_tf_course/food_vision/10_food_classes_1_percent.zip\n",
            "Resolving storage.googleapis.com (storage.googleapis.com)... 142.251.5.128, 74.125.133.128, 74.125.140.128, ...\n",
            "Connecting to storage.googleapis.com (storage.googleapis.com)|142.251.5.128|:443... connected.\n",
            "HTTP request sent, awaiting response... 200 OK\n",
            "Length: 133612354 (127M) [application/zip]\n",
            "Saving to: ‘10_food_classes_1_percent.zip’\n",
            "\n",
            "10_food_classes_1_p 100%[===================>] 127.42M  76.0MB/s    in 1.7s    \n",
            "\n",
            "2022-02-22 06:14:42 (76.0 MB/s) - ‘10_food_classes_1_percent.zip’ saved [133612354/133612354]\n",
            "\n"
          ]
        }
      ]
    },
    {
      "cell_type": "code",
      "source": [
        "#create training and test dir\n",
        "train_dir_1_percent= \"10_food_classes_1_percent/train\"\n",
        "test_dir=\"10_food_classes_1_percent/test\""
      ],
      "metadata": {
        "id": "679d_nXmYhUi"
      },
      "execution_count": 20,
      "outputs": []
    },
    {
      "cell_type": "code",
      "source": [
        "#how many images we working with\n",
        "walk_through_dir(\"10_food_classes_1_percent\")"
      ],
      "metadata": {
        "colab": {
          "base_uri": "https://localhost:8080/"
        },
        "id": "L_V3g6D5YukY",
        "outputId": "18e86327-4105-448e-fa11-0fe3eeae172b"
      },
      "execution_count": 21,
      "outputs": [
        {
          "output_type": "stream",
          "name": "stdout",
          "text": [
            "There are 2 directories and 0 images in '10_food_classes_1_percent'.\n",
            "There are 10 directories and 0 images in '10_food_classes_1_percent/train'.\n",
            "There are 0 directories and 7 images in '10_food_classes_1_percent/train/pizza'.\n",
            "There are 0 directories and 7 images in '10_food_classes_1_percent/train/fried_rice'.\n",
            "There are 0 directories and 7 images in '10_food_classes_1_percent/train/grilled_salmon'.\n",
            "There are 0 directories and 7 images in '10_food_classes_1_percent/train/hamburger'.\n",
            "There are 0 directories and 7 images in '10_food_classes_1_percent/train/steak'.\n",
            "There are 0 directories and 7 images in '10_food_classes_1_percent/train/sushi'.\n",
            "There are 0 directories and 7 images in '10_food_classes_1_percent/train/chicken_wings'.\n",
            "There are 0 directories and 7 images in '10_food_classes_1_percent/train/ramen'.\n",
            "There are 0 directories and 7 images in '10_food_classes_1_percent/train/ice_cream'.\n",
            "There are 0 directories and 7 images in '10_food_classes_1_percent/train/chicken_curry'.\n",
            "There are 10 directories and 0 images in '10_food_classes_1_percent/test'.\n",
            "There are 0 directories and 250 images in '10_food_classes_1_percent/test/pizza'.\n",
            "There are 0 directories and 250 images in '10_food_classes_1_percent/test/fried_rice'.\n",
            "There are 0 directories and 250 images in '10_food_classes_1_percent/test/grilled_salmon'.\n",
            "There are 0 directories and 250 images in '10_food_classes_1_percent/test/hamburger'.\n",
            "There are 0 directories and 250 images in '10_food_classes_1_percent/test/steak'.\n",
            "There are 0 directories and 250 images in '10_food_classes_1_percent/test/sushi'.\n",
            "There are 0 directories and 250 images in '10_food_classes_1_percent/test/chicken_wings'.\n",
            "There are 0 directories and 250 images in '10_food_classes_1_percent/test/ramen'.\n",
            "There are 0 directories and 250 images in '10_food_classes_1_percent/test/ice_cream'.\n",
            "There are 0 directories and 250 images in '10_food_classes_1_percent/test/chicken_curry'.\n"
          ]
        }
      ]
    },
    {
      "cell_type": "code",
      "source": [
        "#Setup data loaders\n",
        "IMG_SIZE=(224,224)\n",
        "\n",
        "train_data_1_percent= tf.keras.preprocessing.image_dataset_from_directory(train_dir_1_percent,\n",
        "                                                                         label_mode=\"categorical\",\n",
        "                                                                         image_size=IMG_SIZE,\n",
        "                                                                         batch_size=32) \n",
        "\n",
        "test_data= tf.keras.preprocessing.image_dataset_from_directory(test_dir,\n",
        "                                                               label_mode=\"categorical\",\n",
        "                                                               image_size=IMG_SIZE)\n",
        "                                                                         "
      ],
      "metadata": {
        "colab": {
          "base_uri": "https://localhost:8080/"
        },
        "id": "yq9mmaynY1a9",
        "outputId": "c647ab56-f3a7-4005-ef8b-7d33335c450c"
      },
      "execution_count": 22,
      "outputs": [
        {
          "output_type": "stream",
          "name": "stdout",
          "text": [
            "Found 70 files belonging to 10 classes.\n",
            "Found 2500 files belonging to 10 classes.\n"
          ]
        }
      ]
    },
    {
      "cell_type": "markdown",
      "source": [
        "## Adding data augmentation right into our model\n",
        "\n",
        "To add data augmentation right into our models, we can use the layers inside:\n",
        "\n",
        "* tf.keras.layers.experimental.preprocessing()\n",
        "\n",
        ">refer: https://www.tensorflow.org/tutorials/images/data_augmentation"
      ],
      "metadata": {
        "id": "VAWIS5qOZuP1"
      }
    },
    {
      "cell_type": "code",
      "source": [
        "import tensorflow as tf\n",
        "from tensorflow import keras\n",
        "from tensorflow.keras import layers\n",
        "from tensorflow.python.keras import Sequential\n",
        "from tensorflow.python.keras.layers import Dense\n",
        "\n",
        "#from tensorflow.keras.layers.experimental import preprocessing\n",
        "tf.random.set_seed(42)\n",
        "\n",
        "#create data augmentation stage with horizontal flipping, rotations, zooms, etc\n",
        "data_augmentation = tf.keras.Sequential([\n",
        "                                      layers.RandomFlip(\"horizontal\"),\n",
        "                                      layers.RandomRotation(0.5),\n",
        "                                      layers.RandomZoom(0.5),\n",
        "                                      layers.RandomHeight(0.5),\n",
        "                                      layers.RandomWidth(0.5)\n",
        "                                      #layers.Rescaling(1./255) # keep for model like ResNet50V2\n",
        "], name=\"data_augmentation\")"
      ],
      "metadata": {
        "id": "Qxm-tqU6asrm"
      },
      "execution_count": 23,
      "outputs": []
    },
    {
      "cell_type": "markdown",
      "source": [
        "### Visualize our data augmentation layer (and see what happers to our data)"
      ],
      "metadata": {
        "id": "zNvlWTh5bzwo"
      }
    },
    {
      "cell_type": "code",
      "source": [
        "#View a random image and compare it to its augmented version\n",
        "import matplotlib.pyplot as plt\n",
        "import matplotlib.image as mpimg\n",
        "import os \n",
        "import random\n",
        "\n",
        "target_class=random.choice(train_data_1_percent.class_names)\n",
        "target_dir=\"10_food_classes_1_percent/train/\" + target_class\n",
        "random_image = random.choice(os.listdir(target_dir))\n",
        "random_image_path = target_dir + \"/\" + random_image\n",
        "\n",
        "#read and plot in the random image\n",
        "img=mpimg.imread(random_image_path)\n",
        "plt.imshow(img)\n",
        "plt.title(f\"Original random image from class: {target_class}\")\n",
        "plt.axis(False)\n",
        "\n",
        "#plot our augmented random image\n",
        "augmented_img=data_augmentation(img)/255.\n",
        "\n",
        "plt.figure()\n",
        "plt.imshow(augmented_img)\n",
        "plt.title(f\"Augmented random image from class: {target_class}\")\n",
        "plt.axis(False)\n",
        "\n",
        "print(img==augmented_img)"
      ],
      "metadata": {
        "colab": {
          "base_uri": "https://localhost:8080/",
          "height": 1000
        },
        "id": "0i3PYj8Rdffw",
        "outputId": "bca00871-0397-403e-9ba8-087f9632b956"
      },
      "execution_count": 24,
      "outputs": [
        {
          "output_type": "stream",
          "name": "stdout",
          "text": [
            "tf.Tensor(\n",
            "[[[False False False]\n",
            "  [False False False]\n",
            "  [False False False]\n",
            "  ...\n",
            "  [False False False]\n",
            "  [False False False]\n",
            "  [False False False]]\n",
            "\n",
            " [[False False False]\n",
            "  [False False False]\n",
            "  [False False False]\n",
            "  ...\n",
            "  [False False False]\n",
            "  [False False False]\n",
            "  [False False False]]\n",
            "\n",
            " [[False False False]\n",
            "  [False False False]\n",
            "  [False False False]\n",
            "  ...\n",
            "  [False False False]\n",
            "  [False False False]\n",
            "  [False False False]]\n",
            "\n",
            " ...\n",
            "\n",
            " [[False False False]\n",
            "  [False False False]\n",
            "  [False False False]\n",
            "  ...\n",
            "  [False False False]\n",
            "  [False False False]\n",
            "  [False False False]]\n",
            "\n",
            " [[False False False]\n",
            "  [False False False]\n",
            "  [False False False]\n",
            "  ...\n",
            "  [False False False]\n",
            "  [False False False]\n",
            "  [False False False]]\n",
            "\n",
            " [[False False False]\n",
            "  [False False False]\n",
            "  [False False False]\n",
            "  ...\n",
            "  [False False False]\n",
            "  [False False False]\n",
            "  [False False False]]], shape=(382, 512, 3), dtype=bool)\n"
          ]
        },
        {
          "output_type": "display_data",
          "data": {
            "image/png": "[encoded data removed]",
            "text/plain": [
              "<Figure size 432x288 with 1 Axes>"
            ]
          },
          "metadata": {
            "needs_background": "light"
          }
        },
        {
          "output_type": "display_data",
          "data": {
            "image/png": "[encoded data removed]",
            "text/plain": [
              "<Figure size 432x288 with 1 Axes>"
            ]
          },
          "metadata": {
            "needs_background": "light"
          }
        }
      ]
    },
    {
      "cell_type": "markdown",
      "source": [
        "## Model 1: Feature extraction transfer learning on 1% of the data with data augmentation"
      ],
      "metadata": {
        "id": "a4zD9Xeeq5Qr"
      }
    },
    {
      "cell_type": "code",
      "source": [
        "#Setup input_shape and base model, freezing the base model layers\n",
        "input_shape= (224,224,3)\n",
        "base_model=tf.keras.applications.EfficientNetB0(include_top=False)\n",
        "base_model.trainable= False\n",
        "\n",
        "#create input layer\n",
        "inputs = layers.Input(shape=input_shape, name=\"input_layer\")\n",
        "\n",
        "#add in data augmentation Sequential model as a layer\n",
        "x = data_augmentation(inputs)\n",
        "\n",
        "#give base_model the inputs (after augmentation) and dont train it\n",
        "x=base_model(x, training=False)\n",
        "\n",
        "#pool output features of the base model\n",
        "x=layers.GlobalAveragePooling2D(name=\"global_average_pooling_layer\")(x)\n",
        "\n",
        "#put a dense layer on as the output\n",
        "outputs = layers.Dense(10, activation=\"softmax\", name=\"output_layer\") (x)\n",
        "\n",
        "#make a model using the inputs and outputs\n",
        "model_1 = keras.Model(inputs, outputs)\n",
        "\n",
        "#compile the model\n",
        "model_1.compile(loss=\"categorical_crossentropy\",\n",
        "                optimizer=tf.keras.optimizers.Adam(),\n",
        "                metrics=[\"accuracy\"])\n",
        "\n",
        "#fit the model\n",
        "history_1_percent = model_1.fit(train_data_1_percent,\n",
        "                                epochs=5,\n",
        "                                steps_per_epoch=len(train_data_1_percent),\n",
        "                                validation_data=test_data,\n",
        "                                validation_steps=int(0.25*len(test_data)),\n",
        "                                #track model training logs\n",
        "                                callbacks=[create_tensorboard_callback(dir_name=\"transfer_learning\", experiment_name=\"1_percent_data_aug\")])"
      ],
      "metadata": {
        "colab": {
          "base_uri": "https://localhost:8080/"
        },
        "id": "W_MZV4HggB52",
        "outputId": "e442e242-ad75-4d09-cfe3-a137a1e03dd7"
      },
      "execution_count": 25,
      "outputs": [
        {
          "output_type": "stream",
          "name": "stdout",
          "text": [
            "WARNING:tensorflow:Model was constructed with shape (382, 512, 3) for input KerasTensor(type_spec=TensorSpec(shape=(382, 512, 3), dtype=tf.uint8, name='random_flip_input'), name='random_flip_input', description=\"created by layer 'random_flip_input'\"), but it was called on an input with incompatible shape (None, 224, 224, 3).\n",
            "Saving TensorBoard log files to: transfer_learning/1_percent_data_aug/20220222-061447\n",
            "Epoch 1/5\n",
            "WARNING:tensorflow:Model was constructed with shape (382, 512, 3) for input KerasTensor(type_spec=TensorSpec(shape=(382, 512, 3), dtype=tf.uint8, name='random_flip_input'), name='random_flip_input', description=\"created by layer 'random_flip_input'\"), but it was called on an input with incompatible shape (None, 224, 224, 3).\n",
            "WARNING:tensorflow:Model was constructed with shape (382, 512, 3) for input KerasTensor(type_spec=TensorSpec(shape=(382, 512, 3), dtype=tf.uint8, name='random_flip_input'), name='random_flip_input', description=\"created by layer 'random_flip_input'\"), but it was called on an input with incompatible shape (None, 224, 224, 3).\n",
            "3/3 [==============================] - ETA: 0s - loss: 2.4151 - accuracy: 0.0571WARNING:tensorflow:Model was constructed with shape (382, 512, 3) for input KerasTensor(type_spec=TensorSpec(shape=(382, 512, 3), dtype=tf.uint8, name='random_flip_input'), name='random_flip_input', description=\"created by layer 'random_flip_input'\"), but it was called on an input with incompatible shape (None, 224, 224, 3).\n",
            "3/3 [==============================] - 15s 3s/step - loss: 2.4151 - accuracy: 0.0571 - val_loss: 2.4366 - val_accuracy: 0.0806\n",
            "Epoch 2/5\n",
            "3/3 [==============================] - 5s 2s/step - loss: 2.3353 - accuracy: 0.1857 - val_loss: 2.3550 - val_accuracy: 0.1168\n",
            "Epoch 3/5\n",
            "3/3 [==============================] - 8s 3s/step - loss: 2.0815 - accuracy: 0.2429 - val_loss: 2.2557 - val_accuracy: 0.1743\n",
            "Epoch 4/5\n",
            "3/3 [==============================] - 8s 3s/step - loss: 2.0065 - accuracy: 0.4000 - val_loss: 2.1956 - val_accuracy: 0.1826\n",
            "Epoch 5/5\n",
            "3/3 [==============================] - 7s 3s/step - loss: 1.9783 - accuracy: 0.3286 - val_loss: 2.1166 - val_accuracy: 0.2286\n"
          ]
        }
      ]
    },
    {
      "cell_type": "code",
      "source": [
        "model_1.summary()"
      ],
      "metadata": {
        "colab": {
          "base_uri": "https://localhost:8080/"
        },
        "id": "NppMiA-zgNxs",
        "outputId": "c2e918f0-b0ed-46e1-a4ec-b1944016840d"
      },
      "execution_count": 26,
      "outputs": [
        {
          "output_type": "stream",
          "name": "stdout",
          "text": [
            "Model: \"model_1\"\n",
            "_________________________________________________________________\n",
            " Layer (type)                Output Shape              Param #   \n",
            "=================================================================\n",
            " input_layer (InputLayer)    [(None, 224, 224, 3)]     0         \n",
            "                                                                 \n",
            " data_augmentation (Sequenti  (382, 512, 3)            0         \n",
            " al)                                                             \n",
            "                                                                 \n",
            " efficientnetb0 (Functional)  (None, None, None, 1280)  4049571  \n",
            "                                                                 \n",
            " global_average_pooling_laye  (None, 1280)             0         \n",
            " r (GlobalAveragePooling2D)                                      \n",
            "                                                                 \n",
            " output_layer (Dense)        (None, 10)                12810     \n",
            "                                                                 \n",
            "=================================================================\n",
            "Total params: 4,062,381\n",
            "Trainable params: 12,810\n",
            "Non-trainable params: 4,049,571\n",
            "_________________________________________________________________\n"
          ]
        }
      ]
    },
    {
      "cell_type": "code",
      "source": [
        "#Evaluate on the full test dataset\n",
        "results_1_percent_data_aug=model_1.evaluate(test_data)\n",
        "results_1_percent_data_aug"
      ],
      "metadata": {
        "colab": {
          "base_uri": "https://localhost:8080/"
        },
        "id": "a3PlGfs8gKTh",
        "outputId": "b2c6b6fc-7730-4914-d20b-762df3f65c9e"
      },
      "execution_count": 27,
      "outputs": [
        {
          "output_type": "stream",
          "name": "stdout",
          "text": [
            "79/79 [==============================] - 11s 132ms/step - loss: 2.1199 - accuracy: 0.2300\n"
          ]
        },
        {
          "output_type": "execute_result",
          "data": {
            "text/plain": [
              "[2.1199252605438232, 0.23000000417232513]"
            ]
          },
          "metadata": {},
          "execution_count": 27
        }
      ]
    },
    {
      "cell_type": "code",
      "source": [
        "#plot loss curve of the model\n",
        "plot_loss_curves(history_1_percent)"
      ],
      "metadata": {
        "colab": {
          "base_uri": "https://localhost:8080/",
          "height": 573
        },
        "id": "9HNilj9pjp0J",
        "outputId": "f5584645-8fe4-4570-845d-5108a7d27e9c"
      },
      "execution_count": 28,
      "outputs": [
        {
          "output_type": "display_data",
          "data": {
            "image/png": "[encoded data removed]",
            "text/plain": [
              "<Figure size 432x288 with 1 Axes>"
            ]
          },
          "metadata": {
            "needs_background": "light"
          }
        },
        {
          "output_type": "display_data",
          "data": {
            "image/png": "[encoded data removed]",
            "text/plain": [
              "<Figure size 432x288 with 1 Axes>"
            ]
          },
          "metadata": {
            "needs_background": "light"
          }
        }
      ]
    },
    {
      "cell_type": "markdown",
      "source": [
        "## Model 2: Feature extraction transfer learning model with 10% of data and data augmentation."
      ],
      "metadata": {
        "id": "oM96SPhbkTrs"
      }
    },
    {
      "cell_type": "code",
      "source": [
        "train_dir_10_percent= \"10_food_classes_10_percent/train\"\n",
        "test_dir_10_percent=\"10_food_classes_10_percent/test\""
      ],
      "metadata": {
        "id": "6Bm4jWcAiOHS"
      },
      "execution_count": 29,
      "outputs": []
    },
    {
      "cell_type": "code",
      "source": [
        "walk_through_dir(\"10_food_classes_10_percent\")"
      ],
      "metadata": {
        "colab": {
          "base_uri": "https://localhost:8080/"
        },
        "id": "gPa6zxL7iMk2",
        "outputId": "ab1be89f-25e6-4849-8602-88ec3f136737"
      },
      "execution_count": 30,
      "outputs": [
        {
          "output_type": "stream",
          "name": "stdout",
          "text": [
            "There are 2 directories and 0 images in '10_food_classes_10_percent'.\n",
            "There are 10 directories and 0 images in '10_food_classes_10_percent/train'.\n",
            "There are 0 directories and 75 images in '10_food_classes_10_percent/train/pizza'.\n",
            "There are 0 directories and 75 images in '10_food_classes_10_percent/train/fried_rice'.\n",
            "There are 0 directories and 75 images in '10_food_classes_10_percent/train/grilled_salmon'.\n",
            "There are 0 directories and 75 images in '10_food_classes_10_percent/train/hamburger'.\n",
            "There are 0 directories and 75 images in '10_food_classes_10_percent/train/steak'.\n",
            "There are 0 directories and 75 images in '10_food_classes_10_percent/train/sushi'.\n",
            "There are 0 directories and 75 images in '10_food_classes_10_percent/train/chicken_wings'.\n",
            "There are 0 directories and 75 images in '10_food_classes_10_percent/train/ramen'.\n",
            "There are 0 directories and 75 images in '10_food_classes_10_percent/train/ice_cream'.\n",
            "There are 0 directories and 75 images in '10_food_classes_10_percent/train/chicken_curry'.\n",
            "There are 10 directories and 0 images in '10_food_classes_10_percent/test'.\n",
            "There are 0 directories and 250 images in '10_food_classes_10_percent/test/pizza'.\n",
            "There are 0 directories and 250 images in '10_food_classes_10_percent/test/fried_rice'.\n",
            "There are 0 directories and 250 images in '10_food_classes_10_percent/test/grilled_salmon'.\n",
            "There are 0 directories and 250 images in '10_food_classes_10_percent/test/hamburger'.\n",
            "There are 0 directories and 250 images in '10_food_classes_10_percent/test/steak'.\n",
            "There are 0 directories and 250 images in '10_food_classes_10_percent/test/sushi'.\n",
            "There are 0 directories and 250 images in '10_food_classes_10_percent/test/chicken_wings'.\n",
            "There are 0 directories and 250 images in '10_food_classes_10_percent/test/ramen'.\n",
            "There are 0 directories and 250 images in '10_food_classes_10_percent/test/ice_cream'.\n",
            "There are 0 directories and 250 images in '10_food_classes_10_percent/test/chicken_curry'.\n"
          ]
        }
      ]
    },
    {
      "cell_type": "code",
      "source": [
        "#set data inputs\n",
        "import tensorflow as tf\n",
        "IMG_SIZE=(224,224)\n",
        "train_data_10_percent = tf.keras.preprocessing.image_dataset_from_directory(train_dir,\n",
        "                                                                            label_mode=\"categorical\",\n",
        "                                                                            image_size=IMG_SIZE)\n",
        "\n",
        "test_data=tf.keras.preprocessing.image_dataset_from_directory(test_dir,\n",
        "                                                              label_mode=\"categorical\",\n",
        "                                                              image_size=IMG_SIZE)"
      ],
      "metadata": {
        "colab": {
          "base_uri": "https://localhost:8080/"
        },
        "id": "pZkGbTauYzXH",
        "outputId": "ffb7ab56-7202-4a22-b19b-9bbfe3538639"
      },
      "execution_count": 31,
      "outputs": [
        {
          "output_type": "stream",
          "name": "stdout",
          "text": [
            "Found 750 files belonging to 10 classes.\n",
            "Found 2500 files belonging to 10 classes.\n"
          ]
        }
      ]
    },
    {
      "cell_type": "code",
      "source": [
        "#create model 2 with data augmentation \n",
        "from tensorflow.keras import layers\n",
        "from tensorflow.keras.models import Sequential\n",
        "\n",
        "#build data augmentation layer\n",
        "data_augmentation = Sequential([\n",
        "                                layers.RandomFlip(\"horizontal\"),\n",
        "                                layers.RandomRotation(0.2),\n",
        "                                layers.RandomHeight(0.2),\n",
        "                                layers.RandomWidth(0.2),\n",
        "                                layers.RandomZoom(0.2)\n",
        "                                #layers.Rescaling(1./255) #if you are using model ResNet50V2\n",
        "], name=\"data_augmentation\")\n",
        "\n",
        "#setup the input shape into our model\n",
        "input_shape = (224,224,3)\n",
        "\n",
        "#create a frozen base model (also called the backbone)\n",
        "base_model = tf.keras.applications.EfficientNetB0(include_top=False)\n",
        "base_model.trainable = False\n",
        "\n",
        "#create the inputs and outputs (including the layers in between)\n",
        "inputs = layers.Input(shape=input_shape, name=\"input_layer\")\n",
        "x=data_augmentation(inputs) #augment our training images (augmentation doesnt occur on test data)\n",
        "x= base_model(x,training= False) #pass augmented images to base model but keep it in inference mode, this also ensures batchnorm layers are not updated\n",
        "# refer https://keras.io/guides/transfer_learning/\n",
        "x=layers.GlobalAveragePooling2D(name=\"global_average_pooling_2D\")(x)\n",
        "outputs= layers.Dense(10,activation=\"softmax\", name=\"output_layer\")(x)\n",
        "\n",
        "\n",
        "model_2 = tf.keras.Model(inputs, outputs)\n",
        "\n",
        "#compile\n",
        "model_2.compile(loss=\"categorical_crossentropy\",\n",
        "                optimizer=tf.keras.optimizers.Adam(),\n",
        "                metrics=[\"accuracy\"])\n"
      ],
      "metadata": {
        "id": "xsXrwOD5ija1"
      },
      "execution_count": 32,
      "outputs": []
    },
    {
      "cell_type": "markdown",
      "source": [
        "### creating a ModelCheckpoint callback\n",
        "\n",
        "The ModelCheckpoint callback intermediately saves our model (the full model or just the weight) "
      ],
      "metadata": {
        "id": "ExyofEPUm2dl"
      }
    },
    {
      "cell_type": "code",
      "source": [
        "#set checkpoint path\n",
        "checkpoint_path= \"ten_percent_model_checkpoint_weights/checkpoint.ckpt\"\n",
        "\n",
        "#create a ModelCheckpoint callback that saves the model's weights only\n",
        "checkpoint_callback= tf.keras.callbacks.ModelCheckpoint(checkpoint_path,\n",
        "                                                        save_weights_only=True,\n",
        "                                                        save_best_only=False,\n",
        "                                                        save_freq=\"epoch\", #save every epoch\n",
        "                                                        verbose=1)"
      ],
      "metadata": {
        "id": "9wB_Iu4yFsQU"
      },
      "execution_count": 33,
      "outputs": []
    },
    {
      "cell_type": "code",
      "source": [
        "### Fit the model_2 passing in the ModelCheckpoint callback\n",
        "initial_epochs = 5\n",
        "history_10_percent_data_aug = model_2.fit(train_data_10_percent,\n",
        "                                          epochs=initial_epochs,\n",
        "                                          validation_data=test_data,\n",
        "                                          validation_steps=int(0.25*len(test_data)),\n",
        "                                          callbacks=[create_tensorboard_callback(dir_name=\"transfer_learning\",\n",
        "                                                                                 experiment_name=\"10_percent_data_aug\"),\n",
        "                                                     checkpoint_callback])\n"
      ],
      "metadata": {
        "colab": {
          "base_uri": "https://localhost:8080/"
        },
        "id": "dZ3fFwnOGcir",
        "outputId": "34d05aa9-dae4-4671-afad-eccb2745441e"
      },
      "execution_count": 38,
      "outputs": [
        {
          "output_type": "stream",
          "name": "stdout",
          "text": [
            "Saving TensorBoard log files to: transfer_learning/10_percent_data_aug/20220222-063025\n",
            "Epoch 1/5\n",
            "24/24 [==============================] - ETA: 0s - loss: 1.9922 - accuracy: 0.3387\n",
            "Epoch 1: saving model to ten_percent_model_checkpoint_weights/checkpoint.ckpt\n",
            "24/24 [==============================] - 31s 881ms/step - loss: 1.9922 - accuracy: 0.3387 - val_loss: 1.4907 - val_accuracy: 0.6447\n",
            "Epoch 2/5\n",
            "24/24 [==============================] - ETA: 0s - loss: 1.3538 - accuracy: 0.6560\n",
            "Epoch 2: saving model to ten_percent_model_checkpoint_weights/checkpoint.ckpt\n",
            "24/24 [==============================] - 17s 712ms/step - loss: 1.3538 - accuracy: 0.6560 - val_loss: 1.0860 - val_accuracy: 0.7385\n",
            "Epoch 3/5\n",
            "24/24 [==============================] - ETA: 0s - loss: 1.0572 - accuracy: 0.7427\n",
            "Epoch 3: saving model to ten_percent_model_checkpoint_weights/checkpoint.ckpt\n",
            "24/24 [==============================] - 15s 629ms/step - loss: 1.0572 - accuracy: 0.7427 - val_loss: 0.8827 - val_accuracy: 0.7599\n",
            "Epoch 4/5\n",
            "24/24 [==============================] - ETA: 0s - loss: 0.8921 - accuracy: 0.7733\n",
            "Epoch 4: saving model to ten_percent_model_checkpoint_weights/checkpoint.ckpt\n",
            "24/24 [==============================] - 15s 596ms/step - loss: 0.8921 - accuracy: 0.7733 - val_loss: 0.7950 - val_accuracy: 0.7697\n",
            "Epoch 5/5\n",
            "24/24 [==============================] - ETA: 0s - loss: 0.7843 - accuracy: 0.7880\n",
            "Epoch 5: saving model to ten_percent_model_checkpoint_weights/checkpoint.ckpt\n",
            "24/24 [==============================] - 16s 651ms/step - loss: 0.7843 - accuracy: 0.7880 - val_loss: 0.7138 - val_accuracy: 0.7796\n"
          ]
        }
      ]
    },
    {
      "cell_type": "code",
      "source": [
        "results_10_percent_data_aug=model_2.evaluate(test_data)\n",
        "results_10_percent_data_aug"
      ],
      "metadata": {
        "colab": {
          "base_uri": "https://localhost:8080/"
        },
        "id": "nfXmHSsKHRpr",
        "outputId": "ff7b256e-f9dc-48da-b138-2d880b191bb5"
      },
      "execution_count": 41,
      "outputs": [
        {
          "output_type": "stream",
          "name": "stdout",
          "text": [
            "79/79 [==============================] - 12s 142ms/step - loss: 0.7002 - accuracy: 0.8132\n"
          ]
        },
        {
          "output_type": "execute_result",
          "data": {
            "text/plain": [
              "[0.7002434730529785, 0.8131999969482422]"
            ]
          },
          "metadata": {},
          "execution_count": 41
        }
      ]
    },
    {
      "cell_type": "code",
      "source": [
        "plot_loss_curves(history_10_percent_data_aug)"
      ],
      "metadata": {
        "colab": {
          "base_uri": "https://localhost:8080/",
          "height": 573
        },
        "id": "Qi97BGKmIhYk",
        "outputId": "295d4494-9c17-4dc3-a976-a17a0bcaa78d"
      },
      "execution_count": 42,
      "outputs": [
        {
          "output_type": "display_data",
          "data": {
            "image/png": "[encoded data removed]",
            "text/plain": [
              "<Figure size 432x288 with 1 Axes>"
            ]
          },
          "metadata": {
            "needs_background": "light"
          }
        },
        {
          "output_type": "display_data",
          "data": {
            "image/png": "[encoded data removed]",
            "text/plain": [
              "<Figure size 432x288 with 1 Axes>"
            ]
          },
          "metadata": {
            "needs_background": "light"
          }
        }
      ]
    },
    {
      "cell_type": "markdown",
      "source": [
        "### Loading in checkpointed weigth\n",
        "\n",
        "Loading in checkpoint weigths returns a model to a specific checkpoint"
      ],
      "metadata": {
        "id": "hdmYWAunIzKE"
      }
    },
    {
      "cell_type": "code",
      "source": [
        "#Load in saved model weights and evaluate model\n",
        "model_2.load_weights(checkpoint_path)"
      ],
      "metadata": {
        "colab": {
          "base_uri": "https://localhost:8080/"
        },
        "id": "2ZxYLEkNJS3N",
        "outputId": "320e9480-d830-484d-8666-198649fb2e69"
      },
      "execution_count": 43,
      "outputs": [
        {
          "output_type": "execute_result",
          "data": {
            "text/plain": [
              "<tensorflow.python.training.tracking.util.CheckpointLoadStatus at 0x7fdf536f5a90>"
            ]
          },
          "metadata": {},
          "execution_count": 43
        }
      ]
    },
    {
      "cell_type": "code",
      "source": [
        "#Evaluate model_2 with loaded weights\n",
        "loaded_weigths_model_results = model_2.evaluate(test_data)"
      ],
      "metadata": {
        "colab": {
          "base_uri": "https://localhost:8080/"
        },
        "id": "hkL00zdRJfnX",
        "outputId": "e6e6a24a-3dee-43cc-d93b-8e71d7483124"
      },
      "execution_count": 45,
      "outputs": [
        {
          "output_type": "stream",
          "name": "stdout",
          "text": [
            "79/79 [==============================] - 12s 141ms/step - loss: 0.7002 - accuracy: 0.8132\n"
          ]
        }
      ]
    },
    {
      "cell_type": "code",
      "source": [
        "#if  the resutls from our previously evaluated model_2 match the loaded weights, every\n",
        "results_10_percent_data_aug == loaded_weigths_model_results"
      ],
      "metadata": {
        "colab": {
          "base_uri": "https://localhost:8080/"
        },
        "id": "SDNx2c75JowW",
        "outputId": "60dbcda8-ed98-4bd2-c1fc-2bdffa6eef0d"
      },
      "execution_count": 47,
      "outputs": [
        {
          "output_type": "execute_result",
          "data": {
            "text/plain": [
              "False"
            ]
          },
          "metadata": {},
          "execution_count": 47
        }
      ]
    },
    {
      "cell_type": "code",
      "source": [
        "results_10_percent_data_aug"
      ],
      "metadata": {
        "colab": {
          "base_uri": "https://localhost:8080/"
        },
        "id": "CaUPpyNiJ7wm",
        "outputId": "7d55a9b8-6dc0-4b13-83d7-ad88a9c6cdde"
      },
      "execution_count": 48,
      "outputs": [
        {
          "output_type": "execute_result",
          "data": {
            "text/plain": [
              "[0.7002434730529785, 0.8131999969482422]"
            ]
          },
          "metadata": {},
          "execution_count": 48
        }
      ]
    },
    {
      "cell_type": "code",
      "source": [
        "loaded_weigths_model_results"
      ],
      "metadata": {
        "colab": {
          "base_uri": "https://localhost:8080/"
        },
        "id": "DppksPrCKCfI",
        "outputId": "3eb90b7d-f3e7-4b9f-edbf-6ce55b9a82ae"
      },
      "execution_count": 50,
      "outputs": [
        {
          "output_type": "execute_result",
          "data": {
            "text/plain": [
              "[0.7002432346343994, 0.8131999969482422]"
            ]
          },
          "metadata": {},
          "execution_count": 50
        }
      ]
    },
    {
      "cell_type": "code",
      "source": [
        "# Check too see if loaded model results are very close to our previous non-loaded model\n",
        "import numpy as np\n",
        "np.isclose(np.array(results_10_percent_data_aug), np.array(loaded_weigths_model_results))"
      ],
      "metadata": {
        "colab": {
          "base_uri": "https://localhost:8080/"
        },
        "id": "GXfidXqRKGnA",
        "outputId": "2fcb635c-b2fa-49f5-94e2-d51e8eb6864c"
      },
      "execution_count": 52,
      "outputs": [
        {
          "output_type": "execute_result",
          "data": {
            "text/plain": [
              "array([ True,  True])"
            ]
          },
          "metadata": {},
          "execution_count": 52
        }
      ]
    },
    {
      "cell_type": "code",
      "source": [
        "#check the different between 2 results\n",
        "print(np.array(results_10_percent_data_aug)- np.array(loaded_weigths_model_results))"
      ],
      "metadata": {
        "colab": {
          "base_uri": "https://localhost:8080/"
        },
        "id": "0Kf3FBjtKvoT",
        "outputId": "d17279e1-1fe2-4cd8-d0bf-4c8dc3037cab"
      },
      "execution_count": 56,
      "outputs": [
        {
          "output_type": "stream",
          "name": "stdout",
          "text": [
            "[2.38418579e-07 0.00000000e+00]\n"
          ]
        }
      ]
    },
    {
      "cell_type": "markdown",
      "source": [
        "## Model 3: Fine-tuning an existing model on 10% of the data\n",
        "\n",
        "> Fine-tuning usually works best *after* training a feature extraction model for a few epochs with large amount of custom data"
      ],
      "metadata": {
        "id": "MyIcMVEDK-1T"
      }
    },
    {
      "cell_type": "code",
      "source": [
        "#layers in loaded model\n",
        "model_2.layers"
      ],
      "metadata": {
        "colab": {
          "base_uri": "https://localhost:8080/"
        },
        "id": "Sx-UgmQwMehK",
        "outputId": "5c95e9cc-05ca-42e6-d378-5f505a74c90f"
      },
      "execution_count": 57,
      "outputs": [
        {
          "output_type": "execute_result",
          "data": {
            "text/plain": [
              "[<keras.engine.input_layer.InputLayer at 0x7fdfc89bb810>,\n",
              " <keras.engine.sequential.Sequential at 0x7fdfc9e7ff10>,\n",
              " <keras.engine.functional.Functional at 0x7fdfc99a7f10>,\n",
              " <keras.layers.pooling.GlobalAveragePooling2D at 0x7fdfc88b3f50>,\n",
              " <keras.layers.core.dense.Dense at 0x7fdfc8e39790>]"
            ]
          },
          "metadata": {},
          "execution_count": 57
        }
      ]
    },
    {
      "cell_type": "code",
      "source": [
        "#are these layers trainable?\n",
        "for layer in model_2.layers:\n",
        "  print(layer, layer.trainable)"
      ],
      "metadata": {
        "colab": {
          "base_uri": "https://localhost:8080/"
        },
        "id": "3Ojf0WuWMmn5",
        "outputId": "f5bca5f3-2018-4be2-b81b-95dad7e2f0ce"
      },
      "execution_count": 59,
      "outputs": [
        {
          "output_type": "stream",
          "name": "stdout",
          "text": [
            "<keras.engine.input_layer.InputLayer object at 0x7fdfc89bb810> True\n",
            "<keras.engine.sequential.Sequential object at 0x7fdfc9e7ff10> True\n",
            "<keras.engine.functional.Functional object at 0x7fdfc99a7f10> False\n",
            "<keras.layers.pooling.GlobalAveragePooling2D object at 0x7fdfc88b3f50> True\n",
            "<keras.layers.core.dense.Dense object at 0x7fdfc8e39790> True\n"
          ]
        }
      ]
    },
    {
      "cell_type": "code",
      "source": [
        "#what layers are in our base_model (EfficientNetB0) and are they trainable\n",
        "for i, layer in enumerate(model_2.layers[2].layers):\n",
        "  print(i, layer, layer.name, layer.trainable)"
      ],
      "metadata": {
        "colab": {
          "base_uri": "https://localhost:8080/"
        },
        "id": "EaPQq3hJMyFn",
        "outputId": "b0fd0e96-10d6-489b-cf90-29a89c66a872"
      },
      "execution_count": 61,
      "outputs": [
        {
          "output_type": "stream",
          "name": "stdout",
          "text": [
            "0 <keras.engine.input_layer.InputLayer object at 0x7fdfc89bb650> input_3 False\n",
            "1 <keras.layers.preprocessing.image_preprocessing.Rescaling object at 0x7fdfc89bbc50> rescaling_2 False\n",
            "2 <keras.layers.preprocessing.normalization.Normalization object at 0x7fdfc89bbe50> normalization_2 False\n",
            "3 <keras.layers.convolutional.ZeroPadding2D object at 0x7fdfc7999850> stem_conv_pad False\n",
            "4 <keras.layers.convolutional.Conv2D object at 0x7fdfc9ec4b50> stem_conv False\n",
            "5 <keras.layers.normalization.batch_normalization.BatchNormalization object at 0x7fdfc89bbcd0> stem_bn False\n",
            "6 <keras.layers.core.activation.Activation object at 0x7fdfc9e93410> stem_activation False\n",
            "7 <keras.layers.convolutional.DepthwiseConv2D object at 0x7fdfc9e9fb90> block1a_dwconv False\n",
            "8 <keras.layers.normalization.batch_normalization.BatchNormalization object at 0x7fdfc9df9a10> block1a_bn False\n",
            "9 <keras.layers.core.activation.Activation object at 0x7fdfc9e9e8d0> block1a_activation False\n",
            "10 <keras.layers.pooling.GlobalAveragePooling2D object at 0x7fdfc9dfee10> block1a_se_squeeze False\n",
            "11 <keras.layers.core.reshape.Reshape object at 0x7fdfc9e0d510> block1a_se_reshape False\n",
            "12 <keras.layers.convolutional.Conv2D object at 0x7fdfc9e12fd0> block1a_se_reduce False\n",
            "13 <keras.layers.convolutional.Conv2D object at 0x7fdfc9e937d0> block1a_se_expand False\n",
            "14 <keras.layers.merge.Multiply object at 0x7fdfc9e215d0> block1a_se_excite False\n",
            "15 <keras.layers.convolutional.Conv2D object at 0x7fdfc9e24210> block1a_project_conv False\n",
            "16 <keras.layers.normalization.batch_normalization.BatchNormalization object at 0x7fdfc9e2ac10> block1a_project_bn False\n",
            "17 <keras.layers.convolutional.Conv2D object at 0x7fdfc9e32110> block2a_expand_conv False\n",
            "18 <keras.layers.normalization.batch_normalization.BatchNormalization object at 0x7fdfc9db7c50> block2a_expand_bn False\n",
            "19 <keras.layers.core.activation.Activation object at 0x7fdfc9dbc350> block2a_expand_activation False\n",
            "20 <keras.layers.convolutional.ZeroPadding2D object at 0x7fdfc9e2ae90> block2a_dwconv_pad False\n",
            "21 <keras.layers.convolutional.DepthwiseConv2D object at 0x7fdfc9dcf350> block2a_dwconv False\n",
            "22 <keras.layers.normalization.batch_normalization.BatchNormalization object at 0x7fdfc9dc3610> block2a_bn False\n",
            "23 <keras.layers.core.activation.Activation object at 0x7fdfc9dd2b50> block2a_activation False\n",
            "24 <keras.layers.pooling.GlobalAveragePooling2D object at 0x7fdfc9dd6710> block2a_se_squeeze False\n",
            "25 <keras.layers.core.reshape.Reshape object at 0x7fdfc9de6350> block2a_se_reshape False\n",
            "26 <keras.layers.convolutional.Conv2D object at 0x7fdfc9dde250> block2a_se_reduce False\n",
            "27 <keras.layers.convolutional.Conv2D object at 0x7fdfc9deca10> block2a_se_expand False\n",
            "28 <keras.layers.merge.Multiply object at 0x7fdfc9d79610> block2a_se_excite False\n",
            "29 <keras.layers.convolutional.Conv2D object at 0x7fdfc9dd2dd0> block2a_project_conv False\n",
            "30 <keras.layers.normalization.batch_normalization.BatchNormalization object at 0x7fdfc9d83b90> block2a_project_bn False\n",
            "31 <keras.layers.convolutional.Conv2D object at 0x7fdfc9d92990> block2b_expand_conv False\n",
            "32 <keras.layers.normalization.batch_normalization.BatchNormalization object at 0x7fdfc9d8d850> block2b_expand_bn False\n",
            "33 <keras.layers.core.activation.Activation object at 0x7fdfc9dec310> block2b_expand_activation False\n",
            "34 <keras.layers.convolutional.DepthwiseConv2D object at 0x7fdfc9e01f50> block2b_dwconv False\n",
            "35 <keras.layers.normalization.batch_normalization.BatchNormalization object at 0x7fdfc9e2aa10> block2b_bn False\n",
            "36 <keras.layers.core.activation.Activation object at 0x7fdfc9e9e210> block2b_activation False\n",
            "37 <keras.layers.pooling.GlobalAveragePooling2D object at 0x7fdfc89bbfd0> block2b_se_squeeze False\n",
            "38 <keras.layers.core.reshape.Reshape object at 0x7fdfc891ac50> block2b_se_reshape False\n",
            "39 <keras.layers.convolutional.Conv2D object at 0x7fdfc9dfe610> block2b_se_reduce False\n",
            "40 <keras.layers.convolutional.Conv2D object at 0x7fdfc9d9f590> block2b_se_expand False\n",
            "41 <keras.layers.merge.Multiply object at 0x7fdfc9dc7290> block2b_se_excite False\n",
            "42 <keras.layers.convolutional.Conv2D object at 0x7fdfc9e9ee10> block2b_project_conv False\n",
            "43 <keras.layers.normalization.batch_normalization.BatchNormalization object at 0x7fdfc9dade90> block2b_project_bn False\n",
            "44 <keras.layers.core.dropout.Dropout object at 0x7fdfc9d37f50> block2b_drop False\n",
            "45 <keras.layers.merge.Add object at 0x7fdfc9db3cd0> block2b_add False\n",
            "46 <keras.layers.convolutional.Conv2D object at 0x7fdfc9d3d690> block3a_expand_conv False\n",
            "47 <keras.layers.normalization.batch_normalization.BatchNormalization object at 0x7fdfc9d47150> block3a_expand_bn False\n",
            "48 <keras.layers.core.activation.Activation object at 0x7fdfc9d4c390> block3a_expand_activation False\n",
            "49 <keras.layers.convolutional.ZeroPadding2D object at 0x7fdfc9d47590> block3a_dwconv_pad False\n",
            "50 <keras.layers.convolutional.DepthwiseConv2D object at 0x7fdfc9d58e90> block3a_dwconv False\n",
            "51 <keras.layers.normalization.batch_normalization.BatchNormalization object at 0x7fdfc9d605d0> block3a_bn False\n",
            "52 <keras.layers.core.activation.Activation object at 0x7fdfc9d60950> block3a_activation False\n",
            "53 <keras.layers.pooling.GlobalAveragePooling2D object at 0x7fdfc9d5dc90> block3a_se_squeeze False\n",
            "54 <keras.layers.core.reshape.Reshape object at 0x7fdfc9cf9250> block3a_se_reshape False\n",
            "55 <keras.layers.convolutional.Conv2D object at 0x7fdfc9d70450> block3a_se_reduce False\n",
            "56 <keras.layers.convolutional.Conv2D object at 0x7fdfc9cffa10> block3a_se_expand False\n",
            "57 <keras.layers.merge.Multiply object at 0x7fdfc9d10510> block3a_se_excite False\n",
            "58 <keras.layers.convolutional.Conv2D object at 0x7fdfc9cffb90> block3a_project_conv False\n",
            "59 <keras.layers.normalization.batch_normalization.BatchNormalization object at 0x7fdfc9d18ad0> block3a_project_bn False\n",
            "60 <keras.layers.convolutional.Conv2D object at 0x7fdfc9d1be10> block3b_expand_conv False\n",
            "61 <keras.layers.normalization.batch_normalization.BatchNormalization object at 0x7fdfc9d28110> block3b_expand_bn False\n",
            "62 <keras.layers.core.activation.Activation object at 0x7fdfc9d2d110> block3b_expand_activation False\n",
            "63 <keras.layers.convolutional.DepthwiseConv2D object at 0x7fdfc9cbad50> block3b_dwconv False\n",
            "64 <keras.layers.normalization.batch_normalization.BatchNormalization object at 0x7fdfc9d32dd0> block3b_bn False\n",
            "65 <keras.layers.core.activation.Activation object at 0x7fdfc9cc43d0> block3b_activation False\n",
            "66 <keras.layers.pooling.GlobalAveragePooling2D object at 0x7fdfc9cc8850> block3b_se_squeeze False\n",
            "67 <keras.layers.core.reshape.Reshape object at 0x7fdfc9ccf790> block3b_se_reshape False\n",
            "68 <keras.layers.convolutional.Conv2D object at 0x7fdfc9d28f90> block3b_se_reduce False\n",
            "69 <keras.layers.convolutional.Conv2D object at 0x7fdfc9d1b3d0> block3b_se_expand False\n",
            "70 <keras.layers.merge.Multiply object at 0x7fdfc9ce5a90> block3b_se_excite False\n",
            "71 <keras.layers.convolutional.Conv2D object at 0x7fdfc9d32190> block3b_project_conv False\n",
            "72 <keras.layers.normalization.batch_normalization.BatchNormalization object at 0x7fdfc9d32e50> block3b_project_bn False\n",
            "73 <keras.layers.core.dropout.Dropout object at 0x7fdfc9d21090> block3b_drop False\n",
            "74 <keras.layers.merge.Add object at 0x7fdfc9d45fd0> block3b_add False\n",
            "75 <keras.layers.convolutional.Conv2D object at 0x7fdfc9cf9910> block4a_expand_conv False\n",
            "76 <keras.layers.normalization.batch_normalization.BatchNormalization object at 0x7fdfc9cdb510> block4a_expand_bn False\n",
            "77 <keras.layers.core.activation.Activation object at 0x7fdfc9e9e590> block4a_expand_activation False\n",
            "78 <keras.layers.convolutional.ZeroPadding2D object at 0x7fdfc9d37610> block4a_dwconv_pad False\n",
            "79 <keras.layers.convolutional.DepthwiseConv2D object at 0x7fdfc9da9b10> block4a_dwconv False\n",
            "80 <keras.layers.normalization.batch_normalization.BatchNormalization object at 0x7fdfc9d37310> block4a_bn False\n",
            "81 <keras.layers.core.activation.Activation object at 0x7fdfc9d37590> block4a_activation False\n",
            "82 <keras.layers.pooling.GlobalAveragePooling2D object at 0x7fdfc9c78350> block4a_se_squeeze False\n",
            "83 <keras.layers.core.reshape.Reshape object at 0x7fdfc9c7efd0> block4a_se_reshape False\n",
            "84 <keras.layers.convolutional.Conv2D object at 0x7fdfc9c789d0> block4a_se_reduce False\n",
            "85 <keras.layers.convolutional.Conv2D object at 0x7fdfc9d10dd0> block4a_se_expand False\n",
            "86 <keras.layers.merge.Multiply object at 0x7fdfc9c9c0d0> block4a_se_excite False\n",
            "87 <keras.layers.convolutional.Conv2D object at 0x7fdfc9c93150> block4a_project_conv False\n",
            "88 <keras.layers.normalization.batch_normalization.BatchNormalization object at 0x7fdfc9c93190> block4a_project_bn False\n",
            "89 <keras.layers.convolutional.Conv2D object at 0x7fdfc9cac290> block4b_expand_conv False\n",
            "90 <keras.layers.normalization.batch_normalization.BatchNormalization object at 0x7fdfc9ca0950> block4b_expand_bn False\n",
            "91 <keras.layers.core.activation.Activation object at 0x7fdfc9cac9d0> block4b_expand_activation False\n",
            "92 <keras.layers.convolutional.DepthwiseConv2D object at 0x7fdfc9c3b9d0> block4b_dwconv False\n",
            "93 <keras.layers.normalization.batch_normalization.BatchNormalization object at 0x7fdfc9c41650> block4b_bn False\n",
            "94 <keras.layers.core.activation.Activation object at 0x7fdfc9c37190> block4b_activation False\n",
            "95 <keras.layers.pooling.GlobalAveragePooling2D object at 0x7fdfc9c54710> block4b_se_squeeze False\n",
            "96 <keras.layers.core.reshape.Reshape object at 0x7fdfc9c49f10> block4b_se_reshape False\n",
            "97 <keras.layers.convolutional.Conv2D object at 0x7fdfc9c7ec50> block4b_se_reduce False\n",
            "98 <keras.layers.convolutional.Conv2D object at 0x7fdfc9ca5850> block4b_se_expand False\n",
            "99 <keras.layers.merge.Multiply object at 0x7fdfc9c6b150> block4b_se_excite False\n",
            "100 <keras.layers.convolutional.Conv2D object at 0x7fdfc9c70510> block4b_project_conv False\n",
            "101 <keras.layers.normalization.batch_normalization.BatchNormalization object at 0x7fdfc9c6b790> block4b_project_bn False\n",
            "102 <keras.layers.core.dropout.Dropout object at 0x7fdfc9c05210> block4b_drop False\n",
            "103 <keras.layers.merge.Add object at 0x7fdfc9cf9a10> block4b_add False\n",
            "104 <keras.layers.convolutional.Conv2D object at 0x7fdfc9c00910> block4c_expand_conv False\n",
            "105 <keras.layers.normalization.batch_normalization.BatchNormalization object at 0x7fdfc9bfba10> block4c_expand_bn False\n",
            "106 <keras.layers.core.activation.Activation object at 0x7fdfc9c054d0> block4c_expand_activation False\n",
            "107 <keras.layers.convolutional.DepthwiseConv2D object at 0x7fdfc9c2a5d0> block4c_dwconv False\n",
            "108 <keras.layers.normalization.batch_normalization.BatchNormalization object at 0x7fdfc9c2a9d0> block4c_bn False\n",
            "109 <keras.layers.core.activation.Activation object at 0x7fdfc9c2ab50> block4c_activation False\n",
            "110 <keras.layers.pooling.GlobalAveragePooling2D object at 0x7fdfc9c27950> block4c_se_squeeze False\n",
            "111 <keras.layers.core.reshape.Reshape object at 0x7fdfc9bbd090> block4c_se_reshape False\n",
            "112 <keras.layers.convolutional.Conv2D object at 0x7fdfc9c0aa50> block4c_se_reduce False\n",
            "113 <keras.layers.convolutional.Conv2D object at 0x7fdfc9c00390> block4c_se_expand False\n",
            "114 <keras.layers.merge.Multiply object at 0x7fdfc9ca0c90> block4c_se_excite False\n",
            "115 <keras.layers.convolutional.Conv2D object at 0x7fdfc9c6bf50> block4c_project_conv False\n",
            "116 <keras.layers.normalization.batch_normalization.BatchNormalization object at 0x7fdfc9c0af10> block4c_project_bn False\n",
            "117 <keras.layers.core.dropout.Dropout object at 0x7fdfc9c83f90> block4c_drop False\n",
            "118 <keras.layers.merge.Add object at 0x7fdfc9dada90> block4c_add False\n",
            "119 <keras.layers.convolutional.Conv2D object at 0x7fdfc9dadd10> block5a_expand_conv False\n",
            "120 <keras.layers.normalization.batch_normalization.BatchNormalization object at 0x7fdfc9c6bad0> block5a_expand_bn False\n",
            "121 <keras.layers.core.activation.Activation object at 0x7fdfc9bd3190> block5a_expand_activation False\n",
            "122 <keras.layers.convolutional.DepthwiseConv2D object at 0x7fdfc9c93710> block5a_dwconv False\n",
            "123 <keras.layers.normalization.batch_normalization.BatchNormalization object at 0x7fdfc9bd3110> block5a_bn False\n",
            "124 <keras.layers.core.activation.Activation object at 0x7fdfc9bc2690> block5a_activation False\n",
            "125 <keras.layers.pooling.GlobalAveragePooling2D object at 0x7fdfc9bda350> block5a_se_squeeze False\n",
            "126 <keras.layers.core.reshape.Reshape object at 0x7fdfc9bdc450> block5a_se_reshape False\n",
            "127 <keras.layers.convolutional.Conv2D object at 0x7fdfc9bdd190> block5a_se_reduce False\n",
            "128 <keras.layers.convolutional.Conv2D object at 0x7fdfc9d10e50> block5a_se_expand False\n",
            "129 <keras.layers.merge.Multiply object at 0x7fdfc9bf3c50> block5a_se_excite False\n",
            "130 <keras.layers.convolutional.Conv2D object at 0x7fdfc9b7e0d0> block5a_project_conv False\n",
            "131 <keras.layers.normalization.batch_normalization.BatchNormalization object at 0x7fdfc9bf3a90> block5a_project_bn False\n",
            "132 <keras.layers.convolutional.Conv2D object at 0x7fdfc9b8df90> block5b_expand_conv False\n",
            "133 <keras.layers.normalization.batch_normalization.BatchNormalization object at 0x7fdfc9b7ee50> block5b_expand_bn False\n",
            "134 <keras.layers.core.activation.Activation object at 0x7fdfc9b8df50> block5b_expand_activation False\n",
            "135 <keras.layers.convolutional.DepthwiseConv2D object at 0x7fdfc9b91dd0> block5b_dwconv False\n",
            "136 <keras.layers.normalization.batch_normalization.BatchNormalization object at 0x7fdfc9ba2b10> block5b_bn False\n",
            "137 <keras.layers.core.activation.Activation object at 0x7fdfc9ba2190> block5b_activation False\n",
            "138 <keras.layers.pooling.GlobalAveragePooling2D object at 0x7fdfc9baf490> block5b_se_squeeze False\n",
            "139 <keras.layers.core.reshape.Reshape object at 0x7fdfc9b36110> block5b_se_reshape False\n",
            "140 <keras.layers.convolutional.Conv2D object at 0x7fdfc9b36310> block5b_se_reduce False\n",
            "141 <keras.layers.convolutional.Conv2D object at 0x7fdfc9b7f690> block5b_se_expand False\n",
            "142 <keras.layers.merge.Multiply object at 0x7fdfc9b48d90> block5b_se_excite False\n",
            "143 <keras.layers.convolutional.Conv2D object at 0x7fdfc9b4fe50> block5b_project_conv False\n",
            "144 <keras.layers.normalization.batch_normalization.BatchNormalization object at 0x7fdfc9b4f990> block5b_project_bn False\n",
            "145 <keras.layers.core.dropout.Dropout object at 0x7fdfc9b60210> block5b_drop False\n",
            "146 <keras.layers.merge.Add object at 0x7fdfc9dad8d0> block5b_add False\n",
            "147 <keras.layers.convolutional.Conv2D object at 0x7fdfc9b71410> block5c_expand_conv False\n",
            "148 <keras.layers.normalization.batch_normalization.BatchNormalization object at 0x7fdfc9afccd0> block5c_expand_bn False\n",
            "149 <keras.layers.core.activation.Activation object at 0x7fdfc9afc4d0> block5c_expand_activation False\n",
            "150 <keras.layers.convolutional.DepthwiseConv2D object at 0x7fdfc9afca90> block5c_dwconv False\n",
            "151 <keras.layers.normalization.batch_normalization.BatchNormalization object at 0x7fdfc9b0cbd0> block5c_bn False\n",
            "152 <keras.layers.core.activation.Activation object at 0x7fdfc9b71cd0> block5c_activation False\n",
            "153 <keras.layers.pooling.GlobalAveragePooling2D object at 0x7fdfc9b0cc50> block5c_se_squeeze False\n",
            "154 <keras.layers.core.reshape.Reshape object at 0x7fdfc9b60a50> block5c_se_reshape False\n",
            "155 <keras.layers.convolutional.Conv2D object at 0x7fdfc9b6a750> block5c_se_reduce False\n",
            "156 <keras.layers.convolutional.Conv2D object at 0x7fdfc9b7eed0> block5c_se_expand False\n",
            "157 <keras.layers.merge.Multiply object at 0x7fdfc9ba2290> block5c_se_excite False\n",
            "158 <keras.layers.convolutional.Conv2D object at 0x7fdfc9b60390> block5c_project_conv False\n",
            "159 <keras.layers.normalization.batch_normalization.BatchNormalization object at 0x7fdfc9b8dcd0> block5c_project_bn False\n",
            "160 <keras.layers.core.dropout.Dropout object at 0x7fdfc9d53d10> block5c_drop False\n",
            "161 <keras.layers.merge.Add object at 0x7fdfc9b10150> block5c_add False\n",
            "162 <keras.layers.convolutional.Conv2D object at 0x7fdfc9c85250> block6a_expand_conv False\n",
            "163 <keras.layers.normalization.batch_normalization.BatchNormalization object at 0x7fdfc9c93850> block6a_expand_bn False\n",
            "164 <keras.layers.core.activation.Activation object at 0x7fdfc9b1b510> block6a_expand_activation False\n",
            "165 <keras.layers.convolutional.ZeroPadding2D object at 0x7fdfc9b187d0> block6a_dwconv_pad False\n",
            "166 <keras.layers.convolutional.DepthwiseConv2D object at 0x7fdfc9da9a10> block6a_dwconv False\n",
            "167 <keras.layers.normalization.batch_normalization.BatchNormalization object at 0x7fdfc9b16c50> block6a_bn False\n",
            "168 <keras.layers.core.activation.Activation object at 0x7fdfc9b29810> block6a_activation False\n",
            "169 <keras.layers.pooling.GlobalAveragePooling2D object at 0x7fdfc9ac4490> block6a_se_squeeze False\n",
            "170 <keras.layers.core.reshape.Reshape object at 0x7fdfc9b1bf10> block6a_se_reshape False\n",
            "171 <keras.layers.convolutional.Conv2D object at 0x7fdfc9ac4810> block6a_se_reduce False\n",
            "172 <keras.layers.convolutional.Conv2D object at 0x7fdfc9b168d0> block6a_se_expand False\n",
            "173 <keras.layers.merge.Multiply object at 0x7fdfc9ad9a90> block6a_se_excite False\n",
            "174 <keras.layers.convolutional.Conv2D object at 0x7fdfc9ac40d0> block6a_project_conv False\n",
            "175 <keras.layers.normalization.batch_normalization.BatchNormalization object at 0x7fdfc9c7ed90> block6a_project_bn False\n",
            "176 <keras.layers.convolutional.Conv2D object at 0x7fdfc9ae0ed0> block6b_expand_conv False\n",
            "177 <keras.layers.normalization.batch_normalization.BatchNormalization object at 0x7fdfc9ae9250> block6b_expand_bn False\n",
            "178 <keras.layers.core.activation.Activation object at 0x7fdfc9af2850> block6b_expand_activation False\n",
            "179 <keras.layers.convolutional.DepthwiseConv2D object at 0x7fdfc9a7ef90> block6b_dwconv False\n",
            "180 <keras.layers.normalization.batch_normalization.BatchNormalization object at 0x7fdfc9b18510> block6b_bn False\n",
            "181 <keras.layers.core.activation.Activation object at 0x7fdfc9a7ee50> block6b_activation False\n",
            "182 <keras.layers.pooling.GlobalAveragePooling2D object at 0x7fdfc9ac0e50> block6b_se_squeeze False\n",
            "183 <keras.layers.core.reshape.Reshape object at 0x7fdfc9b18750> block6b_se_reshape False\n",
            "184 <keras.layers.convolutional.Conv2D object at 0x7fdfc9a94c10> block6b_se_reduce False\n",
            "185 <keras.layers.convolutional.Conv2D object at 0x7fdfc9ae9d90> block6b_se_expand False\n",
            "186 <keras.layers.merge.Multiply object at 0x7fdfc9aa9050> block6b_se_excite False\n",
            "187 <keras.layers.convolutional.Conv2D object at 0x7fdfc9a8d790> block6b_project_conv False\n",
            "188 <keras.layers.normalization.batch_normalization.BatchNormalization object at 0x7fdfc9af5350> block6b_project_bn False\n",
            "189 <keras.layers.core.dropout.Dropout object at 0x7fdfc9ab1f10> block6b_drop False\n",
            "190 <keras.layers.merge.Add object at 0x7fdfc9c1b710> block6b_add False\n",
            "191 <keras.layers.convolutional.Conv2D object at 0x7fdfc9a3c6d0> block6c_expand_conv False\n",
            "192 <keras.layers.normalization.batch_normalization.BatchNormalization object at 0x7fdfc9a95f50> block6c_expand_bn False\n",
            "193 <keras.layers.core.activation.Activation object at 0x7fdfc9a51450> block6c_expand_activation False\n",
            "194 <keras.layers.convolutional.DepthwiseConv2D object at 0x7fdfc9a4c2d0> block6c_dwconv False\n",
            "195 <keras.layers.normalization.batch_normalization.BatchNormalization object at 0x7fdfc9aa9ed0> block6c_bn False\n",
            "196 <keras.layers.core.activation.Activation object at 0x7fdfc9a4c710> block6c_activation False\n",
            "197 <keras.layers.pooling.GlobalAveragePooling2D object at 0x7fdfc9a84150> block6c_se_squeeze False\n",
            "198 <keras.layers.core.reshape.Reshape object at 0x7fdfc9ac0d90> block6c_se_reshape False\n",
            "199 <keras.layers.convolutional.Conv2D object at 0x7fdfc9aa9e10> block6c_se_reduce False\n",
            "200 <keras.layers.convolutional.Conv2D object at 0x7fdfc9a95a90> block6c_se_expand False\n",
            "201 <keras.layers.merge.Multiply object at 0x7fdfc9a36d90> block6c_se_excite False\n",
            "202 <keras.layers.convolutional.Conv2D object at 0x7fdfc9a58950> block6c_project_conv False\n",
            "203 <keras.layers.normalization.batch_normalization.BatchNormalization object at 0x7fdfc9b91910> block6c_project_bn False\n",
            "204 <keras.layers.core.dropout.Dropout object at 0x7fdfc9a6a810> block6c_drop False\n",
            "205 <keras.layers.merge.Add object at 0x7fdfc9a3c490> block6c_add False\n",
            "206 <keras.layers.convolutional.Conv2D object at 0x7fdfc9a61210> block6d_expand_conv False\n",
            "207 <keras.layers.normalization.batch_normalization.BatchNormalization object at 0x7fdfc99fce90> block6d_expand_bn False\n",
            "208 <keras.layers.core.activation.Activation object at 0x7fdfc99fcdd0> block6d_expand_activation False\n",
            "209 <keras.layers.convolutional.DepthwiseConv2D object at 0x7fdfc9a73150> block6d_dwconv False\n",
            "210 <keras.layers.normalization.batch_normalization.BatchNormalization object at 0x7fdfc9a0cfd0> block6d_bn False\n",
            "211 <keras.layers.core.activation.Activation object at 0x7fdfc9a71210> block6d_activation False\n",
            "212 <keras.layers.pooling.GlobalAveragePooling2D object at 0x7fdfc9a0ce50> block6d_se_squeeze False\n",
            "213 <keras.layers.core.reshape.Reshape object at 0x7fdfc9a73d50> block6d_se_reshape False\n",
            "214 <keras.layers.convolutional.Conv2D object at 0x7fdfc9ab6cd0> block6d_se_reduce False\n",
            "215 <keras.layers.convolutional.Conv2D object at 0x7fdfc9a5e810> block6d_se_expand False\n",
            "216 <keras.layers.merge.Multiply object at 0x7fdfc9a1c090> block6d_se_excite False\n",
            "217 <keras.layers.convolutional.Conv2D object at 0x7fdfc9a29e50> block6d_project_conv False\n",
            "218 <keras.layers.normalization.batch_normalization.BatchNormalization object at 0x7fdfc9a22150> block6d_project_bn False\n",
            "219 <keras.layers.core.dropout.Dropout object at 0x7fdfc99bcfd0> block6d_drop False\n",
            "220 <keras.layers.merge.Add object at 0x7fdfc9a61dd0> block6d_add False\n",
            "221 <keras.layers.convolutional.Conv2D object at 0x7fdfc99d4e10> block7a_expand_conv False\n",
            "222 <keras.layers.normalization.batch_normalization.BatchNormalization object at 0x7fdfc99b9350> block7a_expand_bn False\n",
            "223 <keras.layers.core.activation.Activation object at 0x7fdfc99c4c90> block7a_expand_activation False\n",
            "224 <keras.layers.convolutional.DepthwiseConv2D object at 0x7fdfc99e0190> block7a_dwconv False\n",
            "225 <keras.layers.normalization.batch_normalization.BatchNormalization object at 0x7fdfc99d47d0> block7a_bn False\n",
            "226 <keras.layers.core.activation.Activation object at 0x7fdfc99e0a50> block7a_activation False\n",
            "227 <keras.layers.pooling.GlobalAveragePooling2D object at 0x7fdfc997ae10> block7a_se_squeeze False\n",
            "228 <keras.layers.core.reshape.Reshape object at 0x7fdfc99c9910> block7a_se_reshape False\n",
            "229 <keras.layers.convolutional.Conv2D object at 0x7fdfc997a9d0> block7a_se_reduce False\n",
            "230 <keras.layers.convolutional.Conv2D object at 0x7fdfc99d4ed0> block7a_se_expand False\n",
            "231 <keras.layers.merge.Multiply object at 0x7fdfc9988650> block7a_se_excite False\n",
            "232 <keras.layers.convolutional.Conv2D object at 0x7fdfc9981e90> block7a_project_conv False\n",
            "233 <keras.layers.normalization.batch_normalization.BatchNormalization object at 0x7fdfc99ecb50> block7a_project_bn False\n",
            "234 <keras.layers.convolutional.Conv2D object at 0x7fdfc9e837d0> top_conv False\n",
            "235 <keras.layers.normalization.batch_normalization.BatchNormalization object at 0x7fdfc9981a50> top_bn False\n",
            "236 <keras.layers.core.activation.Activation object at 0x7fdfc998de10> top_activation False\n"
          ]
        }
      ]
    },
    {
      "cell_type": "code",
      "source": [
        "#how many trainable variables are in our base model?\n",
        "print(len(model_2.layers[2].trainable_variables))"
      ],
      "metadata": {
        "colab": {
          "base_uri": "https://localhost:8080/"
        },
        "id": "oO1Gm4TCNR5h",
        "outputId": "c2b28053-7a81-40dc-c335-f49ffac26da5"
      },
      "execution_count": 62,
      "outputs": [
        {
          "output_type": "stream",
          "name": "stdout",
          "text": [
            "0\n"
          ]
        }
      ]
    },
    {
      "cell_type": "code",
      "source": [
        "#To begin fine-tuning, lets start by setting the last 10 layers of our base_model.trainable= True\n",
        "base_model.trainable = True\n",
        "\n",
        "#Freeze all layers except for the last 10\n",
        "for layer in base_model.layers[:-10]:\n",
        "  layer.trainable = False\n",
        "\n",
        "#recompile (we have to recompile our models every time we make a change)\n",
        "model_2.compile(loss=\"categorical_crossentropy\",\n",
        "                optimizer=tf.keras.optimizers.Adam(lr=0.0001), #when fine-tuning you typically want to lower teh learning rate by 10x*\n",
        "                metrics=[\"accuracy\"])\n",
        "\n"
      ],
      "metadata": {
        "id": "z3o3-uhKNpmH"
      },
      "execution_count": 66,
      "outputs": []
    },
    {
      "cell_type": "markdown",
      "source": [
        "> **Note** when using fine-tuning it is best practice to lower ur leaning rate by some amount. this is a hyperparameter you can tune but a good rule of thumb is atleast 10x (though different sources will claim other values).\n",
        "source: https://arxiv.org/abs/1801.06146"
      ],
      "metadata": {
        "id": "Lbg93iFUPevG"
      }
    },
    {
      "cell_type": "code",
      "source": [
        "#check which layers are tunable (trainable)\n",
        "for layer_number, layer in enumerate(model_2.layers[2].layers):\n",
        "  print(layer_number, layer.name, layer.trainable)"
      ],
      "metadata": {
        "colab": {
          "base_uri": "https://localhost:8080/"
        },
        "id": "Rqixsr7POgZP",
        "outputId": "0edce96d-2fc3-4091-b03e-e94c4ef6b10a"
      },
      "execution_count": 68,
      "outputs": [
        {
          "output_type": "stream",
          "name": "stdout",
          "text": [
            "0 input_3 False\n",
            "1 rescaling_2 False\n",
            "2 normalization_2 False\n",
            "3 stem_conv_pad False\n",
            "4 stem_conv False\n",
            "5 stem_bn False\n",
            "6 stem_activation False\n",
            "7 block1a_dwconv False\n",
            "8 block1a_bn False\n",
            "9 block1a_activation False\n",
            "10 block1a_se_squeeze False\n",
            "11 block1a_se_reshape False\n",
            "12 block1a_se_reduce False\n",
            "13 block1a_se_expand False\n",
            "14 block1a_se_excite False\n",
            "15 block1a_project_conv False\n",
            "16 block1a_project_bn False\n",
            "17 block2a_expand_conv False\n",
            "18 block2a_expand_bn False\n",
            "19 block2a_expand_activation False\n",
            "20 block2a_dwconv_pad False\n",
            "21 block2a_dwconv False\n",
            "22 block2a_bn False\n",
            "23 block2a_activation False\n",
            "24 block2a_se_squeeze False\n",
            "25 block2a_se_reshape False\n",
            "26 block2a_se_reduce False\n",
            "27 block2a_se_expand False\n",
            "28 block2a_se_excite False\n",
            "29 block2a_project_conv False\n",
            "30 block2a_project_bn False\n",
            "31 block2b_expand_conv False\n",
            "32 block2b_expand_bn False\n",
            "33 block2b_expand_activation False\n",
            "34 block2b_dwconv False\n",
            "35 block2b_bn False\n",
            "36 block2b_activation False\n",
            "37 block2b_se_squeeze False\n",
            "38 block2b_se_reshape False\n",
            "39 block2b_se_reduce False\n",
            "40 block2b_se_expand False\n",
            "41 block2b_se_excite False\n",
            "42 block2b_project_conv False\n",
            "43 block2b_project_bn False\n",
            "44 block2b_drop False\n",
            "45 block2b_add False\n",
            "46 block3a_expand_conv False\n",
            "47 block3a_expand_bn False\n",
            "48 block3a_expand_activation False\n",
            "49 block3a_dwconv_pad False\n",
            "50 block3a_dwconv False\n",
            "51 block3a_bn False\n",
            "52 block3a_activation False\n",
            "53 block3a_se_squeeze False\n",
            "54 block3a_se_reshape False\n",
            "55 block3a_se_reduce False\n",
            "56 block3a_se_expand False\n",
            "57 block3a_se_excite False\n",
            "58 block3a_project_conv False\n",
            "59 block3a_project_bn False\n",
            "60 block3b_expand_conv False\n",
            "61 block3b_expand_bn False\n",
            "62 block3b_expand_activation False\n",
            "63 block3b_dwconv False\n",
            "64 block3b_bn False\n",
            "65 block3b_activation False\n",
            "66 block3b_se_squeeze False\n",
            "67 block3b_se_reshape False\n",
            "68 block3b_se_reduce False\n",
            "69 block3b_se_expand False\n",
            "70 block3b_se_excite False\n",
            "71 block3b_project_conv False\n",
            "72 block3b_project_bn False\n",
            "73 block3b_drop False\n",
            "74 block3b_add False\n",
            "75 block4a_expand_conv False\n",
            "76 block4a_expand_bn False\n",
            "77 block4a_expand_activation False\n",
            "78 block4a_dwconv_pad False\n",
            "79 block4a_dwconv False\n",
            "80 block4a_bn False\n",
            "81 block4a_activation False\n",
            "82 block4a_se_squeeze False\n",
            "83 block4a_se_reshape False\n",
            "84 block4a_se_reduce False\n",
            "85 block4a_se_expand False\n",
            "86 block4a_se_excite False\n",
            "87 block4a_project_conv False\n",
            "88 block4a_project_bn False\n",
            "89 block4b_expand_conv False\n",
            "90 block4b_expand_bn False\n",
            "91 block4b_expand_activation False\n",
            "92 block4b_dwconv False\n",
            "93 block4b_bn False\n",
            "94 block4b_activation False\n",
            "95 block4b_se_squeeze False\n",
            "96 block4b_se_reshape False\n",
            "97 block4b_se_reduce False\n",
            "98 block4b_se_expand False\n",
            "99 block4b_se_excite False\n",
            "100 block4b_project_conv False\n",
            "101 block4b_project_bn False\n",
            "102 block4b_drop False\n",
            "103 block4b_add False\n",
            "104 block4c_expand_conv False\n",
            "105 block4c_expand_bn False\n",
            "106 block4c_expand_activation False\n",
            "107 block4c_dwconv False\n",
            "108 block4c_bn False\n",
            "109 block4c_activation False\n",
            "110 block4c_se_squeeze False\n",
            "111 block4c_se_reshape False\n",
            "112 block4c_se_reduce False\n",
            "113 block4c_se_expand False\n",
            "114 block4c_se_excite False\n",
            "115 block4c_project_conv False\n",
            "116 block4c_project_bn False\n",
            "117 block4c_drop False\n",
            "118 block4c_add False\n",
            "119 block5a_expand_conv False\n",
            "120 block5a_expand_bn False\n",
            "121 block5a_expand_activation False\n",
            "122 block5a_dwconv False\n",
            "123 block5a_bn False\n",
            "124 block5a_activation False\n",
            "125 block5a_se_squeeze False\n",
            "126 block5a_se_reshape False\n",
            "127 block5a_se_reduce False\n",
            "128 block5a_se_expand False\n",
            "129 block5a_se_excite False\n",
            "130 block5a_project_conv False\n",
            "131 block5a_project_bn False\n",
            "132 block5b_expand_conv False\n",
            "133 block5b_expand_bn False\n",
            "134 block5b_expand_activation False\n",
            "135 block5b_dwconv False\n",
            "136 block5b_bn False\n",
            "137 block5b_activation False\n",
            "138 block5b_se_squeeze False\n",
            "139 block5b_se_reshape False\n",
            "140 block5b_se_reduce False\n",
            "141 block5b_se_expand False\n",
            "142 block5b_se_excite False\n",
            "143 block5b_project_conv False\n",
            "144 block5b_project_bn False\n",
            "145 block5b_drop False\n",
            "146 block5b_add False\n",
            "147 block5c_expand_conv False\n",
            "148 block5c_expand_bn False\n",
            "149 block5c_expand_activation False\n",
            "150 block5c_dwconv False\n",
            "151 block5c_bn False\n",
            "152 block5c_activation False\n",
            "153 block5c_se_squeeze False\n",
            "154 block5c_se_reshape False\n",
            "155 block5c_se_reduce False\n",
            "156 block5c_se_expand False\n",
            "157 block5c_se_excite False\n",
            "158 block5c_project_conv False\n",
            "159 block5c_project_bn False\n",
            "160 block5c_drop False\n",
            "161 block5c_add False\n",
            "162 block6a_expand_conv False\n",
            "163 block6a_expand_bn False\n",
            "164 block6a_expand_activation False\n",
            "165 block6a_dwconv_pad False\n",
            "166 block6a_dwconv False\n",
            "167 block6a_bn False\n",
            "168 block6a_activation False\n",
            "169 block6a_se_squeeze False\n",
            "170 block6a_se_reshape False\n",
            "171 block6a_se_reduce False\n",
            "172 block6a_se_expand False\n",
            "173 block6a_se_excite False\n",
            "174 block6a_project_conv False\n",
            "175 block6a_project_bn False\n",
            "176 block6b_expand_conv False\n",
            "177 block6b_expand_bn False\n",
            "178 block6b_expand_activation False\n",
            "179 block6b_dwconv False\n",
            "180 block6b_bn False\n",
            "181 block6b_activation False\n",
            "182 block6b_se_squeeze False\n",
            "183 block6b_se_reshape False\n",
            "184 block6b_se_reduce False\n",
            "185 block6b_se_expand False\n",
            "186 block6b_se_excite False\n",
            "187 block6b_project_conv False\n",
            "188 block6b_project_bn False\n",
            "189 block6b_drop False\n",
            "190 block6b_add False\n",
            "191 block6c_expand_conv False\n",
            "192 block6c_expand_bn False\n",
            "193 block6c_expand_activation False\n",
            "194 block6c_dwconv False\n",
            "195 block6c_bn False\n",
            "196 block6c_activation False\n",
            "197 block6c_se_squeeze False\n",
            "198 block6c_se_reshape False\n",
            "199 block6c_se_reduce False\n",
            "200 block6c_se_expand False\n",
            "201 block6c_se_excite False\n",
            "202 block6c_project_conv False\n",
            "203 block6c_project_bn False\n",
            "204 block6c_drop False\n",
            "205 block6c_add False\n",
            "206 block6d_expand_conv False\n",
            "207 block6d_expand_bn False\n",
            "208 block6d_expand_activation False\n",
            "209 block6d_dwconv False\n",
            "210 block6d_bn False\n",
            "211 block6d_activation False\n",
            "212 block6d_se_squeeze False\n",
            "213 block6d_se_reshape False\n",
            "214 block6d_se_reduce False\n",
            "215 block6d_se_expand False\n",
            "216 block6d_se_excite False\n",
            "217 block6d_project_conv False\n",
            "218 block6d_project_bn False\n",
            "219 block6d_drop False\n",
            "220 block6d_add False\n",
            "221 block7a_expand_conv False\n",
            "222 block7a_expand_bn False\n",
            "223 block7a_expand_activation False\n",
            "224 block7a_dwconv False\n",
            "225 block7a_bn False\n",
            "226 block7a_activation False\n",
            "227 block7a_se_squeeze True\n",
            "228 block7a_se_reshape True\n",
            "229 block7a_se_reduce True\n",
            "230 block7a_se_expand True\n",
            "231 block7a_se_excite True\n",
            "232 block7a_project_conv True\n",
            "233 block7a_project_bn True\n",
            "234 top_conv True\n",
            "235 top_bn True\n",
            "236 top_activation True\n"
          ]
        }
      ]
    },
    {
      "cell_type": "code",
      "source": [
        "#now we unfrozen some of the layers closer to the top, how many trainable variables\n",
        "print(len(model_2.trainable_variables))"
      ],
      "metadata": {
        "colab": {
          "base_uri": "https://localhost:8080/"
        },
        "id": "eDPkCkIUPEYH",
        "outputId": "7b727c11-a5ac-411a-988b-033594804fa1"
      },
      "execution_count": 69,
      "outputs": [
        {
          "output_type": "stream",
          "name": "stdout",
          "text": [
            "12\n"
          ]
        }
      ]
    },
    {
      "cell_type": "code",
      "source": [
        "model_2.trainable_variables"
      ],
      "metadata": {
        "colab": {
          "base_uri": "https://localhost:8080/"
        },
        "id": "fLErd8PRQkBu",
        "outputId": "aa27c10f-c637-4fff-a1ca-a7829c428537"
      },
      "execution_count": 70,
      "outputs": [
        {
          "output_type": "execute_result",
          "data": {
            "text/plain": [
              "[<tf.Variable 'block7a_se_reduce/kernel:0' shape=(1, 1, 1152, 48) dtype=float32, numpy=\n",
              " array([[[[-0.05485657,  0.07178846,  0.01534605, ..., -0.09284662,\n",
              "            0.0104828 , -0.02693838],\n",
              "          [-0.03157939,  0.02819107, -0.05579546, ...,  0.00487578,\n",
              "            0.12001809, -0.06901816],\n",
              "          [-0.07792544,  0.12601745,  0.03935236, ...,  0.03086486,\n",
              "           -0.01581392,  0.1306234 ],\n",
              "          ...,\n",
              "          [-0.07692936,  0.19920062,  0.17471024, ...,  0.03312391,\n",
              "           -0.04528928, -0.09214652],\n",
              "          [ 0.01010198,  0.06855008,  0.05820991, ...,  0.00131649,\n",
              "           -0.08952942, -0.00476829],\n",
              "          [ 0.03583075, -0.01228165,  0.04561347, ..., -0.00822134,\n",
              "           -0.07354517, -0.06507882]]]], dtype=float32)>,\n",
              " <tf.Variable 'block7a_se_reduce/bias:0' shape=(48,) dtype=float32, numpy=\n",
              " array([-0.10886215, -0.13624744, -0.15257476,  0.14799541, -0.08512902,\n",
              "        -0.12059905, -0.08779966, -0.08187538, -0.06925284, -0.12518929,\n",
              "        -0.0819265 , -0.1259736 , -0.09993652, -0.10109923, -0.13398036,\n",
              "        -0.09867296, -0.09382621, -0.11011569, -0.1063069 , -0.09003814,\n",
              "        -0.04766154, -0.06743164, -0.13778378, -0.10579358, -0.10130141,\n",
              "        -0.13948615,  0.13246794, -0.03255463, -0.11809722, -0.04813838,\n",
              "        -0.13148174, -0.05429332, -0.0448516 , -0.11129897, -0.08523702,\n",
              "        -0.13361962, -0.07146074, -0.13821687, -0.0614575 , -0.02393492,\n",
              "        -0.08265438, -0.13204956, -0.10251977, -0.12446474, -0.1350065 ,\n",
              "        -0.06927117, -0.07627591, -0.08064308], dtype=float32)>,\n",
              " <tf.Variable 'block7a_se_expand/kernel:0' shape=(1, 1, 48, 1152) dtype=float32, numpy=\n",
              " array([[[[ 0.01703347, -0.09556078, -0.12866898, ..., -0.11176323,\n",
              "           -0.12041699,  0.07214174],\n",
              "          [ 0.11851509,  0.09440814, -0.07513665, ..., -0.10720892,\n",
              "            0.15331012,  0.00920153],\n",
              "          [-0.03525457, -0.05621038,  0.03370081, ...,  0.0058019 ,\n",
              "            0.08038238,  0.02380909],\n",
              "          ...,\n",
              "          [-0.16428104,  0.14296436, -0.07728611, ..., -0.03546136,\n",
              "            0.03369582, -0.19963196],\n",
              "          [-0.01133208, -0.0060606 ,  0.10776694, ...,  0.01572948,\n",
              "           -0.06349678, -0.05537278],\n",
              "          [-0.09189203, -0.05271737, -0.08292874, ..., -0.03266691,\n",
              "           -0.15144289, -0.13922407]]]], dtype=float32)>,\n",
              " <tf.Variable 'block7a_se_expand/bias:0' shape=(1152,) dtype=float32, numpy=\n",
              " array([ 0.04515592,  0.0518708 ,  0.08215576, ..., -0.02809454,\n",
              "         0.06679371,  0.14091711], dtype=float32)>,\n",
              " <tf.Variable 'block7a_project_conv/kernel:0' shape=(1, 1, 1152, 320) dtype=float32, numpy=\n",
              " array([[[[ 0.04719412, -0.03508057,  0.18866068, ...,  0.00667723,\n",
              "            0.01607844, -0.06703078],\n",
              "          [-0.10309057,  0.01945817,  0.03923143, ..., -0.09136088,\n",
              "            0.07520416,  0.09395675],\n",
              "          [-0.0786793 ,  0.02817695, -0.03047303, ...,  0.01593926,\n",
              "            0.13013661, -0.05727762],\n",
              "          ...,\n",
              "          [ 0.01056576, -0.02389853,  0.15035501, ...,  0.04682408,\n",
              "            0.03543943, -0.0752975 ],\n",
              "          [-0.06144901, -0.0928897 ,  0.05499939, ...,  0.16682369,\n",
              "            0.08615127, -0.02209447],\n",
              "          [-0.04315694,  0.1413447 ,  0.00528443, ..., -0.00220996,\n",
              "            0.1894294 , -0.11107358]]]], dtype=float32)>,\n",
              " <tf.Variable 'block7a_project_bn/gamma:0' shape=(320,) dtype=float32, numpy=\n",
              " array([2.6341524, 3.6408505, 2.6395326, 2.6145833, 2.6313312, 2.6202953,\n",
              "        2.5319185, 2.5870585, 2.688308 , 2.6000342, 2.9978335, 2.537907 ,\n",
              "        2.6381385, 2.716591 , 2.558281 , 2.4929833, 2.644765 , 2.462597 ,\n",
              "        2.6660817, 2.5237637, 2.6011422, 2.824746 , 2.5168786, 2.5305552,\n",
              "        2.7185206, 2.7899334, 2.682837 , 2.5672472, 2.4950414, 2.607678 ,\n",
              "        2.6045194, 2.5780609, 2.63664  , 2.5805535, 2.5575125, 2.5273108,\n",
              "        2.5634987, 2.7832053, 2.6418092, 2.604934 , 2.5325363, 2.6006708,\n",
              "        2.6354814, 2.5668874, 2.7951095, 2.646076 , 3.0281844, 2.6361535,\n",
              "        3.1250885, 2.635435 , 2.5462308, 2.6689003, 2.5725474, 2.5831702,\n",
              "        2.5835443, 2.656816 , 2.5504594, 2.6580045, 2.642674 , 2.548922 ,\n",
              "        2.5658593, 2.5088289, 2.8326697, 2.6741598, 2.724444 , 2.6740642,\n",
              "        2.6301656, 2.6501355, 2.5464098, 2.584042 , 2.5088935, 2.6053326,\n",
              "        2.548359 , 2.742098 , 2.6033902, 2.5825214, 2.6483955, 2.685057 ,\n",
              "        2.6903856, 2.7595356, 2.6767306, 2.650072 , 2.6561706, 2.6387742,\n",
              "        2.5386903, 2.6601446, 2.585036 , 2.581829 , 2.493314 , 2.5478692,\n",
              "        2.7056026, 2.5470285, 2.6166646, 2.7911394, 2.5091803, 2.5457087,\n",
              "        2.4962032, 2.616603 , 2.8938844, 2.5239155, 2.5611029, 2.5762894,\n",
              "        2.6258383, 2.7690558, 2.6246526, 2.573153 , 2.63151  , 2.6664348,\n",
              "        2.5510879, 2.633915 , 2.5973866, 2.6333516, 2.5894468, 2.5375085,\n",
              "        2.7006404, 2.6648164, 2.5562012, 2.6261616, 2.5598128, 2.515569 ,\n",
              "        2.643523 , 2.6532161, 2.7102292, 2.5004933, 2.8885357, 2.5730307,\n",
              "        2.6309655, 2.5566099, 2.542208 , 2.5430515, 2.95321  , 2.530806 ,\n",
              "        2.6387343, 2.610428 , 2.580837 , 2.6031556, 2.668818 , 2.549356 ,\n",
              "        2.6471393, 2.5472634, 2.669148 , 2.59522  , 2.6507857, 2.4828112,\n",
              "        2.601118 , 2.593023 , 2.549623 , 2.534933 , 2.7077003, 2.5183656,\n",
              "        2.6026828, 2.985571 , 2.6405106, 2.7155428, 2.5788558, 2.6546528,\n",
              "        2.5677054, 2.4542222, 2.7947254, 2.5911338, 2.6567724, 2.5698543,\n",
              "        2.50019  , 2.5938528, 2.6083398, 2.5553062, 2.5281339, 2.5907693,\n",
              "        2.5921338, 2.6407883, 2.5940228, 2.6011744, 2.6939318, 2.5788543,\n",
              "        2.611848 , 2.5353673, 2.5492253, 2.6692536, 2.5442774, 2.6057358,\n",
              "        2.545667 , 2.699785 , 2.5898273, 2.6510255, 2.6357298, 2.5392187,\n",
              "        3.0744135, 2.5465763, 2.62727  , 2.8991907, 2.6765053, 2.5408316,\n",
              "        2.6696007, 2.663587 , 2.6330073, 2.6307907, 2.557663 , 2.6597102,\n",
              "        2.7168522, 3.0360131, 2.4636025, 2.5911775, 2.6008296, 2.6731155,\n",
              "        2.6936364, 2.716485 , 2.680393 , 2.7018907, 2.7021012, 2.5174494,\n",
              "        2.604642 , 2.6076188, 2.6755745, 2.5452864, 2.5664885, 2.8462067,\n",
              "        2.7362747, 2.666304 , 2.5056198, 2.5951312, 2.5824764, 2.6146016,\n",
              "        2.642559 , 2.5692267, 2.792615 , 2.6337516, 2.4910922, 2.6466959,\n",
              "        2.6380413, 2.5529966, 2.565908 , 2.5560148, 2.640346 , 2.6173239,\n",
              "        2.6475196, 2.6759052, 3.218808 , 2.5925794, 2.5743115, 2.6601744,\n",
              "        2.6724327, 2.631072 , 2.562081 , 2.5806832, 2.512028 , 2.6604302,\n",
              "        2.5478892, 2.5730498, 2.6972325, 2.5915775, 2.6661477, 2.6339667,\n",
              "        2.6636207, 2.5320785, 2.6257393, 2.622644 , 2.508248 , 2.6330373,\n",
              "        2.599642 , 2.6596751, 2.6126783, 2.6051974, 2.652374 , 2.6319253,\n",
              "        2.8959923, 2.6422274, 2.6246538, 2.4762268, 2.631236 , 2.4831147,\n",
              "        2.6260679, 2.519754 , 2.619554 , 2.8796465, 2.614829 , 2.58701  ,\n",
              "        2.5688565, 2.6110027, 2.6058009, 2.5786552, 2.6547408, 2.5492873,\n",
              "        2.6010828, 2.8261983, 2.5328765, 2.689091 , 2.5229828, 2.5879102,\n",
              "        2.7365847, 2.7272425, 2.6959665, 2.6330662, 2.5203118, 2.688423 ,\n",
              "        2.5512888, 3.3626828, 2.5781293, 2.50825  , 2.5737724, 2.621484 ,\n",
              "        2.6324031, 2.6176171, 2.5813835, 2.5144784, 2.633849 , 2.8199816,\n",
              "        2.6682093, 2.599474 , 2.6375234, 2.684862 , 2.525223 , 2.6976318,\n",
              "        2.6058314, 2.5276728, 2.4987195, 2.572669 , 2.5587776, 2.5677974,\n",
              "        2.838972 , 2.619664 ], dtype=float32)>,\n",
              " <tf.Variable 'block7a_project_bn/beta:0' shape=(320,) dtype=float32, numpy=\n",
              " array([ 2.72746431e-04, -4.64200834e-03,  1.81363500e-03, -1.35792862e-03,\n",
              "        -1.83621727e-04,  7.23875011e-04, -7.06277788e-04, -3.28818336e-04,\n",
              "        -1.00322848e-03,  5.77372033e-04, -3.32189701e-03, -8.64792033e-04,\n",
              "         1.79181120e-03, -8.18454195e-04, -1.69087423e-03,  2.51508714e-03,\n",
              "        -1.26882526e-03, -3.69476293e-05, -2.75014690e-03, -3.24349292e-03,\n",
              "         2.12383200e-03, -9.11651237e-04, -2.34528631e-03, -1.68305065e-03,\n",
              "        -7.17351562e-04,  2.03338059e-04, -1.06290297e-03, -1.05257204e-03,\n",
              "         7.56997324e-04,  8.66741582e-04,  4.24314709e-03,  5.80201682e-04,\n",
              "        -1.42630236e-03,  3.64625268e-03,  1.12341705e-03,  1.69936311e-03,\n",
              "         1.08880980e-03,  4.06244246e-04,  1.67966017e-03, -3.07304901e-04,\n",
              "         2.56448926e-04, -2.74889544e-03, -2.60693108e-04,  6.29616028e-04,\n",
              "         5.18684392e-04,  5.06498793e-04, -1.75745424e-03, -2.50845333e-03,\n",
              "         3.29580111e-03,  2.34114681e-03,  1.78862875e-03, -1.96675933e-03,\n",
              "        -2.85300863e-04,  2.95514881e-04,  1.76551077e-03,  2.14295986e-04,\n",
              "        -2.74702528e-04, -4.98560366e-05, -2.33496467e-05,  6.49673748e-05,\n",
              "         3.62340477e-04, -9.65728366e-04, -2.40365812e-03, -3.28422553e-04,\n",
              "         1.72259891e-03, -9.60275298e-04, -1.24948169e-03, -1.23629603e-03,\n",
              "        -4.82999487e-04,  1.66278379e-03, -1.42891321e-03, -8.51270393e-04,\n",
              "         2.50486657e-03,  1.03739847e-03,  4.44977719e-04, -4.01280500e-04,\n",
              "        -6.51122653e-04,  7.47022335e-04, -1.48657290e-03,  5.63821697e-04,\n",
              "        -2.27600569e-03,  1.02134841e-03,  1.50884001e-03, -4.78561968e-04,\n",
              "        -2.13380903e-04,  3.12323740e-04,  1.69344270e-03,  7.68164638e-04,\n",
              "        -1.42305926e-03, -1.06511544e-03,  8.57689520e-05, -1.03630626e-03,\n",
              "        -5.28990058e-04, -6.56761054e-04, -1.05450675e-03,  1.19510374e-03,\n",
              "        -3.83046397e-04, -2.39993151e-05, -6.99702534e-04, -1.11313257e-03,\n",
              "         1.15426502e-03, -3.16569209e-03,  1.56251244e-05, -5.30554564e-04,\n",
              "        -1.35117490e-03, -1.99875431e-04, -1.27230806e-03,  3.45696841e-04,\n",
              "        -1.73765479e-03,  8.10689293e-04, -7.09120708e-04,  1.19463378e-03,\n",
              "        -1.29504187e-03, -1.42769760e-03, -2.05490855e-03,  3.33959106e-05,\n",
              "        -9.67560452e-04,  2.18152488e-03,  2.38515713e-05,  4.46808335e-05,\n",
              "        -2.04296876e-03, -1.20915414e-03, -9.56242220e-05,  4.59675764e-04,\n",
              "         3.40061216e-03,  2.13403418e-03, -5.79986838e-04,  1.29770138e-03,\n",
              "        -1.09179609e-03,  9.54744522e-04, -8.50354671e-04, -1.00062031e-03,\n",
              "         1.42553748e-04,  3.43387743e-04, -5.74955542e-04, -2.38789900e-04,\n",
              "        -1.63314794e-03,  1.01994854e-04,  2.63368245e-03,  1.79869402e-03,\n",
              "        -1.25590130e-03, -2.92626093e-03,  9.38380021e-04, -3.11836222e-04,\n",
              "        -4.31053893e-04, -1.59043982e-03,  1.84826949e-03,  1.48812158e-03,\n",
              "        -2.77693220e-03, -8.86596739e-04, -2.36758046e-04, -7.58587732e-04,\n",
              "         1.39371923e-03, -4.49905143e-04,  5.05587144e-04, -9.97542636e-04,\n",
              "         1.03000528e-03,  2.86184740e-03, -1.79313810e-03, -6.55176118e-04,\n",
              "        -2.65727611e-03,  7.20865792e-04,  1.30724453e-03, -4.23565325e-05,\n",
              "         6.62169245e-04, -4.66128025e-04,  2.81012943e-03,  1.82552508e-03,\n",
              "         5.87477058e-04, -4.03790065e-04,  8.74075748e-04,  7.78581234e-05,\n",
              "         1.90386223e-03, -1.54897827e-03,  2.25501688e-04,  5.10995567e-04,\n",
              "         2.55123922e-03,  8.13688268e-04, -7.14337279e-04, -5.06902405e-04,\n",
              "         2.85416422e-03,  7.83873023e-04, -1.10656860e-04,  9.32446972e-04,\n",
              "         2.40951893e-03, -6.86718326e-04, -2.52255704e-03,  2.18124787e-05,\n",
              "         1.05487206e-05,  8.27186217e-04, -1.75172405e-03, -1.25424110e-03,\n",
              "         8.82197171e-04, -5.65536728e-04, -1.00640114e-03, -3.75324744e-04,\n",
              "         1.51518488e-03, -1.22928934e-04,  8.04806245e-04,  4.69992170e-04,\n",
              "        -5.85276866e-04, -1.16747025e-04, -3.51934647e-03,  1.32238166e-03,\n",
              "         1.72750279e-03,  2.94423138e-04,  2.98701430e-04,  4.09114582e-04,\n",
              "        -5.18784160e-04, -2.73050228e-03,  1.59792858e-03,  2.05026925e-04,\n",
              "         7.29332387e-04, -8.44324881e-04,  1.73368491e-03, -1.31481164e-03,\n",
              "        -1.38368423e-03,  3.16325552e-03,  1.51809235e-03,  8.39646265e-04,\n",
              "         6.18721606e-05, -2.25067860e-03, -1.54738067e-04,  7.56336085e-04,\n",
              "        -1.71400257e-03,  6.03145338e-04, -5.99783496e-04,  9.78035154e-04,\n",
              "        -2.15801597e-03,  9.26407811e-04,  6.17332407e-04,  2.00839248e-03,\n",
              "         3.08294198e-03, -7.05075916e-04,  3.08018411e-03, -2.07686680e-03,\n",
              "        -3.42484983e-03,  8.07445089e-04, -1.29282055e-03, -1.24681287e-03,\n",
              "         6.63550978e-04,  1.38722942e-03, -1.00464269e-03,  2.45917181e-04,\n",
              "        -1.47426047e-03, -2.40818423e-04,  2.99509428e-03,  1.09945354e-03,\n",
              "         8.59148684e-04,  1.50627500e-06, -1.17584574e-03,  4.68704355e-04,\n",
              "         8.43120288e-05,  1.58117816e-03,  1.44869217e-03, -1.08577078e-03,\n",
              "        -9.88185639e-04,  2.09095539e-03,  1.32484653e-03, -1.08445913e-03,\n",
              "        -8.18771659e-04, -1.73332344e-03, -6.66451058e-04, -1.59535231e-03,\n",
              "         3.21470387e-03,  1.90356874e-03,  7.54604407e-04, -2.53299979e-04,\n",
              "         1.34878664e-03, -1.87308283e-03,  1.15370855e-03, -1.05404225e-03,\n",
              "        -1.19788572e-03,  1.14590931e-03,  1.14154675e-04, -5.62238798e-04,\n",
              "         1.96290808e-03,  8.19200242e-04, -1.13923859e-03, -1.30361354e-03,\n",
              "         1.50869356e-03, -1.18403800e-03, -2.32256460e-03,  1.89215309e-04,\n",
              "        -4.54480432e-05, -1.98359881e-03,  1.85492670e-03, -2.23364055e-04,\n",
              "        -8.34366656e-04,  2.03655963e-03,  1.67561357e-03,  1.62004714e-03,\n",
              "        -3.21354310e-04,  3.61894118e-03, -5.57434803e-04, -1.67479762e-03,\n",
              "         1.03459624e-03,  4.82435600e-04, -2.24323105e-03, -1.16618583e-03,\n",
              "         1.39774487e-03, -3.93694296e-04,  1.31923391e-03, -8.33242026e-04,\n",
              "        -1.68927254e-05, -2.22254661e-03, -4.09675704e-04,  2.92616361e-03,\n",
              "        -1.78410482e-04, -1.21830043e-03,  3.88241722e-03,  7.66222889e-04,\n",
              "        -1.43284255e-04, -1.88554521e-03,  8.52050260e-04,  1.40042137e-03,\n",
              "         2.37329234e-03,  7.15036993e-04, -2.30495381e-04,  3.50229093e-03],\n",
              "       dtype=float32)>,\n",
              " <tf.Variable 'top_conv/kernel:0' shape=(1, 1, 320, 1280) dtype=float32, numpy=\n",
              " array([[[[ 0.010654  ,  0.04302309, -0.05814039, ...,  0.07820047,\n",
              "            0.09309781,  0.13512692],\n",
              "          [ 0.18291403,  0.0635317 ,  0.1210966 , ...,  0.10852515,\n",
              "            0.09180524,  0.25709218],\n",
              "          [-0.01965742,  0.02730735,  0.02497241, ...,  0.10817309,\n",
              "            0.11124102,  0.03874104],\n",
              "          ...,\n",
              "          [ 0.16707249,  0.0034612 , -0.04011405, ...,  0.07070784,\n",
              "           -0.03778364,  0.04866563],\n",
              "          [-0.03250833, -0.03533007, -0.08403775, ..., -0.04473848,\n",
              "           -0.06186406,  0.05368444],\n",
              "          [ 0.14157134, -0.01509961, -0.20079431, ..., -0.10574265,\n",
              "           -0.04939263,  0.04458737]]]], dtype=float32)>,\n",
              " <tf.Variable 'top_bn/gamma:0' shape=(1280,) dtype=float32, numpy=\n",
              " array([2.656564 , 2.543096 , 2.3632998, ..., 2.7232573, 2.503377 ,\n",
              "        2.161115 ], dtype=float32)>,\n",
              " <tf.Variable 'top_bn/beta:0' shape=(1280,) dtype=float32, numpy=\n",
              " array([-2.2949498, -2.3487396, -2.0764754, ..., -2.4685047, -2.2737474,\n",
              "        -1.4324068], dtype=float32)>,\n",
              " <tf.Variable 'output_layer/kernel:0' shape=(1280, 10) dtype=float32, numpy=\n",
              " array([[ 0.04983557,  0.00784205,  0.08517055, ..., -0.02554137,\n",
              "          0.04037173, -0.02953984],\n",
              "        [-0.01930522, -0.07988089, -0.08896879, ...,  0.1218079 ,\n",
              "         -0.03645183,  0.07869203],\n",
              "        [-0.06038741, -0.01396644, -0.00517175, ..., -0.03202038,\n",
              "          0.01887826, -0.02761613],\n",
              "        ...,\n",
              "        [-0.06462142, -0.0439635 ,  0.05492442, ..., -0.07159676,\n",
              "          0.0365442 ,  0.04322017],\n",
              "        [ 0.01616838, -0.00130407, -0.05714859, ...,  0.0140974 ,\n",
              "          0.09305404, -0.04052152],\n",
              "        [ 0.01315106, -0.00295165, -0.01771628, ...,  0.03117989,\n",
              "         -0.04045472,  0.06273655]], dtype=float32)>,\n",
              " <tf.Variable 'output_layer/bias:0' shape=(10,) dtype=float32, numpy=\n",
              " array([ 0.00135452, -0.00743153,  0.01087829, -0.0097507 , -0.00502936,\n",
              "         0.0120069 ,  0.01493845, -0.00215668, -0.00947046, -0.01095531],\n",
              "       dtype=float32)>]"
            ]
          },
          "metadata": {},
          "execution_count": 70
        }
      ]
    },
    {
      "cell_type": "code",
      "source": [
        ""
      ],
      "metadata": {
        "id": "gYaNnlfAQpe9"
      },
      "execution_count": null,
      "outputs": []
    }
  ]
}